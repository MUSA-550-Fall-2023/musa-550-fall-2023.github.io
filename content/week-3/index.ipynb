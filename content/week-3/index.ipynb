{
  "cells": [
    {
      "cell_type": "raw",
      "metadata": {},
      "source": [
        "---\n",
        "title: \"Week 3: Geospatial Data Analysis and GeoPandas\"\n",
        "execute: \n",
        "  echo: false\n",
        "---"
      ],
      "id": "6584eb65"
    },
    {
      "cell_type": "raw",
      "metadata": {},
      "source": [
        "---\n",
        "execute: \n",
        "  echo: false\n",
        "---"
      ],
      "id": "35923f81"
    },
    {
      "cell_type": "code",
      "metadata": {},
      "source": [
        "import sys\n",
        "from pyprojroot.here import here\n",
        "from IPython import get_ipython\n",
        "\n",
        "# Add python folder to path\n",
        "root_dir = here()\n",
        "sys.path.insert(1, str(root_dir / \"python\"))\n",
        "import content\n",
        "\n",
        "\n",
        "# Get week info for rendered page from folder\n",
        "ip = get_ipython()\n",
        "path = ip.starting_dir\n",
        "slug = path.split(\"/\")[-1]  # Should be week-X\n",
        "\n",
        "# Create the header HTML\n",
        "table = content.create_header(slug)\n",
        "table"
      ],
      "id": "7219cb98",
      "execution_count": null,
      "outputs": []
    }
  ],
  "metadata": {
    "kernelspec": {
      "name": "python3",
      "language": "python",
      "display_name": "Python 3"
    }
  },
  "nbformat": 4,
  "nbformat_minor": 5
}