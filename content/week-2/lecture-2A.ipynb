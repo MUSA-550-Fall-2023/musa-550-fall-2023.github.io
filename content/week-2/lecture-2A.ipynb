{
 "cells": [
  {
   "cell_type": "markdown",
   "metadata": {},
   "source": [
    "---\n",
    "toc: false\n",
    "page-layout: full\n",
    "---"
   ]
  },
  {
   "cell_type": "markdown",
   "metadata": {
    "slideshow": {
     "slide_type": "slide"
    }
   },
   "source": [
    "# Week 2: Data Visualization Fundamentals\n",
    "\n",
    "- Section 401\n",
    "- Sep 11, 2023"
   ]
  },
  {
   "cell_type": "markdown",
   "metadata": {
    "slideshow": {
     "slide_type": "slide"
    }
   },
   "source": [
    "## Housekeeping\n",
    "\n",
    "- Ed Discussion: [https://edstem.org/us/courses/42616/discussion/](https://edstem.org/us/courses/42616/discussion/)\n",
    "- HW #1 due on Wednesday 9/20\n",
    "- Office hours:\n",
    "    - Nick: Mondays, 8PM-10PM\n",
    "    - Teresa: Fridays, 10:30AM to 12:00PM\n",
    "    - Sign-up for time slots on Canvas calendar\n",
    "\n",
    "Questions / concerns?\n",
    "- Email: nhand@design.upenn.edu\n",
    "- Post questions on Ed Discussion"
   ]
  },
  {
   "cell_type": "markdown",
   "metadata": {
    "slideshow": {
     "slide_type": "slide"
    }
   },
   "source": [
    "## Guides\n",
    "\n",
    "Check out the guides section of the course website for \n",
    "\n",
    "- [Setting up Python](https://musa-550-fall-2023.github.io/resource/install.html)\n",
    "- [Using mamba](https://musa-550-fall-2023.github.io/resource/mamba.html)\n",
    "- [Jupyter notebooks and JupyterLab](https://musa-550-fall-2023.github.io/resource/jupyter.html)\n",
    "- [Troubleshooting Python installation issues](https://musa-550-fall-2023.github.io/resource/common-issues.html)\n",
    "- [Tips for managing the folder structure on your laptop](https://musa-550-fall-2023.github.io/resource/file-paths.html)\n"
   ]
  },
  {
   "cell_type": "markdown",
   "metadata": {},
   "source": [
    "::: {.callout-note title=\"Reminder\"}\n",
    "\n",
    "Sign up for free DataCamp access if you haven't yet. See [the course website](https://musa-550-fall-2023.github.io/resource/python.html#datacamp-courses) for instructions. \n",
    "\n",
    "Good courses for some of the data viz libraries we'll talk about today:\n",
    "\n",
    "- [Introduction to Data Visualization with matplotlib](https://www.datacamp.com/courses/introduction-to-data-visualization-with-matplotlib)\n",
    "- [Introduction to Data Visualization with seaborn](https://www.datacamp.com/courses/introduction-to-data-visualization-with-seaborn)\n",
    "- [Intermediate Data Visualization with seaborn](https://www.datacamp.com/courses/intermediate-data-visualization-with-seaborn)\n",
    ":::"
   ]
  },
  {
   "cell_type": "markdown",
   "metadata": {
    "slideshow": {
     "slide_type": "slide"
    }
   },
   "source": [
    "## Git & GitHub Resources\n",
    "\n",
    "- [Setting up git](https://help.github.com/articles/set-up-git/)\n",
    "- [Managing files on GitHub](https://help.github.com/articles/managing-files-on-github/)"
   ]
  },
  {
   "cell_type": "markdown",
   "metadata": {
    "slideshow": {
     "slide_type": "slide"
    }
   },
   "source": [
    "## Reminder: following along with lectures\n",
    "\n",
    "\n",
    "### Easiest option: use Binder\n",
    "\n",
    "![](imgs/week2-binder.png)\n"
   ]
  },
  {
   "cell_type": "markdown",
   "metadata": {
    "jp-MarkdownHeadingCollapsed": true,
    "slideshow": {
     "slide_type": "slide"
    },
    "tags": []
   },
   "source": [
    "### Harder option: downloading Github repository contents\n",
    "\n",
    "\n",
    "![](imgs/week2-download.png)"
   ]
  },
  {
   "cell_type": "markdown",
   "metadata": {
    "slideshow": {
     "slide_type": "slide"
    }
   },
   "source": [
    "## Today's agenda\n",
    "\n",
    "- A brief overview of data visualization\n",
    "- Practical tips on color in data vizualization\n",
    "- The Python landscape:\n",
    "    - [matplotlib](https://matplotlib.org/)\n",
    "    - [seaborn](https://seaborn.pydata.org/)\n",
    "    - [altair](https://altair-viz.github.io/)\n",
    "    "
   ]
  },
  {
   "cell_type": "markdown",
   "metadata": {
    "slideshow": {
     "slide_type": "slide"
    }
   },
   "source": [
    "## A brief history\n",
    "\n",
    "Starting with two of my favorite historical examples, and their modern renditions..."
   ]
  },
  {
   "cell_type": "markdown",
   "metadata": {
    "slideshow": {
     "slide_type": "slide"
    }
   },
   "source": [
    "## Example 1: the pioneering work of W. E. B. Du Bois\n"
   ]
  },
  {
   "cell_type": "markdown",
   "metadata": {
    "slideshow": {
     "slide_type": "subslide"
    }
   },
   "source": [
    "![](imgs/du-bois-1.png)"
   ]
  },
  {
   "cell_type": "markdown",
   "metadata": {
    "slideshow": {
     "slide_type": "subslide"
    }
   },
   "source": [
    "![](imgs/du-bois-2.png)"
   ]
  },
  {
   "cell_type": "markdown",
   "metadata": {
    "slideshow": {
     "slide_type": "subslide"
    },
    "tags": []
   },
   "source": [
    "### Re-making the Du Bois Spiral with census data\n",
    "\n",
    "Using the Du Bois spiral to show the demographics of whites in seven states:\n",
    "\n",
    "<center>\n",
    "    <img src=\"imgs/du-bois-3.png\" width=850></img>\n",
    "    <img src=\"imgs/du-bois-4.png\" width=600></img>\n",
    "</center>\n",
    "\n",
    "\n",
    "Green is urban, blue suburban, yellow small town, red rural.\n",
    "[Source](https://medium.com/@Elijah_Meeks/how-to-remake-historical-data-visualization-and-why-you-should-c25874fc4804)"
   ]
  },
  {
   "cell_type": "markdown",
   "metadata": {
    "slideshow": {
     "slide_type": "subslide"
    }
   },
   "source": [
    "### Additional references\n",
    "\n",
    "- [A 6-part blog series on W. E. B. Du Bois' Data Visualization](https://towardsdatascience.com/w-e-b-du-bois-staggering-data-visualizations-are-as-powerful-today-as-they-were-in-1900-64752c472ae4)\n",
    "- [An article on historical data visualization](https://towardsdatascience.com/how-to-remake-historical-data-visualization-and-why-you-should-c25874fc4804)\n",
    "- [W. E. B. Du Bois’s Data Portraits: Visualizing Black America](https://www.amazon.com/W-Boiss-Data-Portraits-Visualizing/dp/1616897066)"
   ]
  },
  {
   "cell_type": "markdown",
   "metadata": {
    "slideshow": {
     "slide_type": "slide"
    }
   },
   "source": [
    "## Example 2: the Statistical Atlas of the United States\n",
    "\n",
    "- First census: 1790\n",
    "- First map for the census: 1850\n",
    "- First Statistical Atlas: 1870\n",
    "- Largely discontinued after 1890, except for the [2000 Census Atlas](https://www.census.gov/library/publications/2007/dec/censr-29.html)\n"
   ]
  },
  {
   "cell_type": "markdown",
   "metadata": {
    "slideshow": {
     "slide_type": "subslide"
    }
   },
   "source": [
    "### Using modern data\n",
    "\n",
    "See [http://projects.flowingdata.com/atlas](http://projects.flowingdata.com/atlas), by Nathan Yau"
   ]
  },
  {
   "cell_type": "markdown",
   "metadata": {
    "slideshow": {
     "slide_type": "subslide"
    }
   },
   "source": [
    "### Industry and Earnings by Sex\n",
    "\n",
    "<center>\n",
    "    <img src=\"imgs/statistical-atlas-1.png\" width=800></img>\n",
    "</center>\n",
    "Source: American Community Survey, 5-Year, 2009-2013"
   ]
  },
  {
   "cell_type": "markdown",
   "metadata": {
    "slideshow": {
     "slide_type": "subslide"
    }
   },
   "source": [
    "### Median Household Income\n",
    "<center>\n",
    "    <img src=\"imgs/statistical-atlas-2.png\" width=800></img>\n",
    "</center>\n"
   ]
  },
  {
   "cell_type": "markdown",
   "metadata": {
    "slideshow": {
     "slide_type": "subslide"
    }
   },
   "source": [
    "### Many more examples...\n",
    "<center>\n",
    "    <img src=\"imgs/statistical-atlas-3.png\" width=800></img>\n",
    "</center>"
   ]
  },
  {
   "cell_type": "markdown",
   "metadata": {
    "slideshow": {
     "slide_type": "slide"
    }
   },
   "source": [
    "## More recently...two main movements:\n",
    "\n",
    "- 1st wave: clarity\n",
    "- 2nd wave: the grammar of visualization"
   ]
  },
  {
   "cell_type": "markdown",
   "metadata": {
    "slideshow": {
     "slide_type": "subslide"
    }
   },
   "source": [
    "## "
   ]
  },
  {
   "cell_type": "markdown",
   "metadata": {
    "slideshow": {
     "slide_type": "slide"
    }
   },
   "source": [
    "### Wave 1: Clarity\n",
    "\n",
    "- Pioneered by Edward Tufte and his release of **The Visual Display of Quantitative Information** in 1983\n",
    "- Focuses on clarity, simplicity, and plain color schemes\n",
    "- Charts should be immediately accessible and readable"
   ]
  },
  {
   "cell_type": "markdown",
   "metadata": {
    "slideshow": {
     "slide_type": "subslide"
    }
   },
   "source": [
    "#### The idea of \"Chartjunk\"\n",
    "\n",
    "- Coined by Tufte in *Visual Display*\n",
    "- Any unnecessary information on a chart"
   ]
  },
  {
   "cell_type": "markdown",
   "metadata": {
    "slideshow": {
     "slide_type": "subslide"
    }
   },
   "source": [
    "#### Some extreme examples\n",
    "<center>\n",
    "    <img src=\"imgs/chartjunk-1.png\" width=600></img>\n",
    "</center>"
   ]
  },
  {
   "cell_type": "markdown",
   "metadata": {
    "slideshow": {
     "slide_type": "subslide"
    }
   },
   "source": [
    "<center>\n",
    "    <img src=\"imgs/chartjunk-2.png\" width=600></img>\n",
    "</center>"
   ]
  },
  {
   "cell_type": "markdown",
   "metadata": {
    "slideshow": {
     "slide_type": "slide"
    }
   },
   "source": [
    "### Wave 2: the grammar of visualization\n",
    "\n",
    "- Influenced by *The Grammar of Graphics* by Leland Wilkinson in 1999\n",
    "- Focuses on encoding data via channels onto geometry\n",
    "- Mapping data attributes on to graphical channels, e.g., length, angle, color, or position (or any other graphical character)"
   ]
  },
  {
   "cell_type": "markdown",
   "metadata": {
    "slideshow": {
     "slide_type": "subslide"
    }
   },
   "source": [
    "- Less focus on clarity, more on the encoding system\n",
    "- Leads to many, many (perhaps confusing) ways of visualizing data\n",
    "- `ggplot2` provides an R implementation of *The Grammar of Graphics*\n",
    "- A few different Python libraries available"
   ]
  },
  {
   "cell_type": "markdown",
   "metadata": {
    "slideshow": {
     "slide_type": "slide"
    }
   },
   "source": [
    "### Where are we now?\n",
    "\n",
    "- Both movements converging together\n",
    "- More visualization libraries available now than ever "
   ]
  },
  {
   "cell_type": "markdown",
   "metadata": {
    "slideshow": {
     "slide_type": "slide"
    }
   },
   "source": [
    "### A survey of common tools\n",
    "\n",
    "<center>\n",
    "<img src=\"imgs/dataviz-state.png\" width=800></img>\n",
    "</center>\n",
    "\n",
    "- From a [2017 survey by Elijah Meeks](https://medium.com/@Elijah_Meeks/2017-data-visualization-survey-results-40688830b9f2)\n",
    "- Former data visualization engineer at Apple, Netflix; now at Noteable\n",
    "- Excellent data viz resource\n",
    "- Find him on [Twitter](https://twitter.com/Elijah_Meeks) or [Medium](https://medium.com/@Elijah_Meeks): @Elijah_Meeks\n",
    "- Executive director of the [Data Visualization Society](https://www.datavisualizationsociety.org/)"
   ]
  },
  {
   "cell_type": "markdown",
   "metadata": {
    "slideshow": {
     "slide_type": "subslide"
    }
   },
   "source": [
    "<img width=\"400\" src=\"imgs/dataviz-society-logo.png\"></img>\n",
    "\n",
    "- Community-based data viz organization\n",
    "- Great resources for beginners\n",
    "- Check out the [Nightingale](https://medium.com/nightingale): The Data Visualization Society's Blog"
   ]
  },
  {
   "cell_type": "markdown",
   "metadata": {
    "slideshow": {
     "slide_type": "slide"
    }
   },
   "source": [
    "## The 7 kinds of data viz people\n",
    "\n",
    "- From [this blog post](https://medium.com/visualizing-the-field/the-7-kinds-of-data-visualization-people-9964e80443a7)\n",
    "- Illustrations by [Susie Lu](https://twitter.com/DataToViz)"
   ]
  },
  {
   "cell_type": "markdown",
   "metadata": {
    "slideshow": {
     "slide_type": "subslide"
    }
   },
   "source": [
    "<center>\n",
    "    <img src=\"imgs/7-kinds-1.png\" width=400></img>\n",
    "</center>"
   ]
  },
  {
   "cell_type": "markdown",
   "metadata": {
    "slideshow": {
     "slide_type": "subslide"
    }
   },
   "source": [
    "<center>\n",
    "    <img src=\"imgs/7-kinds-2.png\" width=400></img>\n",
    "</center>"
   ]
  },
  {
   "cell_type": "markdown",
   "metadata": {
    "slideshow": {
     "slide_type": "subslide"
    }
   },
   "source": [
    "<center>\n",
    "    <img src=\"imgs/7-kinds-3.png\" width=400></img>\n",
    "</center>"
   ]
  },
  {
   "cell_type": "markdown",
   "metadata": {
    "slideshow": {
     "slide_type": "subslide"
    }
   },
   "source": [
    "<center>\n",
    "    <img src=\"imgs/7-kinds-4.png\" width=400></img>\n",
    "</center>"
   ]
  },
  {
   "cell_type": "markdown",
   "metadata": {
    "slideshow": {
     "slide_type": "subslide"
    }
   },
   "source": [
    "<center>\n",
    "    <img src=\"imgs/7-kinds-5.png\" width=400></img>\n",
    "</center>"
   ]
  },
  {
   "cell_type": "markdown",
   "metadata": {
    "slideshow": {
     "slide_type": "subslide"
    }
   },
   "source": [
    "<center>\n",
    "    <img src=\"imgs/7-kinds-6.png\" width=400></img>\n",
    "</center>"
   ]
  },
  {
   "cell_type": "markdown",
   "metadata": {
    "slideshow": {
     "slide_type": "subslide"
    }
   },
   "source": [
    "<center>\n",
    "    <img src=\"imgs/7-kinds-7.png\" width=400></img>\n",
    "</center>\n",
    "\n",
    "See, e.g. [Data Sketches](http://www.datasketch.es/)"
   ]
  },
  {
   "cell_type": "markdown",
   "metadata": {
    "slideshow": {
     "slide_type": "slide"
    }
   },
   "source": [
    "## Data visualization as communication \n",
    "\n",
    "- Data visualization is primarily a *communication* and *design* problem, not a technical one\n",
    "- Two main modes: \n",
    "    - **Fast**: quickly understood or quickly made (or both!)\n",
    "    - **Slow**: more advanced, focus on design, takes longer to understand and/or longer to make"
   ]
  },
  {
   "cell_type": "markdown",
   "metadata": {
    "slideshow": {
     "slide_type": "subslide"
    }
   },
   "source": [
    "## Fast visualization\n",
    "\n",
    "- **Classic trope**: a report for busy executives created by subject experts $\\rightarrow$ as clear and simplified as possible\n",
    "- Leads readers to think that if the chart is not immediately understood then it must be a failure\n",
    "- The dominant method of data visualization\n",
    "    - E.g., [Create a Tableau Dashboard in Just 10 Minutes](https://www.tableau.com/about/blog/2015/12/how-format-beautiful-interactive-key-metrics-dashboard-46263)"
   ]
  },
  {
   "cell_type": "markdown",
   "metadata": {
    "slideshow": {
     "slide_type": "slide"
    }
   },
   "source": [
    "## Moving beyond fast visualizations\n",
    "\n",
    "- Thinking about what charts **say**, beyond what is immediately clear\n",
    "- Focusing on colors, design choices"
   ]
  },
  {
   "cell_type": "markdown",
   "metadata": {
    "slideshow": {
     "slide_type": "slide"
    }
   },
   "source": [
    "## Example: Fatalities in the Iraq War\n",
    "\n",
    "by [Simon Scarr](https://twitter.com/SimonScarr) in 2011"
   ]
  },
  {
   "cell_type": "markdown",
   "metadata": {
    "slideshow": {
     "slide_type": "subslide"
    }
   },
   "source": [
    "<center>\n",
    "    <img src=\"imgs/iraq-bloody-toll-1.jpeg\" width=700></img>\n",
    "</center>"
   ]
  },
  {
   "cell_type": "markdown",
   "metadata": {
    "slideshow": {
     "slide_type": "subslide"
    }
   },
   "source": [
    "**Question**: What design choices drive home the implicit message?"
   ]
  },
  {
   "cell_type": "markdown",
   "metadata": {
    "slideshow": {
     "slide_type": "subslide"
    }
   },
   "source": [
    "<center>\n",
    "    <img src=\"imgs/iraq-bloody-toll-2.png\" width=700></img>\n",
    "</center>"
   ]
  },
  {
   "cell_type": "markdown",
   "metadata": {
    "slideshow": {
     "slide_type": "slide"
    }
   },
   "source": [
    "## Data Visualization as Storytelling\n",
    "\n",
    "The same data, but different design choices..."
   ]
  },
  {
   "cell_type": "markdown",
   "metadata": {
    "slideshow": {
     "slide_type": "subslide"
    }
   },
   "source": [
    "### A negative portrayal \n",
    "\n",
    "<center>\n",
    "    <img src=\"imgs/negative-portrayal.png\" width=600></img>\n",
    "</center>"
   ]
  },
  {
   "cell_type": "markdown",
   "metadata": {
    "slideshow": {
     "slide_type": "subslide"
    }
   },
   "source": [
    "### A positive portrayal\n",
    "\n",
    "<center>\n",
    "    <img src=\"imgs/positive-portrayal.png\" width=600></img>\n",
    "</center>"
   ]
  },
  {
   "cell_type": "markdown",
   "metadata": {
    "slideshow": {
     "slide_type": "slide"
    }
   },
   "source": [
    "## Design choices matter & data viz has never been more important\n",
    "\n",
    "Some examples from the past few years..."
   ]
  },
  {
   "cell_type": "markdown",
   "metadata": {
    "slideshow": {
     "slide_type": "slide"
    }
   },
   "source": [
    "![](imgs/nyt-unemployment.jpeg)"
   ]
  },
  {
   "cell_type": "markdown",
   "metadata": {
    "slideshow": {
     "slide_type": "slide"
    }
   },
   "source": [
    "![](imgs/ft-covid-map.png)"
   ]
  },
  {
   "cell_type": "markdown",
   "metadata": {
    "slideshow": {
     "slide_type": "subslide"
    }
   },
   "source": [
    "- [Data Viz's Breakthrough Moment in the COVID-19 Crisis](https://medium.com/nightingale/data-visualizations-breakthrough-moment-in-the-covid-19-crisis-ce46627c7db5)\n",
    "- [Interview with John Burn-Murdoch About his COVID Data Viz](https://medium.com/nightingale/how-john-burn-murdochs-influential-dataviz-helped-the-world-understand-coronavirus-6cb4a09795ae)\n",
    "- [John Burn-Murdoch's Twitter](https://twitter.com/jburnmurdoch)\n",
    "- COVID-19 Data Viz from the Financial Times\n",
    "  - [Coronavirus Tracker](https://www.ft.com/content/a2901ce8-5eb7-4633-b89c-cbdf5b386938)\n",
    "  - [Global Economic Recovery Tracker](https://www.ft.com/content/272354f2-f970-4ae4-a8ae-848c4baf8f4a)"
   ]
  },
  {
   "cell_type": "markdown",
   "metadata": {
    "slideshow": {
     "slide_type": "slide"
    }
   },
   "source": [
    "## Data Viz Style Guides\n",
    "\n",
    "Lots of companies, cities, institutions, etc. have started *design guidelines* to improve and standardize their data visualizations.\n",
    "\n",
    "One I particularly like: [City of London Data Design Guidelines](https://data.london.gov.uk/blog/city-intelligence-data-design-guidelines/)\n",
    "\n",
    "First few pages are listed in the \"Recommended Reading\" portion of this week's README."
   ]
  },
  {
   "cell_type": "markdown",
   "metadata": {
    "slideshow": {
     "slide_type": "slide"
    }
   },
   "source": [
    "London's style guide includes some basic data viz principles that everyone should know and includes the following example:"
   ]
  },
  {
   "cell_type": "markdown",
   "metadata": {
    "slideshow": {
     "slide_type": "subslide"
    }
   },
   "source": [
    "<img width=\"600\" src=\"imgs/london-guide-1.png\"></img>\n",
    "\n",
    "[City of London Data Design Guidelines](https://data.london.gov.uk/blog/city-intelligence-data-design-guidelines/)"
   ]
  },
  {
   "cell_type": "markdown",
   "metadata": {
    "slideshow": {
     "slide_type": "subslide"
    }
   },
   "source": [
    "<img width=\"600\" src=\"imgs/london-guide-2.png\"></img>\n",
    "\n",
    "[City of London Data Design Guidelines](https://data.london.gov.uk/blog/city-intelligence-data-design-guidelines/)"
   ]
  },
  {
   "cell_type": "markdown",
   "metadata": {
    "slideshow": {
     "slide_type": "slide"
    }
   },
   "source": [
    "## Good rules\n",
    "\n",
    "- Less is more — minimize \"chartjunk\"\n",
    "- Don't use legends if you can label directly\n",
    "- Use color / line weight to focus the reader on the data you want to emphasize\n",
    "- Don't make the viewer tilt their head \n",
    "— Use titles/subtitles to explain what is being plotted"
   ]
  },
  {
   "cell_type": "markdown",
   "metadata": {
    "slideshow": {
     "slide_type": "slide"
    }
   },
   "source": [
    "## Now onto colors...\n",
    "\n",
    "Choose your colors carefully:\n",
    "\n",
    "- **Sequential** schemes: for continuous data that progresses from low to high\n",
    "- **Diverging** schemes: for continuous data that emphasizes positive or negative deviations from a central value\n",
    "- **Qualitative** schemes: for data that has no inherent ordering, where color is used only to distinguish categories"
   ]
  },
  {
   "cell_type": "markdown",
   "metadata": {
    "slideshow": {
     "slide_type": "slide"
    }
   },
   "source": [
    "## ColorBrewer 2.0\n",
    "\n",
    "- The classic tool for color selection\n",
    "- Handles all three types of color schemes and provides a map-based visualization\n",
    "- Provides explanations from Cynthia Brewer's published works on color theory\n",
    "\n",
    "<center>\n",
    "    <img src=\"imgs/color-brewer.png\" width=800></img>\n",
    "</center>"
   ]
  },
  {
   "cell_type": "markdown",
   "metadata": {
    "slideshow": {
     "slide_type": "subslide"
    }
   },
   "source": [
    "- Tests whether colors are colorblind safe, printer friendly, and photocopy safe\n",
    "- ColorBrewer palettes are included by default in `matplotlib`\n",
    "\n",
    "See: [http://colorbrewer2.org](http://colorbrewer2.org)"
   ]
  },
  {
   "cell_type": "markdown",
   "metadata": {
    "slideshow": {
     "slide_type": "slide"
    }
   },
   "source": [
    "## Perceptually uniform color maps\n",
    "\n",
    "- Created for `matplotlib` and available by default\n",
    "- **perceptually uniform**: equal steps in data are perceived as equal steps in the color space\n",
    "- robust to color blindness\n",
    "- colorful and beautiful\n",
    "\n",
    "**For quantitative data, these color maps are very strong options**"
   ]
  },
  {
   "cell_type": "markdown",
   "metadata": {
    "slideshow": {
     "slide_type": "subslide"
    }
   },
   "source": [
    "<center>\n",
    "    <img src=\"imgs/colormaps.png\" width=700></img>\n",
    "</center>"
   ]
  },
  {
   "cell_type": "markdown",
   "metadata": {
    "slideshow": {
     "slide_type": "slide"
    }
   },
   "source": [
    "## Need more colors?\n",
    "\n",
    "Almost too many tools available..."
   ]
  },
  {
   "cell_type": "markdown",
   "metadata": {
    "slideshow": {
     "slide_type": "subslide"
    }
   },
   "source": [
    "## Some of my favorites\n",
    "\n",
    "- [Adobe Color CC](https://color.adobe.com/explore): allows you to explore other people's color palettes and create new ones\n",
    "- [Paletton](http://paletton.com/): similar to Adobe Color, but slightly more advanced\n",
    "- [Chroma.js Color Scale Helper](https://gka.github.io/palettes/): create color palettes by interpolating between named HTML colors\n",
    "- [Colorpicker for data](http://tristen.ca/hcl-picker): automatically generate new color palettes, but they aren't always useful"
   ]
  },
  {
   "cell_type": "markdown",
   "metadata": {
    "slideshow": {
     "slide_type": "slide"
    }
   },
   "source": [
    "## Making sure your colors work: [Viz Palette](https://projects.susielu.com/viz-palette)\n",
    "\n",
    "<center>\n",
    "<img src=\"imgs/viz-palette.png\" width=800></img>\n",
    "</center>"
   ]
  },
  {
   "cell_type": "markdown",
   "metadata": {
    "slideshow": {
     "slide_type": "slide"
    }
   },
   "source": [
    "## Wrapping up: some good rules to live by\n",
    "\n",
    "- Optimize your color map for your dataset\n",
    "- Think about who your audience is\n",
    "- Avoid palettes with too many colors: ColorBrewer stops at ~9 for a reason\n",
    "- Maintain a theme and make it pretty\n",
    "- Think about how color interacts with the other parts of the visualization"
   ]
  },
  {
   "cell_type": "markdown",
   "metadata": {
    "slideshow": {
     "slide_type": "subslide"
    }
   },
   "source": [
    "**Note:** no easy way to get legend added to the plot in this case..."
   ]
  },
  {
   "cell_type": "markdown",
   "metadata": {
    "slideshow": {
     "slide_type": "slide"
    }
   },
   "source": [
    "## That's it!\n",
    "\n",
    "See you on Wednesday when we continue Data Viz Fundamentals"
   ]
  },
  {
   "cell_type": "code",
   "execution_count": null,
   "metadata": {},
   "outputs": [],
   "source": []
  }
 ],
 "metadata": {
  "celltoolbar": "Slideshow",
  "kernelspec": {
   "display_name": "Python 3 (ipykernel)",
   "language": "python",
   "name": "python3"
  },
  "language_info": {
   "codemirror_mode": {
    "name": "ipython",
    "version": 3
   },
   "file_extension": ".py",
   "mimetype": "text/x-python",
   "name": "python",
   "nbconvert_exporter": "python",
   "pygments_lexer": "ipython3",
   "version": "3.10.12"
  },
  "rise": {
   "slideNumber": true
  }
 },
 "nbformat": 4,
 "nbformat_minor": 4
}
