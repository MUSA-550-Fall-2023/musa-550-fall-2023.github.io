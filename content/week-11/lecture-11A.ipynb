{
 "cells": [
  {
   "cell_type": "code",
   "execution_count": 1,
   "metadata": {
    "slideshow": {
     "slide_type": "skip"
    }
   },
   "outputs": [],
   "source": [
    "from matplotlib import pyplot as plt\n",
    "import numpy as np\n",
    "import pandas as pd\n",
    "import geopandas as gpd\n",
    "np.random.seed(42)"
   ]
  },
  {
   "cell_type": "markdown",
   "metadata": {
    "slideshow": {
     "slide_type": "slide"
    }
   },
   "source": [
    "# Week 11: Clustering Analysis in Python\n",
    "\n",
    "- Section 401\n",
    "- Nov 13, 2023"
   ]
  },
  {
   "cell_type": "markdown",
   "metadata": {
    "slideshow": {
     "slide_type": "slide"
    }
   },
   "source": [
    "## Clustering in Python\n",
    "\n",
    "- Both spatial and non-spatial datasets\n",
    "- Two new techniques: \n",
    "    - Non-spatial: **K-means**\n",
    "    - Spatial: **DBSCAN**\n",
    "- Two labs/exercises this week:\n",
    "    1. Grouping Philadelphia neighborhoods by AirBnb listings\n",
    "    1. Identifying clusters in taxi rides in NYC"
   ]
  },
  {
   "cell_type": "markdown",
   "metadata": {
    "slideshow": {
     "slide_type": "slide"
    }
   },
   "source": [
    "## \"Machine learning\" and \"AI\"\n",
    "\n",
    "![](imgs/machine_learning.jpg)"
   ]
  },
  {
   "cell_type": "markdown",
   "metadata": {
    "slideshow": {
     "slide_type": "subslide"
    }
   },
   "source": [
    "- The computer **learns** patterns and properties of an input data set without the user specifying them beforehand\n",
    "- Can be both **supervised** and **unsupervised**"
   ]
  },
  {
   "cell_type": "markdown",
   "metadata": {
    "slideshow": {
     "slide_type": "subslide"
    }
   },
   "source": [
    "### Supervised\n",
    "- Example: classification\n",
    "- Given a training set of **labeled** data, learn to assign labels to new data\n",
    "\n",
    "### Unsupervised\n",
    "- Example: clustering\n",
    "- Identify structure / clusters in data without any prior knowledge"
   ]
  },
  {
   "cell_type": "markdown",
   "metadata": {
    "slideshow": {
     "slide_type": "slide"
    }
   },
   "source": [
    "## Machine learning in Python: scikit-learn\n",
    "\n",
    "- State-of-the-art machine learning in Python\n",
    "- Easy to use, lots of functionality"
   ]
  },
  {
   "cell_type": "markdown",
   "metadata": {
    "slideshow": {
     "slide_type": "subslide"
    }
   },
   "source": [
    "## Clustering is just one (of many) features\n",
    "\n",
    "![](imgs/scikit_learn.png)"
   ]
  },
  {
   "cell_type": "markdown",
   "metadata": {
    "slideshow": {
     "slide_type": "subslide"
    }
   },
   "source": [
    "[https://scikit-learn.org/stable/](https://scikit-learn.org/stable/)\n",
    "\n",
    "\n",
    "::: {.callout-note}\n",
    "We will focus on clustering algorithms today and discuss a few other machine learning techniques in the next two weeks. If there is a specific scikit-learn use case we won't cover, I'm open to ideas for incorporating it as part of the final project. \n",
    "\n",
    ":::"
   ]
  },
  {
   "cell_type": "markdown",
   "metadata": {
    "slideshow": {
     "slide_type": "slide"
    }
   },
   "source": [
    "## Part 1: Non-spatial clustering\n",
    "\n",
    "**The goal**\n",
    "\n",
    "Partition a dataset into groups that have a similar set of attributes, **or features**, within the group and a dissimilar set of features between groups.\n",
    "\n",
    "Minimize the *intra-cluster* variance and maximize the *inter-cluster* variance of features."
   ]
  },
  {
   "cell_type": "markdown",
   "metadata": {
    "slideshow": {
     "slide_type": "subslide"
    }
   },
   "source": [
    "### Some intuition\n",
    "\n",
    "![](imgs/clustering.png)"
   ]
  },
  {
   "cell_type": "markdown",
   "metadata": {
    "slideshow": {
     "slide_type": "slide"
    }
   },
   "source": [
    "### K-Means clustering\n",
    "\n",
    "- Simple but robust clustering algorithm\n",
    "- Widely used\n",
    "- **Important:** user must specify the number of clusters\n",
    "- **Cannot** be used to find density-based clusters"
   ]
  },
  {
   "cell_type": "markdown",
   "metadata": {
    "slideshow": {
     "slide_type": "slide"
    }
   },
   "source": [
    "### This is just one of several clustering methods\n",
    "\n",
    "[https://scikit-learn.org/stable/modules/clustering.html#overview-of-clustering-methods](https://scikit-learn.org/stable/modules/clustering.html#overview-of-clustering-methods)"
   ]
  },
  {
   "cell_type": "markdown",
   "metadata": {
    "slideshow": {
     "slide_type": "subslide"
    }
   },
   "source": [
    "::: {.callout-tip}\n",
    "### A good introduction\n",
    "\n",
    "Check out [Andrew Ng's Coursera lecture](https://www.youtube.com/watch?v=0D4LnsJr85Y) on unsupervised clustering.\n",
    "\n",
    ":::"
   ]
  },
  {
   "cell_type": "markdown",
   "metadata": {
    "slideshow": {
     "slide_type": "slide"
    }
   },
   "source": [
    "### How does it work?\n",
    "\n",
    "**Minimizes the intra-cluster variance**: minimizes the sum of the squared distances between all points in a cluster and the cluster centroid"
   ]
  },
  {
   "cell_type": "markdown",
   "metadata": {
    "slideshow": {
     "slide_type": "slide"
    }
   },
   "source": [
    "### K-means in action\n",
    "\n",
    "![](imgs/K-means_convergence.gif)"
   ]
  },
  {
   "cell_type": "markdown",
   "metadata": {
    "slideshow": {
     "slide_type": "slide"
    }
   },
   "source": [
    "### Example: Clustering countries by health and income\n",
    "\n",
    "- Health expectancy in years vs. GDP per capita and population for 187 countries (as of 2015)\n",
    "- Data from [Gapminder](https://www.gapminder.org/data/)"
   ]
  },
  {
   "cell_type": "code",
   "execution_count": 2,
   "metadata": {
    "slideshow": {
     "slide_type": "subslide"
    }
   },
   "outputs": [],
   "source": [
    "import altair as alt\n",
    "from vega_datasets import data as vega_data"
   ]
  },
  {
   "cell_type": "markdown",
   "metadata": {
    "slideshow": {
     "slide_type": "subslide"
    }
   },
   "source": [
    "Read the data from a URL:"
   ]
  },
  {
   "cell_type": "code",
   "execution_count": 3,
   "metadata": {
    "slideshow": {
     "slide_type": "subslide"
    }
   },
   "outputs": [
    {
     "data": {
      "text/html": [
       "<div>\n",
       "<style scoped>\n",
       "    .dataframe tbody tr th:only-of-type {\n",
       "        vertical-align: middle;\n",
       "    }\n",
       "\n",
       "    .dataframe tbody tr th {\n",
       "        vertical-align: top;\n",
       "    }\n",
       "\n",
       "    .dataframe thead th {\n",
       "        text-align: right;\n",
       "    }\n",
       "</style>\n",
       "<table border=\"1\" class=\"dataframe\">\n",
       "  <thead>\n",
       "    <tr style=\"text-align: right;\">\n",
       "      <th></th>\n",
       "      <th>country</th>\n",
       "      <th>income</th>\n",
       "      <th>health</th>\n",
       "      <th>population</th>\n",
       "    </tr>\n",
       "  </thead>\n",
       "  <tbody>\n",
       "    <tr>\n",
       "      <th>0</th>\n",
       "      <td>Afghanistan</td>\n",
       "      <td>1925</td>\n",
       "      <td>57.63</td>\n",
       "      <td>32526562</td>\n",
       "    </tr>\n",
       "    <tr>\n",
       "      <th>1</th>\n",
       "      <td>Albania</td>\n",
       "      <td>10620</td>\n",
       "      <td>76.00</td>\n",
       "      <td>2896679</td>\n",
       "    </tr>\n",
       "    <tr>\n",
       "      <th>2</th>\n",
       "      <td>Algeria</td>\n",
       "      <td>13434</td>\n",
       "      <td>76.50</td>\n",
       "      <td>39666519</td>\n",
       "    </tr>\n",
       "    <tr>\n",
       "      <th>3</th>\n",
       "      <td>Andorra</td>\n",
       "      <td>46577</td>\n",
       "      <td>84.10</td>\n",
       "      <td>70473</td>\n",
       "    </tr>\n",
       "    <tr>\n",
       "      <th>4</th>\n",
       "      <td>Angola</td>\n",
       "      <td>7615</td>\n",
       "      <td>61.00</td>\n",
       "      <td>25021974</td>\n",
       "    </tr>\n",
       "  </tbody>\n",
       "</table>\n",
       "</div>"
      ],
      "text/plain": [
       "       country  income  health  population\n",
       "0  Afghanistan    1925   57.63    32526562\n",
       "1      Albania   10620   76.00     2896679\n",
       "2      Algeria   13434   76.50    39666519\n",
       "3      Andorra   46577   84.10       70473\n",
       "4       Angola    7615   61.00    25021974"
      ]
     },
     "execution_count": 3,
     "metadata": {},
     "output_type": "execute_result"
    }
   ],
   "source": [
    "gapminder = pd.read_csv(vega_data.gapminder_health_income.url)\n",
    "gapminder.head()"
   ]
  },
  {
   "cell_type": "markdown",
   "metadata": {
    "slideshow": {
     "slide_type": "slide"
    }
   },
   "source": [
    "Plot it with altair:"
   ]
  },
  {
   "cell_type": "code",
   "execution_count": 4,
   "metadata": {
    "slideshow": {
     "slide_type": "subslide"
    }
   },
   "outputs": [
    {
     "data": {
      "text/html": [
       "\n",
       "<style>\n",
       "  #altair-viz-3f1f705ce2234db6a665e80e0f27000f.vega-embed {\n",
       "    width: 100%;\n",
       "    display: flex;\n",
       "  }\n",
       "\n",
       "  #altair-viz-3f1f705ce2234db6a665e80e0f27000f.vega-embed details,\n",
       "  #altair-viz-3f1f705ce2234db6a665e80e0f27000f.vega-embed details summary {\n",
       "    position: relative;\n",
       "  }\n",
       "</style>\n",
       "<div id=\"altair-viz-3f1f705ce2234db6a665e80e0f27000f\"></div>\n",
       "<script type=\"text/javascript\">\n",
       "  var VEGA_DEBUG = (typeof VEGA_DEBUG == \"undefined\") ? {} : VEGA_DEBUG;\n",
       "  (function(spec, embedOpt){\n",
       "    let outputDiv = document.currentScript.previousElementSibling;\n",
       "    if (outputDiv.id !== \"altair-viz-3f1f705ce2234db6a665e80e0f27000f\") {\n",
       "      outputDiv = document.getElementById(\"altair-viz-3f1f705ce2234db6a665e80e0f27000f\");\n",
       "    }\n",
       "    const paths = {\n",
       "      \"vega\": \"https://cdn.jsdelivr.net/npm/vega@5?noext\",\n",
       "      \"vega-lib\": \"https://cdn.jsdelivr.net/npm/vega-lib?noext\",\n",
       "      \"vega-lite\": \"https://cdn.jsdelivr.net/npm/vega-lite@5.14.1?noext\",\n",
       "      \"vega-embed\": \"https://cdn.jsdelivr.net/npm/vega-embed@6?noext\",\n",
       "    };\n",
       "\n",
       "    function maybeLoadScript(lib, version) {\n",
       "      var key = `${lib.replace(\"-\", \"\")}_version`;\n",
       "      return (VEGA_DEBUG[key] == version) ?\n",
       "        Promise.resolve(paths[lib]) :\n",
       "        new Promise(function(resolve, reject) {\n",
       "          var s = document.createElement('script');\n",
       "          document.getElementsByTagName(\"head\")[0].appendChild(s);\n",
       "          s.async = true;\n",
       "          s.onload = () => {\n",
       "            VEGA_DEBUG[key] = version;\n",
       "            return resolve(paths[lib]);\n",
       "          };\n",
       "          s.onerror = () => reject(`Error loading script: ${paths[lib]}`);\n",
       "          s.src = paths[lib];\n",
       "        });\n",
       "    }\n",
       "\n",
       "    function showError(err) {\n",
       "      outputDiv.innerHTML = `<div class=\"error\" style=\"color:red;\">${err}</div>`;\n",
       "      throw err;\n",
       "    }\n",
       "\n",
       "    function displayChart(vegaEmbed) {\n",
       "      vegaEmbed(outputDiv, spec, embedOpt)\n",
       "        .catch(err => showError(`Javascript Error: ${err.message}<br>This usually means there's a typo in your chart specification. See the javascript console for the full traceback.`));\n",
       "    }\n",
       "\n",
       "    if(typeof define === \"function\" && define.amd) {\n",
       "      requirejs.config({paths});\n",
       "      require([\"vega-embed\"], displayChart, err => showError(`Error loading script: ${err.message}`));\n",
       "    } else {\n",
       "      maybeLoadScript(\"vega\", \"5\")\n",
       "        .then(() => maybeLoadScript(\"vega-lite\", \"5.14.1\"))\n",
       "        .then(() => maybeLoadScript(\"vega-embed\", \"6\"))\n",
       "        .catch(showError)\n",
       "        .then(() => displayChart(vegaEmbed));\n",
       "    }\n",
       "  })({\"config\": {\"view\": {\"continuousWidth\": 300, \"continuousHeight\": 300}}, \"data\": {\"name\": \"data-7e3b7ef5d72a8470b0044710e8a24cca\"}, \"mark\": {\"type\": \"circle\"}, \"encoding\": {\"size\": {\"field\": \"population\", \"type\": \"quantitative\"}, \"tooltip\": [{\"field\": \"country\", \"type\": \"nominal\"}, {\"field\": \"income\", \"type\": \"quantitative\"}, {\"field\": \"health\", \"type\": \"quantitative\"}, {\"field\": \"population\", \"type\": \"quantitative\"}], \"x\": {\"field\": \"income\", \"scale\": {\"type\": \"log\"}, \"type\": \"quantitative\"}, \"y\": {\"field\": \"health\", \"scale\": {\"zero\": false}, \"type\": \"quantitative\"}}, \"height\": 600, \"params\": [{\"name\": \"param_1\", \"select\": {\"type\": \"interval\", \"encodings\": [\"x\", \"y\"]}, \"bind\": \"scales\"}], \"width\": 800, \"$schema\": \"https://vega.github.io/schema/vega-lite/v5.14.1.json\", \"datasets\": {\"data-7e3b7ef5d72a8470b0044710e8a24cca\": [{\"country\": \"Afghanistan\", \"income\": 1925, \"health\": 57.63, \"population\": 32526562}, {\"country\": \"Albania\", \"income\": 10620, \"health\": 76.0, \"population\": 2896679}, {\"country\": \"Algeria\", \"income\": 13434, \"health\": 76.5, \"population\": 39666519}, {\"country\": \"Andorra\", \"income\": 46577, \"health\": 84.1, \"population\": 70473}, {\"country\": \"Angola\", \"income\": 7615, \"health\": 61.0, \"population\": 25021974}, {\"country\": \"Antigua and Barbuda\", \"income\": 21049, \"health\": 75.2, \"population\": 91818}, {\"country\": \"Argentina\", \"income\": 17344, \"health\": 76.2, \"population\": 43416755}, {\"country\": \"Armenia\", \"income\": 7763, \"health\": 74.4, \"population\": 3017712}, {\"country\": \"Australia\", \"income\": 44056, \"health\": 81.8, \"population\": 23968973}, {\"country\": \"Austria\", \"income\": 44401, \"health\": 81.0, \"population\": 8544586}, {\"country\": \"Azerbaijan\", \"income\": 16986, \"health\": 72.9, \"population\": 9753968}, {\"country\": \"Bahamas\", \"income\": 22818, \"health\": 72.3, \"population\": 388019}, {\"country\": \"Bahrain\", \"income\": 44138, \"health\": 79.2, \"population\": 1377237}, {\"country\": \"Bangladesh\", \"income\": 3161, \"health\": 70.1, \"population\": 160995642}, {\"country\": \"Barbados\", \"income\": 12984, \"health\": 75.8, \"population\": 284215}, {\"country\": \"Belarus\", \"income\": 17415, \"health\": 70.4, \"population\": 9495826}, {\"country\": \"Belgium\", \"income\": 41240, \"health\": 80.4, \"population\": 11299192}, {\"country\": \"Belize\", \"income\": 8501, \"health\": 70.0, \"population\": 359287}, {\"country\": \"Benin\", \"income\": 1830, \"health\": 65.5, \"population\": 10879829}, {\"country\": \"Bhutan\", \"income\": 7983, \"health\": 70.2, \"population\": 774830}, {\"country\": \"Bolivia\", \"income\": 6295, \"health\": 72.3, \"population\": 10724705}, {\"country\": \"Bosnia and Herzegovina\", \"income\": 9833, \"health\": 77.9, \"population\": 3810416}, {\"country\": \"Botswana\", \"income\": 17196, \"health\": 66.4, \"population\": 2262485}, {\"country\": \"Brazil\", \"income\": 15441, \"health\": 75.6, \"population\": 207847528}, {\"country\": \"Brunei\", \"income\": 73003, \"health\": 78.7, \"population\": 423188}, {\"country\": \"Bulgaria\", \"income\": 16371, \"health\": 74.9, \"population\": 7149787}, {\"country\": \"Burkina Faso\", \"income\": 1654, \"health\": 62.8, \"population\": 18105570}, {\"country\": \"Burundi\", \"income\": 777, \"health\": 60.4, \"population\": 11178921}, {\"country\": \"Cambodia\", \"income\": 3267, \"health\": 68.4, \"population\": 15577899}, {\"country\": \"Cameroon\", \"income\": 2897, \"health\": 59.5, \"population\": 23344179}, {\"country\": \"Canada\", \"income\": 43294, \"health\": 81.7, \"population\": 35939927}, {\"country\": \"Cape Verde\", \"income\": 6514, \"health\": 74.6, \"population\": 520502}, {\"country\": \"Central African Republic\", \"income\": 599, \"health\": 53.8, \"population\": 4900274}, {\"country\": \"Chad\", \"income\": 2191, \"health\": 57.7, \"population\": 14037472}, {\"country\": \"Chile\", \"income\": 22465, \"health\": 79.3, \"population\": 17948141}, {\"country\": \"China\", \"income\": 13334, \"health\": 76.9, \"population\": 1376048943}, {\"country\": \"Colombia\", \"income\": 12761, \"health\": 75.8, \"population\": 48228704}, {\"country\": \"Comoros\", \"income\": 1472, \"health\": 64.1, \"population\": 788474}, {\"country\": \"Congo, Dem. Rep.\", \"income\": 809, \"health\": 58.3, \"population\": 77266814}, {\"country\": \"Congo, Rep.\", \"income\": 6220, \"health\": 61.9, \"population\": 4620330}, {\"country\": \"Costa Rica\", \"income\": 14132, \"health\": 80.0, \"population\": 4807850}, {\"country\": \"Cote d'Ivoire\", \"income\": 3491, \"health\": 60.33, \"population\": 22701556}, {\"country\": \"Croatia\", \"income\": 20260, \"health\": 78.0, \"population\": 4240317}, {\"country\": \"Cuba\", \"income\": 21291, \"health\": 78.5, \"population\": 11389562}, {\"country\": \"Cyprus\", \"income\": 29797, \"health\": 82.6, \"population\": 1165300}, {\"country\": \"Czech Republic\", \"income\": 29437, \"health\": 78.6, \"population\": 10543186}, {\"country\": \"Denmark\", \"income\": 43495, \"health\": 80.1, \"population\": 5669081}, {\"country\": \"Djibouti\", \"income\": 3139, \"health\": 64.63, \"population\": 887861}, {\"country\": \"Dominica\", \"income\": 10503, \"health\": 74.6, \"population\": 72680}, {\"country\": \"Dominican Republic\", \"income\": 12837, \"health\": 73.8, \"population\": 10528391}, {\"country\": \"Ecuador\", \"income\": 10996, \"health\": 75.2, \"population\": 16144363}, {\"country\": \"Egypt\", \"income\": 11031, \"health\": 71.3, \"population\": 91508084}, {\"country\": \"El Salvador\", \"income\": 7776, \"health\": 74.1, \"population\": 6126583}, {\"country\": \"Equatorial Guinea\", \"income\": 31087, \"health\": 60.63, \"population\": 845060}, {\"country\": \"Eritrea\", \"income\": 1129, \"health\": 62.9, \"population\": 5227791}, {\"country\": \"Estonia\", \"income\": 26812, \"health\": 76.8, \"population\": 1312558}, {\"country\": \"Ethiopia\", \"income\": 1520, \"health\": 63.6, \"population\": 99390750}, {\"country\": \"Fiji\", \"income\": 7925, \"health\": 66.3, \"population\": 892145}, {\"country\": \"Finland\", \"income\": 38923, \"health\": 80.8, \"population\": 5503457}, {\"country\": \"France\", \"income\": 37599, \"health\": 81.9, \"population\": 64395345}, {\"country\": \"Gabon\", \"income\": 18627, \"health\": 60.53, \"population\": 1725292}, {\"country\": \"Gambia\", \"income\": 1644, \"health\": 65.1, \"population\": 1990924}, {\"country\": \"Georgia\", \"income\": 7474, \"health\": 73.3, \"population\": 3999812}, {\"country\": \"Germany\", \"income\": 44053, \"health\": 81.1, \"population\": 80688545}, {\"country\": \"Ghana\", \"income\": 4099, \"health\": 65.5, \"population\": 27409893}, {\"country\": \"Greece\", \"income\": 25430, \"health\": 79.8, \"population\": 10954617}, {\"country\": \"Grenada\", \"income\": 11593, \"health\": 71.7, \"population\": 106825}, {\"country\": \"Guatemala\", \"income\": 7279, \"health\": 73.1, \"population\": 16342897}, {\"country\": \"Guinea\", \"income\": 1225, \"health\": 60.8, \"population\": 12608590}, {\"country\": \"Guinea-Bissau\", \"income\": 1386, \"health\": 53.4, \"population\": 1844325}, {\"country\": \"Guyana\", \"income\": 6816, \"health\": 64.4, \"population\": 767085}, {\"country\": \"Haiti\", \"income\": 1710, \"health\": 65.3, \"population\": 10711067}, {\"country\": \"Honduras\", \"income\": 4270, \"health\": 72.4, \"population\": 8075060}, {\"country\": \"Hungary\", \"income\": 24200, \"health\": 76.2, \"population\": 9855023}, {\"country\": \"Iceland\", \"income\": 42182, \"health\": 82.8, \"population\": 329425}, {\"country\": \"India\", \"income\": 5903, \"health\": 66.8, \"population\": 1311050527}, {\"country\": \"Indonesia\", \"income\": 10504, \"health\": 70.9, \"population\": 257563815}, {\"country\": \"Iran\", \"income\": 15573, \"health\": 78.5, \"population\": 79109272}, {\"country\": \"Iraq\", \"income\": 14646, \"health\": 72.1, \"population\": 36423395}, {\"country\": \"Ireland\", \"income\": 47758, \"health\": 80.4, \"population\": 4688465}, {\"country\": \"Israel\", \"income\": 31590, \"health\": 82.4, \"population\": 8064036}, {\"country\": \"Italy\", \"income\": 33297, \"health\": 82.1, \"population\": 59797685}, {\"country\": \"Jamaica\", \"income\": 8606, \"health\": 75.5, \"population\": 2793335}, {\"country\": \"Japan\", \"income\": 36162, \"health\": 83.5, \"population\": 126573481}, {\"country\": \"Jordan\", \"income\": 11752, \"health\": 78.3, \"population\": 7594547}, {\"country\": \"Kazakhstan\", \"income\": 23468, \"health\": 68.2, \"population\": 17625226}, {\"country\": \"Kenya\", \"income\": 2898, \"health\": 66.63, \"population\": 46050302}, {\"country\": \"Kiribati\", \"income\": 1824, \"health\": 62.4, \"population\": 112423}, {\"country\": \"Kuwait\", \"income\": 82633, \"health\": 80.7, \"population\": 3892115}, {\"country\": \"Kyrgyz Republic\", \"income\": 3245, \"health\": 69.0, \"population\": 5939962}, {\"country\": \"Lao\", \"income\": 5212, \"health\": 66.4, \"population\": 6802023}, {\"country\": \"Latvia\", \"income\": 23282, \"health\": 75.7, \"population\": 1970503}, {\"country\": \"Lebanon\", \"income\": 17050, \"health\": 78.5, \"population\": 5850743}, {\"country\": \"Lesotho\", \"income\": 2598, \"health\": 48.5, \"population\": 2135022}, {\"country\": \"Liberia\", \"income\": 958, \"health\": 63.9, \"population\": 4503438}, {\"country\": \"Libya\", \"income\": 17261, \"health\": 76.2, \"population\": 6278438}, {\"country\": \"Lithuania\", \"income\": 26665, \"health\": 75.4, \"population\": 2878405}, {\"country\": \"Luxembourg\", \"income\": 88314, \"health\": 81.1, \"population\": 567110}, {\"country\": \"Macedonia, FYR\", \"income\": 12547, \"health\": 77.0, \"population\": 2078453}, {\"country\": \"Madagascar\", \"income\": 1400, \"health\": 64.7, \"population\": 24235390}, {\"country\": \"Malawi\", \"income\": 799, \"health\": 60.22, \"population\": 17215232}, {\"country\": \"Malaysia\", \"income\": 24320, \"health\": 75.1, \"population\": 30331007}, {\"country\": \"Maldives\", \"income\": 14408, \"health\": 79.5, \"population\": 363657}, {\"country\": \"Mali\", \"income\": 1684, \"health\": 57.6, \"population\": 17599694}, {\"country\": \"Malta\", \"income\": 30265, \"health\": 82.1, \"population\": 418670}, {\"country\": \"Marshall Islands\", \"income\": 3661, \"health\": 65.1, \"population\": 52993}, {\"country\": \"Mauritania\", \"income\": 3877, \"health\": 65.7, \"population\": 4067564}, {\"country\": \"Mauritius\", \"income\": 18350, \"health\": 73.9, \"population\": 1273212}, {\"country\": \"Mexico\", \"income\": 16850, \"health\": 74.5, \"population\": 127017224}, {\"country\": \"Micronesia, Fed. Sts.\", \"income\": 3510, \"health\": 67.0, \"population\": 104460}, {\"country\": \"Moldova\", \"income\": 4896, \"health\": 72.7, \"population\": 4068897}, {\"country\": \"Mongolia\", \"income\": 11819, \"health\": 65.3, \"population\": 2959134}, {\"country\": \"Montenegro\", \"income\": 14833, \"health\": 75.8, \"population\": 625781}, {\"country\": \"Morocco\", \"income\": 7319, \"health\": 74.7, \"population\": 34377511}, {\"country\": \"Mozambique\", \"income\": 1176, \"health\": 56.4, \"population\": 27977863}, {\"country\": \"Myanmar\", \"income\": 4012, \"health\": 67.9, \"population\": 53897154}, {\"country\": \"Namibia\", \"income\": 10040, \"health\": 61.0, \"population\": 2458830}, {\"country\": \"Nepal\", \"income\": 2352, \"health\": 71.2, \"population\": 28513700}, {\"country\": \"Netherlands\", \"income\": 45784, \"health\": 80.6, \"population\": 16924929}, {\"country\": \"New Zealand\", \"income\": 34186, \"health\": 80.6, \"population\": 4528526}, {\"country\": \"Nicaragua\", \"income\": 4712, \"health\": 76.8, \"population\": 6082032}, {\"country\": \"Niger\", \"income\": 943, \"health\": 62.2, \"population\": 19899120}, {\"country\": \"Nigeria\", \"income\": 5727, \"health\": 61.33, \"population\": 182201962}, {\"country\": \"North Korea\", \"income\": 1390, \"health\": 71.4, \"population\": 25155317}, {\"country\": \"Norway\", \"income\": 64304, \"health\": 81.6, \"population\": 5210967}, {\"country\": \"Oman\", \"income\": 48226, \"health\": 75.7, \"population\": 4490541}, {\"country\": \"Pakistan\", \"income\": 4743, \"health\": 66.5, \"population\": 188924874}, {\"country\": \"Panama\", \"income\": 20485, \"health\": 78.2, \"population\": 3929141}, {\"country\": \"Papua New Guinea\", \"income\": 2529, \"health\": 60.6, \"population\": 7619321}, {\"country\": \"Paraguay\", \"income\": 8219, \"health\": 73.9, \"population\": 6639123}, {\"country\": \"Peru\", \"income\": 11903, \"health\": 77.5, \"population\": 31376670}, {\"country\": \"Philippines\", \"income\": 6876, \"health\": 70.2, \"population\": 100699395}, {\"country\": \"Poland\", \"income\": 24787, \"health\": 77.3, \"population\": 38611794}, {\"country\": \"Portugal\", \"income\": 26437, \"health\": 79.8, \"population\": 10349803}, {\"country\": \"Qatar\", \"income\": 132877, \"health\": 82.0, \"population\": 2235355}, {\"country\": \"Romania\", \"income\": 19203, \"health\": 76.8, \"population\": 19511324}, {\"country\": \"Russia\", \"income\": 23038, \"health\": 73.13, \"population\": 143456918}, {\"country\": \"Rwanda\", \"income\": 1549, \"health\": 66.53, \"population\": 11609666}, {\"country\": \"Samoa\", \"income\": 5558, \"health\": 72.2, \"population\": 193228}, {\"country\": \"Sao Tome and Principe\", \"income\": 3003, \"health\": 68.8, \"population\": 190344}, {\"country\": \"Saudi Arabia\", \"income\": 52469, \"health\": 78.1, \"population\": 31540372}, {\"country\": \"Senegal\", \"income\": 2251, \"health\": 66.1, \"population\": 15129273}, {\"country\": \"Serbia\", \"income\": 12908, \"health\": 78.1, \"population\": 8850975}, {\"country\": \"Seychelles\", \"income\": 25684, \"health\": 73.7, \"population\": 96471}, {\"country\": \"Sierra Leone\", \"income\": 2085, \"health\": 58.5, \"population\": 6453184}, {\"country\": \"Singapore\", \"income\": 80794, \"health\": 82.1, \"population\": 5603740}, {\"country\": \"Slovak Republic\", \"income\": 27204, \"health\": 76.4, \"population\": 5426258}, {\"country\": \"Slovenia\", \"income\": 28550, \"health\": 80.2, \"population\": 2067526}, {\"country\": \"Solomon Islands\", \"income\": 2047, \"health\": 64.1, \"population\": 583591}, {\"country\": \"Somalia\", \"income\": 624, \"health\": 58.7, \"population\": 10787104}, {\"country\": \"South Africa\", \"income\": 12509, \"health\": 63.72, \"population\": 54490406}, {\"country\": \"South Korea\", \"income\": 34644, \"health\": 80.7, \"population\": 50293439}, {\"country\": \"South Sudan\", \"income\": 3047, \"health\": 58.0, \"population\": 12339812}, {\"country\": \"Spain\", \"income\": 32979, \"health\": 81.7, \"population\": 46121699}, {\"country\": \"Sri Lanka\", \"income\": 10624, \"health\": 76.5, \"population\": 20715010}, {\"country\": \"St. Lucia\", \"income\": 9997, \"health\": 74.5, \"population\": 184999}, {\"country\": \"St. Vincent and the Grenadines\", \"income\": 10435, \"health\": 72.9, \"population\": 109462}, {\"country\": \"Sudan\", \"income\": 3975, \"health\": 69.5, \"population\": 40234882}, {\"country\": \"Suriname\", \"income\": 17125, \"health\": 70.5, \"population\": 542975}, {\"country\": \"Swaziland\", \"income\": 6095, \"health\": 51.5, \"population\": 1286970}, {\"country\": \"Sweden\", \"income\": 44892, \"health\": 82.0, \"population\": 9779426}, {\"country\": \"Switzerland\", \"income\": 56118, \"health\": 82.9, \"population\": 8298663}, {\"country\": \"Syria\", \"income\": 4637, \"health\": 70.26, \"population\": 18502413}, {\"country\": \"Tajikistan\", \"income\": 2582, \"health\": 71.0, \"population\": 8481855}, {\"country\": \"Tanzania\", \"income\": 2571, \"health\": 63.43, \"population\": 53470420}, {\"country\": \"Thailand\", \"income\": 14512, \"health\": 75.1, \"population\": 67959359}, {\"country\": \"Timor-Leste\", \"income\": 2086, \"health\": 72.4, \"population\": 1184765}, {\"country\": \"Togo\", \"income\": 1433, \"health\": 64.23, \"population\": 7304578}, {\"country\": \"Tonga\", \"income\": 5069, \"health\": 70.5, \"population\": 106170}, {\"country\": \"Trinidad and Tobago\", \"income\": 30113, \"health\": 71.4, \"population\": 1360088}, {\"country\": \"Tunisia\", \"income\": 11126, \"health\": 77.3, \"population\": 11253554}, {\"country\": \"Turkey\", \"income\": 19360, \"health\": 76.5, \"population\": 78665830}, {\"country\": \"Turkmenistan\", \"income\": 15865, \"health\": 67.9, \"population\": 5373502}, {\"country\": \"Uganda\", \"income\": 1680, \"health\": 60.8, \"population\": 39032383}, {\"country\": \"Ukraine\", \"income\": 8449, \"health\": 72.1, \"population\": 44823765}, {\"country\": \"United Arab Emirates\", \"income\": 60749, \"health\": 76.6, \"population\": 9156963}, {\"country\": \"United Kingdom\", \"income\": 38225, \"health\": 81.4, \"population\": 64715810}, {\"country\": \"United States\", \"income\": 53354, \"health\": 79.1, \"population\": 321773631}, {\"country\": \"Uruguay\", \"income\": 20438, \"health\": 77.3, \"population\": 3431555}, {\"country\": \"Uzbekistan\", \"income\": 5598, \"health\": 70.1, \"population\": 29893488}, {\"country\": \"Vanuatu\", \"income\": 2912, \"health\": 65.0, \"population\": 264652}, {\"country\": \"Venezuela\", \"income\": 15753, \"health\": 75.8, \"population\": 31108083}, {\"country\": \"Vietnam\", \"income\": 5623, \"health\": 76.5, \"population\": 93447601}, {\"country\": \"West Bank and Gaza\", \"income\": 4319, \"health\": 75.2, \"population\": 4668466}, {\"country\": \"Yemen\", \"income\": 3887, \"health\": 67.6, \"population\": 26832215}, {\"country\": \"Zambia\", \"income\": 4034, \"health\": 58.96, \"population\": 16211767}, {\"country\": \"Zimbabwe\", \"income\": 1801, \"health\": 60.01, \"population\": 15602751}]}}, {\"mode\": \"vega-lite\"});\n",
       "</script>"
      ],
      "text/plain": [
       "alt.Chart(...)"
      ]
     },
     "execution_count": 4,
     "metadata": {},
     "output_type": "execute_result"
    }
   ],
   "source": [
    "(\n",
    "    alt.Chart(gapminder)\n",
    "    .mark_circle()\n",
    "    .encode(\n",
    "        alt.X(\"income:Q\", scale=alt.Scale(type=\"log\")),\n",
    "        alt.Y(\"health:Q\", scale=alt.Scale(zero=False)),\n",
    "        size=\"population:Q\",\n",
    "        tooltip=list(gapminder.columns),\n",
    "    )\n",
    "    .properties(width=800, height=600)\n",
    "    .interactive()\n",
    ")"
   ]
  },
  {
   "cell_type": "markdown",
   "metadata": {
    "slideshow": {
     "slide_type": "slide"
    }
   },
   "source": [
    "#### K-Means with scikit-learn"
   ]
  },
  {
   "cell_type": "code",
   "execution_count": 5,
   "metadata": {
    "slideshow": {
     "slide_type": "fragment"
    }
   },
   "outputs": [],
   "source": [
    "from sklearn.cluster import KMeans"
   ]
  },
  {
   "cell_type": "markdown",
   "metadata": {
    "slideshow": {
     "slide_type": "slide"
    }
   },
   "source": [
    "Let's start with 5 clusters"
   ]
  },
  {
   "cell_type": "code",
   "execution_count": 6,
   "metadata": {
    "tags": []
   },
   "outputs": [
    {
     "data": {
      "text/plain": [
       "\u001b[0;31mInit signature:\u001b[0m\n",
       "\u001b[0mKMeans\u001b[0m\u001b[0;34m(\u001b[0m\u001b[0;34m\u001b[0m\n",
       "\u001b[0;34m\u001b[0m    \u001b[0mn_clusters\u001b[0m\u001b[0;34m=\u001b[0m\u001b[0;36m8\u001b[0m\u001b[0;34m,\u001b[0m\u001b[0;34m\u001b[0m\n",
       "\u001b[0;34m\u001b[0m    \u001b[0;34m*\u001b[0m\u001b[0;34m,\u001b[0m\u001b[0;34m\u001b[0m\n",
       "\u001b[0;34m\u001b[0m    \u001b[0minit\u001b[0m\u001b[0;34m=\u001b[0m\u001b[0;34m'k-means++'\u001b[0m\u001b[0;34m,\u001b[0m\u001b[0;34m\u001b[0m\n",
       "\u001b[0;34m\u001b[0m    \u001b[0mn_init\u001b[0m\u001b[0;34m=\u001b[0m\u001b[0;34m'warn'\u001b[0m\u001b[0;34m,\u001b[0m\u001b[0;34m\u001b[0m\n",
       "\u001b[0;34m\u001b[0m    \u001b[0mmax_iter\u001b[0m\u001b[0;34m=\u001b[0m\u001b[0;36m300\u001b[0m\u001b[0;34m,\u001b[0m\u001b[0;34m\u001b[0m\n",
       "\u001b[0;34m\u001b[0m    \u001b[0mtol\u001b[0m\u001b[0;34m=\u001b[0m\u001b[0;36m0.0001\u001b[0m\u001b[0;34m,\u001b[0m\u001b[0;34m\u001b[0m\n",
       "\u001b[0;34m\u001b[0m    \u001b[0mverbose\u001b[0m\u001b[0;34m=\u001b[0m\u001b[0;36m0\u001b[0m\u001b[0;34m,\u001b[0m\u001b[0;34m\u001b[0m\n",
       "\u001b[0;34m\u001b[0m    \u001b[0mrandom_state\u001b[0m\u001b[0;34m=\u001b[0m\u001b[0;32mNone\u001b[0m\u001b[0;34m,\u001b[0m\u001b[0;34m\u001b[0m\n",
       "\u001b[0;34m\u001b[0m    \u001b[0mcopy_x\u001b[0m\u001b[0;34m=\u001b[0m\u001b[0;32mTrue\u001b[0m\u001b[0;34m,\u001b[0m\u001b[0;34m\u001b[0m\n",
       "\u001b[0;34m\u001b[0m    \u001b[0malgorithm\u001b[0m\u001b[0;34m=\u001b[0m\u001b[0;34m'lloyd'\u001b[0m\u001b[0;34m,\u001b[0m\u001b[0;34m\u001b[0m\n",
       "\u001b[0;34m\u001b[0m\u001b[0;34m)\u001b[0m\u001b[0;34m\u001b[0m\u001b[0;34m\u001b[0m\u001b[0m\n",
       "\u001b[0;31mDocstring:\u001b[0m     \n",
       "K-Means clustering.\n",
       "\n",
       "Read more in the :ref:`User Guide <k_means>`.\n",
       "\n",
       "Parameters\n",
       "----------\n",
       "\n",
       "n_clusters : int, default=8\n",
       "    The number of clusters to form as well as the number of\n",
       "    centroids to generate.\n",
       "\n",
       "init : {'k-means++', 'random'}, callable or array-like of shape             (n_clusters, n_features), default='k-means++'\n",
       "    Method for initialization:\n",
       "\n",
       "    'k-means++' : selects initial cluster centroids using sampling based on\n",
       "    an empirical probability distribution of the points' contribution to the\n",
       "    overall inertia. This technique speeds up convergence. The algorithm\n",
       "    implemented is \"greedy k-means++\". It differs from the vanilla k-means++\n",
       "    by making several trials at each sampling step and choosing the best centroid\n",
       "    among them.\n",
       "\n",
       "    'random': choose `n_clusters` observations (rows) at random from data\n",
       "    for the initial centroids.\n",
       "\n",
       "    If an array is passed, it should be of shape (n_clusters, n_features)\n",
       "    and gives the initial centers.\n",
       "\n",
       "    If a callable is passed, it should take arguments X, n_clusters and a\n",
       "    random state and return an initialization.\n",
       "\n",
       "n_init : 'auto' or int, default=10\n",
       "    Number of times the k-means algorithm is run with different centroid\n",
       "    seeds. The final results is the best output of `n_init` consecutive runs\n",
       "    in terms of inertia. Several runs are recommended for sparse\n",
       "    high-dimensional problems (see :ref:`kmeans_sparse_high_dim`).\n",
       "\n",
       "    When `n_init='auto'`, the number of runs depends on the value of init:\n",
       "    10 if using `init='random'` or `init` is a callable;\n",
       "    1 if using `init='k-means++'` or `init` is an array-like.\n",
       "\n",
       "    .. versionadded:: 1.2\n",
       "       Added 'auto' option for `n_init`.\n",
       "\n",
       "    .. versionchanged:: 1.4\n",
       "       Default value for `n_init` will change from 10 to `'auto'` in version 1.4.\n",
       "\n",
       "max_iter : int, default=300\n",
       "    Maximum number of iterations of the k-means algorithm for a\n",
       "    single run.\n",
       "\n",
       "tol : float, default=1e-4\n",
       "    Relative tolerance with regards to Frobenius norm of the difference\n",
       "    in the cluster centers of two consecutive iterations to declare\n",
       "    convergence.\n",
       "\n",
       "verbose : int, default=0\n",
       "    Verbosity mode.\n",
       "\n",
       "random_state : int, RandomState instance or None, default=None\n",
       "    Determines random number generation for centroid initialization. Use\n",
       "    an int to make the randomness deterministic.\n",
       "    See :term:`Glossary <random_state>`.\n",
       "\n",
       "copy_x : bool, default=True\n",
       "    When pre-computing distances it is more numerically accurate to center\n",
       "    the data first. If copy_x is True (default), then the original data is\n",
       "    not modified. If False, the original data is modified, and put back\n",
       "    before the function returns, but small numerical differences may be\n",
       "    introduced by subtracting and then adding the data mean. Note that if\n",
       "    the original data is not C-contiguous, a copy will be made even if\n",
       "    copy_x is False. If the original data is sparse, but not in CSR format,\n",
       "    a copy will be made even if copy_x is False.\n",
       "\n",
       "algorithm : {\"lloyd\", \"elkan\", \"auto\", \"full\"}, default=\"lloyd\"\n",
       "    K-means algorithm to use. The classical EM-style algorithm is `\"lloyd\"`.\n",
       "    The `\"elkan\"` variation can be more efficient on some datasets with\n",
       "    well-defined clusters, by using the triangle inequality. However it's\n",
       "    more memory intensive due to the allocation of an extra array of shape\n",
       "    `(n_samples, n_clusters)`.\n",
       "\n",
       "    `\"auto\"` and `\"full\"` are deprecated and they will be removed in\n",
       "    Scikit-Learn 1.3. They are both aliases for `\"lloyd\"`.\n",
       "\n",
       "    .. versionchanged:: 0.18\n",
       "        Added Elkan algorithm\n",
       "\n",
       "    .. versionchanged:: 1.1\n",
       "        Renamed \"full\" to \"lloyd\", and deprecated \"auto\" and \"full\".\n",
       "        Changed \"auto\" to use \"lloyd\" instead of \"elkan\".\n",
       "\n",
       "Attributes\n",
       "----------\n",
       "cluster_centers_ : ndarray of shape (n_clusters, n_features)\n",
       "    Coordinates of cluster centers. If the algorithm stops before fully\n",
       "    converging (see ``tol`` and ``max_iter``), these will not be\n",
       "    consistent with ``labels_``.\n",
       "\n",
       "labels_ : ndarray of shape (n_samples,)\n",
       "    Labels of each point\n",
       "\n",
       "inertia_ : float\n",
       "    Sum of squared distances of samples to their closest cluster center,\n",
       "    weighted by the sample weights if provided.\n",
       "\n",
       "n_iter_ : int\n",
       "    Number of iterations run.\n",
       "\n",
       "n_features_in_ : int\n",
       "    Number of features seen during :term:`fit`.\n",
       "\n",
       "    .. versionadded:: 0.24\n",
       "\n",
       "feature_names_in_ : ndarray of shape (`n_features_in_`,)\n",
       "    Names of features seen during :term:`fit`. Defined only when `X`\n",
       "    has feature names that are all strings.\n",
       "\n",
       "    .. versionadded:: 1.0\n",
       "\n",
       "See Also\n",
       "--------\n",
       "MiniBatchKMeans : Alternative online implementation that does incremental\n",
       "    updates of the centers positions using mini-batches.\n",
       "    For large scale learning (say n_samples > 10k) MiniBatchKMeans is\n",
       "    probably much faster than the default batch implementation.\n",
       "\n",
       "Notes\n",
       "-----\n",
       "The k-means problem is solved using either Lloyd's or Elkan's algorithm.\n",
       "\n",
       "The average complexity is given by O(k n T), where n is the number of\n",
       "samples and T is the number of iteration.\n",
       "\n",
       "The worst case complexity is given by O(n^(k+2/p)) with\n",
       "n = n_samples, p = n_features.\n",
       "Refer to :doi:`\"How slow is the k-means method?\" D. Arthur and S. Vassilvitskii -\n",
       "SoCG2006.<10.1145/1137856.1137880>` for more details.\n",
       "\n",
       "In practice, the k-means algorithm is very fast (one of the fastest\n",
       "clustering algorithms available), but it falls in local minima. That's why\n",
       "it can be useful to restart it several times.\n",
       "\n",
       "If the algorithm stops before fully converging (because of ``tol`` or\n",
       "``max_iter``), ``labels_`` and ``cluster_centers_`` will not be consistent,\n",
       "i.e. the ``cluster_centers_`` will not be the means of the points in each\n",
       "cluster. Also, the estimator will reassign ``labels_`` after the last\n",
       "iteration to make ``labels_`` consistent with ``predict`` on the training\n",
       "set.\n",
       "\n",
       "Examples\n",
       "--------\n",
       "\n",
       ">>> from sklearn.cluster import KMeans\n",
       ">>> import numpy as np\n",
       ">>> X = np.array([[1, 2], [1, 4], [1, 0],\n",
       "...               [10, 2], [10, 4], [10, 0]])\n",
       ">>> kmeans = KMeans(n_clusters=2, random_state=0, n_init=\"auto\").fit(X)\n",
       ">>> kmeans.labels_\n",
       "array([1, 1, 1, 0, 0, 0], dtype=int32)\n",
       ">>> kmeans.predict([[0, 0], [12, 3]])\n",
       "array([1, 0], dtype=int32)\n",
       ">>> kmeans.cluster_centers_\n",
       "array([[10.,  2.],\n",
       "       [ 1.,  2.]])\n",
       "\u001b[0;31mFile:\u001b[0m           ~/mambaforge/envs/musa-550-fall-2023/lib/python3.10/site-packages/sklearn/cluster/_kmeans.py\n",
       "\u001b[0;31mType:\u001b[0m           ABCMeta\n",
       "\u001b[0;31mSubclasses:\u001b[0m     "
      ]
     },
     "metadata": {},
     "output_type": "display_data"
    }
   ],
   "source": [
    "KMeans?"
   ]
  },
  {
   "cell_type": "code",
   "execution_count": 7,
   "metadata": {
    "slideshow": {
     "slide_type": "subslide"
    }
   },
   "outputs": [],
   "source": [
    "kmeans = KMeans(n_clusters=5, n_init=10)"
   ]
  },
  {
   "cell_type": "markdown",
   "metadata": {
    "slideshow": {
     "slide_type": "subslide"
    }
   },
   "source": [
    "Lot's of optional parameters, but `n_clusters` is the most important:"
   ]
  },
  {
   "cell_type": "markdown",
   "metadata": {
    "slideshow": {
     "slide_type": "slide"
    }
   },
   "source": [
    "#### Let's fit just income first\n",
    "\n",
    "Use the `fit()` function"
   ]
  },
  {
   "cell_type": "code",
   "execution_count": 8,
   "metadata": {
    "slideshow": {
     "slide_type": "fragment"
    }
   },
   "outputs": [],
   "source": [
    "kmeans.fit(gapminder[['income']]);"
   ]
  },
  {
   "cell_type": "markdown",
   "metadata": {
    "slideshow": {
     "slide_type": "slide"
    }
   },
   "source": [
    "#### Extract the cluster labels\n",
    "\n",
    "Use the `labels_` attribute"
   ]
  },
  {
   "cell_type": "code",
   "execution_count": 9,
   "metadata": {
    "slideshow": {
     "slide_type": "fragment"
    }
   },
   "outputs": [],
   "source": [
    "gapminder['label'] = kmeans.labels_"
   ]
  },
  {
   "cell_type": "markdown",
   "metadata": {
    "slideshow": {
     "slide_type": "slide"
    }
   },
   "source": [
    "#### How big are our clusters?"
   ]
  },
  {
   "cell_type": "code",
   "execution_count": 10,
   "metadata": {
    "slideshow": {
     "slide_type": "fragment"
    }
   },
   "outputs": [
    {
     "data": {
      "text/plain": [
       "label\n",
       "0    106\n",
       "1      6\n",
       "2     50\n",
       "3      1\n",
       "4     24\n",
       "dtype: int64"
      ]
     },
     "execution_count": 10,
     "metadata": {},
     "output_type": "execute_result"
    }
   ],
   "source": [
    "gapminder.groupby('label').size()"
   ]
  },
  {
   "cell_type": "markdown",
   "metadata": {
    "slideshow": {
     "slide_type": "slide"
    }
   },
   "source": [
    "#### Plot it again, coloring by our labels"
   ]
  },
  {
   "cell_type": "code",
   "execution_count": 11,
   "metadata": {
    "slideshow": {
     "slide_type": "subslide"
    }
   },
   "outputs": [
    {
     "data": {
      "text/html": [
       "\n",
       "<style>\n",
       "  #altair-viz-83eddae6dd0848f6aa07ee9491213d98.vega-embed {\n",
       "    width: 100%;\n",
       "    display: flex;\n",
       "  }\n",
       "\n",
       "  #altair-viz-83eddae6dd0848f6aa07ee9491213d98.vega-embed details,\n",
       "  #altair-viz-83eddae6dd0848f6aa07ee9491213d98.vega-embed details summary {\n",
       "    position: relative;\n",
       "  }\n",
       "</style>\n",
       "<div id=\"altair-viz-83eddae6dd0848f6aa07ee9491213d98\"></div>\n",
       "<script type=\"text/javascript\">\n",
       "  var VEGA_DEBUG = (typeof VEGA_DEBUG == \"undefined\") ? {} : VEGA_DEBUG;\n",
       "  (function(spec, embedOpt){\n",
       "    let outputDiv = document.currentScript.previousElementSibling;\n",
       "    if (outputDiv.id !== \"altair-viz-83eddae6dd0848f6aa07ee9491213d98\") {\n",
       "      outputDiv = document.getElementById(\"altair-viz-83eddae6dd0848f6aa07ee9491213d98\");\n",
       "    }\n",
       "    const paths = {\n",
       "      \"vega\": \"https://cdn.jsdelivr.net/npm/vega@5?noext\",\n",
       "      \"vega-lib\": \"https://cdn.jsdelivr.net/npm/vega-lib?noext\",\n",
       "      \"vega-lite\": \"https://cdn.jsdelivr.net/npm/vega-lite@5.14.1?noext\",\n",
       "      \"vega-embed\": \"https://cdn.jsdelivr.net/npm/vega-embed@6?noext\",\n",
       "    };\n",
       "\n",
       "    function maybeLoadScript(lib, version) {\n",
       "      var key = `${lib.replace(\"-\", \"\")}_version`;\n",
       "      return (VEGA_DEBUG[key] == version) ?\n",
       "        Promise.resolve(paths[lib]) :\n",
       "        new Promise(function(resolve, reject) {\n",
       "          var s = document.createElement('script');\n",
       "          document.getElementsByTagName(\"head\")[0].appendChild(s);\n",
       "          s.async = true;\n",
       "          s.onload = () => {\n",
       "            VEGA_DEBUG[key] = version;\n",
       "            return resolve(paths[lib]);\n",
       "          };\n",
       "          s.onerror = () => reject(`Error loading script: ${paths[lib]}`);\n",
       "          s.src = paths[lib];\n",
       "        });\n",
       "    }\n",
       "\n",
       "    function showError(err) {\n",
       "      outputDiv.innerHTML = `<div class=\"error\" style=\"color:red;\">${err}</div>`;\n",
       "      throw err;\n",
       "    }\n",
       "\n",
       "    function displayChart(vegaEmbed) {\n",
       "      vegaEmbed(outputDiv, spec, embedOpt)\n",
       "        .catch(err => showError(`Javascript Error: ${err.message}<br>This usually means there's a typo in your chart specification. See the javascript console for the full traceback.`));\n",
       "    }\n",
       "\n",
       "    if(typeof define === \"function\" && define.amd) {\n",
       "      requirejs.config({paths});\n",
       "      require([\"vega-embed\"], displayChart, err => showError(`Error loading script: ${err.message}`));\n",
       "    } else {\n",
       "      maybeLoadScript(\"vega\", \"5\")\n",
       "        .then(() => maybeLoadScript(\"vega-lite\", \"5.14.1\"))\n",
       "        .then(() => maybeLoadScript(\"vega-embed\", \"6\"))\n",
       "        .catch(showError)\n",
       "        .then(() => displayChart(vegaEmbed));\n",
       "    }\n",
       "  })({\"config\": {\"view\": {\"continuousWidth\": 300, \"continuousHeight\": 300}}, \"data\": {\"name\": \"data-d9e6fabb9055911832784c2d26798428\"}, \"mark\": {\"type\": \"circle\"}, \"encoding\": {\"color\": {\"field\": \"label\", \"scale\": {\"scheme\": \"dark2\"}, \"type\": \"nominal\"}, \"size\": {\"field\": \"population\", \"type\": \"quantitative\"}, \"tooltip\": [{\"field\": \"country\", \"type\": \"nominal\"}, {\"field\": \"income\", \"type\": \"quantitative\"}, {\"field\": \"health\", \"type\": \"quantitative\"}, {\"field\": \"population\", \"type\": \"quantitative\"}, {\"field\": \"label\", \"type\": \"quantitative\"}], \"x\": {\"field\": \"income\", \"scale\": {\"type\": \"log\"}, \"type\": \"quantitative\"}, \"y\": {\"field\": \"health\", \"scale\": {\"zero\": false}, \"type\": \"quantitative\"}}, \"height\": 600, \"params\": [{\"name\": \"param_2\", \"select\": {\"type\": \"interval\", \"encodings\": [\"x\", \"y\"]}, \"bind\": \"scales\"}], \"width\": 800, \"$schema\": \"https://vega.github.io/schema/vega-lite/v5.14.1.json\", \"datasets\": {\"data-d9e6fabb9055911832784c2d26798428\": [{\"country\": \"Afghanistan\", \"income\": 1925, \"health\": 57.63, \"population\": 32526562, \"label\": 0}, {\"country\": \"Albania\", \"income\": 10620, \"health\": 76.0, \"population\": 2896679, \"label\": 0}, {\"country\": \"Algeria\", \"income\": 13434, \"health\": 76.5, \"population\": 39666519, \"label\": 2}, {\"country\": \"Andorra\", \"income\": 46577, \"health\": 84.1, \"population\": 70473, \"label\": 4}, {\"country\": \"Angola\", \"income\": 7615, \"health\": 61.0, \"population\": 25021974, \"label\": 0}, {\"country\": \"Antigua and Barbuda\", \"income\": 21049, \"health\": 75.2, \"population\": 91818, \"label\": 2}, {\"country\": \"Argentina\", \"income\": 17344, \"health\": 76.2, \"population\": 43416755, \"label\": 2}, {\"country\": \"Armenia\", \"income\": 7763, \"health\": 74.4, \"population\": 3017712, \"label\": 0}, {\"country\": \"Australia\", \"income\": 44056, \"health\": 81.8, \"population\": 23968973, \"label\": 4}, {\"country\": \"Austria\", \"income\": 44401, \"health\": 81.0, \"population\": 8544586, \"label\": 4}, {\"country\": \"Azerbaijan\", \"income\": 16986, \"health\": 72.9, \"population\": 9753968, \"label\": 2}, {\"country\": \"Bahamas\", \"income\": 22818, \"health\": 72.3, \"population\": 388019, \"label\": 2}, {\"country\": \"Bahrain\", \"income\": 44138, \"health\": 79.2, \"population\": 1377237, \"label\": 4}, {\"country\": \"Bangladesh\", \"income\": 3161, \"health\": 70.1, \"population\": 160995642, \"label\": 0}, {\"country\": \"Barbados\", \"income\": 12984, \"health\": 75.8, \"population\": 284215, \"label\": 0}, {\"country\": \"Belarus\", \"income\": 17415, \"health\": 70.4, \"population\": 9495826, \"label\": 2}, {\"country\": \"Belgium\", \"income\": 41240, \"health\": 80.4, \"population\": 11299192, \"label\": 4}, {\"country\": \"Belize\", \"income\": 8501, \"health\": 70.0, \"population\": 359287, \"label\": 0}, {\"country\": \"Benin\", \"income\": 1830, \"health\": 65.5, \"population\": 10879829, \"label\": 0}, {\"country\": \"Bhutan\", \"income\": 7983, \"health\": 70.2, \"population\": 774830, \"label\": 0}, {\"country\": \"Bolivia\", \"income\": 6295, \"health\": 72.3, \"population\": 10724705, \"label\": 0}, {\"country\": \"Bosnia and Herzegovina\", \"income\": 9833, \"health\": 77.9, \"population\": 3810416, \"label\": 0}, {\"country\": \"Botswana\", \"income\": 17196, \"health\": 66.4, \"population\": 2262485, \"label\": 2}, {\"country\": \"Brazil\", \"income\": 15441, \"health\": 75.6, \"population\": 207847528, \"label\": 2}, {\"country\": \"Brunei\", \"income\": 73003, \"health\": 78.7, \"population\": 423188, \"label\": 1}, {\"country\": \"Bulgaria\", \"income\": 16371, \"health\": 74.9, \"population\": 7149787, \"label\": 2}, {\"country\": \"Burkina Faso\", \"income\": 1654, \"health\": 62.8, \"population\": 18105570, \"label\": 0}, {\"country\": \"Burundi\", \"income\": 777, \"health\": 60.4, \"population\": 11178921, \"label\": 0}, {\"country\": \"Cambodia\", \"income\": 3267, \"health\": 68.4, \"population\": 15577899, \"label\": 0}, {\"country\": \"Cameroon\", \"income\": 2897, \"health\": 59.5, \"population\": 23344179, \"label\": 0}, {\"country\": \"Canada\", \"income\": 43294, \"health\": 81.7, \"population\": 35939927, \"label\": 4}, {\"country\": \"Cape Verde\", \"income\": 6514, \"health\": 74.6, \"population\": 520502, \"label\": 0}, {\"country\": \"Central African Republic\", \"income\": 599, \"health\": 53.8, \"population\": 4900274, \"label\": 0}, {\"country\": \"Chad\", \"income\": 2191, \"health\": 57.7, \"population\": 14037472, \"label\": 0}, {\"country\": \"Chile\", \"income\": 22465, \"health\": 79.3, \"population\": 17948141, \"label\": 2}, {\"country\": \"China\", \"income\": 13334, \"health\": 76.9, \"population\": 1376048943, \"label\": 2}, {\"country\": \"Colombia\", \"income\": 12761, \"health\": 75.8, \"population\": 48228704, \"label\": 0}, {\"country\": \"Comoros\", \"income\": 1472, \"health\": 64.1, \"population\": 788474, \"label\": 0}, {\"country\": \"Congo, Dem. Rep.\", \"income\": 809, \"health\": 58.3, \"population\": 77266814, \"label\": 0}, {\"country\": \"Congo, Rep.\", \"income\": 6220, \"health\": 61.9, \"population\": 4620330, \"label\": 0}, {\"country\": \"Costa Rica\", \"income\": 14132, \"health\": 80.0, \"population\": 4807850, \"label\": 2}, {\"country\": \"Cote d'Ivoire\", \"income\": 3491, \"health\": 60.33, \"population\": 22701556, \"label\": 0}, {\"country\": \"Croatia\", \"income\": 20260, \"health\": 78.0, \"population\": 4240317, \"label\": 2}, {\"country\": \"Cuba\", \"income\": 21291, \"health\": 78.5, \"population\": 11389562, \"label\": 2}, {\"country\": \"Cyprus\", \"income\": 29797, \"health\": 82.6, \"population\": 1165300, \"label\": 2}, {\"country\": \"Czech Republic\", \"income\": 29437, \"health\": 78.6, \"population\": 10543186, \"label\": 2}, {\"country\": \"Denmark\", \"income\": 43495, \"health\": 80.1, \"population\": 5669081, \"label\": 4}, {\"country\": \"Djibouti\", \"income\": 3139, \"health\": 64.63, \"population\": 887861, \"label\": 0}, {\"country\": \"Dominica\", \"income\": 10503, \"health\": 74.6, \"population\": 72680, \"label\": 0}, {\"country\": \"Dominican Republic\", \"income\": 12837, \"health\": 73.8, \"population\": 10528391, \"label\": 0}, {\"country\": \"Ecuador\", \"income\": 10996, \"health\": 75.2, \"population\": 16144363, \"label\": 0}, {\"country\": \"Egypt\", \"income\": 11031, \"health\": 71.3, \"population\": 91508084, \"label\": 0}, {\"country\": \"El Salvador\", \"income\": 7776, \"health\": 74.1, \"population\": 6126583, \"label\": 0}, {\"country\": \"Equatorial Guinea\", \"income\": 31087, \"health\": 60.63, \"population\": 845060, \"label\": 2}, {\"country\": \"Eritrea\", \"income\": 1129, \"health\": 62.9, \"population\": 5227791, \"label\": 0}, {\"country\": \"Estonia\", \"income\": 26812, \"health\": 76.8, \"population\": 1312558, \"label\": 2}, {\"country\": \"Ethiopia\", \"income\": 1520, \"health\": 63.6, \"population\": 99390750, \"label\": 0}, {\"country\": \"Fiji\", \"income\": 7925, \"health\": 66.3, \"population\": 892145, \"label\": 0}, {\"country\": \"Finland\", \"income\": 38923, \"health\": 80.8, \"population\": 5503457, \"label\": 4}, {\"country\": \"France\", \"income\": 37599, \"health\": 81.9, \"population\": 64395345, \"label\": 4}, {\"country\": \"Gabon\", \"income\": 18627, \"health\": 60.53, \"population\": 1725292, \"label\": 2}, {\"country\": \"Gambia\", \"income\": 1644, \"health\": 65.1, \"population\": 1990924, \"label\": 0}, {\"country\": \"Georgia\", \"income\": 7474, \"health\": 73.3, \"population\": 3999812, \"label\": 0}, {\"country\": \"Germany\", \"income\": 44053, \"health\": 81.1, \"population\": 80688545, \"label\": 4}, {\"country\": \"Ghana\", \"income\": 4099, \"health\": 65.5, \"population\": 27409893, \"label\": 0}, {\"country\": \"Greece\", \"income\": 25430, \"health\": 79.8, \"population\": 10954617, \"label\": 2}, {\"country\": \"Grenada\", \"income\": 11593, \"health\": 71.7, \"population\": 106825, \"label\": 0}, {\"country\": \"Guatemala\", \"income\": 7279, \"health\": 73.1, \"population\": 16342897, \"label\": 0}, {\"country\": \"Guinea\", \"income\": 1225, \"health\": 60.8, \"population\": 12608590, \"label\": 0}, {\"country\": \"Guinea-Bissau\", \"income\": 1386, \"health\": 53.4, \"population\": 1844325, \"label\": 0}, {\"country\": \"Guyana\", \"income\": 6816, \"health\": 64.4, \"population\": 767085, \"label\": 0}, {\"country\": \"Haiti\", \"income\": 1710, \"health\": 65.3, \"population\": 10711067, \"label\": 0}, {\"country\": \"Honduras\", \"income\": 4270, \"health\": 72.4, \"population\": 8075060, \"label\": 0}, {\"country\": \"Hungary\", \"income\": 24200, \"health\": 76.2, \"population\": 9855023, \"label\": 2}, {\"country\": \"Iceland\", \"income\": 42182, \"health\": 82.8, \"population\": 329425, \"label\": 4}, {\"country\": \"India\", \"income\": 5903, \"health\": 66.8, \"population\": 1311050527, \"label\": 0}, {\"country\": \"Indonesia\", \"income\": 10504, \"health\": 70.9, \"population\": 257563815, \"label\": 0}, {\"country\": \"Iran\", \"income\": 15573, \"health\": 78.5, \"population\": 79109272, \"label\": 2}, {\"country\": \"Iraq\", \"income\": 14646, \"health\": 72.1, \"population\": 36423395, \"label\": 2}, {\"country\": \"Ireland\", \"income\": 47758, \"health\": 80.4, \"population\": 4688465, \"label\": 4}, {\"country\": \"Israel\", \"income\": 31590, \"health\": 82.4, \"population\": 8064036, \"label\": 2}, {\"country\": \"Italy\", \"income\": 33297, \"health\": 82.1, \"population\": 59797685, \"label\": 4}, {\"country\": \"Jamaica\", \"income\": 8606, \"health\": 75.5, \"population\": 2793335, \"label\": 0}, {\"country\": \"Japan\", \"income\": 36162, \"health\": 83.5, \"population\": 126573481, \"label\": 4}, {\"country\": \"Jordan\", \"income\": 11752, \"health\": 78.3, \"population\": 7594547, \"label\": 0}, {\"country\": \"Kazakhstan\", \"income\": 23468, \"health\": 68.2, \"population\": 17625226, \"label\": 2}, {\"country\": \"Kenya\", \"income\": 2898, \"health\": 66.63, \"population\": 46050302, \"label\": 0}, {\"country\": \"Kiribati\", \"income\": 1824, \"health\": 62.4, \"population\": 112423, \"label\": 0}, {\"country\": \"Kuwait\", \"income\": 82633, \"health\": 80.7, \"population\": 3892115, \"label\": 1}, {\"country\": \"Kyrgyz Republic\", \"income\": 3245, \"health\": 69.0, \"population\": 5939962, \"label\": 0}, {\"country\": \"Lao\", \"income\": 5212, \"health\": 66.4, \"population\": 6802023, \"label\": 0}, {\"country\": \"Latvia\", \"income\": 23282, \"health\": 75.7, \"population\": 1970503, \"label\": 2}, {\"country\": \"Lebanon\", \"income\": 17050, \"health\": 78.5, \"population\": 5850743, \"label\": 2}, {\"country\": \"Lesotho\", \"income\": 2598, \"health\": 48.5, \"population\": 2135022, \"label\": 0}, {\"country\": \"Liberia\", \"income\": 958, \"health\": 63.9, \"population\": 4503438, \"label\": 0}, {\"country\": \"Libya\", \"income\": 17261, \"health\": 76.2, \"population\": 6278438, \"label\": 2}, {\"country\": \"Lithuania\", \"income\": 26665, \"health\": 75.4, \"population\": 2878405, \"label\": 2}, {\"country\": \"Luxembourg\", \"income\": 88314, \"health\": 81.1, \"population\": 567110, \"label\": 1}, {\"country\": \"Macedonia, FYR\", \"income\": 12547, \"health\": 77.0, \"population\": 2078453, \"label\": 0}, {\"country\": \"Madagascar\", \"income\": 1400, \"health\": 64.7, \"population\": 24235390, \"label\": 0}, {\"country\": \"Malawi\", \"income\": 799, \"health\": 60.22, \"population\": 17215232, \"label\": 0}, {\"country\": \"Malaysia\", \"income\": 24320, \"health\": 75.1, \"population\": 30331007, \"label\": 2}, {\"country\": \"Maldives\", \"income\": 14408, \"health\": 79.5, \"population\": 363657, \"label\": 2}, {\"country\": \"Mali\", \"income\": 1684, \"health\": 57.6, \"population\": 17599694, \"label\": 0}, {\"country\": \"Malta\", \"income\": 30265, \"health\": 82.1, \"population\": 418670, \"label\": 2}, {\"country\": \"Marshall Islands\", \"income\": 3661, \"health\": 65.1, \"population\": 52993, \"label\": 0}, {\"country\": \"Mauritania\", \"income\": 3877, \"health\": 65.7, \"population\": 4067564, \"label\": 0}, {\"country\": \"Mauritius\", \"income\": 18350, \"health\": 73.9, \"population\": 1273212, \"label\": 2}, {\"country\": \"Mexico\", \"income\": 16850, \"health\": 74.5, \"population\": 127017224, \"label\": 2}, {\"country\": \"Micronesia, Fed. Sts.\", \"income\": 3510, \"health\": 67.0, \"population\": 104460, \"label\": 0}, {\"country\": \"Moldova\", \"income\": 4896, \"health\": 72.7, \"population\": 4068897, \"label\": 0}, {\"country\": \"Mongolia\", \"income\": 11819, \"health\": 65.3, \"population\": 2959134, \"label\": 0}, {\"country\": \"Montenegro\", \"income\": 14833, \"health\": 75.8, \"population\": 625781, \"label\": 2}, {\"country\": \"Morocco\", \"income\": 7319, \"health\": 74.7, \"population\": 34377511, \"label\": 0}, {\"country\": \"Mozambique\", \"income\": 1176, \"health\": 56.4, \"population\": 27977863, \"label\": 0}, {\"country\": \"Myanmar\", \"income\": 4012, \"health\": 67.9, \"population\": 53897154, \"label\": 0}, {\"country\": \"Namibia\", \"income\": 10040, \"health\": 61.0, \"population\": 2458830, \"label\": 0}, {\"country\": \"Nepal\", \"income\": 2352, \"health\": 71.2, \"population\": 28513700, \"label\": 0}, {\"country\": \"Netherlands\", \"income\": 45784, \"health\": 80.6, \"population\": 16924929, \"label\": 4}, {\"country\": \"New Zealand\", \"income\": 34186, \"health\": 80.6, \"population\": 4528526, \"label\": 4}, {\"country\": \"Nicaragua\", \"income\": 4712, \"health\": 76.8, \"population\": 6082032, \"label\": 0}, {\"country\": \"Niger\", \"income\": 943, \"health\": 62.2, \"population\": 19899120, \"label\": 0}, {\"country\": \"Nigeria\", \"income\": 5727, \"health\": 61.33, \"population\": 182201962, \"label\": 0}, {\"country\": \"North Korea\", \"income\": 1390, \"health\": 71.4, \"population\": 25155317, \"label\": 0}, {\"country\": \"Norway\", \"income\": 64304, \"health\": 81.6, \"population\": 5210967, \"label\": 1}, {\"country\": \"Oman\", \"income\": 48226, \"health\": 75.7, \"population\": 4490541, \"label\": 4}, {\"country\": \"Pakistan\", \"income\": 4743, \"health\": 66.5, \"population\": 188924874, \"label\": 0}, {\"country\": \"Panama\", \"income\": 20485, \"health\": 78.2, \"population\": 3929141, \"label\": 2}, {\"country\": \"Papua New Guinea\", \"income\": 2529, \"health\": 60.6, \"population\": 7619321, \"label\": 0}, {\"country\": \"Paraguay\", \"income\": 8219, \"health\": 73.9, \"population\": 6639123, \"label\": 0}, {\"country\": \"Peru\", \"income\": 11903, \"health\": 77.5, \"population\": 31376670, \"label\": 0}, {\"country\": \"Philippines\", \"income\": 6876, \"health\": 70.2, \"population\": 100699395, \"label\": 0}, {\"country\": \"Poland\", \"income\": 24787, \"health\": 77.3, \"population\": 38611794, \"label\": 2}, {\"country\": \"Portugal\", \"income\": 26437, \"health\": 79.8, \"population\": 10349803, \"label\": 2}, {\"country\": \"Qatar\", \"income\": 132877, \"health\": 82.0, \"population\": 2235355, \"label\": 3}, {\"country\": \"Romania\", \"income\": 19203, \"health\": 76.8, \"population\": 19511324, \"label\": 2}, {\"country\": \"Russia\", \"income\": 23038, \"health\": 73.13, \"population\": 143456918, \"label\": 2}, {\"country\": \"Rwanda\", \"income\": 1549, \"health\": 66.53, \"population\": 11609666, \"label\": 0}, {\"country\": \"Samoa\", \"income\": 5558, \"health\": 72.2, \"population\": 193228, \"label\": 0}, {\"country\": \"Sao Tome and Principe\", \"income\": 3003, \"health\": 68.8, \"population\": 190344, \"label\": 0}, {\"country\": \"Saudi Arabia\", \"income\": 52469, \"health\": 78.1, \"population\": 31540372, \"label\": 4}, {\"country\": \"Senegal\", \"income\": 2251, \"health\": 66.1, \"population\": 15129273, \"label\": 0}, {\"country\": \"Serbia\", \"income\": 12908, \"health\": 78.1, \"population\": 8850975, \"label\": 0}, {\"country\": \"Seychelles\", \"income\": 25684, \"health\": 73.7, \"population\": 96471, \"label\": 2}, {\"country\": \"Sierra Leone\", \"income\": 2085, \"health\": 58.5, \"population\": 6453184, \"label\": 0}, {\"country\": \"Singapore\", \"income\": 80794, \"health\": 82.1, \"population\": 5603740, \"label\": 1}, {\"country\": \"Slovak Republic\", \"income\": 27204, \"health\": 76.4, \"population\": 5426258, \"label\": 2}, {\"country\": \"Slovenia\", \"income\": 28550, \"health\": 80.2, \"population\": 2067526, \"label\": 2}, {\"country\": \"Solomon Islands\", \"income\": 2047, \"health\": 64.1, \"population\": 583591, \"label\": 0}, {\"country\": \"Somalia\", \"income\": 624, \"health\": 58.7, \"population\": 10787104, \"label\": 0}, {\"country\": \"South Africa\", \"income\": 12509, \"health\": 63.72, \"population\": 54490406, \"label\": 0}, {\"country\": \"South Korea\", \"income\": 34644, \"health\": 80.7, \"population\": 50293439, \"label\": 4}, {\"country\": \"South Sudan\", \"income\": 3047, \"health\": 58.0, \"population\": 12339812, \"label\": 0}, {\"country\": \"Spain\", \"income\": 32979, \"health\": 81.7, \"population\": 46121699, \"label\": 4}, {\"country\": \"Sri Lanka\", \"income\": 10624, \"health\": 76.5, \"population\": 20715010, \"label\": 0}, {\"country\": \"St. Lucia\", \"income\": 9997, \"health\": 74.5, \"population\": 184999, \"label\": 0}, {\"country\": \"St. Vincent and the Grenadines\", \"income\": 10435, \"health\": 72.9, \"population\": 109462, \"label\": 0}, {\"country\": \"Sudan\", \"income\": 3975, \"health\": 69.5, \"population\": 40234882, \"label\": 0}, {\"country\": \"Suriname\", \"income\": 17125, \"health\": 70.5, \"population\": 542975, \"label\": 2}, {\"country\": \"Swaziland\", \"income\": 6095, \"health\": 51.5, \"population\": 1286970, \"label\": 0}, {\"country\": \"Sweden\", \"income\": 44892, \"health\": 82.0, \"population\": 9779426, \"label\": 4}, {\"country\": \"Switzerland\", \"income\": 56118, \"health\": 82.9, \"population\": 8298663, \"label\": 4}, {\"country\": \"Syria\", \"income\": 4637, \"health\": 70.26, \"population\": 18502413, \"label\": 0}, {\"country\": \"Tajikistan\", \"income\": 2582, \"health\": 71.0, \"population\": 8481855, \"label\": 0}, {\"country\": \"Tanzania\", \"income\": 2571, \"health\": 63.43, \"population\": 53470420, \"label\": 0}, {\"country\": \"Thailand\", \"income\": 14512, \"health\": 75.1, \"population\": 67959359, \"label\": 2}, {\"country\": \"Timor-Leste\", \"income\": 2086, \"health\": 72.4, \"population\": 1184765, \"label\": 0}, {\"country\": \"Togo\", \"income\": 1433, \"health\": 64.23, \"population\": 7304578, \"label\": 0}, {\"country\": \"Tonga\", \"income\": 5069, \"health\": 70.5, \"population\": 106170, \"label\": 0}, {\"country\": \"Trinidad and Tobago\", \"income\": 30113, \"health\": 71.4, \"population\": 1360088, \"label\": 2}, {\"country\": \"Tunisia\", \"income\": 11126, \"health\": 77.3, \"population\": 11253554, \"label\": 0}, {\"country\": \"Turkey\", \"income\": 19360, \"health\": 76.5, \"population\": 78665830, \"label\": 2}, {\"country\": \"Turkmenistan\", \"income\": 15865, \"health\": 67.9, \"population\": 5373502, \"label\": 2}, {\"country\": \"Uganda\", \"income\": 1680, \"health\": 60.8, \"population\": 39032383, \"label\": 0}, {\"country\": \"Ukraine\", \"income\": 8449, \"health\": 72.1, \"population\": 44823765, \"label\": 0}, {\"country\": \"United Arab Emirates\", \"income\": 60749, \"health\": 76.6, \"population\": 9156963, \"label\": 1}, {\"country\": \"United Kingdom\", \"income\": 38225, \"health\": 81.4, \"population\": 64715810, \"label\": 4}, {\"country\": \"United States\", \"income\": 53354, \"health\": 79.1, \"population\": 321773631, \"label\": 4}, {\"country\": \"Uruguay\", \"income\": 20438, \"health\": 77.3, \"population\": 3431555, \"label\": 2}, {\"country\": \"Uzbekistan\", \"income\": 5598, \"health\": 70.1, \"population\": 29893488, \"label\": 0}, {\"country\": \"Vanuatu\", \"income\": 2912, \"health\": 65.0, \"population\": 264652, \"label\": 0}, {\"country\": \"Venezuela\", \"income\": 15753, \"health\": 75.8, \"population\": 31108083, \"label\": 2}, {\"country\": \"Vietnam\", \"income\": 5623, \"health\": 76.5, \"population\": 93447601, \"label\": 0}, {\"country\": \"West Bank and Gaza\", \"income\": 4319, \"health\": 75.2, \"population\": 4668466, \"label\": 0}, {\"country\": \"Yemen\", \"income\": 3887, \"health\": 67.6, \"population\": 26832215, \"label\": 0}, {\"country\": \"Zambia\", \"income\": 4034, \"health\": 58.96, \"population\": 16211767, \"label\": 0}, {\"country\": \"Zimbabwe\", \"income\": 1801, \"health\": 60.01, \"population\": 15602751, \"label\": 0}]}}, {\"mode\": \"vega-lite\"});\n",
       "</script>"
      ],
      "text/plain": [
       "alt.Chart(...)"
      ]
     },
     "execution_count": 11,
     "metadata": {},
     "output_type": "execute_result"
    }
   ],
   "source": [
    "(\n",
    "    alt.Chart(gapminder)\n",
    "    .mark_circle()\n",
    "    .encode(\n",
    "        alt.X(\"income:Q\", scale=alt.Scale(type=\"log\")),\n",
    "        alt.Y(\"health:Q\", scale=alt.Scale(zero=False)),\n",
    "        size=\"population:Q\",\n",
    "        color=alt.Color(\"label:N\", scale=alt.Scale(scheme=\"dark2\")),\n",
    "        tooltip=list(gapminder.columns),\n",
    "    )\n",
    "    .properties(width=800, height=600)\n",
    "    .interactive()\n",
    ")"
   ]
  },
  {
   "cell_type": "markdown",
   "metadata": {
    "slideshow": {
     "slide_type": "slide"
    }
   },
   "source": [
    "#### Calculate average income by group"
   ]
  },
  {
   "cell_type": "code",
   "execution_count": 12,
   "metadata": {
    "slideshow": {
     "slide_type": "subslide"
    }
   },
   "outputs": [
    {
     "data": {
      "text/plain": [
       "label\n",
       "0      5279.830189\n",
       "2     21040.820000\n",
       "4     42835.500000\n",
       "1     74966.166667\n",
       "3    132877.000000\n",
       "Name: income, dtype: float64"
      ]
     },
     "execution_count": 12,
     "metadata": {},
     "output_type": "execute_result"
    }
   ],
   "source": [
    "gapminder.groupby(\"label\")['income'].mean().sort_values()"
   ]
  },
  {
   "cell_type": "markdown",
   "metadata": {
    "slideshow": {
     "slide_type": "subslide"
    }
   },
   "source": [
    "Data is nicely partitioned into income levels"
   ]
  },
  {
   "cell_type": "markdown",
   "metadata": {
    "slideshow": {
     "slide_type": "slide"
    }
   },
   "source": [
    "#### How about health, income, and population?"
   ]
  },
  {
   "cell_type": "code",
   "execution_count": 13,
   "metadata": {
    "slideshow": {
     "slide_type": "fragment"
    }
   },
   "outputs": [],
   "source": [
    "# Fit all three columns\n",
    "kmeans.fit(gapminder[['income', 'health', 'population']])\n",
    "\n",
    "# Extract the labels\n",
    "gapminder['label'] = kmeans.labels_"
   ]
  },
  {
   "cell_type": "code",
   "execution_count": 14,
   "metadata": {},
   "outputs": [
    {
     "data": {
      "text/html": [
       "<div>\n",
       "<style scoped>\n",
       "    .dataframe tbody tr th:only-of-type {\n",
       "        vertical-align: middle;\n",
       "    }\n",
       "\n",
       "    .dataframe tbody tr th {\n",
       "        vertical-align: top;\n",
       "    }\n",
       "\n",
       "    .dataframe thead th {\n",
       "        text-align: right;\n",
       "    }\n",
       "</style>\n",
       "<table border=\"1\" class=\"dataframe\">\n",
       "  <thead>\n",
       "    <tr style=\"text-align: right;\">\n",
       "      <th></th>\n",
       "      <th>country</th>\n",
       "      <th>income</th>\n",
       "      <th>health</th>\n",
       "      <th>population</th>\n",
       "      <th>label</th>\n",
       "    </tr>\n",
       "  </thead>\n",
       "  <tbody>\n",
       "    <tr>\n",
       "      <th>0</th>\n",
       "      <td>Afghanistan</td>\n",
       "      <td>1925</td>\n",
       "      <td>57.63</td>\n",
       "      <td>32526562</td>\n",
       "      <td>2</td>\n",
       "    </tr>\n",
       "    <tr>\n",
       "      <th>1</th>\n",
       "      <td>Albania</td>\n",
       "      <td>10620</td>\n",
       "      <td>76.00</td>\n",
       "      <td>2896679</td>\n",
       "      <td>2</td>\n",
       "    </tr>\n",
       "    <tr>\n",
       "      <th>2</th>\n",
       "      <td>Algeria</td>\n",
       "      <td>13434</td>\n",
       "      <td>76.50</td>\n",
       "      <td>39666519</td>\n",
       "      <td>0</td>\n",
       "    </tr>\n",
       "    <tr>\n",
       "      <th>3</th>\n",
       "      <td>Andorra</td>\n",
       "      <td>46577</td>\n",
       "      <td>84.10</td>\n",
       "      <td>70473</td>\n",
       "      <td>2</td>\n",
       "    </tr>\n",
       "    <tr>\n",
       "      <th>4</th>\n",
       "      <td>Angola</td>\n",
       "      <td>7615</td>\n",
       "      <td>61.00</td>\n",
       "      <td>25021974</td>\n",
       "      <td>2</td>\n",
       "    </tr>\n",
       "    <tr>\n",
       "      <th>...</th>\n",
       "      <td>...</td>\n",
       "      <td>...</td>\n",
       "      <td>...</td>\n",
       "      <td>...</td>\n",
       "      <td>...</td>\n",
       "    </tr>\n",
       "    <tr>\n",
       "      <th>182</th>\n",
       "      <td>Vietnam</td>\n",
       "      <td>5623</td>\n",
       "      <td>76.50</td>\n",
       "      <td>93447601</td>\n",
       "      <td>0</td>\n",
       "    </tr>\n",
       "    <tr>\n",
       "      <th>183</th>\n",
       "      <td>West Bank and Gaza</td>\n",
       "      <td>4319</td>\n",
       "      <td>75.20</td>\n",
       "      <td>4668466</td>\n",
       "      <td>2</td>\n",
       "    </tr>\n",
       "    <tr>\n",
       "      <th>184</th>\n",
       "      <td>Yemen</td>\n",
       "      <td>3887</td>\n",
       "      <td>67.60</td>\n",
       "      <td>26832215</td>\n",
       "      <td>2</td>\n",
       "    </tr>\n",
       "    <tr>\n",
       "      <th>185</th>\n",
       "      <td>Zambia</td>\n",
       "      <td>4034</td>\n",
       "      <td>58.96</td>\n",
       "      <td>16211767</td>\n",
       "      <td>2</td>\n",
       "    </tr>\n",
       "    <tr>\n",
       "      <th>186</th>\n",
       "      <td>Zimbabwe</td>\n",
       "      <td>1801</td>\n",
       "      <td>60.01</td>\n",
       "      <td>15602751</td>\n",
       "      <td>2</td>\n",
       "    </tr>\n",
       "  </tbody>\n",
       "</table>\n",
       "<p>187 rows × 5 columns</p>\n",
       "</div>"
      ],
      "text/plain": [
       "                country  income  health  population  label\n",
       "0           Afghanistan    1925   57.63    32526562      2\n",
       "1               Albania   10620   76.00     2896679      2\n",
       "2               Algeria   13434   76.50    39666519      0\n",
       "3               Andorra   46577   84.10       70473      2\n",
       "4                Angola    7615   61.00    25021974      2\n",
       "..                  ...     ...     ...         ...    ...\n",
       "182             Vietnam    5623   76.50    93447601      0\n",
       "183  West Bank and Gaza    4319   75.20     4668466      2\n",
       "184               Yemen    3887   67.60    26832215      2\n",
       "185              Zambia    4034   58.96    16211767      2\n",
       "186            Zimbabwe    1801   60.01    15602751      2\n",
       "\n",
       "[187 rows x 5 columns]"
      ]
     },
     "execution_count": 14,
     "metadata": {},
     "output_type": "execute_result"
    }
   ],
   "source": [
    "gapminder"
   ]
  },
  {
   "cell_type": "code",
   "execution_count": 15,
   "metadata": {
    "slideshow": {
     "slide_type": "subslide"
    }
   },
   "outputs": [
    {
     "data": {
      "text/html": [
       "\n",
       "<style>\n",
       "  #altair-viz-87ba2fd581864b03b19dc5dc57f21fc1.vega-embed {\n",
       "    width: 100%;\n",
       "    display: flex;\n",
       "  }\n",
       "\n",
       "  #altair-viz-87ba2fd581864b03b19dc5dc57f21fc1.vega-embed details,\n",
       "  #altair-viz-87ba2fd581864b03b19dc5dc57f21fc1.vega-embed details summary {\n",
       "    position: relative;\n",
       "  }\n",
       "</style>\n",
       "<div id=\"altair-viz-87ba2fd581864b03b19dc5dc57f21fc1\"></div>\n",
       "<script type=\"text/javascript\">\n",
       "  var VEGA_DEBUG = (typeof VEGA_DEBUG == \"undefined\") ? {} : VEGA_DEBUG;\n",
       "  (function(spec, embedOpt){\n",
       "    let outputDiv = document.currentScript.previousElementSibling;\n",
       "    if (outputDiv.id !== \"altair-viz-87ba2fd581864b03b19dc5dc57f21fc1\") {\n",
       "      outputDiv = document.getElementById(\"altair-viz-87ba2fd581864b03b19dc5dc57f21fc1\");\n",
       "    }\n",
       "    const paths = {\n",
       "      \"vega\": \"https://cdn.jsdelivr.net/npm/vega@5?noext\",\n",
       "      \"vega-lib\": \"https://cdn.jsdelivr.net/npm/vega-lib?noext\",\n",
       "      \"vega-lite\": \"https://cdn.jsdelivr.net/npm/vega-lite@5.14.1?noext\",\n",
       "      \"vega-embed\": \"https://cdn.jsdelivr.net/npm/vega-embed@6?noext\",\n",
       "    };\n",
       "\n",
       "    function maybeLoadScript(lib, version) {\n",
       "      var key = `${lib.replace(\"-\", \"\")}_version`;\n",
       "      return (VEGA_DEBUG[key] == version) ?\n",
       "        Promise.resolve(paths[lib]) :\n",
       "        new Promise(function(resolve, reject) {\n",
       "          var s = document.createElement('script');\n",
       "          document.getElementsByTagName(\"head\")[0].appendChild(s);\n",
       "          s.async = true;\n",
       "          s.onload = () => {\n",
       "            VEGA_DEBUG[key] = version;\n",
       "            return resolve(paths[lib]);\n",
       "          };\n",
       "          s.onerror = () => reject(`Error loading script: ${paths[lib]}`);\n",
       "          s.src = paths[lib];\n",
       "        });\n",
       "    }\n",
       "\n",
       "    function showError(err) {\n",
       "      outputDiv.innerHTML = `<div class=\"error\" style=\"color:red;\">${err}</div>`;\n",
       "      throw err;\n",
       "    }\n",
       "\n",
       "    function displayChart(vegaEmbed) {\n",
       "      vegaEmbed(outputDiv, spec, embedOpt)\n",
       "        .catch(err => showError(`Javascript Error: ${err.message}<br>This usually means there's a typo in your chart specification. See the javascript console for the full traceback.`));\n",
       "    }\n",
       "\n",
       "    if(typeof define === \"function\" && define.amd) {\n",
       "      requirejs.config({paths});\n",
       "      require([\"vega-embed\"], displayChart, err => showError(`Error loading script: ${err.message}`));\n",
       "    } else {\n",
       "      maybeLoadScript(\"vega\", \"5\")\n",
       "        .then(() => maybeLoadScript(\"vega-lite\", \"5.14.1\"))\n",
       "        .then(() => maybeLoadScript(\"vega-embed\", \"6\"))\n",
       "        .catch(showError)\n",
       "        .then(() => displayChart(vegaEmbed));\n",
       "    }\n",
       "  })({\"config\": {\"view\": {\"continuousWidth\": 300, \"continuousHeight\": 300}}, \"data\": {\"name\": \"data-9bdcb01d9ae7af8ba89f000028eeb5f1\"}, \"mark\": {\"type\": \"circle\"}, \"encoding\": {\"color\": {\"field\": \"label\", \"scale\": {\"scheme\": \"dark2\"}, \"type\": \"nominal\"}, \"size\": {\"field\": \"population\", \"type\": \"quantitative\"}, \"tooltip\": [{\"field\": \"country\", \"type\": \"nominal\"}, {\"field\": \"income\", \"type\": \"quantitative\"}, {\"field\": \"health\", \"type\": \"quantitative\"}, {\"field\": \"population\", \"type\": \"quantitative\"}, {\"field\": \"label\", \"type\": \"quantitative\"}], \"x\": {\"field\": \"income\", \"scale\": {\"type\": \"log\"}, \"type\": \"quantitative\"}, \"y\": {\"field\": \"health\", \"scale\": {\"zero\": false}, \"type\": \"quantitative\"}}, \"height\": 600, \"params\": [{\"name\": \"param_3\", \"select\": {\"type\": \"interval\", \"encodings\": [\"x\", \"y\"]}, \"bind\": \"scales\"}], \"width\": 800, \"$schema\": \"https://vega.github.io/schema/vega-lite/v5.14.1.json\", \"datasets\": {\"data-9bdcb01d9ae7af8ba89f000028eeb5f1\": [{\"country\": \"Afghanistan\", \"income\": 1925, \"health\": 57.63, \"population\": 32526562, \"label\": 2}, {\"country\": \"Albania\", \"income\": 10620, \"health\": 76.0, \"population\": 2896679, \"label\": 2}, {\"country\": \"Algeria\", \"income\": 13434, \"health\": 76.5, \"population\": 39666519, \"label\": 0}, {\"country\": \"Andorra\", \"income\": 46577, \"health\": 84.1, \"population\": 70473, \"label\": 2}, {\"country\": \"Angola\", \"income\": 7615, \"health\": 61.0, \"population\": 25021974, \"label\": 2}, {\"country\": \"Antigua and Barbuda\", \"income\": 21049, \"health\": 75.2, \"population\": 91818, \"label\": 2}, {\"country\": \"Argentina\", \"income\": 17344, \"health\": 76.2, \"population\": 43416755, \"label\": 0}, {\"country\": \"Armenia\", \"income\": 7763, \"health\": 74.4, \"population\": 3017712, \"label\": 2}, {\"country\": \"Australia\", \"income\": 44056, \"health\": 81.8, \"population\": 23968973, \"label\": 2}, {\"country\": \"Austria\", \"income\": 44401, \"health\": 81.0, \"population\": 8544586, \"label\": 2}, {\"country\": \"Azerbaijan\", \"income\": 16986, \"health\": 72.9, \"population\": 9753968, \"label\": 2}, {\"country\": \"Bahamas\", \"income\": 22818, \"health\": 72.3, \"population\": 388019, \"label\": 2}, {\"country\": \"Bahrain\", \"income\": 44138, \"health\": 79.2, \"population\": 1377237, \"label\": 2}, {\"country\": \"Bangladesh\", \"income\": 3161, \"health\": 70.1, \"population\": 160995642, \"label\": 4}, {\"country\": \"Barbados\", \"income\": 12984, \"health\": 75.8, \"population\": 284215, \"label\": 2}, {\"country\": \"Belarus\", \"income\": 17415, \"health\": 70.4, \"population\": 9495826, \"label\": 2}, {\"country\": \"Belgium\", \"income\": 41240, \"health\": 80.4, \"population\": 11299192, \"label\": 2}, {\"country\": \"Belize\", \"income\": 8501, \"health\": 70.0, \"population\": 359287, \"label\": 2}, {\"country\": \"Benin\", \"income\": 1830, \"health\": 65.5, \"population\": 10879829, \"label\": 2}, {\"country\": \"Bhutan\", \"income\": 7983, \"health\": 70.2, \"population\": 774830, \"label\": 2}, {\"country\": \"Bolivia\", \"income\": 6295, \"health\": 72.3, \"population\": 10724705, \"label\": 2}, {\"country\": \"Bosnia and Herzegovina\", \"income\": 9833, \"health\": 77.9, \"population\": 3810416, \"label\": 2}, {\"country\": \"Botswana\", \"income\": 17196, \"health\": 66.4, \"population\": 2262485, \"label\": 2}, {\"country\": \"Brazil\", \"income\": 15441, \"health\": 75.6, \"population\": 207847528, \"label\": 4}, {\"country\": \"Brunei\", \"income\": 73003, \"health\": 78.7, \"population\": 423188, \"label\": 2}, {\"country\": \"Bulgaria\", \"income\": 16371, \"health\": 74.9, \"population\": 7149787, \"label\": 2}, {\"country\": \"Burkina Faso\", \"income\": 1654, \"health\": 62.8, \"population\": 18105570, \"label\": 2}, {\"country\": \"Burundi\", \"income\": 777, \"health\": 60.4, \"population\": 11178921, \"label\": 2}, {\"country\": \"Cambodia\", \"income\": 3267, \"health\": 68.4, \"population\": 15577899, \"label\": 2}, {\"country\": \"Cameroon\", \"income\": 2897, \"health\": 59.5, \"population\": 23344179, \"label\": 2}, {\"country\": \"Canada\", \"income\": 43294, \"health\": 81.7, \"population\": 35939927, \"label\": 0}, {\"country\": \"Cape Verde\", \"income\": 6514, \"health\": 74.6, \"population\": 520502, \"label\": 2}, {\"country\": \"Central African Republic\", \"income\": 599, \"health\": 53.8, \"population\": 4900274, \"label\": 2}, {\"country\": \"Chad\", \"income\": 2191, \"health\": 57.7, \"population\": 14037472, \"label\": 2}, {\"country\": \"Chile\", \"income\": 22465, \"health\": 79.3, \"population\": 17948141, \"label\": 2}, {\"country\": \"China\", \"income\": 13334, \"health\": 76.9, \"population\": 1376048943, \"label\": 1}, {\"country\": \"Colombia\", \"income\": 12761, \"health\": 75.8, \"population\": 48228704, \"label\": 0}, {\"country\": \"Comoros\", \"income\": 1472, \"health\": 64.1, \"population\": 788474, \"label\": 2}, {\"country\": \"Congo, Dem. Rep.\", \"income\": 809, \"health\": 58.3, \"population\": 77266814, \"label\": 0}, {\"country\": \"Congo, Rep.\", \"income\": 6220, \"health\": 61.9, \"population\": 4620330, \"label\": 2}, {\"country\": \"Costa Rica\", \"income\": 14132, \"health\": 80.0, \"population\": 4807850, \"label\": 2}, {\"country\": \"Cote d'Ivoire\", \"income\": 3491, \"health\": 60.33, \"population\": 22701556, \"label\": 2}, {\"country\": \"Croatia\", \"income\": 20260, \"health\": 78.0, \"population\": 4240317, \"label\": 2}, {\"country\": \"Cuba\", \"income\": 21291, \"health\": 78.5, \"population\": 11389562, \"label\": 2}, {\"country\": \"Cyprus\", \"income\": 29797, \"health\": 82.6, \"population\": 1165300, \"label\": 2}, {\"country\": \"Czech Republic\", \"income\": 29437, \"health\": 78.6, \"population\": 10543186, \"label\": 2}, {\"country\": \"Denmark\", \"income\": 43495, \"health\": 80.1, \"population\": 5669081, \"label\": 2}, {\"country\": \"Djibouti\", \"income\": 3139, \"health\": 64.63, \"population\": 887861, \"label\": 2}, {\"country\": \"Dominica\", \"income\": 10503, \"health\": 74.6, \"population\": 72680, \"label\": 2}, {\"country\": \"Dominican Republic\", \"income\": 12837, \"health\": 73.8, \"population\": 10528391, \"label\": 2}, {\"country\": \"Ecuador\", \"income\": 10996, \"health\": 75.2, \"population\": 16144363, \"label\": 2}, {\"country\": \"Egypt\", \"income\": 11031, \"health\": 71.3, \"population\": 91508084, \"label\": 0}, {\"country\": \"El Salvador\", \"income\": 7776, \"health\": 74.1, \"population\": 6126583, \"label\": 2}, {\"country\": \"Equatorial Guinea\", \"income\": 31087, \"health\": 60.63, \"population\": 845060, \"label\": 2}, {\"country\": \"Eritrea\", \"income\": 1129, \"health\": 62.9, \"population\": 5227791, \"label\": 2}, {\"country\": \"Estonia\", \"income\": 26812, \"health\": 76.8, \"population\": 1312558, \"label\": 2}, {\"country\": \"Ethiopia\", \"income\": 1520, \"health\": 63.6, \"population\": 99390750, \"label\": 0}, {\"country\": \"Fiji\", \"income\": 7925, \"health\": 66.3, \"population\": 892145, \"label\": 2}, {\"country\": \"Finland\", \"income\": 38923, \"health\": 80.8, \"population\": 5503457, \"label\": 2}, {\"country\": \"France\", \"income\": 37599, \"health\": 81.9, \"population\": 64395345, \"label\": 0}, {\"country\": \"Gabon\", \"income\": 18627, \"health\": 60.53, \"population\": 1725292, \"label\": 2}, {\"country\": \"Gambia\", \"income\": 1644, \"health\": 65.1, \"population\": 1990924, \"label\": 2}, {\"country\": \"Georgia\", \"income\": 7474, \"health\": 73.3, \"population\": 3999812, \"label\": 2}, {\"country\": \"Germany\", \"income\": 44053, \"health\": 81.1, \"population\": 80688545, \"label\": 0}, {\"country\": \"Ghana\", \"income\": 4099, \"health\": 65.5, \"population\": 27409893, \"label\": 2}, {\"country\": \"Greece\", \"income\": 25430, \"health\": 79.8, \"population\": 10954617, \"label\": 2}, {\"country\": \"Grenada\", \"income\": 11593, \"health\": 71.7, \"population\": 106825, \"label\": 2}, {\"country\": \"Guatemala\", \"income\": 7279, \"health\": 73.1, \"population\": 16342897, \"label\": 2}, {\"country\": \"Guinea\", \"income\": 1225, \"health\": 60.8, \"population\": 12608590, \"label\": 2}, {\"country\": \"Guinea-Bissau\", \"income\": 1386, \"health\": 53.4, \"population\": 1844325, \"label\": 2}, {\"country\": \"Guyana\", \"income\": 6816, \"health\": 64.4, \"population\": 767085, \"label\": 2}, {\"country\": \"Haiti\", \"income\": 1710, \"health\": 65.3, \"population\": 10711067, \"label\": 2}, {\"country\": \"Honduras\", \"income\": 4270, \"health\": 72.4, \"population\": 8075060, \"label\": 2}, {\"country\": \"Hungary\", \"income\": 24200, \"health\": 76.2, \"population\": 9855023, \"label\": 2}, {\"country\": \"Iceland\", \"income\": 42182, \"health\": 82.8, \"population\": 329425, \"label\": 2}, {\"country\": \"India\", \"income\": 5903, \"health\": 66.8, \"population\": 1311050527, \"label\": 1}, {\"country\": \"Indonesia\", \"income\": 10504, \"health\": 70.9, \"population\": 257563815, \"label\": 3}, {\"country\": \"Iran\", \"income\": 15573, \"health\": 78.5, \"population\": 79109272, \"label\": 0}, {\"country\": \"Iraq\", \"income\": 14646, \"health\": 72.1, \"population\": 36423395, \"label\": 0}, {\"country\": \"Ireland\", \"income\": 47758, \"health\": 80.4, \"population\": 4688465, \"label\": 2}, {\"country\": \"Israel\", \"income\": 31590, \"health\": 82.4, \"population\": 8064036, \"label\": 2}, {\"country\": \"Italy\", \"income\": 33297, \"health\": 82.1, \"population\": 59797685, \"label\": 0}, {\"country\": \"Jamaica\", \"income\": 8606, \"health\": 75.5, \"population\": 2793335, \"label\": 2}, {\"country\": \"Japan\", \"income\": 36162, \"health\": 83.5, \"population\": 126573481, \"label\": 4}, {\"country\": \"Jordan\", \"income\": 11752, \"health\": 78.3, \"population\": 7594547, \"label\": 2}, {\"country\": \"Kazakhstan\", \"income\": 23468, \"health\": 68.2, \"population\": 17625226, \"label\": 2}, {\"country\": \"Kenya\", \"income\": 2898, \"health\": 66.63, \"population\": 46050302, \"label\": 0}, {\"country\": \"Kiribati\", \"income\": 1824, \"health\": 62.4, \"population\": 112423, \"label\": 2}, {\"country\": \"Kuwait\", \"income\": 82633, \"health\": 80.7, \"population\": 3892115, \"label\": 2}, {\"country\": \"Kyrgyz Republic\", \"income\": 3245, \"health\": 69.0, \"population\": 5939962, \"label\": 2}, {\"country\": \"Lao\", \"income\": 5212, \"health\": 66.4, \"population\": 6802023, \"label\": 2}, {\"country\": \"Latvia\", \"income\": 23282, \"health\": 75.7, \"population\": 1970503, \"label\": 2}, {\"country\": \"Lebanon\", \"income\": 17050, \"health\": 78.5, \"population\": 5850743, \"label\": 2}, {\"country\": \"Lesotho\", \"income\": 2598, \"health\": 48.5, \"population\": 2135022, \"label\": 2}, {\"country\": \"Liberia\", \"income\": 958, \"health\": 63.9, \"population\": 4503438, \"label\": 2}, {\"country\": \"Libya\", \"income\": 17261, \"health\": 76.2, \"population\": 6278438, \"label\": 2}, {\"country\": \"Lithuania\", \"income\": 26665, \"health\": 75.4, \"population\": 2878405, \"label\": 2}, {\"country\": \"Luxembourg\", \"income\": 88314, \"health\": 81.1, \"population\": 567110, \"label\": 2}, {\"country\": \"Macedonia, FYR\", \"income\": 12547, \"health\": 77.0, \"population\": 2078453, \"label\": 2}, {\"country\": \"Madagascar\", \"income\": 1400, \"health\": 64.7, \"population\": 24235390, \"label\": 2}, {\"country\": \"Malawi\", \"income\": 799, \"health\": 60.22, \"population\": 17215232, \"label\": 2}, {\"country\": \"Malaysia\", \"income\": 24320, \"health\": 75.1, \"population\": 30331007, \"label\": 2}, {\"country\": \"Maldives\", \"income\": 14408, \"health\": 79.5, \"population\": 363657, \"label\": 2}, {\"country\": \"Mali\", \"income\": 1684, \"health\": 57.6, \"population\": 17599694, \"label\": 2}, {\"country\": \"Malta\", \"income\": 30265, \"health\": 82.1, \"population\": 418670, \"label\": 2}, {\"country\": \"Marshall Islands\", \"income\": 3661, \"health\": 65.1, \"population\": 52993, \"label\": 2}, {\"country\": \"Mauritania\", \"income\": 3877, \"health\": 65.7, \"population\": 4067564, \"label\": 2}, {\"country\": \"Mauritius\", \"income\": 18350, \"health\": 73.9, \"population\": 1273212, \"label\": 2}, {\"country\": \"Mexico\", \"income\": 16850, \"health\": 74.5, \"population\": 127017224, \"label\": 4}, {\"country\": \"Micronesia, Fed. Sts.\", \"income\": 3510, \"health\": 67.0, \"population\": 104460, \"label\": 2}, {\"country\": \"Moldova\", \"income\": 4896, \"health\": 72.7, \"population\": 4068897, \"label\": 2}, {\"country\": \"Mongolia\", \"income\": 11819, \"health\": 65.3, \"population\": 2959134, \"label\": 2}, {\"country\": \"Montenegro\", \"income\": 14833, \"health\": 75.8, \"population\": 625781, \"label\": 2}, {\"country\": \"Morocco\", \"income\": 7319, \"health\": 74.7, \"population\": 34377511, \"label\": 2}, {\"country\": \"Mozambique\", \"income\": 1176, \"health\": 56.4, \"population\": 27977863, \"label\": 2}, {\"country\": \"Myanmar\", \"income\": 4012, \"health\": 67.9, \"population\": 53897154, \"label\": 0}, {\"country\": \"Namibia\", \"income\": 10040, \"health\": 61.0, \"population\": 2458830, \"label\": 2}, {\"country\": \"Nepal\", \"income\": 2352, \"health\": 71.2, \"population\": 28513700, \"label\": 2}, {\"country\": \"Netherlands\", \"income\": 45784, \"health\": 80.6, \"population\": 16924929, \"label\": 2}, {\"country\": \"New Zealand\", \"income\": 34186, \"health\": 80.6, \"population\": 4528526, \"label\": 2}, {\"country\": \"Nicaragua\", \"income\": 4712, \"health\": 76.8, \"population\": 6082032, \"label\": 2}, {\"country\": \"Niger\", \"income\": 943, \"health\": 62.2, \"population\": 19899120, \"label\": 2}, {\"country\": \"Nigeria\", \"income\": 5727, \"health\": 61.33, \"population\": 182201962, \"label\": 4}, {\"country\": \"North Korea\", \"income\": 1390, \"health\": 71.4, \"population\": 25155317, \"label\": 2}, {\"country\": \"Norway\", \"income\": 64304, \"health\": 81.6, \"population\": 5210967, \"label\": 2}, {\"country\": \"Oman\", \"income\": 48226, \"health\": 75.7, \"population\": 4490541, \"label\": 2}, {\"country\": \"Pakistan\", \"income\": 4743, \"health\": 66.5, \"population\": 188924874, \"label\": 4}, {\"country\": \"Panama\", \"income\": 20485, \"health\": 78.2, \"population\": 3929141, \"label\": 2}, {\"country\": \"Papua New Guinea\", \"income\": 2529, \"health\": 60.6, \"population\": 7619321, \"label\": 2}, {\"country\": \"Paraguay\", \"income\": 8219, \"health\": 73.9, \"population\": 6639123, \"label\": 2}, {\"country\": \"Peru\", \"income\": 11903, \"health\": 77.5, \"population\": 31376670, \"label\": 2}, {\"country\": \"Philippines\", \"income\": 6876, \"health\": 70.2, \"population\": 100699395, \"label\": 0}, {\"country\": \"Poland\", \"income\": 24787, \"health\": 77.3, \"population\": 38611794, \"label\": 0}, {\"country\": \"Portugal\", \"income\": 26437, \"health\": 79.8, \"population\": 10349803, \"label\": 2}, {\"country\": \"Qatar\", \"income\": 132877, \"health\": 82.0, \"population\": 2235355, \"label\": 2}, {\"country\": \"Romania\", \"income\": 19203, \"health\": 76.8, \"population\": 19511324, \"label\": 2}, {\"country\": \"Russia\", \"income\": 23038, \"health\": 73.13, \"population\": 143456918, \"label\": 4}, {\"country\": \"Rwanda\", \"income\": 1549, \"health\": 66.53, \"population\": 11609666, \"label\": 2}, {\"country\": \"Samoa\", \"income\": 5558, \"health\": 72.2, \"population\": 193228, \"label\": 2}, {\"country\": \"Sao Tome and Principe\", \"income\": 3003, \"health\": 68.8, \"population\": 190344, \"label\": 2}, {\"country\": \"Saudi Arabia\", \"income\": 52469, \"health\": 78.1, \"population\": 31540372, \"label\": 2}, {\"country\": \"Senegal\", \"income\": 2251, \"health\": 66.1, \"population\": 15129273, \"label\": 2}, {\"country\": \"Serbia\", \"income\": 12908, \"health\": 78.1, \"population\": 8850975, \"label\": 2}, {\"country\": \"Seychelles\", \"income\": 25684, \"health\": 73.7, \"population\": 96471, \"label\": 2}, {\"country\": \"Sierra Leone\", \"income\": 2085, \"health\": 58.5, \"population\": 6453184, \"label\": 2}, {\"country\": \"Singapore\", \"income\": 80794, \"health\": 82.1, \"population\": 5603740, \"label\": 2}, {\"country\": \"Slovak Republic\", \"income\": 27204, \"health\": 76.4, \"population\": 5426258, \"label\": 2}, {\"country\": \"Slovenia\", \"income\": 28550, \"health\": 80.2, \"population\": 2067526, \"label\": 2}, {\"country\": \"Solomon Islands\", \"income\": 2047, \"health\": 64.1, \"population\": 583591, \"label\": 2}, {\"country\": \"Somalia\", \"income\": 624, \"health\": 58.7, \"population\": 10787104, \"label\": 2}, {\"country\": \"South Africa\", \"income\": 12509, \"health\": 63.72, \"population\": 54490406, \"label\": 0}, {\"country\": \"South Korea\", \"income\": 34644, \"health\": 80.7, \"population\": 50293439, \"label\": 0}, {\"country\": \"South Sudan\", \"income\": 3047, \"health\": 58.0, \"population\": 12339812, \"label\": 2}, {\"country\": \"Spain\", \"income\": 32979, \"health\": 81.7, \"population\": 46121699, \"label\": 0}, {\"country\": \"Sri Lanka\", \"income\": 10624, \"health\": 76.5, \"population\": 20715010, \"label\": 2}, {\"country\": \"St. Lucia\", \"income\": 9997, \"health\": 74.5, \"population\": 184999, \"label\": 2}, {\"country\": \"St. Vincent and the Grenadines\", \"income\": 10435, \"health\": 72.9, \"population\": 109462, \"label\": 2}, {\"country\": \"Sudan\", \"income\": 3975, \"health\": 69.5, \"population\": 40234882, \"label\": 0}, {\"country\": \"Suriname\", \"income\": 17125, \"health\": 70.5, \"population\": 542975, \"label\": 2}, {\"country\": \"Swaziland\", \"income\": 6095, \"health\": 51.5, \"population\": 1286970, \"label\": 2}, {\"country\": \"Sweden\", \"income\": 44892, \"health\": 82.0, \"population\": 9779426, \"label\": 2}, {\"country\": \"Switzerland\", \"income\": 56118, \"health\": 82.9, \"population\": 8298663, \"label\": 2}, {\"country\": \"Syria\", \"income\": 4637, \"health\": 70.26, \"population\": 18502413, \"label\": 2}, {\"country\": \"Tajikistan\", \"income\": 2582, \"health\": 71.0, \"population\": 8481855, \"label\": 2}, {\"country\": \"Tanzania\", \"income\": 2571, \"health\": 63.43, \"population\": 53470420, \"label\": 0}, {\"country\": \"Thailand\", \"income\": 14512, \"health\": 75.1, \"population\": 67959359, \"label\": 0}, {\"country\": \"Timor-Leste\", \"income\": 2086, \"health\": 72.4, \"population\": 1184765, \"label\": 2}, {\"country\": \"Togo\", \"income\": 1433, \"health\": 64.23, \"population\": 7304578, \"label\": 2}, {\"country\": \"Tonga\", \"income\": 5069, \"health\": 70.5, \"population\": 106170, \"label\": 2}, {\"country\": \"Trinidad and Tobago\", \"income\": 30113, \"health\": 71.4, \"population\": 1360088, \"label\": 2}, {\"country\": \"Tunisia\", \"income\": 11126, \"health\": 77.3, \"population\": 11253554, \"label\": 2}, {\"country\": \"Turkey\", \"income\": 19360, \"health\": 76.5, \"population\": 78665830, \"label\": 0}, {\"country\": \"Turkmenistan\", \"income\": 15865, \"health\": 67.9, \"population\": 5373502, \"label\": 2}, {\"country\": \"Uganda\", \"income\": 1680, \"health\": 60.8, \"population\": 39032383, \"label\": 0}, {\"country\": \"Ukraine\", \"income\": 8449, \"health\": 72.1, \"population\": 44823765, \"label\": 0}, {\"country\": \"United Arab Emirates\", \"income\": 60749, \"health\": 76.6, \"population\": 9156963, \"label\": 2}, {\"country\": \"United Kingdom\", \"income\": 38225, \"health\": 81.4, \"population\": 64715810, \"label\": 0}, {\"country\": \"United States\", \"income\": 53354, \"health\": 79.1, \"population\": 321773631, \"label\": 3}, {\"country\": \"Uruguay\", \"income\": 20438, \"health\": 77.3, \"population\": 3431555, \"label\": 2}, {\"country\": \"Uzbekistan\", \"income\": 5598, \"health\": 70.1, \"population\": 29893488, \"label\": 2}, {\"country\": \"Vanuatu\", \"income\": 2912, \"health\": 65.0, \"population\": 264652, \"label\": 2}, {\"country\": \"Venezuela\", \"income\": 15753, \"health\": 75.8, \"population\": 31108083, \"label\": 2}, {\"country\": \"Vietnam\", \"income\": 5623, \"health\": 76.5, \"population\": 93447601, \"label\": 0}, {\"country\": \"West Bank and Gaza\", \"income\": 4319, \"health\": 75.2, \"population\": 4668466, \"label\": 2}, {\"country\": \"Yemen\", \"income\": 3887, \"health\": 67.6, \"population\": 26832215, \"label\": 2}, {\"country\": \"Zambia\", \"income\": 4034, \"health\": 58.96, \"population\": 16211767, \"label\": 2}, {\"country\": \"Zimbabwe\", \"income\": 1801, \"health\": 60.01, \"population\": 15602751, \"label\": 2}]}}, {\"mode\": \"vega-lite\"});\n",
       "</script>"
      ],
      "text/plain": [
       "alt.Chart(...)"
      ]
     },
     "execution_count": 15,
     "metadata": {},
     "output_type": "execute_result"
    }
   ],
   "source": [
    "(\n",
    "    alt.Chart(gapminder)\n",
    "    .mark_circle()\n",
    "    .encode(\n",
    "        alt.X(\"income:Q\", scale=alt.Scale(type=\"log\")),\n",
    "        alt.Y(\"health:Q\", scale=alt.Scale(zero=False)),\n",
    "        size=\"population:Q\",\n",
    "        color=alt.Color(\"label:N\", scale=alt.Scale(scheme=\"dark2\")),\n",
    "        tooltip=list(gapminder.columns),\n",
    "    )\n",
    "    .properties(width=800, height=600)\n",
    "    .interactive()\n",
    ")"
   ]
  },
  {
   "cell_type": "markdown",
   "metadata": {
    "slideshow": {
     "slide_type": "slide"
    }
   },
   "source": [
    "#### It....didn't work that well\n",
    "\n",
    "What's wrong?"
   ]
  },
  {
   "cell_type": "markdown",
   "metadata": {
    "slideshow": {
     "slide_type": "subslide"
    }
   },
   "source": [
    "**K-means is distance-based, but our features have wildly different distance scales**"
   ]
  },
  {
   "cell_type": "markdown",
   "metadata": {
    "slideshow": {
     "slide_type": "slide"
    }
   },
   "source": [
    "#### scikit-learn to the rescue: pre-processing\n",
    "\n",
    "* Scikit-learn has a utility to normalize features with an average of zero and a variance of 1\n",
    "* Use the [`StandardScaler`](https://scikit-learn.org/stable/modules/generated/sklearn.preprocessing.StandardScaler.html) class"
   ]
  },
  {
   "cell_type": "code",
   "execution_count": 16,
   "metadata": {},
   "outputs": [],
   "source": [
    "from sklearn.preprocessing import MinMaxScaler, RobustScaler"
   ]
  },
  {
   "cell_type": "code",
   "execution_count": 17,
   "metadata": {
    "slideshow": {
     "slide_type": "fragment"
    }
   },
   "outputs": [],
   "source": [
    "from sklearn.preprocessing import StandardScaler"
   ]
  },
  {
   "cell_type": "code",
   "execution_count": 18,
   "metadata": {
    "slideshow": {
     "slide_type": "fragment"
    }
   },
   "outputs": [],
   "source": [
    "scaler = StandardScaler()"
   ]
  },
  {
   "cell_type": "markdown",
   "metadata": {
    "slideshow": {
     "slide_type": "slide"
    }
   },
   "source": [
    "#### Use the `fit_transform()` function to scale your features"
   ]
  },
  {
   "cell_type": "code",
   "execution_count": 19,
   "metadata": {
    "slideshow": {
     "slide_type": "fragment"
    }
   },
   "outputs": [],
   "source": [
    "gapminder_scaled = scaler.fit_transform(gapminder[['income', 'health', 'population']])"
   ]
  },
  {
   "cell_type": "markdown",
   "metadata": {
    "slideshow": {
     "slide_type": "slide"
    }
   },
   "source": [
    "**Important**: The `fit_transform()` function converts the DataFrame to a numpy array:"
   ]
  },
  {
   "cell_type": "code",
   "execution_count": 20,
   "metadata": {
    "slideshow": {
     "slide_type": "fragment"
    }
   },
   "outputs": [
    {
     "data": {
      "text/plain": [
       "array([[-0.79481258, -1.8171424 , -0.04592039],\n",
       "       [-0.34333373,  0.55986273, -0.25325837],\n",
       "       [-0.1972197 ,  0.62456075,  0.00404216],\n",
       "       [ 1.52369617,  1.6079706 , -0.27303503],\n",
       "       [-0.49936524, -1.38107777, -0.09843447]])"
      ]
     },
     "execution_count": 20,
     "metadata": {},
     "output_type": "execute_result"
    }
   ],
   "source": [
    "# fit_transform() converts the data into a numpy array\n",
    "gapminder_scaled[:5]"
   ]
  },
  {
   "cell_type": "code",
   "execution_count": 21,
   "metadata": {
    "slideshow": {
     "slide_type": "subslide"
    }
   },
   "outputs": [
    {
     "data": {
      "text/plain": [
       "array([ 8.07434927e-17, -1.70511258e-15, -1.89984689e-17])"
      ]
     },
     "execution_count": 21,
     "metadata": {},
     "output_type": "execute_result"
    }
   ],
   "source": [
    "# mean of zero\n",
    "gapminder_scaled.mean(axis=0)"
   ]
  },
  {
   "cell_type": "code",
   "execution_count": 22,
   "metadata": {
    "slideshow": {
     "slide_type": "subslide"
    }
   },
   "outputs": [
    {
     "data": {
      "text/plain": [
       "array([1., 1., 1.])"
      ]
     },
     "execution_count": 22,
     "metadata": {},
     "output_type": "execute_result"
    }
   ],
   "source": [
    "# variance of one\n",
    "gapminder_scaled.std(axis=0)"
   ]
  },
  {
   "cell_type": "markdown",
   "metadata": {
    "slideshow": {
     "slide_type": "slide"
    }
   },
   "source": [
    "#### Now fit the scaled features"
   ]
  },
  {
   "cell_type": "code",
   "execution_count": 23,
   "metadata": {
    "slideshow": {
     "slide_type": "fragment"
    }
   },
   "outputs": [],
   "source": [
    "# Perform the fit\n",
    "kmeans.fit(gapminder_scaled)\n",
    "\n",
    "# Extract the labels\n",
    "gapminder['label'] = kmeans.labels_"
   ]
  },
  {
   "cell_type": "code",
   "execution_count": 24,
   "metadata": {
    "slideshow": {
     "slide_type": "subslide"
    }
   },
   "outputs": [
    {
     "data": {
      "text/html": [
       "\n",
       "<style>\n",
       "  #altair-viz-bf339b7a13bc44e4bba1db4b29a58540.vega-embed {\n",
       "    width: 100%;\n",
       "    display: flex;\n",
       "  }\n",
       "\n",
       "  #altair-viz-bf339b7a13bc44e4bba1db4b29a58540.vega-embed details,\n",
       "  #altair-viz-bf339b7a13bc44e4bba1db4b29a58540.vega-embed details summary {\n",
       "    position: relative;\n",
       "  }\n",
       "</style>\n",
       "<div id=\"altair-viz-bf339b7a13bc44e4bba1db4b29a58540\"></div>\n",
       "<script type=\"text/javascript\">\n",
       "  var VEGA_DEBUG = (typeof VEGA_DEBUG == \"undefined\") ? {} : VEGA_DEBUG;\n",
       "  (function(spec, embedOpt){\n",
       "    let outputDiv = document.currentScript.previousElementSibling;\n",
       "    if (outputDiv.id !== \"altair-viz-bf339b7a13bc44e4bba1db4b29a58540\") {\n",
       "      outputDiv = document.getElementById(\"altair-viz-bf339b7a13bc44e4bba1db4b29a58540\");\n",
       "    }\n",
       "    const paths = {\n",
       "      \"vega\": \"https://cdn.jsdelivr.net/npm/vega@5?noext\",\n",
       "      \"vega-lib\": \"https://cdn.jsdelivr.net/npm/vega-lib?noext\",\n",
       "      \"vega-lite\": \"https://cdn.jsdelivr.net/npm/vega-lite@5.14.1?noext\",\n",
       "      \"vega-embed\": \"https://cdn.jsdelivr.net/npm/vega-embed@6?noext\",\n",
       "    };\n",
       "\n",
       "    function maybeLoadScript(lib, version) {\n",
       "      var key = `${lib.replace(\"-\", \"\")}_version`;\n",
       "      return (VEGA_DEBUG[key] == version) ?\n",
       "        Promise.resolve(paths[lib]) :\n",
       "        new Promise(function(resolve, reject) {\n",
       "          var s = document.createElement('script');\n",
       "          document.getElementsByTagName(\"head\")[0].appendChild(s);\n",
       "          s.async = true;\n",
       "          s.onload = () => {\n",
       "            VEGA_DEBUG[key] = version;\n",
       "            return resolve(paths[lib]);\n",
       "          };\n",
       "          s.onerror = () => reject(`Error loading script: ${paths[lib]}`);\n",
       "          s.src = paths[lib];\n",
       "        });\n",
       "    }\n",
       "\n",
       "    function showError(err) {\n",
       "      outputDiv.innerHTML = `<div class=\"error\" style=\"color:red;\">${err}</div>`;\n",
       "      throw err;\n",
       "    }\n",
       "\n",
       "    function displayChart(vegaEmbed) {\n",
       "      vegaEmbed(outputDiv, spec, embedOpt)\n",
       "        .catch(err => showError(`Javascript Error: ${err.message}<br>This usually means there's a typo in your chart specification. See the javascript console for the full traceback.`));\n",
       "    }\n",
       "\n",
       "    if(typeof define === \"function\" && define.amd) {\n",
       "      requirejs.config({paths});\n",
       "      require([\"vega-embed\"], displayChart, err => showError(`Error loading script: ${err.message}`));\n",
       "    } else {\n",
       "      maybeLoadScript(\"vega\", \"5\")\n",
       "        .then(() => maybeLoadScript(\"vega-lite\", \"5.14.1\"))\n",
       "        .then(() => maybeLoadScript(\"vega-embed\", \"6\"))\n",
       "        .catch(showError)\n",
       "        .then(() => displayChart(vegaEmbed));\n",
       "    }\n",
       "  })({\"config\": {\"view\": {\"continuousWidth\": 300, \"continuousHeight\": 300}}, \"data\": {\"name\": \"data-c92387706a33a28cc7b11ad841f4502b\"}, \"mark\": {\"type\": \"circle\"}, \"encoding\": {\"color\": {\"field\": \"label\", \"scale\": {\"scheme\": \"dark2\"}, \"type\": \"nominal\"}, \"size\": {\"field\": \"population\", \"type\": \"quantitative\"}, \"tooltip\": [{\"field\": \"country\", \"type\": \"nominal\"}, {\"field\": \"income\", \"type\": \"quantitative\"}, {\"field\": \"health\", \"type\": \"quantitative\"}, {\"field\": \"population\", \"type\": \"quantitative\"}, {\"field\": \"label\", \"type\": \"quantitative\"}], \"x\": {\"field\": \"income\", \"scale\": {\"type\": \"log\"}, \"type\": \"quantitative\"}, \"y\": {\"field\": \"health\", \"scale\": {\"zero\": false}, \"type\": \"quantitative\"}}, \"height\": 600, \"params\": [{\"name\": \"param_4\", \"select\": {\"type\": \"interval\", \"encodings\": [\"x\", \"y\"]}, \"bind\": \"scales\"}], \"width\": 800, \"$schema\": \"https://vega.github.io/schema/vega-lite/v5.14.1.json\", \"datasets\": {\"data-c92387706a33a28cc7b11ad841f4502b\": [{\"country\": \"Afghanistan\", \"income\": 1925, \"health\": 57.63, \"population\": 32526562, \"label\": 0}, {\"country\": \"Albania\", \"income\": 10620, \"health\": 76.0, \"population\": 2896679, \"label\": 1}, {\"country\": \"Algeria\", \"income\": 13434, \"health\": 76.5, \"population\": 39666519, \"label\": 1}, {\"country\": \"Andorra\", \"income\": 46577, \"health\": 84.1, \"population\": 70473, \"label\": 4}, {\"country\": \"Angola\", \"income\": 7615, \"health\": 61.0, \"population\": 25021974, \"label\": 0}, {\"country\": \"Antigua and Barbuda\", \"income\": 21049, \"health\": 75.2, \"population\": 91818, \"label\": 1}, {\"country\": \"Argentina\", \"income\": 17344, \"health\": 76.2, \"population\": 43416755, \"label\": 1}, {\"country\": \"Armenia\", \"income\": 7763, \"health\": 74.4, \"population\": 3017712, \"label\": 1}, {\"country\": \"Australia\", \"income\": 44056, \"health\": 81.8, \"population\": 23968973, \"label\": 4}, {\"country\": \"Austria\", \"income\": 44401, \"health\": 81.0, \"population\": 8544586, \"label\": 4}, {\"country\": \"Azerbaijan\", \"income\": 16986, \"health\": 72.9, \"population\": 9753968, \"label\": 1}, {\"country\": \"Bahamas\", \"income\": 22818, \"health\": 72.3, \"population\": 388019, \"label\": 1}, {\"country\": \"Bahrain\", \"income\": 44138, \"health\": 79.2, \"population\": 1377237, \"label\": 4}, {\"country\": \"Bangladesh\", \"income\": 3161, \"health\": 70.1, \"population\": 160995642, \"label\": 1}, {\"country\": \"Barbados\", \"income\": 12984, \"health\": 75.8, \"population\": 284215, \"label\": 1}, {\"country\": \"Belarus\", \"income\": 17415, \"health\": 70.4, \"population\": 9495826, \"label\": 1}, {\"country\": \"Belgium\", \"income\": 41240, \"health\": 80.4, \"population\": 11299192, \"label\": 4}, {\"country\": \"Belize\", \"income\": 8501, \"health\": 70.0, \"population\": 359287, \"label\": 1}, {\"country\": \"Benin\", \"income\": 1830, \"health\": 65.5, \"population\": 10879829, \"label\": 0}, {\"country\": \"Bhutan\", \"income\": 7983, \"health\": 70.2, \"population\": 774830, \"label\": 1}, {\"country\": \"Bolivia\", \"income\": 6295, \"health\": 72.3, \"population\": 10724705, \"label\": 1}, {\"country\": \"Bosnia and Herzegovina\", \"income\": 9833, \"health\": 77.9, \"population\": 3810416, \"label\": 1}, {\"country\": \"Botswana\", \"income\": 17196, \"health\": 66.4, \"population\": 2262485, \"label\": 0}, {\"country\": \"Brazil\", \"income\": 15441, \"health\": 75.6, \"population\": 207847528, \"label\": 1}, {\"country\": \"Brunei\", \"income\": 73003, \"health\": 78.7, \"population\": 423188, \"label\": 2}, {\"country\": \"Bulgaria\", \"income\": 16371, \"health\": 74.9, \"population\": 7149787, \"label\": 1}, {\"country\": \"Burkina Faso\", \"income\": 1654, \"health\": 62.8, \"population\": 18105570, \"label\": 0}, {\"country\": \"Burundi\", \"income\": 777, \"health\": 60.4, \"population\": 11178921, \"label\": 0}, {\"country\": \"Cambodia\", \"income\": 3267, \"health\": 68.4, \"population\": 15577899, \"label\": 0}, {\"country\": \"Cameroon\", \"income\": 2897, \"health\": 59.5, \"population\": 23344179, \"label\": 0}, {\"country\": \"Canada\", \"income\": 43294, \"health\": 81.7, \"population\": 35939927, \"label\": 4}, {\"country\": \"Cape Verde\", \"income\": 6514, \"health\": 74.6, \"population\": 520502, \"label\": 1}, {\"country\": \"Central African Republic\", \"income\": 599, \"health\": 53.8, \"population\": 4900274, \"label\": 0}, {\"country\": \"Chad\", \"income\": 2191, \"health\": 57.7, \"population\": 14037472, \"label\": 0}, {\"country\": \"Chile\", \"income\": 22465, \"health\": 79.3, \"population\": 17948141, \"label\": 1}, {\"country\": \"China\", \"income\": 13334, \"health\": 76.9, \"population\": 1376048943, \"label\": 3}, {\"country\": \"Colombia\", \"income\": 12761, \"health\": 75.8, \"population\": 48228704, \"label\": 1}, {\"country\": \"Comoros\", \"income\": 1472, \"health\": 64.1, \"population\": 788474, \"label\": 0}, {\"country\": \"Congo, Dem. Rep.\", \"income\": 809, \"health\": 58.3, \"population\": 77266814, \"label\": 0}, {\"country\": \"Congo, Rep.\", \"income\": 6220, \"health\": 61.9, \"population\": 4620330, \"label\": 0}, {\"country\": \"Costa Rica\", \"income\": 14132, \"health\": 80.0, \"population\": 4807850, \"label\": 1}, {\"country\": \"Cote d'Ivoire\", \"income\": 3491, \"health\": 60.33, \"population\": 22701556, \"label\": 0}, {\"country\": \"Croatia\", \"income\": 20260, \"health\": 78.0, \"population\": 4240317, \"label\": 1}, {\"country\": \"Cuba\", \"income\": 21291, \"health\": 78.5, \"population\": 11389562, \"label\": 1}, {\"country\": \"Cyprus\", \"income\": 29797, \"health\": 82.6, \"population\": 1165300, \"label\": 4}, {\"country\": \"Czech Republic\", \"income\": 29437, \"health\": 78.6, \"population\": 10543186, \"label\": 4}, {\"country\": \"Denmark\", \"income\": 43495, \"health\": 80.1, \"population\": 5669081, \"label\": 4}, {\"country\": \"Djibouti\", \"income\": 3139, \"health\": 64.63, \"population\": 887861, \"label\": 0}, {\"country\": \"Dominica\", \"income\": 10503, \"health\": 74.6, \"population\": 72680, \"label\": 1}, {\"country\": \"Dominican Republic\", \"income\": 12837, \"health\": 73.8, \"population\": 10528391, \"label\": 1}, {\"country\": \"Ecuador\", \"income\": 10996, \"health\": 75.2, \"population\": 16144363, \"label\": 1}, {\"country\": \"Egypt\", \"income\": 11031, \"health\": 71.3, \"population\": 91508084, \"label\": 1}, {\"country\": \"El Salvador\", \"income\": 7776, \"health\": 74.1, \"population\": 6126583, \"label\": 1}, {\"country\": \"Equatorial Guinea\", \"income\": 31087, \"health\": 60.63, \"population\": 845060, \"label\": 0}, {\"country\": \"Eritrea\", \"income\": 1129, \"health\": 62.9, \"population\": 5227791, \"label\": 0}, {\"country\": \"Estonia\", \"income\": 26812, \"health\": 76.8, \"population\": 1312558, \"label\": 1}, {\"country\": \"Ethiopia\", \"income\": 1520, \"health\": 63.6, \"population\": 99390750, \"label\": 0}, {\"country\": \"Fiji\", \"income\": 7925, \"health\": 66.3, \"population\": 892145, \"label\": 0}, {\"country\": \"Finland\", \"income\": 38923, \"health\": 80.8, \"population\": 5503457, \"label\": 4}, {\"country\": \"France\", \"income\": 37599, \"health\": 81.9, \"population\": 64395345, \"label\": 4}, {\"country\": \"Gabon\", \"income\": 18627, \"health\": 60.53, \"population\": 1725292, \"label\": 0}, {\"country\": \"Gambia\", \"income\": 1644, \"health\": 65.1, \"population\": 1990924, \"label\": 0}, {\"country\": \"Georgia\", \"income\": 7474, \"health\": 73.3, \"population\": 3999812, \"label\": 1}, {\"country\": \"Germany\", \"income\": 44053, \"health\": 81.1, \"population\": 80688545, \"label\": 4}, {\"country\": \"Ghana\", \"income\": 4099, \"health\": 65.5, \"population\": 27409893, \"label\": 0}, {\"country\": \"Greece\", \"income\": 25430, \"health\": 79.8, \"population\": 10954617, \"label\": 4}, {\"country\": \"Grenada\", \"income\": 11593, \"health\": 71.7, \"population\": 106825, \"label\": 1}, {\"country\": \"Guatemala\", \"income\": 7279, \"health\": 73.1, \"population\": 16342897, \"label\": 1}, {\"country\": \"Guinea\", \"income\": 1225, \"health\": 60.8, \"population\": 12608590, \"label\": 0}, {\"country\": \"Guinea-Bissau\", \"income\": 1386, \"health\": 53.4, \"population\": 1844325, \"label\": 0}, {\"country\": \"Guyana\", \"income\": 6816, \"health\": 64.4, \"population\": 767085, \"label\": 0}, {\"country\": \"Haiti\", \"income\": 1710, \"health\": 65.3, \"population\": 10711067, \"label\": 0}, {\"country\": \"Honduras\", \"income\": 4270, \"health\": 72.4, \"population\": 8075060, \"label\": 1}, {\"country\": \"Hungary\", \"income\": 24200, \"health\": 76.2, \"population\": 9855023, \"label\": 1}, {\"country\": \"Iceland\", \"income\": 42182, \"health\": 82.8, \"population\": 329425, \"label\": 4}, {\"country\": \"India\", \"income\": 5903, \"health\": 66.8, \"population\": 1311050527, \"label\": 3}, {\"country\": \"Indonesia\", \"income\": 10504, \"health\": 70.9, \"population\": 257563815, \"label\": 1}, {\"country\": \"Iran\", \"income\": 15573, \"health\": 78.5, \"population\": 79109272, \"label\": 1}, {\"country\": \"Iraq\", \"income\": 14646, \"health\": 72.1, \"population\": 36423395, \"label\": 1}, {\"country\": \"Ireland\", \"income\": 47758, \"health\": 80.4, \"population\": 4688465, \"label\": 4}, {\"country\": \"Israel\", \"income\": 31590, \"health\": 82.4, \"population\": 8064036, \"label\": 4}, {\"country\": \"Italy\", \"income\": 33297, \"health\": 82.1, \"population\": 59797685, \"label\": 4}, {\"country\": \"Jamaica\", \"income\": 8606, \"health\": 75.5, \"population\": 2793335, \"label\": 1}, {\"country\": \"Japan\", \"income\": 36162, \"health\": 83.5, \"population\": 126573481, \"label\": 4}, {\"country\": \"Jordan\", \"income\": 11752, \"health\": 78.3, \"population\": 7594547, \"label\": 1}, {\"country\": \"Kazakhstan\", \"income\": 23468, \"health\": 68.2, \"population\": 17625226, \"label\": 1}, {\"country\": \"Kenya\", \"income\": 2898, \"health\": 66.63, \"population\": 46050302, \"label\": 0}, {\"country\": \"Kiribati\", \"income\": 1824, \"health\": 62.4, \"population\": 112423, \"label\": 0}, {\"country\": \"Kuwait\", \"income\": 82633, \"health\": 80.7, \"population\": 3892115, \"label\": 2}, {\"country\": \"Kyrgyz Republic\", \"income\": 3245, \"health\": 69.0, \"population\": 5939962, \"label\": 0}, {\"country\": \"Lao\", \"income\": 5212, \"health\": 66.4, \"population\": 6802023, \"label\": 0}, {\"country\": \"Latvia\", \"income\": 23282, \"health\": 75.7, \"population\": 1970503, \"label\": 1}, {\"country\": \"Lebanon\", \"income\": 17050, \"health\": 78.5, \"population\": 5850743, \"label\": 1}, {\"country\": \"Lesotho\", \"income\": 2598, \"health\": 48.5, \"population\": 2135022, \"label\": 0}, {\"country\": \"Liberia\", \"income\": 958, \"health\": 63.9, \"population\": 4503438, \"label\": 0}, {\"country\": \"Libya\", \"income\": 17261, \"health\": 76.2, \"population\": 6278438, \"label\": 1}, {\"country\": \"Lithuania\", \"income\": 26665, \"health\": 75.4, \"population\": 2878405, \"label\": 1}, {\"country\": \"Luxembourg\", \"income\": 88314, \"health\": 81.1, \"population\": 567110, \"label\": 2}, {\"country\": \"Macedonia, FYR\", \"income\": 12547, \"health\": 77.0, \"population\": 2078453, \"label\": 1}, {\"country\": \"Madagascar\", \"income\": 1400, \"health\": 64.7, \"population\": 24235390, \"label\": 0}, {\"country\": \"Malawi\", \"income\": 799, \"health\": 60.22, \"population\": 17215232, \"label\": 0}, {\"country\": \"Malaysia\", \"income\": 24320, \"health\": 75.1, \"population\": 30331007, \"label\": 1}, {\"country\": \"Maldives\", \"income\": 14408, \"health\": 79.5, \"population\": 363657, \"label\": 1}, {\"country\": \"Mali\", \"income\": 1684, \"health\": 57.6, \"population\": 17599694, \"label\": 0}, {\"country\": \"Malta\", \"income\": 30265, \"health\": 82.1, \"population\": 418670, \"label\": 4}, {\"country\": \"Marshall Islands\", \"income\": 3661, \"health\": 65.1, \"population\": 52993, \"label\": 0}, {\"country\": \"Mauritania\", \"income\": 3877, \"health\": 65.7, \"population\": 4067564, \"label\": 0}, {\"country\": \"Mauritius\", \"income\": 18350, \"health\": 73.9, \"population\": 1273212, \"label\": 1}, {\"country\": \"Mexico\", \"income\": 16850, \"health\": 74.5, \"population\": 127017224, \"label\": 1}, {\"country\": \"Micronesia, Fed. Sts.\", \"income\": 3510, \"health\": 67.0, \"population\": 104460, \"label\": 0}, {\"country\": \"Moldova\", \"income\": 4896, \"health\": 72.7, \"population\": 4068897, \"label\": 1}, {\"country\": \"Mongolia\", \"income\": 11819, \"health\": 65.3, \"population\": 2959134, \"label\": 0}, {\"country\": \"Montenegro\", \"income\": 14833, \"health\": 75.8, \"population\": 625781, \"label\": 1}, {\"country\": \"Morocco\", \"income\": 7319, \"health\": 74.7, \"population\": 34377511, \"label\": 1}, {\"country\": \"Mozambique\", \"income\": 1176, \"health\": 56.4, \"population\": 27977863, \"label\": 0}, {\"country\": \"Myanmar\", \"income\": 4012, \"health\": 67.9, \"population\": 53897154, \"label\": 0}, {\"country\": \"Namibia\", \"income\": 10040, \"health\": 61.0, \"population\": 2458830, \"label\": 0}, {\"country\": \"Nepal\", \"income\": 2352, \"health\": 71.2, \"population\": 28513700, \"label\": 1}, {\"country\": \"Netherlands\", \"income\": 45784, \"health\": 80.6, \"population\": 16924929, \"label\": 4}, {\"country\": \"New Zealand\", \"income\": 34186, \"health\": 80.6, \"population\": 4528526, \"label\": 4}, {\"country\": \"Nicaragua\", \"income\": 4712, \"health\": 76.8, \"population\": 6082032, \"label\": 1}, {\"country\": \"Niger\", \"income\": 943, \"health\": 62.2, \"population\": 19899120, \"label\": 0}, {\"country\": \"Nigeria\", \"income\": 5727, \"health\": 61.33, \"population\": 182201962, \"label\": 0}, {\"country\": \"North Korea\", \"income\": 1390, \"health\": 71.4, \"population\": 25155317, \"label\": 1}, {\"country\": \"Norway\", \"income\": 64304, \"health\": 81.6, \"population\": 5210967, \"label\": 4}, {\"country\": \"Oman\", \"income\": 48226, \"health\": 75.7, \"population\": 4490541, \"label\": 4}, {\"country\": \"Pakistan\", \"income\": 4743, \"health\": 66.5, \"population\": 188924874, \"label\": 0}, {\"country\": \"Panama\", \"income\": 20485, \"health\": 78.2, \"population\": 3929141, \"label\": 1}, {\"country\": \"Papua New Guinea\", \"income\": 2529, \"health\": 60.6, \"population\": 7619321, \"label\": 0}, {\"country\": \"Paraguay\", \"income\": 8219, \"health\": 73.9, \"population\": 6639123, \"label\": 1}, {\"country\": \"Peru\", \"income\": 11903, \"health\": 77.5, \"population\": 31376670, \"label\": 1}, {\"country\": \"Philippines\", \"income\": 6876, \"health\": 70.2, \"population\": 100699395, \"label\": 1}, {\"country\": \"Poland\", \"income\": 24787, \"health\": 77.3, \"population\": 38611794, \"label\": 1}, {\"country\": \"Portugal\", \"income\": 26437, \"health\": 79.8, \"population\": 10349803, \"label\": 4}, {\"country\": \"Qatar\", \"income\": 132877, \"health\": 82.0, \"population\": 2235355, \"label\": 2}, {\"country\": \"Romania\", \"income\": 19203, \"health\": 76.8, \"population\": 19511324, \"label\": 1}, {\"country\": \"Russia\", \"income\": 23038, \"health\": 73.13, \"population\": 143456918, \"label\": 1}, {\"country\": \"Rwanda\", \"income\": 1549, \"health\": 66.53, \"population\": 11609666, \"label\": 0}, {\"country\": \"Samoa\", \"income\": 5558, \"health\": 72.2, \"population\": 193228, \"label\": 1}, {\"country\": \"Sao Tome and Principe\", \"income\": 3003, \"health\": 68.8, \"population\": 190344, \"label\": 0}, {\"country\": \"Saudi Arabia\", \"income\": 52469, \"health\": 78.1, \"population\": 31540372, \"label\": 4}, {\"country\": \"Senegal\", \"income\": 2251, \"health\": 66.1, \"population\": 15129273, \"label\": 0}, {\"country\": \"Serbia\", \"income\": 12908, \"health\": 78.1, \"population\": 8850975, \"label\": 1}, {\"country\": \"Seychelles\", \"income\": 25684, \"health\": 73.7, \"population\": 96471, \"label\": 1}, {\"country\": \"Sierra Leone\", \"income\": 2085, \"health\": 58.5, \"population\": 6453184, \"label\": 0}, {\"country\": \"Singapore\", \"income\": 80794, \"health\": 82.1, \"population\": 5603740, \"label\": 2}, {\"country\": \"Slovak Republic\", \"income\": 27204, \"health\": 76.4, \"population\": 5426258, \"label\": 1}, {\"country\": \"Slovenia\", \"income\": 28550, \"health\": 80.2, \"population\": 2067526, \"label\": 4}, {\"country\": \"Solomon Islands\", \"income\": 2047, \"health\": 64.1, \"population\": 583591, \"label\": 0}, {\"country\": \"Somalia\", \"income\": 624, \"health\": 58.7, \"population\": 10787104, \"label\": 0}, {\"country\": \"South Africa\", \"income\": 12509, \"health\": 63.72, \"population\": 54490406, \"label\": 0}, {\"country\": \"South Korea\", \"income\": 34644, \"health\": 80.7, \"population\": 50293439, \"label\": 4}, {\"country\": \"South Sudan\", \"income\": 3047, \"health\": 58.0, \"population\": 12339812, \"label\": 0}, {\"country\": \"Spain\", \"income\": 32979, \"health\": 81.7, \"population\": 46121699, \"label\": 4}, {\"country\": \"Sri Lanka\", \"income\": 10624, \"health\": 76.5, \"population\": 20715010, \"label\": 1}, {\"country\": \"St. Lucia\", \"income\": 9997, \"health\": 74.5, \"population\": 184999, \"label\": 1}, {\"country\": \"St. Vincent and the Grenadines\", \"income\": 10435, \"health\": 72.9, \"population\": 109462, \"label\": 1}, {\"country\": \"Sudan\", \"income\": 3975, \"health\": 69.5, \"population\": 40234882, \"label\": 1}, {\"country\": \"Suriname\", \"income\": 17125, \"health\": 70.5, \"population\": 542975, \"label\": 1}, {\"country\": \"Swaziland\", \"income\": 6095, \"health\": 51.5, \"population\": 1286970, \"label\": 0}, {\"country\": \"Sweden\", \"income\": 44892, \"health\": 82.0, \"population\": 9779426, \"label\": 4}, {\"country\": \"Switzerland\", \"income\": 56118, \"health\": 82.9, \"population\": 8298663, \"label\": 4}, {\"country\": \"Syria\", \"income\": 4637, \"health\": 70.26, \"population\": 18502413, \"label\": 1}, {\"country\": \"Tajikistan\", \"income\": 2582, \"health\": 71.0, \"population\": 8481855, \"label\": 1}, {\"country\": \"Tanzania\", \"income\": 2571, \"health\": 63.43, \"population\": 53470420, \"label\": 0}, {\"country\": \"Thailand\", \"income\": 14512, \"health\": 75.1, \"population\": 67959359, \"label\": 1}, {\"country\": \"Timor-Leste\", \"income\": 2086, \"health\": 72.4, \"population\": 1184765, \"label\": 1}, {\"country\": \"Togo\", \"income\": 1433, \"health\": 64.23, \"population\": 7304578, \"label\": 0}, {\"country\": \"Tonga\", \"income\": 5069, \"health\": 70.5, \"population\": 106170, \"label\": 1}, {\"country\": \"Trinidad and Tobago\", \"income\": 30113, \"health\": 71.4, \"population\": 1360088, \"label\": 1}, {\"country\": \"Tunisia\", \"income\": 11126, \"health\": 77.3, \"population\": 11253554, \"label\": 1}, {\"country\": \"Turkey\", \"income\": 19360, \"health\": 76.5, \"population\": 78665830, \"label\": 1}, {\"country\": \"Turkmenistan\", \"income\": 15865, \"health\": 67.9, \"population\": 5373502, \"label\": 1}, {\"country\": \"Uganda\", \"income\": 1680, \"health\": 60.8, \"population\": 39032383, \"label\": 0}, {\"country\": \"Ukraine\", \"income\": 8449, \"health\": 72.1, \"population\": 44823765, \"label\": 1}, {\"country\": \"United Arab Emirates\", \"income\": 60749, \"health\": 76.6, \"population\": 9156963, \"label\": 4}, {\"country\": \"United Kingdom\", \"income\": 38225, \"health\": 81.4, \"population\": 64715810, \"label\": 4}, {\"country\": \"United States\", \"income\": 53354, \"health\": 79.1, \"population\": 321773631, \"label\": 4}, {\"country\": \"Uruguay\", \"income\": 20438, \"health\": 77.3, \"population\": 3431555, \"label\": 1}, {\"country\": \"Uzbekistan\", \"income\": 5598, \"health\": 70.1, \"population\": 29893488, \"label\": 1}, {\"country\": \"Vanuatu\", \"income\": 2912, \"health\": 65.0, \"population\": 264652, \"label\": 0}, {\"country\": \"Venezuela\", \"income\": 15753, \"health\": 75.8, \"population\": 31108083, \"label\": 1}, {\"country\": \"Vietnam\", \"income\": 5623, \"health\": 76.5, \"population\": 93447601, \"label\": 1}, {\"country\": \"West Bank and Gaza\", \"income\": 4319, \"health\": 75.2, \"population\": 4668466, \"label\": 1}, {\"country\": \"Yemen\", \"income\": 3887, \"health\": 67.6, \"population\": 26832215, \"label\": 0}, {\"country\": \"Zambia\", \"income\": 4034, \"health\": 58.96, \"population\": 16211767, \"label\": 0}, {\"country\": \"Zimbabwe\", \"income\": 1801, \"health\": 60.01, \"population\": 15602751, \"label\": 0}]}}, {\"mode\": \"vega-lite\"});\n",
       "</script>"
      ],
      "text/plain": [
       "alt.Chart(...)"
      ]
     },
     "execution_count": 24,
     "metadata": {},
     "output_type": "execute_result"
    }
   ],
   "source": [
    "(\n",
    "    alt.Chart(gapminder)\n",
    "    .mark_circle()\n",
    "    .encode(\n",
    "        alt.X(\"income:Q\", scale=alt.Scale(type=\"log\")),\n",
    "        alt.Y(\"health:Q\", scale=alt.Scale(zero=False)),\n",
    "        size=\"population:Q\",\n",
    "        color=alt.Color(\"label:N\", scale=alt.Scale(scheme=\"dark2\")),\n",
    "        tooltip=list(gapminder.columns),\n",
    "    )\n",
    "    .properties(width=800, height=600)\n",
    "    .interactive()\n",
    ")"
   ]
  },
  {
   "cell_type": "code",
   "execution_count": 25,
   "metadata": {
    "slideshow": {
     "slide_type": "subslide"
    }
   },
   "outputs": [
    {
     "data": {
      "text/plain": [
       "label\n",
       "0    62\n",
       "1    85\n",
       "2     5\n",
       "3     2\n",
       "4    33\n",
       "dtype: int64"
      ]
     },
     "execution_count": 25,
     "metadata": {},
     "output_type": "execute_result"
    }
   ],
   "source": [
    "# Number of countries per cluster\n",
    "gapminder.groupby(\"label\").size()"
   ]
  },
  {
   "cell_type": "code",
   "execution_count": 26,
   "metadata": {
    "slideshow": {
     "slide_type": "subslide"
    }
   },
   "outputs": [
    {
     "data": {
      "text/plain": [
       "label\n",
       "2       2.544302\n",
       "0      21.191274\n",
       "1      26.478761\n",
       "4      31.674060\n",
       "3    1343.549735\n",
       "Name: population, dtype: float64"
      ]
     },
     "execution_count": 26,
     "metadata": {},
     "output_type": "execute_result"
    }
   ],
   "source": [
    "# Average population per cluster\n",
    "gapminder.groupby(\"label\")['population'].mean().sort_values() / 1e6"
   ]
  },
  {
   "cell_type": "code",
   "execution_count": 27,
   "metadata": {
    "slideshow": {
     "slide_type": "subslide"
    }
   },
   "outputs": [
    {
     "data": {
      "text/plain": [
       "label\n",
       "0    62.342097\n",
       "3    71.850000\n",
       "1    74.376353\n",
       "4    80.830303\n",
       "2    80.920000\n",
       "Name: health, dtype: float64"
      ]
     },
     "execution_count": 27,
     "metadata": {},
     "output_type": "execute_result"
    }
   ],
   "source": [
    "# Average life expectancy per cluster\n",
    "gapminder.groupby(\"label\")['health'].mean().sort_values()"
   ]
  },
  {
   "cell_type": "code",
   "execution_count": 28,
   "metadata": {
    "slideshow": {
     "slide_type": "subslide"
    }
   },
   "outputs": [
    {
     "data": {
      "text/plain": [
       "label\n",
       "0     4.136016\n",
       "3     9.618500\n",
       "1    13.347376\n",
       "4    41.048818\n",
       "2    91.524200\n",
       "Name: income, dtype: float64"
      ]
     },
     "execution_count": 28,
     "metadata": {},
     "output_type": "execute_result"
    }
   ],
   "source": [
    "# Average income per cluster\n",
    "gapminder.groupby(\"label\")['income'].mean().sort_values() / 1e3"
   ]
  },
  {
   "cell_type": "code",
   "execution_count": 29,
   "metadata": {
    "slideshow": {
     "slide_type": "subslide"
    }
   },
   "outputs": [
    {
     "data": {
      "text/html": [
       "<div>\n",
       "<style scoped>\n",
       "    .dataframe tbody tr th:only-of-type {\n",
       "        vertical-align: middle;\n",
       "    }\n",
       "\n",
       "    .dataframe tbody tr th {\n",
       "        vertical-align: top;\n",
       "    }\n",
       "\n",
       "    .dataframe thead th {\n",
       "        text-align: right;\n",
       "    }\n",
       "</style>\n",
       "<table border=\"1\" class=\"dataframe\">\n",
       "  <thead>\n",
       "    <tr style=\"text-align: right;\">\n",
       "      <th></th>\n",
       "      <th>country</th>\n",
       "      <th>income</th>\n",
       "      <th>health</th>\n",
       "      <th>population</th>\n",
       "      <th>label</th>\n",
       "    </tr>\n",
       "  </thead>\n",
       "  <tbody>\n",
       "    <tr>\n",
       "      <th>3</th>\n",
       "      <td>Andorra</td>\n",
       "      <td>46577</td>\n",
       "      <td>84.1</td>\n",
       "      <td>70473</td>\n",
       "      <td>4</td>\n",
       "    </tr>\n",
       "    <tr>\n",
       "      <th>8</th>\n",
       "      <td>Australia</td>\n",
       "      <td>44056</td>\n",
       "      <td>81.8</td>\n",
       "      <td>23968973</td>\n",
       "      <td>4</td>\n",
       "    </tr>\n",
       "    <tr>\n",
       "      <th>9</th>\n",
       "      <td>Austria</td>\n",
       "      <td>44401</td>\n",
       "      <td>81.0</td>\n",
       "      <td>8544586</td>\n",
       "      <td>4</td>\n",
       "    </tr>\n",
       "    <tr>\n",
       "      <th>12</th>\n",
       "      <td>Bahrain</td>\n",
       "      <td>44138</td>\n",
       "      <td>79.2</td>\n",
       "      <td>1377237</td>\n",
       "      <td>4</td>\n",
       "    </tr>\n",
       "    <tr>\n",
       "      <th>16</th>\n",
       "      <td>Belgium</td>\n",
       "      <td>41240</td>\n",
       "      <td>80.4</td>\n",
       "      <td>11299192</td>\n",
       "      <td>4</td>\n",
       "    </tr>\n",
       "    <tr>\n",
       "      <th>30</th>\n",
       "      <td>Canada</td>\n",
       "      <td>43294</td>\n",
       "      <td>81.7</td>\n",
       "      <td>35939927</td>\n",
       "      <td>4</td>\n",
       "    </tr>\n",
       "    <tr>\n",
       "      <th>44</th>\n",
       "      <td>Cyprus</td>\n",
       "      <td>29797</td>\n",
       "      <td>82.6</td>\n",
       "      <td>1165300</td>\n",
       "      <td>4</td>\n",
       "    </tr>\n",
       "    <tr>\n",
       "      <th>45</th>\n",
       "      <td>Czech Republic</td>\n",
       "      <td>29437</td>\n",
       "      <td>78.6</td>\n",
       "      <td>10543186</td>\n",
       "      <td>4</td>\n",
       "    </tr>\n",
       "    <tr>\n",
       "      <th>46</th>\n",
       "      <td>Denmark</td>\n",
       "      <td>43495</td>\n",
       "      <td>80.1</td>\n",
       "      <td>5669081</td>\n",
       "      <td>4</td>\n",
       "    </tr>\n",
       "    <tr>\n",
       "      <th>58</th>\n",
       "      <td>Finland</td>\n",
       "      <td>38923</td>\n",
       "      <td>80.8</td>\n",
       "      <td>5503457</td>\n",
       "      <td>4</td>\n",
       "    </tr>\n",
       "    <tr>\n",
       "      <th>59</th>\n",
       "      <td>France</td>\n",
       "      <td>37599</td>\n",
       "      <td>81.9</td>\n",
       "      <td>64395345</td>\n",
       "      <td>4</td>\n",
       "    </tr>\n",
       "    <tr>\n",
       "      <th>63</th>\n",
       "      <td>Germany</td>\n",
       "      <td>44053</td>\n",
       "      <td>81.1</td>\n",
       "      <td>80688545</td>\n",
       "      <td>4</td>\n",
       "    </tr>\n",
       "    <tr>\n",
       "      <th>65</th>\n",
       "      <td>Greece</td>\n",
       "      <td>25430</td>\n",
       "      <td>79.8</td>\n",
       "      <td>10954617</td>\n",
       "      <td>4</td>\n",
       "    </tr>\n",
       "    <tr>\n",
       "      <th>74</th>\n",
       "      <td>Iceland</td>\n",
       "      <td>42182</td>\n",
       "      <td>82.8</td>\n",
       "      <td>329425</td>\n",
       "      <td>4</td>\n",
       "    </tr>\n",
       "    <tr>\n",
       "      <th>79</th>\n",
       "      <td>Ireland</td>\n",
       "      <td>47758</td>\n",
       "      <td>80.4</td>\n",
       "      <td>4688465</td>\n",
       "      <td>4</td>\n",
       "    </tr>\n",
       "    <tr>\n",
       "      <th>80</th>\n",
       "      <td>Israel</td>\n",
       "      <td>31590</td>\n",
       "      <td>82.4</td>\n",
       "      <td>8064036</td>\n",
       "      <td>4</td>\n",
       "    </tr>\n",
       "    <tr>\n",
       "      <th>81</th>\n",
       "      <td>Italy</td>\n",
       "      <td>33297</td>\n",
       "      <td>82.1</td>\n",
       "      <td>59797685</td>\n",
       "      <td>4</td>\n",
       "    </tr>\n",
       "    <tr>\n",
       "      <th>83</th>\n",
       "      <td>Japan</td>\n",
       "      <td>36162</td>\n",
       "      <td>83.5</td>\n",
       "      <td>126573481</td>\n",
       "      <td>4</td>\n",
       "    </tr>\n",
       "    <tr>\n",
       "      <th>104</th>\n",
       "      <td>Malta</td>\n",
       "      <td>30265</td>\n",
       "      <td>82.1</td>\n",
       "      <td>418670</td>\n",
       "      <td>4</td>\n",
       "    </tr>\n",
       "    <tr>\n",
       "      <th>118</th>\n",
       "      <td>Netherlands</td>\n",
       "      <td>45784</td>\n",
       "      <td>80.6</td>\n",
       "      <td>16924929</td>\n",
       "      <td>4</td>\n",
       "    </tr>\n",
       "    <tr>\n",
       "      <th>119</th>\n",
       "      <td>New Zealand</td>\n",
       "      <td>34186</td>\n",
       "      <td>80.6</td>\n",
       "      <td>4528526</td>\n",
       "      <td>4</td>\n",
       "    </tr>\n",
       "    <tr>\n",
       "      <th>124</th>\n",
       "      <td>Norway</td>\n",
       "      <td>64304</td>\n",
       "      <td>81.6</td>\n",
       "      <td>5210967</td>\n",
       "      <td>4</td>\n",
       "    </tr>\n",
       "    <tr>\n",
       "      <th>125</th>\n",
       "      <td>Oman</td>\n",
       "      <td>48226</td>\n",
       "      <td>75.7</td>\n",
       "      <td>4490541</td>\n",
       "      <td>4</td>\n",
       "    </tr>\n",
       "    <tr>\n",
       "      <th>133</th>\n",
       "      <td>Portugal</td>\n",
       "      <td>26437</td>\n",
       "      <td>79.8</td>\n",
       "      <td>10349803</td>\n",
       "      <td>4</td>\n",
       "    </tr>\n",
       "    <tr>\n",
       "      <th>140</th>\n",
       "      <td>Saudi Arabia</td>\n",
       "      <td>52469</td>\n",
       "      <td>78.1</td>\n",
       "      <td>31540372</td>\n",
       "      <td>4</td>\n",
       "    </tr>\n",
       "    <tr>\n",
       "      <th>147</th>\n",
       "      <td>Slovenia</td>\n",
       "      <td>28550</td>\n",
       "      <td>80.2</td>\n",
       "      <td>2067526</td>\n",
       "      <td>4</td>\n",
       "    </tr>\n",
       "    <tr>\n",
       "      <th>151</th>\n",
       "      <td>South Korea</td>\n",
       "      <td>34644</td>\n",
       "      <td>80.7</td>\n",
       "      <td>50293439</td>\n",
       "      <td>4</td>\n",
       "    </tr>\n",
       "    <tr>\n",
       "      <th>153</th>\n",
       "      <td>Spain</td>\n",
       "      <td>32979</td>\n",
       "      <td>81.7</td>\n",
       "      <td>46121699</td>\n",
       "      <td>4</td>\n",
       "    </tr>\n",
       "    <tr>\n",
       "      <th>160</th>\n",
       "      <td>Sweden</td>\n",
       "      <td>44892</td>\n",
       "      <td>82.0</td>\n",
       "      <td>9779426</td>\n",
       "      <td>4</td>\n",
       "    </tr>\n",
       "    <tr>\n",
       "      <th>161</th>\n",
       "      <td>Switzerland</td>\n",
       "      <td>56118</td>\n",
       "      <td>82.9</td>\n",
       "      <td>8298663</td>\n",
       "      <td>4</td>\n",
       "    </tr>\n",
       "    <tr>\n",
       "      <th>175</th>\n",
       "      <td>United Arab Emirates</td>\n",
       "      <td>60749</td>\n",
       "      <td>76.6</td>\n",
       "      <td>9156963</td>\n",
       "      <td>4</td>\n",
       "    </tr>\n",
       "    <tr>\n",
       "      <th>176</th>\n",
       "      <td>United Kingdom</td>\n",
       "      <td>38225</td>\n",
       "      <td>81.4</td>\n",
       "      <td>64715810</td>\n",
       "      <td>4</td>\n",
       "    </tr>\n",
       "    <tr>\n",
       "      <th>177</th>\n",
       "      <td>United States</td>\n",
       "      <td>53354</td>\n",
       "      <td>79.1</td>\n",
       "      <td>321773631</td>\n",
       "      <td>4</td>\n",
       "    </tr>\n",
       "  </tbody>\n",
       "</table>\n",
       "</div>"
      ],
      "text/plain": [
       "                  country  income  health  population  label\n",
       "3                 Andorra   46577    84.1       70473      4\n",
       "8               Australia   44056    81.8    23968973      4\n",
       "9                 Austria   44401    81.0     8544586      4\n",
       "12                Bahrain   44138    79.2     1377237      4\n",
       "16                Belgium   41240    80.4    11299192      4\n",
       "30                 Canada   43294    81.7    35939927      4\n",
       "44                 Cyprus   29797    82.6     1165300      4\n",
       "45         Czech Republic   29437    78.6    10543186      4\n",
       "46                Denmark   43495    80.1     5669081      4\n",
       "58                Finland   38923    80.8     5503457      4\n",
       "59                 France   37599    81.9    64395345      4\n",
       "63                Germany   44053    81.1    80688545      4\n",
       "65                 Greece   25430    79.8    10954617      4\n",
       "74                Iceland   42182    82.8      329425      4\n",
       "79                Ireland   47758    80.4     4688465      4\n",
       "80                 Israel   31590    82.4     8064036      4\n",
       "81                  Italy   33297    82.1    59797685      4\n",
       "83                  Japan   36162    83.5   126573481      4\n",
       "104                 Malta   30265    82.1      418670      4\n",
       "118           Netherlands   45784    80.6    16924929      4\n",
       "119           New Zealand   34186    80.6     4528526      4\n",
       "124                Norway   64304    81.6     5210967      4\n",
       "125                  Oman   48226    75.7     4490541      4\n",
       "133              Portugal   26437    79.8    10349803      4\n",
       "140          Saudi Arabia   52469    78.1    31540372      4\n",
       "147              Slovenia   28550    80.2     2067526      4\n",
       "151           South Korea   34644    80.7    50293439      4\n",
       "153                 Spain   32979    81.7    46121699      4\n",
       "160                Sweden   44892    82.0     9779426      4\n",
       "161           Switzerland   56118    82.9     8298663      4\n",
       "175  United Arab Emirates   60749    76.6     9156963      4\n",
       "176        United Kingdom   38225    81.4    64715810      4\n",
       "177         United States   53354    79.1   321773631      4"
      ]
     },
     "execution_count": 29,
     "metadata": {},
     "output_type": "execute_result"
    }
   ],
   "source": [
    "gapminder.loc[gapminder['label']==4]"
   ]
  },
  {
   "cell_type": "code",
   "execution_count": 30,
   "metadata": {},
   "outputs": [
    {
     "data": {
      "text/plain": [
       "80.72009578392847"
      ]
     },
     "execution_count": 30,
     "metadata": {},
     "output_type": "execute_result"
    }
   ],
   "source": [
    "kmeans.inertia_"
   ]
  },
  {
   "cell_type": "code",
   "execution_count": 31,
   "metadata": {
    "slideshow": {
     "slide_type": "subslide"
    }
   },
   "outputs": [
    {
     "data": {
      "text/html": [
       "<div>\n",
       "<style scoped>\n",
       "    .dataframe tbody tr th:only-of-type {\n",
       "        vertical-align: middle;\n",
       "    }\n",
       "\n",
       "    .dataframe tbody tr th {\n",
       "        vertical-align: top;\n",
       "    }\n",
       "\n",
       "    .dataframe thead th {\n",
       "        text-align: right;\n",
       "    }\n",
       "</style>\n",
       "<table border=\"1\" class=\"dataframe\">\n",
       "  <thead>\n",
       "    <tr style=\"text-align: right;\">\n",
       "      <th></th>\n",
       "      <th>country</th>\n",
       "      <th>income</th>\n",
       "      <th>health</th>\n",
       "      <th>population</th>\n",
       "      <th>label</th>\n",
       "    </tr>\n",
       "  </thead>\n",
       "  <tbody>\n",
       "    <tr>\n",
       "      <th>3</th>\n",
       "      <td>Andorra</td>\n",
       "      <td>46577</td>\n",
       "      <td>84.1</td>\n",
       "      <td>70473</td>\n",
       "      <td>4</td>\n",
       "    </tr>\n",
       "    <tr>\n",
       "      <th>8</th>\n",
       "      <td>Australia</td>\n",
       "      <td>44056</td>\n",
       "      <td>81.8</td>\n",
       "      <td>23968973</td>\n",
       "      <td>4</td>\n",
       "    </tr>\n",
       "    <tr>\n",
       "      <th>9</th>\n",
       "      <td>Austria</td>\n",
       "      <td>44401</td>\n",
       "      <td>81.0</td>\n",
       "      <td>8544586</td>\n",
       "      <td>4</td>\n",
       "    </tr>\n",
       "    <tr>\n",
       "      <th>12</th>\n",
       "      <td>Bahrain</td>\n",
       "      <td>44138</td>\n",
       "      <td>79.2</td>\n",
       "      <td>1377237</td>\n",
       "      <td>4</td>\n",
       "    </tr>\n",
       "    <tr>\n",
       "      <th>16</th>\n",
       "      <td>Belgium</td>\n",
       "      <td>41240</td>\n",
       "      <td>80.4</td>\n",
       "      <td>11299192</td>\n",
       "      <td>4</td>\n",
       "    </tr>\n",
       "    <tr>\n",
       "      <th>30</th>\n",
       "      <td>Canada</td>\n",
       "      <td>43294</td>\n",
       "      <td>81.7</td>\n",
       "      <td>35939927</td>\n",
       "      <td>4</td>\n",
       "    </tr>\n",
       "    <tr>\n",
       "      <th>44</th>\n",
       "      <td>Cyprus</td>\n",
       "      <td>29797</td>\n",
       "      <td>82.6</td>\n",
       "      <td>1165300</td>\n",
       "      <td>4</td>\n",
       "    </tr>\n",
       "    <tr>\n",
       "      <th>45</th>\n",
       "      <td>Czech Republic</td>\n",
       "      <td>29437</td>\n",
       "      <td>78.6</td>\n",
       "      <td>10543186</td>\n",
       "      <td>4</td>\n",
       "    </tr>\n",
       "    <tr>\n",
       "      <th>46</th>\n",
       "      <td>Denmark</td>\n",
       "      <td>43495</td>\n",
       "      <td>80.1</td>\n",
       "      <td>5669081</td>\n",
       "      <td>4</td>\n",
       "    </tr>\n",
       "    <tr>\n",
       "      <th>58</th>\n",
       "      <td>Finland</td>\n",
       "      <td>38923</td>\n",
       "      <td>80.8</td>\n",
       "      <td>5503457</td>\n",
       "      <td>4</td>\n",
       "    </tr>\n",
       "    <tr>\n",
       "      <th>59</th>\n",
       "      <td>France</td>\n",
       "      <td>37599</td>\n",
       "      <td>81.9</td>\n",
       "      <td>64395345</td>\n",
       "      <td>4</td>\n",
       "    </tr>\n",
       "    <tr>\n",
       "      <th>63</th>\n",
       "      <td>Germany</td>\n",
       "      <td>44053</td>\n",
       "      <td>81.1</td>\n",
       "      <td>80688545</td>\n",
       "      <td>4</td>\n",
       "    </tr>\n",
       "    <tr>\n",
       "      <th>65</th>\n",
       "      <td>Greece</td>\n",
       "      <td>25430</td>\n",
       "      <td>79.8</td>\n",
       "      <td>10954617</td>\n",
       "      <td>4</td>\n",
       "    </tr>\n",
       "    <tr>\n",
       "      <th>74</th>\n",
       "      <td>Iceland</td>\n",
       "      <td>42182</td>\n",
       "      <td>82.8</td>\n",
       "      <td>329425</td>\n",
       "      <td>4</td>\n",
       "    </tr>\n",
       "    <tr>\n",
       "      <th>79</th>\n",
       "      <td>Ireland</td>\n",
       "      <td>47758</td>\n",
       "      <td>80.4</td>\n",
       "      <td>4688465</td>\n",
       "      <td>4</td>\n",
       "    </tr>\n",
       "    <tr>\n",
       "      <th>80</th>\n",
       "      <td>Israel</td>\n",
       "      <td>31590</td>\n",
       "      <td>82.4</td>\n",
       "      <td>8064036</td>\n",
       "      <td>4</td>\n",
       "    </tr>\n",
       "    <tr>\n",
       "      <th>81</th>\n",
       "      <td>Italy</td>\n",
       "      <td>33297</td>\n",
       "      <td>82.1</td>\n",
       "      <td>59797685</td>\n",
       "      <td>4</td>\n",
       "    </tr>\n",
       "    <tr>\n",
       "      <th>83</th>\n",
       "      <td>Japan</td>\n",
       "      <td>36162</td>\n",
       "      <td>83.5</td>\n",
       "      <td>126573481</td>\n",
       "      <td>4</td>\n",
       "    </tr>\n",
       "    <tr>\n",
       "      <th>104</th>\n",
       "      <td>Malta</td>\n",
       "      <td>30265</td>\n",
       "      <td>82.1</td>\n",
       "      <td>418670</td>\n",
       "      <td>4</td>\n",
       "    </tr>\n",
       "    <tr>\n",
       "      <th>118</th>\n",
       "      <td>Netherlands</td>\n",
       "      <td>45784</td>\n",
       "      <td>80.6</td>\n",
       "      <td>16924929</td>\n",
       "      <td>4</td>\n",
       "    </tr>\n",
       "    <tr>\n",
       "      <th>119</th>\n",
       "      <td>New Zealand</td>\n",
       "      <td>34186</td>\n",
       "      <td>80.6</td>\n",
       "      <td>4528526</td>\n",
       "      <td>4</td>\n",
       "    </tr>\n",
       "    <tr>\n",
       "      <th>124</th>\n",
       "      <td>Norway</td>\n",
       "      <td>64304</td>\n",
       "      <td>81.6</td>\n",
       "      <td>5210967</td>\n",
       "      <td>4</td>\n",
       "    </tr>\n",
       "    <tr>\n",
       "      <th>125</th>\n",
       "      <td>Oman</td>\n",
       "      <td>48226</td>\n",
       "      <td>75.7</td>\n",
       "      <td>4490541</td>\n",
       "      <td>4</td>\n",
       "    </tr>\n",
       "    <tr>\n",
       "      <th>133</th>\n",
       "      <td>Portugal</td>\n",
       "      <td>26437</td>\n",
       "      <td>79.8</td>\n",
       "      <td>10349803</td>\n",
       "      <td>4</td>\n",
       "    </tr>\n",
       "    <tr>\n",
       "      <th>140</th>\n",
       "      <td>Saudi Arabia</td>\n",
       "      <td>52469</td>\n",
       "      <td>78.1</td>\n",
       "      <td>31540372</td>\n",
       "      <td>4</td>\n",
       "    </tr>\n",
       "    <tr>\n",
       "      <th>147</th>\n",
       "      <td>Slovenia</td>\n",
       "      <td>28550</td>\n",
       "      <td>80.2</td>\n",
       "      <td>2067526</td>\n",
       "      <td>4</td>\n",
       "    </tr>\n",
       "    <tr>\n",
       "      <th>151</th>\n",
       "      <td>South Korea</td>\n",
       "      <td>34644</td>\n",
       "      <td>80.7</td>\n",
       "      <td>50293439</td>\n",
       "      <td>4</td>\n",
       "    </tr>\n",
       "    <tr>\n",
       "      <th>153</th>\n",
       "      <td>Spain</td>\n",
       "      <td>32979</td>\n",
       "      <td>81.7</td>\n",
       "      <td>46121699</td>\n",
       "      <td>4</td>\n",
       "    </tr>\n",
       "    <tr>\n",
       "      <th>160</th>\n",
       "      <td>Sweden</td>\n",
       "      <td>44892</td>\n",
       "      <td>82.0</td>\n",
       "      <td>9779426</td>\n",
       "      <td>4</td>\n",
       "    </tr>\n",
       "    <tr>\n",
       "      <th>161</th>\n",
       "      <td>Switzerland</td>\n",
       "      <td>56118</td>\n",
       "      <td>82.9</td>\n",
       "      <td>8298663</td>\n",
       "      <td>4</td>\n",
       "    </tr>\n",
       "    <tr>\n",
       "      <th>175</th>\n",
       "      <td>United Arab Emirates</td>\n",
       "      <td>60749</td>\n",
       "      <td>76.6</td>\n",
       "      <td>9156963</td>\n",
       "      <td>4</td>\n",
       "    </tr>\n",
       "    <tr>\n",
       "      <th>176</th>\n",
       "      <td>United Kingdom</td>\n",
       "      <td>38225</td>\n",
       "      <td>81.4</td>\n",
       "      <td>64715810</td>\n",
       "      <td>4</td>\n",
       "    </tr>\n",
       "    <tr>\n",
       "      <th>177</th>\n",
       "      <td>United States</td>\n",
       "      <td>53354</td>\n",
       "      <td>79.1</td>\n",
       "      <td>321773631</td>\n",
       "      <td>4</td>\n",
       "    </tr>\n",
       "  </tbody>\n",
       "</table>\n",
       "</div>"
      ],
      "text/plain": [
       "                  country  income  health  population  label\n",
       "3                 Andorra   46577    84.1       70473      4\n",
       "8               Australia   44056    81.8    23968973      4\n",
       "9                 Austria   44401    81.0     8544586      4\n",
       "12                Bahrain   44138    79.2     1377237      4\n",
       "16                Belgium   41240    80.4    11299192      4\n",
       "30                 Canada   43294    81.7    35939927      4\n",
       "44                 Cyprus   29797    82.6     1165300      4\n",
       "45         Czech Republic   29437    78.6    10543186      4\n",
       "46                Denmark   43495    80.1     5669081      4\n",
       "58                Finland   38923    80.8     5503457      4\n",
       "59                 France   37599    81.9    64395345      4\n",
       "63                Germany   44053    81.1    80688545      4\n",
       "65                 Greece   25430    79.8    10954617      4\n",
       "74                Iceland   42182    82.8      329425      4\n",
       "79                Ireland   47758    80.4     4688465      4\n",
       "80                 Israel   31590    82.4     8064036      4\n",
       "81                  Italy   33297    82.1    59797685      4\n",
       "83                  Japan   36162    83.5   126573481      4\n",
       "104                 Malta   30265    82.1      418670      4\n",
       "118           Netherlands   45784    80.6    16924929      4\n",
       "119           New Zealand   34186    80.6     4528526      4\n",
       "124                Norway   64304    81.6     5210967      4\n",
       "125                  Oman   48226    75.7     4490541      4\n",
       "133              Portugal   26437    79.8    10349803      4\n",
       "140          Saudi Arabia   52469    78.1    31540372      4\n",
       "147              Slovenia   28550    80.2     2067526      4\n",
       "151           South Korea   34644    80.7    50293439      4\n",
       "153                 Spain   32979    81.7    46121699      4\n",
       "160                Sweden   44892    82.0     9779426      4\n",
       "161           Switzerland   56118    82.9     8298663      4\n",
       "175  United Arab Emirates   60749    76.6     9156963      4\n",
       "176        United Kingdom   38225    81.4    64715810      4\n",
       "177         United States   53354    79.1   321773631      4"
      ]
     },
     "execution_count": 31,
     "metadata": {},
     "output_type": "execute_result"
    }
   ],
   "source": [
    "gapminder.loc[gapminder['label']==4]"
   ]
  },
  {
   "cell_type": "markdown",
   "metadata": {
    "slideshow": {
     "slide_type": "slide"
    }
   },
   "source": [
    "### Exercise: Clustering neighborhoods by Airbnb stats\n",
    "\n",
    "I've extracted neighborhood Airbnb statistics for Philadelphia neighborhoods from [Tom Slee's website](http://tomslee.net/airbnb-data).\n",
    "\n",
    "The data includes average price per person, overall satisfaction, and number of listings."
   ]
  },
  {
   "cell_type": "markdown",
   "metadata": {},
   "source": [
    "::: {.callout-note}\n",
    "### Two good references for Airbnb data\n",
    "\n",
    "- [Tom Slee's website](http://tomslee.net/airbnb-data)\n",
    "- [Inside Airbnb](http://insideairbnb.com/get-the-data.html)\n",
    "\n",
    "Original research study: [How Airbnb's Data Hid the Facts in New York City](http://insideairbnb.com/reports/how-airbnbs-data-hid-the-facts-in-new-york-city.pdf)\n",
    "\n",
    ":::"
   ]
  },
  {
   "cell_type": "markdown",
   "metadata": {
    "slideshow": {
     "slide_type": "slide"
    }
   },
   "source": [
    "#### Step 1: Load the data with pandas\n",
    "\n",
    "The data is available in CSV format (\"philly_airbnb_by_neighborhoods.csv\") in the \"data/\" folder of the repository."
   ]
  },
  {
   "cell_type": "code",
   "execution_count": null,
   "metadata": {},
   "outputs": [],
   "source": []
  },
  {
   "cell_type": "markdown",
   "metadata": {
    "hide_input": true,
    "slideshow": {
     "slide_type": "slide"
    }
   },
   "source": [
    "#### Step 2: Perform the K-Means fit\n",
    "\n",
    "- Use our three features: `price_per_person`, `overall_satisfaction`, `N`\n",
    "- I used 5 clusters, but you are welcome to experiment with different values! We will discuss what the *optimal* number is after we go through the solutions!\n",
    "- Scaling the features is recommended, but if the scales aren't too different, so probably isn't necessary in this case"
   ]
  },
  {
   "cell_type": "code",
   "execution_count": null,
   "metadata": {},
   "outputs": [],
   "source": []
  },
  {
   "cell_type": "markdown",
   "metadata": {
    "slideshow": {
     "slide_type": "slide"
    }
   },
   "source": [
    "#### Step 3: Calculate average features per cluster\n",
    "\n",
    "To gain some insight into our clusters, after calculating the K-Means labels:\n",
    "- group by the `label` column\n",
    "- calculate the `mean()` of each of our features\n",
    "- calculate the number of neighborhoods per cluster"
   ]
  },
  {
   "cell_type": "code",
   "execution_count": null,
   "metadata": {},
   "outputs": [],
   "source": []
  },
  {
   "cell_type": "markdown",
   "metadata": {
    "slideshow": {
     "slide_type": "slide"
    }
   },
   "source": [
    "#### Step 4: Plot a choropleth, coloring neighborhoods by their cluster label\n",
    "\n",
    "- Part 1: Load the Philadelphia neighborhoods available in the data directory:  \n",
    "    - `./data/philly_neighborhoods.geojson`\n",
    "- Part 2: Merge the Airbnb data (with labels) and the neighborhood polygons\n",
    "- Part 3: Use geopandas to plot the neighborhoods\n",
    "    - The `categorical=True` and `legend=True` keywords will be useful here"
   ]
  },
  {
   "cell_type": "code",
   "execution_count": null,
   "metadata": {},
   "outputs": [],
   "source": []
  },
  {
   "cell_type": "markdown",
   "metadata": {
    "slideshow": {
     "slide_type": "slide"
    }
   },
   "source": [
    "#### Step 5: Plot an interactive map\n",
    "\n",
    "Use hvplot / geopandas to plot the clustering results with a tooltip for neighborhood name and tooltip."
   ]
  },
  {
   "cell_type": "code",
   "execution_count": null,
   "metadata": {},
   "outputs": [],
   "source": []
  },
  {
   "cell_type": "markdown",
   "metadata": {
    "hide_input": true,
    "slideshow": {
     "slide_type": "slide"
    }
   },
   "source": [
    "#### Based on these results, where would you want to stay?\n",
    "\n",
    "\n"
   ]
  },
  {
   "cell_type": "code",
   "execution_count": null,
   "metadata": {},
   "outputs": [],
   "source": []
  },
  {
   "cell_type": "markdown",
   "metadata": {
    "slideshow": {
     "slide_type": "slide"
    }
   },
   "source": [
    "### Why 5 groups? \n",
    "\n",
    "Use the [\"Elbow\" method](https://en.wikipedia.org/wiki/Elbow_method_(clustering))..."
   ]
  },
  {
   "cell_type": "code",
   "execution_count": 50,
   "metadata": {
    "slideshow": {
     "slide_type": "subslide"
    }
   },
   "outputs": [
    {
     "data": {
      "image/png": "[encoded data removed]",
      "text/plain": [
       "<Figure size 1600x1200 with 1 Axes>"
      ]
     },
     "metadata": {},
     "output_type": "display_data"
    }
   ],
   "source": [
    "# Number of clusters to try out\n",
    "n_clusters = list(range(2, 10))\n",
    "\n",
    "# Run kmeans for each value of k\n",
    "inertias = []\n",
    "for k in n_clusters:\n",
    "    \n",
    "    # Initialize and run\n",
    "    kmeans = KMeans(n_clusters=k, n_init=10)\n",
    "    kmeans.fit(scaled_airbnb_data)\n",
    "    \n",
    "    # Save the \"inertia\"\n",
    "    inertias.append(kmeans.inertia_)\n",
    "    \n",
    "# Plot it!\n",
    "plt.plot(n_clusters, inertias, marker='o', ms=10, mfc='white', lw=4, mew=3);"
   ]
  },
  {
   "cell_type": "markdown",
   "metadata": {
    "slideshow": {
     "slide_type": "slide"
    }
   },
   "source": [
    "### The `kneed` package\n",
    "\n",
    "There is also a nice package called kneed that can determine the “knee” point quantitatively, using the [kneedle algorithm](https://raghavan.usc.edu/papers/kneedle-simplex11.pdf)."
   ]
  },
  {
   "cell_type": "code",
   "execution_count": 51,
   "metadata": {},
   "outputs": [
    {
     "data": {
      "text/plain": [
       "[2, 3, 4, 5, 6, 7, 8, 9]"
      ]
     },
     "execution_count": 51,
     "metadata": {},
     "output_type": "execute_result"
    }
   ],
   "source": [
    "n_clusters"
   ]
  },
  {
   "cell_type": "code",
   "execution_count": 52,
   "metadata": {
    "slideshow": {
     "slide_type": "slide"
    }
   },
   "outputs": [
    {
     "name": "stdout",
     "output_type": "stream",
     "text": [
      "5\n"
     ]
    }
   ],
   "source": [
    "from kneed import KneeLocator\n",
    "\n",
    "# Initialize the knee algorithm\n",
    "kn = KneeLocator(n_clusters, inertias, curve='convex', direction='decreasing')\n",
    "\n",
    "# Print out the knee \n",
    "print(kn.knee)"
   ]
  },
  {
   "cell_type": "markdown",
   "metadata": {},
   "source": [
    "## That's it!\n",
    "\n",
    "More clustering on Wednesday!"
   ]
  },
  {
   "cell_type": "code",
   "execution_count": null,
   "metadata": {},
   "outputs": [],
   "source": []
  }
 ],
 "metadata": {
  "celltoolbar": "Slideshow",
  "kernelspec": {
   "display_name": "Python 3 (ipykernel)",
   "language": "python",
   "name": "python3"
  },
  "language_info": {
   "codemirror_mode": {
    "name": "ipython",
    "version": 3
   },
   "file_extension": ".py",
   "mimetype": "text/x-python",
   "name": "python",
   "nbconvert_exporter": "python",
   "pygments_lexer": "ipython3",
   "version": "3.10.12"
  }
 },
 "nbformat": 4,
 "nbformat_minor": 4
}
