{
 "cells": [
  {
   "cell_type": "markdown",
   "metadata": {
    "slideshow": {
     "slide_type": "slide"
    }
   },
   "source": [
    "# Lecture 9A<br/>From Notebooks to the Web: Quarto & GitHub Pages\n",
    "\n",
    "- Section 401\n",
    "- October 30, 2023"
   ]
  },
  {
   "cell_type": "markdown",
   "metadata": {
    "slideshow": {
     "slide_type": "slide"
    }
   },
   "source": [
    "## Outline for the rest of the course\n",
    "\n",
    "In the next two weeks, we'll discuss ways to translate our analysis results to the Web in a meaningful way. We'll cover two methods to do so, each with their own pros and cons:\n",
    "\n",
    "- Embedding interactive charts on the Web via [Quarto](https://quarto.org/)\n",
    "- Creating dashboards using the Python library [Panel](https://panel.holoviz.org/)\n",
    "\n",
    "\n",
    "Then, we transition into our \"data science in the wild\" case studies, where we'll do a deeper dive into particular use cases, including:\n",
    "\n",
    "- Predictive modeling and machine learning\n",
    "- Clustering algorithms\n",
    "- Advanced raster data"
   ]
  },
  {
   "cell_type": "markdown",
   "metadata": {},
   "source": [
    "## The final project\n",
    "\n",
    "More details uploaded here:\n",
    "[https://github.com/MUSA-550-Fall-2023/final-project](https://github.com/MUSA-550-Fall-2023/final-project)\n",
    "\n",
    "\n",
    "### Key dates\n",
    "\n",
    "- Written proposal due date: Monday, December 4th (or earlier)\n",
    "- Project due date: Wednesday, December 20th at 11:59 PM\n",
    "\n",
    "Final projects must receive prior approval in the form of a written proposal."
   ]
  },
  {
   "cell_type": "markdown",
   "metadata": {
    "slideshow": {
     "slide_type": "subslide"
    }
   },
   "source": [
    "## Sharing work online with Quarto & GitHub Pages\n",
    "\n",
    "We can create beautiful websites that describe complex technical analyses in Python using [Quarto](https://quarto.org) \n",
    "and deploy them online using [GitHub Pages](https://pages.github.com/). This combination of tools is a really powerful way \n",
    "to create and share your work.\n",
    "\n",
    "### Quarto\n",
    "\n",
    "- Quarto is a relatively new tool, but is becoming popular quickly. \n",
    "- It's the successor to the Rmarkdown ecosystem from the Rstudio team\n",
    "- It combines functionality into a single tool and also extends its computation power to other languages. \n",
    "- Most importantly for us, Quarto supports executing Python code, allowing us to convert Jupyter notebooks to HTML and share them online. \n",
    "- You supports building multiple types of online content, including websites, blogs, and books.\n",
    "\n",
    "### GitHub Pages\n",
    "\n",
    "- GitHub Pages is static website generator that can be used to automatically generate a website from *any* GitHub repository.\n",
    "- We'll use it to deploy our website content generated using Quarto\n",
    "- Even though GitHub Pages is a static site (no server to execute code), it can embed interactive charts and maps and maintain the interactive functionality\n",
    " \n",
    " \n",
    "Quarto + GitHub Pages is *very cool*, and allows you to build very complex websites. The main website for this course is developed using Quarto + GitHub Pages!"
   ]
  },
  {
   "cell_type": "markdown",
   "metadata": {},
   "source": [
    "::: {.callout-note}\n",
    "\n",
    "For the final project, you'll be asked to publish a Quarto website using GitHub pages that describes your analysis and results. \n",
    "\n",
    ":::"
   ]
  },
  {
   "cell_type": "markdown",
   "metadata": {},
   "source": [
    "### The example Quarto site\n",
    "\n",
    "I've set up a working example website so we can walk through the main features of Quarto. It will help us learn the basics of Quarto and serve as a reference, along with Quarto documentation, as you start to customize your own site. \n",
    "\n",
    "And the published site is available at: [https://musa-550-fall-2023.github.io/quarto-website-template/](https://musa-550-fall-2023.github.io/quarto-website-template/)\n",
    "\n",
    "Let's start by exploring the different parts of the site.\n",
    "\n",
    "![](imgs/quarto-website-template.png)"
   ]
  },
  {
   "cell_type": "markdown",
   "metadata": {},
   "source": [
    "In particular, we see a sidebar with three main parts:\n",
    "\n",
    "1. The main home page entitled \"Welcome\"\n",
    "1. And about page\n",
    "1. An \"analysis\" section with several sub-sections"
   ]
  },
  {
   "cell_type": "markdown",
   "metadata": {},
   "source": [
    "### The website's repo\n",
    "\n",
    "Let’s go to this website’s GitHub repository: [https://github.com/MUSA-550-Fall-2023/quarto-website-template](https://github.com/MUSA-550-Fall-2023/quarto-website-template). \n",
    "\n",
    "Let's explore the different filenames first. Many of the files line up with the content we saw above displayed on the rendered website. These have red arrows marking them in the image below. \n",
    "\n",
    "You’ll see the “analysis” folder and the rest in this site are `.qmd` files, which are special Quarto-flavored markdown files. They primarily contain Markdown text but can also (optionally) include executable code blocks (such as Python or R). The `index.qmd` is the home page. If you click inside “analysis” you’ll see a mix of file types, including `.ipynb` Jupyter notebook files and a `.qmd` markdown file.\n",
    "\n",
    "![](imgs/quarto-template-repo.png)\n",
    "\n",
    "The \"docs\" folder has all of the rendered HTML content that gets used to show the final website. The content matches all of the content in the input `.qmd` and `.ipynb` files, but these files have been processed by Quarto into HTML to be displayed in the browser. "
   ]
  },
  {
   "cell_type": "markdown",
   "metadata": {},
   "source": [
    "### The `_quarto.yml` configuration file\n",
    "\n",
    "There is also a `_quarto.yml` file, which is the website’s configuration file. It is essentially metadata for the website that sets up the layout of the site and includes the order that the pages will be in. This is where you update the organization of your website: which page comes before another. If we compare side-by-side, you’ll see that the pages that appear on our website are listed there.\n",
    "\n",
    "\n",
    "![](imgs/config-1.png){width=500} ![](imgs/config-2.png){width=400}\n",
    "\n"
   ]
  },
  {
   "cell_type": "markdown",
   "metadata": {},
   "source": [
    "Notice that there are multiple ways in the `_quarto.yml` for you to include a file in your website. Let's take a closer look at the \"contents\" key, nested under the \"sidebar\" key. \n",
    "\n",
    "In the above image, the “Welcome” page we see in the left sidebar of the published website (left image) is represented in `_quarto.yml` (right image) over two lines, with line 36 indicating the file reference (index.qmd) and line 37 indicating the text to show up in the left sidebar (Welcome). However, all of the other files (either `.qmd` or `.ipynb`) are just represented by a single line. \n",
    "\n",
    "This represents two strategies for including a file in your website. By default, the title of a specified file will show up in the website’s sidebar, which is what is happening with most of the files in the sidebar. If you would like more control over what is written in the sidebar vs. the title of your files, then the approach we took with “Welcome” is what you’ll want to do: you’ll see that only “Welcome” shows up in the sidebar as we specified in `_quarto.yml`, but the page’s title says “MUSA 550 Final Project Template” (which I thought was too long for the sidebar)."
   ]
  },
  {
   "cell_type": "markdown",
   "metadata": {},
   "source": [
    "::: {.callout-note}\n",
    "This type of file (`.yml` or `.yaml`) is written in YAML (“Yet Another Markup Language”). In this language, **spacing and indentation** matters. Pay attention to whether text is indented by one, two, four, or other spaces, and make sure you follow it; if your site is not looking as expected it is likely a silent error in your YAML.\n",
    ":::\n"
   ]
  },
  {
   "cell_type": "markdown",
   "metadata": {},
   "source": [
    "Let's explore the rest of the file:"
   ]
  },
  {
   "cell_type": "markdown",
   "metadata": {},
   "source": [
    "![](imgs/config-file.png)\n",
    "\n",
    " "
   ]
  },
  {
   "cell_type": "markdown",
   "metadata": {},
   "source": [
    "A few key things to know:\n",
    "\n",
    "- The \"project\" section tells Quarto to build a website and put the rendered output HTML in the \"docs\" folder\n",
    "- The content under the \"website\" key customizes the different parts of the website\n",
    "    - You can customize the title, site-url, and repo-url to match your repository\n",
    "    - Under \"page-footer\", you can also customize the footer to say whatever you'd like\n",
    "    - Under \"sidebar\", you can customize the logo that shows up in the sidebar and the icons that show up below it as well\n",
    "    - You should set the \"contents\" under \"sidebar\" to match the desired organization of your website\n",
    "- The \"html\" key under \"format\" sets some sensible defaults for how the HTML content should look. These defaults affect all pages, but you can change them for any particular page on the website.\n",
    "    "
   ]
  },
  {
   "cell_type": "markdown",
   "metadata": {},
   "source": [
    "::: {.callout-tip}\n",
    "\n",
    "Take a look at the [user guide section on HTML](https://quarto.org/docs/output-formats/html-basics.html) for some of the possible options for HTML pages.\n",
    "\n",
    "More info on themes is available on the [Quarto documentation](https://quarto.org/docs/output-formats/html-themes.html).\n",
    "\n",
    ":::"
   ]
  },
  {
   "cell_type": "markdown",
   "metadata": {},
   "source": [
    "### Adding technical content\n",
    "\n",
    "You'll notice in the [\"analysis\" folder](https://github.com/MUSA-550-Fall-2023/quarto-website-template/tree/main/analysis) of the repo there are three Jupyter notebook files and a `.qmd` file.\n",
    "\n",
    "There are two main ways to embed Python code (and its associated output) in a Quarto website:\n",
    "\n",
    "1. By directly using `.ipynb` files. Quarto will execute all cells in the file and convert to HTML. \n",
    "1. By including a Python code block in the `.qmd` markdown file directly. \n",
    "\n",
    "In many ways, `.ipynb` and `.qmd` files are very similar — you can think of them as a mix of Markdown text and executable Python code!"
   ]
  },
  {
   "cell_type": "markdown",
   "metadata": {},
   "source": [
    "#### Formating code blocks\n",
    "\n",
    "Quarto let's you customize how code blocks show up, or if they show up at all. This can be done in either:\n",
    "\n",
    "- The metadata header for a file, or\n",
    "- A comment in the code cell itself\n",
    "\n",
    "\n",
    "#### 1. Hiding code cells\n",
    "\n",
    "For example, in the first cell of the [3-altair-hvplot.ipynb](https://github.com/MUSA-550-Fall-2023/quarto-website-template/blob/main/analysis/3-altair-hvplot.ipynb) notebook file, we have a Markdown cell that hides all code via the `echo: false` option:\n",
    "\n",
    "![](imgs/header-echo-false.png){width=700}\n",
    "\n",
    "But you can hide individual code cells from showing up in the output using a special comment in the cell:\n",
    "\n",
    "![](imgs/code-cell-echo-false.png){width=700}"
   ]
  },
  {
   "cell_type": "markdown",
   "metadata": {},
   "source": [
    "#### 2. Folding code cells\n",
    "\n",
    "Similarly, you can \"echo\" the code block's content but \"fold\" it such that readers need to click an arrow to show the code block:\n",
    "\n",
    "![](imgs/code-fold.png)\n",
    "\n",
    "![](imgs/code-fold-2.png){width=700}"
   ]
  },
  {
   "cell_type": "markdown",
   "metadata": {},
   "source": [
    "::: {.callout-tip}\n",
    "\n",
    "Check out the Quarto docs for more information on:\n",
    "- [Available options for Python code blocks](https://quarto.org/docs/reference/cells/cells-jupyter.html)\n",
    "- [Customizing HTML code block formatting](https://quarto.org/docs/output-formats/html-code.html)\n",
    "\n",
    ":::"
   ]
  },
  {
   "cell_type": "markdown",
   "metadata": {},
   "source": [
    "### Starting from a template\n",
    "\n",
    "The example website we've been discussing today is a *template repository*. This means that you can use the template to get a completely independent copy of the repository under your own username. From then on, you can make any changes you'd like without affecting the original repository.\n",
    "\n",
    "Let's walk through the steps for creating your own copy."
   ]
  },
  {
   "cell_type": "markdown",
   "metadata": {},
   "source": [
    "#### Step 1: Create your own repository\n",
    "\n",
    "- Start from the main repository: [https://github.com/MUSA-550-Fall-2023/quarto-website-template](https://github.com/MUSA-550-Fall-2023/quarto-website-template)\n",
    "- This repository is a *template repository*\n",
    "- Click on the \"Use this template\" button and then \"Create a new repository\" to create your own version of the repository\n",
    "\n",
    "![](imgs/template-1.png)\n",
    "\n",
    "<br/>\n",
    "\n",
    "::: {.callout-tip}\n",
    "For more information, see [this guide on creating a repository from a template](https://help.github.com/en/github/creating-cloning-and-archiving-repositories/creating-a-repository-from-a-template).\n",
    ":::"
   ]
  },
  {
   "cell_type": "markdown",
   "metadata": {},
   "source": [
    "#### Step 2: Choose a name and description\n",
    "\n",
    "![](imgs/template-2.png){width=700}"
   ]
  },
  {
   "cell_type": "markdown",
   "metadata": {
    "tags": []
   },
   "source": [
    "#### Step 3: Set up the repository to deploy via GitHub Pages\n",
    "\n",
    "If you have a repository with content rendered via Quarto, deploying via GitHub Pages is easy. \n",
    "\n",
    "First, make sure the \"output-dir\" key under \"project\" in your `_quarto.yml` file is set to \"docs\". This ensures that the content for your rendered site is stored in the \"docs\" folder. *Note:* This is already set up in the template repository\n",
    "\n",
    "Then, go to the \"Settings\" tab for your repository, and turn on GitHub Pages on the \"main\" branch and tell it to use the \"docs\" folder. "
   ]
  },
  {
   "cell_type": "markdown",
   "metadata": {},
   "source": [
    "![](imgs/gh-deploy-1.png){width=800}\n",
    "\n",
    "Click on the Pages button in the left sidebar, and under \"Build and Deployment\" make sure you are building from the \"main\" branch and \"docs\" folder.\n",
    "\n",
    "This will automatically build the website at the following URL: `https://[USERNAME].github.io/[REPOSITORY NAME]`\n",
    "\n",
    "\n",
    "![](imgs/gh-deploy-2.png){width=800}"
   ]
  },
  {
   "cell_type": "markdown",
   "metadata": {},
   "source": [
    "### The editing workflow\n",
    "\n",
    "Now, let's talk about how to make edits and customize the template repository! Since we're most familiar with Jupyter notebook files, my suggested workflow is:\n",
    "\n",
    "1. Clone or download your repository content from GitHub to your local computer.\n",
    "1. Author content in JupyterLab: write Markdown text, code, etc. JupyterLab will support editing both `.qmd` and `.ipynb` files.\n",
    "1. Update `_quarto.yml` as needed (for example, if you’ve created a new file you’d like included in your site)\n",
    "1. Render individual files and/or the whole website using quarto.\n",
    "1. Iterate and repeat as necessary.\n",
    "1. Commit and push your new website content back to GitHub, your updates will publish automatically!\n",
    "\n",
    "\n",
    "::: {.callout-important}\n",
    "\n",
    "For this workflow, you'll need to install both Quarto and Git (via GitHub Desktop). We'll set these up and try it out in the exercise today.  \n",
    "\n",
    ":::"
   ]
  },
  {
   "cell_type": "markdown",
   "metadata": {},
   "source": [
    "## Exercise: Set up your own Github Pages project page\n",
    "\n",
    "The goal of this exercise is to make a copy of the template repository, make some small changes, render the new site, and deploy via GitHub pages. We'll need to do the following:\n"
   ]
  },
  {
   "cell_type": "markdown",
   "metadata": {},
   "source": [
    "### Step 1: Install Quarto\n",
    "\n",
    "The site [https://quarto.org/docs/get-started/](https://quarto.org/docs/get-started/) describes how to install Quarto, which will depend on your operating system. \n",
    "\n",
    "After following the installation instructions, you can test your installation by opening your command line (Terminal in Mac OS or Miniforge Prompt in Windows) and running:\n",
    "\n",
    "```bash\n",
    "quarto --help\n",
    "```\n",
    "\n",
    "This should print out the help message for the `quarto` command."
   ]
  },
  {
   "cell_type": "markdown",
   "metadata": {},
   "source": [
    "### Step 2: Install GitHub Desktop\n",
    "\n",
    "We'll be rendering our site content with the `quarto` command locally on our computer, which will generate lots of new changes in the \"docs\" folder of the website's repository. We'll then need to *commit* all of those changes to our version history, and push them to GitHub. It will be easiest to do this using the GitHub Desktop application.\n",
    "\n",
    "If you don't have GitHub Desktop installed yet, you can download and install it here: [https://desktop.github.com/](https://desktop.github.com/)\n",
    "\n",
    "::: {.callout-tip}\n",
    "If you're new to GitHub Desktop, check out the [quickstart guide](https://docs.github.com/en/desktop/overview/getting-started-with-github-desktop).\n",
    ":::"
   ]
  },
  {
   "cell_type": "markdown",
   "metadata": {},
   "source": [
    "### Step 3: Create your own repository\n",
    "\n",
    "- Use the above instructions to create your own copy of the template repository.\n",
    "- Then, open the repository locally by clicking on the \"<> Code\" button and choosing the \"Open in GitHub Desktop\" option\n",
    "\n",
    "![](imgs/open-in-gh-desktop.png)\n",
    "\n"
   ]
  },
  {
   "cell_type": "markdown",
   "metadata": {},
   "source": [
    "### Step 4: Make some edits\n",
    "\n",
    "First, find out the path for the downloaded repository and launch JupyterLab:\n",
    "- In GitHub Desktop, find out the path for the downloaded code by using the option to \"Open in Explorer\" or \"View in Finder.\" This should give you the file path of the downloaded repository.\n",
    "- Navigate to that folder, activate our course's environment, and launch JupyterLab.\n",
    "\n",
    "Then, make some edits:\n",
    "- In JupyterLab, make changes to your `_quarto.yml` to update the name, repository info, etc.\n",
    "- Add a Jupyter notebook file with some example code and add it to the `_quarto.yml` file."
   ]
  },
  {
   "cell_type": "markdown",
   "metadata": {},
   "source": [
    "### Step 5: Preview your changes\n",
    "\n",
    "You can launch a *local* version of your website to preview your changes. There are three steps involved:\n",
    "\n",
    "**Step 1.** First, launch a new Miniforge Prompt (Windows) or Terminal (Mac OS) window. Navigate to the folder for your Quarto website.\n",
    "\n",
    "**Step 2.** From the command line, activate our course environment by running: `mamba activate musa-550-fall-2023`\n",
    "\n",
    "**Step 3.** From the command line, run the following command: `quarto preview .`\n",
    "\n",
    "This should open a new tab in your browser with URL `localhost:3333` that will show a live preview of your site. You can make edits to the files in JupyterLab and the live preview will update automatically!"
   ]
  },
  {
   "cell_type": "markdown",
   "metadata": {},
   "source": [
    "### Step 6: Render your website\n",
    "\n",
    "Once you're satisfied with your site via the preview, it's time to render the full website. This create a fresh set of rendered content in the \"docs\" folder, which will contain all of the code necessary to deploy your website online.\n",
    "\n",
    "Once again, there are three steps involved: \n",
    "\n",
    "**Step 1.** First, launch a new Miniforge Prompt (Windows) or Terminal (Mac OS) window. Navigate to the folder for your Quarto website.\n",
    "\n",
    "**Step 2.** From the command line, activate our course environment by running: `mamba activate musa-550-fall-2023`\n",
    "\n",
    "**Step 3.** From the command line, run the following command: `quarto render .`\n",
    "\n",
    "Now, we're ready to push changes to GitHub and deploy!"
   ]
  },
  {
   "cell_type": "markdown",
   "metadata": {
    "slideshow": {
     "slide_type": "slide"
    }
   },
   "source": [
    "### Step 7: Commit and push your changes\n",
    "\n",
    "After the last step, we have updated content that we need to *commit* and *push* to GitHub. We'll do that in GitHub Desktop. The steps involved are:\n",
    "\n",
    "1. Open your repository in GitHub Desktop. \n",
    "1. You should see a number of *local changes* -- this is the content we just generated when we rendered the site. We'll need to *commit* these changes so they are saved in the repository's version history. To do that, you can follow [these instructions](https://docs.github.com/en/desktop/making-changes-in-a-branch/committing-and-reviewing-changes-to-your-project-in-github-desktop#write-a-commit-message-and-push-your-changes). You'll need to write a commit message and hit the \"Commit to main\" button in the lower left part of GitHub Desktop.\n",
    "1. Now, we'll sync these changes with GitHub by *pushing* the changes. Instructions for how to do that are [available here](https://docs.github.com/en/desktop/making-changes-in-a-branch/pushing-changes-to-github-from-github-desktop)\n",
    "\n",
    "\n",
    "Once you push your changes, your repository will *automatically* update the deployed website!"
   ]
  },
  {
   "cell_type": "code",
   "execution_count": null,
   "metadata": {},
   "outputs": [],
   "source": []
  }
 ],
 "metadata": {
  "celltoolbar": "Slideshow",
  "kernelspec": {
   "display_name": "Python 3 (ipykernel)",
   "language": "python",
   "name": "python3"
  },
  "language_info": {
   "codemirror_mode": {
    "name": "ipython",
    "version": 3
   },
   "file_extension": ".py",
   "mimetype": "text/x-python",
   "name": "python",
   "nbconvert_exporter": "python",
   "pygments_lexer": "ipython3",
   "version": "3.10.12"
  }
 },
 "nbformat": 4,
 "nbformat_minor": 4
}
