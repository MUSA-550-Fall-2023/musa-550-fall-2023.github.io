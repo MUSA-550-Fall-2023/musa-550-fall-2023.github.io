{
  "cells": [
    {
      "cell_type": "raw",
      "metadata": {},
      "source": [
        "---\n",
        "title: \"Week 9: From Notebooks to the Web: Part 2\"\n",
        "execute: \n",
        "  echo: false\n",
        "---"
      ],
      "id": "85fa53d0"
    },
    {
      "cell_type": "raw",
      "metadata": {},
      "source": [
        "---\n",
        "execute: \n",
        "  echo: false\n",
        "---"
      ],
      "id": "39b88bef"
    },
    {
      "cell_type": "code",
      "metadata": {},
      "source": [
        "import sys\n",
        "from pyprojroot.here import here\n",
        "from IPython import get_ipython\n",
        "\n",
        "# Add python folder to path\n",
        "root_dir = here()\n",
        "sys.path.insert(1, str(root_dir / \"python\"))\n",
        "import content\n",
        "\n",
        "\n",
        "# Get week info for rendered page from folder\n",
        "ip = get_ipython()\n",
        "path = ip.starting_dir\n",
        "slug = path.split(\"/\")[-1]  # Should be week-X\n",
        "\n",
        "# Create the header HTML\n",
        "table = content.create_header(slug)\n",
        "table"
      ],
      "id": "2fb8affa",
      "execution_count": null,
      "outputs": []
    },
    {
      "cell_type": "markdown",
      "metadata": {},
      "source": [
        "## Recommended Viewing/Reading\n",
        "\n",
        "- [PyData talk in Dec 2019 from the creator of Panel](https://www.youtube.com/watch?v=Ohr29FJjBi0)\n",
        "- [Components section of Panel User Guide](https://panel.holoviz.org/explanation/components/components_overview.html)\n",
        "- [API section of Panel User Guide](https://panel.holoviz.org/explanation/api/index.html)\n",
        "- [Tutorial on Classes in Python](http://introtopython.org/classes.html)\n",
        "\n",
        "## Dashboard Examples\n",
        "\n",
        "We'll walk through two examples of [Panel](https://panel.holoviz.org) dashboards this week:\n",
        "\n",
        "1. [Visualizing recent shootings in Philadelphia using Altair, Folium, and Holoviews](https://github.com/MUSA-550-Fall-2023/philadelphia-shootings-app)\n",
        "2. [Visualizing NYC taxi trips with Datashader and Altair](https://github.com/MUSA-550-Fall-2023/datashader-nyc-taxi-app)\n",
        "\n",
        "\n",
        "## References\n",
        "\n",
        "\n",
        "- Panel\n",
        "- [Documentation homepage](https://panel.holoviz.org)\n",
        "- [Core concepts](https://panel.holoviz.org/getting_started/core_concepts.html)\n",
        "    - An overview of the core concepts powering Panel dashboards\n",
        "- [App Gallery](https://panel.holoviz.org/gallery/index.html)\n",
        "    - Examples of end-to-end apps using Panel\n",
        "- [Reference Component Gallery](https://panel.holoviz.org/reference/index.html)\n",
        "    - Examples (code snippets) for the many different kinds of components possible in Panel dashboards\n",
        "- [Datashader dashboard tutorial](https://examples.pyviz.org/datashader_dashboard/dashboard.html)\n",
        "  - Including a detailed walk-through of a Datashader-based dashboard\n",
        "- [Holoviews Reference Gallery](http://holoviews.org/reference/index.html)\n",
        "  - [Streams](http://holoviews.org/reference/index.html#streams)\n",
        "  - [DynamicMap](http://holoviews.org/reference/containers/bokeh/DynamicMap.html#bokeh-gallery-dynamicmap)\n",
        "- [Introduction to Python classes](http://introtopython.org/classes.html)"
      ],
      "id": "33cb4ce6"
    }
  ],
  "metadata": {
    "kernelspec": {
      "name": "python3",
      "language": "python",
      "display_name": "Python 3"
    }
  },
  "nbformat": 4,
  "nbformat_minor": 5
}