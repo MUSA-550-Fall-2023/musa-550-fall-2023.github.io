{
  "cells": [
    {
      "cell_type": "raw",
      "metadata": {},
      "source": [
        "---\n",
        "title: \"Week 8: Analyzing and Visualizing Large Datasets\"\n",
        "execute: \n",
        "  echo: false\n",
        "---"
      ],
      "id": "561eda46"
    },
    {
      "cell_type": "raw",
      "metadata": {},
      "source": [
        "---\n",
        "execute: \n",
        "  echo: false\n",
        "---"
      ],
      "id": "263004cd"
    },
    {
      "cell_type": "code",
      "metadata": {},
      "source": [
        "import sys\n",
        "from pyprojroot.here import here\n",
        "from IPython import get_ipython\n",
        "\n",
        "# Add python folder to path\n",
        "root_dir = here()\n",
        "sys.path.insert(1, str(root_dir / \"python\"))\n",
        "import content\n",
        "\n",
        "\n",
        "# Get week info for rendered page from folder\n",
        "ip = get_ipython()\n",
        "path = ip.starting_dir\n",
        "slug = path.split(\"/\")[-1]  # Should be week-X\n",
        "\n",
        "# Create the header HTML\n",
        "table = content.create_header(slug)\n",
        "table"
      ],
      "id": "1d5b700e",
      "execution_count": null,
      "outputs": []
    },
    {
      "cell_type": "markdown",
      "metadata": {},
      "source": [
        "## Recommended Readings\n",
        "\n",
        "- [Understanding the datashader algorithm](https://datashader.org/getting_started/Pipeline.html)\n",
        "\n",
        "## New Packages\n",
        "\n",
        "- [intake](https://intake.readthedocs.io)\n",
        "- [dask](http://docs.dask.org/en/latest/)\n",
        "- [datashader](http://datashader.org/index.html)\n",
        "- [colorcet](https://colorcet.holoviz.org/)\n",
        "\n",
        "## Useful Links and Reference Materials\n",
        "\n",
        "- [Datashader User Guide](http://datashader.org/user_guide/index.html)\n",
        "- [Datashader Example Use Cases](http://datashader.org/topics/index.html)"
      ],
      "id": "a55e8dcd"
    }
  ],
  "metadata": {
    "kernelspec": {
      "name": "python3",
      "language": "python",
      "display_name": "Python 3"
    }
  },
  "nbformat": 4,
  "nbformat_minor": 5
}