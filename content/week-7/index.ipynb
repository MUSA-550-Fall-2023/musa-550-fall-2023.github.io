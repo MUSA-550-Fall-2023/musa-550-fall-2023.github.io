{
  "cells": [
    {
      "cell_type": "raw",
      "metadata": {},
      "source": [
        "---\n",
        "title: \"Week 7: Getting Data, Part 2: Working with APIs\"\n",
        "execute: \n",
        "  echo: false\n",
        "---"
      ],
      "id": "22eb738b"
    },
    {
      "cell_type": "raw",
      "metadata": {},
      "source": [
        "---\n",
        "execute: \n",
        "  echo: false\n",
        "---"
      ],
      "id": "d864b0f3"
    },
    {
      "cell_type": "code",
      "metadata": {},
      "source": [
        "import sys\n",
        "from pyprojroot.here import here\n",
        "from IPython import get_ipython\n",
        "\n",
        "# Add python folder to path\n",
        "root_dir = here()\n",
        "sys.path.insert(1, str(root_dir / \"python\"))\n",
        "import content\n",
        "\n",
        "\n",
        "# Get week info for rendered page from folder\n",
        "ip = get_ipython()\n",
        "path = ip.starting_dir\n",
        "slug = path.split(\"/\")[-1]  # Should be week-X\n",
        "\n",
        "# Create the header HTML\n",
        "table = content.create_header(slug)\n",
        "table"
      ],
      "id": "81fa160c",
      "execution_count": null,
      "outputs": []
    },
    {
      "cell_type": "markdown",
      "metadata": {},
      "source": [
        "## New Packages\n",
        "\n",
        "- [`cenpy`](https://cenpy-devs.github.io/cenpy/)\n",
        "- [`pygris`](https://walker-data.com/pygris/)\n",
        "- [`textblob`](https://github.com/sloria/textblob)\n",
        "- [`transformers`](https://huggingface.co/docs/transformers/index)\n",
        "- [`wordcloud`](https://github.com/amueller/word_cloud)\n",
        "\n",
        "## Reference Materials\n",
        "\n",
        "- [Census API User Guide](https://www.census.gov/data/developers/guidance/api-user-guide.html)\n",
        "- [Census API Tutorial](https://www.census.gov/content/dam/Census/programs-surveys/acs/guidance/training-presentations/20180614_API.pdf)\n",
        "- [Variable Names for Census Fields](https://api.census.gov/data.html)\n",
        "- [`cenpy` Documentation](https://cenpy-devs.github.io/cenpy/)\n",
        "  - [Introductory guide](https://nbviewer.jupyter.org/github/ljwolf/cenpy/blob/master/notebooks/automatic-wrapper.ipynb?flush_cache=true)\n",
        "- [Census Geographic Identifiers (GEOIDs)](https://www.census.gov/programs-surveys/geography/guidance/geo-identifiers.html)\n",
        "- [`pygris` Documentation](https://walker-data.com/pygris/)\n",
        "- [`textblob` Documentation](https://textblob.readthedocs.io/)\n",
        "- [`transformers` Documentation](https://huggingface.co/docs/transformers/index)\n",
        "- [`wordcloud` Documentation](https://amueller.github.io/word_cloud/)"
      ],
      "id": "fc2d5ff1"
    }
  ],
  "metadata": {
    "kernelspec": {
      "name": "python3",
      "language": "python",
      "display_name": "Python 3"
    }
  },
  "nbformat": 4,
  "nbformat_minor": 5
}