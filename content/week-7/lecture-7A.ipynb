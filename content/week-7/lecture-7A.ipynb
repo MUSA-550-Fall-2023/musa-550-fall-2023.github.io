{
 "cells": [
  {
   "cell_type": "markdown",
   "metadata": {},
   "source": [
    "---\n",
    "toc: false\n",
    "page-layout: full\n",
    "---"
   ]
  },
  {
   "cell_type": "markdown",
   "metadata": {
    "slideshow": {
     "slide_type": "slide"
    }
   },
   "source": [
    "# Week 7A<br>Getting Data, Part 2: Working with APIs\n",
    "\n",
    "- Section 401\n",
    "- Monday Oct 16, 2023"
   ]
  },
  {
   "cell_type": "markdown",
   "metadata": {
    "slideshow": {
     "slide_type": "slide"
    }
   },
   "source": [
    "**Week #7 Agenda**\n",
    "\n",
    "- Introduction to APIs\n",
    "- Pulling census data and shape files using Python\n",
    "    - Exercise: Lead poisoning in Philadelphia\n",
    "- Natural language processing via Philly's 311 API\n",
    "    - Word frequencies\n",
    "    - Sentiment analysis"
   ]
  },
  {
   "cell_type": "markdown",
   "metadata": {},
   "source": [
    "::: {.callout-important}\n",
    "\n",
    "Update your local environment!\n",
    "\n",
    "- Small update to the course's Python environment\n",
    "- Update the environment on your laptop using [these instructions](https://musa-550-fall-2023.github.io/resource/mamba.html#updating-an-existing-environment) on course website\n",
    "\n",
    ":::"
   ]
  },
  {
   "cell_type": "code",
   "execution_count": 3,
   "metadata": {
    "slideshow": {
     "slide_type": "slide"
    }
   },
   "outputs": [],
   "source": [
    "import geopandas as gpd\n",
    "import pandas as pd\n",
    "import numpy as np\n",
    "from shapely.geometry import Point\n",
    "\n",
    "from matplotlib import pyplot as plt\n",
    "import seaborn as sns\n",
    "\n",
    "import hvplot.pandas\n",
    "import holoviews as hv"
   ]
  },
  {
   "cell_type": "code",
   "execution_count": 4,
   "metadata": {},
   "outputs": [],
   "source": [
    "# Show all columns\n",
    "pd.options.display.max_columns = 999"
   ]
  },
  {
   "cell_type": "markdown",
   "metadata": {
    "slideshow": {
     "slide_type": "slide"
    }
   },
   "source": [
    "## Part 1: Introduction to APIs\n",
    "\n",
    "Or, how to pull data from the web using Python"
   ]
  },
  {
   "cell_type": "markdown",
   "metadata": {},
   "source": [
    "**Application programming interface (API):**\n",
    "\n",
    "> (noun): A particular set of rules and specifications that software programs can follow to communicate with each other and exchange data."
   ]
  },
  {
   "cell_type": "markdown",
   "metadata": {
    "slideshow": {
     "slide_type": "slide"
    }
   },
   "source": [
    "**Example APIs**\n",
    "\n",
    "- Socrata Open Data: [https://dev.socrata.com/](https://dev.socrata.com/)\n",
    "- Open Data Philly: [https://opendataphilly.org](https://opendataphilly.org)\n",
    "- US Census Bureau: [https://www.census.gov/data/developers/data-sets.html](https://www.census.gov/data/developers/data-sets.html)\n",
    "- Bureau of Labor Statistics: [https://www.bls.gov/developers/](https://www.bls.gov/developers/)\n",
    "- US Geological Survey: [https://www.usgs.gov/products/data-and-tools/apis](https://www.usgs.gov/products/data-and-tools/apis)\n",
    "- US Environmental Protection Agency: [https://www.epa.gov/enviro/web-services](https://www.epa.gov/enviro/web-services)\n",
    "- Google APIs: [https://console.cloud.google.com/apis/library](https://console.cloud.google.com/apis/library)\n",
    "- Facebook: [https://developers.facebook.com/docs/apis-and-sdks/](https://developers.facebook.com/docs/apis-and-sdks/)\n",
    "- Twitter: [https://developer.twitter.com/en/docs/api-reference-index.html](https://developer.twitter.com/en/docs/api-reference-index) (RIP 💀)\n",
    "- Foursquare: [https://developer.foursquare.com/](https://developer.foursquare.com/)\n",
    "- Instagram: [https://www.instagram.com/developer/](https://www.instagram.com/developer/)\n",
    "- Yelp: [https://www.yelp.com/developers](https://www.instagram.com/developer/)"
   ]
  },
  {
   "cell_type": "markdown",
   "metadata": {
    "slideshow": {
     "slide_type": "subslide"
    }
   },
   "source": [
    "::: {.callout-note}\n",
    "\n",
    "When accessing data via API, many services will require you to register an API key to prevent you from overloading the service with requests.\n",
    "\n",
    ":::"
   ]
  },
  {
   "cell_type": "markdown",
   "metadata": {
    "slideshow": {
     "slide_type": "slide"
    }
   },
   "source": [
    "###  Example #1: Automated data feeds\n",
    "\n",
    "The simplest form of API is when data providers maintain data files via a URL that are automatically updated with new data over time. "
   ]
  },
  {
   "cell_type": "markdown",
   "metadata": {
    "slideshow": {
     "slide_type": "subslide"
    }
   },
   "source": [
    "#### USGS real-time earthquake feeds\n",
    "\n",
    "This is an API for near-real-time data about earthquakes, and data is provided in GeoJSON format over the web. \n",
    "\n",
    "The API has a separate endpoint for each version of the data that users might want. No authentication is required."
   ]
  },
  {
   "cell_type": "markdown",
   "metadata": {
    "slideshow": {
     "slide_type": "subslide"
    }
   },
   "source": [
    "API documentation:\n",
    "\n",
    "[http://earthquake.usgs.gov/earthquakes/feed/v1.0/geojson.php](http://earthquake.usgs.gov/earthquakes/feed/v1.0/geojson.php)\n",
    "\n",
    "Sample API endpoint, for magnitude 4.5+ earthquakes in past day:\n",
    "\n",
    "[http://earthquake.usgs.gov/earthquakes/feed/v1.0/summary/4.5_day.geojson](http://earthquake.usgs.gov/earthquakes/feed/v1.0/summary/4.5_day.geojson)"
   ]
  },
  {
   "cell_type": "markdown",
   "metadata": {
    "slideshow": {
     "slide_type": "slide"
    }
   },
   "source": [
    "GeoPandas can read GeoJSON files from the web directly. Simply pass the URL to the `gpd.read_file()` function:"
   ]
  },
  {
   "cell_type": "code",
   "execution_count": 5,
   "metadata": {
    "slideshow": {
     "slide_type": "subslide"
    }
   },
   "outputs": [],
   "source": [
    "# Download data on magnitude 2.5+ quakes from the past week\n",
    "endpoint_url = \"http://earthquake.usgs.gov/earthquakes/feed/v1.0/summary/2.5_week.geojson\"\n",
    "earthquakes = gpd.read_file(endpoint_url)"
   ]
  },
  {
   "cell_type": "code",
   "execution_count": 6,
   "metadata": {
    "slideshow": {
     "slide_type": "fragment"
    }
   },
   "outputs": [
    {
     "data": {
      "text/html": [
       "<div>\n",
       "<style scoped>\n",
       "    .dataframe tbody tr th:only-of-type {\n",
       "        vertical-align: middle;\n",
       "    }\n",
       "\n",
       "    .dataframe tbody tr th {\n",
       "        vertical-align: top;\n",
       "    }\n",
       "\n",
       "    .dataframe thead th {\n",
       "        text-align: right;\n",
       "    }\n",
       "</style>\n",
       "<table border=\"1\" class=\"dataframe\">\n",
       "  <thead>\n",
       "    <tr style=\"text-align: right;\">\n",
       "      <th></th>\n",
       "      <th>id</th>\n",
       "      <th>mag</th>\n",
       "      <th>place</th>\n",
       "      <th>time</th>\n",
       "      <th>updated</th>\n",
       "      <th>tz</th>\n",
       "      <th>url</th>\n",
       "      <th>detail</th>\n",
       "      <th>felt</th>\n",
       "      <th>cdi</th>\n",
       "      <th>mmi</th>\n",
       "      <th>alert</th>\n",
       "      <th>status</th>\n",
       "      <th>tsunami</th>\n",
       "      <th>sig</th>\n",
       "      <th>net</th>\n",
       "      <th>code</th>\n",
       "      <th>ids</th>\n",
       "      <th>sources</th>\n",
       "      <th>types</th>\n",
       "      <th>nst</th>\n",
       "      <th>dmin</th>\n",
       "      <th>rms</th>\n",
       "      <th>gap</th>\n",
       "      <th>magType</th>\n",
       "      <th>type</th>\n",
       "      <th>title</th>\n",
       "      <th>geometry</th>\n",
       "    </tr>\n",
       "  </thead>\n",
       "  <tbody>\n",
       "    <tr>\n",
       "      <th>0</th>\n",
       "      <td>nn00867368</td>\n",
       "      <td>3.00</td>\n",
       "      <td>6 km ESE of Spanish Springs, Nevada</td>\n",
       "      <td>1697413984949</td>\n",
       "      <td>1697417149294</td>\n",
       "      <td>NaN</td>\n",
       "      <td>https://earthquake.usgs.gov/earthquakes/eventp...</td>\n",
       "      <td>https://earthquake.usgs.gov/earthquakes/feed/v...</td>\n",
       "      <td>107.0</td>\n",
       "      <td>3.8</td>\n",
       "      <td>NaN</td>\n",
       "      <td>NaN</td>\n",
       "      <td>reviewed</td>\n",
       "      <td>0</td>\n",
       "      <td>179</td>\n",
       "      <td>nn</td>\n",
       "      <td>00867368</td>\n",
       "      <td>,nn00867368,us6000lft4,</td>\n",
       "      <td>,nn,us,</td>\n",
       "      <td>,dyfi,origin,phase-data,</td>\n",
       "      <td>37.0</td>\n",
       "      <td>0.1310</td>\n",
       "      <td>0.1763</td>\n",
       "      <td>88.38</td>\n",
       "      <td>ml</td>\n",
       "      <td>earthquake</td>\n",
       "      <td>M 3.0 - 6 km ESE of Spanish Springs, Nevada</td>\n",
       "      <td>POINT Z (-119.63990 39.61890 8.60000)</td>\n",
       "    </tr>\n",
       "    <tr>\n",
       "      <th>1</th>\n",
       "      <td>pr2023288001</td>\n",
       "      <td>3.76</td>\n",
       "      <td>53 km SE of Punta Cana, Dominican Republic</td>\n",
       "      <td>1697413355310</td>\n",
       "      <td>1697414570972</td>\n",
       "      <td>NaN</td>\n",
       "      <td>https://earthquake.usgs.gov/earthquakes/eventp...</td>\n",
       "      <td>https://earthquake.usgs.gov/earthquakes/feed/v...</td>\n",
       "      <td>NaN</td>\n",
       "      <td>NaN</td>\n",
       "      <td>NaN</td>\n",
       "      <td>NaN</td>\n",
       "      <td>reviewed</td>\n",
       "      <td>0</td>\n",
       "      <td>218</td>\n",
       "      <td>pr</td>\n",
       "      <td>2023288001</td>\n",
       "      <td>,us6000lft3,pr2023288001,</td>\n",
       "      <td>,us,pr,</td>\n",
       "      <td>,origin,phase-data,</td>\n",
       "      <td>14.0</td>\n",
       "      <td>0.2338</td>\n",
       "      <td>0.2400</td>\n",
       "      <td>140.00</td>\n",
       "      <td>md</td>\n",
       "      <td>earthquake</td>\n",
       "      <td>M 3.8 - 53 km SE of Punta Cana, Dominican Repu...</td>\n",
       "      <td>POINT Z (-67.99060 18.30310 89.00000)</td>\n",
       "    </tr>\n",
       "    <tr>\n",
       "      <th>2</th>\n",
       "      <td>us6000lfsy</td>\n",
       "      <td>4.40</td>\n",
       "      <td>106 km SSW of Calama, Chile</td>\n",
       "      <td>1697411570380</td>\n",
       "      <td>1697412082040</td>\n",
       "      <td>NaN</td>\n",
       "      <td>https://earthquake.usgs.gov/earthquakes/eventp...</td>\n",
       "      <td>https://earthquake.usgs.gov/earthquakes/feed/v...</td>\n",
       "      <td>NaN</td>\n",
       "      <td>NaN</td>\n",
       "      <td>NaN</td>\n",
       "      <td>NaN</td>\n",
       "      <td>reviewed</td>\n",
       "      <td>0</td>\n",
       "      <td>298</td>\n",
       "      <td>us</td>\n",
       "      <td>6000lfsy</td>\n",
       "      <td>,us6000lfsy,</td>\n",
       "      <td>,us,</td>\n",
       "      <td>,origin,phase-data,</td>\n",
       "      <td>20.0</td>\n",
       "      <td>0.7020</td>\n",
       "      <td>0.7400</td>\n",
       "      <td>134.00</td>\n",
       "      <td>mb</td>\n",
       "      <td>earthquake</td>\n",
       "      <td>M 4.4 - 106 km SSW of Calama, Chile</td>\n",
       "      <td>POINT Z (-69.28150 -23.35760 92.81700)</td>\n",
       "    </tr>\n",
       "    <tr>\n",
       "      <th>3</th>\n",
       "      <td>us6000lfsv</td>\n",
       "      <td>4.90</td>\n",
       "      <td>108 km S of Puerto El Triunfo, El Salvador</td>\n",
       "      <td>1697409880716</td>\n",
       "      <td>1697410968040</td>\n",
       "      <td>NaN</td>\n",
       "      <td>https://earthquake.usgs.gov/earthquakes/eventp...</td>\n",
       "      <td>https://earthquake.usgs.gov/earthquakes/feed/v...</td>\n",
       "      <td>NaN</td>\n",
       "      <td>NaN</td>\n",
       "      <td>NaN</td>\n",
       "      <td>NaN</td>\n",
       "      <td>reviewed</td>\n",
       "      <td>0</td>\n",
       "      <td>369</td>\n",
       "      <td>us</td>\n",
       "      <td>6000lfsv</td>\n",
       "      <td>,us6000lfsv,</td>\n",
       "      <td>,us,</td>\n",
       "      <td>,origin,phase-data,</td>\n",
       "      <td>55.0</td>\n",
       "      <td>1.1750</td>\n",
       "      <td>0.8500</td>\n",
       "      <td>151.00</td>\n",
       "      <td>mb</td>\n",
       "      <td>earthquake</td>\n",
       "      <td>M 4.9 - 108 km S of Puerto El Triunfo, El Salv...</td>\n",
       "      <td>POINT Z (-88.51080 12.30150 46.09700)</td>\n",
       "    </tr>\n",
       "    <tr>\n",
       "      <th>4</th>\n",
       "      <td>pr2023288000</td>\n",
       "      <td>3.72</td>\n",
       "      <td>63 km N of Hatillo, Puerto Rico</td>\n",
       "      <td>1697408192010</td>\n",
       "      <td>1697409882040</td>\n",
       "      <td>NaN</td>\n",
       "      <td>https://earthquake.usgs.gov/earthquakes/eventp...</td>\n",
       "      <td>https://earthquake.usgs.gov/earthquakes/feed/v...</td>\n",
       "      <td>1.0</td>\n",
       "      <td>2.0</td>\n",
       "      <td>NaN</td>\n",
       "      <td>NaN</td>\n",
       "      <td>reviewed</td>\n",
       "      <td>0</td>\n",
       "      <td>213</td>\n",
       "      <td>pr</td>\n",
       "      <td>2023288000</td>\n",
       "      <td>,pr2023288000,us6000lfsp,</td>\n",
       "      <td>,pr,us,</td>\n",
       "      <td>,dyfi,origin,phase-data,</td>\n",
       "      <td>16.0</td>\n",
       "      <td>0.6249</td>\n",
       "      <td>0.4500</td>\n",
       "      <td>238.00</td>\n",
       "      <td>md</td>\n",
       "      <td>earthquake</td>\n",
       "      <td>M 3.7 - 63 km N of Hatillo, Puerto Rico</td>\n",
       "      <td>POINT Z (-66.75960 19.05810 45.00000)</td>\n",
       "    </tr>\n",
       "  </tbody>\n",
       "</table>\n",
       "</div>"
      ],
      "text/plain": [
       "             id   mag                                       place  \\\n",
       "0    nn00867368  3.00         6 km ESE of Spanish Springs, Nevada   \n",
       "1  pr2023288001  3.76  53 km SE of Punta Cana, Dominican Republic   \n",
       "2    us6000lfsy  4.40                 106 km SSW of Calama, Chile   \n",
       "3    us6000lfsv  4.90  108 km S of Puerto El Triunfo, El Salvador   \n",
       "4  pr2023288000  3.72             63 km N of Hatillo, Puerto Rico   \n",
       "\n",
       "            time        updated  tz  \\\n",
       "0  1697413984949  1697417149294 NaN   \n",
       "1  1697413355310  1697414570972 NaN   \n",
       "2  1697411570380  1697412082040 NaN   \n",
       "3  1697409880716  1697410968040 NaN   \n",
       "4  1697408192010  1697409882040 NaN   \n",
       "\n",
       "                                                 url  \\\n",
       "0  https://earthquake.usgs.gov/earthquakes/eventp...   \n",
       "1  https://earthquake.usgs.gov/earthquakes/eventp...   \n",
       "2  https://earthquake.usgs.gov/earthquakes/eventp...   \n",
       "3  https://earthquake.usgs.gov/earthquakes/eventp...   \n",
       "4  https://earthquake.usgs.gov/earthquakes/eventp...   \n",
       "\n",
       "                                              detail   felt  cdi  mmi alert  \\\n",
       "0  https://earthquake.usgs.gov/earthquakes/feed/v...  107.0  3.8  NaN   NaN   \n",
       "1  https://earthquake.usgs.gov/earthquakes/feed/v...    NaN  NaN  NaN   NaN   \n",
       "2  https://earthquake.usgs.gov/earthquakes/feed/v...    NaN  NaN  NaN   NaN   \n",
       "3  https://earthquake.usgs.gov/earthquakes/feed/v...    NaN  NaN  NaN   NaN   \n",
       "4  https://earthquake.usgs.gov/earthquakes/feed/v...    1.0  2.0  NaN   NaN   \n",
       "\n",
       "     status  tsunami  sig net        code                        ids  sources  \\\n",
       "0  reviewed        0  179  nn    00867368    ,nn00867368,us6000lft4,  ,nn,us,   \n",
       "1  reviewed        0  218  pr  2023288001  ,us6000lft3,pr2023288001,  ,us,pr,   \n",
       "2  reviewed        0  298  us    6000lfsy               ,us6000lfsy,     ,us,   \n",
       "3  reviewed        0  369  us    6000lfsv               ,us6000lfsv,     ,us,   \n",
       "4  reviewed        0  213  pr  2023288000  ,pr2023288000,us6000lfsp,  ,pr,us,   \n",
       "\n",
       "                      types   nst    dmin     rms     gap magType        type  \\\n",
       "0  ,dyfi,origin,phase-data,  37.0  0.1310  0.1763   88.38      ml  earthquake   \n",
       "1       ,origin,phase-data,  14.0  0.2338  0.2400  140.00      md  earthquake   \n",
       "2       ,origin,phase-data,  20.0  0.7020  0.7400  134.00      mb  earthquake   \n",
       "3       ,origin,phase-data,  55.0  1.1750  0.8500  151.00      mb  earthquake   \n",
       "4  ,dyfi,origin,phase-data,  16.0  0.6249  0.4500  238.00      md  earthquake   \n",
       "\n",
       "                                               title  \\\n",
       "0        M 3.0 - 6 km ESE of Spanish Springs, Nevada   \n",
       "1  M 3.8 - 53 km SE of Punta Cana, Dominican Repu...   \n",
       "2                M 4.4 - 106 km SSW of Calama, Chile   \n",
       "3  M 4.9 - 108 km S of Puerto El Triunfo, El Salv...   \n",
       "4            M 3.7 - 63 km N of Hatillo, Puerto Rico   \n",
       "\n",
       "                                 geometry  \n",
       "0   POINT Z (-119.63990 39.61890 8.60000)  \n",
       "1   POINT Z (-67.99060 18.30310 89.00000)  \n",
       "2  POINT Z (-69.28150 -23.35760 92.81700)  \n",
       "3   POINT Z (-88.51080 12.30150 46.09700)  \n",
       "4   POINT Z (-66.75960 19.05810 45.00000)  "
      ]
     },
     "execution_count": 6,
     "metadata": {},
     "output_type": "execute_result"
    }
   ],
   "source": [
    "earthquakes.head() "
   ]
  },
  {
   "cell_type": "markdown",
   "metadata": {
    "slideshow": {
     "slide_type": "slide"
    }
   },
   "source": [
    "Let's explore the data interactively with Folium:"
   ]
  },
  {
   "cell_type": "code",
   "execution_count": 7,
   "metadata": {
    "tags": []
   },
   "outputs": [
    {
     "data": {
      "text/html": [
       "<div style=\"width:100%;\"><div style=\"position:relative;width:100%;height:0;padding-bottom:60%;\"><span style=\"color:#565656\">Make this Notebook Trusted to load map: File -> Trust Notebook</span><iframe srcdoc=\"&lt;!DOCTYPE html&gt;\n",
       "&lt;html&gt;\n",
       "&lt;head&gt;\n",
       "    \n",
       "    &lt;meta http-equiv=&quot;content-type&quot; content=&quot;text/html; charset=UTF-8&quot; /&gt;\n",
       "    \n",
       "        &lt;script&gt;\n",
       "            L_NO_TOUCH = false;\n",
       "            L_DISABLE_3D = false;\n",
       "        &lt;/script&gt;\n",
       "    \n",
       "    &lt;style&gt;html, body {width: 100%;height: 100%;margin: 0;padding: 0;}&lt;/style&gt;\n",
       "    &lt;style&gt;#map {position:absolute;top:0;bottom:0;right:0;left:0;}&lt;/style&gt;\n",
       "    &lt;script src=&quot;https://cdn.jsdelivr.net/npm/leaflet@1.9.3/dist/leaflet.js&quot;&gt;&lt;/script&gt;\n",
       "    &lt;script src=&quot;https://code.jquery.com/jquery-1.12.4.min.js&quot;&gt;&lt;/script&gt;\n",
       "    &lt;script src=&quot;https://cdn.jsdelivr.net/npm/bootstrap@5.2.2/dist/js/bootstrap.bundle.min.js&quot;&gt;&lt;/script&gt;\n",
       "    &lt;script src=&quot;https://cdnjs.cloudflare.com/ajax/libs/Leaflet.awesome-markers/2.0.2/leaflet.awesome-markers.js&quot;&gt;&lt;/script&gt;\n",
       "    &lt;link rel=&quot;stylesheet&quot; href=&quot;https://cdn.jsdelivr.net/npm/leaflet@1.9.3/dist/leaflet.css&quot;/&gt;\n",
       "    &lt;link rel=&quot;stylesheet&quot; href=&quot;https://cdn.jsdelivr.net/npm/bootstrap@5.2.2/dist/css/bootstrap.min.css&quot;/&gt;\n",
       "    &lt;link rel=&quot;stylesheet&quot; href=&quot;https://netdna.bootstrapcdn.com/bootstrap/3.0.0/css/bootstrap.min.css&quot;/&gt;\n",
       "    &lt;link rel=&quot;stylesheet&quot; href=&quot;https://cdn.jsdelivr.net/npm/@fortawesome/fontawesome-free@6.2.0/css/all.min.css&quot;/&gt;\n",
       "    &lt;link rel=&quot;stylesheet&quot; href=&quot;https://cdnjs.cloudflare.com/ajax/libs/Leaflet.awesome-markers/2.0.2/leaflet.awesome-markers.css&quot;/&gt;\n",
       "    &lt;link rel=&quot;stylesheet&quot; href=&quot;https://cdn.jsdelivr.net/gh/python-visualization/folium/folium/templates/leaflet.awesome.rotate.min.css&quot;/&gt;\n",
       "    \n",
       "            &lt;meta name=&quot;viewport&quot; content=&quot;width=device-width,\n",
       "                initial-scale=1.0, maximum-scale=1.0, user-scalable=no&quot; /&gt;\n",
       "            &lt;style&gt;\n",
       "                #map_18761f938b1fdcaae24a4075fb5bdfbe {\n",
       "                    position: relative;\n",
       "                    width: 100.0%;\n",
       "                    height: 100.0%;\n",
       "                    left: 0.0%;\n",
       "                    top: 0.0%;\n",
       "                }\n",
       "                .leaflet-container { font-size: 1rem; }\n",
       "            &lt;/style&gt;\n",
       "        \n",
       "    \n",
       "                    &lt;style&gt;\n",
       "                        .foliumtooltip {\n",
       "                            \n",
       "                        }\n",
       "                       .foliumtooltip table{\n",
       "                            margin: auto;\n",
       "                        }\n",
       "                        .foliumtooltip tr{\n",
       "                            text-align: left;\n",
       "                        }\n",
       "                        .foliumtooltip th{\n",
       "                            padding: 2px; padding-right: 8px;\n",
       "                        }\n",
       "                    &lt;/style&gt;\n",
       "            \n",
       "&lt;/head&gt;\n",
       "&lt;body&gt;\n",
       "    \n",
       "    \n",
       "            &lt;div class=&quot;folium-map&quot; id=&quot;map_18761f938b1fdcaae24a4075fb5bdfbe&quot; &gt;&lt;/div&gt;\n",
       "        \n",
       "&lt;/body&gt;\n",
       "&lt;script&gt;\n",
       "    \n",
       "    \n",
       "            var map_18761f938b1fdcaae24a4075fb5bdfbe = L.map(\n",
       "                &quot;map_18761f938b1fdcaae24a4075fb5bdfbe&quot;,\n",
       "                {\n",
       "                    center: [4.772950000000002, 0.39740000000000464],\n",
       "                    crs: L.CRS.EPSG3857,\n",
       "                    zoom: 10,\n",
       "                    zoomControl: true,\n",
       "                    preferCanvas: false,\n",
       "                }\n",
       "            );\n",
       "            L.control.scale().addTo(map_18761f938b1fdcaae24a4075fb5bdfbe);\n",
       "\n",
       "            \n",
       "\n",
       "        \n",
       "    \n",
       "            var tile_layer_559d396d720fd52e3df51892c7c5e04a = L.tileLayer(\n",
       "                &quot;https://{s}.tile.openstreetmap.org/{z}/{x}/{y}.png&quot;,\n",
       "                {&quot;attribution&quot;: &quot;Data by \\u0026copy; \\u003ca target=\\&quot;_blank\\&quot; href=\\&quot;http://openstreetmap.org\\&quot;\\u003eOpenStreetMap\\u003c/a\\u003e, under \\u003ca target=\\&quot;_blank\\&quot; href=\\&quot;http://www.openstreetmap.org/copyright\\&quot;\\u003eODbL\\u003c/a\\u003e.&quot;, &quot;detectRetina&quot;: false, &quot;maxNativeZoom&quot;: 18, &quot;maxZoom&quot;: 18, &quot;minZoom&quot;: 0, &quot;noWrap&quot;: false, &quot;opacity&quot;: 1, &quot;subdomains&quot;: &quot;abc&quot;, &quot;tms&quot;: false}\n",
       "            ).addTo(map_18761f938b1fdcaae24a4075fb5bdfbe);\n",
       "        \n",
       "    \n",
       "            map_18761f938b1fdcaae24a4075fb5bdfbe.fitBounds(\n",
       "                [[-63.765, -179.1936], [73.3109, 179.9884]],\n",
       "                {}\n",
       "            );\n",
       "        \n",
       "    \n",
       "        function geo_json_e65f3c5290354e4995fad7eedbe148e0_styler(feature) {\n",
       "            switch(feature.id) {\n",
       "                default:\n",
       "                    return {&quot;fillOpacity&quot;: 0.5, &quot;weight&quot;: 2};\n",
       "            }\n",
       "        }\n",
       "        function geo_json_e65f3c5290354e4995fad7eedbe148e0_highlighter(feature) {\n",
       "            switch(feature.id) {\n",
       "                default:\n",
       "                    return {&quot;fillOpacity&quot;: 0.75};\n",
       "            }\n",
       "        }\n",
       "        function geo_json_e65f3c5290354e4995fad7eedbe148e0_pointToLayer(feature, latlng) {\n",
       "            var opts = {&quot;bubblingMouseEvents&quot;: true, &quot;color&quot;: &quot;#3388ff&quot;, &quot;dashArray&quot;: null, &quot;dashOffset&quot;: null, &quot;fill&quot;: true, &quot;fillColor&quot;: &quot;#3388ff&quot;, &quot;fillOpacity&quot;: 0.2, &quot;fillRule&quot;: &quot;evenodd&quot;, &quot;lineCap&quot;: &quot;round&quot;, &quot;lineJoin&quot;: &quot;round&quot;, &quot;opacity&quot;: 1.0, &quot;radius&quot;: 2, &quot;stroke&quot;: true, &quot;weight&quot;: 3};\n",
       "            \n",
       "            let style = geo_json_e65f3c5290354e4995fad7eedbe148e0_styler(feature)\n",
       "            Object.assign(opts, style)\n",
       "            \n",
       "            return new L.CircleMarker(latlng, opts)\n",
       "        }\n",
       "\n",
       "        function geo_json_e65f3c5290354e4995fad7eedbe148e0_onEachFeature(feature, layer) {\n",
       "            layer.on({\n",
       "                mouseout: function(e) {\n",
       "                    if(typeof e.target.setStyle === &quot;function&quot;){\n",
       "                        geo_json_e65f3c5290354e4995fad7eedbe148e0.resetStyle(e.target);\n",
       "                    }\n",
       "                },\n",
       "                mouseover: function(e) {\n",
       "                    if(typeof e.target.setStyle === &quot;function&quot;){\n",
       "                        const highlightStyle = geo_json_e65f3c5290354e4995fad7eedbe148e0_highlighter(e.target.feature)\n",
       "                        e.target.setStyle(highlightStyle);\n",
       "                    }\n",
       "                },\n",
       "            });\n",
       "        };\n",
       "        var geo_json_e65f3c5290354e4995fad7eedbe148e0 = L.geoJson(null, {\n",
       "                onEachFeature: geo_json_e65f3c5290354e4995fad7eedbe148e0_onEachFeature,\n",
       "            \n",
       "                style: geo_json_e65f3c5290354e4995fad7eedbe148e0_styler,\n",
       "                pointToLayer: geo_json_e65f3c5290354e4995fad7eedbe148e0_pointToLayer\n",
       "        });\n",
       "\n",
       "        function geo_json_e65f3c5290354e4995fad7eedbe148e0_add (data) {\n",
       "            geo_json_e65f3c5290354e4995fad7eedbe148e0\n",
       "                .addData(data)\n",
       "                .addTo(map_18761f938b1fdcaae24a4075fb5bdfbe);\n",
       "        }\n",
       "            geo_json_e65f3c5290354e4995fad7eedbe148e0_add({&quot;bbox&quot;: [-179.1936, -63.765, 179.9884, 73.3109], &quot;features&quot;: [{&quot;bbox&quot;: [-119.6399, 39.6189, -119.6399, 39.6189], &quot;geometry&quot;: {&quot;coordinates&quot;: [-119.6399, 39.6189, 8.6], &quot;type&quot;: &quot;Point&quot;}, &quot;id&quot;: &quot;0&quot;, &quot;properties&quot;: {&quot;alert&quot;: null, &quot;cdi&quot;: 3.8, &quot;code&quot;: &quot;00867368&quot;, &quot;detail&quot;: &quot;https://earthquake.usgs.gov/earthquakes/feed/v1.0/detail/nn00867368.geojson&quot;, &quot;dmin&quot;: 0.131, &quot;felt&quot;: 107.0, &quot;gap&quot;: 88.38, &quot;id&quot;: &quot;nn00867368&quot;, &quot;ids&quot;: &quot;,nn00867368,us6000lft4,&quot;, &quot;mag&quot;: 3.0, &quot;magType&quot;: &quot;ml&quot;, &quot;mmi&quot;: null, &quot;net&quot;: &quot;nn&quot;, &quot;nst&quot;: 37.0, &quot;place&quot;: &quot;6 km ESE of Spanish Springs, Nevada&quot;, &quot;rms&quot;: 0.1763, &quot;sig&quot;: 179, &quot;sources&quot;: &quot;,nn,us,&quot;, &quot;status&quot;: &quot;reviewed&quot;, &quot;time&quot;: 1697413984949, &quot;title&quot;: &quot;M 3.0 - 6 km ESE of Spanish Springs, Nevada&quot;, &quot;tsunami&quot;: 0, &quot;type&quot;: &quot;earthquake&quot;, &quot;types&quot;: &quot;,dyfi,origin,phase-data,&quot;, &quot;tz&quot;: null, &quot;updated&quot;: 1697417149294, &quot;url&quot;: &quot;https://earthquake.usgs.gov/earthquakes/eventpage/nn00867368&quot;}, &quot;type&quot;: &quot;Feature&quot;}, {&quot;bbox&quot;: [-67.9906, 18.3031, -67.9906, 18.3031], &quot;geometry&quot;: {&quot;coordinates&quot;: [-67.9906, 18.3031, 89.0], &quot;type&quot;: &quot;Point&quot;}, &quot;id&quot;: &quot;1&quot;, &quot;properties&quot;: {&quot;alert&quot;: null, &quot;cdi&quot;: null, &quot;code&quot;: &quot;2023288001&quot;, &quot;detail&quot;: &quot;https://earthquake.usgs.gov/earthquakes/feed/v1.0/detail/pr2023288001.geojson&quot;, &quot;dmin&quot;: 0.2338, &quot;felt&quot;: null, &quot;gap&quot;: 140.0, &quot;id&quot;: &quot;pr2023288001&quot;, &quot;ids&quot;: &quot;,us6000lft3,pr2023288001,&quot;, &quot;mag&quot;: 3.76, &quot;magType&quot;: &quot;md&quot;, &quot;mmi&quot;: null, &quot;net&quot;: &quot;pr&quot;, &quot;nst&quot;: 14.0, &quot;place&quot;: &quot;53 km SE of Punta Cana, Dominican Republic&quot;, &quot;rms&quot;: 0.24, &quot;sig&quot;: 218, &quot;sources&quot;: &quot;,us,pr,&quot;, &quot;status&quot;: &quot;reviewed&quot;, &quot;time&quot;: 1697413355310, &quot;title&quot;: &quot;M 3.8 - 53 km SE of Punta Cana, Dominican Republic&quot;, &quot;tsunami&quot;: 0, &quot;type&quot;: &quot;earthquake&quot;, &quot;types&quot;: &quot;,origin,phase-data,&quot;, &quot;tz&quot;: null, &quot;updated&quot;: 1697414570972, &quot;url&quot;: &quot;https://earthquake.usgs.gov/earthquakes/eventpage/pr2023288001&quot;}, &quot;type&quot;: &quot;Feature&quot;}, {&quot;bbox&quot;: [-69.2815, -23.3576, -69.2815, -23.3576], &quot;geometry&quot;: {&quot;coordinates&quot;: [-69.2815, -23.3576, 92.817], &quot;type&quot;: &quot;Point&quot;}, &quot;id&quot;: &quot;2&quot;, &quot;properties&quot;: {&quot;alert&quot;: null, &quot;cdi&quot;: null, &quot;code&quot;: &quot;6000lfsy&quot;, &quot;detail&quot;: &quot;https://earthquake.usgs.gov/earthquakes/feed/v1.0/detail/us6000lfsy.geojson&quot;, &quot;dmin&quot;: 0.702, &quot;felt&quot;: null, &quot;gap&quot;: 134.0, &quot;id&quot;: &quot;us6000lfsy&quot;, &quot;ids&quot;: &quot;,us6000lfsy,&quot;, &quot;mag&quot;: 4.4, &quot;magType&quot;: &quot;mb&quot;, &quot;mmi&quot;: null, &quot;net&quot;: &quot;us&quot;, &quot;nst&quot;: 20.0, &quot;place&quot;: &quot;106 km SSW of Calama, Chile&quot;, &quot;rms&quot;: 0.74, &quot;sig&quot;: 298, &quot;sources&quot;: &quot;,us,&quot;, &quot;status&quot;: &quot;reviewed&quot;, &quot;time&quot;: 1697411570380, &quot;title&quot;: &quot;M 4.4 - 106 km SSW of Calama, Chile&quot;, &quot;tsunami&quot;: 0, &quot;type&quot;: &quot;earthquake&quot;, &quot;types&quot;: &quot;,origin,phase-data,&quot;, &quot;tz&quot;: null, &quot;updated&quot;: 1697412082040, &quot;url&quot;: &quot;https://earthquake.usgs.gov/earthquakes/eventpage/us6000lfsy&quot;}, &quot;type&quot;: &quot;Feature&quot;}, {&quot;bbox&quot;: [-88.5108, 12.3015, -88.5108, 12.3015], &quot;geometry&quot;: {&quot;coordinates&quot;: [-88.5108, 12.3015, 46.097], &quot;type&quot;: &quot;Point&quot;}, &quot;id&quot;: &quot;3&quot;, &quot;properties&quot;: {&quot;alert&quot;: null, &quot;cdi&quot;: null, &quot;code&quot;: &quot;6000lfsv&quot;, &quot;detail&quot;: &quot;https://earthquake.usgs.gov/earthquakes/feed/v1.0/detail/us6000lfsv.geojson&quot;, &quot;dmin&quot;: 1.175, &quot;felt&quot;: null, &quot;gap&quot;: 151.0, &quot;id&quot;: &quot;us6000lfsv&quot;, &quot;ids&quot;: &quot;,us6000lfsv,&quot;, &quot;mag&quot;: 4.9, &quot;magType&quot;: &quot;mb&quot;, &quot;mmi&quot;: null, &quot;net&quot;: &quot;us&quot;, &quot;nst&quot;: 55.0, &quot;place&quot;: &quot;108 km S of Puerto El Triunfo, El Salvador&quot;, &quot;rms&quot;: 0.85, &quot;sig&quot;: 369, &quot;sources&quot;: &quot;,us,&quot;, &quot;status&quot;: &quot;reviewed&quot;, &quot;time&quot;: 1697409880716, &quot;title&quot;: &quot;M 4.9 - 108 km S of Puerto El Triunfo, El Salvador&quot;, &quot;tsunami&quot;: 0, &quot;type&quot;: &quot;earthquake&quot;, &quot;types&quot;: &quot;,origin,phase-data,&quot;, &quot;tz&quot;: null, &quot;updated&quot;: 1697410968040, &quot;url&quot;: &quot;https://earthquake.usgs.gov/earthquakes/eventpage/us6000lfsv&quot;}, &quot;type&quot;: &quot;Feature&quot;}, {&quot;bbox&quot;: [-66.7596, 19.0581, -66.7596, 19.0581], &quot;geometry&quot;: {&quot;coordinates&quot;: [-66.7596, 19.0581, 45.0], &quot;type&quot;: &quot;Point&quot;}, &quot;id&quot;: &quot;4&quot;, &quot;properties&quot;: {&quot;alert&quot;: null, &quot;cdi&quot;: 2.0, &quot;code&quot;: &quot;2023288000&quot;, &quot;detail&quot;: &quot;https://earthquake.usgs.gov/earthquakes/feed/v1.0/detail/pr2023288000.geojson&quot;, &quot;dmin&quot;: 0.6249, &quot;felt&quot;: 1.0, &quot;gap&quot;: 238.0, &quot;id&quot;: &quot;pr2023288000&quot;, &quot;ids&quot;: &quot;,pr2023288000,us6000lfsp,&quot;, &quot;mag&quot;: 3.72, &quot;magType&quot;: &quot;md&quot;, &quot;mmi&quot;: null, &quot;net&quot;: &quot;pr&quot;, &quot;nst&quot;: 16.0, &quot;place&quot;: &quot;63 km N of Hatillo, Puerto Rico&quot;, &quot;rms&quot;: 0.45, &quot;sig&quot;: 213, &quot;sources&quot;: &quot;,pr,us,&quot;, &quot;status&quot;: &quot;reviewed&quot;, &quot;time&quot;: 1697408192010, &quot;title&quot;: &quot;M 3.7 - 63 km N of Hatillo, Puerto Rico&quot;, &quot;tsunami&quot;: 0, &quot;type&quot;: &quot;earthquake&quot;, &quot;types&quot;: &quot;,dyfi,origin,phase-data,&quot;, &quot;tz&quot;: null, &quot;updated&quot;: 1697409882040, &quot;url&quot;: &quot;https://earthquake.usgs.gov/earthquakes/eventpage/pr2023288000&quot;}, &quot;type&quot;: &quot;Feature&quot;}, {&quot;bbox&quot;: [130.3721, -6.1592, 130.3721, -6.1592], &quot;geometry&quot;: {&quot;coordinates&quot;: [130.3721, -6.1592, 158.06], &quot;type&quot;: &quot;Point&quot;}, &quot;id&quot;: &quot;5&quot;, &quot;properties&quot;: {&quot;alert&quot;: null, &quot;cdi&quot;: null, &quot;code&quot;: &quot;6000lfsm&quot;, &quot;detail&quot;: &quot;https://earthquake.usgs.gov/earthquakes/feed/v1.0/detail/us6000lfsm.geojson&quot;, &quot;dmin&quot;: 1.691, &quot;felt&quot;: null, &quot;gap&quot;: 96.0, &quot;id&quot;: &quot;us6000lfsm&quot;, &quot;ids&quot;: &quot;,us6000lfsm,&quot;, &quot;mag&quot;: 4.4, &quot;magType&quot;: &quot;mb&quot;, &quot;mmi&quot;: null, &quot;net&quot;: &quot;us&quot;, &quot;nst&quot;: 32.0, &quot;place&quot;: &quot;270 km WSW of Tual, Indonesia&quot;, &quot;rms&quot;: 0.56, &quot;sig&quot;: 298, &quot;sources&quot;: &quot;,us,&quot;, &quot;status&quot;: &quot;reviewed&quot;, &quot;time&quot;: 1697407668083, &quot;title&quot;: &quot;M 4.4 - 270 km WSW of Tual, Indonesia&quot;, &quot;tsunami&quot;: 0, &quot;type&quot;: &quot;earthquake&quot;, &quot;types&quot;: &quot;,origin,phase-data,&quot;, &quot;tz&quot;: null, &quot;updated&quot;: 1697408628040, &quot;url&quot;: &quot;https://earthquake.usgs.gov/earthquakes/eventpage/us6000lfsm&quot;}, &quot;type&quot;: &quot;Feature&quot;}, {&quot;bbox&quot;: [-66.4938333333333, 18.5906666666667, -66.4938333333333, 18.5906666666667], &quot;geometry&quot;: {&quot;coordinates&quot;: [-66.4938333333333, 18.5906666666667, 13.06], &quot;type&quot;: &quot;Point&quot;}, &quot;id&quot;: &quot;6&quot;, &quot;properties&quot;: {&quot;alert&quot;: null, &quot;cdi&quot;: 1.0, &quot;code&quot;: &quot;71428708&quot;, &quot;detail&quot;: &quot;https://earthquake.usgs.gov/earthquakes/feed/v1.0/detail/pr71428708.geojson&quot;, &quot;dmin&quot;: 0.1179, &quot;felt&quot;: 0.0, &quot;gap&quot;: 216.0, &quot;id&quot;: &quot;pr71428708&quot;, &quot;ids&quot;: &quot;,pr71428708,&quot;, &quot;mag&quot;: 2.98, &quot;magType&quot;: &quot;md&quot;, &quot;mmi&quot;: null, &quot;net&quot;: &quot;pr&quot;, &quot;nst&quot;: 19.0, &quot;place&quot;: &quot;14 km N of Tierras Nuevas Poniente, Puerto Rico&quot;, &quot;rms&quot;: 0.15, &quot;sig&quot;: 137, &quot;sources&quot;: &quot;,pr,&quot;, &quot;status&quot;: &quot;reviewed&quot;, &quot;time&quot;: 1697406878820, &quot;title&quot;: &quot;M 3.0 - 14 km N of Tierras Nuevas Poniente, Puerto Rico&quot;, &quot;tsunami&quot;: 0, &quot;type&quot;: &quot;earthquake&quot;, &quot;types&quot;: &quot;,dyfi,origin,phase-data,&quot;, &quot;tz&quot;: null, &quot;updated&quot;: 1697409401162, &quot;url&quot;: &quot;https://earthquake.usgs.gov/earthquakes/eventpage/pr71428708&quot;}, &quot;type&quot;: &quot;Feature&quot;}, {&quot;bbox&quot;: [-160.2788, 63.5269, -160.2788, 63.5269], &quot;geometry&quot;: {&quot;coordinates&quot;: [-160.2788, 63.5269, 74.2], &quot;type&quot;: &quot;Point&quot;}, &quot;id&quot;: &quot;7&quot;, &quot;properties&quot;: {&quot;alert&quot;: null, &quot;cdi&quot;: null, &quot;code&quot;: &quot;023d8ngczz&quot;, &quot;detail&quot;: &quot;https://earthquake.usgs.gov/earthquakes/feed/v1.0/detail/ak023d8ngczz.geojson&quot;, &quot;dmin&quot;: null, &quot;felt&quot;: null, &quot;gap&quot;: null, &quot;id&quot;: &quot;ak023d8ngczz&quot;, &quot;ids&quot;: &quot;,us6000lfsh,ak023d8ngczz,&quot;, &quot;mag&quot;: 2.9, &quot;magType&quot;: &quot;ml&quot;, &quot;mmi&quot;: null, &quot;net&quot;: &quot;ak&quot;, &quot;nst&quot;: null, &quot;place&quot;: &quot;46 km SSE of Unalakleet, Alaska&quot;, &quot;rms&quot;: 0.73, &quot;sig&quot;: 129, &quot;sources&quot;: &quot;,us,ak,&quot;, &quot;status&quot;: &quot;automatic&quot;, &quot;time&quot;: 1697405382874, &quot;title&quot;: &quot;M 2.9 - 46 km SSE of Unalakleet, Alaska&quot;, &quot;tsunami&quot;: 0, &quot;type&quot;: &quot;earthquake&quot;, &quot;types&quot;: &quot;,origin,phase-data,&quot;, &quot;tz&quot;: null, &quot;updated&quot;: 1697411580040, &quot;url&quot;: &quot;https://earthquake.usgs.gov/earthquakes/eventpage/ak023d8ngczz&quot;}, &quot;type&quot;: &quot;Feature&quot;}, {&quot;bbox&quot;: [-119.1386667, 34.5635, -119.1386667, 34.5635], &quot;geometry&quot;: {&quot;coordinates&quot;: [-119.1386667, 34.5635, 6.19], &quot;type&quot;: &quot;Point&quot;}, &quot;id&quot;: &quot;8&quot;, &quot;properties&quot;: {&quot;alert&quot;: null, &quot;cdi&quot;: 3.1, &quot;code&quot;: &quot;40582864&quot;, &quot;detail&quot;: &quot;https://earthquake.usgs.gov/earthquakes/feed/v1.0/detail/ci40582864.geojson&quot;, &quot;dmin&quot;: 0.1235, &quot;felt&quot;: 3.0, &quot;gap&quot;: 28.0, &quot;id&quot;: &quot;ci40582864&quot;, &quot;ids&quot;: &quot;,ci40582864,us6000lfsf,&quot;, &quot;mag&quot;: 2.67, &quot;magType&quot;: &quot;ml&quot;, &quot;mmi&quot;: null, &quot;net&quot;: &quot;ci&quot;, &quot;nst&quot;: 67.0, &quot;place&quot;: &quot;16 km NE of Ojai, CA&quot;, &quot;rms&quot;: 0.29, &quot;sig&quot;: 111, &quot;sources&quot;: &quot;,ci,us,&quot;, &quot;status&quot;: &quot;automatic&quot;, &quot;time&quot;: 1697404171610, &quot;title&quot;: &quot;M 2.7 - 16 km NE of Ojai, CA&quot;, &quot;tsunami&quot;: 0, &quot;type&quot;: &quot;earthquake&quot;, &quot;types&quot;: &quot;,dyfi,focal-mechanism,nearby-cities,origin,phase-data,scitech-link,&quot;, &quot;tz&quot;: null, &quot;updated&quot;: 1697417227083, &quot;url&quot;: &quot;https://earthquake.usgs.gov/earthquakes/eventpage/ci40582864&quot;}, &quot;type&quot;: &quot;Feature&quot;}, {&quot;bbox&quot;: [-149.2195, 55.8102, -149.2195, 55.8102], &quot;geometry&quot;: {&quot;coordinates&quot;: [-149.2195, 55.8102, 12.509], &quot;type&quot;: &quot;Point&quot;}, &quot;id&quot;: &quot;9&quot;, &quot;properties&quot;: {&quot;alert&quot;: null, &quot;cdi&quot;: null, &quot;code&quot;: &quot;6000lfsd&quot;, &quot;detail&quot;: &quot;https://earthquake.usgs.gov/earthquakes/feed/v1.0/detail/us6000lfsd.geojson&quot;, &quot;dmin&quot;: 2.708, &quot;felt&quot;: null, &quot;gap&quot;: 223.0, &quot;id&quot;: &quot;us6000lfsd&quot;, &quot;ids&quot;: &quot;,us6000lfsd,&quot;, &quot;mag&quot;: 3.4, &quot;magType&quot;: &quot;ml&quot;, &quot;mmi&quot;: null, &quot;net&quot;: &quot;us&quot;, &quot;nst&quot;: 42.0, &quot;place&quot;: &quot;274 km SE of Chiniak, Alaska&quot;, &quot;rms&quot;: 0.45, &quot;sig&quot;: 178, &quot;sources&quot;: &quot;,us,&quot;, &quot;status&quot;: &quot;reviewed&quot;, &quot;time&quot;: 1697403923452, &quot;title&quot;: &quot;M 3.4 - 274 km SE of Chiniak, Alaska&quot;, &quot;tsunami&quot;: 0, &quot;type&quot;: &quot;earthquake&quot;, &quot;types&quot;: &quot;,origin,phase-data,&quot;, &quot;tz&quot;: null, &quot;updated&quot;: 1697404314040, &quot;url&quot;: &quot;https://earthquake.usgs.gov/earthquakes/eventpage/us6000lfsd&quot;}, &quot;type&quot;: &quot;Feature&quot;}, {&quot;bbox&quot;: [-150.7659, 63.0911, -150.7659, 63.0911], &quot;geometry&quot;: {&quot;coordinates&quot;: [-150.7659, 63.0911, 115.7], &quot;type&quot;: &quot;Point&quot;}, &quot;id&quot;: &quot;10&quot;, &quot;properties&quot;: {&quot;alert&quot;: null, &quot;cdi&quot;: null, &quot;code&quot;: &quot;023d8n00n0&quot;, &quot;detail&quot;: &quot;https://earthquake.usgs.gov/earthquakes/feed/v1.0/detail/ak023d8n00n0.geojson&quot;, &quot;dmin&quot;: null, &quot;felt&quot;: null, &quot;gap&quot;: null, &quot;id&quot;: &quot;ak023d8n00n0&quot;, &quot;ids&quot;: &quot;,us6000lfsa,ak023d8n00n0,&quot;, &quot;mag&quot;: 2.6, &quot;magType&quot;: &quot;ml&quot;, &quot;mmi&quot;: null, &quot;net&quot;: &quot;ak&quot;, &quot;nst&quot;: null, &quot;place&quot;: &quot;66 km N of Petersville, Alaska&quot;, &quot;rms&quot;: 0.42, &quot;sig&quot;: 104, &quot;sources&quot;: &quot;,us,ak,&quot;, &quot;status&quot;: &quot;automatic&quot;, &quot;time&quot;: 1697403197772, &quot;title&quot;: &quot;M 2.6 - 66 km N of Petersville, Alaska&quot;, &quot;tsunami&quot;: 0, &quot;type&quot;: &quot;earthquake&quot;, &quot;types&quot;: &quot;,origin,phase-data,&quot;, &quot;tz&quot;: null, &quot;updated&quot;: 1697405033040, &quot;url&quot;: &quot;https://earthquake.usgs.gov/earthquakes/eventpage/ak023d8n00n0&quot;}, &quot;type&quot;: &quot;Feature&quot;}, {&quot;bbox&quot;: [-119.1346667, 34.5685, -119.1346667, 34.5685], &quot;geometry&quot;: {&quot;coordinates&quot;: [-119.1346667, 34.5685, 1.62], &quot;type&quot;: &quot;Point&quot;}, &quot;id&quot;: &quot;11&quot;, &quot;properties&quot;: {&quot;alert&quot;: null, &quot;cdi&quot;: 3.8, &quot;code&quot;: &quot;40582824&quot;, &quot;detail&quot;: &quot;https://earthquake.usgs.gov/earthquakes/feed/v1.0/detail/ci40582824.geojson&quot;, &quot;dmin&quot;: 0.1286, &quot;felt&quot;: 16.0, &quot;gap&quot;: 21.0, &quot;id&quot;: &quot;ci40582824&quot;, &quot;ids&quot;: &quot;,ci40582824,us6000lfs3,&quot;, &quot;mag&quot;: 3.29, &quot;magType&quot;: &quot;ml&quot;, &quot;mmi&quot;: 4.09, &quot;net&quot;: &quot;ci&quot;, &quot;nst&quot;: 94.0, &quot;place&quot;: &quot;17 km NE of Ojai, CA&quot;, &quot;rms&quot;: 0.33, &quot;sig&quot;: 173, &quot;sources&quot;: &quot;,ci,us,&quot;, &quot;status&quot;: &quot;reviewed&quot;, &quot;time&quot;: 1697399534890, &quot;title&quot;: &quot;M 3.3 - 17 km NE of Ojai, CA&quot;, &quot;tsunami&quot;: 0, &quot;type&quot;: &quot;earthquake&quot;, &quot;types&quot;: &quot;,dyfi,focal-mechanism,nearby-cities,origin,phase-data,scitech-link,shakemap,&quot;, &quot;tz&quot;: null, &quot;updated&quot;: 1697407679798, &quot;url&quot;: &quot;https://earthquake.usgs.gov/earthquakes/eventpage/ci40582824&quot;}, &quot;type&quot;: &quot;Feature&quot;}, {&quot;bbox&quot;: [-119.6182, 39.6305, -119.6182, 39.6305], &quot;geometry&quot;: {&quot;coordinates&quot;: [-119.6182, 39.6305, 8.7], &quot;type&quot;: &quot;Point&quot;}, &quot;id&quot;: &quot;12&quot;, &quot;properties&quot;: {&quot;alert&quot;: null, &quot;cdi&quot;: 3.8, &quot;code&quot;: &quot;00867360&quot;, &quot;detail&quot;: &quot;https://earthquake.usgs.gov/earthquakes/feed/v1.0/detail/nn00867360.geojson&quot;, &quot;dmin&quot;: 0.151, &quot;felt&quot;: 26.0, &quot;gap&quot;: 92.43, &quot;id&quot;: &quot;nn00867360&quot;, &quot;ids&quot;: &quot;,nn00867360,us6000lfs2,&quot;, &quot;mag&quot;: 2.7, &quot;magType&quot;: &quot;ml&quot;, &quot;mmi&quot;: null, &quot;net&quot;: &quot;nn&quot;, &quot;nst&quot;: 27.0, &quot;place&quot;: &quot;7 km ESE of Spanish Springs, Nevada&quot;, &quot;rms&quot;: 0.1493, &quot;sig&quot;: 122, &quot;sources&quot;: &quot;,nn,us,&quot;, &quot;status&quot;: &quot;reviewed&quot;, &quot;time&quot;: 1697399531602, &quot;title&quot;: &quot;M 2.7 - 7 km ESE of Spanish Springs, Nevada&quot;, &quot;tsunami&quot;: 0, &quot;type&quot;: &quot;earthquake&quot;, &quot;types&quot;: &quot;,dyfi,origin,phase-data,&quot;, &quot;tz&quot;: null, &quot;updated&quot;: 1697416165640, &quot;url&quot;: &quot;https://earthquake.usgs.gov/earthquakes/eventpage/nn00867360&quot;}, &quot;type&quot;: &quot;Feature&quot;}, {&quot;bbox&quot;: [-119.1363333, 34.5636667, -119.1363333, 34.5636667], &quot;geometry&quot;: {&quot;coordinates&quot;: [-119.1363333, 34.5636667, 7.0], &quot;type&quot;: &quot;Point&quot;}, &quot;id&quot;: &quot;13&quot;, &quot;properties&quot;: {&quot;alert&quot;: null, &quot;cdi&quot;: 2.9, &quot;code&quot;: &quot;40582816&quot;, &quot;detail&quot;: &quot;https://earthquake.usgs.gov/earthquakes/feed/v1.0/detail/ci40582816.geojson&quot;, &quot;dmin&quot;: 0.1253, &quot;felt&quot;: 101.0, &quot;gap&quot;: 21.0, &quot;id&quot;: &quot;ci40582816&quot;, &quot;ids&quot;: &quot;,ew1697399420,ci40582816,us6000lfrx,&quot;, &quot;mag&quot;: 3.71, &quot;magType&quot;: &quot;ml&quot;, &quot;mmi&quot;: 3.866, &quot;net&quot;: &quot;ci&quot;, &quot;nst&quot;: 100.0, &quot;place&quot;: &quot;16 km NE of Ojai, CA&quot;, &quot;rms&quot;: 0.31, &quot;sig&quot;: 241, &quot;sources&quot;: &quot;,ew,ci,us,&quot;, &quot;status&quot;: &quot;reviewed&quot;, &quot;time&quot;: 1697399416440, &quot;title&quot;: &quot;M 3.7 - 16 km NE of Ojai, CA&quot;, &quot;tsunami&quot;: 0, &quot;type&quot;: &quot;earthquake&quot;, &quot;types&quot;: &quot;,dyfi,focal-mechanism,nearby-cities,origin,phase-data,scitech-link,shake-alert,shakemap,&quot;, &quot;tz&quot;: null, &quot;updated&quot;: 1697417193848, &quot;url&quot;: &quot;https://earthquake.usgs.gov/earthquakes/eventpage/ci40582816&quot;}, &quot;type&quot;: &quot;Feature&quot;}, {&quot;bbox&quot;: [-66.2801666666667, 18.9403333333333, -66.2801666666667, 18.9403333333333], &quot;geometry&quot;: {&quot;coordinates&quot;: [-66.2801666666667, 18.9403333333333, 11.35], &quot;type&quot;: &quot;Point&quot;}, &quot;id&quot;: &quot;14&quot;, &quot;properties&quot;: {&quot;alert&quot;: null, &quot;cdi&quot;: null, &quot;code&quot;: &quot;71428698&quot;, &quot;detail&quot;: &quot;https://earthquake.usgs.gov/earthquakes/feed/v1.0/detail/pr71428698.geojson&quot;, &quot;dmin&quot;: 0.5178, &quot;felt&quot;: null, &quot;gap&quot;: 274.0, &quot;id&quot;: &quot;pr71428698&quot;, &quot;ids&quot;: &quot;,pr71428698,&quot;, &quot;mag&quot;: 3.13, &quot;magType&quot;: &quot;md&quot;, &quot;mmi&quot;: null, &quot;net&quot;: &quot;pr&quot;, &quot;nst&quot;: 12.0, &quot;place&quot;: &quot;Puerto Rico region&quot;, &quot;rms&quot;: 0.13, &quot;sig&quot;: 151, &quot;sources&quot;: &quot;,pr,&quot;, &quot;status&quot;: &quot;reviewed&quot;, &quot;time&quot;: 1697394927110, &quot;title&quot;: &quot;M 3.1 - Puerto Rico region&quot;, &quot;tsunami&quot;: 0, &quot;type&quot;: &quot;earthquake&quot;, &quot;types&quot;: &quot;,origin,phase-data,&quot;, &quot;tz&quot;: null, &quot;updated&quot;: 1697395752720, &quot;url&quot;: &quot;https://earthquake.usgs.gov/earthquakes/eventpage/pr71428698&quot;}, &quot;type&quot;: &quot;Feature&quot;}, {&quot;bbox&quot;: [-117.0526, 39.0036, -117.0526, 39.0036], &quot;geometry&quot;: {&quot;coordinates&quot;: [-117.0526, 39.0036, 3.1], &quot;type&quot;: &quot;Point&quot;}, &quot;id&quot;: &quot;15&quot;, &quot;properties&quot;: {&quot;alert&quot;: null, &quot;cdi&quot;: 2.0, &quot;code&quot;: &quot;00867351&quot;, &quot;detail&quot;: &quot;https://earthquake.usgs.gov/earthquakes/feed/v1.0/detail/nn00867351.geojson&quot;, &quot;dmin&quot;: 0.546, &quot;felt&quot;: 1.0, &quot;gap&quot;: 97.4, &quot;id&quot;: &quot;nn00867351&quot;, &quot;ids&quot;: &quot;,nn00867351,us6000lfrf,&quot;, &quot;mag&quot;: 3.5, &quot;magType&quot;: &quot;ml&quot;, &quot;mmi&quot;: null, &quot;net&quot;: &quot;nn&quot;, &quot;nst&quot;: 8.0, &quot;place&quot;: &quot;22 km S of Kingston, Nevada&quot;, &quot;rms&quot;: 0.158, &quot;sig&quot;: 189, &quot;sources&quot;: &quot;,nn,us,&quot;, &quot;status&quot;: &quot;reviewed&quot;, &quot;time&quot;: 1697390637056, &quot;title&quot;: &quot;M 3.5 - 22 km S of Kingston, Nevada&quot;, &quot;tsunami&quot;: 0, &quot;type&quot;: &quot;earthquake&quot;, &quot;types&quot;: &quot;,dyfi,origin,phase-data,&quot;, &quot;tz&quot;: null, &quot;updated&quot;: 1697402411066, &quot;url&quot;: &quot;https://earthquake.usgs.gov/earthquakes/eventpage/nn00867351&quot;}, &quot;type&quot;: &quot;Feature&quot;}, {&quot;bbox&quot;: [144.5829, 46.4458, 144.5829, 46.4458], &quot;geometry&quot;: {&quot;coordinates&quot;: [144.5829, 46.4458, 354.335], &quot;type&quot;: &quot;Point&quot;}, &quot;id&quot;: &quot;16&quot;, &quot;properties&quot;: {&quot;alert&quot;: null, &quot;cdi&quot;: null, &quot;code&quot;: &quot;6000lfrh&quot;, &quot;detail&quot;: &quot;https://earthquake.usgs.gov/earthquakes/feed/v1.0/detail/us6000lfrh.geojson&quot;, &quot;dmin&quot;: 1.356, &quot;felt&quot;: null, &quot;gap&quot;: 92.0, &quot;id&quot;: &quot;us6000lfrh&quot;, &quot;ids&quot;: &quot;,us6000lfrh,&quot;, &quot;mag&quot;: 4.2, &quot;magType&quot;: &quot;mb&quot;, &quot;mmi&quot;: null, &quot;net&quot;: &quot;us&quot;, &quot;nst&quot;: 92.0, &quot;place&quot;: &quot;140 km E of Korsakov, Russia&quot;, &quot;rms&quot;: 0.79, &quot;sig&quot;: 271, &quot;sources&quot;: &quot;,us,&quot;, &quot;status&quot;: &quot;reviewed&quot;, &quot;time&quot;: 1697390567652, &quot;title&quot;: &quot;M 4.2 - 140 km E of Korsakov, Russia&quot;, &quot;tsunami&quot;: 0, &quot;type&quot;: &quot;earthquake&quot;, &quot;types&quot;: &quot;,origin,phase-data,&quot;, &quot;tz&quot;: null, &quot;updated&quot;: 1697393963040, &quot;url&quot;: &quot;https://earthquake.usgs.gov/earthquakes/eventpage/us6000lfrh&quot;}, &quot;type&quot;: &quot;Feature&quot;}, {&quot;bbox&quot;: [-117.047, 39.0101, -117.047, 39.0101], &quot;geometry&quot;: {&quot;coordinates&quot;: [-117.047, 39.0101, 3.0], &quot;type&quot;: &quot;Point&quot;}, &quot;id&quot;: &quot;17&quot;, &quot;properties&quot;: {&quot;alert&quot;: null, &quot;cdi&quot;: null, &quot;code&quot;: &quot;00867345&quot;, &quot;detail&quot;: &quot;https://earthquake.usgs.gov/earthquakes/feed/v1.0/detail/nn00867345.geojson&quot;, &quot;dmin&quot;: 0.552, &quot;felt&quot;: null, &quot;gap&quot;: 54.33, &quot;id&quot;: &quot;nn00867345&quot;, &quot;ids&quot;: &quot;,us6000lfrd,nn00867345,&quot;, &quot;mag&quot;: 3.0, &quot;magType&quot;: &quot;ml&quot;, &quot;mmi&quot;: null, &quot;net&quot;: &quot;nn&quot;, &quot;nst&quot;: 9.0, &quot;place&quot;: &quot;Nevada&quot;, &quot;rms&quot;: 0.1464, &quot;sig&quot;: 138, &quot;sources&quot;: &quot;,us,nn,&quot;, &quot;status&quot;: &quot;reviewed&quot;, &quot;time&quot;: 1697390018935, &quot;title&quot;: &quot;M 3.0 - Nevada&quot;, &quot;tsunami&quot;: 0, &quot;type&quot;: &quot;earthquake&quot;, &quot;types&quot;: &quot;,origin,phase-data,&quot;, &quot;tz&quot;: null, &quot;updated&quot;: 1697396750821, &quot;url&quot;: &quot;https://earthquake.usgs.gov/earthquakes/eventpage/nn00867345&quot;}, &quot;type&quot;: &quot;Feature&quot;}, {&quot;bbox&quot;: [-177.9056, -31.5926, -177.9056, -31.5926], &quot;geometry&quot;: {&quot;coordinates&quot;: [-177.9056, -31.5926, 10.0], &quot;type&quot;: &quot;Point&quot;}, &quot;id&quot;: &quot;18&quot;, &quot;properties&quot;: {&quot;alert&quot;: null, &quot;cdi&quot;: null, &quot;code&quot;: &quot;6000lfr7&quot;, &quot;detail&quot;: &quot;https://earthquake.usgs.gov/earthquakes/feed/v1.0/detail/us6000lfr7.geojson&quot;, &quot;dmin&quot;: 2.323, &quot;felt&quot;: null, &quot;gap&quot;: 90.0, &quot;id&quot;: &quot;us6000lfr7&quot;, &quot;ids&quot;: &quot;,us6000lfr7,&quot;, &quot;mag&quot;: 4.8, &quot;magType&quot;: &quot;mb&quot;, &quot;mmi&quot;: null, &quot;net&quot;: &quot;us&quot;, &quot;nst&quot;: 24.0, &quot;place&quot;: &quot;Kermadec Islands region&quot;, &quot;rms&quot;: 0.93, &quot;sig&quot;: 354, &quot;sources&quot;: &quot;,us,&quot;, &quot;status&quot;: &quot;reviewed&quot;, &quot;time&quot;: 1697387141147, &quot;title&quot;: &quot;M 4.8 - Kermadec Islands region&quot;, &quot;tsunami&quot;: 0, &quot;type&quot;: &quot;earthquake&quot;, &quot;types&quot;: &quot;,origin,phase-data,&quot;, &quot;tz&quot;: null, &quot;updated&quot;: 1697388493040, &quot;url&quot;: &quot;https://earthquake.usgs.gov/earthquakes/eventpage/us6000lfr7&quot;}, &quot;type&quot;: &quot;Feature&quot;}, {&quot;bbox&quot;: [118.1147, -8.122, 118.1147, -8.122], &quot;geometry&quot;: {&quot;coordinates&quot;: [118.1147, -8.122, 10.0], &quot;type&quot;: &quot;Point&quot;}, &quot;id&quot;: &quot;19&quot;, &quot;properties&quot;: {&quot;alert&quot;: null, &quot;cdi&quot;: null, &quot;code&quot;: &quot;6000lfr1&quot;, &quot;detail&quot;: &quot;https://earthquake.usgs.gov/earthquakes/feed/v1.0/detail/us6000lfr1.geojson&quot;, &quot;dmin&quot;: 0.777, &quot;felt&quot;: null, &quot;gap&quot;: 89.0, &quot;id&quot;: &quot;us6000lfr1&quot;, &quot;ids&quot;: &quot;,us6000lfr1,&quot;, &quot;mag&quot;: 4.7, &quot;magType&quot;: &quot;mb&quot;, &quot;mmi&quot;: null, &quot;net&quot;: &quot;us&quot;, &quot;nst&quot;: 27.0, &quot;place&quot;: &quot;59 km NW of Dompu, Indonesia&quot;, &quot;rms&quot;: 0.44, &quot;sig&quot;: 340, &quot;sources&quot;: &quot;,us,&quot;, &quot;status&quot;: &quot;reviewed&quot;, &quot;time&quot;: 1697383482029, &quot;title&quot;: &quot;M 4.7 - 59 km NW of Dompu, Indonesia&quot;, &quot;tsunami&quot;: 0, &quot;type&quot;: &quot;earthquake&quot;, &quot;types&quot;: &quot;,origin,phase-data,&quot;, &quot;tz&quot;: null, &quot;updated&quot;: 1697385021040, &quot;url&quot;: &quot;https://earthquake.usgs.gov/earthquakes/eventpage/us6000lfr1&quot;}, &quot;type&quot;: &quot;Feature&quot;}, {&quot;bbox&quot;: [-68.008, 19.4583333333333, -68.008, 19.4583333333333], &quot;geometry&quot;: {&quot;coordinates&quot;: [-68.008, 19.4583333333333, 13.99], &quot;type&quot;: &quot;Point&quot;}, &quot;id&quot;: &quot;20&quot;, &quot;properties&quot;: {&quot;alert&quot;: null, &quot;cdi&quot;: null, &quot;code&quot;: &quot;71428673&quot;, &quot;detail&quot;: &quot;https://earthquake.usgs.gov/earthquakes/feed/v1.0/detail/pr71428673.geojson&quot;, &quot;dmin&quot;: 1.003, &quot;felt&quot;: null, &quot;gap&quot;: 278.0, &quot;id&quot;: &quot;pr71428673&quot;, &quot;ids&quot;: &quot;,pr71428673,&quot;, &quot;mag&quot;: 3.44, &quot;magType&quot;: &quot;md&quot;, &quot;mmi&quot;: null, &quot;net&quot;: &quot;pr&quot;, &quot;nst&quot;: 14.0, &quot;place&quot;: &quot;105 km NNE of Punta Cana, Dominican Republic&quot;, &quot;rms&quot;: 0.31, &quot;sig&quot;: 182, &quot;sources&quot;: &quot;,pr,&quot;, &quot;status&quot;: &quot;reviewed&quot;, &quot;time&quot;: 1697370366980, &quot;title&quot;: &quot;M 3.4 - 105 km NNE of Punta Cana, Dominican Republic&quot;, &quot;tsunami&quot;: 0, &quot;type&quot;: &quot;earthquake&quot;, &quot;types&quot;: &quot;,origin,phase-data,&quot;, &quot;tz&quot;: null, &quot;updated&quot;: 1697372165580, &quot;url&quot;: &quot;https://earthquake.usgs.gov/earthquakes/eventpage/pr71428673&quot;}, &quot;type&quot;: &quot;Feature&quot;}, {&quot;bbox&quot;: [49.5001, 31.1027, 49.5001, 31.1027], &quot;geometry&quot;: {&quot;coordinates&quot;: [49.5001, 31.1027, 10.0], &quot;type&quot;: &quot;Point&quot;}, &quot;id&quot;: &quot;21&quot;, &quot;properties&quot;: {&quot;alert&quot;: null, &quot;cdi&quot;: 5.6, &quot;code&quot;: &quot;6000lfq9&quot;, &quot;detail&quot;: &quot;https://earthquake.usgs.gov/earthquakes/feed/v1.0/detail/us6000lfq9.geojson&quot;, &quot;dmin&quot;: 5.383, &quot;felt&quot;: 13.0, &quot;gap&quot;: 48.0, &quot;id&quot;: &quot;us6000lfq9&quot;, &quot;ids&quot;: &quot;,us6000lfq9,&quot;, &quot;mag&quot;: 5.3, &quot;magType&quot;: &quot;mww&quot;, &quot;mmi&quot;: null, &quot;net&quot;: &quot;us&quot;, &quot;nst&quot;: 103.0, &quot;place&quot;: &quot;21 km SSW of R\\u0101mhormoz, Iran&quot;, &quot;rms&quot;: 0.8, &quot;sig&quot;: 439, &quot;sources&quot;: &quot;,us,&quot;, &quot;status&quot;: &quot;reviewed&quot;, &quot;time&quot;: 1697368537551, &quot;title&quot;: &quot;M 5.3 - 21 km SSW of R\\u0101mhormoz, Iran&quot;, &quot;tsunami&quot;: 0, &quot;type&quot;: &quot;earthquake&quot;, &quot;types&quot;: &quot;,dyfi,moment-tensor,origin,phase-data,&quot;, &quot;tz&quot;: null, &quot;updated&quot;: 1697406724854, &quot;url&quot;: &quot;https://earthquake.usgs.gov/earthquakes/eventpage/us6000lfq9&quot;}, &quot;type&quot;: &quot;Feature&quot;}, {&quot;bbox&quot;: [-117.9161, 37.9678, -117.9161, 37.9678], &quot;geometry&quot;: {&quot;coordinates&quot;: [-117.9161, 37.9678, 0.0], &quot;type&quot;: &quot;Point&quot;}, &quot;id&quot;: &quot;22&quot;, &quot;properties&quot;: {&quot;alert&quot;: null, &quot;cdi&quot;: null, &quot;code&quot;: &quot;00867338&quot;, &quot;detail&quot;: &quot;https://earthquake.usgs.gov/earthquakes/feed/v1.0/detail/nn00867338.geojson&quot;, &quot;dmin&quot;: 0.197, &quot;felt&quot;: null, &quot;gap&quot;: 63.86, &quot;id&quot;: &quot;nn00867338&quot;, &quot;ids&quot;: &quot;,nn00867338,&quot;, &quot;mag&quot;: 2.7, &quot;magType&quot;: &quot;ml&quot;, &quot;mmi&quot;: null, &quot;net&quot;: &quot;nn&quot;, &quot;nst&quot;: 10.0, &quot;place&quot;: &quot;34 km NW of Silver Peak, Nevada&quot;, &quot;rms&quot;: 0.1331, &quot;sig&quot;: 112, &quot;sources&quot;: &quot;,nn,&quot;, &quot;status&quot;: &quot;reviewed&quot;, &quot;time&quot;: 1697364054115, &quot;title&quot;: &quot;M 2.7 - 34 km NW of Silver Peak, Nevada&quot;, &quot;tsunami&quot;: 0, &quot;type&quot;: &quot;earthquake&quot;, &quot;types&quot;: &quot;,origin,phase-data,&quot;, &quot;tz&quot;: null, &quot;updated&quot;: 1697387778801, &quot;url&quot;: &quot;https://earthquake.usgs.gov/earthquakes/eventpage/nn00867338&quot;}, &quot;type&quot;: &quot;Feature&quot;}, {&quot;bbox&quot;: [141.7428, 33.8272, 141.7428, 33.8272], &quot;geometry&quot;: {&quot;coordinates&quot;: [141.7428, 33.8272, 16.108], &quot;type&quot;: &quot;Point&quot;}, &quot;id&quot;: &quot;23&quot;, &quot;properties&quot;: {&quot;alert&quot;: null, &quot;cdi&quot;: 1.0, &quot;code&quot;: &quot;6000lfpt&quot;, &quot;detail&quot;: &quot;https://earthquake.usgs.gov/earthquakes/feed/v1.0/detail/us6000lfpt.geojson&quot;, &quot;dmin&quot;: 1.762, &quot;felt&quot;: 1.0, &quot;gap&quot;: 132.0, &quot;id&quot;: &quot;us6000lfpt&quot;, &quot;ids&quot;: &quot;,us6000lfpt,&quot;, &quot;mag&quot;: 5.2, &quot;magType&quot;: &quot;mww&quot;, &quot;mmi&quot;: null, &quot;net&quot;: &quot;us&quot;, &quot;nst&quot;: 53.0, &quot;place&quot;: &quot;196 km SE of Katsuura, Japan&quot;, &quot;rms&quot;: 0.68, &quot;sig&quot;: 416, &quot;sources&quot;: &quot;,us,&quot;, &quot;status&quot;: &quot;reviewed&quot;, &quot;time&quot;: 1697361206094, &quot;title&quot;: &quot;M 5.2 - 196 km SE of Katsuura, Japan&quot;, &quot;tsunami&quot;: 0, &quot;type&quot;: &quot;earthquake&quot;, &quot;types&quot;: &quot;,dyfi,moment-tensor,origin,phase-data,&quot;, &quot;tz&quot;: null, &quot;updated&quot;: 1697362955157, &quot;url&quot;: &quot;https://earthquake.usgs.gov/earthquakes/eventpage/us6000lfpt&quot;}, &quot;type&quot;: &quot;Feature&quot;}, {&quot;bbox&quot;: [-25.4244, -58.9515, -25.4244, -58.9515], &quot;geometry&quot;: {&quot;coordinates&quot;: [-25.4244, -58.9515, 35.0], &quot;type&quot;: &quot;Point&quot;}, &quot;id&quot;: &quot;24&quot;, &quot;properties&quot;: {&quot;alert&quot;: null, &quot;cdi&quot;: null, &quot;code&quot;: &quot;6000lfpq&quot;, &quot;detail&quot;: &quot;https://earthquake.usgs.gov/earthquakes/feed/v1.0/detail/us6000lfpq.geojson&quot;, &quot;dmin&quot;: 7.685, &quot;felt&quot;: null, &quot;gap&quot;: 163.0, &quot;id&quot;: &quot;us6000lfpq&quot;, &quot;ids&quot;: &quot;,us6000lfpq,&quot;, &quot;mag&quot;: 4.8, &quot;magType&quot;: &quot;mb&quot;, &quot;mmi&quot;: null, &quot;net&quot;: &quot;us&quot;, &quot;nst&quot;: 42.0, &quot;place&quot;: &quot;South Sandwich Islands region&quot;, &quot;rms&quot;: 0.51, &quot;sig&quot;: 354, &quot;sources&quot;: &quot;,us,&quot;, &quot;status&quot;: &quot;reviewed&quot;, &quot;time&quot;: 1697360314359, &quot;title&quot;: &quot;M 4.8 - South Sandwich Islands region&quot;, &quot;tsunami&quot;: 0, &quot;type&quot;: &quot;earthquake&quot;, &quot;types&quot;: &quot;,origin,phase-data,&quot;, &quot;tz&quot;: null, &quot;updated&quot;: 1697361697040, &quot;url&quot;: &quot;https://earthquake.usgs.gov/earthquakes/eventpage/us6000lfpq&quot;}, &quot;type&quot;: &quot;Feature&quot;}, {&quot;bbox&quot;: [62.2022, 34.8331, 62.2022, 34.8331], &quot;geometry&quot;: {&quot;coordinates&quot;: [62.2022, 34.8331, 10.0], &quot;type&quot;: &quot;Point&quot;}, &quot;id&quot;: &quot;25&quot;, &quot;properties&quot;: {&quot;alert&quot;: null, &quot;cdi&quot;: null, &quot;code&quot;: &quot;6000lfpi&quot;, &quot;detail&quot;: &quot;https://earthquake.usgs.gov/earthquakes/feed/v1.0/detail/us6000lfpi.geojson&quot;, &quot;dmin&quot;: 5.644, &quot;felt&quot;: null, &quot;gap&quot;: 171.0, &quot;id&quot;: &quot;us6000lfpi&quot;, &quot;ids&quot;: &quot;,us6000lfpi,&quot;, &quot;mag&quot;: 4.4, &quot;magType&quot;: &quot;mb&quot;, &quot;mmi&quot;: null, &quot;net&quot;: &quot;us&quot;, &quot;nst&quot;: 45.0, &quot;place&quot;: &quot;40 km ESE of Qarah B\\u0101gh, Afghanistan&quot;, &quot;rms&quot;: 0.9, &quot;sig&quot;: 298, &quot;sources&quot;: &quot;,us,&quot;, &quot;status&quot;: &quot;reviewed&quot;, &quot;time&quot;: 1697357086109, &quot;title&quot;: &quot;M 4.4 - 40 km ESE of Qarah B\\u0101gh, Afghanistan&quot;, &quot;tsunami&quot;: 0, &quot;type&quot;: &quot;earthquake&quot;, &quot;types&quot;: &quot;,origin,phase-data,&quot;, &quot;tz&quot;: null, &quot;updated&quot;: 1697358607040, &quot;url&quot;: &quot;https://earthquake.usgs.gov/earthquakes/eventpage/us6000lfpi&quot;}, &quot;type&quot;: &quot;Feature&quot;}, {&quot;bbox&quot;: [-62.1783, 10.86, -62.1783, 10.86], &quot;geometry&quot;: {&quot;coordinates&quot;: [-62.1783, 10.86, 112.889], &quot;type&quot;: &quot;Point&quot;}, &quot;id&quot;: &quot;26&quot;, &quot;properties&quot;: {&quot;alert&quot;: null, &quot;cdi&quot;: 2.7, &quot;code&quot;: &quot;6000lfp6&quot;, &quot;detail&quot;: &quot;https://earthquake.usgs.gov/earthquakes/feed/v1.0/detail/us6000lfp6.geojson&quot;, &quot;dmin&quot;: 3.423, &quot;felt&quot;: 3.0, &quot;gap&quot;: 126.0, &quot;id&quot;: &quot;us6000lfp6&quot;, &quot;ids&quot;: &quot;,us6000lfp6,&quot;, &quot;mag&quot;: 4.5, &quot;magType&quot;: &quot;mb&quot;, &quot;mmi&quot;: null, &quot;net&quot;: &quot;us&quot;, &quot;nst&quot;: 80.0, &quot;place&quot;: &quot;33 km NNE of G\\u00fciria, Venezuela&quot;, &quot;rms&quot;: 0.54, &quot;sig&quot;: 312, &quot;sources&quot;: &quot;,us,&quot;, &quot;status&quot;: &quot;reviewed&quot;, &quot;time&quot;: 1697352578632, &quot;title&quot;: &quot;M 4.5 - 33 km NNE of G\\u00fciria, Venezuela&quot;, &quot;tsunami&quot;: 0, &quot;type&quot;: &quot;earthquake&quot;, &quot;types&quot;: &quot;,dyfi,origin,phase-data,&quot;, &quot;tz&quot;: null, &quot;updated&quot;: 1697378739839, &quot;url&quot;: &quot;https://earthquake.usgs.gov/earthquakes/eventpage/us6000lfp6&quot;}, &quot;type&quot;: &quot;Feature&quot;}, {&quot;bbox&quot;: [62.2278, 34.5615, 62.2278, 34.5615], &quot;geometry&quot;: {&quot;coordinates&quot;: [62.2278, 34.5615, 10.0], &quot;type&quot;: &quot;Point&quot;}, &quot;id&quot;: &quot;27&quot;, &quot;properties&quot;: {&quot;alert&quot;: null, &quot;cdi&quot;: null, &quot;code&quot;: &quot;6000lfp2&quot;, &quot;detail&quot;: &quot;https://earthquake.usgs.gov/earthquakes/feed/v1.0/detail/us6000lfp2.geojson&quot;, &quot;dmin&quot;: 5.624, &quot;felt&quot;: null, &quot;gap&quot;: 94.0, &quot;id&quot;: &quot;us6000lfp2&quot;, &quot;ids&quot;: &quot;,us6000lfp2,&quot;, &quot;mag&quot;: 4.3, &quot;magType&quot;: &quot;mb&quot;, &quot;mmi&quot;: null, &quot;net&quot;: &quot;us&quot;, &quot;nst&quot;: 50.0, &quot;place&quot;: &quot;23 km N of Her\\u0101t, Afghanistan&quot;, &quot;rms&quot;: 0.82, &quot;sig&quot;: 284, &quot;sources&quot;: &quot;,us,&quot;, &quot;status&quot;: &quot;reviewed&quot;, &quot;time&quot;: 1697350196190, &quot;title&quot;: &quot;M 4.3 - 23 km N of Her\\u0101t, Afghanistan&quot;, &quot;tsunami&quot;: 0, &quot;type&quot;: &quot;earthquake&quot;, &quot;types&quot;: &quot;,origin,phase-data,&quot;, &quot;tz&quot;: null, &quot;updated&quot;: 1697356052040, &quot;url&quot;: &quot;https://earthquake.usgs.gov/earthquakes/eventpage/us6000lfp2&quot;}, &quot;type&quot;: &quot;Feature&quot;}, {&quot;bbox&quot;: [62.0626, 34.7892, 62.0626, 34.7892], &quot;geometry&quot;: {&quot;coordinates&quot;: [62.0626, 34.7892, 8.246], &quot;type&quot;: &quot;Point&quot;}, &quot;id&quot;: &quot;28&quot;, &quot;properties&quot;: {&quot;alert&quot;: null, &quot;cdi&quot;: null, &quot;code&quot;: &quot;6000lfny&quot;, &quot;detail&quot;: &quot;https://earthquake.usgs.gov/earthquakes/feed/v1.0/detail/us6000lfny.geojson&quot;, &quot;dmin&quot;: 5.758, &quot;felt&quot;: null, &quot;gap&quot;: 129.0, &quot;id&quot;: &quot;us6000lfny&quot;, &quot;ids&quot;: &quot;,us6000lfny,&quot;, &quot;mag&quot;: 4.2, &quot;magType&quot;: &quot;mb&quot;, &quot;mmi&quot;: null, &quot;net&quot;: &quot;us&quot;, &quot;nst&quot;: 41.0, &quot;place&quot;: &quot;western Afghanistan&quot;, &quot;rms&quot;: 0.96, &quot;sig&quot;: 271, &quot;sources&quot;: &quot;,us,&quot;, &quot;status&quot;: &quot;reviewed&quot;, &quot;time&quot;: 1697348501422, &quot;title&quot;: &quot;M 4.2 - western Afghanistan&quot;, &quot;tsunami&quot;: 0, &quot;type&quot;: &quot;earthquake&quot;, &quot;types&quot;: &quot;,origin,phase-data,&quot;, &quot;tz&quot;: null, &quot;updated&quot;: 1697349824040, &quot;url&quot;: &quot;https://earthquake.usgs.gov/earthquakes/eventpage/us6000lfny&quot;}, &quot;type&quot;: &quot;Feature&quot;}, {&quot;bbox&quot;: [69.2727, 36.8794, 69.2727, 36.8794], &quot;geometry&quot;: {&quot;coordinates&quot;: [69.2727, 36.8794, 115.125], &quot;type&quot;: &quot;Point&quot;}, &quot;id&quot;: &quot;29&quot;, &quot;properties&quot;: {&quot;alert&quot;: null, &quot;cdi&quot;: null, &quot;code&quot;: &quot;6000lfnt&quot;, &quot;detail&quot;: &quot;https://earthquake.usgs.gov/earthquakes/feed/v1.0/detail/us6000lfnt.geojson&quot;, &quot;dmin&quot;: 2.341, &quot;felt&quot;: null, &quot;gap&quot;: 99.0, &quot;id&quot;: &quot;us6000lfnt&quot;, &quot;ids&quot;: &quot;,us6000lfnt,&quot;, &quot;mag&quot;: 4.1, &quot;magType&quot;: &quot;mb&quot;, &quot;mmi&quot;: null, &quot;net&quot;: &quot;us&quot;, &quot;nst&quot;: 22.0, &quot;place&quot;: &quot;Hindu Kush region, Afghanistan&quot;, &quot;rms&quot;: 0.68, &quot;sig&quot;: 259, &quot;sources&quot;: &quot;,us,&quot;, &quot;status&quot;: &quot;reviewed&quot;, &quot;time&quot;: 1697346644307, &quot;title&quot;: &quot;M 4.1 - Hindu Kush region, Afghanistan&quot;, &quot;tsunami&quot;: 0, &quot;type&quot;: &quot;earthquake&quot;, &quot;types&quot;: &quot;,origin,phase-data,&quot;, &quot;tz&quot;: null, &quot;updated&quot;: 1697348945040, &quot;url&quot;: &quot;https://earthquake.usgs.gov/earthquakes/eventpage/us6000lfnt&quot;}, &quot;type&quot;: &quot;Feature&quot;}, {&quot;bbox&quot;: [-66.958, 17.9413333333333, -66.958, 17.9413333333333], &quot;geometry&quot;: {&quot;coordinates&quot;: [-66.958, 17.9413333333333, 5.93], &quot;type&quot;: &quot;Point&quot;}, &quot;id&quot;: &quot;30&quot;, &quot;properties&quot;: {&quot;alert&quot;: null, &quot;cdi&quot;: null, &quot;code&quot;: &quot;71428638&quot;, &quot;detail&quot;: &quot;https://earthquake.usgs.gov/earthquakes/feed/v1.0/detail/pr71428638.geojson&quot;, &quot;dmin&quot;: 0.05612, &quot;felt&quot;: null, &quot;gap&quot;: 216.0, &quot;id&quot;: &quot;pr71428638&quot;, &quot;ids&quot;: &quot;,pr71428638,&quot;, &quot;mag&quot;: 2.48, &quot;magType&quot;: &quot;md&quot;, &quot;mmi&quot;: null, &quot;net&quot;: &quot;pr&quot;, &quot;nst&quot;: 17.0, &quot;place&quot;: &quot;6 km WSW of Gu\\u00e1nica, Puerto Rico&quot;, &quot;rms&quot;: 0.23, &quot;sig&quot;: 95, &quot;sources&quot;: &quot;,pr,&quot;, &quot;status&quot;: &quot;reviewed&quot;, &quot;time&quot;: 1697346634840, &quot;title&quot;: &quot;M 2.5 - 6 km WSW of Gu\\u00e1nica, Puerto Rico&quot;, &quot;tsunami&quot;: 0, &quot;type&quot;: &quot;earthquake&quot;, &quot;types&quot;: &quot;,origin,phase-data,&quot;, &quot;tz&quot;: null, &quot;updated&quot;: 1697347202360, &quot;url&quot;: &quot;https://earthquake.usgs.gov/earthquakes/eventpage/pr71428638&quot;}, &quot;type&quot;: &quot;Feature&quot;}, {&quot;bbox&quot;: [-66.3193333333333, 18.945, -66.3193333333333, 18.945], &quot;geometry&quot;: {&quot;coordinates&quot;: [-66.3193333333333, 18.945, 38.82], &quot;type&quot;: &quot;Point&quot;}, &quot;id&quot;: &quot;31&quot;, &quot;properties&quot;: {&quot;alert&quot;: null, &quot;cdi&quot;: 2.2, &quot;code&quot;: &quot;71428628&quot;, &quot;detail&quot;: &quot;https://earthquake.usgs.gov/earthquakes/feed/v1.0/detail/pr71428628.geojson&quot;, &quot;dmin&quot;: 0.5062, &quot;felt&quot;: 1.0, &quot;gap&quot;: 216.0, &quot;id&quot;: &quot;pr71428628&quot;, &quot;ids&quot;: &quot;,pr71428628,&quot;, &quot;mag&quot;: 3.43, &quot;magType&quot;: &quot;md&quot;, &quot;mmi&quot;: null, &quot;net&quot;: &quot;pr&quot;, &quot;nst&quot;: 44.0, &quot;place&quot;: &quot;52 km N of Brenas, Puerto Rico&quot;, &quot;rms&quot;: 0.17, &quot;sig&quot;: 181, &quot;sources&quot;: &quot;,pr,&quot;, &quot;status&quot;: &quot;reviewed&quot;, &quot;time&quot;: 1697344658420, &quot;title&quot;: &quot;M 3.4 - 52 km N of Brenas, Puerto Rico&quot;, &quot;tsunami&quot;: 0, &quot;type&quot;: &quot;earthquake&quot;, &quot;types&quot;: &quot;,dyfi,origin,phase-data,&quot;, &quot;tz&quot;: null, &quot;updated&quot;: 1697350755134, &quot;url&quot;: &quot;https://earthquake.usgs.gov/earthquakes/eventpage/pr71428628&quot;}, &quot;type&quot;: &quot;Feature&quot;}, {&quot;bbox&quot;: [-98.5749, 28.5644, -98.5749, 28.5644], &quot;geometry&quot;: {&quot;coordinates&quot;: [-98.5749, 28.5644, 8.256], &quot;type&quot;: &quot;Point&quot;}, &quot;id&quot;: &quot;32&quot;, &quot;properties&quot;: {&quot;alert&quot;: null, &quot;cdi&quot;: null, &quot;code&quot;: &quot;6000lfnq&quot;, &quot;detail&quot;: &quot;https://earthquake.usgs.gov/earthquakes/feed/v1.0/detail/us6000lfnq.geojson&quot;, &quot;dmin&quot;: 0.214, &quot;felt&quot;: null, &quot;gap&quot;: 192.0, &quot;id&quot;: &quot;us6000lfnq&quot;, &quot;ids&quot;: &quot;,us6000lfnq,&quot;, &quot;mag&quot;: 2.5, &quot;magType&quot;: &quot;ml&quot;, &quot;mmi&quot;: null, &quot;net&quot;: &quot;us&quot;, &quot;nst&quot;: 15.0, &quot;place&quot;: &quot;11 km NNW of Tilden, Texas&quot;, &quot;rms&quot;: 1.36, &quot;sig&quot;: 96, &quot;sources&quot;: &quot;,us,&quot;, &quot;status&quot;: &quot;reviewed&quot;, &quot;time&quot;: 1697344617597, &quot;title&quot;: &quot;M 2.5 - 11 km NNW of Tilden, Texas&quot;, &quot;tsunami&quot;: 0, &quot;type&quot;: &quot;earthquake&quot;, &quot;types&quot;: &quot;,origin,phase-data,&quot;, &quot;tz&quot;: null, &quot;updated&quot;: 1697345380040, &quot;url&quot;: &quot;https://earthquake.usgs.gov/earthquakes/eventpage/us6000lfnq&quot;}, &quot;type&quot;: &quot;Feature&quot;}, {&quot;bbox&quot;: [62.1483, 34.5926, 62.1483, 34.5926], &quot;geometry&quot;: {&quot;coordinates&quot;: [62.1483, 34.5926, 10.0], &quot;type&quot;: &quot;Point&quot;}, &quot;id&quot;: &quot;33&quot;, &quot;properties&quot;: {&quot;alert&quot;: &quot;yellow&quot;, &quot;cdi&quot;: null, &quot;code&quot;: &quot;6000lfng&quot;, &quot;detail&quot;: &quot;https://earthquake.usgs.gov/earthquakes/feed/v1.0/detail/us6000lfng.geojson&quot;, &quot;dmin&quot;: 5.689, &quot;felt&quot;: null, &quot;gap&quot;: 22.0, &quot;id&quot;: &quot;us6000lfng&quot;, &quot;ids&quot;: &quot;,us6000lfng,&quot;, &quot;mag&quot;: 5.4, &quot;magType&quot;: &quot;mww&quot;, &quot;mmi&quot;: 6.606, &quot;net&quot;: &quot;us&quot;, &quot;nst&quot;: 116.0, &quot;place&quot;: &quot;27 km N of Her\\u0101t, Afghanistan&quot;, &quot;rms&quot;: 1.0, &quot;sig&quot;: 650, &quot;sources&quot;: &quot;,us,&quot;, &quot;status&quot;: &quot;reviewed&quot;, &quot;time&quot;: 1697342188863, &quot;title&quot;: &quot;M 5.4 - 27 km N of Her\\u0101t, Afghanistan&quot;, &quot;tsunami&quot;: 0, &quot;type&quot;: &quot;earthquake&quot;, &quot;types&quot;: &quot;,ground-failure,losspager,moment-tensor,origin,phase-data,shakemap,&quot;, &quot;tz&quot;: null, &quot;updated&quot;: 1697349798043, &quot;url&quot;: &quot;https://earthquake.usgs.gov/earthquakes/eventpage/us6000lfng&quot;}, &quot;type&quot;: &quot;Feature&quot;}, {&quot;bbox&quot;: [-66.9538333333333, 17.964, -66.9538333333333, 17.964], &quot;geometry&quot;: {&quot;coordinates&quot;: [-66.9538333333333, 17.964, 13.21], &quot;type&quot;: &quot;Point&quot;}, &quot;id&quot;: &quot;34&quot;, &quot;properties&quot;: {&quot;alert&quot;: null, &quot;cdi&quot;: null, &quot;code&quot;: &quot;71428613&quot;, &quot;detail&quot;: &quot;https://earthquake.usgs.gov/earthquakes/feed/v1.0/detail/pr71428613.geojson&quot;, &quot;dmin&quot;: 0.07183, &quot;felt&quot;: null, &quot;gap&quot;: 193.0, &quot;id&quot;: &quot;pr71428613&quot;, &quot;ids&quot;: &quot;,pr71428613,&quot;, &quot;mag&quot;: 2.72, &quot;magType&quot;: &quot;md&quot;, &quot;mmi&quot;: null, &quot;net&quot;: &quot;pr&quot;, &quot;nst&quot;: 4.0, &quot;place&quot;: &quot;4 km WSW of Fuig, Puerto Rico&quot;, &quot;rms&quot;: 0.1, &quot;sig&quot;: 114, &quot;sources&quot;: &quot;,pr,&quot;, &quot;status&quot;: &quot;reviewed&quot;, &quot;time&quot;: 1697341613680, &quot;title&quot;: &quot;M 2.7 - 4 km WSW of Fuig, Puerto Rico&quot;, &quot;tsunami&quot;: 0, &quot;type&quot;: &quot;earthquake&quot;, &quot;types&quot;: &quot;,origin,phase-data,&quot;, &quot;tz&quot;: null, &quot;updated&quot;: 1697344067380, &quot;url&quot;: &quot;https://earthquake.usgs.gov/earthquakes/eventpage/pr71428613&quot;}, &quot;type&quot;: &quot;Feature&quot;}, {&quot;bbox&quot;: [62.1115, 34.6094, 62.1115, 34.6094], &quot;geometry&quot;: {&quot;coordinates&quot;: [62.1115, 34.6094, 6.323], &quot;type&quot;: &quot;Point&quot;}, &quot;id&quot;: &quot;35&quot;, &quot;properties&quot;: {&quot;alert&quot;: &quot;orange&quot;, &quot;cdi&quot;: 5.1, &quot;code&quot;: &quot;6000lfn5&quot;, &quot;detail&quot;: &quot;https://earthquake.usgs.gov/earthquakes/feed/v1.0/detail/us6000lfn5.geojson&quot;, &quot;dmin&quot;: 5.719, &quot;felt&quot;: 24.0, &quot;gap&quot;: 21.0, &quot;id&quot;: &quot;us6000lfn5&quot;, &quot;ids&quot;: &quot;,us6000lfn5,&quot;, &quot;mag&quot;: 6.3, &quot;magType&quot;: &quot;mww&quot;, &quot;mmi&quot;: 8.001, &quot;net&quot;: &quot;us&quot;, &quot;nst&quot;: 126.0, &quot;place&quot;: &quot;30 km NNW of Her\\u0101t, Afghanistan&quot;, &quot;rms&quot;: 1.2, &quot;sig&quot;: 1012, &quot;sources&quot;: &quot;,us,&quot;, &quot;status&quot;: &quot;reviewed&quot;, &quot;time&quot;: 1697340960037, &quot;title&quot;: &quot;M 6.3 - 30 km NNW of Her\\u0101t, Afghanistan&quot;, &quot;tsunami&quot;: 0, &quot;type&quot;: &quot;earthquake&quot;, &quot;types&quot;: &quot;,dyfi,general-text,ground-failure,losspager,moment-tensor,origin,phase-data,shakemap,&quot;, &quot;tz&quot;: null, &quot;updated&quot;: 1697400960180, &quot;url&quot;: &quot;https://earthquake.usgs.gov/earthquakes/eventpage/us6000lfn5&quot;}, &quot;type&quot;: &quot;Feature&quot;}, {&quot;bbox&quot;: [-23.1457, -58.4778, -23.1457, -58.4778], &quot;geometry&quot;: {&quot;coordinates&quot;: [-23.1457, -58.4778, 10.0], &quot;type&quot;: &quot;Point&quot;}, &quot;id&quot;: &quot;36&quot;, &quot;properties&quot;: {&quot;alert&quot;: null, &quot;cdi&quot;: null, &quot;code&quot;: &quot;6000lfn8&quot;, &quot;detail&quot;: &quot;https://earthquake.usgs.gov/earthquakes/feed/v1.0/detail/us6000lfn8.geojson&quot;, &quot;dmin&quot;: 8.509, &quot;felt&quot;: null, &quot;gap&quot;: 70.0, &quot;id&quot;: &quot;us6000lfn8&quot;, &quot;ids&quot;: &quot;,us6000lfn8,&quot;, &quot;mag&quot;: 4.9, &quot;magType&quot;: &quot;mb&quot;, &quot;mmi&quot;: null, &quot;net&quot;: &quot;us&quot;, &quot;nst&quot;: 33.0, &quot;place&quot;: &quot;South Sandwich Islands region&quot;, &quot;rms&quot;: 1.17, &quot;sig&quot;: 369, &quot;sources&quot;: &quot;,us,&quot;, &quot;status&quot;: &quot;reviewed&quot;, &quot;time&quot;: 1697340001461, &quot;title&quot;: &quot;M 4.9 - South Sandwich Islands region&quot;, &quot;tsunami&quot;: 0, &quot;type&quot;: &quot;earthquake&quot;, &quot;types&quot;: &quot;,origin,phase-data,&quot;, &quot;tz&quot;: null, &quot;updated&quot;: 1697343749040, &quot;url&quot;: &quot;https://earthquake.usgs.gov/earthquakes/eventpage/us6000lfn8&quot;}, &quot;type&quot;: &quot;Feature&quot;}, {&quot;bbox&quot;: [174.9113, -38.9711, 174.9113, -38.9711], &quot;geometry&quot;: {&quot;coordinates&quot;: [174.9113, -38.9711, 219.865], &quot;type&quot;: &quot;Point&quot;}, &quot;id&quot;: &quot;37&quot;, &quot;properties&quot;: {&quot;alert&quot;: null, &quot;cdi&quot;: 3.4, &quot;code&quot;: &quot;6000lfn2&quot;, &quot;detail&quot;: &quot;https://earthquake.usgs.gov/earthquakes/feed/v1.0/detail/us6000lfn2.geojson&quot;, &quot;dmin&quot;: 0.46, &quot;felt&quot;: 12.0, &quot;gap&quot;: 67.0, &quot;id&quot;: &quot;us6000lfn2&quot;, &quot;ids&quot;: &quot;,us6000lfn2,&quot;, &quot;mag&quot;: 4.3, &quot;magType&quot;: &quot;mb&quot;, &quot;mmi&quot;: null, &quot;net&quot;: &quot;us&quot;, &quot;nst&quot;: 26.0, &quot;place&quot;: &quot;58 km E of Waitara, New Zealand&quot;, &quot;rms&quot;: 0.71, &quot;sig&quot;: 289, &quot;sources&quot;: &quot;,us,&quot;, &quot;status&quot;: &quot;reviewed&quot;, &quot;time&quot;: 1697339718219, &quot;title&quot;: &quot;M 4.3 - 58 km E of Waitara, New Zealand&quot;, &quot;tsunami&quot;: 0, &quot;type&quot;: &quot;earthquake&quot;, &quot;types&quot;: &quot;,dyfi,origin,phase-data,&quot;, &quot;tz&quot;: null, &quot;updated&quot;: 1697346004465, &quot;url&quot;: &quot;https://earthquake.usgs.gov/earthquakes/eventpage/us6000lfn2&quot;}, &quot;type&quot;: &quot;Feature&quot;}, {&quot;bbox&quot;: [-66.8408333333333, 17.9303333333333, -66.8408333333333, 17.9303333333333], &quot;geometry&quot;: {&quot;coordinates&quot;: [-66.8408333333333, 17.9303333333333, 11.8], &quot;type&quot;: &quot;Point&quot;}, &quot;id&quot;: &quot;38&quot;, &quot;properties&quot;: {&quot;alert&quot;: null, &quot;cdi&quot;: null, &quot;code&quot;: &quot;71428608&quot;, &quot;detail&quot;: &quot;https://earthquake.usgs.gov/earthquakes/feed/v1.0/detail/pr71428608.geojson&quot;, &quot;dmin&quot;: 0.05759, &quot;felt&quot;: null, &quot;gap&quot;: 219.0, &quot;id&quot;: &quot;pr71428608&quot;, &quot;ids&quot;: &quot;,pr71428608,&quot;, &quot;mag&quot;: 2.62, &quot;magType&quot;: &quot;md&quot;, &quot;mmi&quot;: null, &quot;net&quot;: &quot;pr&quot;, &quot;nst&quot;: 7.0, &quot;place&quot;: &quot;7 km SE of Maria Antonia, Puerto Rico&quot;, &quot;rms&quot;: 0.12, &quot;sig&quot;: 106, &quot;sources&quot;: &quot;,pr,&quot;, &quot;status&quot;: &quot;reviewed&quot;, &quot;time&quot;: 1697339430430, &quot;title&quot;: &quot;M 2.6 - 7 km SE of Maria Antonia, Puerto Rico&quot;, &quot;tsunami&quot;: 0, &quot;type&quot;: &quot;earthquake&quot;, &quot;types&quot;: &quot;,origin,phase-data,&quot;, &quot;tz&quot;: null, &quot;updated&quot;: 1697340917390, &quot;url&quot;: &quot;https://earthquake.usgs.gov/earthquakes/eventpage/pr71428608&quot;}, &quot;type&quot;: &quot;Feature&quot;}, {&quot;bbox&quot;: [-149.2727, 61.9134, -149.2727, 61.9134], &quot;geometry&quot;: {&quot;coordinates&quot;: [-149.2727, 61.9134, 40.1], &quot;type&quot;: &quot;Point&quot;}, &quot;id&quot;: &quot;39&quot;, &quot;properties&quot;: {&quot;alert&quot;: null, &quot;cdi&quot;: 2.2, &quot;code&quot;: &quot;023d8c17c3&quot;, &quot;detail&quot;: &quot;https://earthquake.usgs.gov/earthquakes/feed/v1.0/detail/ak023d8c17c3.geojson&quot;, &quot;dmin&quot;: null, &quot;felt&quot;: 1.0, &quot;gap&quot;: null, &quot;id&quot;: &quot;ak023d8c17c3&quot;, &quot;ids&quot;: &quot;,ak023d8c17c3,us6000lfmz,&quot;, &quot;mag&quot;: 2.5, &quot;magType&quot;: &quot;ml&quot;, &quot;mmi&quot;: null, &quot;net&quot;: &quot;ak&quot;, &quot;nst&quot;: null, &quot;place&quot;: &quot;18 km N of Fishhook, Alaska&quot;, &quot;rms&quot;: 0.41, &quot;sig&quot;: 96, &quot;sources&quot;: &quot;,ak,us,&quot;, &quot;status&quot;: &quot;automatic&quot;, &quot;time&quot;: 1697335873312, &quot;title&quot;: &quot;M 2.5 - 18 km N of Fishhook, Alaska&quot;, &quot;tsunami&quot;: 0, &quot;type&quot;: &quot;earthquake&quot;, &quot;types&quot;: &quot;,dyfi,origin,phase-data,&quot;, &quot;tz&quot;: null, &quot;updated&quot;: 1697346389891, &quot;url&quot;: &quot;https://earthquake.usgs.gov/earthquakes/eventpage/ak023d8c17c3&quot;}, &quot;type&quot;: &quot;Feature&quot;}, {&quot;bbox&quot;: [-122.499, 38.915, -122.499, 38.915], &quot;geometry&quot;: {&quot;coordinates&quot;: [-122.499, 38.915, 9.78], &quot;type&quot;: &quot;Point&quot;}, &quot;id&quot;: &quot;40&quot;, &quot;properties&quot;: {&quot;alert&quot;: null, &quot;cdi&quot;: 2.2, &quot;code&quot;: &quot;73947345&quot;, &quot;detail&quot;: &quot;https://earthquake.usgs.gov/earthquakes/feed/v1.0/detail/nc73947345.geojson&quot;, &quot;dmin&quot;: 0.05689, &quot;felt&quot;: 2.0, &quot;gap&quot;: 47.0, &quot;id&quot;: &quot;nc73947345&quot;, &quot;ids&quot;: &quot;,nc73947345,&quot;, &quot;mag&quot;: 2.47, &quot;magType&quot;: &quot;md&quot;, &quot;mmi&quot;: null, &quot;net&quot;: &quot;nc&quot;, &quot;nst&quot;: 82.0, &quot;place&quot;: &quot;10 km E of Lower Lake, CA&quot;, &quot;rms&quot;: 0.15, &quot;sig&quot;: 94, &quot;sources&quot;: &quot;,nc,&quot;, &quot;status&quot;: &quot;reviewed&quot;, &quot;time&quot;: 1697335447080, &quot;title&quot;: &quot;M 2.5 - 10 km E of Lower Lake, CA&quot;, &quot;tsunami&quot;: 0, &quot;type&quot;: &quot;earthquake&quot;, &quot;types&quot;: &quot;,dyfi,focal-mechanism,nearby-cities,origin,phase-data,scitech-link,&quot;, &quot;tz&quot;: null, &quot;updated&quot;: 1697413573792, &quot;url&quot;: &quot;https://earthquake.usgs.gov/earthquakes/eventpage/nc73947345&quot;}, &quot;type&quot;: &quot;Feature&quot;}, {&quot;bbox&quot;: [142.0063, 30.8487, 142.0063, 30.8487], &quot;geometry&quot;: {&quot;coordinates&quot;: [142.0063, 30.8487, 10.0], &quot;type&quot;: &quot;Point&quot;}, &quot;id&quot;: &quot;41&quot;, &quot;properties&quot;: {&quot;alert&quot;: null, &quot;cdi&quot;: null, &quot;code&quot;: &quot;6000lfmj&quot;, &quot;detail&quot;: &quot;https://earthquake.usgs.gov/earthquakes/feed/v1.0/detail/us6000lfmj.geojson&quot;, &quot;dmin&quot;: 6.131, &quot;felt&quot;: null, &quot;gap&quot;: 128.0, &quot;id&quot;: &quot;us6000lfmj&quot;, &quot;ids&quot;: &quot;,us6000lfmj,&quot;, &quot;mag&quot;: 4.7, &quot;magType&quot;: &quot;mb&quot;, &quot;mmi&quot;: null, &quot;net&quot;: &quot;us&quot;, &quot;nst&quot;: 45.0, &quot;place&quot;: &quot;Izu Islands, Japan region&quot;, &quot;rms&quot;: 0.58, &quot;sig&quot;: 340, &quot;sources&quot;: &quot;,us,&quot;, &quot;status&quot;: &quot;reviewed&quot;, &quot;time&quot;: 1697327099159, &quot;title&quot;: &quot;M 4.7 - Izu Islands, Japan region&quot;, &quot;tsunami&quot;: 0, &quot;type&quot;: &quot;earthquake&quot;, &quot;types&quot;: &quot;,origin,phase-data,&quot;, &quot;tz&quot;: null, &quot;updated&quot;: 1697327933040, &quot;url&quot;: &quot;https://earthquake.usgs.gov/earthquakes/eventpage/us6000lfmj&quot;}, &quot;type&quot;: &quot;Feature&quot;}, {&quot;bbox&quot;: [-136.5227, 58.8695, -136.5227, 58.8695], &quot;geometry&quot;: {&quot;coordinates&quot;: [-136.5227, 58.8695, 6.3], &quot;type&quot;: &quot;Point&quot;}, &quot;id&quot;: &quot;42&quot;, &quot;properties&quot;: {&quot;alert&quot;: null, &quot;cdi&quot;: 2.0, &quot;code&quot;: &quot;023d710wha&quot;, &quot;detail&quot;: &quot;https://earthquake.usgs.gov/earthquakes/feed/v1.0/detail/ak023d710wha.geojson&quot;, &quot;dmin&quot;: null, &quot;felt&quot;: 1.0, &quot;gap&quot;: null, &quot;id&quot;: &quot;ak023d710wha&quot;, &quot;ids&quot;: &quot;,ak023d710wha,us6000lfme,&quot;, &quot;mag&quot;: 3.5, &quot;magType&quot;: &quot;ml&quot;, &quot;mmi&quot;: 3.767, &quot;net&quot;: &quot;ak&quot;, &quot;nst&quot;: null, &quot;place&quot;: &quot;67 km SSW of Covenant Life, Alaska&quot;, &quot;rms&quot;: 0.89, &quot;sig&quot;: 189, &quot;sources&quot;: &quot;,ak,us,&quot;, &quot;status&quot;: &quot;reviewed&quot;, &quot;time&quot;: 1697325352920, &quot;title&quot;: &quot;M 3.5 - 67 km SSW of Covenant Life, Alaska&quot;, &quot;tsunami&quot;: 0, &quot;type&quot;: &quot;earthquake&quot;, &quot;types&quot;: &quot;,dyfi,origin,phase-data,shakemap,&quot;, &quot;tz&quot;: null, &quot;updated&quot;: 1697395929563, &quot;url&quot;: &quot;https://earthquake.usgs.gov/earthquakes/eventpage/ak023d710wha&quot;}, &quot;type&quot;: &quot;Feature&quot;}, {&quot;bbox&quot;: [-68.7844, -19.5927, -68.7844, -19.5927], &quot;geometry&quot;: {&quot;coordinates&quot;: [-68.7844, -19.5927, 127.594], &quot;type&quot;: &quot;Point&quot;}, &quot;id&quot;: &quot;43&quot;, &quot;properties&quot;: {&quot;alert&quot;: null, &quot;cdi&quot;: null, &quot;code&quot;: &quot;6000lfm7&quot;, &quot;detail&quot;: &quot;https://earthquake.usgs.gov/earthquakes/feed/v1.0/detail/us6000lfm7.geojson&quot;, &quot;dmin&quot;: 0.394, &quot;felt&quot;: null, &quot;gap&quot;: 80.0, &quot;id&quot;: &quot;us6000lfm7&quot;, &quot;ids&quot;: &quot;,us6000lfm7,&quot;, &quot;mag&quot;: 4.4, &quot;magType&quot;: &quot;mb&quot;, &quot;mmi&quot;: null, &quot;net&quot;: &quot;us&quot;, &quot;nst&quot;: 29.0, &quot;place&quot;: &quot;38 km SSW of Colchane, Chile&quot;, &quot;rms&quot;: 0.77, &quot;sig&quot;: 298, &quot;sources&quot;: &quot;,us,&quot;, &quot;status&quot;: &quot;reviewed&quot;, &quot;time&quot;: 1697322745990, &quot;title&quot;: &quot;M 4.4 - 38 km SSW of Colchane, Chile&quot;, &quot;tsunami&quot;: 0, &quot;type&quot;: &quot;earthquake&quot;, &quot;types&quot;: &quot;,origin,phase-data,&quot;, &quot;tz&quot;: null, &quot;updated&quot;: 1697323658040, &quot;url&quot;: &quot;https://earthquake.usgs.gov/earthquakes/eventpage/us6000lfm7&quot;}, &quot;type&quot;: &quot;Feature&quot;}, {&quot;bbox&quot;: [-87.5784, 14.8581, -87.5784, 14.8581], &quot;geometry&quot;: {&quot;coordinates&quot;: [-87.5784, 14.8581, 10.0], &quot;type&quot;: &quot;Point&quot;}, &quot;id&quot;: &quot;44&quot;, &quot;properties&quot;: {&quot;alert&quot;: null, &quot;cdi&quot;: 2.5, &quot;code&quot;: &quot;6000lflx&quot;, &quot;detail&quot;: &quot;https://earthquake.usgs.gov/earthquakes/feed/v1.0/detail/us6000lflx.geojson&quot;, &quot;dmin&quot;: 0.85, &quot;felt&quot;: 8.0, &quot;gap&quot;: 60.0, &quot;id&quot;: &quot;us6000lflx&quot;, &quot;ids&quot;: &quot;,us6000lflx,&quot;, &quot;mag&quot;: 4.8, &quot;magType&quot;: &quot;mb&quot;, &quot;mmi&quot;: null, &quot;net&quot;: &quot;us&quot;, &quot;nst&quot;: 39.0, &quot;place&quot;: &quot;11 km NNE of La Libertad, Honduras&quot;, &quot;rms&quot;: 0.95, &quot;sig&quot;: 356, &quot;sources&quot;: &quot;,us,&quot;, &quot;status&quot;: &quot;reviewed&quot;, &quot;time&quot;: 1697321465472, &quot;title&quot;: &quot;M 4.8 - 11 km NNE of La Libertad, Honduras&quot;, &quot;tsunami&quot;: 0, &quot;type&quot;: &quot;earthquake&quot;, &quot;types&quot;: &quot;,dyfi,origin,phase-data,&quot;, &quot;tz&quot;: null, &quot;updated&quot;: 1697384978073, &quot;url&quot;: &quot;https://earthquake.usgs.gov/earthquakes/eventpage/us6000lflx&quot;}, &quot;type&quot;: &quot;Feature&quot;}, {&quot;bbox&quot;: [-25.6245, -58.981, -25.6245, -58.981], &quot;geometry&quot;: {&quot;coordinates&quot;: [-25.6245, -58.981, 45.753], &quot;type&quot;: &quot;Point&quot;}, &quot;id&quot;: &quot;45&quot;, &quot;properties&quot;: {&quot;alert&quot;: null, &quot;cdi&quot;: null, &quot;code&quot;: &quot;6000lfly&quot;, &quot;detail&quot;: &quot;https://earthquake.usgs.gov/earthquakes/feed/v1.0/detail/us6000lfly.geojson&quot;, &quot;dmin&quot;: 15.725, &quot;felt&quot;: null, &quot;gap&quot;: 69.0, &quot;id&quot;: &quot;us6000lfly&quot;, &quot;ids&quot;: &quot;,us6000lfly,&quot;, &quot;mag&quot;: 5.1, &quot;magType&quot;: &quot;mb&quot;, &quot;mmi&quot;: null, &quot;net&quot;: &quot;us&quot;, &quot;nst&quot;: 51.0, &quot;place&quot;: &quot;South Sandwich Islands region&quot;, &quot;rms&quot;: 0.67, &quot;sig&quot;: 400, &quot;sources&quot;: &quot;,us,&quot;, &quot;status&quot;: &quot;reviewed&quot;, &quot;time&quot;: 1697321404625, &quot;title&quot;: &quot;M 5.1 - South Sandwich Islands region&quot;, &quot;tsunami&quot;: 0, &quot;type&quot;: &quot;earthquake&quot;, &quot;types&quot;: &quot;,origin,phase-data,&quot;, &quot;tz&quot;: null, &quot;updated&quot;: 1697322542040, &quot;url&quot;: &quot;https://earthquake.usgs.gov/earthquakes/eventpage/us6000lfly&quot;}, &quot;type&quot;: &quot;Feature&quot;}, {&quot;bbox&quot;: [79.4271, 31.8328, 79.4271, 31.8328], &quot;geometry&quot;: {&quot;coordinates&quot;: [79.4271, 31.8328, 10.0], &quot;type&quot;: &quot;Point&quot;}, &quot;id&quot;: &quot;46&quot;, &quot;properties&quot;: {&quot;alert&quot;: null, &quot;cdi&quot;: null, &quot;code&quot;: &quot;6000lflt&quot;, &quot;detail&quot;: &quot;https://earthquake.usgs.gov/earthquakes/feed/v1.0/detail/us6000lflt.geojson&quot;, &quot;dmin&quot;: 5.496, &quot;felt&quot;: null, &quot;gap&quot;: 160.0, &quot;id&quot;: &quot;us6000lflt&quot;, &quot;ids&quot;: &quot;,us6000lflt,&quot;, &quot;mag&quot;: 4.4, &quot;magType&quot;: &quot;mb&quot;, &quot;mmi&quot;: null, &quot;net&quot;: &quot;us&quot;, &quot;nst&quot;: 29.0, &quot;place&quot;: &quot;western Xizang-India border region&quot;, &quot;rms&quot;: 0.75, &quot;sig&quot;: 298, &quot;sources&quot;: &quot;,us,&quot;, &quot;status&quot;: &quot;reviewed&quot;, &quot;time&quot;: 1697320388515, &quot;title&quot;: &quot;M 4.4 - western Xizang-India border region&quot;, &quot;tsunami&quot;: 0, &quot;type&quot;: &quot;earthquake&quot;, &quot;types&quot;: &quot;,origin,phase-data,&quot;, &quot;tz&quot;: null, &quot;updated&quot;: 1697321499040, &quot;url&quot;: &quot;https://earthquake.usgs.gov/earthquakes/eventpage/us6000lflt&quot;}, &quot;type&quot;: &quot;Feature&quot;}, {&quot;bbox&quot;: [145.713, -5.4852, 145.713, -5.4852], &quot;geometry&quot;: {&quot;coordinates&quot;: [145.713, -5.4852, 82.399], &quot;type&quot;: &quot;Point&quot;}, &quot;id&quot;: &quot;47&quot;, &quot;properties&quot;: {&quot;alert&quot;: null, &quot;cdi&quot;: 1.0, &quot;code&quot;: &quot;6000lfl7&quot;, &quot;detail&quot;: &quot;https://earthquake.usgs.gov/earthquakes/feed/v1.0/detail/us6000lfl7.geojson&quot;, &quot;dmin&quot;: 5.804, &quot;felt&quot;: 1.0, &quot;gap&quot;: 139.0, &quot;id&quot;: &quot;us6000lfl7&quot;, &quot;ids&quot;: &quot;,us6000lfl7,&quot;, &quot;mag&quot;: 4.6, &quot;magType&quot;: &quot;mb&quot;, &quot;mmi&quot;: null, &quot;net&quot;: &quot;us&quot;, &quot;nst&quot;: 67.0, &quot;place&quot;: &quot;eastern New Guinea region, Papua New Guinea&quot;, &quot;rms&quot;: 0.66, &quot;sig&quot;: 326, &quot;sources&quot;: &quot;,us,&quot;, &quot;status&quot;: &quot;reviewed&quot;, &quot;time&quot;: 1697307182136, &quot;title&quot;: &quot;M 4.6 - eastern New Guinea region, Papua New Guinea&quot;, &quot;tsunami&quot;: 0, &quot;type&quot;: &quot;earthquake&quot;, &quot;types&quot;: &quot;,dyfi,origin,phase-data,&quot;, &quot;tz&quot;: null, &quot;updated&quot;: 1697346288889, &quot;url&quot;: &quot;https://earthquake.usgs.gov/earthquakes/eventpage/us6000lfl7&quot;}, &quot;type&quot;: &quot;Feature&quot;}, {&quot;bbox&quot;: [-96.90966667, 35.63616667, -96.90966667, 35.63616667], &quot;geometry&quot;: {&quot;coordinates&quot;: [-96.90966667, 35.63616667, 16.06], &quot;type&quot;: &quot;Point&quot;}, &quot;id&quot;: &quot;48&quot;, &quot;properties&quot;: {&quot;alert&quot;: null, &quot;cdi&quot;: 2.7, &quot;code&quot;: &quot;2023udwa&quot;, &quot;detail&quot;: &quot;https://earthquake.usgs.gov/earthquakes/feed/v1.0/detail/ok2023udwa.geojson&quot;, &quot;dmin&quot;: 0.0, &quot;felt&quot;: 4.0, &quot;gap&quot;: 56.0, &quot;id&quot;: &quot;ok2023udwa&quot;, &quot;ids&quot;: &quot;,ok2023udwa,us6000lfku,&quot;, &quot;mag&quot;: 2.91, &quot;magType&quot;: &quot;ml&quot;, &quot;mmi&quot;: null, &quot;net&quot;: &quot;ok&quot;, &quot;nst&quot;: 99.0, &quot;place&quot;: &quot;7 km SSW of Chandler, Oklahoma&quot;, &quot;rms&quot;: 0.12, &quot;sig&quot;: 131, &quot;sources&quot;: &quot;,ok,us,&quot;, &quot;status&quot;: &quot;reviewed&quot;, &quot;time&quot;: 1697303720039, &quot;title&quot;: &quot;M 2.9 - 7 km SSW of Chandler, Oklahoma&quot;, &quot;tsunami&quot;: 0, &quot;type&quot;: &quot;earthquake&quot;, &quot;types&quot;: &quot;,dyfi,origin,phase-data,&quot;, &quot;tz&quot;: null, &quot;updated&quot;: 1697344620526, &quot;url&quot;: &quot;https://earthquake.usgs.gov/earthquakes/eventpage/ok2023udwa&quot;}, &quot;type&quot;: &quot;Feature&quot;}, {&quot;bbox&quot;: [-150.6232, 63.222, -150.6232, 63.222], &quot;geometry&quot;: {&quot;coordinates&quot;: [-150.6232, 63.222, 128.0], &quot;type&quot;: &quot;Point&quot;}, &quot;id&quot;: &quot;49&quot;, &quot;properties&quot;: {&quot;alert&quot;: null, &quot;cdi&quot;: 2.0, &quot;code&quot;: &quot;023d6x413q&quot;, &quot;detail&quot;: &quot;https://earthquake.usgs.gov/earthquakes/feed/v1.0/detail/ak023d6x413q.geojson&quot;, &quot;dmin&quot;: null, &quot;felt&quot;: 1.0, &quot;gap&quot;: null, &quot;id&quot;: &quot;ak023d6x413q&quot;, &quot;ids&quot;: &quot;,ak023d6x413q,us6000lfkt,&quot;, &quot;mag&quot;: 2.5, &quot;magType&quot;: &quot;ml&quot;, &quot;mmi&quot;: null, &quot;net&quot;: &quot;ak&quot;, &quot;nst&quot;: null, &quot;place&quot;: &quot;65 km ESE of Denali National Park, Alaska&quot;, &quot;rms&quot;: 0.47, &quot;sig&quot;: 96, &quot;sources&quot;: &quot;,ak,us,&quot;, &quot;status&quot;: &quot;automatic&quot;, &quot;time&quot;: 1697302709114, &quot;title&quot;: &quot;M 2.5 - 65 km ESE of Denali National Park, Alaska&quot;, &quot;tsunami&quot;: 0, &quot;type&quot;: &quot;earthquake&quot;, &quot;types&quot;: &quot;,dyfi,origin,phase-data,&quot;, &quot;tz&quot;: null, &quot;updated&quot;: 1697346257119, &quot;url&quot;: &quot;https://earthquake.usgs.gov/earthquakes/eventpage/ak023d6x413q&quot;}, &quot;type&quot;: &quot;Feature&quot;}, {&quot;bbox&quot;: [134.288, 41.1132, 134.288, 41.1132], &quot;geometry&quot;: {&quot;coordinates&quot;: [134.288, 41.1132, 427.025], &quot;type&quot;: &quot;Point&quot;}, &quot;id&quot;: &quot;50&quot;, &quot;properties&quot;: {&quot;alert&quot;: null, &quot;cdi&quot;: null, &quot;code&quot;: &quot;6000lfkq&quot;, &quot;detail&quot;: &quot;https://earthquake.usgs.gov/earthquakes/feed/v1.0/detail/us6000lfkq.geojson&quot;, &quot;dmin&quot;: 3.52, &quot;felt&quot;: null, &quot;gap&quot;: 53.0, &quot;id&quot;: &quot;us6000lfkq&quot;, &quot;ids&quot;: &quot;,us6000lfkq,&quot;, &quot;mag&quot;: 4.3, &quot;magType&quot;: &quot;mb&quot;, &quot;mmi&quot;: null, &quot;net&quot;: &quot;us&quot;, &quot;nst&quot;: 59.0, &quot;place&quot;: &quot;201 km S of Preobrazheniye, Russia&quot;, &quot;rms&quot;: 0.7, &quot;sig&quot;: 284, &quot;sources&quot;: &quot;,us,&quot;, &quot;status&quot;: &quot;reviewed&quot;, &quot;time&quot;: 1697300712056, &quot;title&quot;: &quot;M 4.3 - 201 km S of Preobrazheniye, Russia&quot;, &quot;tsunami&quot;: 0, &quot;type&quot;: &quot;earthquake&quot;, &quot;types&quot;: &quot;,origin,phase-data,&quot;, &quot;tz&quot;: null, &quot;updated&quot;: 1697302567040, &quot;url&quot;: &quot;https://earthquake.usgs.gov/earthquakes/eventpage/us6000lfkq&quot;}, &quot;type&quot;: &quot;Feature&quot;}, {&quot;bbox&quot;: [-67.388, 18.8815, -67.388, 18.8815], &quot;geometry&quot;: {&quot;coordinates&quot;: [-67.388, 18.8815, 7.87], &quot;type&quot;: &quot;Point&quot;}, &quot;id&quot;: &quot;51&quot;, &quot;properties&quot;: {&quot;alert&quot;: null, &quot;cdi&quot;: null, &quot;code&quot;: &quot;71428558&quot;, &quot;detail&quot;: &quot;https://earthquake.usgs.gov/earthquakes/feed/v1.0/detail/pr71428558.geojson&quot;, &quot;dmin&quot;: 0.5019, &quot;felt&quot;: null, &quot;gap&quot;: 287.0, &quot;id&quot;: &quot;pr71428558&quot;, &quot;ids&quot;: &quot;,pr71428558,&quot;, &quot;mag&quot;: 3.2, &quot;magType&quot;: &quot;md&quot;, &quot;mmi&quot;: null, &quot;net&quot;: &quot;pr&quot;, &quot;nst&quot;: 9.0, &quot;place&quot;: &quot;52 km NW of San Antonio, Puerto Rico&quot;, &quot;rms&quot;: 0.17, &quot;sig&quot;: 158, &quot;sources&quot;: &quot;,pr,&quot;, &quot;status&quot;: &quot;reviewed&quot;, &quot;time&quot;: 1697295641740, &quot;title&quot;: &quot;M 3.2 - 52 km NW of San Antonio, Puerto Rico&quot;, &quot;tsunami&quot;: 0, &quot;type&quot;: &quot;earthquake&quot;, &quot;types&quot;: &quot;,origin,phase-data,&quot;, &quot;tz&quot;: null, &quot;updated&quot;: 1697297883130, &quot;url&quot;: &quot;https://earthquake.usgs.gov/earthquakes/eventpage/pr71428558&quot;}, &quot;type&quot;: &quot;Feature&quot;}, {&quot;bbox&quot;: [-66.9558333333333, 17.9401666666667, -66.9558333333333, 17.9401666666667], &quot;geometry&quot;: {&quot;coordinates&quot;: [-66.9558333333333, 17.9401666666667, 6.66], &quot;type&quot;: &quot;Point&quot;}, &quot;id&quot;: &quot;52&quot;, &quot;properties&quot;: {&quot;alert&quot;: null, &quot;cdi&quot;: null, &quot;code&quot;: &quot;71428548&quot;, &quot;detail&quot;: &quot;https://earthquake.usgs.gov/earthquakes/feed/v1.0/detail/pr71428548.geojson&quot;, &quot;dmin&quot;: 0.05507, &quot;felt&quot;: null, &quot;gap&quot;: 218.0, &quot;id&quot;: &quot;pr71428548&quot;, &quot;ids&quot;: &quot;,pr71428548,&quot;, &quot;mag&quot;: 2.64, &quot;magType&quot;: &quot;md&quot;, &quot;mmi&quot;: null, &quot;net&quot;: &quot;pr&quot;, &quot;nst&quot;: 13.0, &quot;place&quot;: &quot;6 km SW of Gu\\u00e1nica, Puerto Rico&quot;, &quot;rms&quot;: 0.12, &quot;sig&quot;: 107, &quot;sources&quot;: &quot;,pr,&quot;, &quot;status&quot;: &quot;reviewed&quot;, &quot;time&quot;: 1697294209820, &quot;title&quot;: &quot;M 2.6 - 6 km SW of Gu\\u00e1nica, Puerto Rico&quot;, &quot;tsunami&quot;: 0, &quot;type&quot;: &quot;earthquake&quot;, &quot;types&quot;: &quot;,origin,phase-data,&quot;, &quot;tz&quot;: null, &quot;updated&quot;: 1697294893900, &quot;url&quot;: &quot;https://earthquake.usgs.gov/earthquakes/eventpage/pr71428548&quot;}, &quot;type&quot;: &quot;Feature&quot;}, {&quot;bbox&quot;: [31.7261, 40.8784, 31.7261, 40.8784], &quot;geometry&quot;: {&quot;coordinates&quot;: [31.7261, 40.8784, 10.0], &quot;type&quot;: &quot;Point&quot;}, &quot;id&quot;: &quot;53&quot;, &quot;properties&quot;: {&quot;alert&quot;: null, &quot;cdi&quot;: 4.8, &quot;code&quot;: &quot;6000lfk2&quot;, &quot;detail&quot;: &quot;https://earthquake.usgs.gov/earthquakes/feed/v1.0/detail/us6000lfk2.geojson&quot;, &quot;dmin&quot;: 0.572, &quot;felt&quot;: 4.0, &quot;gap&quot;: 36.0, &quot;id&quot;: &quot;us6000lfk2&quot;, &quot;ids&quot;: &quot;,us6000lfk2,&quot;, &quot;mag&quot;: 4.7, &quot;magType&quot;: &quot;mb&quot;, &quot;mmi&quot;: null, &quot;net&quot;: &quot;us&quot;, &quot;nst&quot;: 51.0, &quot;place&quot;: &quot;western Turkey&quot;, &quot;rms&quot;: 0.9, &quot;sig&quot;: 342, &quot;sources&quot;: &quot;,us,&quot;, &quot;status&quot;: &quot;reviewed&quot;, &quot;time&quot;: 1697292431457, &quot;title&quot;: &quot;M 4.7 - western Turkey&quot;, &quot;tsunami&quot;: 0, &quot;type&quot;: &quot;earthquake&quot;, &quot;types&quot;: &quot;,dyfi,origin,phase-data,&quot;, &quot;tz&quot;: null, &quot;updated&quot;: 1697346222043, &quot;url&quot;: &quot;https://earthquake.usgs.gov/earthquakes/eventpage/us6000lfk2&quot;}, &quot;type&quot;: &quot;Feature&quot;}, {&quot;bbox&quot;: [122.3165, 23.9582, 122.3165, 23.9582], &quot;geometry&quot;: {&quot;coordinates&quot;: [122.3165, 23.9582, 10.0], &quot;type&quot;: &quot;Point&quot;}, &quot;id&quot;: &quot;54&quot;, &quot;properties&quot;: {&quot;alert&quot;: null, &quot;cdi&quot;: null, &quot;code&quot;: &quot;6000lfk1&quot;, &quot;detail&quot;: &quot;https://earthquake.usgs.gov/earthquakes/feed/v1.0/detail/us6000lfk1.geojson&quot;, &quot;dmin&quot;: 0.694, &quot;felt&quot;: null, &quot;gap&quot;: 81.0, &quot;id&quot;: &quot;us6000lfk1&quot;, &quot;ids&quot;: &quot;,us6000lfk1,&quot;, &quot;mag&quot;: 4.9, &quot;magType&quot;: &quot;mb&quot;, &quot;mmi&quot;: null, &quot;net&quot;: &quot;us&quot;, &quot;nst&quot;: 51.0, &quot;place&quot;: &quot;72 km E of Hualien City, Taiwan&quot;, &quot;rms&quot;: 0.88, &quot;sig&quot;: 369, &quot;sources&quot;: &quot;,us,&quot;, &quot;status&quot;: &quot;reviewed&quot;, &quot;time&quot;: 1697292244694, &quot;title&quot;: &quot;M 4.9 - 72 km E of Hualien City, Taiwan&quot;, &quot;tsunami&quot;: 0, &quot;type&quot;: &quot;earthquake&quot;, &quot;types&quot;: &quot;,origin,phase-data,&quot;, &quot;tz&quot;: null, &quot;updated&quot;: 1697293581040, &quot;url&quot;: &quot;https://earthquake.usgs.gov/earthquakes/eventpage/us6000lfk1&quot;}, &quot;type&quot;: &quot;Feature&quot;}, {&quot;bbox&quot;: [-66.9568333333333, 17.9371666666667, -66.9568333333333, 17.9371666666667], &quot;geometry&quot;: {&quot;coordinates&quot;: [-66.9568333333333, 17.9371666666667, 6.52], &quot;type&quot;: &quot;Point&quot;}, &quot;id&quot;: &quot;55&quot;, &quot;properties&quot;: {&quot;alert&quot;: null, &quot;cdi&quot;: null, &quot;code&quot;: &quot;71428523&quot;, &quot;detail&quot;: &quot;https://earthquake.usgs.gov/earthquakes/feed/v1.0/detail/pr71428523.geojson&quot;, &quot;dmin&quot;: 0.05761, &quot;felt&quot;: null, &quot;gap&quot;: 220.0, &quot;id&quot;: &quot;pr71428523&quot;, &quot;ids&quot;: &quot;,pr71428523,&quot;, &quot;mag&quot;: 2.99, &quot;magType&quot;: &quot;md&quot;, &quot;mmi&quot;: null, &quot;net&quot;: &quot;pr&quot;, &quot;nst&quot;: 14.0, &quot;place&quot;: &quot;6 km SW of Gu\\u00e1nica, Puerto Rico&quot;, &quot;rms&quot;: 0.16, &quot;sig&quot;: 138, &quot;sources&quot;: &quot;,pr,&quot;, &quot;status&quot;: &quot;reviewed&quot;, &quot;time&quot;: 1697285685990, &quot;title&quot;: &quot;M 3.0 - 6 km SW of Gu\\u00e1nica, Puerto Rico&quot;, &quot;tsunami&quot;: 0, &quot;type&quot;: &quot;earthquake&quot;, &quot;types&quot;: &quot;,origin,phase-data,&quot;, &quot;tz&quot;: null, &quot;updated&quot;: 1697286565550, &quot;url&quot;: &quot;https://earthquake.usgs.gov/earthquakes/eventpage/pr71428523&quot;}, &quot;type&quot;: &quot;Feature&quot;}, {&quot;bbox&quot;: [-66.8483333333333, 17.902, -66.8483333333333, 17.902], &quot;geometry&quot;: {&quot;coordinates&quot;: [-66.8483333333333, 17.902, 15.38], &quot;type&quot;: &quot;Point&quot;}, &quot;id&quot;: &quot;56&quot;, &quot;properties&quot;: {&quot;alert&quot;: null, &quot;cdi&quot;: null, &quot;code&quot;: &quot;71428513&quot;, &quot;detail&quot;: &quot;https://earthquake.usgs.gov/earthquakes/feed/v1.0/detail/pr71428513.geojson&quot;, &quot;dmin&quot;: 0.07839, &quot;felt&quot;: null, &quot;gap&quot;: 213.0, &quot;id&quot;: &quot;pr71428513&quot;, &quot;ids&quot;: &quot;,pr71428513,&quot;, &quot;mag&quot;: 3.07, &quot;magType&quot;: &quot;md&quot;, &quot;mmi&quot;: null, &quot;net&quot;: &quot;pr&quot;, &quot;nst&quot;: 18.0, &quot;place&quot;: &quot;9 km SSE of Maria Antonia, Puerto Rico&quot;, &quot;rms&quot;: 0.14, &quot;sig&quot;: 145, &quot;sources&quot;: &quot;,pr,&quot;, &quot;status&quot;: &quot;reviewed&quot;, &quot;time&quot;: 1697285547670, &quot;title&quot;: &quot;M 3.1 - 9 km SSE of Maria Antonia, Puerto Rico&quot;, &quot;tsunami&quot;: 0, &quot;type&quot;: &quot;earthquake&quot;, &quot;types&quot;: &quot;,origin,phase-data,&quot;, &quot;tz&quot;: null, &quot;updated&quot;: 1697287078480, &quot;url&quot;: &quot;https://earthquake.usgs.gov/earthquakes/eventpage/pr71428513&quot;}, &quot;type&quot;: &quot;Feature&quot;}, {&quot;bbox&quot;: [-70.3271, -20.7953, -70.3271, -20.7953], &quot;geometry&quot;: {&quot;coordinates&quot;: [-70.3271, -20.7953, 71.593], &quot;type&quot;: &quot;Point&quot;}, &quot;id&quot;: &quot;57&quot;, &quot;properties&quot;: {&quot;alert&quot;: null, &quot;cdi&quot;: 3.3, &quot;code&quot;: &quot;6000lfja&quot;, &quot;detail&quot;: &quot;https://earthquake.usgs.gov/earthquakes/feed/v1.0/detail/us6000lfja.geojson&quot;, &quot;dmin&quot;: 0.554, &quot;felt&quot;: 9.0, &quot;gap&quot;: 158.0, &quot;id&quot;: &quot;us6000lfja&quot;, &quot;ids&quot;: &quot;,us6000lfja,&quot;, &quot;mag&quot;: 4.6, &quot;magType&quot;: &quot;mb&quot;, &quot;mmi&quot;: null, &quot;net&quot;: &quot;us&quot;, &quot;nst&quot;: 22.0, &quot;place&quot;: &quot;60 km SSW of La Tirana, Chile&quot;, &quot;rms&quot;: 0.6, &quot;sig&quot;: 329, &quot;sources&quot;: &quot;,us,&quot;, &quot;status&quot;: &quot;reviewed&quot;, &quot;time&quot;: 1697282975432, &quot;title&quot;: &quot;M 4.6 - 60 km SSW of La Tirana, Chile&quot;, &quot;tsunami&quot;: 0, &quot;type&quot;: &quot;earthquake&quot;, &quot;types&quot;: &quot;,dyfi,origin,phase-data,&quot;, &quot;tz&quot;: null, &quot;updated&quot;: 1697344757204, &quot;url&quot;: &quot;https://earthquake.usgs.gov/earthquakes/eventpage/us6000lfja&quot;}, &quot;type&quot;: &quot;Feature&quot;}, {&quot;bbox&quot;: [-66.9575, 17.9311666666667, -66.9575, 17.9311666666667], &quot;geometry&quot;: {&quot;coordinates&quot;: [-66.9575, 17.9311666666667, 6.47], &quot;type&quot;: &quot;Point&quot;}, &quot;id&quot;: &quot;58&quot;, &quot;properties&quot;: {&quot;alert&quot;: null, &quot;cdi&quot;: null, &quot;code&quot;: &quot;71428503&quot;, &quot;detail&quot;: &quot;https://earthquake.usgs.gov/earthquakes/feed/v1.0/detail/pr71428503.geojson&quot;, &quot;dmin&quot;: 0.06188, &quot;felt&quot;: null, &quot;gap&quot;: 224.0, &quot;id&quot;: &quot;pr71428503&quot;, &quot;ids&quot;: &quot;,pr71428503,&quot;, &quot;mag&quot;: 2.62, &quot;magType&quot;: &quot;md&quot;, &quot;mmi&quot;: null, &quot;net&quot;: &quot;pr&quot;, &quot;nst&quot;: 17.0, &quot;place&quot;: &quot;6 km SW of Gu\\u00e1nica, Puerto Rico&quot;, &quot;rms&quot;: 0.13, &quot;sig&quot;: 106, &quot;sources&quot;: &quot;,pr,&quot;, &quot;status&quot;: &quot;reviewed&quot;, &quot;time&quot;: 1697282694040, &quot;title&quot;: &quot;M 2.6 - 6 km SW of Gu\\u00e1nica, Puerto Rico&quot;, &quot;tsunami&quot;: 0, &quot;type&quot;: &quot;earthquake&quot;, &quot;types&quot;: &quot;,origin,phase-data,&quot;, &quot;tz&quot;: null, &quot;updated&quot;: 1697283887590, &quot;url&quot;: &quot;https://earthquake.usgs.gov/earthquakes/eventpage/pr71428503&quot;}, &quot;type&quot;: &quot;Feature&quot;}, {&quot;bbox&quot;: [-66.958, 17.947, -66.958, 17.947], &quot;geometry&quot;: {&quot;coordinates&quot;: [-66.958, 17.947, 7.61], &quot;type&quot;: &quot;Point&quot;}, &quot;id&quot;: &quot;59&quot;, &quot;properties&quot;: {&quot;alert&quot;: null, &quot;cdi&quot;: null, &quot;code&quot;: &quot;71428488&quot;, &quot;detail&quot;: &quot;https://earthquake.usgs.gov/earthquakes/feed/v1.0/detail/pr71428488.geojson&quot;, &quot;dmin&quot;: 0.05325, &quot;felt&quot;: null, &quot;gap&quot;: 216.0, &quot;id&quot;: &quot;pr71428488&quot;, &quot;ids&quot;: &quot;,pr71428488,&quot;, &quot;mag&quot;: 2.94, &quot;magType&quot;: &quot;md&quot;, &quot;mmi&quot;: null, &quot;net&quot;: &quot;pr&quot;, &quot;nst&quot;: 14.0, &quot;place&quot;: &quot;5 km WSW of Gu\\u00e1nica, Puerto Rico&quot;, &quot;rms&quot;: 0.12, &quot;sig&quot;: 133, &quot;sources&quot;: &quot;,pr,&quot;, &quot;status&quot;: &quot;reviewed&quot;, &quot;time&quot;: 1697282014250, &quot;title&quot;: &quot;M 2.9 - 5 km WSW of Gu\\u00e1nica, Puerto Rico&quot;, &quot;tsunami&quot;: 0, &quot;type&quot;: &quot;earthquake&quot;, &quot;types&quot;: &quot;,origin,phase-data,&quot;, &quot;tz&quot;: null, &quot;updated&quot;: 1697282974610, &quot;url&quot;: &quot;https://earthquake.usgs.gov/earthquakes/eventpage/pr71428488&quot;}, &quot;type&quot;: &quot;Feature&quot;}, {&quot;bbox&quot;: [126.6935, -2.7216, 126.6935, -2.7216], &quot;geometry&quot;: {&quot;coordinates&quot;: [126.6935, -2.7216, 10.0], &quot;type&quot;: &quot;Point&quot;}, &quot;id&quot;: &quot;60&quot;, &quot;properties&quot;: {&quot;alert&quot;: null, &quot;cdi&quot;: null, &quot;code&quot;: &quot;6000lfj6&quot;, &quot;detail&quot;: &quot;https://earthquake.usgs.gov/earthquakes/feed/v1.0/detail/us6000lfj6.geojson&quot;, &quot;dmin&quot;: 3.535, &quot;felt&quot;: null, &quot;gap&quot;: 91.0, &quot;id&quot;: &quot;us6000lfj6&quot;, &quot;ids&quot;: &quot;,us6000lfj6,&quot;, &quot;mag&quot;: 4.9, &quot;magType&quot;: &quot;mb&quot;, &quot;mmi&quot;: null, &quot;net&quot;: &quot;us&quot;, &quot;nst&quot;: 44.0, &quot;place&quot;: &quot;108 km SE of Sanana, Indonesia&quot;, &quot;rms&quot;: 0.51, &quot;sig&quot;: 369, &quot;sources&quot;: &quot;,us,&quot;, &quot;status&quot;: &quot;reviewed&quot;, &quot;time&quot;: 1697281776022, &quot;title&quot;: &quot;M 4.9 - 108 km SE of Sanana, Indonesia&quot;, &quot;tsunami&quot;: 0, &quot;type&quot;: &quot;earthquake&quot;, &quot;types&quot;: &quot;,origin,phase-data,&quot;, &quot;tz&quot;: null, &quot;updated&quot;: 1697283237040, &quot;url&quot;: &quot;https://earthquake.usgs.gov/earthquakes/eventpage/us6000lfj6&quot;}, &quot;type&quot;: &quot;Feature&quot;}, {&quot;bbox&quot;: [-152.9328, 60.0545, -152.9328, 60.0545], &quot;geometry&quot;: {&quot;coordinates&quot;: [-152.9328, 60.0545, 111.1], &quot;type&quot;: &quot;Point&quot;}, &quot;id&quot;: &quot;61&quot;, &quot;properties&quot;: {&quot;alert&quot;: null, &quot;cdi&quot;: null, &quot;code&quot;: &quot;023d6swivc&quot;, &quot;detail&quot;: &quot;https://earthquake.usgs.gov/earthquakes/feed/v1.0/detail/ak023d6swivc.geojson&quot;, &quot;dmin&quot;: null, &quot;felt&quot;: null, &quot;gap&quot;: null, &quot;id&quot;: &quot;ak023d6swivc&quot;, &quot;ids&quot;: &quot;,us6000lfiq,ak023d6swivc,&quot;, &quot;mag&quot;: 2.6, &quot;magType&quot;: &quot;ml&quot;, &quot;mmi&quot;: null, &quot;net&quot;: &quot;ak&quot;, &quot;nst&quot;: null, &quot;place&quot;: &quot;Southern Alaska&quot;, &quot;rms&quot;: 0.42, &quot;sig&quot;: 104, &quot;sources&quot;: &quot;,us,ak,&quot;, &quot;status&quot;: &quot;automatic&quot;, &quot;time&quot;: 1697277101204, &quot;title&quot;: &quot;M 2.6 - Southern Alaska&quot;, &quot;tsunami&quot;: 0, &quot;type&quot;: &quot;earthquake&quot;, &quot;types&quot;: &quot;,origin,phase-data,&quot;, &quot;tz&quot;: null, &quot;updated&quot;: 1697277674040, &quot;url&quot;: &quot;https://earthquake.usgs.gov/earthquakes/eventpage/ak023d6swivc&quot;}, &quot;type&quot;: &quot;Feature&quot;}, {&quot;bbox&quot;: [127.6674, 27.4161, 127.6674, 27.4161], &quot;geometry&quot;: {&quot;coordinates&quot;: [127.6674, 27.4161, 104.962], &quot;type&quot;: &quot;Point&quot;}, &quot;id&quot;: &quot;62&quot;, &quot;properties&quot;: {&quot;alert&quot;: null, &quot;cdi&quot;: null, &quot;code&quot;: &quot;6000lfir&quot;, &quot;detail&quot;: &quot;https://earthquake.usgs.gov/earthquakes/feed/v1.0/detail/us6000lfir.geojson&quot;, &quot;dmin&quot;: 0.79, &quot;felt&quot;: null, &quot;gap&quot;: 72.0, &quot;id&quot;: &quot;us6000lfir&quot;, &quot;ids&quot;: &quot;,us6000lfir,&quot;, &quot;mag&quot;: 4.6, &quot;magType&quot;: &quot;mb&quot;, &quot;mmi&quot;: null, &quot;net&quot;: &quot;us&quot;, &quot;nst&quot;: 54.0, &quot;place&quot;: &quot;53 km NW of Iheya, Japan&quot;, &quot;rms&quot;: 0.61, &quot;sig&quot;: 326, &quot;sources&quot;: &quot;,us,&quot;, &quot;status&quot;: &quot;reviewed&quot;, &quot;time&quot;: 1697276800484, &quot;title&quot;: &quot;M 4.6 - 53 km NW of Iheya, Japan&quot;, &quot;tsunami&quot;: 0, &quot;type&quot;: &quot;earthquake&quot;, &quot;types&quot;: &quot;,origin,phase-data,&quot;, &quot;tz&quot;: null, &quot;updated&quot;: 1697278946040, &quot;url&quot;: &quot;https://earthquake.usgs.gov/earthquakes/eventpage/us6000lfir&quot;}, &quot;type&quot;: &quot;Feature&quot;}, {&quot;bbox&quot;: [-36.6975, 7.5261, -36.6975, 7.5261], &quot;geometry&quot;: {&quot;coordinates&quot;: [-36.6975, 7.5261, 10.0], &quot;type&quot;: &quot;Point&quot;}, &quot;id&quot;: &quot;63&quot;, &quot;properties&quot;: {&quot;alert&quot;: &quot;green&quot;, &quot;cdi&quot;: null, &quot;code&quot;: &quot;6000lfid&quot;, &quot;detail&quot;: &quot;https://earthquake.usgs.gov/earthquakes/feed/v1.0/detail/us6000lfid.geojson&quot;, &quot;dmin&quot;: 13.289, &quot;felt&quot;: null, &quot;gap&quot;: 59.0, &quot;id&quot;: &quot;us6000lfid&quot;, &quot;ids&quot;: &quot;,us6000lfid,&quot;, &quot;mag&quot;: 5.4, &quot;magType&quot;: &quot;mww&quot;, &quot;mmi&quot;: 0.0, &quot;net&quot;: &quot;us&quot;, &quot;nst&quot;: 79.0, &quot;place&quot;: &quot;central Mid-Atlantic Ridge&quot;, &quot;rms&quot;: 0.73, &quot;sig&quot;: 449, &quot;sources&quot;: &quot;,us,&quot;, &quot;status&quot;: &quot;reviewed&quot;, &quot;time&quot;: 1697272175141, &quot;title&quot;: &quot;M 5.4 - central Mid-Atlantic Ridge&quot;, &quot;tsunami&quot;: 0, &quot;type&quot;: &quot;earthquake&quot;, &quot;types&quot;: &quot;,losspager,origin,phase-data,shakemap,&quot;, &quot;tz&quot;: null, &quot;updated&quot;: 1697358745938, &quot;url&quot;: &quot;https://earthquake.usgs.gov/earthquakes/eventpage/us6000lfid&quot;}, &quot;type&quot;: &quot;Feature&quot;}, {&quot;bbox&quot;: [122.3284, 23.9729, 122.3284, 23.9729], &quot;geometry&quot;: {&quot;coordinates&quot;: [122.3284, 23.9729, 21.476], &quot;type&quot;: &quot;Point&quot;}, &quot;id&quot;: &quot;64&quot;, &quot;properties&quot;: {&quot;alert&quot;: null, &quot;cdi&quot;: null, &quot;code&quot;: &quot;6000lfi8&quot;, &quot;detail&quot;: &quot;https://earthquake.usgs.gov/earthquakes/feed/v1.0/detail/us6000lfi8.geojson&quot;, &quot;dmin&quot;: 0.7, &quot;felt&quot;: null, &quot;gap&quot;: 81.0, &quot;id&quot;: &quot;us6000lfi8&quot;, &quot;ids&quot;: &quot;,us6000lfi8,&quot;, &quot;mag&quot;: 4.8, &quot;magType&quot;: &quot;mb&quot;, &quot;mmi&quot;: null, &quot;net&quot;: &quot;us&quot;, &quot;nst&quot;: 66.0, &quot;place&quot;: &quot;Taiwan region&quot;, &quot;rms&quot;: 0.51, &quot;sig&quot;: 354, &quot;sources&quot;: &quot;,us,&quot;, &quot;status&quot;: &quot;reviewed&quot;, &quot;time&quot;: 1697270712808, &quot;title&quot;: &quot;M 4.8 - Taiwan region&quot;, &quot;tsunami&quot;: 0, &quot;type&quot;: &quot;earthquake&quot;, &quot;types&quot;: &quot;,origin,phase-data,&quot;, &quot;tz&quot;: null, &quot;updated&quot;: 1697271745040, &quot;url&quot;: &quot;https://earthquake.usgs.gov/earthquakes/eventpage/us6000lfi8&quot;}, &quot;type&quot;: &quot;Feature&quot;}, {&quot;bbox&quot;: [24.2845, 34.3249, 24.2845, 34.3249], &quot;geometry&quot;: {&quot;coordinates&quot;: [24.2845, 34.3249, 10.0], &quot;type&quot;: &quot;Point&quot;}, &quot;id&quot;: &quot;65&quot;, &quot;properties&quot;: {&quot;alert&quot;: null, &quot;cdi&quot;: null, &quot;code&quot;: &quot;6000lfi7&quot;, &quot;detail&quot;: &quot;https://earthquake.usgs.gov/earthquakes/feed/v1.0/detail/us6000lfi7.geojson&quot;, &quot;dmin&quot;: 1.082, &quot;felt&quot;: null, &quot;gap&quot;: 206.0, &quot;id&quot;: &quot;us6000lfi7&quot;, &quot;ids&quot;: &quot;,us6000lfi7,&quot;, &quot;mag&quot;: 4.4, &quot;magType&quot;: &quot;mb&quot;, &quot;mmi&quot;: null, &quot;net&quot;: &quot;us&quot;, &quot;nst&quot;: 45.0, &quot;place&quot;: &quot;59 km SSE of Kastr\\u00ed, Greece&quot;, &quot;rms&quot;: 0.94, &quot;sig&quot;: 298, &quot;sources&quot;: &quot;,us,&quot;, &quot;status&quot;: &quot;reviewed&quot;, &quot;time&quot;: 1697270398858, &quot;title&quot;: &quot;M 4.4 - 59 km SSE of Kastr\\u00ed, Greece&quot;, &quot;tsunami&quot;: 0, &quot;type&quot;: &quot;earthquake&quot;, &quot;types&quot;: &quot;,origin,phase-data,&quot;, &quot;tz&quot;: null, &quot;updated&quot;: 1697284922040, &quot;url&quot;: &quot;https://earthquake.usgs.gov/earthquakes/eventpage/us6000lfi7&quot;}, &quot;type&quot;: &quot;Feature&quot;}, {&quot;bbox&quot;: [122.267, 23.9691, 122.267, 23.9691], &quot;geometry&quot;: {&quot;coordinates&quot;: [122.267, 23.9691, 19.372], &quot;type&quot;: &quot;Point&quot;}, &quot;id&quot;: &quot;66&quot;, &quot;properties&quot;: {&quot;alert&quot;: null, &quot;cdi&quot;: 2.0, &quot;code&quot;: &quot;6000lfi5&quot;, &quot;detail&quot;: &quot;https://earthquake.usgs.gov/earthquakes/feed/v1.0/detail/us6000lfi5.geojson&quot;, &quot;dmin&quot;: 0.647, &quot;felt&quot;: 9.0, &quot;gap&quot;: 71.0, &quot;id&quot;: &quot;us6000lfi5&quot;, &quot;ids&quot;: &quot;,us6000lfi5,&quot;, &quot;mag&quot;: 4.9, &quot;magType&quot;: &quot;mww&quot;, &quot;mmi&quot;: null, &quot;net&quot;: &quot;us&quot;, &quot;nst&quot;: 54.0, &quot;place&quot;: &quot;Taiwan region&quot;, &quot;rms&quot;: 0.89, &quot;sig&quot;: 371, &quot;sources&quot;: &quot;,us,&quot;, &quot;status&quot;: &quot;reviewed&quot;, &quot;time&quot;: 1697270010141, &quot;title&quot;: &quot;M 4.9 - Taiwan region&quot;, &quot;tsunami&quot;: 0, &quot;type&quot;: &quot;earthquake&quot;, &quot;types&quot;: &quot;,dyfi,moment-tensor,origin,phase-data,&quot;, &quot;tz&quot;: null, &quot;updated&quot;: 1697417334296, &quot;url&quot;: &quot;https://earthquake.usgs.gov/earthquakes/eventpage/us6000lfi5&quot;}, &quot;type&quot;: &quot;Feature&quot;}, {&quot;bbox&quot;: [136.6634, 34.3404, 136.6634, 34.3404], &quot;geometry&quot;: {&quot;coordinates&quot;: [136.6634, 34.3404, 355.217], &quot;type&quot;: &quot;Point&quot;}, &quot;id&quot;: &quot;67&quot;, &quot;properties&quot;: {&quot;alert&quot;: null, &quot;cdi&quot;: null, &quot;code&quot;: &quot;6000lfi0&quot;, &quot;detail&quot;: &quot;https://earthquake.usgs.gov/earthquakes/feed/v1.0/detail/us6000lfi0.geojson&quot;, &quot;dmin&quot;: 1.051, &quot;felt&quot;: null, &quot;gap&quot;: 68.0, &quot;id&quot;: &quot;us6000lfi0&quot;, &quot;ids&quot;: &quot;,us6000lfi0,&quot;, &quot;mag&quot;: 4.1, &quot;magType&quot;: &quot;mb&quot;, &quot;mmi&quot;: null, &quot;net&quot;: &quot;us&quot;, &quot;nst&quot;: 29.0, &quot;place&quot;: &quot;western Honshu, Japan&quot;, &quot;rms&quot;: 0.73, &quot;sig&quot;: 259, &quot;sources&quot;: &quot;,us,&quot;, &quot;status&quot;: &quot;reviewed&quot;, &quot;time&quot;: 1697268179522, &quot;title&quot;: &quot;M 4.1 - western Honshu, Japan&quot;, &quot;tsunami&quot;: 0, &quot;type&quot;: &quot;earthquake&quot;, &quot;types&quot;: &quot;,origin,phase-data,&quot;, &quot;tz&quot;: null, &quot;updated&quot;: 1697285106040, &quot;url&quot;: &quot;https://earthquake.usgs.gov/earthquakes/eventpage/us6000lfi0&quot;}, &quot;type&quot;: &quot;Feature&quot;}, {&quot;bbox&quot;: [179.7323, -31.3282, 179.7323, -31.3282], &quot;geometry&quot;: {&quot;coordinates&quot;: [179.7323, -31.3282, 415.151], &quot;type&quot;: &quot;Point&quot;}, &quot;id&quot;: &quot;68&quot;, &quot;properties&quot;: {&quot;alert&quot;: &quot;green&quot;, &quot;cdi&quot;: null, &quot;code&quot;: &quot;6000lfhl&quot;, &quot;detail&quot;: &quot;https://earthquake.usgs.gov/earthquakes/feed/v1.0/detail/us6000lfhl.geojson&quot;, &quot;dmin&quot;: 2.892, &quot;felt&quot;: null, &quot;gap&quot;: 53.0, &quot;id&quot;: &quot;us6000lfhl&quot;, &quot;ids&quot;: &quot;,us6000lfhl,&quot;, &quot;mag&quot;: 5.7, &quot;magType&quot;: &quot;mww&quot;, &quot;mmi&quot;: 2.432, &quot;net&quot;: &quot;us&quot;, &quot;nst&quot;: 78.0, &quot;place&quot;: &quot;Kermadec Islands region&quot;, &quot;rms&quot;: 0.82, &quot;sig&quot;: 500, &quot;sources&quot;: &quot;,us,&quot;, &quot;status&quot;: &quot;reviewed&quot;, &quot;time&quot;: 1697265251230, &quot;title&quot;: &quot;M 5.7 - Kermadec Islands region&quot;, &quot;tsunami&quot;: 0, &quot;type&quot;: &quot;earthquake&quot;, &quot;types&quot;: &quot;,losspager,moment-tensor,origin,phase-data,shakemap,&quot;, &quot;tz&quot;: null, &quot;updated&quot;: 1697351834009, &quot;url&quot;: &quot;https://earthquake.usgs.gov/earthquakes/eventpage/us6000lfhl&quot;}, &quot;type&quot;: &quot;Feature&quot;}, {&quot;bbox&quot;: [-111.4905, 42.9594, -111.4905, 42.9594], &quot;geometry&quot;: {&quot;coordinates&quot;: [-111.4905, 42.9594, 6.272], &quot;type&quot;: &quot;Point&quot;}, &quot;id&quot;: &quot;69&quot;, &quot;properties&quot;: {&quot;alert&quot;: null, &quot;cdi&quot;: null, &quot;code&quot;: &quot;6000lfhi&quot;, &quot;detail&quot;: &quot;https://earthquake.usgs.gov/earthquakes/feed/v1.0/detail/us6000lfhi.geojson&quot;, &quot;dmin&quot;: 0.055, &quot;felt&quot;: null, &quot;gap&quot;: 67.0, &quot;id&quot;: &quot;us6000lfhi&quot;, &quot;ids&quot;: &quot;,us6000lfhi,&quot;, &quot;mag&quot;: 2.8, &quot;magType&quot;: &quot;ml&quot;, &quot;mmi&quot;: null, &quot;net&quot;: &quot;us&quot;, &quot;nst&quot;: 40.0, &quot;place&quot;: &quot;35 km NNE of Soda Springs, Idaho&quot;, &quot;rms&quot;: 0.53, &quot;sig&quot;: 121, &quot;sources&quot;: &quot;,us,&quot;, &quot;status&quot;: &quot;reviewed&quot;, &quot;time&quot;: 1697262990819, &quot;title&quot;: &quot;M 2.8 - 35 km NNE of Soda Springs, Idaho&quot;, &quot;tsunami&quot;: 0, &quot;type&quot;: &quot;earthquake&quot;, &quot;types&quot;: &quot;,origin,phase-data,&quot;, &quot;tz&quot;: null, &quot;updated&quot;: 1697263604040, &quot;url&quot;: &quot;https://earthquake.usgs.gov/earthquakes/eventpage/us6000lfhi&quot;}, &quot;type&quot;: &quot;Feature&quot;}, {&quot;bbox&quot;: [145.9583, -5.659, 145.9583, -5.659], &quot;geometry&quot;: {&quot;coordinates&quot;: [145.9583, -5.659, 67.53], &quot;type&quot;: &quot;Point&quot;}, &quot;id&quot;: &quot;70&quot;, &quot;properties&quot;: {&quot;alert&quot;: null, &quot;cdi&quot;: 2.0, &quot;code&quot;: &quot;6000lfhj&quot;, &quot;detail&quot;: &quot;https://earthquake.usgs.gov/earthquakes/feed/v1.0/detail/us6000lfhj.geojson&quot;, &quot;dmin&quot;: 6.102, &quot;felt&quot;: 1.0, &quot;gap&quot;: 63.0, &quot;id&quot;: &quot;us6000lfhj&quot;, &quot;ids&quot;: &quot;,us6000lfhj,&quot;, &quot;mag&quot;: 4.9, &quot;magType&quot;: &quot;mb&quot;, &quot;mmi&quot;: null, &quot;net&quot;: &quot;us&quot;, &quot;nst&quot;: 83.0, &quot;place&quot;: &quot;eastern New Guinea region, Papua New Guinea&quot;, &quot;rms&quot;: 0.67, &quot;sig&quot;: 370, &quot;sources&quot;: &quot;,us,&quot;, &quot;status&quot;: &quot;reviewed&quot;, &quot;time&quot;: 1697262969439, &quot;title&quot;: &quot;M 4.9 - eastern New Guinea region, Papua New Guinea&quot;, &quot;tsunami&quot;: 0, &quot;type&quot;: &quot;earthquake&quot;, &quot;types&quot;: &quot;,dyfi,origin,phase-data,&quot;, &quot;tz&quot;: null, &quot;updated&quot;: 1697346154902, &quot;url&quot;: &quot;https://earthquake.usgs.gov/earthquakes/eventpage/us6000lfhj&quot;}, &quot;type&quot;: &quot;Feature&quot;}, {&quot;bbox&quot;: [-25.6471, -60.4998, -25.6471, -60.4998], &quot;geometry&quot;: {&quot;coordinates&quot;: [-25.6471, -60.4998, 10.0], &quot;type&quot;: &quot;Point&quot;}, &quot;id&quot;: &quot;71&quot;, &quot;properties&quot;: {&quot;alert&quot;: null, &quot;cdi&quot;: null, &quot;code&quot;: &quot;6000lfhc&quot;, &quot;detail&quot;: &quot;https://earthquake.usgs.gov/earthquakes/feed/v1.0/detail/us6000lfhc.geojson&quot;, &quot;dmin&quot;: 17.705, &quot;felt&quot;: null, &quot;gap&quot;: 95.0, &quot;id&quot;: &quot;us6000lfhc&quot;, &quot;ids&quot;: &quot;,us6000lfhc,&quot;, &quot;mag&quot;: 4.8, &quot;magType&quot;: &quot;mb&quot;, &quot;mmi&quot;: null, &quot;net&quot;: &quot;us&quot;, &quot;nst&quot;: 38.0, &quot;place&quot;: &quot;South Sandwich Islands region&quot;, &quot;rms&quot;: 0.63, &quot;sig&quot;: 354, &quot;sources&quot;: &quot;,us,&quot;, &quot;status&quot;: &quot;reviewed&quot;, &quot;time&quot;: 1697261103079, &quot;title&quot;: &quot;M 4.8 - South Sandwich Islands region&quot;, &quot;tsunami&quot;: 0, &quot;type&quot;: &quot;earthquake&quot;, &quot;types&quot;: &quot;,origin,phase-data,&quot;, &quot;tz&quot;: null, &quot;updated&quot;: 1697261939040, &quot;url&quot;: &quot;https://earthquake.usgs.gov/earthquakes/eventpage/us6000lfhc&quot;}, &quot;type&quot;: &quot;Feature&quot;}, {&quot;bbox&quot;: [140.8365, 32.6693, 140.8365, 32.6693], &quot;geometry&quot;: {&quot;coordinates&quot;: [140.8365, 32.6693, 56.954], &quot;type&quot;: &quot;Point&quot;}, &quot;id&quot;: &quot;72&quot;, &quot;properties&quot;: {&quot;alert&quot;: null, &quot;cdi&quot;: null, &quot;code&quot;: &quot;6000lfh9&quot;, &quot;detail&quot;: &quot;https://earthquake.usgs.gov/earthquakes/feed/v1.0/detail/us6000lfh9.geojson&quot;, &quot;dmin&quot;: 0.969, &quot;felt&quot;: null, &quot;gap&quot;: 135.0, &quot;id&quot;: &quot;us6000lfh9&quot;, &quot;ids&quot;: &quot;,us6000lfh9,&quot;, &quot;mag&quot;: 4.8, &quot;magType&quot;: &quot;mb&quot;, &quot;mmi&quot;: null, &quot;net&quot;: &quot;us&quot;, &quot;nst&quot;: 55.0, &quot;place&quot;: &quot;271 km SSE of Tateyama, Japan&quot;, &quot;rms&quot;: 0.68, &quot;sig&quot;: 354, &quot;sources&quot;: &quot;,us,&quot;, &quot;status&quot;: &quot;reviewed&quot;, &quot;time&quot;: 1697257993692, &quot;title&quot;: &quot;M 4.8 - 271 km SSE of Tateyama, Japan&quot;, &quot;tsunami&quot;: 0, &quot;type&quot;: &quot;earthquake&quot;, &quot;types&quot;: &quot;,origin,phase-data,&quot;, &quot;tz&quot;: null, &quot;updated&quot;: 1697259647040, &quot;url&quot;: &quot;https://earthquake.usgs.gov/earthquakes/eventpage/us6000lfh9&quot;}, &quot;type&quot;: &quot;Feature&quot;}, {&quot;bbox&quot;: [24.2608, 34.435, 24.2608, 34.435], &quot;geometry&quot;: {&quot;coordinates&quot;: [24.2608, 34.435, 10.0], &quot;type&quot;: &quot;Point&quot;}, &quot;id&quot;: &quot;73&quot;, &quot;properties&quot;: {&quot;alert&quot;: null, &quot;cdi&quot;: null, &quot;code&quot;: &quot;6000lfh7&quot;, &quot;detail&quot;: &quot;https://earthquake.usgs.gov/earthquakes/feed/v1.0/detail/us6000lfh7.geojson&quot;, &quot;dmin&quot;: 0.996, &quot;felt&quot;: null, &quot;gap&quot;: 184.0, &quot;id&quot;: &quot;us6000lfh7&quot;, &quot;ids&quot;: &quot;,us6000lfh7,&quot;, &quot;mag&quot;: 4.1, &quot;magType&quot;: &quot;mb&quot;, &quot;mmi&quot;: null, &quot;net&quot;: &quot;us&quot;, &quot;nst&quot;: 29.0, &quot;place&quot;: &quot;47 km SSE of Kastr\\u00ed, Greece&quot;, &quot;rms&quot;: 1.21, &quot;sig&quot;: 259, &quot;sources&quot;: &quot;,us,&quot;, &quot;status&quot;: &quot;reviewed&quot;, &quot;time&quot;: 1697257210434, &quot;title&quot;: &quot;M 4.1 - 47 km SSE of Kastr\\u00ed, Greece&quot;, &quot;tsunami&quot;: 0, &quot;type&quot;: &quot;earthquake&quot;, &quot;types&quot;: &quot;,origin,phase-data,&quot;, &quot;tz&quot;: null, &quot;updated&quot;: 1697260191040, &quot;url&quot;: &quot;https://earthquake.usgs.gov/earthquakes/eventpage/us6000lfh7&quot;}, &quot;type&quot;: &quot;Feature&quot;}, {&quot;bbox&quot;: [-68.3063333333333, 17.9761666666667, -68.3063333333333, 17.9761666666667], &quot;geometry&quot;: {&quot;coordinates&quot;: [-68.3063333333333, 17.9761666666667, 11.95], &quot;type&quot;: &quot;Point&quot;}, &quot;id&quot;: &quot;74&quot;, &quot;properties&quot;: {&quot;alert&quot;: null, &quot;cdi&quot;: null, &quot;code&quot;: &quot;71428468&quot;, &quot;detail&quot;: &quot;https://earthquake.usgs.gov/earthquakes/feed/v1.0/detail/pr71428468.geojson&quot;, &quot;dmin&quot;: 0.3708, &quot;felt&quot;: null, &quot;gap&quot;: 216.0, &quot;id&quot;: &quot;pr71428468&quot;, &quot;ids&quot;: &quot;,us6000lfh6,pr71428468,&quot;, &quot;mag&quot;: 3.74, &quot;magType&quot;: &quot;md&quot;, &quot;mmi&quot;: null, &quot;net&quot;: &quot;pr&quot;, &quot;nst&quot;: 18.0, &quot;place&quot;: &quot;Dominican Republic region&quot;, &quot;rms&quot;: 0.19, &quot;sig&quot;: 215, &quot;sources&quot;: &quot;,us,pr,&quot;, &quot;status&quot;: &quot;reviewed&quot;, &quot;time&quot;: 1697255494070, &quot;title&quot;: &quot;M 3.7 - Dominican Republic region&quot;, &quot;tsunami&quot;: 0, &quot;type&quot;: &quot;earthquake&quot;, &quot;types&quot;: &quot;,origin,phase-data,&quot;, &quot;tz&quot;: null, &quot;updated&quot;: 1697276525010, &quot;url&quot;: &quot;https://earthquake.usgs.gov/earthquakes/eventpage/pr71428468&quot;}, &quot;type&quot;: &quot;Feature&quot;}, {&quot;bbox&quot;: [-145.0455, 63.7253, -145.0455, 63.7253], &quot;geometry&quot;: {&quot;coordinates&quot;: [-145.0455, 63.7253, 22.9], &quot;type&quot;: &quot;Point&quot;}, &quot;id&quot;: &quot;75&quot;, &quot;properties&quot;: {&quot;alert&quot;: null, &quot;cdi&quot;: null, &quot;code&quot;: &quot;023d6oows3&quot;, &quot;detail&quot;: &quot;https://earthquake.usgs.gov/earthquakes/feed/v1.0/detail/ak023d6oows3.geojson&quot;, &quot;dmin&quot;: null, &quot;felt&quot;: null, &quot;gap&quot;: null, &quot;id&quot;: &quot;ak023d6oows3&quot;, &quot;ids&quot;: &quot;,ak023d6oows3,&quot;, &quot;mag&quot;: 2.8, &quot;magType&quot;: &quot;ml&quot;, &quot;mmi&quot;: null, &quot;net&quot;: &quot;ak&quot;, &quot;nst&quot;: null, &quot;place&quot;: &quot;18 km SSE of Deltana, Alaska&quot;, &quot;rms&quot;: 0.92, &quot;sig&quot;: 121, &quot;sources&quot;: &quot;,ak,&quot;, &quot;status&quot;: &quot;automatic&quot;, &quot;time&quot;: 1697251444353, &quot;title&quot;: &quot;M 2.8 - 18 km SSE of Deltana, Alaska&quot;, &quot;tsunami&quot;: 0, &quot;type&quot;: &quot;earthquake&quot;, &quot;types&quot;: &quot;,origin,phase-data,&quot;, &quot;tz&quot;: null, &quot;updated&quot;: 1697251606263, &quot;url&quot;: &quot;https://earthquake.usgs.gov/earthquakes/eventpage/ak023d6oows3&quot;}, &quot;type&quot;: &quot;Feature&quot;}, {&quot;bbox&quot;: [142.1157, 41.4868, 142.1157, 41.4868], &quot;geometry&quot;: {&quot;coordinates&quot;: [142.1157, 41.4868, 61.485], &quot;type&quot;: &quot;Point&quot;}, &quot;id&quot;: &quot;76&quot;, &quot;properties&quot;: {&quot;alert&quot;: null, &quot;cdi&quot;: 2.2, &quot;code&quot;: &quot;6000lfgw&quot;, &quot;detail&quot;: &quot;https://earthquake.usgs.gov/earthquakes/feed/v1.0/detail/us6000lfgw.geojson&quot;, &quot;dmin&quot;: 0.941, &quot;felt&quot;: 1.0, &quot;gap&quot;: 127.0, &quot;id&quot;: &quot;us6000lfgw&quot;, &quot;ids&quot;: &quot;,us6000lfgw,&quot;, &quot;mag&quot;: 4.9, &quot;magType&quot;: &quot;mb&quot;, &quot;mmi&quot;: null, &quot;net&quot;: &quot;us&quot;, &quot;nst&quot;: 65.0, &quot;place&quot;: &quot;Hokkaido, Japan region&quot;, &quot;rms&quot;: 0.74, &quot;sig&quot;: 370, &quot;sources&quot;: &quot;,us,&quot;, &quot;status&quot;: &quot;reviewed&quot;, &quot;time&quot;: 1697250564932, &quot;title&quot;: &quot;M 4.9 - Hokkaido, Japan region&quot;, &quot;tsunami&quot;: 0, &quot;type&quot;: &quot;earthquake&quot;, &quot;types&quot;: &quot;,dyfi,origin,phase-data,&quot;, &quot;tz&quot;: null, &quot;updated&quot;: 1697252559741, &quot;url&quot;: &quot;https://earthquake.usgs.gov/earthquakes/eventpage/us6000lfgw&quot;}, &quot;type&quot;: &quot;Feature&quot;}, {&quot;bbox&quot;: [-98.6146, 16.5239, -98.6146, 16.5239], &quot;geometry&quot;: {&quot;coordinates&quot;: [-98.6146, 16.5239, 38.94], &quot;type&quot;: &quot;Point&quot;}, &quot;id&quot;: &quot;77&quot;, &quot;properties&quot;: {&quot;alert&quot;: null, &quot;cdi&quot;: 2.2, &quot;code&quot;: &quot;6000lfgt&quot;, &quot;detail&quot;: &quot;https://earthquake.usgs.gov/earthquakes/feed/v1.0/detail/us6000lfgt.geojson&quot;, &quot;dmin&quot;: 1.034, &quot;felt&quot;: 2.0, &quot;gap&quot;: 171.0, &quot;id&quot;: &quot;us6000lfgt&quot;, &quot;ids&quot;: &quot;,us6000lfgt,&quot;, &quot;mag&quot;: 4.8, &quot;magType&quot;: &quot;mb&quot;, &quot;mmi&quot;: null, &quot;net&quot;: &quot;us&quot;, &quot;nst&quot;: 50.0, &quot;place&quot;: &quot;9 km W of El Pitahayo, Mexico&quot;, &quot;rms&quot;: 1.08, &quot;sig&quot;: 355, &quot;sources&quot;: &quot;,us,&quot;, &quot;status&quot;: &quot;reviewed&quot;, &quot;time&quot;: 1697249161575, &quot;title&quot;: &quot;M 4.8 - 9 km W of El Pitahayo, Mexico&quot;, &quot;tsunami&quot;: 0, &quot;type&quot;: &quot;earthquake&quot;, &quot;types&quot;: &quot;,dyfi,origin,phase-data,&quot;, &quot;tz&quot;: null, &quot;updated&quot;: 1697345568561, &quot;url&quot;: &quot;https://earthquake.usgs.gov/earthquakes/eventpage/us6000lfgt&quot;}, &quot;type&quot;: &quot;Feature&quot;}, {&quot;bbox&quot;: [-179.1936, -21.15, -179.1936, -21.15], &quot;geometry&quot;: {&quot;coordinates&quot;: [-179.1936, -21.15, 604.338], &quot;type&quot;: &quot;Point&quot;}, &quot;id&quot;: &quot;78&quot;, &quot;properties&quot;: {&quot;alert&quot;: null, &quot;cdi&quot;: null, &quot;code&quot;: &quot;6000lfgv&quot;, &quot;detail&quot;: &quot;https://earthquake.usgs.gov/earthquakes/feed/v1.0/detail/us6000lfgv.geojson&quot;, &quot;dmin&quot;: 5.484, &quot;felt&quot;: null, &quot;gap&quot;: 108.0, &quot;id&quot;: &quot;us6000lfgv&quot;, &quot;ids&quot;: &quot;,us6000lfgv,&quot;, &quot;mag&quot;: 4.4, &quot;magType&quot;: &quot;mb&quot;, &quot;mmi&quot;: null, &quot;net&quot;: &quot;us&quot;, &quot;nst&quot;: 43.0, &quot;place&quot;: &quot;Fiji region&quot;, &quot;rms&quot;: 0.83, &quot;sig&quot;: 298, &quot;sources&quot;: &quot;,us,&quot;, &quot;status&quot;: &quot;reviewed&quot;, &quot;time&quot;: 1697249004905, &quot;title&quot;: &quot;M 4.4 - Fiji region&quot;, &quot;tsunami&quot;: 0, &quot;type&quot;: &quot;earthquake&quot;, &quot;types&quot;: &quot;,origin,phase-data,&quot;, &quot;tz&quot;: null, &quot;updated&quot;: 1697252867040, &quot;url&quot;: &quot;https://earthquake.usgs.gov/earthquakes/eventpage/us6000lfgv&quot;}, &quot;type&quot;: &quot;Feature&quot;}, {&quot;bbox&quot;: [-66.943, 17.9663333333333, -66.943, 17.9663333333333], &quot;geometry&quot;: {&quot;coordinates&quot;: [-66.943, 17.9663333333333, 12.78], &quot;type&quot;: &quot;Point&quot;}, &quot;id&quot;: &quot;79&quot;, &quot;properties&quot;: {&quot;alert&quot;: null, &quot;cdi&quot;: 2.7, &quot;code&quot;: &quot;71428443&quot;, &quot;detail&quot;: &quot;https://earthquake.usgs.gov/earthquakes/feed/v1.0/detail/pr71428443.geojson&quot;, &quot;dmin&quot;: 0.03322, &quot;felt&quot;: 4.0, &quot;gap&quot;: 183.0, &quot;id&quot;: &quot;pr71428443&quot;, &quot;ids&quot;: &quot;,pr71428443,&quot;, &quot;mag&quot;: 3.08, &quot;magType&quot;: &quot;md&quot;, &quot;mmi&quot;: null, &quot;net&quot;: &quot;pr&quot;, &quot;nst&quot;: 28.0, &quot;place&quot;: &quot;3 km SW of Fuig, Puerto Rico&quot;, &quot;rms&quot;: 0.17, &quot;sig&quot;: 147, &quot;sources&quot;: &quot;,pr,&quot;, &quot;status&quot;: &quot;reviewed&quot;, &quot;time&quot;: 1697241192670, &quot;title&quot;: &quot;M 3.1 - 3 km SW of Fuig, Puerto Rico&quot;, &quot;tsunami&quot;: 0, &quot;type&quot;: &quot;earthquake&quot;, &quot;types&quot;: &quot;,dyfi,origin,phase-data,&quot;, &quot;tz&quot;: null, &quot;updated&quot;: 1697345613921, &quot;url&quot;: &quot;https://earthquake.usgs.gov/earthquakes/eventpage/pr71428443&quot;}, &quot;type&quot;: &quot;Feature&quot;}, {&quot;bbox&quot;: [146.1329, -5.6408, 146.1329, -5.6408], &quot;geometry&quot;: {&quot;coordinates&quot;: [146.1329, -5.6408, 95.866], &quot;type&quot;: &quot;Point&quot;}, &quot;id&quot;: &quot;80&quot;, &quot;properties&quot;: {&quot;alert&quot;: null, &quot;cdi&quot;: 2.0, &quot;code&quot;: &quot;6000lfge&quot;, &quot;detail&quot;: &quot;https://earthquake.usgs.gov/earthquakes/feed/v1.0/detail/us6000lfge.geojson&quot;, &quot;dmin&quot;: 6.243, &quot;felt&quot;: 3.0, &quot;gap&quot;: 119.0, &quot;id&quot;: &quot;us6000lfge&quot;, &quot;ids&quot;: &quot;,us6000lfge,&quot;, &quot;mag&quot;: 4.4, &quot;magType&quot;: &quot;mb&quot;, &quot;mmi&quot;: null, &quot;net&quot;: &quot;us&quot;, &quot;nst&quot;: 30.0, &quot;place&quot;: &quot;60 km SE of Madang, Papua New Guinea&quot;, &quot;rms&quot;: 0.66, &quot;sig&quot;: 298, &quot;sources&quot;: &quot;,us,&quot;, &quot;status&quot;: &quot;reviewed&quot;, &quot;time&quot;: 1697241012273, &quot;title&quot;: &quot;M 4.4 - 60 km SE of Madang, Papua New Guinea&quot;, &quot;tsunami&quot;: 0, &quot;type&quot;: &quot;earthquake&quot;, &quot;types&quot;: &quot;,dyfi,origin,phase-data,&quot;, &quot;tz&quot;: null, &quot;updated&quot;: 1697345577103, &quot;url&quot;: &quot;https://earthquake.usgs.gov/earthquakes/eventpage/us6000lfge&quot;}, &quot;type&quot;: &quot;Feature&quot;}, {&quot;bbox&quot;: [-64.556, 18.8333, -64.556, 18.8333], &quot;geometry&quot;: {&quot;coordinates&quot;: [-64.556, 18.8333, 8.0], &quot;type&quot;: &quot;Point&quot;}, &quot;id&quot;: &quot;81&quot;, &quot;properties&quot;: {&quot;alert&quot;: null, &quot;cdi&quot;: null, &quot;code&quot;: &quot;2023286001&quot;, &quot;detail&quot;: &quot;https://earthquake.usgs.gov/earthquakes/feed/v1.0/detail/pr2023286001.geojson&quot;, &quot;dmin&quot;: 0.6258, &quot;felt&quot;: null, &quot;gap&quot;: 291.0, &quot;id&quot;: &quot;pr2023286001&quot;, &quot;ids&quot;: &quot;,us6000lfg8,pr2023286001,&quot;, &quot;mag&quot;: 3.56, &quot;magType&quot;: &quot;md&quot;, &quot;mmi&quot;: null, &quot;net&quot;: &quot;pr&quot;, &quot;nst&quot;: 16.0, &quot;place&quot;: &quot;60 km NNE of Cruz Bay, U.S. Virgin Islands&quot;, &quot;rms&quot;: 0.22, &quot;sig&quot;: 195, &quot;sources&quot;: &quot;,us,pr,&quot;, &quot;status&quot;: &quot;reviewed&quot;, &quot;time&quot;: 1697239944060, &quot;title&quot;: &quot;M 3.6 - 60 km NNE of Cruz Bay, U.S. Virgin Islands&quot;, &quot;tsunami&quot;: 0, &quot;type&quot;: &quot;earthquake&quot;, &quot;types&quot;: &quot;,origin,phase-data,&quot;, &quot;tz&quot;: null, &quot;updated&quot;: 1697244318040, &quot;url&quot;: &quot;https://earthquake.usgs.gov/earthquakes/eventpage/pr2023286001&quot;}, &quot;type&quot;: &quot;Feature&quot;}, {&quot;bbox&quot;: [-69.0769, -20.0538, -69.0769, -20.0538], &quot;geometry&quot;: {&quot;coordinates&quot;: [-69.0769, -20.0538, 104.322], &quot;type&quot;: &quot;Point&quot;}, &quot;id&quot;: &quot;82&quot;, &quot;properties&quot;: {&quot;alert&quot;: null, &quot;cdi&quot;: null, &quot;code&quot;: &quot;6000lfev&quot;, &quot;detail&quot;: &quot;https://earthquake.usgs.gov/earthquakes/feed/v1.0/detail/us6000lfev.geojson&quot;, &quot;dmin&quot;: 0.113, &quot;felt&quot;: null, &quot;gap&quot;: 76.0, &quot;id&quot;: &quot;us6000lfev&quot;, &quot;ids&quot;: &quot;,us6000lfev,&quot;, &quot;mag&quot;: 4.1, &quot;magType&quot;: &quot;mb&quot;, &quot;mmi&quot;: null, &quot;net&quot;: &quot;us&quot;, &quot;nst&quot;: 20.0, &quot;place&quot;: &quot;68 km ENE of La Tirana, Chile&quot;, &quot;rms&quot;: 0.77, &quot;sig&quot;: 259, &quot;sources&quot;: &quot;,us,&quot;, &quot;status&quot;: &quot;reviewed&quot;, &quot;time&quot;: 1697227331098, &quot;title&quot;: &quot;M 4.1 - 68 km ENE of La Tirana, Chile&quot;, &quot;tsunami&quot;: 0, &quot;type&quot;: &quot;earthquake&quot;, &quot;types&quot;: &quot;,origin,phase-data,&quot;, &quot;tz&quot;: null, &quot;updated&quot;: 1697316815040, &quot;url&quot;: &quot;https://earthquake.usgs.gov/earthquakes/eventpage/us6000lfev&quot;}, &quot;type&quot;: &quot;Feature&quot;}, {&quot;bbox&quot;: [-155.6265, 19.1931666666667, -155.6265, 19.1931666666667], &quot;geometry&quot;: {&quot;coordinates&quot;: [-155.6265, 19.1931666666667, 6.62], &quot;type&quot;: &quot;Point&quot;}, &quot;id&quot;: &quot;83&quot;, &quot;properties&quot;: {&quot;alert&quot;: null, &quot;cdi&quot;: 2.7, &quot;code&quot;: &quot;73607692&quot;, &quot;detail&quot;: &quot;https://earthquake.usgs.gov/earthquakes/feed/v1.0/detail/hv73607692.geojson&quot;, &quot;dmin&quot;: null, &quot;felt&quot;: 1.0, &quot;gap&quot;: 66.0, &quot;id&quot;: &quot;hv73607692&quot;, &quot;ids&quot;: &quot;,hv73607692,&quot;, &quot;mag&quot;: 2.61, &quot;magType&quot;: &quot;ml&quot;, &quot;mmi&quot;: null, &quot;net&quot;: &quot;hv&quot;, &quot;nst&quot;: 48.0, &quot;place&quot;: &quot;13 km N of Wai\\u2018\\u014dhinu, Hawaii&quot;, &quot;rms&quot;: 0.22, &quot;sig&quot;: 105, &quot;sources&quot;: &quot;,hv,&quot;, &quot;status&quot;: &quot;reviewed&quot;, &quot;time&quot;: 1697225988200, &quot;title&quot;: &quot;M 2.6 - 13 km N of Wai\\u2018\\u014dhinu, Hawaii&quot;, &quot;tsunami&quot;: 0, &quot;type&quot;: &quot;earthquake&quot;, &quot;types&quot;: &quot;,dyfi,origin,phase-data,&quot;, &quot;tz&quot;: null, &quot;updated&quot;: 1697231178636, &quot;url&quot;: &quot;https://earthquake.usgs.gov/earthquakes/eventpage/hv73607692&quot;}, &quot;type&quot;: &quot;Feature&quot;}, {&quot;bbox&quot;: [-150.5223, 61.2784, -150.5223, 61.2784], &quot;geometry&quot;: {&quot;coordinates&quot;: [-150.5223, 61.2784, 34.2], &quot;type&quot;: &quot;Point&quot;}, &quot;id&quot;: &quot;84&quot;, &quot;properties&quot;: {&quot;alert&quot;: null, &quot;cdi&quot;: null, &quot;code&quot;: &quot;023d5a523h&quot;, &quot;detail&quot;: &quot;https://earthquake.usgs.gov/earthquakes/feed/v1.0/detail/ak023d5a523h.geojson&quot;, &quot;dmin&quot;: null, &quot;felt&quot;: null, &quot;gap&quot;: null, &quot;id&quot;: &quot;ak023d5a523h&quot;, &quot;ids&quot;: &quot;,us6000lfdk,ak023d5a523h,&quot;, &quot;mag&quot;: 2.6, &quot;magType&quot;: &quot;ml&quot;, &quot;mmi&quot;: null, &quot;net&quot;: &quot;ak&quot;, &quot;nst&quot;: null, &quot;place&quot;: &quot;29 km S of Susitna, Alaska&quot;, &quot;rms&quot;: 0.23, &quot;sig&quot;: 104, &quot;sources&quot;: &quot;,us,ak,&quot;, &quot;status&quot;: &quot;automatic&quot;, &quot;time&quot;: 1697219614053, &quot;title&quot;: &quot;M 2.6 - 29 km S of Susitna, Alaska&quot;, &quot;tsunami&quot;: 0, &quot;type&quot;: &quot;earthquake&quot;, &quot;types&quot;: &quot;,origin,phase-data,&quot;, &quot;tz&quot;: null, &quot;updated&quot;: 1697316518040, &quot;url&quot;: &quot;https://earthquake.usgs.gov/earthquakes/eventpage/ak023d5a523h&quot;}, &quot;type&quot;: &quot;Feature&quot;}, {&quot;bbox&quot;: [61.9635, 34.5908, 61.9635, 34.5908], &quot;geometry&quot;: {&quot;coordinates&quot;: [61.9635, 34.5908, 10.0], &quot;type&quot;: &quot;Point&quot;}, &quot;id&quot;: &quot;85&quot;, &quot;properties&quot;: {&quot;alert&quot;: null, &quot;cdi&quot;: null, &quot;code&quot;: &quot;6000lfdf&quot;, &quot;detail&quot;: &quot;https://earthquake.usgs.gov/earthquakes/feed/v1.0/detail/us6000lfdf.geojson&quot;, &quot;dmin&quot;: 5.842, &quot;felt&quot;: null, &quot;gap&quot;: 92.0, &quot;id&quot;: &quot;us6000lfdf&quot;, &quot;ids&quot;: &quot;,us6000lfdf,&quot;, &quot;mag&quot;: 4.5, &quot;magType&quot;: &quot;mb&quot;, &quot;mmi&quot;: null, &quot;net&quot;: &quot;us&quot;, &quot;nst&quot;: 86.0, &quot;place&quot;: &quot;33 km NE of Zindah J\\u0101n, Afghanistan&quot;, &quot;rms&quot;: 0.69, &quot;sig&quot;: 312, &quot;sources&quot;: &quot;,us,&quot;, &quot;status&quot;: &quot;reviewed&quot;, &quot;time&quot;: 1697219103579, &quot;title&quot;: &quot;M 4.5 - 33 km NE of Zindah J\\u0101n, Afghanistan&quot;, &quot;tsunami&quot;: 0, &quot;type&quot;: &quot;earthquake&quot;, &quot;types&quot;: &quot;,origin,phase-data,&quot;, &quot;tz&quot;: null, &quot;updated&quot;: 1697315830040, &quot;url&quot;: &quot;https://earthquake.usgs.gov/earthquakes/eventpage/us6000lfdf&quot;}, &quot;type&quot;: &quot;Feature&quot;}, {&quot;bbox&quot;: [-155.939833333333, 20.0466666666667, -155.939833333333, 20.0466666666667], &quot;geometry&quot;: {&quot;coordinates&quot;: [-155.939833333333, 20.0466666666667, 6.18], &quot;type&quot;: &quot;Point&quot;}, &quot;id&quot;: &quot;86&quot;, &quot;properties&quot;: {&quot;alert&quot;: null, &quot;cdi&quot;: null, &quot;code&quot;: &quot;73607622&quot;, &quot;detail&quot;: &quot;https://earthquake.usgs.gov/earthquakes/feed/v1.0/detail/hv73607622.geojson&quot;, &quot;dmin&quot;: null, &quot;felt&quot;: null, &quot;gap&quot;: 184.0, &quot;id&quot;: &quot;hv73607622&quot;, &quot;ids&quot;: &quot;,us6000lfde,hv73607622,&quot;, &quot;mag&quot;: 2.59, &quot;magType&quot;: &quot;ml&quot;, &quot;mmi&quot;: null, &quot;net&quot;: &quot;hv&quot;, &quot;nst&quot;: 13.0, &quot;place&quot;: &quot;13 km NW of Puako, Hawaii&quot;, &quot;rms&quot;: 0.15, &quot;sig&quot;: 103, &quot;sources&quot;: &quot;,us,hv,&quot;, &quot;status&quot;: &quot;reviewed&quot;, &quot;time&quot;: 1697218759510, &quot;title&quot;: &quot;M 2.6 - 13 km NW of Puako, Hawaii&quot;, &quot;tsunami&quot;: 0, &quot;type&quot;: &quot;earthquake&quot;, &quot;types&quot;: &quot;,origin,phase-data,&quot;, &quot;tz&quot;: null, &quot;updated&quot;: 1697234836040, &quot;url&quot;: &quot;https://earthquake.usgs.gov/earthquakes/eventpage/hv73607622&quot;}, &quot;type&quot;: &quot;Feature&quot;}, {&quot;bbox&quot;: [-32.3529, 58.1973, -32.3529, 58.1973], &quot;geometry&quot;: {&quot;coordinates&quot;: [-32.3529, 58.1973, 10.0], &quot;type&quot;: &quot;Point&quot;}, &quot;id&quot;: &quot;87&quot;, &quot;properties&quot;: {&quot;alert&quot;: null, &quot;cdi&quot;: null, &quot;code&quot;: &quot;6000lfct&quot;, &quot;detail&quot;: &quot;https://earthquake.usgs.gov/earthquakes/feed/v1.0/detail/us6000lfct.geojson&quot;, &quot;dmin&quot;: 7.249, &quot;felt&quot;: null, &quot;gap&quot;: 125.0, &quot;id&quot;: &quot;us6000lfct&quot;, &quot;ids&quot;: &quot;,us6000lfct,&quot;, &quot;mag&quot;: 4.6, &quot;magType&quot;: &quot;mb&quot;, &quot;mmi&quot;: null, &quot;net&quot;: &quot;us&quot;, &quot;nst&quot;: 50.0, &quot;place&quot;: &quot;Reykjanes Ridge&quot;, &quot;rms&quot;: 0.77, &quot;sig&quot;: 326, &quot;sources&quot;: &quot;,us,&quot;, &quot;status&quot;: &quot;reviewed&quot;, &quot;time&quot;: 1697212658482, &quot;title&quot;: &quot;M 4.6 - Reykjanes Ridge&quot;, &quot;tsunami&quot;: 0, &quot;type&quot;: &quot;earthquake&quot;, &quot;types&quot;: &quot;,origin,phase-data,&quot;, &quot;tz&quot;: null, &quot;updated&quot;: 1697214234040, &quot;url&quot;: &quot;https://earthquake.usgs.gov/earthquakes/eventpage/us6000lfct&quot;}, &quot;type&quot;: &quot;Feature&quot;}, {&quot;bbox&quot;: [-151.1929, 61.2079, -151.1929, 61.2079], &quot;geometry&quot;: {&quot;coordinates&quot;: [-151.1929, 61.2079, 60.8], &quot;type&quot;: &quot;Point&quot;}, &quot;id&quot;: &quot;88&quot;, &quot;properties&quot;: {&quot;alert&quot;: null, &quot;cdi&quot;: null, &quot;code&quot;: &quot;023d58rpib&quot;, &quot;detail&quot;: &quot;https://earthquake.usgs.gov/earthquakes/feed/v1.0/detail/ak023d58rpib.geojson&quot;, &quot;dmin&quot;: null, &quot;felt&quot;: null, &quot;gap&quot;: null, &quot;id&quot;: &quot;ak023d58rpib&quot;, &quot;ids&quot;: &quot;,ak023d58rpib,&quot;, &quot;mag&quot;: 2.8, &quot;magType&quot;: &quot;ml&quot;, &quot;mmi&quot;: null, &quot;net&quot;: &quot;ak&quot;, &quot;nst&quot;: null, &quot;place&quot;: &quot;9 km NW of Beluga, Alaska&quot;, &quot;rms&quot;: 0.4, &quot;sig&quot;: 121, &quot;sources&quot;: &quot;,ak,&quot;, &quot;status&quot;: &quot;automatic&quot;, &quot;time&quot;: 1697210589249, &quot;title&quot;: &quot;M 2.8 - 9 km NW of Beluga, Alaska&quot;, &quot;tsunami&quot;: 0, &quot;type&quot;: &quot;earthquake&quot;, &quot;types&quot;: &quot;,origin,phase-data,&quot;, &quot;tz&quot;: null, &quot;updated&quot;: 1697210667604, &quot;url&quot;: &quot;https://earthquake.usgs.gov/earthquakes/eventpage/ak023d58rpib&quot;}, &quot;type&quot;: &quot;Feature&quot;}, {&quot;bbox&quot;: [-72.3642, -15.4066, -72.3642, -15.4066], &quot;geometry&quot;: {&quot;coordinates&quot;: [-72.3642, -15.4066, 105.791], &quot;type&quot;: &quot;Point&quot;}, &quot;id&quot;: &quot;89&quot;, &quot;properties&quot;: {&quot;alert&quot;: null, &quot;cdi&quot;: null, &quot;code&quot;: &quot;6000lfcl&quot;, &quot;detail&quot;: &quot;https://earthquake.usgs.gov/earthquakes/feed/v1.0/detail/us6000lfcl.geojson&quot;, &quot;dmin&quot;: 3.527, &quot;felt&quot;: null, &quot;gap&quot;: 128.0, &quot;id&quot;: &quot;us6000lfcl&quot;, &quot;ids&quot;: &quot;,us6000lfcl,&quot;, &quot;mag&quot;: 4.5, &quot;magType&quot;: &quot;mb&quot;, &quot;mmi&quot;: null, &quot;net&quot;: &quot;us&quot;, &quot;nst&quot;: 24.0, &quot;place&quot;: &quot;southern Peru&quot;, &quot;rms&quot;: 1.16, &quot;sig&quot;: 312, &quot;sources&quot;: &quot;,us,&quot;, &quot;status&quot;: &quot;reviewed&quot;, &quot;time&quot;: 1697206856587, &quot;title&quot;: &quot;M 4.5 - southern Peru&quot;, &quot;tsunami&quot;: 0, &quot;type&quot;: &quot;earthquake&quot;, &quot;types&quot;: &quot;,origin,phase-data,&quot;, &quot;tz&quot;: null, &quot;updated&quot;: 1697207992040, &quot;url&quot;: &quot;https://earthquake.usgs.gov/earthquakes/eventpage/us6000lfcl&quot;}, &quot;type&quot;: &quot;Feature&quot;}, {&quot;bbox&quot;: [-173.527, 52.2854, -173.527, 52.2854], &quot;geometry&quot;: {&quot;coordinates&quot;: [-173.527, 52.2854, 121.7], &quot;type&quot;: &quot;Point&quot;}, &quot;id&quot;: &quot;90&quot;, &quot;properties&quot;: {&quot;alert&quot;: null, &quot;cdi&quot;: null, &quot;code&quot;: &quot;023d584l4j&quot;, &quot;detail&quot;: &quot;https://earthquake.usgs.gov/earthquakes/feed/v1.0/detail/ak023d584l4j.geojson&quot;, &quot;dmin&quot;: null, &quot;felt&quot;: null, &quot;gap&quot;: null, &quot;id&quot;: &quot;ak023d584l4j&quot;, &quot;ids&quot;: &quot;,ak023d584l4j,&quot;, &quot;mag&quot;: 3.5, &quot;magType&quot;: &quot;ml&quot;, &quot;mmi&quot;: 2.506, &quot;net&quot;: &quot;ak&quot;, &quot;nst&quot;: null, &quot;place&quot;: &quot;47 km ENE of Atka, Alaska&quot;, &quot;rms&quot;: 0.64, &quot;sig&quot;: 188, &quot;sources&quot;: &quot;,ak,&quot;, &quot;status&quot;: &quot;reviewed&quot;, &quot;time&quot;: 1697206511675, &quot;title&quot;: &quot;M 3.5 - 47 km ENE of Atka, Alaska&quot;, &quot;tsunami&quot;: 0, &quot;type&quot;: &quot;earthquake&quot;, &quot;types&quot;: &quot;,origin,phase-data,shakemap,&quot;, &quot;tz&quot;: null, &quot;updated&quot;: 1697229953764, &quot;url&quot;: &quot;https://earthquake.usgs.gov/earthquakes/eventpage/ak023d584l4j&quot;}, &quot;type&quot;: &quot;Feature&quot;}, {&quot;bbox&quot;: [-125.949, 40.4191667, -125.949, 40.4191667], &quot;geometry&quot;: {&quot;coordinates&quot;: [-125.949, 40.4191667, 10.0], &quot;type&quot;: &quot;Point&quot;}, &quot;id&quot;: &quot;91&quot;, &quot;properties&quot;: {&quot;alert&quot;: null, &quot;cdi&quot;: 1.0, &quot;code&quot;: &quot;73946745&quot;, &quot;detail&quot;: &quot;https://earthquake.usgs.gov/earthquakes/feed/v1.0/detail/nc73946745.geojson&quot;, &quot;dmin&quot;: 1.231, &quot;felt&quot;: 1.0, &quot;gap&quot;: 277.0, &quot;id&quot;: &quot;nc73946745&quot;, &quot;ids&quot;: &quot;,nc73946745,&quot;, &quot;mag&quot;: 2.94, &quot;magType&quot;: &quot;ml&quot;, &quot;mmi&quot;: null, &quot;net&quot;: &quot;nc&quot;, &quot;nst&quot;: 46.0, &quot;place&quot;: &quot;141 km W of Petrolia, CA&quot;, &quot;rms&quot;: 0.27, &quot;sig&quot;: 133, &quot;sources&quot;: &quot;,nc,&quot;, &quot;status&quot;: &quot;reviewed&quot;, &quot;time&quot;: 1697206080440, &quot;title&quot;: &quot;M 2.9 - 141 km W of Petrolia, CA&quot;, &quot;tsunami&quot;: 0, &quot;type&quot;: &quot;earthquake&quot;, &quot;types&quot;: &quot;,dyfi,nearby-cities,origin,phase-data,scitech-link,&quot;, &quot;tz&quot;: null, &quot;updated&quot;: 1697412854811, &quot;url&quot;: &quot;https://earthquake.usgs.gov/earthquakes/eventpage/nc73946745&quot;}, &quot;type&quot;: &quot;Feature&quot;}, {&quot;bbox&quot;: [71.1857, 36.3836, 71.1857, 36.3836], &quot;geometry&quot;: {&quot;coordinates&quot;: [71.1857, 36.3836, 131.652], &quot;type&quot;: &quot;Point&quot;}, &quot;id&quot;: &quot;92&quot;, &quot;properties&quot;: {&quot;alert&quot;: null, &quot;cdi&quot;: 2.0, &quot;code&quot;: &quot;6000lfcd&quot;, &quot;detail&quot;: &quot;https://earthquake.usgs.gov/earthquakes/feed/v1.0/detail/us6000lfcd.geojson&quot;, &quot;dmin&quot;: 2.538, &quot;felt&quot;: 1.0, &quot;gap&quot;: 76.0, &quot;id&quot;: &quot;us6000lfcd&quot;, &quot;ids&quot;: &quot;,us6000lfcd,&quot;, &quot;mag&quot;: 4.5, &quot;magType&quot;: &quot;mb&quot;, &quot;mmi&quot;: null, &quot;net&quot;: &quot;us&quot;, &quot;nst&quot;: 23.0, &quot;place&quot;: &quot;45 km SW of Ashk\\u0101sham, Afghanistan&quot;, &quot;rms&quot;: 0.57, &quot;sig&quot;: 312, &quot;sources&quot;: &quot;,us,&quot;, &quot;status&quot;: &quot;reviewed&quot;, &quot;time&quot;: 1697203194735, &quot;title&quot;: &quot;M 4.5 - 45 km SW of Ashk\\u0101sham, Afghanistan&quot;, &quot;tsunami&quot;: 0, &quot;type&quot;: &quot;earthquake&quot;, &quot;types&quot;: &quot;,dyfi,origin,phase-data,&quot;, &quot;tz&quot;: null, &quot;updated&quot;: 1697220319164, &quot;url&quot;: &quot;https://earthquake.usgs.gov/earthquakes/eventpage/us6000lfcd&quot;}, &quot;type&quot;: &quot;Feature&quot;}, {&quot;bbox&quot;: [-178.4512, -17.8041, -178.4512, -17.8041], &quot;geometry&quot;: {&quot;coordinates&quot;: [-178.4512, -17.8041, 579.881], &quot;type&quot;: &quot;Point&quot;}, &quot;id&quot;: &quot;93&quot;, &quot;properties&quot;: {&quot;alert&quot;: null, &quot;cdi&quot;: null, &quot;code&quot;: &quot;6000lfc5&quot;, &quot;detail&quot;: &quot;https://earthquake.usgs.gov/earthquakes/feed/v1.0/detail/us6000lfc5.geojson&quot;, &quot;dmin&quot;: 4.374, &quot;felt&quot;: null, &quot;gap&quot;: 83.0, &quot;id&quot;: &quot;us6000lfc5&quot;, &quot;ids&quot;: &quot;,us6000lfc5,&quot;, &quot;mag&quot;: 4.2, &quot;magType&quot;: &quot;mb&quot;, &quot;mmi&quot;: null, &quot;net&quot;: &quot;us&quot;, &quot;nst&quot;: 40.0, &quot;place&quot;: &quot;238 km E of Levuka, Fiji&quot;, &quot;rms&quot;: 0.81, &quot;sig&quot;: 271, &quot;sources&quot;: &quot;,us,&quot;, &quot;status&quot;: &quot;reviewed&quot;, &quot;time&quot;: 1697198018530, &quot;title&quot;: &quot;M 4.2 - 238 km E of Levuka, Fiji&quot;, &quot;tsunami&quot;: 0, &quot;type&quot;: &quot;earthquake&quot;, &quot;types&quot;: &quot;,origin,phase-data,&quot;, &quot;tz&quot;: null, &quot;updated&quot;: 1697199554040, &quot;url&quot;: &quot;https://earthquake.usgs.gov/earthquakes/eventpage/us6000lfc5&quot;}, &quot;type&quot;: &quot;Feature&quot;}, {&quot;bbox&quot;: [-104.19, 31.677, -104.19, 31.677], &quot;geometry&quot;: {&quot;coordinates&quot;: [-104.19, 31.677, 6.093], &quot;type&quot;: &quot;Point&quot;}, &quot;id&quot;: &quot;94&quot;, &quot;properties&quot;: {&quot;alert&quot;: null, &quot;cdi&quot;: null, &quot;code&quot;: &quot;2023ubox&quot;, &quot;detail&quot;: &quot;https://earthquake.usgs.gov/earthquakes/feed/v1.0/detail/tx2023ubox.geojson&quot;, &quot;dmin&quot;: 0.1, &quot;felt&quot;: null, &quot;gap&quot;: 67.0, &quot;id&quot;: &quot;tx2023ubox&quot;, &quot;ids&quot;: &quot;,us6000lfby,tx2023ubox,&quot;, &quot;mag&quot;: 3.1, &quot;magType&quot;: &quot;ml(texnet)&quot;, &quot;mmi&quot;: null, &quot;net&quot;: &quot;tx&quot;, &quot;nst&quot;: 27.0, &quot;place&quot;: &quot;western Texas&quot;, &quot;rms&quot;: 0.1, &quot;sig&quot;: 148, &quot;sources&quot;: &quot;,us,tx,&quot;, &quot;status&quot;: &quot;reviewed&quot;, &quot;time&quot;: 1697196184862, &quot;title&quot;: &quot;M 3.1 - western Texas&quot;, &quot;tsunami&quot;: 0, &quot;type&quot;: &quot;earthquake&quot;, &quot;types&quot;: &quot;,origin,phase-data,&quot;, &quot;tz&quot;: null, &quot;updated&quot;: 1697206105234, &quot;url&quot;: &quot;https://earthquake.usgs.gov/earthquakes/eventpage/tx2023ubox&quot;}, &quot;type&quot;: &quot;Feature&quot;}, {&quot;bbox&quot;: [61.8689, 34.7942, 61.8689, 34.7942], &quot;geometry&quot;: {&quot;coordinates&quot;: [61.8689, 34.7942, 10.0], &quot;type&quot;: &quot;Point&quot;}, &quot;id&quot;: &quot;95&quot;, &quot;properties&quot;: {&quot;alert&quot;: null, &quot;cdi&quot;: null, &quot;code&quot;: &quot;6000lfc3&quot;, &quot;detail&quot;: &quot;https://earthquake.usgs.gov/earthquakes/feed/v1.0/detail/us6000lfc3.geojson&quot;, &quot;dmin&quot;: 5.918, &quot;felt&quot;: null, &quot;gap&quot;: 115.0, &quot;id&quot;: &quot;us6000lfc3&quot;, &quot;ids&quot;: &quot;,us6000lfc3,&quot;, &quot;mag&quot;: 4.2, &quot;magType&quot;: &quot;mb&quot;, &quot;mmi&quot;: null, &quot;net&quot;: &quot;us&quot;, &quot;nst&quot;: 37.0, &quot;place&quot;: &quot;18 km SSE of Qarah B\\u0101gh, Afghanistan&quot;, &quot;rms&quot;: 0.51, &quot;sig&quot;: 271, &quot;sources&quot;: &quot;,us,&quot;, &quot;status&quot;: &quot;reviewed&quot;, &quot;time&quot;: 1697195610979, &quot;title&quot;: &quot;M 4.2 - 18 km SSE of Qarah B\\u0101gh, Afghanistan&quot;, &quot;tsunami&quot;: 0, &quot;type&quot;: &quot;earthquake&quot;, &quot;types&quot;: &quot;,origin,phase-data,&quot;, &quot;tz&quot;: null, &quot;updated&quot;: 1697198400040, &quot;url&quot;: &quot;https://earthquake.usgs.gov/earthquakes/eventpage/us6000lfc3&quot;}, &quot;type&quot;: &quot;Feature&quot;}, {&quot;bbox&quot;: [-154.814, 67.1781, -154.814, 67.1781], &quot;geometry&quot;: {&quot;coordinates&quot;: [-154.814, 67.1781, 1.1], &quot;type&quot;: &quot;Point&quot;}, &quot;id&quot;: &quot;96&quot;, &quot;properties&quot;: {&quot;alert&quot;: null, &quot;cdi&quot;: null, &quot;code&quot;: &quot;023d55ukta&quot;, &quot;detail&quot;: &quot;https://earthquake.usgs.gov/earthquakes/feed/v1.0/detail/ak023d55ukta.geojson&quot;, &quot;dmin&quot;: null, &quot;felt&quot;: null, &quot;gap&quot;: null, &quot;id&quot;: &quot;ak023d55ukta&quot;, &quot;ids&quot;: &quot;,ak023d55ukta,&quot;, &quot;mag&quot;: 2.5, &quot;magType&quot;: &quot;ml&quot;, &quot;mmi&quot;: null, &quot;net&quot;: &quot;ak&quot;, &quot;nst&quot;: null, &quot;place&quot;: &quot;94 km ENE of Kobuk, Alaska&quot;, &quot;rms&quot;: 0.7, &quot;sig&quot;: 96, &quot;sources&quot;: &quot;,ak,&quot;, &quot;status&quot;: &quot;automatic&quot;, &quot;time&quot;: 1697193179821, &quot;title&quot;: &quot;M 2.5 - 94 km ENE of Kobuk, Alaska&quot;, &quot;tsunami&quot;: 0, &quot;type&quot;: &quot;earthquake&quot;, &quot;types&quot;: &quot;,origin,phase-data,&quot;, &quot;tz&quot;: null, &quot;updated&quot;: 1697193365166, &quot;url&quot;: &quot;https://earthquake.usgs.gov/earthquakes/eventpage/ak023d55ukta&quot;}, &quot;type&quot;: &quot;Feature&quot;}, {&quot;bbox&quot;: [73.9805, 37.7761, 73.9805, 37.7761], &quot;geometry&quot;: {&quot;coordinates&quot;: [73.9805, 37.7761, 85.91], &quot;type&quot;: &quot;Point&quot;}, &quot;id&quot;: &quot;97&quot;, &quot;properties&quot;: {&quot;alert&quot;: null, &quot;cdi&quot;: null, &quot;code&quot;: &quot;6000lfbn&quot;, &quot;detail&quot;: &quot;https://earthquake.usgs.gov/earthquakes/feed/v1.0/detail/us6000lfbn.geojson&quot;, &quot;dmin&quot;: 2.409, &quot;felt&quot;: null, &quot;gap&quot;: 69.0, &quot;id&quot;: &quot;us6000lfbn&quot;, &quot;ids&quot;: &quot;,us6000lfbn,&quot;, &quot;mag&quot;: 4.4, &quot;magType&quot;: &quot;mb&quot;, &quot;mmi&quot;: null, &quot;net&quot;: &quot;us&quot;, &quot;nst&quot;: 35.0, &quot;place&quot;: &quot;43 km S of Murghob, Tajikistan&quot;, &quot;rms&quot;: 0.36, &quot;sig&quot;: 298, &quot;sources&quot;: &quot;,us,&quot;, &quot;status&quot;: &quot;reviewed&quot;, &quot;time&quot;: 1697192141853, &quot;title&quot;: &quot;M 4.4 - 43 km S of Murghob, Tajikistan&quot;, &quot;tsunami&quot;: 0, &quot;type&quot;: &quot;earthquake&quot;, &quot;types&quot;: &quot;,origin,phase-data,&quot;, &quot;tz&quot;: null, &quot;updated&quot;: 1697207685040, &quot;url&quot;: &quot;https://earthquake.usgs.gov/earthquakes/eventpage/us6000lfbn&quot;}, &quot;type&quot;: &quot;Feature&quot;}, {&quot;bbox&quot;: [140.1595, 41.0801, 140.1595, 41.0801], &quot;geometry&quot;: {&quot;coordinates&quot;: [140.1595, 41.0801, 172.478], &quot;type&quot;: &quot;Point&quot;}, &quot;id&quot;: &quot;98&quot;, &quot;properties&quot;: {&quot;alert&quot;: null, &quot;cdi&quot;: 2.0, &quot;code&quot;: &quot;6000lfbl&quot;, &quot;detail&quot;: &quot;https://earthquake.usgs.gov/earthquakes/feed/v1.0/detail/us6000lfbl.geojson&quot;, &quot;dmin&quot;: 0.745, &quot;felt&quot;: 1.0, &quot;gap&quot;: 28.0, &quot;id&quot;: &quot;us6000lfbl&quot;, &quot;ids&quot;: &quot;,us6000lfbl,&quot;, &quot;mag&quot;: 5.0, &quot;magType&quot;: &quot;mww&quot;, &quot;mmi&quot;: null, &quot;net&quot;: &quot;us&quot;, &quot;nst&quot;: 90.0, &quot;place&quot;: &quot;29 km WSW of Imabetsu, Japan&quot;, &quot;rms&quot;: 0.97, &quot;sig&quot;: 385, &quot;sources&quot;: &quot;,us,&quot;, &quot;status&quot;: &quot;reviewed&quot;, &quot;time&quot;: 1697191191988, &quot;title&quot;: &quot;M 5.0 - 29 km WSW of Imabetsu, Japan&quot;, &quot;tsunami&quot;: 0, &quot;type&quot;: &quot;earthquake&quot;, &quot;types&quot;: &quot;,dyfi,origin,phase-data,&quot;, &quot;tz&quot;: null, &quot;updated&quot;: 1697193173136, &quot;url&quot;: &quot;https://earthquake.usgs.gov/earthquakes/eventpage/us6000lfbl&quot;}, &quot;type&quot;: &quot;Feature&quot;}, {&quot;bbox&quot;: [179.9884, -23.5137, 179.9884, -23.5137], &quot;geometry&quot;: {&quot;coordinates&quot;: [179.9884, -23.5137, 554.733], &quot;type&quot;: &quot;Point&quot;}, &quot;id&quot;: &quot;99&quot;, &quot;properties&quot;: {&quot;alert&quot;: null, &quot;cdi&quot;: null, &quot;code&quot;: &quot;6000lfbg&quot;, &quot;detail&quot;: &quot;https://earthquake.usgs.gov/earthquakes/feed/v1.0/detail/us6000lfbg.geojson&quot;, &quot;dmin&quot;: 6.024, &quot;felt&quot;: null, &quot;gap&quot;: 59.0, &quot;id&quot;: &quot;us6000lfbg&quot;, &quot;ids&quot;: &quot;,us6000lfbg,&quot;, &quot;mag&quot;: 5.2, &quot;magType&quot;: &quot;mww&quot;, &quot;mmi&quot;: null, &quot;net&quot;: &quot;us&quot;, &quot;nst&quot;: 95.0, &quot;place&quot;: &quot;south of the Fiji Islands&quot;, &quot;rms&quot;: 0.65, &quot;sig&quot;: 416, &quot;sources&quot;: &quot;,us,&quot;, &quot;status&quot;: &quot;reviewed&quot;, &quot;time&quot;: 1697187274504, &quot;title&quot;: &quot;M 5.2 - south of the Fiji Islands&quot;, &quot;tsunami&quot;: 0, &quot;type&quot;: &quot;earthquake&quot;, &quot;types&quot;: &quot;,origin,phase-data,&quot;, &quot;tz&quot;: null, &quot;updated&quot;: 1697188339040, &quot;url&quot;: &quot;https://earthquake.usgs.gov/earthquakes/eventpage/us6000lfbg&quot;}, &quot;type&quot;: &quot;Feature&quot;}, {&quot;bbox&quot;: [-110.86483, 44.3078346, -110.86483, 44.3078346], &quot;geometry&quot;: {&quot;coordinates&quot;: [-110.86483, 44.3078346, 6.89], &quot;type&quot;: &quot;Point&quot;}, &quot;id&quot;: &quot;100&quot;, &quot;properties&quot;: {&quot;alert&quot;: null, &quot;cdi&quot;: 2.9, &quot;code&quot;: &quot;60552132&quot;, &quot;detail&quot;: &quot;https://earthquake.usgs.gov/earthquakes/feed/v1.0/detail/uu60552132.geojson&quot;, &quot;dmin&quot;: 0.145, &quot;felt&quot;: 4.0, &quot;gap&quot;: 88.0, &quot;id&quot;: &quot;uu60552132&quot;, &quot;ids&quot;: &quot;,uu60552132,us6000lfbd,&quot;, &quot;mag&quot;: 2.54, &quot;magType&quot;: &quot;ml&quot;, &quot;mmi&quot;: null, &quot;net&quot;: &quot;uu&quot;, &quot;nst&quot;: 25.0, &quot;place&quot;: &quot;42 km ENE of Warm River, Idaho&quot;, &quot;rms&quot;: 0.31, &quot;sig&quot;: 100, &quot;sources&quot;: &quot;,uu,us,&quot;, &quot;status&quot;: &quot;reviewed&quot;, &quot;time&quot;: 1697184265900, &quot;title&quot;: &quot;M 2.5 - 42 km ENE of Warm River, Idaho&quot;, &quot;tsunami&quot;: 0, &quot;type&quot;: &quot;earthquake&quot;, &quot;types&quot;: &quot;,dyfi,origin,phase-data,&quot;, &quot;tz&quot;: null, &quot;updated&quot;: 1697201993882, &quot;url&quot;: &quot;https://earthquake.usgs.gov/earthquakes/eventpage/uu60552132&quot;}, &quot;type&quot;: &quot;Feature&quot;}, {&quot;bbox&quot;: [124.0155, -8.9118, 124.0155, -8.9118], &quot;geometry&quot;: {&quot;coordinates&quot;: [124.0155, -8.9118, 113.397], &quot;type&quot;: &quot;Point&quot;}, &quot;id&quot;: &quot;101&quot;, &quot;properties&quot;: {&quot;alert&quot;: null, &quot;cdi&quot;: null, &quot;code&quot;: &quot;6000lfb1&quot;, &quot;detail&quot;: &quot;https://earthquake.usgs.gov/earthquakes/feed/v1.0/detail/us6000lfb1.geojson&quot;, &quot;dmin&quot;: 0.874, &quot;felt&quot;: null, &quot;gap&quot;: 126.0, &quot;id&quot;: &quot;us6000lfb1&quot;, &quot;ids&quot;: &quot;,us6000lfb1,&quot;, &quot;mag&quot;: 4.4, &quot;magType&quot;: &quot;mb&quot;, &quot;mmi&quot;: null, &quot;net&quot;: &quot;us&quot;, &quot;nst&quot;: 15.0, &quot;place&quot;: &quot;Kepulauan Alor, Indonesia&quot;, &quot;rms&quot;: 0.56, &quot;sig&quot;: 298, &quot;sources&quot;: &quot;,us,&quot;, &quot;status&quot;: &quot;reviewed&quot;, &quot;time&quot;: 1697175679471, &quot;title&quot;: &quot;M 4.4 - Kepulauan Alor, Indonesia&quot;, &quot;tsunami&quot;: 0, &quot;type&quot;: &quot;earthquake&quot;, &quot;types&quot;: &quot;,origin,phase-data,&quot;, &quot;tz&quot;: null, &quot;updated&quot;: 1697200021040, &quot;url&quot;: &quot;https://earthquake.usgs.gov/earthquakes/eventpage/us6000lfb1&quot;}, &quot;type&quot;: &quot;Feature&quot;}, {&quot;bbox&quot;: [-68.9838, 18.1306, -68.9838, 18.1306], &quot;geometry&quot;: {&quot;coordinates&quot;: [-68.9838, 18.1306, 90.0], &quot;type&quot;: &quot;Point&quot;}, &quot;id&quot;: &quot;102&quot;, &quot;properties&quot;: {&quot;alert&quot;: null, &quot;cdi&quot;: null, &quot;code&quot;: &quot;2023286000&quot;, &quot;detail&quot;: &quot;https://earthquake.usgs.gov/earthquakes/feed/v1.0/detail/pr2023286000.geojson&quot;, &quot;dmin&quot;: 0.714, &quot;felt&quot;: null, &quot;gap&quot;: 322.0, &quot;id&quot;: &quot;pr2023286000&quot;, &quot;ids&quot;: &quot;,pr2023286000,&quot;, &quot;mag&quot;: 3.88, &quot;magType&quot;: &quot;md&quot;, &quot;mmi&quot;: null, &quot;net&quot;: &quot;pr&quot;, &quot;nst&quot;: 11.0, &quot;place&quot;: &quot;32 km S of La Romana, Dominican Republic&quot;, &quot;rms&quot;: 0.47, &quot;sig&quot;: 232, &quot;sources&quot;: &quot;,pr,&quot;, &quot;status&quot;: &quot;reviewed&quot;, &quot;time&quot;: 1697174456030, &quot;title&quot;: &quot;M 3.9 - 32 km S of La Romana, Dominican Republic&quot;, &quot;tsunami&quot;: 0, &quot;type&quot;: &quot;earthquake&quot;, &quot;types&quot;: &quot;,origin,phase-data,&quot;, &quot;tz&quot;: null, &quot;updated&quot;: 1697176719596, &quot;url&quot;: &quot;https://earthquake.usgs.gov/earthquakes/eventpage/pr2023286000&quot;}, &quot;type&quot;: &quot;Feature&quot;}, {&quot;bbox&quot;: [-79.1076, -2.9053, -79.1076, -2.9053], &quot;geometry&quot;: {&quot;coordinates&quot;: [-79.1076, -2.9053, 89.439], &quot;type&quot;: &quot;Point&quot;}, &quot;id&quot;: &quot;103&quot;, &quot;properties&quot;: {&quot;alert&quot;: null, &quot;cdi&quot;: null, &quot;code&quot;: &quot;6000lfa8&quot;, &quot;detail&quot;: &quot;https://earthquake.usgs.gov/earthquakes/feed/v1.0/detail/us6000lfa8.geojson&quot;, &quot;dmin&quot;: 1.151, &quot;felt&quot;: null, &quot;gap&quot;: 98.0, &quot;id&quot;: &quot;us6000lfa8&quot;, &quot;ids&quot;: &quot;,us6000lfa8,&quot;, &quot;mag&quot;: 4.4, &quot;magType&quot;: &quot;mb&quot;, &quot;mmi&quot;: null, &quot;net&quot;: &quot;us&quot;, &quot;nst&quot;: 21.0, &quot;place&quot;: &quot;near the coast of Ecuador&quot;, &quot;rms&quot;: 0.63, &quot;sig&quot;: 298, &quot;sources&quot;: &quot;,us,&quot;, &quot;status&quot;: &quot;reviewed&quot;, &quot;time&quot;: 1697169614319, &quot;title&quot;: &quot;M 4.4 - near the coast of Ecuador&quot;, &quot;tsunami&quot;: 0, &quot;type&quot;: &quot;earthquake&quot;, &quot;types&quot;: &quot;,origin,phase-data,&quot;, &quot;tz&quot;: null, &quot;updated&quot;: 1697244821040, &quot;url&quot;: &quot;https://earthquake.usgs.gov/earthquakes/eventpage/us6000lfa8&quot;}, &quot;type&quot;: &quot;Feature&quot;}, {&quot;bbox&quot;: [139.4955, -51.8028, 139.4955, -51.8028], &quot;geometry&quot;: {&quot;coordinates&quot;: [139.4955, -51.8028, 4.864], &quot;type&quot;: &quot;Point&quot;}, &quot;id&quot;: &quot;104&quot;, &quot;properties&quot;: {&quot;alert&quot;: &quot;green&quot;, &quot;cdi&quot;: null, &quot;code&quot;: &quot;6000lf9x&quot;, &quot;detail&quot;: &quot;https://earthquake.usgs.gov/earthquakes/feed/v1.0/detail/us6000lf9x.geojson&quot;, &quot;dmin&quot;: 10.353, &quot;felt&quot;: null, &quot;gap&quot;: 94.0, &quot;id&quot;: &quot;us6000lf9x&quot;, &quot;ids&quot;: &quot;,us6000lf9x,&quot;, &quot;mag&quot;: 6.0, &quot;magType&quot;: &quot;mww&quot;, &quot;mmi&quot;: 0.0, &quot;net&quot;: &quot;us&quot;, &quot;nst&quot;: 44.0, &quot;place&quot;: &quot;western Indian-Antarctic Ridge&quot;, &quot;rms&quot;: 0.8, &quot;sig&quot;: 554, &quot;sources&quot;: &quot;,us,&quot;, &quot;status&quot;: &quot;reviewed&quot;, &quot;time&quot;: 1697168672333, &quot;title&quot;: &quot;M 6.0 - western Indian-Antarctic Ridge&quot;, &quot;tsunami&quot;: 0, &quot;type&quot;: &quot;earthquake&quot;, &quot;types&quot;: &quot;,losspager,moment-tensor,origin,phase-data,shakemap,&quot;, &quot;tz&quot;: null, &quot;updated&quot;: 1697255283879, &quot;url&quot;: &quot;https://earthquake.usgs.gov/earthquakes/eventpage/us6000lf9x&quot;}, &quot;type&quot;: &quot;Feature&quot;}, {&quot;bbox&quot;: [24.1204, 37.8749, 24.1204, 37.8749], &quot;geometry&quot;: {&quot;coordinates&quot;: [24.1204, 37.8749, 10.0], &quot;type&quot;: &quot;Point&quot;}, &quot;id&quot;: &quot;105&quot;, &quot;properties&quot;: {&quot;alert&quot;: null, &quot;cdi&quot;: 3.8, &quot;code&quot;: &quot;6000lf9u&quot;, &quot;detail&quot;: &quot;https://earthquake.usgs.gov/earthquakes/feed/v1.0/detail/us6000lf9u.geojson&quot;, &quot;dmin&quot;: 1.878, &quot;felt&quot;: 12.0, &quot;gap&quot;: 73.0, &quot;id&quot;: &quot;us6000lf9u&quot;, &quot;ids&quot;: &quot;,us6000lf9u,&quot;, &quot;mag&quot;: 4.4, &quot;magType&quot;: &quot;mb&quot;, &quot;mmi&quot;: null, &quot;net&quot;: &quot;us&quot;, &quot;nst&quot;: 32.0, &quot;place&quot;: &quot;10 km E of Lim\\u00edn Mesoya\\u00edas, Greece&quot;, &quot;rms&quot;: 0.9, &quot;sig&quot;: 302, &quot;sources&quot;: &quot;,us,&quot;, &quot;status&quot;: &quot;reviewed&quot;, &quot;time&quot;: 1697167994607, &quot;title&quot;: &quot;M 4.4 - 10 km E of Lim\\u00edn Mesoya\\u00edas, Greece&quot;, &quot;tsunami&quot;: 0, &quot;type&quot;: &quot;earthquake&quot;, &quot;types&quot;: &quot;,dyfi,origin,phase-data,&quot;, &quot;tz&quot;: null, &quot;updated&quot;: 1697224109333, &quot;url&quot;: &quot;https://earthquake.usgs.gov/earthquakes/eventpage/us6000lf9u&quot;}, &quot;type&quot;: &quot;Feature&quot;}, {&quot;bbox&quot;: [-156.1185, 20.1023333333333, -156.1185, 20.1023333333333], &quot;geometry&quot;: {&quot;coordinates&quot;: [-156.1185, 20.1023333333333, 39.91], &quot;type&quot;: &quot;Point&quot;}, &quot;id&quot;: &quot;106&quot;, &quot;properties&quot;: {&quot;alert&quot;: null, &quot;cdi&quot;: 2.7, &quot;code&quot;: &quot;73607242&quot;, &quot;detail&quot;: &quot;https://earthquake.usgs.gov/earthquakes/feed/v1.0/detail/hv73607242.geojson&quot;, &quot;dmin&quot;: null, &quot;felt&quot;: 2.0, &quot;gap&quot;: 261.0, &quot;id&quot;: &quot;hv73607242&quot;, &quot;ids&quot;: &quot;,hv73607242,us6000lf9r,&quot;, &quot;mag&quot;: 3.2, &quot;magType&quot;: &quot;ml&quot;, &quot;mmi&quot;: null, &quot;net&quot;: &quot;hv&quot;, &quot;nst&quot;: 52.0, &quot;place&quot;: &quot;32 km WNW of Puako, Hawaii&quot;, &quot;rms&quot;: 0.14, &quot;sig&quot;: 158, &quot;sources&quot;: &quot;,hv,us,&quot;, &quot;status&quot;: &quot;reviewed&quot;, &quot;time&quot;: 1697167710720, &quot;title&quot;: &quot;M 3.2 - 32 km WNW of Puako, Hawaii&quot;, &quot;tsunami&quot;: 0, &quot;type&quot;: &quot;earthquake&quot;, &quot;types&quot;: &quot;,dyfi,origin,phase-data,&quot;, &quot;tz&quot;: null, &quot;updated&quot;: 1697233344310, &quot;url&quot;: &quot;https://earthquake.usgs.gov/earthquakes/eventpage/hv73607242&quot;}, &quot;type&quot;: &quot;Feature&quot;}, {&quot;bbox&quot;: [-101.088, 32.325, -101.088, 32.325], &quot;geometry&quot;: {&quot;coordinates&quot;: [-101.088, 32.325, 11.9584], &quot;type&quot;: &quot;Point&quot;}, &quot;id&quot;: &quot;107&quot;, &quot;properties&quot;: {&quot;alert&quot;: null, &quot;cdi&quot;: null, &quot;code&quot;: &quot;2023uazh&quot;, &quot;detail&quot;: &quot;https://earthquake.usgs.gov/earthquakes/feed/v1.0/detail/tx2023uazh.geojson&quot;, &quot;dmin&quot;: 0.2, &quot;felt&quot;: null, &quot;gap&quot;: 44.0, &quot;id&quot;: &quot;tx2023uazh&quot;, &quot;ids&quot;: &quot;,us6000lf9q,tx2023uazh,&quot;, &quot;mag&quot;: 2.8, &quot;magType&quot;: &quot;ml(texnet)&quot;, &quot;mmi&quot;: null, &quot;net&quot;: &quot;tx&quot;, &quot;nst&quot;: 43.0, &quot;place&quot;: &quot;western Texas&quot;, &quot;rms&quot;: 0.2, &quot;sig&quot;: 121, &quot;sources&quot;: &quot;,us,tx,&quot;, &quot;status&quot;: &quot;reviewed&quot;, &quot;time&quot;: 1697167670614, &quot;title&quot;: &quot;M 2.8 - western Texas&quot;, &quot;tsunami&quot;: 0, &quot;type&quot;: &quot;earthquake&quot;, &quot;types&quot;: &quot;,origin,phase-data,&quot;, &quot;tz&quot;: null, &quot;updated&quot;: 1697194267183, &quot;url&quot;: &quot;https://earthquake.usgs.gov/earthquakes/eventpage/tx2023uazh&quot;}, &quot;type&quot;: &quot;Feature&quot;}, {&quot;bbox&quot;: [-66.2648333333333, 18.9655, -66.2648333333333, 18.9655], &quot;geometry&quot;: {&quot;coordinates&quot;: [-66.2648333333333, 18.9655, 26.4], &quot;type&quot;: &quot;Point&quot;}, &quot;id&quot;: &quot;108&quot;, &quot;properties&quot;: {&quot;alert&quot;: null, &quot;cdi&quot;: null, &quot;code&quot;: &quot;71428373&quot;, &quot;detail&quot;: &quot;https://earthquake.usgs.gov/earthquakes/feed/v1.0/detail/pr71428373.geojson&quot;, &quot;dmin&quot;: 0.5467, &quot;felt&quot;: null, &quot;gap&quot;: 262.0, &quot;id&quot;: &quot;pr71428373&quot;, &quot;ids&quot;: &quot;,pr71428373,&quot;, &quot;mag&quot;: 3.18, &quot;magType&quot;: &quot;md&quot;, &quot;mmi&quot;: null, &quot;net&quot;: &quot;pr&quot;, &quot;nst&quot;: 19.0, &quot;place&quot;: &quot;55 km N of Brenas, Puerto Rico&quot;, &quot;rms&quot;: 0.18, &quot;sig&quot;: 156, &quot;sources&quot;: &quot;,pr,&quot;, &quot;status&quot;: &quot;reviewed&quot;, &quot;time&quot;: 1697167463700, &quot;title&quot;: &quot;M 3.2 - 55 km N of Brenas, Puerto Rico&quot;, &quot;tsunami&quot;: 0, &quot;type&quot;: &quot;earthquake&quot;, &quot;types&quot;: &quot;,origin,phase-data,&quot;, &quot;tz&quot;: null, &quot;updated&quot;: 1697168868170, &quot;url&quot;: &quot;https://earthquake.usgs.gov/earthquakes/eventpage/pr71428373&quot;}, &quot;type&quot;: &quot;Feature&quot;}, {&quot;bbox&quot;: [-26.6799, -56.3306, -26.6799, -56.3306], &quot;geometry&quot;: {&quot;coordinates&quot;: [-26.6799, -56.3306, 45.451], &quot;type&quot;: &quot;Point&quot;}, &quot;id&quot;: &quot;109&quot;, &quot;properties&quot;: {&quot;alert&quot;: null, &quot;cdi&quot;: null, &quot;code&quot;: &quot;6000lf9b&quot;, &quot;detail&quot;: &quot;https://earthquake.usgs.gov/earthquakes/feed/v1.0/detail/us6000lf9b.geojson&quot;, &quot;dmin&quot;: 5.965, &quot;felt&quot;: null, &quot;gap&quot;: 75.0, &quot;id&quot;: &quot;us6000lf9b&quot;, &quot;ids&quot;: &quot;,us6000lf9b,&quot;, &quot;mag&quot;: 5.3, &quot;magType&quot;: &quot;mb&quot;, &quot;mmi&quot;: null, &quot;net&quot;: &quot;us&quot;, &quot;nst&quot;: 48.0, &quot;place&quot;: &quot;South Sandwich Islands region&quot;, &quot;rms&quot;: 0.78, &quot;sig&quot;: 432, &quot;sources&quot;: &quot;,us,&quot;, &quot;status&quot;: &quot;reviewed&quot;, &quot;time&quot;: 1697163929375, &quot;title&quot;: &quot;M 5.3 - South Sandwich Islands region&quot;, &quot;tsunami&quot;: 0, &quot;type&quot;: &quot;earthquake&quot;, &quot;types&quot;: &quot;,origin,phase-data,&quot;, &quot;tz&quot;: null, &quot;updated&quot;: 1697164910040, &quot;url&quot;: &quot;https://earthquake.usgs.gov/earthquakes/eventpage/us6000lf9b&quot;}, &quot;type&quot;: &quot;Feature&quot;}, {&quot;bbox&quot;: [-66.9498333333333, 17.9495, -66.9498333333333, 17.9495], &quot;geometry&quot;: {&quot;coordinates&quot;: [-66.9498333333333, 17.9495, 12.88], &quot;type&quot;: &quot;Point&quot;}, &quot;id&quot;: &quot;110&quot;, &quot;properties&quot;: {&quot;alert&quot;: null, &quot;cdi&quot;: null, &quot;code&quot;: &quot;71428368&quot;, &quot;detail&quot;: &quot;https://earthquake.usgs.gov/earthquakes/feed/v1.0/detail/pr71428368.geojson&quot;, &quot;dmin&quot;: 0.07182, &quot;felt&quot;: null, &quot;gap&quot;: 209.0, &quot;id&quot;: &quot;pr71428368&quot;, &quot;ids&quot;: &quot;,pr71428368,&quot;, &quot;mag&quot;: 2.7, &quot;magType&quot;: &quot;md&quot;, &quot;mmi&quot;: null, &quot;net&quot;: &quot;pr&quot;, &quot;nst&quot;: 9.0, &quot;place&quot;: &quot;5 km WSW of Gu\\u00e1nica, Puerto Rico&quot;, &quot;rms&quot;: 0.29, &quot;sig&quot;: 112, &quot;sources&quot;: &quot;,pr,&quot;, &quot;status&quot;: &quot;reviewed&quot;, &quot;time&quot;: 1697162961350, &quot;title&quot;: &quot;M 2.7 - 5 km WSW of Gu\\u00e1nica, Puerto Rico&quot;, &quot;tsunami&quot;: 0, &quot;type&quot;: &quot;earthquake&quot;, &quot;types&quot;: &quot;,origin,phase-data,&quot;, &quot;tz&quot;: null, &quot;updated&quot;: 1697164995100, &quot;url&quot;: &quot;https://earthquake.usgs.gov/earthquakes/eventpage/pr71428368&quot;}, &quot;type&quot;: &quot;Feature&quot;}, {&quot;bbox&quot;: [68.7901, 36.038, 68.7901, 36.038], &quot;geometry&quot;: {&quot;coordinates&quot;: [68.7901, 36.038, 10.0], &quot;type&quot;: &quot;Point&quot;}, &quot;id&quot;: &quot;111&quot;, &quot;properties&quot;: {&quot;alert&quot;: null, &quot;cdi&quot;: 1.0, &quot;code&quot;: &quot;6000lf95&quot;, &quot;detail&quot;: &quot;https://earthquake.usgs.gov/earthquakes/feed/v1.0/detail/us6000lf95.geojson&quot;, &quot;dmin&quot;: 1.508, &quot;felt&quot;: 0.0, &quot;gap&quot;: 58.0, &quot;id&quot;: &quot;us6000lf95&quot;, &quot;ids&quot;: &quot;,us6000lf95,&quot;, &quot;mag&quot;: 4.7, &quot;magType&quot;: &quot;mb&quot;, &quot;mmi&quot;: null, &quot;net&quot;: &quot;us&quot;, &quot;nst&quot;: 60.0, &quot;place&quot;: &quot;12 km NNE of Pul-e Khumr\\u012b, Afghanistan&quot;, &quot;rms&quot;: 0.91, &quot;sig&quot;: 340, &quot;sources&quot;: &quot;,us,&quot;, &quot;status&quot;: &quot;reviewed&quot;, &quot;time&quot;: 1697159366929, &quot;title&quot;: &quot;M 4.7 - 12 km NNE of Pul-e Khumr\\u012b, Afghanistan&quot;, &quot;tsunami&quot;: 0, &quot;type&quot;: &quot;earthquake&quot;, &quot;types&quot;: &quot;,dyfi,origin,phase-data,&quot;, &quot;tz&quot;: null, &quot;updated&quot;: 1697161665492, &quot;url&quot;: &quot;https://earthquake.usgs.gov/earthquakes/eventpage/us6000lf95&quot;}, &quot;type&quot;: &quot;Feature&quot;}, {&quot;bbox&quot;: [-27.2479, 61.6073, -27.2479, 61.6073], &quot;geometry&quot;: {&quot;coordinates&quot;: [-27.2479, 61.6073, 10.0], &quot;type&quot;: &quot;Point&quot;}, &quot;id&quot;: &quot;112&quot;, &quot;properties&quot;: {&quot;alert&quot;: null, &quot;cdi&quot;: null, &quot;code&quot;: &quot;6000lf94&quot;, &quot;detail&quot;: &quot;https://earthquake.usgs.gov/earthquakes/feed/v1.0/detail/us6000lf94.geojson&quot;, &quot;dmin&quot;: 4.138, &quot;felt&quot;: null, &quot;gap&quot;: 142.0, &quot;id&quot;: &quot;us6000lf94&quot;, &quot;ids&quot;: &quot;,us6000lf94,&quot;, &quot;mag&quot;: 4.5, &quot;magType&quot;: &quot;mb&quot;, &quot;mmi&quot;: null, &quot;net&quot;: &quot;us&quot;, &quot;nst&quot;: 36.0, &quot;place&quot;: &quot;Iceland region&quot;, &quot;rms&quot;: 0.82, &quot;sig&quot;: 312, &quot;sources&quot;: &quot;,us,&quot;, &quot;status&quot;: &quot;reviewed&quot;, &quot;time&quot;: 1697158833671, &quot;title&quot;: &quot;M 4.5 - Iceland region&quot;, &quot;tsunami&quot;: 0, &quot;type&quot;: &quot;earthquake&quot;, &quot;types&quot;: &quot;,origin,phase-data,&quot;, &quot;tz&quot;: null, &quot;updated&quot;: 1697161489040, &quot;url&quot;: &quot;https://earthquake.usgs.gov/earthquakes/eventpage/us6000lf94&quot;}, &quot;type&quot;: &quot;Feature&quot;}, {&quot;bbox&quot;: [120.9418, 13.7842, 120.9418, 13.7842], &quot;geometry&quot;: {&quot;coordinates&quot;: [120.9418, 13.7842, 10.0], &quot;type&quot;: &quot;Point&quot;}, &quot;id&quot;: &quot;113&quot;, &quot;properties&quot;: {&quot;alert&quot;: null, &quot;cdi&quot;: 6.4, &quot;code&quot;: &quot;6000lf92&quot;, &quot;detail&quot;: &quot;https://earthquake.usgs.gov/earthquakes/feed/v1.0/detail/us6000lf92.geojson&quot;, &quot;dmin&quot;: 8.081, &quot;felt&quot;: 38.0, &quot;gap&quot;: 84.0, &quot;id&quot;: &quot;us6000lf92&quot;, &quot;ids&quot;: &quot;,us6000lf92,&quot;, &quot;mag&quot;: 5.2, &quot;magType&quot;: &quot;mb&quot;, &quot;mmi&quot;: null, &quot;net&quot;: &quot;us&quot;, &quot;nst&quot;: 88.0, &quot;place&quot;: &quot;3 km N of Mabini, Philippines&quot;, &quot;rms&quot;: 0.91, &quot;sig&quot;: 440, &quot;sources&quot;: &quot;,us,&quot;, &quot;status&quot;: &quot;reviewed&quot;, &quot;time&quot;: 1697156656603, &quot;title&quot;: &quot;M 5.2 - 3 km N of Mabini, Philippines&quot;, &quot;tsunami&quot;: 0, &quot;type&quot;: &quot;earthquake&quot;, &quot;types&quot;: &quot;,dyfi,origin,phase-data,&quot;, &quot;tz&quot;: null, &quot;updated&quot;: 1697345153454, &quot;url&quot;: &quot;https://earthquake.usgs.gov/earthquakes/eventpage/us6000lf92&quot;}, &quot;type&quot;: &quot;Feature&quot;}, {&quot;bbox&quot;: [68.715, 36.0508, 68.715, 36.0508], &quot;geometry&quot;: {&quot;coordinates&quot;: [68.715, 36.0508, 10.0], &quot;type&quot;: &quot;Point&quot;}, &quot;id&quot;: &quot;114&quot;, &quot;properties&quot;: {&quot;alert&quot;: null, &quot;cdi&quot;: null, &quot;code&quot;: &quot;6000lf8s&quot;, &quot;detail&quot;: &quot;https://earthquake.usgs.gov/earthquakes/feed/v1.0/detail/us6000lf8s.geojson&quot;, &quot;dmin&quot;: 1.53, &quot;felt&quot;: null, &quot;gap&quot;: 53.0, &quot;id&quot;: &quot;us6000lf8s&quot;, &quot;ids&quot;: &quot;,us6000lf8s,&quot;, &quot;mag&quot;: 4.9, &quot;magType&quot;: &quot;mb&quot;, &quot;mmi&quot;: null, &quot;net&quot;: &quot;us&quot;, &quot;nst&quot;: 112.0, &quot;place&quot;: &quot;8 km S of Baghl\\u0101n, Afghanistan&quot;, &quot;rms&quot;: 0.77, &quot;sig&quot;: 369, &quot;sources&quot;: &quot;,us,&quot;, &quot;status&quot;: &quot;reviewed&quot;, &quot;time&quot;: 1697155394885, &quot;title&quot;: &quot;M 4.9 - 8 km S of Baghl\\u0101n, Afghanistan&quot;, &quot;tsunami&quot;: 0, &quot;type&quot;: &quot;earthquake&quot;, &quot;types&quot;: &quot;,origin,phase-data,&quot;, &quot;tz&quot;: null, &quot;updated&quot;: 1697156318040, &quot;url&quot;: &quot;https://earthquake.usgs.gov/earthquakes/eventpage/us6000lf8s&quot;}, &quot;type&quot;: &quot;Feature&quot;}, {&quot;bbox&quot;: [166.2948, -11.3364, 166.2948, -11.3364], &quot;geometry&quot;: {&quot;coordinates&quot;: [166.2948, -11.3364, 98.709], &quot;type&quot;: &quot;Point&quot;}, &quot;id&quot;: &quot;115&quot;, &quot;properties&quot;: {&quot;alert&quot;: null, &quot;cdi&quot;: null, &quot;code&quot;: &quot;6000lf8m&quot;, &quot;detail&quot;: &quot;https://earthquake.usgs.gov/earthquakes/feed/v1.0/detail/us6000lf8m.geojson&quot;, &quot;dmin&quot;: 4.181, &quot;felt&quot;: null, &quot;gap&quot;: 147.0, &quot;id&quot;: &quot;us6000lf8m&quot;, &quot;ids&quot;: &quot;,us6000lf8m,&quot;, &quot;mag&quot;: 4.6, &quot;magType&quot;: &quot;mb&quot;, &quot;mmi&quot;: null, &quot;net&quot;: &quot;us&quot;, &quot;nst&quot;: 28.0, &quot;place&quot;: &quot;86 km SE of Lata, Solomon Islands&quot;, &quot;rms&quot;: 0.3, &quot;sig&quot;: 326, &quot;sources&quot;: &quot;,us,&quot;, &quot;status&quot;: &quot;reviewed&quot;, &quot;time&quot;: 1697151283582, &quot;title&quot;: &quot;M 4.6 - 86 km SE of Lata, Solomon Islands&quot;, &quot;tsunami&quot;: 0, &quot;type&quot;: &quot;earthquake&quot;, &quot;types&quot;: &quot;,origin,phase-data,&quot;, &quot;tz&quot;: null, &quot;updated&quot;: 1697152249040, &quot;url&quot;: &quot;https://earthquake.usgs.gov/earthquakes/eventpage/us6000lf8m&quot;}, &quot;type&quot;: &quot;Feature&quot;}, {&quot;bbox&quot;: [148.5026, 44.2272, 148.5026, 44.2272], &quot;geometry&quot;: {&quot;coordinates&quot;: [148.5026, 44.2272, 48.656], &quot;type&quot;: &quot;Point&quot;}, &quot;id&quot;: &quot;116&quot;, &quot;properties&quot;: {&quot;alert&quot;: null, &quot;cdi&quot;: null, &quot;code&quot;: &quot;6000lf8b&quot;, &quot;detail&quot;: &quot;https://earthquake.usgs.gov/earthquakes/feed/v1.0/detail/us6000lf8b.geojson&quot;, &quot;dmin&quot;: 4.253, &quot;felt&quot;: null, &quot;gap&quot;: 136.0, &quot;id&quot;: &quot;us6000lf8b&quot;, &quot;ids&quot;: &quot;,us6000lf8b,&quot;, &quot;mag&quot;: 5.1, &quot;magType&quot;: &quot;mww&quot;, &quot;mmi&quot;: null, &quot;net&quot;: &quot;us&quot;, &quot;nst&quot;: 87.0, &quot;place&quot;: &quot;121 km SSE of Kuril\\u2019sk, Russia&quot;, &quot;rms&quot;: 0.69, &quot;sig&quot;: 400, &quot;sources&quot;: &quot;,us,&quot;, &quot;status&quot;: &quot;reviewed&quot;, &quot;time&quot;: 1697150020483, &quot;title&quot;: &quot;M 5.1 - 121 km SSE of Kuril\\u2019sk, Russia&quot;, &quot;tsunami&quot;: 0, &quot;type&quot;: &quot;earthquake&quot;, &quot;types&quot;: &quot;,origin,phase-data,&quot;, &quot;tz&quot;: null, &quot;updated&quot;: 1697151027040, &quot;url&quot;: &quot;https://earthquake.usgs.gov/earthquakes/eventpage/us6000lf8b&quot;}, &quot;type&quot;: &quot;Feature&quot;}, {&quot;bbox&quot;: [128.9516, -6.6348, 128.9516, -6.6348], &quot;geometry&quot;: {&quot;coordinates&quot;: [128.9516, -6.6348, 219.181], &quot;type&quot;: &quot;Point&quot;}, &quot;id&quot;: &quot;117&quot;, &quot;properties&quot;: {&quot;alert&quot;: null, &quot;cdi&quot;: null, &quot;code&quot;: &quot;6000lf83&quot;, &quot;detail&quot;: &quot;https://earthquake.usgs.gov/earthquakes/feed/v1.0/detail/us6000lf83.geojson&quot;, &quot;dmin&quot;: 2.303, &quot;felt&quot;: null, &quot;gap&quot;: 52.0, &quot;id&quot;: &quot;us6000lf83&quot;, &quot;ids&quot;: &quot;,us6000lf83,&quot;, &quot;mag&quot;: 4.4, &quot;magType&quot;: &quot;mb&quot;, &quot;mmi&quot;: null, &quot;net&quot;: &quot;us&quot;, &quot;nst&quot;: 58.0, &quot;place&quot;: &quot;Banda Sea&quot;, &quot;rms&quot;: 0.57, &quot;sig&quot;: 298, &quot;sources&quot;: &quot;,us,&quot;, &quot;status&quot;: &quot;reviewed&quot;, &quot;time&quot;: 1697147199844, &quot;title&quot;: &quot;M 4.4 - Banda Sea&quot;, &quot;tsunami&quot;: 0, &quot;type&quot;: &quot;earthquake&quot;, &quot;types&quot;: &quot;,origin,phase-data,&quot;, &quot;tz&quot;: null, &quot;updated&quot;: 1697150420040, &quot;url&quot;: &quot;https://earthquake.usgs.gov/earthquakes/eventpage/us6000lf83&quot;}, &quot;type&quot;: &quot;Feature&quot;}, {&quot;bbox&quot;: [-120.8840027, 36.4674988, -120.8840027, 36.4674988], &quot;geometry&quot;: {&quot;coordinates&quot;: [-120.8840027, 36.4674988, 15.45], &quot;type&quot;: &quot;Point&quot;}, &quot;id&quot;: &quot;118&quot;, &quot;properties&quot;: {&quot;alert&quot;: null, &quot;cdi&quot;: 2.7, &quot;code&quot;: &quot;73946525&quot;, &quot;detail&quot;: &quot;https://earthquake.usgs.gov/earthquakes/feed/v1.0/detail/nc73946525.geojson&quot;, &quot;dmin&quot;: 0.1079, &quot;felt&quot;: 2.0, &quot;gap&quot;: 134.0, &quot;id&quot;: &quot;nc73946525&quot;, &quot;ids&quot;: &quot;,nc73946525,&quot;, &quot;mag&quot;: 2.53, &quot;magType&quot;: &quot;md&quot;, &quot;mmi&quot;: null, &quot;net&quot;: &quot;nc&quot;, &quot;nst&quot;: 46.0, &quot;place&quot;: &quot;20 km WNW of New Idria, CA&quot;, &quot;rms&quot;: 0.19, &quot;sig&quot;: 99, &quot;sources&quot;: &quot;,nc,&quot;, &quot;status&quot;: &quot;automatic&quot;, &quot;time&quot;: 1697147196210, &quot;title&quot;: &quot;M 2.5 - 20 km WNW of New Idria, CA&quot;, &quot;tsunami&quot;: 0, &quot;type&quot;: &quot;earthquake&quot;, &quot;types&quot;: &quot;,dyfi,focal-mechanism,nearby-cities,origin,phase-data,scitech-link,&quot;, &quot;tz&quot;: null, &quot;updated&quot;: 1697164391031, &quot;url&quot;: &quot;https://earthquake.usgs.gov/earthquakes/eventpage/nc73946525&quot;}, &quot;type&quot;: &quot;Feature&quot;}, {&quot;bbox&quot;: [-120.8808333, 36.4658333, -120.8808333, 36.4658333], &quot;geometry&quot;: {&quot;coordinates&quot;: [-120.8808333, 36.4658333, 17.23], &quot;type&quot;: &quot;Point&quot;}, &quot;id&quot;: &quot;119&quot;, &quot;properties&quot;: {&quot;alert&quot;: null, &quot;cdi&quot;: 2.0, &quot;code&quot;: &quot;73946520&quot;, &quot;detail&quot;: &quot;https://earthquake.usgs.gov/earthquakes/feed/v1.0/detail/nc73946520.geojson&quot;, &quot;dmin&quot;: 0.05467, &quot;felt&quot;: 3.0, &quot;gap&quot;: 83.0, &quot;id&quot;: &quot;nc73946520&quot;, &quot;ids&quot;: &quot;,nc73946520,us6000lf80,&quot;, &quot;mag&quot;: 3.0, &quot;magType&quot;: &quot;ml&quot;, &quot;mmi&quot;: null, &quot;net&quot;: &quot;nc&quot;, &quot;nst&quot;: 87.0, &quot;place&quot;: &quot;19 km WNW of New Idria, CA&quot;, &quot;rms&quot;: 0.2, &quot;sig&quot;: 139, &quot;sources&quot;: &quot;,nc,us,&quot;, &quot;status&quot;: &quot;reviewed&quot;, &quot;time&quot;: 1697146881440, &quot;title&quot;: &quot;M 3.0 - 19 km WNW of New Idria, CA&quot;, &quot;tsunami&quot;: 0, &quot;type&quot;: &quot;earthquake&quot;, &quot;types&quot;: &quot;,dyfi,focal-mechanism,nearby-cities,origin,phase-data,scitech-link,&quot;, &quot;tz&quot;: null, &quot;updated&quot;: 1697412853719, &quot;url&quot;: &quot;https://earthquake.usgs.gov/earthquakes/eventpage/nc73946520&quot;}, &quot;type&quot;: &quot;Feature&quot;}, {&quot;bbox&quot;: [100.0929, 51.693, 100.0929, 51.693], &quot;geometry&quot;: {&quot;coordinates&quot;: [100.0929, 51.693, 10.0], &quot;type&quot;: &quot;Point&quot;}, &quot;id&quot;: &quot;120&quot;, &quot;properties&quot;: {&quot;alert&quot;: null, &quot;cdi&quot;: null, &quot;code&quot;: &quot;6000lf7t&quot;, &quot;detail&quot;: &quot;https://earthquake.usgs.gov/earthquakes/feed/v1.0/detail/us6000lf7t.geojson&quot;, &quot;dmin&quot;: 2.21, &quot;felt&quot;: null, &quot;gap&quot;: 55.0, &quot;id&quot;: &quot;us6000lf7t&quot;, &quot;ids&quot;: &quot;,us6000lf7t,&quot;, &quot;mag&quot;: 4.1, &quot;magType&quot;: &quot;mb&quot;, &quot;mmi&quot;: null, &quot;net&quot;: &quot;us&quot;, &quot;nst&quot;: 24.0, &quot;place&quot;: &quot;Russia-Mongolia border region&quot;, &quot;rms&quot;: 0.54, &quot;sig&quot;: 259, &quot;sources&quot;: &quot;,us,&quot;, &quot;status&quot;: &quot;reviewed&quot;, &quot;time&quot;: 1697144664805, &quot;title&quot;: &quot;M 4.1 - Russia-Mongolia border region&quot;, &quot;tsunami&quot;: 0, &quot;type&quot;: &quot;earthquake&quot;, &quot;types&quot;: &quot;,origin,phase-data,&quot;, &quot;tz&quot;: null, &quot;updated&quot;: 1697145988040, &quot;url&quot;: &quot;https://earthquake.usgs.gov/earthquakes/eventpage/us6000lf7t&quot;}, &quot;type&quot;: &quot;Feature&quot;}, {&quot;bbox&quot;: [81.2143, 29.5386, 81.2143, 29.5386], &quot;geometry&quot;: {&quot;coordinates&quot;: [81.2143, 29.5386, 10.0], &quot;type&quot;: &quot;Point&quot;}, &quot;id&quot;: &quot;121&quot;, &quot;properties&quot;: {&quot;alert&quot;: null, &quot;cdi&quot;: null, &quot;code&quot;: &quot;6000lf7f&quot;, &quot;detail&quot;: &quot;https://earthquake.usgs.gov/earthquakes/feed/v1.0/detail/us6000lf7f.geojson&quot;, &quot;dmin&quot;: 3.969, &quot;felt&quot;: null, &quot;gap&quot;: 168.0, &quot;id&quot;: &quot;us6000lf7f&quot;, &quot;ids&quot;: &quot;,us6000lf7f,&quot;, &quot;mag&quot;: 4.4, &quot;magType&quot;: &quot;mb&quot;, &quot;mmi&quot;: null, &quot;net&quot;: &quot;us&quot;, &quot;nst&quot;: 37.0, &quot;place&quot;: &quot;40 km NE of Dipayal, Nepal&quot;, &quot;rms&quot;: 0.81, &quot;sig&quot;: 298, &quot;sources&quot;: &quot;,us,&quot;, &quot;status&quot;: &quot;reviewed&quot;, &quot;time&quot;: 1697141203920, &quot;title&quot;: &quot;M 4.4 - 40 km NE of Dipayal, Nepal&quot;, &quot;tsunami&quot;: 0, &quot;type&quot;: &quot;earthquake&quot;, &quot;types&quot;: &quot;,origin,phase-data,&quot;, &quot;tz&quot;: null, &quot;updated&quot;: 1697208832040, &quot;url&quot;: &quot;https://earthquake.usgs.gov/earthquakes/eventpage/us6000lf7f&quot;}, &quot;type&quot;: &quot;Feature&quot;}, {&quot;bbox&quot;: [-87.5663, 14.8766, -87.5663, 14.8766], &quot;geometry&quot;: {&quot;coordinates&quot;: [-87.5663, 14.8766, 10.0], &quot;type&quot;: &quot;Point&quot;}, &quot;id&quot;: &quot;122&quot;, &quot;properties&quot;: {&quot;alert&quot;: null, &quot;cdi&quot;: 4.6, &quot;code&quot;: &quot;6000lf7c&quot;, &quot;detail&quot;: &quot;https://earthquake.usgs.gov/earthquakes/feed/v1.0/detail/us6000lf7c.geojson&quot;, &quot;dmin&quot;: 0.863, &quot;felt&quot;: 8.0, &quot;gap&quot;: 70.0, &quot;id&quot;: &quot;us6000lf7c&quot;, &quot;ids&quot;: &quot;,us6000lf7c,&quot;, &quot;mag&quot;: 4.6, &quot;magType&quot;: &quot;mb&quot;, &quot;mmi&quot;: null, &quot;net&quot;: &quot;us&quot;, &quot;nst&quot;: 93.0, &quot;place&quot;: &quot;13 km NNE of La Libertad, Honduras&quot;, &quot;rms&quot;: 0.71, &quot;sig&quot;: 329, &quot;sources&quot;: &quot;,us,&quot;, &quot;status&quot;: &quot;reviewed&quot;, &quot;time&quot;: 1697140840715, &quot;title&quot;: &quot;M 4.6 - 13 km NNE of La Libertad, Honduras&quot;, &quot;tsunami&quot;: 0, &quot;type&quot;: &quot;earthquake&quot;, &quot;types&quot;: &quot;,dyfi,origin,phase-data,&quot;, &quot;tz&quot;: null, &quot;updated&quot;: 1697246581688, &quot;url&quot;: &quot;https://earthquake.usgs.gov/earthquakes/eventpage/us6000lf7c&quot;}, &quot;type&quot;: &quot;Feature&quot;}, {&quot;bbox&quot;: [-115.1089, 44.2393, -115.1089, 44.2393], &quot;geometry&quot;: {&quot;coordinates&quot;: [-115.1089, 44.2393, 4.658], &quot;type&quot;: &quot;Point&quot;}, &quot;id&quot;: &quot;123&quot;, &quot;properties&quot;: {&quot;alert&quot;: null, &quot;cdi&quot;: null, &quot;code&quot;: &quot;6000lf74&quot;, &quot;detail&quot;: &quot;https://earthquake.usgs.gov/earthquakes/feed/v1.0/detail/us6000lf74.geojson&quot;, &quot;dmin&quot;: 0.231, &quot;felt&quot;: null, &quot;gap&quot;: 57.0, &quot;id&quot;: &quot;us6000lf74&quot;, &quot;ids&quot;: &quot;,mb90029688,us6000lf74,&quot;, &quot;mag&quot;: 2.5, &quot;magType&quot;: &quot;ml&quot;, &quot;mmi&quot;: null, &quot;net&quot;: &quot;us&quot;, &quot;nst&quot;: 14.0, &quot;place&quot;: &quot;13 km W of Stanley, Idaho&quot;, &quot;rms&quot;: 0.42, &quot;sig&quot;: 96, &quot;sources&quot;: &quot;,mb,us,&quot;, &quot;status&quot;: &quot;reviewed&quot;, &quot;time&quot;: 1697139992337, &quot;title&quot;: &quot;M 2.5 - 13 km W of Stanley, Idaho&quot;, &quot;tsunami&quot;: 0, &quot;type&quot;: &quot;earthquake&quot;, &quot;types&quot;: &quot;,origin,phase-data,&quot;, &quot;tz&quot;: null, &quot;updated&quot;: 1697208247040, &quot;url&quot;: &quot;https://earthquake.usgs.gov/earthquakes/eventpage/us6000lf74&quot;}, &quot;type&quot;: &quot;Feature&quot;}, {&quot;bbox&quot;: [-115.091, 44.2357, -115.091, 44.2357], &quot;geometry&quot;: {&quot;coordinates&quot;: [-115.091, 44.2357, 5.587], &quot;type&quot;: &quot;Point&quot;}, &quot;id&quot;: &quot;124&quot;, &quot;properties&quot;: {&quot;alert&quot;: null, &quot;cdi&quot;: null, &quot;code&quot;: &quot;6000lf70&quot;, &quot;detail&quot;: &quot;https://earthquake.usgs.gov/earthquakes/feed/v1.0/detail/us6000lf70.geojson&quot;, &quot;dmin&quot;: 0.218, &quot;felt&quot;: null, &quot;gap&quot;: 48.0, &quot;id&quot;: &quot;us6000lf70&quot;, &quot;ids&quot;: &quot;,mb90029673,us6000lf70,&quot;, &quot;mag&quot;: 2.9, &quot;magType&quot;: &quot;ml&quot;, &quot;mmi&quot;: null, &quot;net&quot;: &quot;us&quot;, &quot;nst&quot;: 24.0, &quot;place&quot;: &quot;12 km W of Stanley, Idaho&quot;, &quot;rms&quot;: 0.75, &quot;sig&quot;: 129, &quot;sources&quot;: &quot;,mb,us,&quot;, &quot;status&quot;: &quot;reviewed&quot;, &quot;time&quot;: 1697139022779, &quot;title&quot;: &quot;M 2.9 - 12 km W of Stanley, Idaho&quot;, &quot;tsunami&quot;: 0, &quot;type&quot;: &quot;earthquake&quot;, &quot;types&quot;: &quot;,origin,phase-data,&quot;, &quot;tz&quot;: null, &quot;updated&quot;: 1697205932040, &quot;url&quot;: &quot;https://earthquake.usgs.gov/earthquakes/eventpage/us6000lf70&quot;}, &quot;type&quot;: &quot;Feature&quot;}, {&quot;bbox&quot;: [-65.939, 18.6443333333333, -65.939, 18.6443333333333], &quot;geometry&quot;: {&quot;coordinates&quot;: [-65.939, 18.6443333333333, 49.62], &quot;type&quot;: &quot;Point&quot;}, &quot;id&quot;: &quot;125&quot;, &quot;properties&quot;: {&quot;alert&quot;: null, &quot;cdi&quot;: 2.2, &quot;code&quot;: &quot;71428323&quot;, &quot;detail&quot;: &quot;https://earthquake.usgs.gov/earthquakes/feed/v1.0/detail/pr71428323.geojson&quot;, &quot;dmin&quot;: 0.3606, &quot;felt&quot;: 1.0, &quot;gap&quot;: 213.0, &quot;id&quot;: &quot;pr71428323&quot;, &quot;ids&quot;: &quot;,pr71428323,&quot;, &quot;mag&quot;: 3.02, &quot;magType&quot;: &quot;md&quot;, &quot;mmi&quot;: null, &quot;net&quot;: &quot;pr&quot;, &quot;nst&quot;: 7.0, &quot;place&quot;: &quot;24 km NNW of Lo\\u00edza, Puerto Rico&quot;, &quot;rms&quot;: 0.2, &quot;sig&quot;: 141, &quot;sources&quot;: &quot;,pr,&quot;, &quot;status&quot;: &quot;reviewed&quot;, &quot;time&quot;: 1697130786330, &quot;title&quot;: &quot;M 3.0 - 24 km NNW of Lo\\u00edza, Puerto Rico&quot;, &quot;tsunami&quot;: 0, &quot;type&quot;: &quot;earthquake&quot;, &quot;types&quot;: &quot;,dyfi,origin,phase-data,&quot;, &quot;tz&quot;: null, &quot;updated&quot;: 1697133554312, &quot;url&quot;: &quot;https://earthquake.usgs.gov/earthquakes/eventpage/pr71428323&quot;}, &quot;type&quot;: &quot;Feature&quot;}, {&quot;bbox&quot;: [-67.194, 19.017, -67.194, 19.017], &quot;geometry&quot;: {&quot;coordinates&quot;: [-67.194, 19.017, 11.0], &quot;type&quot;: &quot;Point&quot;}, &quot;id&quot;: &quot;126&quot;, &quot;properties&quot;: {&quot;alert&quot;: null, &quot;cdi&quot;: null, &quot;code&quot;: &quot;2023285002&quot;, &quot;detail&quot;: &quot;https://earthquake.usgs.gov/earthquakes/feed/v1.0/detail/pr2023285002.geojson&quot;, &quot;dmin&quot;: 0.5557, &quot;felt&quot;: null, &quot;gap&quot;: 233.0, &quot;id&quot;: &quot;pr2023285002&quot;, &quot;ids&quot;: &quot;,us6000lf37,pr2023285002,&quot;, &quot;mag&quot;: 3.57, &quot;magType&quot;: &quot;md&quot;, &quot;mmi&quot;: null, &quot;net&quot;: &quot;pr&quot;, &quot;nst&quot;: 12.0, &quot;place&quot;: &quot;58 km N of San Antonio, Puerto Rico&quot;, &quot;rms&quot;: 0.46, &quot;sig&quot;: 196, &quot;sources&quot;: &quot;,us,pr,&quot;, &quot;status&quot;: &quot;reviewed&quot;, &quot;time&quot;: 1697119656010, &quot;title&quot;: &quot;M 3.6 - 58 km N of San Antonio, Puerto Rico&quot;, &quot;tsunami&quot;: 0, &quot;type&quot;: &quot;earthquake&quot;, &quot;types&quot;: &quot;,origin,phase-data,&quot;, &quot;tz&quot;: null, &quot;updated&quot;: 1697124711040, &quot;url&quot;: &quot;https://earthquake.usgs.gov/earthquakes/eventpage/pr2023285002&quot;}, &quot;type&quot;: &quot;Feature&quot;}, {&quot;bbox&quot;: [178.7966, -39.0082, 178.7966, -39.0082], &quot;geometry&quot;: {&quot;coordinates&quot;: [178.7966, -39.0082, 10.0], &quot;type&quot;: &quot;Point&quot;}, &quot;id&quot;: &quot;127&quot;, &quot;properties&quot;: {&quot;alert&quot;: null, &quot;cdi&quot;: 3.2, &quot;code&quot;: &quot;6000lf2w&quot;, &quot;detail&quot;: &quot;https://earthquake.usgs.gov/earthquakes/feed/v1.0/detail/us6000lf2w.geojson&quot;, &quot;dmin&quot;: 1.472, &quot;felt&quot;: 3.0, &quot;gap&quot;: 194.0, &quot;id&quot;: &quot;us6000lf2w&quot;, &quot;ids&quot;: &quot;,us6000lf2w,&quot;, &quot;mag&quot;: 4.7, &quot;magType&quot;: &quot;mb&quot;, &quot;mmi&quot;: null, &quot;net&quot;: &quot;us&quot;, &quot;nst&quot;: 28.0, &quot;place&quot;: &quot;72 km ESE of Wainui, New Zealand&quot;, &quot;rms&quot;: 1.14, &quot;sig&quot;: 341, &quot;sources&quot;: &quot;,us,&quot;, &quot;status&quot;: &quot;reviewed&quot;, &quot;time&quot;: 1697118017984, &quot;title&quot;: &quot;M 4.7 - 72 km ESE of Wainui, New Zealand&quot;, &quot;tsunami&quot;: 0, &quot;type&quot;: &quot;earthquake&quot;, &quot;types&quot;: &quot;,dyfi,origin,phase-data,&quot;, &quot;tz&quot;: null, &quot;updated&quot;: 1697144441147, &quot;url&quot;: &quot;https://earthquake.usgs.gov/earthquakes/eventpage/us6000lf2w&quot;}, &quot;type&quot;: &quot;Feature&quot;}, {&quot;bbox&quot;: [-163.5774, 65.9101, -163.5774, 65.9101], &quot;geometry&quot;: {&quot;coordinates&quot;: [-163.5774, 65.9101, 10.0], &quot;type&quot;: &quot;Point&quot;}, &quot;id&quot;: &quot;128&quot;, &quot;properties&quot;: {&quot;alert&quot;: null, &quot;cdi&quot;: null, &quot;code&quot;: &quot;6000lf4m&quot;, &quot;detail&quot;: &quot;https://earthquake.usgs.gov/earthquakes/feed/v1.0/detail/us6000lf4m.geojson&quot;, &quot;dmin&quot;: 0.486, &quot;felt&quot;: null, &quot;gap&quot;: 154.0, &quot;id&quot;: &quot;us6000lf4m&quot;, &quot;ids&quot;: &quot;,us6000lf4m,&quot;, &quot;mag&quot;: 2.6, &quot;magType&quot;: &quot;ml&quot;, &quot;mmi&quot;: null, &quot;net&quot;: &quot;us&quot;, &quot;nst&quot;: 15.0, &quot;place&quot;: &quot;43 km WSW of Deering, Alaska&quot;, &quot;rms&quot;: 1.11, &quot;sig&quot;: 104, &quot;sources&quot;: &quot;,us,&quot;, &quot;status&quot;: &quot;reviewed&quot;, &quot;time&quot;: 1697118002892, &quot;title&quot;: &quot;M 2.6 - 43 km WSW of Deering, Alaska&quot;, &quot;tsunami&quot;: 0, &quot;type&quot;: &quot;earthquake&quot;, &quot;types&quot;: &quot;,origin,phase-data,&quot;, &quot;tz&quot;: null, &quot;updated&quot;: 1697125044040, &quot;url&quot;: &quot;https://earthquake.usgs.gov/earthquakes/eventpage/us6000lf4m&quot;}, &quot;type&quot;: &quot;Feature&quot;}, {&quot;bbox&quot;: [120.5135, 22.7906, 120.5135, 22.7906], &quot;geometry&quot;: {&quot;coordinates&quot;: [120.5135, 22.7906, 15.972], &quot;type&quot;: &quot;Point&quot;}, &quot;id&quot;: &quot;129&quot;, &quot;properties&quot;: {&quot;alert&quot;: null, &quot;cdi&quot;: 1.0, &quot;code&quot;: &quot;6000lf26&quot;, &quot;detail&quot;: &quot;https://earthquake.usgs.gov/earthquakes/feed/v1.0/detail/us6000lf26.geojson&quot;, &quot;dmin&quot;: 0.519, &quot;felt&quot;: 2.0, &quot;gap&quot;: 70.0, &quot;id&quot;: &quot;us6000lf26&quot;, &quot;ids&quot;: &quot;,us6000lf26,&quot;, &quot;mag&quot;: 4.7, &quot;magType&quot;: &quot;mb&quot;, &quot;mmi&quot;: null, &quot;net&quot;: &quot;us&quot;, &quot;nst&quot;: 40.0, &quot;place&quot;: &quot;28 km NE of Kaohsiung, Taiwan&quot;, &quot;rms&quot;: 0.61, &quot;sig&quot;: 340, &quot;sources&quot;: &quot;,us,&quot;, &quot;status&quot;: &quot;reviewed&quot;, &quot;time&quot;: 1697112988890, &quot;title&quot;: &quot;M 4.7 - 28 km NE of Kaohsiung, Taiwan&quot;, &quot;tsunami&quot;: 0, &quot;type&quot;: &quot;earthquake&quot;, &quot;types&quot;: &quot;,dyfi,origin,phase-data,&quot;, &quot;tz&quot;: null, &quot;updated&quot;: 1697218368380, &quot;url&quot;: &quot;https://earthquake.usgs.gov/earthquakes/eventpage/us6000lf26&quot;}, &quot;type&quot;: &quot;Feature&quot;}, {&quot;bbox&quot;: [-149.7193, 63.1525, -149.7193, 63.1525], &quot;geometry&quot;: {&quot;coordinates&quot;: [-149.7193, 63.1525, 84.0], &quot;type&quot;: &quot;Point&quot;}, &quot;id&quot;: &quot;130&quot;, &quot;properties&quot;: {&quot;alert&quot;: null, &quot;cdi&quot;: 2.0, &quot;code&quot;: &quot;023d3j12pq&quot;, &quot;detail&quot;: &quot;https://earthquake.usgs.gov/earthquakes/feed/v1.0/detail/ak023d3j12pq.geojson&quot;, &quot;dmin&quot;: null, &quot;felt&quot;: 2.0, &quot;gap&quot;: null, &quot;id&quot;: &quot;ak023d3j12pq&quot;, &quot;ids&quot;: &quot;,ak023d3j12pq,us6000lf22,&quot;, &quot;mag&quot;: 3.2, &quot;magType&quot;: &quot;ml&quot;, &quot;mmi&quot;: null, &quot;net&quot;: &quot;ak&quot;, &quot;nst&quot;: null, &quot;place&quot;: &quot;Central Alaska&quot;, &quot;rms&quot;: 0.63, &quot;sig&quot;: 158, &quot;sources&quot;: &quot;,ak,us,&quot;, &quot;status&quot;: &quot;automatic&quot;, &quot;time&quot;: 1697111598402, &quot;title&quot;: &quot;M 3.2 - Central Alaska&quot;, &quot;tsunami&quot;: 0, &quot;type&quot;: &quot;earthquake&quot;, &quot;types&quot;: &quot;,dyfi,origin,phase-data,&quot;, &quot;tz&quot;: null, &quot;updated&quot;: 1697200065040, &quot;url&quot;: &quot;https://earthquake.usgs.gov/earthquakes/eventpage/ak023d3j12pq&quot;}, &quot;type&quot;: &quot;Feature&quot;}, {&quot;bbox&quot;: [-66.7503333333333, 18.617, -66.7503333333333, 18.617], &quot;geometry&quot;: {&quot;coordinates&quot;: [-66.7503333333333, 18.617, 11.15], &quot;type&quot;: &quot;Point&quot;}, &quot;id&quot;: &quot;131&quot;, &quot;properties&quot;: {&quot;alert&quot;: null, &quot;cdi&quot;: 2.0, &quot;code&quot;: &quot;71428293&quot;, &quot;detail&quot;: &quot;https://earthquake.usgs.gov/earthquakes/feed/v1.0/detail/pr71428293.geojson&quot;, &quot;dmin&quot;: 0.2515, &quot;felt&quot;: 1.0, &quot;gap&quot;: 227.0, &quot;id&quot;: &quot;pr71428293&quot;, &quot;ids&quot;: &quot;,pr71428293,&quot;, &quot;mag&quot;: 3.12, &quot;magType&quot;: &quot;md&quot;, &quot;mmi&quot;: null, &quot;net&quot;: &quot;pr&quot;, &quot;nst&quot;: 15.0, &quot;place&quot;: &quot;15 km NNE of Carrizales, Puerto Rico&quot;, &quot;rms&quot;: 0.19, &quot;sig&quot;: 150, &quot;sources&quot;: &quot;,pr,&quot;, &quot;status&quot;: &quot;reviewed&quot;, &quot;time&quot;: 1697108806620, &quot;title&quot;: &quot;M 3.1 - 15 km NNE of Carrizales, Puerto Rico&quot;, &quot;tsunami&quot;: 0, &quot;type&quot;: &quot;earthquake&quot;, &quot;types&quot;: &quot;,dyfi,origin,phase-data,&quot;, &quot;tz&quot;: null, &quot;updated&quot;: 1697133532584, &quot;url&quot;: &quot;https://earthquake.usgs.gov/earthquakes/eventpage/pr71428293&quot;}, &quot;type&quot;: &quot;Feature&quot;}, {&quot;bbox&quot;: [43.4399, 38.8742, 43.4399, 38.8742], &quot;geometry&quot;: {&quot;coordinates&quot;: [43.4399, 38.8742, 10.0], &quot;type&quot;: &quot;Point&quot;}, &quot;id&quot;: &quot;132&quot;, &quot;properties&quot;: {&quot;alert&quot;: null, &quot;cdi&quot;: 4.9, &quot;code&quot;: &quot;6000lf1y&quot;, &quot;detail&quot;: &quot;https://earthquake.usgs.gov/earthquakes/feed/v1.0/detail/us6000lf1y.geojson&quot;, &quot;dmin&quot;: 0.636, &quot;felt&quot;: 2.0, &quot;gap&quot;: 36.0, &quot;id&quot;: &quot;us6000lf1y&quot;, &quot;ids&quot;: &quot;,us6000lf1y,&quot;, &quot;mag&quot;: 4.5, &quot;magType&quot;: &quot;mb&quot;, &quot;mmi&quot;: null, &quot;net&quot;: &quot;us&quot;, &quot;nst&quot;: 41.0, &quot;place&quot;: &quot;18 km SSE of Erci\\u015f, Turkey&quot;, &quot;rms&quot;: 1.23, &quot;sig&quot;: 313, &quot;sources&quot;: &quot;,us,&quot;, &quot;status&quot;: &quot;reviewed&quot;, &quot;time&quot;: 1697108645956, &quot;title&quot;: &quot;M 4.5 - 18 km SSE of Erci\\u015f, Turkey&quot;, &quot;tsunami&quot;: 0, &quot;type&quot;: &quot;earthquake&quot;, &quot;types&quot;: &quot;,dyfi,origin,phase-data,&quot;, &quot;tz&quot;: null, &quot;updated&quot;: 1697116825672, &quot;url&quot;: &quot;https://earthquake.usgs.gov/earthquakes/eventpage/us6000lf1y&quot;}, &quot;type&quot;: &quot;Feature&quot;}, {&quot;bbox&quot;: [155.2296, -6.7721, 155.2296, -6.7721], &quot;geometry&quot;: {&quot;coordinates&quot;: [155.2296, -6.7721, 48.957], &quot;type&quot;: &quot;Point&quot;}, &quot;id&quot;: &quot;133&quot;, &quot;properties&quot;: {&quot;alert&quot;: null, &quot;cdi&quot;: 2.7, &quot;code&quot;: &quot;6000lf1v&quot;, &quot;detail&quot;: &quot;https://earthquake.usgs.gov/earthquakes/feed/v1.0/detail/us6000lf1v.geojson&quot;, &quot;dmin&quot;: 3.986, &quot;felt&quot;: 1.0, &quot;gap&quot;: 43.0, &quot;id&quot;: &quot;us6000lf1v&quot;, &quot;ids&quot;: &quot;,us6000lf1v,&quot;, &quot;mag&quot;: 5.1, &quot;magType&quot;: &quot;mb&quot;, &quot;mmi&quot;: null, &quot;net&quot;: &quot;us&quot;, &quot;nst&quot;: 57.0, &quot;place&quot;: &quot;Bougainville region, Papua New Guinea&quot;, &quot;rms&quot;: 1.14, &quot;sig&quot;: 400, &quot;sources&quot;: &quot;,us,&quot;, &quot;status&quot;: &quot;reviewed&quot;, &quot;time&quot;: 1697106897612, &quot;title&quot;: &quot;M 5.1 - Bougainville region, Papua New Guinea&quot;, &quot;tsunami&quot;: 0, &quot;type&quot;: &quot;earthquake&quot;, &quot;types&quot;: &quot;,dyfi,origin,phase-data,&quot;, &quot;tz&quot;: null, &quot;updated&quot;: 1697109081495, &quot;url&quot;: &quot;https://earthquake.usgs.gov/earthquakes/eventpage/us6000lf1v&quot;}, &quot;type&quot;: &quot;Feature&quot;}, {&quot;bbox&quot;: [119.915, -10.24, 119.915, -10.24], &quot;geometry&quot;: {&quot;coordinates&quot;: [119.915, -10.24, 27.646], &quot;type&quot;: &quot;Point&quot;}, &quot;id&quot;: &quot;134&quot;, &quot;properties&quot;: {&quot;alert&quot;: null, &quot;cdi&quot;: null, &quot;code&quot;: &quot;6000lf1n&quot;, &quot;detail&quot;: &quot;https://earthquake.usgs.gov/earthquakes/feed/v1.0/detail/us6000lf1n.geojson&quot;, &quot;dmin&quot;: 2.534, &quot;felt&quot;: null, &quot;gap&quot;: 100.0, &quot;id&quot;: &quot;us6000lf1n&quot;, &quot;ids&quot;: &quot;,us6000lf1n,&quot;, &quot;mag&quot;: 4.9, &quot;magType&quot;: &quot;mb&quot;, &quot;mmi&quot;: null, &quot;net&quot;: &quot;us&quot;, &quot;nst&quot;: 35.0, &quot;place&quot;: &quot;75 km SSW of Waingapu, Indonesia&quot;, &quot;rms&quot;: 0.91, &quot;sig&quot;: 369, &quot;sources&quot;: &quot;,us,&quot;, &quot;status&quot;: &quot;reviewed&quot;, &quot;time&quot;: 1697103000747, &quot;title&quot;: &quot;M 4.9 - 75 km SSW of Waingapu, Indonesia&quot;, &quot;tsunami&quot;: 0, &quot;type&quot;: &quot;earthquake&quot;, &quot;types&quot;: &quot;,origin,phase-data,&quot;, &quot;tz&quot;: null, &quot;updated&quot;: 1697103991040, &quot;url&quot;: &quot;https://earthquake.usgs.gov/earthquakes/eventpage/us6000lf1n&quot;}, &quot;type&quot;: &quot;Feature&quot;}, {&quot;bbox&quot;: [-115.110333333333, 44.2291666666667, -115.110333333333, 44.2291666666667], &quot;geometry&quot;: {&quot;coordinates&quot;: [-115.110333333333, 44.2291666666667, 9.15], &quot;type&quot;: &quot;Point&quot;}, &quot;id&quot;: &quot;135&quot;, &quot;properties&quot;: {&quot;alert&quot;: null, &quot;cdi&quot;: null, &quot;code&quot;: &quot;90029593&quot;, &quot;detail&quot;: &quot;https://earthquake.usgs.gov/earthquakes/feed/v1.0/detail/mb90029593.geojson&quot;, &quot;dmin&quot;: 0.2261, &quot;felt&quot;: null, &quot;gap&quot;: 71.0, &quot;id&quot;: &quot;mb90029593&quot;, &quot;ids&quot;: &quot;,mb90029593,&quot;, &quot;mag&quot;: 2.46, &quot;magType&quot;: &quot;ml&quot;, &quot;mmi&quot;: null, &quot;net&quot;: &quot;mb&quot;, &quot;nst&quot;: 17.0, &quot;place&quot;: &quot;southern Idaho&quot;, &quot;rms&quot;: 0.19, &quot;sig&quot;: 93, &quot;sources&quot;: &quot;,mb,&quot;, &quot;status&quot;: &quot;reviewed&quot;, &quot;time&quot;: 1697102885660, &quot;title&quot;: &quot;M 2.5 - southern Idaho&quot;, &quot;tsunami&quot;: 0, &quot;type&quot;: &quot;earthquake&quot;, &quot;types&quot;: &quot;,origin,phase-data,&quot;, &quot;tz&quot;: null, &quot;updated&quot;: 1697119323570, &quot;url&quot;: &quot;https://earthquake.usgs.gov/earthquakes/eventpage/mb90029593&quot;}, &quot;type&quot;: &quot;Feature&quot;}, {&quot;bbox&quot;: [74.0347, 37.7446, 74.0347, 37.7446], &quot;geometry&quot;: {&quot;coordinates&quot;: [74.0347, 37.7446, 10.0], &quot;type&quot;: &quot;Point&quot;}, &quot;id&quot;: &quot;136&quot;, &quot;properties&quot;: {&quot;alert&quot;: null, &quot;cdi&quot;: null, &quot;code&quot;: &quot;6000lf1h&quot;, &quot;detail&quot;: &quot;https://earthquake.usgs.gov/earthquakes/feed/v1.0/detail/us6000lf1h.geojson&quot;, &quot;dmin&quot;: 2.462, &quot;felt&quot;: null, &quot;gap&quot;: 98.0, &quot;id&quot;: &quot;us6000lf1h&quot;, &quot;ids&quot;: &quot;,us6000lf1h,&quot;, &quot;mag&quot;: 4.6, &quot;magType&quot;: &quot;mb&quot;, &quot;mmi&quot;: null, &quot;net&quot;: &quot;us&quot;, &quot;nst&quot;: 29.0, &quot;place&quot;: &quot;47 km S of Murghob, Tajikistan&quot;, &quot;rms&quot;: 0.96, &quot;sig&quot;: 326, &quot;sources&quot;: &quot;,us,&quot;, &quot;status&quot;: &quot;reviewed&quot;, &quot;time&quot;: 1697100879419, &quot;title&quot;: &quot;M 4.6 - 47 km S of Murghob, Tajikistan&quot;, &quot;tsunami&quot;: 0, &quot;type&quot;: &quot;earthquake&quot;, &quot;types&quot;: &quot;,origin,phase-data,&quot;, &quot;tz&quot;: null, &quot;updated&quot;: 1697104147040, &quot;url&quot;: &quot;https://earthquake.usgs.gov/earthquakes/eventpage/us6000lf1h&quot;}, &quot;type&quot;: &quot;Feature&quot;}, {&quot;bbox&quot;: [-82.6372, 6.9735, -82.6372, 6.9735], &quot;geometry&quot;: {&quot;coordinates&quot;: [-82.6372, 6.9735, 10.0], &quot;type&quot;: &quot;Point&quot;}, &quot;id&quot;: &quot;137&quot;, &quot;properties&quot;: {&quot;alert&quot;: null, &quot;cdi&quot;: null, &quot;code&quot;: &quot;6000lf1e&quot;, &quot;detail&quot;: &quot;https://earthquake.usgs.gov/earthquakes/feed/v1.0/detail/us6000lf1e.geojson&quot;, &quot;dmin&quot;: 1.809, &quot;felt&quot;: null, &quot;gap&quot;: 145.0, &quot;id&quot;: &quot;us6000lf1e&quot;, &quot;ids&quot;: &quot;,us6000lf1e,&quot;, &quot;mag&quot;: 4.7, &quot;magType&quot;: &quot;mb&quot;, &quot;mmi&quot;: null, &quot;net&quot;: &quot;us&quot;, &quot;nst&quot;: 70.0, &quot;place&quot;: &quot;120 km SSE of Burica, Panama&quot;, &quot;rms&quot;: 0.68, &quot;sig&quot;: 340, &quot;sources&quot;: &quot;,us,&quot;, &quot;status&quot;: &quot;reviewed&quot;, &quot;time&quot;: 1697100370363, &quot;title&quot;: &quot;M 4.7 - 120 km SSE of Burica, Panama&quot;, &quot;tsunami&quot;: 0, &quot;type&quot;: &quot;earthquake&quot;, &quot;types&quot;: &quot;,origin,phase-data,&quot;, &quot;tz&quot;: null, &quot;updated&quot;: 1697103198040, &quot;url&quot;: &quot;https://earthquake.usgs.gov/earthquakes/eventpage/us6000lf1e&quot;}, &quot;type&quot;: &quot;Feature&quot;}, {&quot;bbox&quot;: [-118.2701667, 33.9085, -118.2701667, 33.9085], &quot;geometry&quot;: {&quot;coordinates&quot;: [-118.2701667, 33.9085, 21.96], &quot;type&quot;: &quot;Point&quot;}, &quot;id&quot;: &quot;138&quot;, &quot;properties&quot;: {&quot;alert&quot;: null, &quot;cdi&quot;: 3.1, &quot;code&quot;: &quot;40581528&quot;, &quot;detail&quot;: &quot;https://earthquake.usgs.gov/earthquakes/feed/v1.0/detail/ci40581528.geojson&quot;, &quot;dmin&quot;: 0.04148, &quot;felt&quot;: 8.0, &quot;gap&quot;: 50.0, &quot;id&quot;: &quot;ci40581528&quot;, &quot;ids&quot;: &quot;,ci40581528,&quot;, &quot;mag&quot;: 2.52, &quot;magType&quot;: &quot;ml&quot;, &quot;mmi&quot;: null, &quot;net&quot;: &quot;ci&quot;, &quot;nst&quot;: 115.0, &quot;place&quot;: &quot;2 km SW of Willowbrook, CA&quot;, &quot;rms&quot;: 0.21, &quot;sig&quot;: 100, &quot;sources&quot;: &quot;,ci,&quot;, &quot;status&quot;: &quot;reviewed&quot;, &quot;time&quot;: 1697099933600, &quot;title&quot;: &quot;M 2.5 - 2 km SW of Willowbrook, CA&quot;, &quot;tsunami&quot;: 0, &quot;type&quot;: &quot;earthquake&quot;, &quot;types&quot;: &quot;,dyfi,focal-mechanism,nearby-cities,origin,phase-data,scitech-link,&quot;, &quot;tz&quot;: null, &quot;updated&quot;: 1697137529180, &quot;url&quot;: &quot;https://earthquake.usgs.gov/earthquakes/eventpage/ci40581528&quot;}, &quot;type&quot;: &quot;Feature&quot;}, {&quot;bbox&quot;: [153.621, -4.3999, 153.621, -4.3999], &quot;geometry&quot;: {&quot;coordinates&quot;: [153.621, -4.3999, 109.234], &quot;type&quot;: &quot;Point&quot;}, &quot;id&quot;: &quot;139&quot;, &quot;properties&quot;: {&quot;alert&quot;: null, &quot;cdi&quot;: null, &quot;code&quot;: &quot;6000lf1a&quot;, &quot;detail&quot;: &quot;https://earthquake.usgs.gov/earthquakes/feed/v1.0/detail/us6000lf1a.geojson&quot;, &quot;dmin&quot;: 1.468, &quot;felt&quot;: null, &quot;gap&quot;: 225.0, &quot;id&quot;: &quot;us6000lf1a&quot;, &quot;ids&quot;: &quot;,us6000lf1a,&quot;, &quot;mag&quot;: 4.5, &quot;magType&quot;: &quot;mb&quot;, &quot;mmi&quot;: null, &quot;net&quot;: &quot;us&quot;, &quot;nst&quot;: 18.0, &quot;place&quot;: &quot;150 km E of Kokopo, Papua New Guinea&quot;, &quot;rms&quot;: 0.17, &quot;sig&quot;: 312, &quot;sources&quot;: &quot;,us,&quot;, &quot;status&quot;: &quot;reviewed&quot;, &quot;time&quot;: 1697097078712, &quot;title&quot;: &quot;M 4.5 - 150 km E of Kokopo, Papua New Guinea&quot;, &quot;tsunami&quot;: 0, &quot;type&quot;: &quot;earthquake&quot;, &quot;types&quot;: &quot;,origin,phase-data,&quot;, &quot;tz&quot;: null, &quot;updated&quot;: 1697104752040, &quot;url&quot;: &quot;https://earthquake.usgs.gov/earthquakes/eventpage/us6000lf1a&quot;}, &quot;type&quot;: &quot;Feature&quot;}, {&quot;bbox&quot;: [-66.9371666666667, 17.9188333333333, -66.9371666666667, 17.9188333333333], &quot;geometry&quot;: {&quot;coordinates&quot;: [-66.9371666666667, 17.9188333333333, 16.73], &quot;type&quot;: &quot;Point&quot;}, &quot;id&quot;: &quot;140&quot;, &quot;properties&quot;: {&quot;alert&quot;: null, &quot;cdi&quot;: null, &quot;code&quot;: &quot;71428283&quot;, &quot;detail&quot;: &quot;https://earthquake.usgs.gov/earthquakes/feed/v1.0/detail/pr71428283.geojson&quot;, &quot;dmin&quot;: 0.1137, &quot;felt&quot;: null, &quot;gap&quot;: 229.0, &quot;id&quot;: &quot;pr71428283&quot;, &quot;ids&quot;: &quot;,pr71428283,&quot;, &quot;mag&quot;: 2.57, &quot;magType&quot;: &quot;md&quot;, &quot;mmi&quot;: null, &quot;net&quot;: &quot;pr&quot;, &quot;nst&quot;: 5.0, &quot;place&quot;: &quot;6 km SSW of Gu\\u00e1nica, Puerto Rico&quot;, &quot;rms&quot;: 0.12, &quot;sig&quot;: 102, &quot;sources&quot;: &quot;,pr,&quot;, &quot;status&quot;: &quot;reviewed&quot;, &quot;time&quot;: 1697093987010, &quot;title&quot;: &quot;M 2.6 - 6 km SSW of Gu\\u00e1nica, Puerto Rico&quot;, &quot;tsunami&quot;: 0, &quot;type&quot;: &quot;earthquake&quot;, &quot;types&quot;: &quot;,origin,phase-data,&quot;, &quot;tz&quot;: null, &quot;updated&quot;: 1697095004030, &quot;url&quot;: &quot;https://earthquake.usgs.gov/earthquakes/eventpage/pr71428283&quot;}, &quot;type&quot;: &quot;Feature&quot;}, {&quot;bbox&quot;: [-69.1537, -25.3141, -69.1537, -25.3141], &quot;geometry&quot;: {&quot;coordinates&quot;: [-69.1537, -25.3141, 122.529], &quot;type&quot;: &quot;Point&quot;}, &quot;id&quot;: &quot;141&quot;, &quot;properties&quot;: {&quot;alert&quot;: null, &quot;cdi&quot;: null, &quot;code&quot;: &quot;6000lf0v&quot;, &quot;detail&quot;: &quot;https://earthquake.usgs.gov/earthquakes/feed/v1.0/detail/us6000lf0v.geojson&quot;, &quot;dmin&quot;: 0.423, &quot;felt&quot;: null, &quot;gap&quot;: 58.0, &quot;id&quot;: &quot;us6000lf0v&quot;, &quot;ids&quot;: &quot;,us6000lf0v,&quot;, &quot;mag&quot;: 4.2, &quot;magType&quot;: &quot;mb&quot;, &quot;mmi&quot;: null, &quot;net&quot;: &quot;us&quot;, &quot;nst&quot;: 28.0, &quot;place&quot;: &quot;Antofagasta-Atacama border region, Chile&quot;, &quot;rms&quot;: 0.48, &quot;sig&quot;: 271, &quot;sources&quot;: &quot;,us,&quot;, &quot;status&quot;: &quot;reviewed&quot;, &quot;time&quot;: 1697093721745, &quot;title&quot;: &quot;M 4.2 - Antofagasta-Atacama border region, Chile&quot;, &quot;tsunami&quot;: 0, &quot;type&quot;: &quot;earthquake&quot;, &quot;types&quot;: &quot;,origin,phase-data,&quot;, &quot;tz&quot;: null, &quot;updated&quot;: 1697095810040, &quot;url&quot;: &quot;https://earthquake.usgs.gov/earthquakes/eventpage/us6000lf0v&quot;}, &quot;type&quot;: &quot;Feature&quot;}, {&quot;bbox&quot;: [133.9424, -4.5769, 133.9424, -4.5769], &quot;geometry&quot;: {&quot;coordinates&quot;: [133.9424, -4.5769, 7.334], &quot;type&quot;: &quot;Point&quot;}, &quot;id&quot;: &quot;142&quot;, &quot;properties&quot;: {&quot;alert&quot;: null, &quot;cdi&quot;: null, &quot;code&quot;: &quot;6000lf0q&quot;, &quot;detail&quot;: &quot;https://earthquake.usgs.gov/earthquakes/feed/v1.0/detail/us6000lf0q.geojson&quot;, &quot;dmin&quot;: 2.36, &quot;felt&quot;: null, &quot;gap&quot;: 62.0, &quot;id&quot;: &quot;us6000lf0q&quot;, &quot;ids&quot;: &quot;,us6000lf0q,&quot;, &quot;mag&quot;: 5.2, &quot;magType&quot;: &quot;mww&quot;, &quot;mmi&quot;: null, &quot;net&quot;: &quot;us&quot;, &quot;nst&quot;: 62.0, &quot;place&quot;: &quot;175 km NE of Tual, Indonesia&quot;, &quot;rms&quot;: 0.85, &quot;sig&quot;: 416, &quot;sources&quot;: &quot;,us,&quot;, &quot;status&quot;: &quot;reviewed&quot;, &quot;time&quot;: 1697091521103, &quot;title&quot;: &quot;M 5.2 - 175 km NE of Tual, Indonesia&quot;, &quot;tsunami&quot;: 0, &quot;type&quot;: &quot;earthquake&quot;, &quot;types&quot;: &quot;,origin,phase-data,&quot;, &quot;tz&quot;: null, &quot;updated&quot;: 1697092971040, &quot;url&quot;: &quot;https://earthquake.usgs.gov/earthquakes/eventpage/us6000lf0q&quot;}, &quot;type&quot;: &quot;Feature&quot;}, {&quot;bbox&quot;: [-72.1358, -39.4968, -72.1358, -39.4968], &quot;geometry&quot;: {&quot;coordinates&quot;: [-72.1358, -39.4968, 81.908], &quot;type&quot;: &quot;Point&quot;}, &quot;id&quot;: &quot;143&quot;, &quot;properties&quot;: {&quot;alert&quot;: null, &quot;cdi&quot;: 4.3, &quot;code&quot;: &quot;6000lf0i&quot;, &quot;detail&quot;: &quot;https://earthquake.usgs.gov/earthquakes/feed/v1.0/detail/us6000lf0i.geojson&quot;, &quot;dmin&quot;: 0.211, &quot;felt&quot;: 4.0, &quot;gap&quot;: 66.0, &quot;id&quot;: &quot;us6000lf0i&quot;, &quot;ids&quot;: &quot;,us6000lf0i,&quot;, &quot;mag&quot;: 4.7, &quot;magType&quot;: &quot;mb&quot;, &quot;mmi&quot;: null, &quot;net&quot;: &quot;us&quot;, &quot;nst&quot;: 69.0, &quot;place&quot;: &quot;23 km NE of Panguipulli, Chile&quot;, &quot;rms&quot;: 0.67, &quot;sig&quot;: 342, &quot;sources&quot;: &quot;,us,&quot;, &quot;status&quot;: &quot;reviewed&quot;, &quot;time&quot;: 1697090691576, &quot;title&quot;: &quot;M 4.7 - 23 km NE of Panguipulli, Chile&quot;, &quot;tsunami&quot;: 0, &quot;type&quot;: &quot;earthquake&quot;, &quot;types&quot;: &quot;,dyfi,origin,phase-data,&quot;, &quot;tz&quot;: null, &quot;updated&quot;: 1697114537862, &quot;url&quot;: &quot;https://earthquake.usgs.gov/earthquakes/eventpage/us6000lf0i&quot;}, &quot;type&quot;: &quot;Feature&quot;}, {&quot;bbox&quot;: [-104.145, 31.548, -104.145, 31.548], &quot;geometry&quot;: {&quot;coordinates&quot;: [-104.145, 31.548, 6.0802], &quot;type&quot;: &quot;Point&quot;}, &quot;id&quot;: &quot;144&quot;, &quot;properties&quot;: {&quot;alert&quot;: null, &quot;cdi&quot;: null, &quot;code&quot;: &quot;2023tzhx&quot;, &quot;detail&quot;: &quot;https://earthquake.usgs.gov/earthquakes/feed/v1.0/detail/tx2023tzhx.geojson&quot;, &quot;dmin&quot;: 0.0, &quot;felt&quot;: null, &quot;gap&quot;: 69.0, &quot;id&quot;: &quot;tx2023tzhx&quot;, &quot;ids&quot;: &quot;,tx2023tzhx,&quot;, &quot;mag&quot;: 2.5, &quot;magType&quot;: &quot;ml(texnet)&quot;, &quot;mmi&quot;: null, &quot;net&quot;: &quot;tx&quot;, &quot;nst&quot;: 18.0, &quot;place&quot;: &quot;42 km NW of Toyah, Texas&quot;, &quot;rms&quot;: 0.2, &quot;sig&quot;: 96, &quot;sources&quot;: &quot;,tx,&quot;, &quot;status&quot;: &quot;reviewed&quot;, &quot;time&quot;: 1697088782136, &quot;title&quot;: &quot;M 2.5 - 42 km NW of Toyah, Texas&quot;, &quot;tsunami&quot;: 0, &quot;type&quot;: &quot;earthquake&quot;, &quot;types&quot;: &quot;,origin,phase-data,&quot;, &quot;tz&quot;: null, &quot;updated&quot;: 1697114927682, &quot;url&quot;: &quot;https://earthquake.usgs.gov/earthquakes/eventpage/tx2023tzhx&quot;}, &quot;type&quot;: &quot;Feature&quot;}, {&quot;bbox&quot;: [-155.500833333333, 19.1981666666667, -155.500833333333, 19.1981666666667], &quot;geometry&quot;: {&quot;coordinates&quot;: [-155.500833333333, 19.1981666666667, 36.31], &quot;type&quot;: &quot;Point&quot;}, &quot;id&quot;: &quot;145&quot;, &quot;properties&quot;: {&quot;alert&quot;: null, &quot;cdi&quot;: 2.7, &quot;code&quot;: &quot;73606227&quot;, &quot;detail&quot;: &quot;https://earthquake.usgs.gov/earthquakes/feed/v1.0/detail/hv73606227.geojson&quot;, &quot;dmin&quot;: null, &quot;felt&quot;: 6.0, &quot;gap&quot;: 70.0, &quot;id&quot;: &quot;hv73606227&quot;, &quot;ids&quot;: &quot;,hv73606227,us6000lf09,&quot;, &quot;mag&quot;: 2.89, &quot;magType&quot;: &quot;ml&quot;, &quot;mmi&quot;: null, &quot;net&quot;: &quot;hv&quot;, &quot;nst&quot;: 57.0, &quot;place&quot;: &quot;2 km WSW of P\\u0101hala, Hawaii&quot;, &quot;rms&quot;: 0.12, &quot;sig&quot;: 130, &quot;sources&quot;: &quot;,hv,us,&quot;, &quot;status&quot;: &quot;reviewed&quot;, &quot;time&quot;: 1697087584420, &quot;title&quot;: &quot;M 2.9 - 2 km WSW of P\\u0101hala, Hawaii&quot;, &quot;tsunami&quot;: 0, &quot;type&quot;: &quot;earthquake&quot;, &quot;types&quot;: &quot;,dyfi,origin,phase-data,&quot;, &quot;tz&quot;: null, &quot;updated&quot;: 1697145354880, &quot;url&quot;: &quot;https://earthquake.usgs.gov/earthquakes/eventpage/hv73606227&quot;}, &quot;type&quot;: &quot;Feature&quot;}, {&quot;bbox&quot;: [-178.655, -17.8008, -178.655, -17.8008], &quot;geometry&quot;: {&quot;coordinates&quot;: [-178.655, -17.8008, 561.575], &quot;type&quot;: &quot;Point&quot;}, &quot;id&quot;: &quot;146&quot;, &quot;properties&quot;: {&quot;alert&quot;: null, &quot;cdi&quot;: null, &quot;code&quot;: &quot;6000lf07&quot;, &quot;detail&quot;: &quot;https://earthquake.usgs.gov/earthquakes/feed/v1.0/detail/us6000lf07.geojson&quot;, &quot;dmin&quot;: 4.504, &quot;felt&quot;: null, &quot;gap&quot;: 32.0, &quot;id&quot;: &quot;us6000lf07&quot;, &quot;ids&quot;: &quot;,us6000lf07,&quot;, &quot;mag&quot;: 4.9, &quot;magType&quot;: &quot;mb&quot;, &quot;mmi&quot;: null, &quot;net&quot;: &quot;us&quot;, &quot;nst&quot;: 86.0, &quot;place&quot;: &quot;216 km E of Levuka, Fiji&quot;, &quot;rms&quot;: 0.86, &quot;sig&quot;: 369, &quot;sources&quot;: &quot;,us,&quot;, &quot;status&quot;: &quot;reviewed&quot;, &quot;time&quot;: 1697086821170, &quot;title&quot;: &quot;M 4.9 - 216 km E of Levuka, Fiji&quot;, &quot;tsunami&quot;: 0, &quot;type&quot;: &quot;earthquake&quot;, &quot;types&quot;: &quot;,origin,phase-data,&quot;, &quot;tz&quot;: null, &quot;updated&quot;: 1697088054040, &quot;url&quot;: &quot;https://earthquake.usgs.gov/earthquakes/eventpage/us6000lf07&quot;}, &quot;type&quot;: &quot;Feature&quot;}, {&quot;bbox&quot;: [-68.5528, 18.1818, -68.5528, 18.1818], &quot;geometry&quot;: {&quot;coordinates&quot;: [-68.5528, 18.1818, 54.0], &quot;type&quot;: &quot;Point&quot;}, &quot;id&quot;: &quot;147&quot;, &quot;properties&quot;: {&quot;alert&quot;: null, &quot;cdi&quot;: null, &quot;code&quot;: &quot;2023285000&quot;, &quot;detail&quot;: &quot;https://earthquake.usgs.gov/earthquakes/feed/v1.0/detail/pr2023285000.geojson&quot;, &quot;dmin&quot;: 0.3737, &quot;felt&quot;: null, &quot;gap&quot;: 288.0, &quot;id&quot;: &quot;pr2023285000&quot;, &quot;ids&quot;: &quot;,pr2023285000,&quot;, &quot;mag&quot;: 3.68, &quot;magType&quot;: &quot;md&quot;, &quot;mmi&quot;: null, &quot;net&quot;: &quot;pr&quot;, &quot;nst&quot;: 12.0, &quot;place&quot;: &quot;22 km SSE of Boca de Yuma, Dominican Republic&quot;, &quot;rms&quot;: 0.34, &quot;sig&quot;: 208, &quot;sources&quot;: &quot;,pr,&quot;, &quot;status&quot;: &quot;reviewed&quot;, &quot;time&quot;: 1697084411880, &quot;title&quot;: &quot;M 3.7 - 22 km SSE of Boca de Yuma, Dominican Republic&quot;, &quot;tsunami&quot;: 0, &quot;type&quot;: &quot;earthquake&quot;, &quot;types&quot;: &quot;,origin,phase-data,&quot;, &quot;tz&quot;: null, &quot;updated&quot;: 1697086135403, &quot;url&quot;: &quot;https://earthquake.usgs.gov/earthquakes/eventpage/pr2023285000&quot;}, &quot;type&quot;: &quot;Feature&quot;}, {&quot;bbox&quot;: [160.1794, 54.4949, 160.1794, 54.4949], &quot;geometry&quot;: {&quot;coordinates&quot;: [160.1794, 54.4949, 112.794], &quot;type&quot;: &quot;Point&quot;}, &quot;id&quot;: &quot;148&quot;, &quot;properties&quot;: {&quot;alert&quot;: null, &quot;cdi&quot;: null, &quot;code&quot;: &quot;6000lf03&quot;, &quot;detail&quot;: &quot;https://earthquake.usgs.gov/earthquakes/feed/v1.0/detail/us6000lf03.geojson&quot;, &quot;dmin&quot;: 1.731, &quot;felt&quot;: null, &quot;gap&quot;: 133.0, &quot;id&quot;: &quot;us6000lf03&quot;, &quot;ids&quot;: &quot;,us6000lf03,&quot;, &quot;mag&quot;: 4.2, &quot;magType&quot;: &quot;mb&quot;, &quot;mmi&quot;: null, &quot;net&quot;: &quot;us&quot;, &quot;nst&quot;: 37.0, &quot;place&quot;: &quot;near the east coast of the Kamchatka Peninsula, Russia&quot;, &quot;rms&quot;: 1.02, &quot;sig&quot;: 271, &quot;sources&quot;: &quot;,us,&quot;, &quot;status&quot;: &quot;reviewed&quot;, &quot;time&quot;: 1697084143642, &quot;title&quot;: &quot;M 4.2 - near the east coast of the Kamchatka Peninsula, Russia&quot;, &quot;tsunami&quot;: 0, &quot;type&quot;: &quot;earthquake&quot;, &quot;types&quot;: &quot;,origin,phase-data,&quot;, &quot;tz&quot;: null, &quot;updated&quot;: 1697085364040, &quot;url&quot;: &quot;https://earthquake.usgs.gov/earthquakes/eventpage/us6000lf03&quot;}, &quot;type&quot;: &quot;Feature&quot;}, {&quot;bbox&quot;: [-176.2373, -29.3289, -176.2373, -29.3289], &quot;geometry&quot;: {&quot;coordinates&quot;: [-176.2373, -29.3289, 10.0], &quot;type&quot;: &quot;Point&quot;}, &quot;id&quot;: &quot;149&quot;, &quot;properties&quot;: {&quot;alert&quot;: null, &quot;cdi&quot;: null, &quot;code&quot;: &quot;6000lezl&quot;, &quot;detail&quot;: &quot;https://earthquake.usgs.gov/earthquakes/feed/v1.0/detail/us6000lezl.geojson&quot;, &quot;dmin&quot;: 1.472, &quot;felt&quot;: null, &quot;gap&quot;: 115.0, &quot;id&quot;: &quot;us6000lezl&quot;, &quot;ids&quot;: &quot;,us6000lezl,&quot;, &quot;mag&quot;: 4.8, &quot;magType&quot;: &quot;mb&quot;, &quot;mmi&quot;: null, &quot;net&quot;: &quot;us&quot;, &quot;nst&quot;: 31.0, &quot;place&quot;: &quot;Kermadec Islands region&quot;, &quot;rms&quot;: 1.15, &quot;sig&quot;: 354, &quot;sources&quot;: &quot;,us,&quot;, &quot;status&quot;: &quot;reviewed&quot;, &quot;time&quot;: 1697081431199, &quot;title&quot;: &quot;M 4.8 - Kermadec Islands region&quot;, &quot;tsunami&quot;: 0, &quot;type&quot;: &quot;earthquake&quot;, &quot;types&quot;: &quot;,origin,phase-data,&quot;, &quot;tz&quot;: null, &quot;updated&quot;: 1697082858040, &quot;url&quot;: &quot;https://earthquake.usgs.gov/earthquakes/eventpage/us6000lezl&quot;}, &quot;type&quot;: &quot;Feature&quot;}, {&quot;bbox&quot;: [-171.2676, 52.8249, -171.2676, 52.8249], &quot;geometry&quot;: {&quot;coordinates&quot;: [-171.2676, 52.8249, 113.189], &quot;type&quot;: &quot;Point&quot;}, &quot;id&quot;: &quot;150&quot;, &quot;properties&quot;: {&quot;alert&quot;: null, &quot;cdi&quot;: null, &quot;code&quot;: &quot;6000lez7&quot;, &quot;detail&quot;: &quot;https://earthquake.usgs.gov/earthquakes/feed/v1.0/detail/us6000lez7.geojson&quot;, &quot;dmin&quot;: 1.469, &quot;felt&quot;: null, &quot;gap&quot;: 161.0, &quot;id&quot;: &quot;us6000lez7&quot;, &quot;ids&quot;: &quot;,ak023d3e1xl1,us6000lez7,&quot;, &quot;mag&quot;: 4.4, &quot;magType&quot;: &quot;mb&quot;, &quot;mmi&quot;: 2.718, &quot;net&quot;: &quot;us&quot;, &quot;nst&quot;: 43.0, &quot;place&quot;: &quot;162 km W of Nikolski, Alaska&quot;, &quot;rms&quot;: 0.83, &quot;sig&quot;: 298, &quot;sources&quot;: &quot;,ak,us,&quot;, &quot;status&quot;: &quot;reviewed&quot;, &quot;time&quot;: 1697080659234, &quot;title&quot;: &quot;M 4.4 - 162 km W of Nikolski, Alaska&quot;, &quot;tsunami&quot;: 0, &quot;type&quot;: &quot;earthquake&quot;, &quot;types&quot;: &quot;,origin,phase-data,shakemap,&quot;, &quot;tz&quot;: null, &quot;updated&quot;: 1697131413615, &quot;url&quot;: &quot;https://earthquake.usgs.gov/earthquakes/eventpage/us6000lez7&quot;}, &quot;type&quot;: &quot;Feature&quot;}, {&quot;bbox&quot;: [-150.7181, 60.3445, -150.7181, 60.3445], &quot;geometry&quot;: {&quot;coordinates&quot;: [-150.7181, 60.3445, 65.5], &quot;type&quot;: &quot;Point&quot;}, &quot;id&quot;: &quot;151&quot;, &quot;properties&quot;: {&quot;alert&quot;: null, &quot;cdi&quot;: 2.6, &quot;code&quot;: &quot;023d3dyut1&quot;, &quot;detail&quot;: &quot;https://earthquake.usgs.gov/earthquakes/feed/v1.0/detail/ak023d3dyut1.geojson&quot;, &quot;dmin&quot;: null, &quot;felt&quot;: 2.0, &quot;gap&quot;: null, &quot;id&quot;: &quot;ak023d3dyut1&quot;, &quot;ids&quot;: &quot;,ak023d3dyut1,&quot;, &quot;mag&quot;: 3.4, &quot;magType&quot;: &quot;ml&quot;, &quot;mmi&quot;: null, &quot;net&quot;: &quot;ak&quot;, &quot;nst&quot;: null, &quot;place&quot;: &quot;17 km S of Funny River, Alaska&quot;, &quot;rms&quot;: 0.44, &quot;sig&quot;: 178, &quot;sources&quot;: &quot;,ak,&quot;, &quot;status&quot;: &quot;reviewed&quot;, &quot;time&quot;: 1697079770381, &quot;title&quot;: &quot;M 3.4 - 17 km S of Funny River, Alaska&quot;, &quot;tsunami&quot;: 0, &quot;type&quot;: &quot;earthquake&quot;, &quot;types&quot;: &quot;,dyfi,origin,phase-data,&quot;, &quot;tz&quot;: null, &quot;updated&quot;: 1697129642800, &quot;url&quot;: &quot;https://earthquake.usgs.gov/earthquakes/eventpage/ak023d3dyut1&quot;}, &quot;type&quot;: &quot;Feature&quot;}, {&quot;bbox&quot;: [-150.7148, 60.3497, -150.7148, 60.3497], &quot;geometry&quot;: {&quot;coordinates&quot;: [-150.7148, 60.3497, 63.4], &quot;type&quot;: &quot;Point&quot;}, &quot;id&quot;: &quot;152&quot;, &quot;properties&quot;: {&quot;alert&quot;: null, &quot;cdi&quot;: 1.0, &quot;code&quot;: &quot;023d3dyqv0&quot;, &quot;detail&quot;: &quot;https://earthquake.usgs.gov/earthquakes/feed/v1.0/detail/ak023d3dyqv0.geojson&quot;, &quot;dmin&quot;: null, &quot;felt&quot;: 1.0, &quot;gap&quot;: null, &quot;id&quot;: &quot;ak023d3dyqv0&quot;, &quot;ids&quot;: &quot;,ak023d3dyqv0,us6000lez1,&quot;, &quot;mag&quot;: 3.3, &quot;magType&quot;: &quot;ml&quot;, &quot;mmi&quot;: 2.66, &quot;net&quot;: &quot;ak&quot;, &quot;nst&quot;: null, &quot;place&quot;: &quot;Kenai Peninsula, Alaska&quot;, &quot;rms&quot;: 0.26, &quot;sig&quot;: 168, &quot;sources&quot;: &quot;,ak,us,&quot;, &quot;status&quot;: &quot;automatic&quot;, &quot;time&quot;: 1697079770209, &quot;title&quot;: &quot;M 3.3 - Kenai Peninsula, Alaska&quot;, &quot;tsunami&quot;: 0, &quot;type&quot;: &quot;earthquake&quot;, &quot;types&quot;: &quot;,dyfi,origin,phase-data,shakemap,&quot;, &quot;tz&quot;: null, &quot;updated&quot;: 1697256902509, &quot;url&quot;: &quot;https://earthquake.usgs.gov/earthquakes/eventpage/ak023d3dyqv0&quot;}, &quot;type&quot;: &quot;Feature&quot;}, {&quot;bbox&quot;: [-171.2632, 52.7916, -171.2632, 52.7916], &quot;geometry&quot;: {&quot;coordinates&quot;: [-171.2632, 52.7916, 118.401], &quot;type&quot;: &quot;Point&quot;}, &quot;id&quot;: &quot;153&quot;, &quot;properties&quot;: {&quot;alert&quot;: &quot;green&quot;, &quot;cdi&quot;: 3.8, &quot;code&quot;: &quot;6000leyu&quot;, &quot;detail&quot;: &quot;https://earthquake.usgs.gov/earthquakes/feed/v1.0/detail/us6000leyu.geojson&quot;, &quot;dmin&quot;: 0.757, &quot;felt&quot;: 3.0, &quot;gap&quot;: 50.0, &quot;id&quot;: &quot;us6000leyu&quot;, &quot;ids&quot;: &quot;,at00s2ea4o,ak023d3dlld2,us6000leyu,&quot;, &quot;mag&quot;: 5.6, &quot;magType&quot;: &quot;mww&quot;, &quot;mmi&quot;: 4.063, &quot;net&quot;: &quot;us&quot;, &quot;nst&quot;: 131.0, &quot;place&quot;: &quot;162 km W of Nikolski, Alaska&quot;, &quot;rms&quot;: 1.42, &quot;sig&quot;: 484, &quot;sources&quot;: &quot;,at,ak,us,&quot;, &quot;status&quot;: &quot;reviewed&quot;, &quot;time&quot;: 1697078472874, &quot;title&quot;: &quot;M 5.6 - 162 km W of Nikolski, Alaska&quot;, &quot;tsunami&quot;: 1, &quot;type&quot;: &quot;earthquake&quot;, &quot;types&quot;: &quot;,dyfi,impact-link,losspager,moment-tensor,oaf,origin,phase-data,shakemap,&quot;, &quot;tz&quot;: null, &quot;updated&quot;: 1697338284668, &quot;url&quot;: &quot;https://earthquake.usgs.gov/earthquakes/eventpage/us6000leyu&quot;}, &quot;type&quot;: &quot;Feature&quot;}, {&quot;bbox&quot;: [-122.5043333, 38.6881667, -122.5043333, 38.6881667], &quot;geometry&quot;: {&quot;coordinates&quot;: [-122.5043333, 38.6881667, 6.63], &quot;type&quot;: &quot;Point&quot;}, &quot;id&quot;: &quot;154&quot;, &quot;properties&quot;: {&quot;alert&quot;: null, &quot;cdi&quot;: 3.8, &quot;code&quot;: &quot;73946265&quot;, &quot;detail&quot;: &quot;https://earthquake.usgs.gov/earthquakes/feed/v1.0/detail/nc73946265.geojson&quot;, &quot;dmin&quot;: 0.06647, &quot;felt&quot;: 7.0, &quot;gap&quot;: 44.0, &quot;id&quot;: &quot;nc73946265&quot;, &quot;ids&quot;: &quot;,nc73946265,us6000leyk,&quot;, &quot;mag&quot;: 2.7, &quot;magType&quot;: &quot;md&quot;, &quot;mmi&quot;: null, &quot;net&quot;: &quot;nc&quot;, &quot;nst&quot;: 95.0, &quot;place&quot;: &quot;12 km SE of Middletown, CA&quot;, &quot;rms&quot;: 0.14, &quot;sig&quot;: 115, &quot;sources&quot;: &quot;,nc,us,&quot;, &quot;status&quot;: &quot;reviewed&quot;, &quot;time&quot;: 1697074442260, &quot;title&quot;: &quot;M 2.7 - 12 km SE of Middletown, CA&quot;, &quot;tsunami&quot;: 0, &quot;type&quot;: &quot;earthquake&quot;, &quot;types&quot;: &quot;,dyfi,focal-mechanism,nearby-cities,origin,phase-data,scitech-link,&quot;, &quot;tz&quot;: null, &quot;updated&quot;: 1697122791503, &quot;url&quot;: &quot;https://earthquake.usgs.gov/earthquakes/eventpage/nc73946265&quot;}, &quot;type&quot;: &quot;Feature&quot;}, {&quot;bbox&quot;: [-65.8845, 17.9066666666667, -65.8845, 17.9066666666667], &quot;geometry&quot;: {&quot;coordinates&quot;: [-65.8845, 17.9066666666667, 13.74], &quot;type&quot;: &quot;Point&quot;}, &quot;id&quot;: &quot;155&quot;, &quot;properties&quot;: {&quot;alert&quot;: null, &quot;cdi&quot;: null, &quot;code&quot;: &quot;71428238&quot;, &quot;detail&quot;: &quot;https://earthquake.usgs.gov/earthquakes/feed/v1.0/detail/pr71428238.geojson&quot;, &quot;dmin&quot;: 0.09915, &quot;felt&quot;: null, &quot;gap&quot;: 224.0, &quot;id&quot;: &quot;pr71428238&quot;, &quot;ids&quot;: &quot;,pr71428238,&quot;, &quot;mag&quot;: 2.48, &quot;magType&quot;: &quot;md&quot;, &quot;mmi&quot;: null, &quot;net&quot;: &quot;pr&quot;, &quot;nst&quot;: 11.0, &quot;place&quot;: &quot;10 km S of Emajagua, Puerto Rico&quot;, &quot;rms&quot;: 0.13, &quot;sig&quot;: 95, &quot;sources&quot;: &quot;,pr,&quot;, &quot;status&quot;: &quot;reviewed&quot;, &quot;time&quot;: 1697068124190, &quot;title&quot;: &quot;M 2.5 - 10 km S of Emajagua, Puerto Rico&quot;, &quot;tsunami&quot;: 0, &quot;type&quot;: &quot;earthquake&quot;, &quot;types&quot;: &quot;,origin,phase-data,&quot;, &quot;tz&quot;: null, &quot;updated&quot;: 1697068863550, &quot;url&quot;: &quot;https://earthquake.usgs.gov/earthquakes/eventpage/pr71428238&quot;}, &quot;type&quot;: &quot;Feature&quot;}, {&quot;bbox&quot;: [138.8555, 29.8058, 138.8555, 29.8058], &quot;geometry&quot;: {&quot;coordinates&quot;: [138.8555, 29.8058, 452.494], &quot;type&quot;: &quot;Point&quot;}, &quot;id&quot;: &quot;156&quot;, &quot;properties&quot;: {&quot;alert&quot;: null, &quot;cdi&quot;: null, &quot;code&quot;: &quot;6000ley7&quot;, &quot;detail&quot;: &quot;https://earthquake.usgs.gov/earthquakes/feed/v1.0/detail/us6000ley7.geojson&quot;, &quot;dmin&quot;: 3.399, &quot;felt&quot;: null, &quot;gap&quot;: 151.0, &quot;id&quot;: &quot;us6000ley7&quot;, &quot;ids&quot;: &quot;,us6000ley7,&quot;, &quot;mag&quot;: 4.1, &quot;magType&quot;: &quot;mb&quot;, &quot;mmi&quot;: null, &quot;net&quot;: &quot;us&quot;, &quot;nst&quot;: 30.0, &quot;place&quot;: &quot;Izu Islands, Japan region&quot;, &quot;rms&quot;: 0.58, &quot;sig&quot;: 259, &quot;sources&quot;: &quot;,us,&quot;, &quot;status&quot;: &quot;reviewed&quot;, &quot;time&quot;: 1697067840837, &quot;title&quot;: &quot;M 4.1 - Izu Islands, Japan region&quot;, &quot;tsunami&quot;: 0, &quot;type&quot;: &quot;earthquake&quot;, &quot;types&quot;: &quot;,origin,phase-data,&quot;, &quot;tz&quot;: null, &quot;updated&quot;: 1697069706040, &quot;url&quot;: &quot;https://earthquake.usgs.gov/earthquakes/eventpage/us6000ley7&quot;}, &quot;type&quot;: &quot;Feature&quot;}, {&quot;bbox&quot;: [101.5687, 22.2515, 101.5687, 22.2515], &quot;geometry&quot;: {&quot;coordinates&quot;: [101.5687, 22.2515, 10.0], &quot;type&quot;: &quot;Point&quot;}, &quot;id&quot;: &quot;157&quot;, &quot;properties&quot;: {&quot;alert&quot;: null, &quot;cdi&quot;: null, &quot;code&quot;: &quot;6000ley3&quot;, &quot;detail&quot;: &quot;https://earthquake.usgs.gov/earthquakes/feed/v1.0/detail/us6000ley3.geojson&quot;, &quot;dmin&quot;: 4.507, &quot;felt&quot;: null, &quot;gap&quot;: 100.0, &quot;id&quot;: &quot;us6000ley3&quot;, &quot;ids&quot;: &quot;,us6000ley3,&quot;, &quot;mag&quot;: 4.4, &quot;magType&quot;: &quot;mb&quot;, &quot;mmi&quot;: null, &quot;net&quot;: &quot;us&quot;, &quot;nst&quot;: 23.0, &quot;place&quot;: &quot;China-Laos border region&quot;, &quot;rms&quot;: 0.49, &quot;sig&quot;: 298, &quot;sources&quot;: &quot;,us,&quot;, &quot;status&quot;: &quot;reviewed&quot;, &quot;time&quot;: 1697065331479, &quot;title&quot;: &quot;M 4.4 - China-Laos border region&quot;, &quot;tsunami&quot;: 0, &quot;type&quot;: &quot;earthquake&quot;, &quot;types&quot;: &quot;,origin,phase-data,&quot;, &quot;tz&quot;: null, &quot;updated&quot;: 1697068242040, &quot;url&quot;: &quot;https://earthquake.usgs.gov/earthquakes/eventpage/us6000ley3&quot;}, &quot;type&quot;: &quot;Feature&quot;}, {&quot;bbox&quot;: [128.6949, 28.792, 128.6949, 28.792], &quot;geometry&quot;: {&quot;coordinates&quot;: [128.6949, 28.792, 137.196], &quot;type&quot;: &quot;Point&quot;}, &quot;id&quot;: &quot;158&quot;, &quot;properties&quot;: {&quot;alert&quot;: null, &quot;cdi&quot;: null, &quot;code&quot;: &quot;6000lexu&quot;, &quot;detail&quot;: &quot;https://earthquake.usgs.gov/earthquakes/feed/v1.0/detail/us6000lexu.geojson&quot;, &quot;dmin&quot;: 1.984, &quot;felt&quot;: null, &quot;gap&quot;: 97.0, &quot;id&quot;: &quot;us6000lexu&quot;, &quot;ids&quot;: &quot;,us6000lexu,&quot;, &quot;mag&quot;: 4.6, &quot;magType&quot;: &quot;mb&quot;, &quot;mmi&quot;: null, &quot;net&quot;: &quot;us&quot;, &quot;nst&quot;: 35.0, &quot;place&quot;: &quot;75 km NW of Uken, Japan&quot;, &quot;rms&quot;: 0.69, &quot;sig&quot;: 326, &quot;sources&quot;: &quot;,us,&quot;, &quot;status&quot;: &quot;reviewed&quot;, &quot;time&quot;: 1697063593547, &quot;title&quot;: &quot;M 4.6 - 75 km NW of Uken, Japan&quot;, &quot;tsunami&quot;: 0, &quot;type&quot;: &quot;earthquake&quot;, &quot;types&quot;: &quot;,origin,phase-data,&quot;, &quot;tz&quot;: null, &quot;updated&quot;: 1697064406040, &quot;url&quot;: &quot;https://earthquake.usgs.gov/earthquakes/eventpage/us6000lexu&quot;}, &quot;type&quot;: &quot;Feature&quot;}, {&quot;bbox&quot;: [139.5902, -52.0599, 139.5902, -52.0599], &quot;geometry&quot;: {&quot;coordinates&quot;: [139.5902, -52.0599, 4.79], &quot;type&quot;: &quot;Point&quot;}, &quot;id&quot;: &quot;159&quot;, &quot;properties&quot;: {&quot;alert&quot;: &quot;green&quot;, &quot;cdi&quot;: null, &quot;code&quot;: &quot;6000lews&quot;, &quot;detail&quot;: &quot;https://earthquake.usgs.gov/earthquakes/feed/v1.0/detail/us6000lews.geojson&quot;, &quot;dmin&quot;: 10.536, &quot;felt&quot;: null, &quot;gap&quot;: 35.0, &quot;id&quot;: &quot;us6000lews&quot;, &quot;ids&quot;: &quot;,us6000lews,&quot;, &quot;mag&quot;: 6.3, &quot;magType&quot;: &quot;mww&quot;, &quot;mmi&quot;: 0.0, &quot;net&quot;: &quot;us&quot;, &quot;nst&quot;: 116.0, &quot;place&quot;: &quot;west of Macquarie Island&quot;, &quot;rms&quot;: 0.89, &quot;sig&quot;: 611, &quot;sources&quot;: &quot;,us,&quot;, &quot;status&quot;: &quot;reviewed&quot;, &quot;time&quot;: 1697054697368, &quot;title&quot;: &quot;M 6.3 - west of Macquarie Island&quot;, &quot;tsunami&quot;: 0, &quot;type&quot;: &quot;earthquake&quot;, &quot;types&quot;: &quot;,losspager,moment-tensor,origin,phase-data,shakemap,&quot;, &quot;tz&quot;: null, &quot;updated&quot;: 1697141367766, &quot;url&quot;: &quot;https://earthquake.usgs.gov/earthquakes/eventpage/us6000lews&quot;}, &quot;type&quot;: &quot;Feature&quot;}, {&quot;bbox&quot;: [81.1553, 29.5876, 81.1553, 29.5876], &quot;geometry&quot;: {&quot;coordinates&quot;: [81.1553, 29.5876, 10.0], &quot;type&quot;: &quot;Point&quot;}, &quot;id&quot;: &quot;160&quot;, &quot;properties&quot;: {&quot;alert&quot;: null, &quot;cdi&quot;: 3.3, &quot;code&quot;: &quot;6000lewe&quot;, &quot;detail&quot;: &quot;https://earthquake.usgs.gov/earthquakes/feed/v1.0/detail/us6000lewe.geojson&quot;, &quot;dmin&quot;: 4.037, &quot;felt&quot;: 3.0, &quot;gap&quot;: 46.0, &quot;id&quot;: &quot;us6000lewe&quot;, &quot;ids&quot;: &quot;,us6000lewe,&quot;, &quot;mag&quot;: 4.8, &quot;magType&quot;: &quot;mb&quot;, &quot;mmi&quot;: null, &quot;net&quot;: &quot;us&quot;, &quot;nst&quot;: 72.0, &quot;place&quot;: &quot;41 km NNE of Dipayal, Nepal&quot;, &quot;rms&quot;: 0.58, &quot;sig&quot;: 355, &quot;sources&quot;: &quot;,us,&quot;, &quot;status&quot;: &quot;reviewed&quot;, &quot;time&quot;: 1697049442045, &quot;title&quot;: &quot;M 4.8 - 41 km NNE of Dipayal, Nepal&quot;, &quot;tsunami&quot;: 0, &quot;type&quot;: &quot;earthquake&quot;, &quot;types&quot;: &quot;,dyfi,origin,phase-data,&quot;, &quot;tz&quot;: null, &quot;updated&quot;: 1697090428061, &quot;url&quot;: &quot;https://earthquake.usgs.gov/earthquakes/eventpage/us6000lewe&quot;}, &quot;type&quot;: &quot;Feature&quot;}, {&quot;bbox&quot;: [-165.199, 53.7778, -165.199, 53.7778], &quot;geometry&quot;: {&quot;coordinates&quot;: [-165.199, 53.7778, 102.256], &quot;type&quot;: &quot;Point&quot;}, &quot;id&quot;: &quot;161&quot;, &quot;properties&quot;: {&quot;alert&quot;: null, &quot;cdi&quot;: null, &quot;code&quot;: &quot;6000leyf&quot;, &quot;detail&quot;: &quot;https://earthquake.usgs.gov/earthquakes/feed/v1.0/detail/us6000leyf.geojson&quot;, &quot;dmin&quot;: 0.497, &quot;felt&quot;: null, &quot;gap&quot;: 224.0, &quot;id&quot;: &quot;us6000leyf&quot;, &quot;ids&quot;: &quot;,ak023d1yts3a,us6000leyf,&quot;, &quot;mag&quot;: 2.7, &quot;magType&quot;: &quot;ml&quot;, &quot;mmi&quot;: null, &quot;net&quot;: &quot;us&quot;, &quot;nst&quot;: 20.0, &quot;place&quot;: &quot;Fox Islands, Aleutian Islands, Alaska&quot;, &quot;rms&quot;: 0.38, &quot;sig&quot;: 112, &quot;sources&quot;: &quot;,ak,us,&quot;, &quot;status&quot;: &quot;reviewed&quot;, &quot;time&quot;: 1697044396581, &quot;title&quot;: &quot;M 2.7 - Fox Islands, Aleutian Islands, Alaska&quot;, &quot;tsunami&quot;: 0, &quot;type&quot;: &quot;earthquake&quot;, &quot;types&quot;: &quot;,origin,phase-data,&quot;, &quot;tz&quot;: null, &quot;updated&quot;: 1697209256040, &quot;url&quot;: &quot;https://earthquake.usgs.gov/earthquakes/eventpage/us6000leyf&quot;}, &quot;type&quot;: &quot;Feature&quot;}, {&quot;bbox&quot;: [179.789, -24.9266, 179.789, -24.9266], &quot;geometry&quot;: {&quot;coordinates&quot;: [179.789, -24.9266, 511.03], &quot;type&quot;: &quot;Point&quot;}, &quot;id&quot;: &quot;162&quot;, &quot;properties&quot;: {&quot;alert&quot;: null, &quot;cdi&quot;: null, &quot;code&quot;: &quot;6000levf&quot;, &quot;detail&quot;: &quot;https://earthquake.usgs.gov/earthquakes/feed/v1.0/detail/us6000levf.geojson&quot;, &quot;dmin&quot;: 4.777, &quot;felt&quot;: null, &quot;gap&quot;: 94.0, &quot;id&quot;: &quot;us6000levf&quot;, &quot;ids&quot;: &quot;,us6000levf,&quot;, &quot;mag&quot;: 4.3, &quot;magType&quot;: &quot;mb&quot;, &quot;mmi&quot;: null, &quot;net&quot;: &quot;us&quot;, &quot;nst&quot;: 25.0, &quot;place&quot;: &quot;south of the Fiji Islands&quot;, &quot;rms&quot;: 0.51, &quot;sig&quot;: 284, &quot;sources&quot;: &quot;,us,&quot;, &quot;status&quot;: &quot;reviewed&quot;, &quot;time&quot;: 1697042381979, &quot;title&quot;: &quot;M 4.3 - south of the Fiji Islands&quot;, &quot;tsunami&quot;: 0, &quot;type&quot;: &quot;earthquake&quot;, &quot;types&quot;: &quot;,origin,phase-data,&quot;, &quot;tz&quot;: null, &quot;updated&quot;: 1697046975040, &quot;url&quot;: &quot;https://earthquake.usgs.gov/earthquakes/eventpage/us6000levf&quot;}, &quot;type&quot;: &quot;Feature&quot;}, {&quot;bbox&quot;: [-15.7494, -58.2868, -15.7494, -58.2868], &quot;geometry&quot;: {&quot;coordinates&quot;: [-15.7494, -58.2868, 10.0], &quot;type&quot;: &quot;Point&quot;}, &quot;id&quot;: &quot;163&quot;, &quot;properties&quot;: {&quot;alert&quot;: null, &quot;cdi&quot;: null, &quot;code&quot;: &quot;6000levb&quot;, &quot;detail&quot;: &quot;https://earthquake.usgs.gov/earthquakes/feed/v1.0/detail/us6000levb.geojson&quot;, &quot;dmin&quot;: 12.183, &quot;felt&quot;: null, &quot;gap&quot;: 87.0, &quot;id&quot;: &quot;us6000levb&quot;, &quot;ids&quot;: &quot;,us6000levb,&quot;, &quot;mag&quot;: 4.9, &quot;magType&quot;: &quot;mb&quot;, &quot;mmi&quot;: null, &quot;net&quot;: &quot;us&quot;, &quot;nst&quot;: 23.0, &quot;place&quot;: &quot;east of the South Sandwich Islands&quot;, &quot;rms&quot;: 0.82, &quot;sig&quot;: 369, &quot;sources&quot;: &quot;,us,&quot;, &quot;status&quot;: &quot;reviewed&quot;, &quot;time&quot;: 1697041426186, &quot;title&quot;: &quot;M 4.9 - east of the South Sandwich Islands&quot;, &quot;tsunami&quot;: 0, &quot;type&quot;: &quot;earthquake&quot;, &quot;types&quot;: &quot;,origin,phase-data,&quot;, &quot;tz&quot;: null, &quot;updated&quot;: 1697065733040, &quot;url&quot;: &quot;https://earthquake.usgs.gov/earthquakes/eventpage/us6000levb&quot;}, &quot;type&quot;: &quot;Feature&quot;}, {&quot;bbox&quot;: [-118.1051667, 34.072, -118.1051667, 34.072], &quot;geometry&quot;: {&quot;coordinates&quot;: [-118.1051667, 34.072, 10.18], &quot;type&quot;: &quot;Point&quot;}, &quot;id&quot;: &quot;164&quot;, &quot;properties&quot;: {&quot;alert&quot;: null, &quot;cdi&quot;: 3.8, &quot;code&quot;: &quot;40581104&quot;, &quot;detail&quot;: &quot;https://earthquake.usgs.gov/earthquakes/feed/v1.0/detail/ci40581104.geojson&quot;, &quot;dmin&quot;: 0.02539, &quot;felt&quot;: 237.0, &quot;gap&quot;: 24.0, &quot;id&quot;: &quot;ci40581104&quot;, &quot;ids&quot;: &quot;,ci40581104,us6000letk,&quot;, &quot;mag&quot;: 2.71, &quot;magType&quot;: &quot;ml&quot;, &quot;mmi&quot;: null, &quot;net&quot;: &quot;ci&quot;, &quot;nst&quot;: 111.0, &quot;place&quot;: &quot;2 km ENE of Monterey Park, CA&quot;, &quot;rms&quot;: 0.18, &quot;sig&quot;: 203, &quot;sources&quot;: &quot;,ci,us,&quot;, &quot;status&quot;: &quot;reviewed&quot;, &quot;time&quot;: 1697038545660, &quot;title&quot;: &quot;M 2.7 - 2 km ENE of Monterey Park, CA&quot;, &quot;tsunami&quot;: 0, &quot;type&quot;: &quot;earthquake&quot;, &quot;types&quot;: &quot;,dyfi,focal-mechanism,nearby-cities,origin,phase-data,scitech-link,&quot;, &quot;tz&quot;: null, &quot;updated&quot;: 1697345388769, &quot;url&quot;: &quot;https://earthquake.usgs.gov/earthquakes/eventpage/ci40581104&quot;}, &quot;type&quot;: &quot;Feature&quot;}, {&quot;bbox&quot;: [-117.7594, 38.1815, -117.7594, 38.1815], &quot;geometry&quot;: {&quot;coordinates&quot;: [-117.7594, 38.1815, 10.3], &quot;type&quot;: &quot;Point&quot;}, &quot;id&quot;: &quot;165&quot;, &quot;properties&quot;: {&quot;alert&quot;: null, &quot;cdi&quot;: null, &quot;code&quot;: &quot;00867144&quot;, &quot;detail&quot;: &quot;https://earthquake.usgs.gov/earthquakes/feed/v1.0/detail/nn00867144.geojson&quot;, &quot;dmin&quot;: 0.112, &quot;felt&quot;: null, &quot;gap&quot;: 67.57, &quot;id&quot;: &quot;nn00867144&quot;, &quot;ids&quot;: &quot;,us6000lers,nn00867144,&quot;, &quot;mag&quot;: 2.7, &quot;magType&quot;: &quot;ml&quot;, &quot;mmi&quot;: null, &quot;net&quot;: &quot;nn&quot;, &quot;nst&quot;: 13.0, &quot;place&quot;: &quot;38 km SE of Mina, Nevada&quot;, &quot;rms&quot;: 0.1449, &quot;sig&quot;: 112, &quot;sources&quot;: &quot;,us,nn,&quot;, &quot;status&quot;: &quot;reviewed&quot;, &quot;time&quot;: 1697035735005, &quot;title&quot;: &quot;M 2.7 - 38 km SE of Mina, Nevada&quot;, &quot;tsunami&quot;: 0, &quot;type&quot;: &quot;earthquake&quot;, &quot;types&quot;: &quot;,origin,phase-data,&quot;, &quot;tz&quot;: null, &quot;updated&quot;: 1697214162040, &quot;url&quot;: &quot;https://earthquake.usgs.gov/earthquakes/eventpage/nn00867144&quot;}, &quot;type&quot;: &quot;Feature&quot;}, {&quot;bbox&quot;: [-166.7974, 53.1342, -166.7974, 53.1342], &quot;geometry&quot;: {&quot;coordinates&quot;: [-166.7974, 53.1342, 22.5], &quot;type&quot;: &quot;Point&quot;}, &quot;id&quot;: &quot;166&quot;, &quot;properties&quot;: {&quot;alert&quot;: null, &quot;cdi&quot;: null, &quot;code&quot;: &quot;023d1won2f&quot;, &quot;detail&quot;: &quot;https://earthquake.usgs.gov/earthquakes/feed/v1.0/detail/ak023d1won2f.geojson&quot;, &quot;dmin&quot;: null, &quot;felt&quot;: null, &quot;gap&quot;: null, &quot;id&quot;: &quot;ak023d1won2f&quot;, &quot;ids&quot;: &quot;,ak023d1won2f,&quot;, &quot;mag&quot;: 4.2, &quot;magType&quot;: &quot;ml&quot;, &quot;mmi&quot;: 2.395, &quot;net&quot;: &quot;ak&quot;, &quot;nst&quot;: null, &quot;place&quot;: &quot;84 km SSW of Unalaska, Alaska&quot;, &quot;rms&quot;: 0.57, &quot;sig&quot;: 271, &quot;sources&quot;: &quot;,ak,&quot;, &quot;status&quot;: &quot;reviewed&quot;, &quot;time&quot;: 1697032421542, &quot;title&quot;: &quot;M 4.2 - 84 km SSW of Unalaska, Alaska&quot;, &quot;tsunami&quot;: 0, &quot;type&quot;: &quot;earthquake&quot;, &quot;types&quot;: &quot;,origin,phase-data,shakemap,&quot;, &quot;tz&quot;: null, &quot;updated&quot;: 1697070636866, &quot;url&quot;: &quot;https://earthquake.usgs.gov/earthquakes/eventpage/ak023d1won2f&quot;}, &quot;type&quot;: &quot;Feature&quot;}, {&quot;bbox&quot;: [-155.3065, 19.34, -155.3065, 19.34], &quot;geometry&quot;: {&quot;coordinates&quot;: [-155.3065, 19.34, 3.66], &quot;type&quot;: &quot;Point&quot;}, &quot;id&quot;: &quot;167&quot;, &quot;properties&quot;: {&quot;alert&quot;: null, &quot;cdi&quot;: null, &quot;code&quot;: &quot;73604977&quot;, &quot;detail&quot;: &quot;https://earthquake.usgs.gov/earthquakes/feed/v1.0/detail/hv73604977.geojson&quot;, &quot;dmin&quot;: null, &quot;felt&quot;: null, &quot;gap&quot;: 53.0, &quot;id&quot;: &quot;hv73604977&quot;, &quot;ids&quot;: &quot;,hv73604977,&quot;, &quot;mag&quot;: 2.72, &quot;magType&quot;: &quot;ml&quot;, &quot;mmi&quot;: null, &quot;net&quot;: &quot;hv&quot;, &quot;nst&quot;: 46.0, &quot;place&quot;: &quot;13 km SW of Volcano, Hawaii&quot;, &quot;rms&quot;: 0.12, &quot;sig&quot;: 114, &quot;sources&quot;: &quot;,hv,&quot;, &quot;status&quot;: &quot;reviewed&quot;, &quot;time&quot;: 1697029819730, &quot;title&quot;: &quot;M 2.7 - 13 km SW of Volcano, Hawaii&quot;, &quot;tsunami&quot;: 0, &quot;type&quot;: &quot;earthquake&quot;, &quot;types&quot;: &quot;,origin,phase-data,&quot;, &quot;tz&quot;: null, &quot;updated&quot;: 1697063622330, &quot;url&quot;: &quot;https://earthquake.usgs.gov/earthquakes/eventpage/hv73604977&quot;}, &quot;type&quot;: &quot;Feature&quot;}, {&quot;bbox&quot;: [-149.7005, 61.8159, -149.7005, 61.8159], &quot;geometry&quot;: {&quot;coordinates&quot;: [-149.7005, 61.8159, 35.1], &quot;type&quot;: &quot;Point&quot;}, &quot;id&quot;: &quot;168&quot;, &quot;properties&quot;: {&quot;alert&quot;: null, &quot;cdi&quot;: null, &quot;code&quot;: &quot;023d1wdw16&quot;, &quot;detail&quot;: &quot;https://earthquake.usgs.gov/earthquakes/feed/v1.0/detail/ak023d1wdw16.geojson&quot;, &quot;dmin&quot;: null, &quot;felt&quot;: null, &quot;gap&quot;: null, &quot;id&quot;: &quot;ak023d1wdw16&quot;, &quot;ids&quot;: &quot;,ak023d1wdw16,&quot;, &quot;mag&quot;: 2.7, &quot;magType&quot;: &quot;ml&quot;, &quot;mmi&quot;: null, &quot;net&quot;: &quot;ak&quot;, &quot;nst&quot;: null, &quot;place&quot;: &quot;19 km ENE of Willow, Alaska&quot;, &quot;rms&quot;: 0.26, &quot;sig&quot;: 112, &quot;sources&quot;: &quot;,ak,&quot;, &quot;status&quot;: &quot;automatic&quot;, &quot;time&quot;: 1697029402980, &quot;title&quot;: &quot;M 2.7 - 19 km ENE of Willow, Alaska&quot;, &quot;tsunami&quot;: 0, &quot;type&quot;: &quot;earthquake&quot;, &quot;types&quot;: &quot;,origin,phase-data,&quot;, &quot;tz&quot;: null, &quot;updated&quot;: 1697029471778, &quot;url&quot;: &quot;https://earthquake.usgs.gov/earthquakes/eventpage/ak023d1wdw16&quot;}, &quot;type&quot;: &quot;Feature&quot;}, {&quot;bbox&quot;: [-89.6853333333333, 35.6626666666667, -89.6853333333333, 35.6626666666667], &quot;geometry&quot;: {&quot;coordinates&quot;: [-89.6853333333333, 35.6626666666667, 12.01], &quot;type&quot;: &quot;Point&quot;}, &quot;id&quot;: &quot;169&quot;, &quot;properties&quot;: {&quot;alert&quot;: null, &quot;cdi&quot;: 3.1, &quot;code&quot;: &quot;60555026&quot;, &quot;detail&quot;: &quot;https://earthquake.usgs.gov/earthquakes/feed/v1.0/detail/nm60555026.geojson&quot;, &quot;dmin&quot;: 0.2266, &quot;felt&quot;: 38.0, &quot;gap&quot;: 71.0, &quot;id&quot;: &quot;nm60555026&quot;, &quot;ids&quot;: &quot;,nm60555026,us6000ler1,&quot;, &quot;mag&quot;: 2.86, &quot;magType&quot;: &quot;md&quot;, &quot;mmi&quot;: null, &quot;net&quot;: &quot;nm&quot;, &quot;nst&quot;: 70.0, &quot;place&quot;: &quot;10 km W of Henning, Tennessee&quot;, &quot;rms&quot;: 0.16, &quot;sig&quot;: 138, &quot;sources&quot;: &quot;,nm,us,&quot;, &quot;status&quot;: &quot;reviewed&quot;, &quot;time&quot;: 1697026234530, &quot;title&quot;: &quot;M 2.9 - 10 km W of Henning, Tennessee&quot;, &quot;tsunami&quot;: 0, &quot;type&quot;: &quot;earthquake&quot;, &quot;types&quot;: &quot;,dyfi,origin,phase-data,&quot;, &quot;tz&quot;: null, &quot;updated&quot;: 1697132288929, &quot;url&quot;: &quot;https://earthquake.usgs.gov/earthquakes/eventpage/nm60555026&quot;}, &quot;type&quot;: &quot;Feature&quot;}, {&quot;bbox&quot;: [-87.1678, 11.511, -87.1678, 11.511], &quot;geometry&quot;: {&quot;coordinates&quot;: [-87.1678, 11.511, 42.762], &quot;type&quot;: &quot;Point&quot;}, &quot;id&quot;: &quot;170&quot;, &quot;properties&quot;: {&quot;alert&quot;: null, &quot;cdi&quot;: null, &quot;code&quot;: &quot;6000leqt&quot;, &quot;detail&quot;: &quot;https://earthquake.usgs.gov/earthquakes/feed/v1.0/detail/us6000leqt.geojson&quot;, &quot;dmin&quot;: 1.085, &quot;felt&quot;: null, &quot;gap&quot;: 144.0, &quot;id&quot;: &quot;us6000leqt&quot;, &quot;ids&quot;: &quot;,us6000leqt,&quot;, &quot;mag&quot;: 4.2, &quot;magType&quot;: &quot;mb&quot;, &quot;mmi&quot;: null, &quot;net&quot;: &quot;us&quot;, &quot;nst&quot;: 33.0, &quot;place&quot;: &quot;77 km WSW of Masachapa, Nicaragua&quot;, &quot;rms&quot;: 0.62, &quot;sig&quot;: 271, &quot;sources&quot;: &quot;,us,&quot;, &quot;status&quot;: &quot;reviewed&quot;, &quot;time&quot;: 1697020773043, &quot;title&quot;: &quot;M 4.2 - 77 km WSW of Masachapa, Nicaragua&quot;, &quot;tsunami&quot;: 0, &quot;type&quot;: &quot;earthquake&quot;, &quot;types&quot;: &quot;,origin,phase-data,&quot;, &quot;tz&quot;: null, &quot;updated&quot;: 1697021860040, &quot;url&quot;: &quot;https://earthquake.usgs.gov/earthquakes/eventpage/us6000leqt&quot;}, &quot;type&quot;: &quot;Feature&quot;}, {&quot;bbox&quot;: [121.2992, 23.252, 121.2992, 23.252], &quot;geometry&quot;: {&quot;coordinates&quot;: [121.2992, 23.252, 17.479], &quot;type&quot;: &quot;Point&quot;}, &quot;id&quot;: &quot;171&quot;, &quot;properties&quot;: {&quot;alert&quot;: null, &quot;cdi&quot;: 4.5, &quot;code&quot;: &quot;6000leqs&quot;, &quot;detail&quot;: &quot;https://earthquake.usgs.gov/earthquakes/feed/v1.0/detail/us6000leqs.geojson&quot;, &quot;dmin&quot;: 0.14, &quot;felt&quot;: 40.0, &quot;gap&quot;: 89.0, &quot;id&quot;: &quot;us6000leqs&quot;, &quot;ids&quot;: &quot;,us6000leqs,&quot;, &quot;mag&quot;: 5.2, &quot;magType&quot;: &quot;mww&quot;, &quot;mmi&quot;: null, &quot;net&quot;: &quot;us&quot;, &quot;nst&quot;: 43.0, &quot;place&quot;: &quot;78 km SE of Lugu, Taiwan&quot;, &quot;rms&quot;: 0.82, &quot;sig&quot;: 434, &quot;sources&quot;: &quot;,us,&quot;, &quot;status&quot;: &quot;reviewed&quot;, &quot;time&quot;: 1697020616685, &quot;title&quot;: &quot;M 5.2 - 78 km SE of Lugu, Taiwan&quot;, &quot;tsunami&quot;: 0, &quot;type&quot;: &quot;earthquake&quot;, &quot;types&quot;: &quot;,dyfi,moment-tensor,origin,phase-data,&quot;, &quot;tz&quot;: null, &quot;updated&quot;: 1697345275749, &quot;url&quot;: &quot;https://earthquake.usgs.gov/earthquakes/eventpage/us6000leqs&quot;}, &quot;type&quot;: &quot;Feature&quot;}, {&quot;bbox&quot;: [-105.9386, 18.0038, -105.9386, 18.0038], &quot;geometry&quot;: {&quot;coordinates&quot;: [-105.9386, 18.0038, 10.0], &quot;type&quot;: &quot;Point&quot;}, &quot;id&quot;: &quot;172&quot;, &quot;properties&quot;: {&quot;alert&quot;: null, &quot;cdi&quot;: null, &quot;code&quot;: &quot;6000leqr&quot;, &quot;detail&quot;: &quot;https://earthquake.usgs.gov/earthquakes/feed/v1.0/detail/us6000leqr.geojson&quot;, &quot;dmin&quot;: 4.752, &quot;felt&quot;: null, &quot;gap&quot;: 277.0, &quot;id&quot;: &quot;us6000leqr&quot;, &quot;ids&quot;: &quot;,us6000leqr,&quot;, &quot;mag&quot;: 4.2, &quot;magType&quot;: &quot;mb&quot;, &quot;mmi&quot;: null, &quot;net&quot;: &quot;us&quot;, &quot;nst&quot;: 12.0, &quot;place&quot;: &quot;184 km SSW of Emiliano Zapata, Mexico&quot;, &quot;rms&quot;: 0.74, &quot;sig&quot;: 271, &quot;sources&quot;: &quot;,us,&quot;, &quot;status&quot;: &quot;reviewed&quot;, &quot;time&quot;: 1697020132095, &quot;title&quot;: &quot;M 4.2 - 184 km SSW of Emiliano Zapata, Mexico&quot;, &quot;tsunami&quot;: 0, &quot;type&quot;: &quot;earthquake&quot;, &quot;types&quot;: &quot;,origin,phase-data,&quot;, &quot;tz&quot;: null, &quot;updated&quot;: 1697021529040, &quot;url&quot;: &quot;https://earthquake.usgs.gov/earthquakes/eventpage/us6000leqr&quot;}, &quot;type&quot;: &quot;Feature&quot;}, {&quot;bbox&quot;: [-66.9215, 17.853, -66.9215, 17.853], &quot;geometry&quot;: {&quot;coordinates&quot;: [-66.9215, 17.853, 12.09], &quot;type&quot;: &quot;Point&quot;}, &quot;id&quot;: &quot;173&quot;, &quot;properties&quot;: {&quot;alert&quot;: null, &quot;cdi&quot;: null, &quot;code&quot;: &quot;71428203&quot;, &quot;detail&quot;: &quot;https://earthquake.usgs.gov/earthquakes/feed/v1.0/detail/pr71428203.geojson&quot;, &quot;dmin&quot;: 0.1279, &quot;felt&quot;: null, &quot;gap&quot;: 254.0, &quot;id&quot;: &quot;pr71428203&quot;, &quot;ids&quot;: &quot;,pr71428203,&quot;, &quot;mag&quot;: 2.48, &quot;magType&quot;: &quot;md&quot;, &quot;mmi&quot;: null, &quot;net&quot;: &quot;pr&quot;, &quot;nst&quot;: 6.0, &quot;place&quot;: &quot;13 km S of Gu\\u00e1nica, Puerto Rico&quot;, &quot;rms&quot;: 0.15, &quot;sig&quot;: 95, &quot;sources&quot;: &quot;,pr,&quot;, &quot;status&quot;: &quot;reviewed&quot;, &quot;time&quot;: 1697014279870, &quot;title&quot;: &quot;M 2.5 - 13 km S of Gu\\u00e1nica, Puerto Rico&quot;, &quot;tsunami&quot;: 0, &quot;type&quot;: &quot;earthquake&quot;, &quot;types&quot;: &quot;,origin,phase-data,&quot;, &quot;tz&quot;: null, &quot;updated&quot;: 1697015564520, &quot;url&quot;: &quot;https://earthquake.usgs.gov/earthquakes/eventpage/pr71428203&quot;}, &quot;type&quot;: &quot;Feature&quot;}, {&quot;bbox&quot;: [-66.8478333333333, 17.8663333333333, -66.8478333333333, 17.8663333333333], &quot;geometry&quot;: {&quot;coordinates&quot;: [-66.8478333333333, 17.8663333333333, 13.86], &quot;type&quot;: &quot;Point&quot;}, &quot;id&quot;: &quot;174&quot;, &quot;properties&quot;: {&quot;alert&quot;: null, &quot;cdi&quot;: null, &quot;code&quot;: &quot;71428178&quot;, &quot;detail&quot;: &quot;https://earthquake.usgs.gov/earthquakes/feed/v1.0/detail/pr71428178.geojson&quot;, &quot;dmin&quot;: 0.1122, &quot;felt&quot;: null, &quot;gap&quot;: 247.0, &quot;id&quot;: &quot;pr71428178&quot;, &quot;ids&quot;: &quot;,pr71428178,&quot;, &quot;mag&quot;: 2.49, &quot;magType&quot;: &quot;md&quot;, &quot;mmi&quot;: null, &quot;net&quot;: &quot;pr&quot;, &quot;nst&quot;: 6.0, &quot;place&quot;: &quot;Puerto Rico region&quot;, &quot;rms&quot;: 0.07, &quot;sig&quot;: 95, &quot;sources&quot;: &quot;,pr,&quot;, &quot;status&quot;: &quot;reviewed&quot;, &quot;time&quot;: 1697013289270, &quot;title&quot;: &quot;M 2.5 - Puerto Rico region&quot;, &quot;tsunami&quot;: 0, &quot;type&quot;: &quot;earthquake&quot;, &quot;types&quot;: &quot;,origin,phase-data,&quot;, &quot;tz&quot;: null, &quot;updated&quot;: 1697014109370, &quot;url&quot;: &quot;https://earthquake.usgs.gov/earthquakes/eventpage/pr71428178&quot;}, &quot;type&quot;: &quot;Feature&quot;}, {&quot;bbox&quot;: [62.0641, 34.6763, 62.0641, 34.6763], &quot;geometry&quot;: {&quot;coordinates&quot;: [62.0641, 34.6763, 10.0], &quot;type&quot;: &quot;Point&quot;}, &quot;id&quot;: &quot;175&quot;, &quot;properties&quot;: {&quot;alert&quot;: null, &quot;cdi&quot;: 6.1, &quot;code&quot;: &quot;6000leq2&quot;, &quot;detail&quot;: &quot;https://earthquake.usgs.gov/earthquakes/feed/v1.0/detail/us6000leq2.geojson&quot;, &quot;dmin&quot;: 5.757, &quot;felt&quot;: 1.0, &quot;gap&quot;: 143.0, &quot;id&quot;: &quot;us6000leq2&quot;, &quot;ids&quot;: &quot;,us6000leq2,&quot;, &quot;mag&quot;: 4.5, &quot;magType&quot;: &quot;mb&quot;, &quot;mmi&quot;: null, &quot;net&quot;: &quot;us&quot;, &quot;nst&quot;: 34.0, &quot;place&quot;: &quot;38 km NNW of Her\\u0101t, Afghanistan&quot;, &quot;rms&quot;: 1.31, &quot;sig&quot;: 312, &quot;sources&quot;: &quot;,us,&quot;, &quot;status&quot;: &quot;reviewed&quot;, &quot;time&quot;: 1697003964041, &quot;title&quot;: &quot;M 4.5 - 38 km NNW of Her\\u0101t, Afghanistan&quot;, &quot;tsunami&quot;: 0, &quot;type&quot;: &quot;earthquake&quot;, &quot;types&quot;: &quot;,dyfi,origin,phase-data,&quot;, &quot;tz&quot;: null, &quot;updated&quot;: 1697011775747, &quot;url&quot;: &quot;https://earthquake.usgs.gov/earthquakes/eventpage/us6000leq2&quot;}, &quot;type&quot;: &quot;Feature&quot;}, {&quot;bbox&quot;: [-104.43, 31.679, -104.43, 31.679], &quot;geometry&quot;: {&quot;coordinates&quot;: [-104.43, 31.679, 6.183], &quot;type&quot;: &quot;Point&quot;}, &quot;id&quot;: &quot;176&quot;, &quot;properties&quot;: {&quot;alert&quot;: null, &quot;cdi&quot;: null, &quot;code&quot;: &quot;2023txmw&quot;, &quot;detail&quot;: &quot;https://earthquake.usgs.gov/earthquakes/feed/v1.0/detail/tx2023txmw.geojson&quot;, &quot;dmin&quot;: 0.0, &quot;felt&quot;: null, &quot;gap&quot;: 52.0, &quot;id&quot;: &quot;tx2023txmw&quot;, &quot;ids&quot;: &quot;,us6000lepy,tx2023txmw,&quot;, &quot;mag&quot;: 2.5, &quot;magType&quot;: &quot;ml(texnet)&quot;, &quot;mmi&quot;: null, &quot;net&quot;: &quot;tx&quot;, &quot;nst&quot;: 15.0, &quot;place&quot;: &quot;western Texas&quot;, &quot;rms&quot;: 0.2, &quot;sig&quot;: 96, &quot;sources&quot;: &quot;,us,tx,&quot;, &quot;status&quot;: &quot;reviewed&quot;, &quot;time&quot;: 1697003268714, &quot;title&quot;: &quot;M 2.5 - western Texas&quot;, &quot;tsunami&quot;: 0, &quot;type&quot;: &quot;earthquake&quot;, &quot;types&quot;: &quot;,origin,phase-data,&quot;, &quot;tz&quot;: null, &quot;updated&quot;: 1697028287699, &quot;url&quot;: &quot;https://earthquake.usgs.gov/earthquakes/eventpage/tx2023txmw&quot;}, &quot;type&quot;: &quot;Feature&quot;}, {&quot;bbox&quot;: [-69.3973, -19.2331, -69.3973, -19.2331], &quot;geometry&quot;: {&quot;coordinates&quot;: [-69.3973, -19.2331, 109.747], &quot;type&quot;: &quot;Point&quot;}, &quot;id&quot;: &quot;177&quot;, &quot;properties&quot;: {&quot;alert&quot;: null, &quot;cdi&quot;: 2.0, &quot;code&quot;: &quot;6000lepx&quot;, &quot;detail&quot;: &quot;https://earthquake.usgs.gov/earthquakes/feed/v1.0/detail/us6000lepx.geojson&quot;, &quot;dmin&quot;: 0.474, &quot;felt&quot;: 2.0, &quot;gap&quot;: 99.0, &quot;id&quot;: &quot;us6000lepx&quot;, &quot;ids&quot;: &quot;,us6000lepx,&quot;, &quot;mag&quot;: 4.9, &quot;magType&quot;: &quot;mb&quot;, &quot;mmi&quot;: null, &quot;net&quot;: &quot;us&quot;, &quot;nst&quot;: 54.0, &quot;place&quot;: &quot;Tarapaca, Chile&quot;, &quot;rms&quot;: 1.19, &quot;sig&quot;: 370, &quot;sources&quot;: &quot;,us,&quot;, &quot;status&quot;: &quot;reviewed&quot;, &quot;time&quot;: 1697002190626, &quot;title&quot;: &quot;M 4.9 - Tarapaca, Chile&quot;, &quot;tsunami&quot;: 0, &quot;type&quot;: &quot;earthquake&quot;, &quot;types&quot;: &quot;,dyfi,origin,phase-data,&quot;, &quot;tz&quot;: null, &quot;updated&quot;: 1697070020676, &quot;url&quot;: &quot;https://earthquake.usgs.gov/earthquakes/eventpage/us6000lepx&quot;}, &quot;type&quot;: &quot;Feature&quot;}, {&quot;bbox&quot;: [-155.285, 19.3676666666667, -155.285, 19.3676666666667], &quot;geometry&quot;: {&quot;coordinates&quot;: [-155.285, 19.3676666666667, 1.41], &quot;type&quot;: &quot;Point&quot;}, &quot;id&quot;: &quot;178&quot;, &quot;properties&quot;: {&quot;alert&quot;: null, &quot;cdi&quot;: null, &quot;code&quot;: &quot;73604377&quot;, &quot;detail&quot;: &quot;https://earthquake.usgs.gov/earthquakes/feed/v1.0/detail/hv73604377.geojson&quot;, &quot;dmin&quot;: null, &quot;felt&quot;: null, &quot;gap&quot;: 113.0, &quot;id&quot;: &quot;hv73604377&quot;, &quot;ids&quot;: &quot;,us6000lepq,hv73604377,&quot;, &quot;mag&quot;: 2.52, &quot;magType&quot;: &quot;ml&quot;, &quot;mmi&quot;: null, &quot;net&quot;: &quot;hv&quot;, &quot;nst&quot;: 43.0, &quot;place&quot;: &quot;9 km SSW of Volcano, Hawaii&quot;, &quot;rms&quot;: 0.12, &quot;sig&quot;: 98, &quot;sources&quot;: &quot;,us,hv,&quot;, &quot;status&quot;: &quot;reviewed&quot;, &quot;time&quot;: 1696999213610, &quot;title&quot;: &quot;M 2.5 - 9 km SSW of Volcano, Hawaii&quot;, &quot;tsunami&quot;: 0, &quot;type&quot;: &quot;earthquake&quot;, &quot;types&quot;: &quot;,origin,phase-data,&quot;, &quot;tz&quot;: null, &quot;updated&quot;: 1697415594040, &quot;url&quot;: &quot;https://earthquake.usgs.gov/earthquakes/eventpage/hv73604377&quot;}, &quot;type&quot;: &quot;Feature&quot;}, {&quot;bbox&quot;: [-173.9981, -20.5357, -173.9981, -20.5357], &quot;geometry&quot;: {&quot;coordinates&quot;: [-173.9981, -20.5357, 10.0], &quot;type&quot;: &quot;Point&quot;}, &quot;id&quot;: &quot;179&quot;, &quot;properties&quot;: {&quot;alert&quot;: null, &quot;cdi&quot;: null, &quot;code&quot;: &quot;6000leps&quot;, &quot;detail&quot;: &quot;https://earthquake.usgs.gov/earthquakes/feed/v1.0/detail/us6000leps.geojson&quot;, &quot;dmin&quot;: 0.781, &quot;felt&quot;: null, &quot;gap&quot;: 108.0, &quot;id&quot;: &quot;us6000leps&quot;, &quot;ids&quot;: &quot;,us6000leps,&quot;, &quot;mag&quot;: 5.1, &quot;magType&quot;: &quot;mb&quot;, &quot;mmi&quot;: null, &quot;net&quot;: &quot;us&quot;, &quot;nst&quot;: 33.0, &quot;place&quot;: &quot;88 km SSE of Pangai, Tonga&quot;, &quot;rms&quot;: 0.93, &quot;sig&quot;: 400, &quot;sources&quot;: &quot;,us,&quot;, &quot;status&quot;: &quot;reviewed&quot;, &quot;time&quot;: 1696999026397, &quot;title&quot;: &quot;M 5.1 - 88 km SSE of Pangai, Tonga&quot;, &quot;tsunami&quot;: 0, &quot;type&quot;: &quot;earthquake&quot;, &quot;types&quot;: &quot;,origin,phase-data,&quot;, &quot;tz&quot;: null, &quot;updated&quot;: 1697001034040, &quot;url&quot;: &quot;https://earthquake.usgs.gov/earthquakes/eventpage/us6000leps&quot;}, &quot;type&quot;: &quot;Feature&quot;}, {&quot;bbox&quot;: [-114.8366, 44.2911, -114.8366, 44.2911], &quot;geometry&quot;: {&quot;coordinates&quot;: [-114.8366, 44.2911, 5.0], &quot;type&quot;: &quot;Point&quot;}, &quot;id&quot;: &quot;180&quot;, &quot;properties&quot;: {&quot;alert&quot;: null, &quot;cdi&quot;: null, &quot;code&quot;: &quot;6000lepp&quot;, &quot;detail&quot;: &quot;https://earthquake.usgs.gov/earthquakes/feed/v1.0/detail/us6000lepp.geojson&quot;, &quot;dmin&quot;: 0.185, &quot;felt&quot;: null, &quot;gap&quot;: 43.0, &quot;id&quot;: &quot;us6000lepp&quot;, &quot;ids&quot;: &quot;,mb90029433,us6000lepp,&quot;, &quot;mag&quot;: 2.5, &quot;magType&quot;: &quot;ml&quot;, &quot;mmi&quot;: null, &quot;net&quot;: &quot;us&quot;, &quot;nst&quot;: 23.0, &quot;place&quot;: &quot;11 km NE of Stanley, Idaho&quot;, &quot;rms&quot;: 0.73, &quot;sig&quot;: 96, &quot;sources&quot;: &quot;,mb,us,&quot;, &quot;status&quot;: &quot;reviewed&quot;, &quot;time&quot;: 1696998790828, &quot;title&quot;: &quot;M 2.5 - 11 km NE of Stanley, Idaho&quot;, &quot;tsunami&quot;: 0, &quot;type&quot;: &quot;earthquake&quot;, &quot;types&quot;: &quot;,origin,phase-data,&quot;, &quot;tz&quot;: null, &quot;updated&quot;: 1697414958040, &quot;url&quot;: &quot;https://earthquake.usgs.gov/earthquakes/eventpage/us6000lepp&quot;}, &quot;type&quot;: &quot;Feature&quot;}, {&quot;bbox&quot;: [74.0306, 37.8237, 74.0306, 37.8237], &quot;geometry&quot;: {&quot;coordinates&quot;: [74.0306, 37.8237, 10.0], &quot;type&quot;: &quot;Point&quot;}, &quot;id&quot;: &quot;181&quot;, &quot;properties&quot;: {&quot;alert&quot;: null, &quot;cdi&quot;: null, &quot;code&quot;: &quot;6000lepm&quot;, &quot;detail&quot;: &quot;https://earthquake.usgs.gov/earthquakes/feed/v1.0/detail/us6000lepm.geojson&quot;, &quot;dmin&quot;: 2.404, &quot;felt&quot;: null, &quot;gap&quot;: 140.0, &quot;id&quot;: &quot;us6000lepm&quot;, &quot;ids&quot;: &quot;,us6000lepm,&quot;, &quot;mag&quot;: 4.3, &quot;magType&quot;: &quot;mb&quot;, &quot;mmi&quot;: null, &quot;net&quot;: &quot;us&quot;, &quot;nst&quot;: 23.0, &quot;place&quot;: &quot;Tajikistan-Afghanistan-Xinjiang border region&quot;, &quot;rms&quot;: 0.46, &quot;sig&quot;: 284, &quot;sources&quot;: &quot;,us,&quot;, &quot;status&quot;: &quot;reviewed&quot;, &quot;time&quot;: 1696998189824, &quot;title&quot;: &quot;M 4.3 - Tajikistan-Afghanistan-Xinjiang border region&quot;, &quot;tsunami&quot;: 0, &quot;type&quot;: &quot;earthquake&quot;, &quot;types&quot;: &quot;,origin,phase-data,&quot;, &quot;tz&quot;: null, &quot;updated&quot;: 1697413220040, &quot;url&quot;: &quot;https://earthquake.usgs.gov/earthquakes/eventpage/us6000lepm&quot;}, &quot;type&quot;: &quot;Feature&quot;}, {&quot;bbox&quot;: [-69.5882, -15.9123, -69.5882, -15.9123], &quot;geometry&quot;: {&quot;coordinates&quot;: [-69.5882, -15.9123, 230.409], &quot;type&quot;: &quot;Point&quot;}, &quot;id&quot;: &quot;182&quot;, &quot;properties&quot;: {&quot;alert&quot;: null, &quot;cdi&quot;: null, &quot;code&quot;: &quot;6000lepk&quot;, &quot;detail&quot;: &quot;https://earthquake.usgs.gov/earthquakes/feed/v1.0/detail/us6000lepk.geojson&quot;, &quot;dmin&quot;: 1.45, &quot;felt&quot;: null, &quot;gap&quot;: 122.0, &quot;id&quot;: &quot;us6000lepk&quot;, &quot;ids&quot;: &quot;,us6000lepk,&quot;, &quot;mag&quot;: 4.8, &quot;magType&quot;: &quot;mb&quot;, &quot;mmi&quot;: null, &quot;net&quot;: &quot;us&quot;, &quot;nst&quot;: 59.0, &quot;place&quot;: &quot;19 km SSE of Taquile, Peru&quot;, &quot;rms&quot;: 0.76, &quot;sig&quot;: 354, &quot;sources&quot;: &quot;,us,&quot;, &quot;status&quot;: &quot;reviewed&quot;, &quot;time&quot;: 1696997435776, &quot;title&quot;: &quot;M 4.8 - 19 km SSE of Taquile, Peru&quot;, &quot;tsunami&quot;: 0, &quot;type&quot;: &quot;earthquake&quot;, &quot;types&quot;: &quot;,origin,phase-data,&quot;, &quot;tz&quot;: null, &quot;updated&quot;: 1697412813040, &quot;url&quot;: &quot;https://earthquake.usgs.gov/earthquakes/eventpage/us6000lepk&quot;}, &quot;type&quot;: &quot;Feature&quot;}, {&quot;bbox&quot;: [172.3334, -63.765, 172.3334, -63.765], &quot;geometry&quot;: {&quot;coordinates&quot;: [172.3334, -63.765, 10.0], &quot;type&quot;: &quot;Point&quot;}, &quot;id&quot;: &quot;183&quot;, &quot;properties&quot;: {&quot;alert&quot;: &quot;green&quot;, &quot;cdi&quot;: null, &quot;code&quot;: &quot;6000lepj&quot;, &quot;detail&quot;: &quot;https://earthquake.usgs.gov/earthquakes/feed/v1.0/detail/us6000lepj.geojson&quot;, &quot;dmin&quot;: 14.262, &quot;felt&quot;: null, &quot;gap&quot;: 41.0, &quot;id&quot;: &quot;us6000lepj&quot;, &quot;ids&quot;: &quot;,us6000lepj,&quot;, &quot;mag&quot;: 5.7, &quot;magType&quot;: &quot;mww&quot;, &quot;mmi&quot;: 0.0, &quot;net&quot;: &quot;us&quot;, &quot;nst&quot;: 54.0, &quot;place&quot;: &quot;Balleny Islands region&quot;, &quot;rms&quot;: 0.53, &quot;sig&quot;: 500, &quot;sources&quot;: &quot;,us,&quot;, &quot;status&quot;: &quot;reviewed&quot;, &quot;time&quot;: 1696996496203, &quot;title&quot;: &quot;M 5.7 - Balleny Islands region&quot;, &quot;tsunami&quot;: 0, &quot;type&quot;: &quot;earthquake&quot;, &quot;types&quot;: &quot;,losspager,origin,phase-data,shakemap,&quot;, &quot;tz&quot;: null, &quot;updated&quot;: 1697410796481, &quot;url&quot;: &quot;https://earthquake.usgs.gov/earthquakes/eventpage/us6000lepj&quot;}, &quot;type&quot;: &quot;Feature&quot;}, {&quot;bbox&quot;: [6.6861, 73.3109, 6.6861, 73.3109], &quot;geometry&quot;: {&quot;coordinates&quot;: [6.6861, 73.3109, 10.0], &quot;type&quot;: &quot;Point&quot;}, &quot;id&quot;: &quot;184&quot;, &quot;properties&quot;: {&quot;alert&quot;: null, &quot;cdi&quot;: null, &quot;code&quot;: &quot;6000lepf&quot;, &quot;detail&quot;: &quot;https://earthquake.usgs.gov/earthquakes/feed/v1.0/detail/us6000lepf.geojson&quot;, &quot;dmin&quot;: 5.773, &quot;felt&quot;: null, &quot;gap&quot;: 79.0, &quot;id&quot;: &quot;us6000lepf&quot;, &quot;ids&quot;: &quot;,us6000lepf,&quot;, &quot;mag&quot;: 4.5, &quot;magType&quot;: &quot;mb&quot;, &quot;mmi&quot;: null, &quot;net&quot;: &quot;us&quot;, &quot;nst&quot;: 39.0, &quot;place&quot;: &quot;Greenland Sea&quot;, &quot;rms&quot;: 0.58, &quot;sig&quot;: 312, &quot;sources&quot;: &quot;,us,&quot;, &quot;status&quot;: &quot;reviewed&quot;, &quot;time&quot;: 1696995730205, &quot;title&quot;: &quot;M 4.5 - Greenland Sea&quot;, &quot;tsunami&quot;: 0, &quot;type&quot;: &quot;earthquake&quot;, &quot;types&quot;: &quot;,origin,phase-data,&quot;, &quot;tz&quot;: null, &quot;updated&quot;: 1697409906040, &quot;url&quot;: &quot;https://earthquake.usgs.gov/earthquakes/eventpage/us6000lepf&quot;}, &quot;type&quot;: &quot;Feature&quot;}, {&quot;bbox&quot;: [179.5675, -25.3159, 179.5675, -25.3159], &quot;geometry&quot;: {&quot;coordinates&quot;: [179.5675, -25.3159, 507.032], &quot;type&quot;: &quot;Point&quot;}, &quot;id&quot;: &quot;185&quot;, &quot;properties&quot;: {&quot;alert&quot;: null, &quot;cdi&quot;: null, &quot;code&quot;: &quot;6000lepe&quot;, &quot;detail&quot;: &quot;https://earthquake.usgs.gov/earthquakes/feed/v1.0/detail/us6000lepe.geojson&quot;, &quot;dmin&quot;: 4.522, &quot;felt&quot;: null, &quot;gap&quot;: 79.0, &quot;id&quot;: &quot;us6000lepe&quot;, &quot;ids&quot;: &quot;,us6000lepe,&quot;, &quot;mag&quot;: 4.4, &quot;magType&quot;: &quot;mb&quot;, &quot;mmi&quot;: null, &quot;net&quot;: &quot;us&quot;, &quot;nst&quot;: 30.0, &quot;place&quot;: &quot;south of the Fiji Islands&quot;, &quot;rms&quot;: 0.56, &quot;sig&quot;: 298, &quot;sources&quot;: &quot;,us,&quot;, &quot;status&quot;: &quot;reviewed&quot;, &quot;time&quot;: 1696995262499, &quot;title&quot;: &quot;M 4.4 - south of the Fiji Islands&quot;, &quot;tsunami&quot;: 0, &quot;type&quot;: &quot;earthquake&quot;, &quot;types&quot;: &quot;,origin,phase-data,&quot;, &quot;tz&quot;: null, &quot;updated&quot;: 1697406873040, &quot;url&quot;: &quot;https://earthquake.usgs.gov/earthquakes/eventpage/us6000lepe&quot;}, &quot;type&quot;: &quot;Feature&quot;}, {&quot;bbox&quot;: [-117.8949, 38.1663, -117.8949, 38.1663], &quot;geometry&quot;: {&quot;coordinates&quot;: [-117.8949, 38.1663, 11.9], &quot;type&quot;: &quot;Point&quot;}, &quot;id&quot;: &quot;186&quot;, &quot;properties&quot;: {&quot;alert&quot;: null, &quot;cdi&quot;: null, &quot;code&quot;: &quot;00867125&quot;, &quot;detail&quot;: &quot;https://earthquake.usgs.gov/earthquakes/feed/v1.0/detail/nn00867125.geojson&quot;, &quot;dmin&quot;: 0.078, &quot;felt&quot;: null, &quot;gap&quot;: 86.86, &quot;id&quot;: &quot;nn00867125&quot;, &quot;ids&quot;: &quot;,us6000lepb,nn00867125,&quot;, &quot;mag&quot;: 2.6, &quot;magType&quot;: &quot;ml&quot;, &quot;mmi&quot;: null, &quot;net&quot;: &quot;nn&quot;, &quot;nst&quot;: 11.0, &quot;place&quot;: &quot;31 km SE of Mina, Nevada&quot;, &quot;rms&quot;: 0.1533, &quot;sig&quot;: 104, &quot;sources&quot;: &quot;,us,nn,&quot;, &quot;status&quot;: &quot;reviewed&quot;, &quot;time&quot;: 1696994013498, &quot;title&quot;: &quot;M 2.6 - 31 km SE of Mina, Nevada&quot;, &quot;tsunami&quot;: 0, &quot;type&quot;: &quot;earthquake&quot;, &quot;types&quot;: &quot;,origin,phase-data,&quot;, &quot;tz&quot;: null, &quot;updated&quot;: 1697170059040, &quot;url&quot;: &quot;https://earthquake.usgs.gov/earthquakes/eventpage/nn00867125&quot;}, &quot;type&quot;: &quot;Feature&quot;}, {&quot;bbox&quot;: [-150.9233, 60.0772, -150.9233, 60.0772], &quot;geometry&quot;: {&quot;coordinates&quot;: [-150.9233, 60.0772, 56.2], &quot;type&quot;: &quot;Point&quot;}, &quot;id&quot;: &quot;187&quot;, &quot;properties&quot;: {&quot;alert&quot;: null, &quot;cdi&quot;: null, &quot;code&quot;: &quot;023d1qfmhe&quot;, &quot;detail&quot;: &quot;https://earthquake.usgs.gov/earthquakes/feed/v1.0/detail/ak023d1qfmhe.geojson&quot;, &quot;dmin&quot;: null, &quot;felt&quot;: null, &quot;gap&quot;: null, &quot;id&quot;: &quot;ak023d1qfmhe&quot;, &quot;ids&quot;: &quot;,us6000lepa,ak023d1qfmhe,&quot;, &quot;mag&quot;: 2.5, &quot;magType&quot;: &quot;ml&quot;, &quot;mmi&quot;: null, &quot;net&quot;: &quot;ak&quot;, &quot;nst&quot;: null, &quot;place&quot;: &quot;24 km N of Fox River, Alaska&quot;, &quot;rms&quot;: 0.63, &quot;sig&quot;: 96, &quot;sources&quot;: &quot;,us,ak,&quot;, &quot;status&quot;: &quot;automatic&quot;, &quot;time&quot;: 1696993435272, &quot;title&quot;: &quot;M 2.5 - 24 km N of Fox River, Alaska&quot;, &quot;tsunami&quot;: 0, &quot;type&quot;: &quot;earthquake&quot;, &quot;types&quot;: &quot;,origin,phase-data,&quot;, &quot;tz&quot;: null, &quot;updated&quot;: 1697169383040, &quot;url&quot;: &quot;https://earthquake.usgs.gov/earthquakes/eventpage/ak023d1qfmhe&quot;}, &quot;type&quot;: &quot;Feature&quot;}, {&quot;bbox&quot;: [-66.8494, -24.1731, -66.8494, -24.1731], &quot;geometry&quot;: {&quot;coordinates&quot;: [-66.8494, -24.1731, 177.923], &quot;type&quot;: &quot;Point&quot;}, &quot;id&quot;: &quot;188&quot;, &quot;properties&quot;: {&quot;alert&quot;: null, &quot;cdi&quot;: null, &quot;code&quot;: &quot;6000lep1&quot;, &quot;detail&quot;: &quot;https://earthquake.usgs.gov/earthquakes/feed/v1.0/detail/us6000lep1.geojson&quot;, &quot;dmin&quot;: 1.722, &quot;felt&quot;: null, &quot;gap&quot;: 78.0, &quot;id&quot;: &quot;us6000lep1&quot;, &quot;ids&quot;: &quot;,us6000lep1,&quot;, &quot;mag&quot;: 4.3, &quot;magType&quot;: &quot;mb&quot;, &quot;mmi&quot;: null, &quot;net&quot;: &quot;us&quot;, &quot;nst&quot;: 24.0, &quot;place&quot;: &quot;Salta, Argentina&quot;, &quot;rms&quot;: 0.41, &quot;sig&quot;: 284, &quot;sources&quot;: &quot;,us,&quot;, &quot;status&quot;: &quot;reviewed&quot;, &quot;time&quot;: 1696989360961, &quot;title&quot;: &quot;M 4.3 - Salta, Argentina&quot;, &quot;tsunami&quot;: 0, &quot;type&quot;: &quot;earthquake&quot;, &quot;types&quot;: &quot;,origin,phase-data,&quot;, &quot;tz&quot;: null, &quot;updated&quot;: 1697166661040, &quot;url&quot;: &quot;https://earthquake.usgs.gov/earthquakes/eventpage/us6000lep1&quot;}, &quot;type&quot;: &quot;Feature&quot;}, {&quot;bbox&quot;: [147.1082, 15.014, 147.1082, 15.014], &quot;geometry&quot;: {&quot;coordinates&quot;: [147.1082, 15.014, 10.0], &quot;type&quot;: &quot;Point&quot;}, &quot;id&quot;: &quot;189&quot;, &quot;properties&quot;: {&quot;alert&quot;: null, &quot;cdi&quot;: null, &quot;code&quot;: &quot;6000lep0&quot;, &quot;detail&quot;: &quot;https://earthquake.usgs.gov/earthquakes/feed/v1.0/detail/us6000lep0.geojson&quot;, &quot;dmin&quot;: 1.29, &quot;felt&quot;: null, &quot;gap&quot;: 100.0, &quot;id&quot;: &quot;us6000lep0&quot;, &quot;ids&quot;: &quot;,us6000lep0,&quot;, &quot;mag&quot;: 5.0, &quot;magType&quot;: &quot;mb&quot;, &quot;mmi&quot;: null, &quot;net&quot;: &quot;us&quot;, &quot;nst&quot;: 74.0, &quot;place&quot;: &quot;147 km E of Saipan, Northern Mariana Islands&quot;, &quot;rms&quot;: 0.44, &quot;sig&quot;: 385, &quot;sources&quot;: &quot;,us,&quot;, &quot;status&quot;: &quot;reviewed&quot;, &quot;time&quot;: 1696989017334, &quot;title&quot;: &quot;M 5.0 - 147 km E of Saipan, Northern Mariana Islands&quot;, &quot;tsunami&quot;: 0, &quot;type&quot;: &quot;earthquake&quot;, &quot;types&quot;: &quot;,oaf,origin,phase-data,&quot;, &quot;tz&quot;: null, &quot;updated&quot;: 1697335224061, &quot;url&quot;: &quot;https://earthquake.usgs.gov/earthquakes/eventpage/us6000lep0&quot;}, &quot;type&quot;: &quot;Feature&quot;}, {&quot;bbox&quot;: [61.9278, 34.6615, 61.9278, 34.6615], &quot;geometry&quot;: {&quot;coordinates&quot;: [61.9278, 34.6615, 10.0], &quot;type&quot;: &quot;Point&quot;}, &quot;id&quot;: &quot;190&quot;, &quot;properties&quot;: {&quot;alert&quot;: null, &quot;cdi&quot;: null, &quot;code&quot;: &quot;6000leny&quot;, &quot;detail&quot;: &quot;https://earthquake.usgs.gov/earthquakes/feed/v1.0/detail/us6000leny.geojson&quot;, &quot;dmin&quot;: 5.87, &quot;felt&quot;: null, &quot;gap&quot;: 135.0, &quot;id&quot;: &quot;us6000leny&quot;, &quot;ids&quot;: &quot;,us6000leny,&quot;, &quot;mag&quot;: 4.1, &quot;magType&quot;: &quot;mb&quot;, &quot;mmi&quot;: null, &quot;net&quot;: &quot;us&quot;, &quot;nst&quot;: 20.0, &quot;place&quot;: &quot;western Afghanistan&quot;, &quot;rms&quot;: 0.85, &quot;sig&quot;: 259, &quot;sources&quot;: &quot;,us,&quot;, &quot;status&quot;: &quot;reviewed&quot;, &quot;time&quot;: 1696988465058, &quot;title&quot;: &quot;M 4.1 - western Afghanistan&quot;, &quot;tsunami&quot;: 0, &quot;type&quot;: &quot;earthquake&quot;, &quot;types&quot;: &quot;,origin,phase-data,&quot;, &quot;tz&quot;: null, &quot;updated&quot;: 1697155121040, &quot;url&quot;: &quot;https://earthquake.usgs.gov/earthquakes/eventpage/us6000leny&quot;}, &quot;type&quot;: &quot;Feature&quot;}, {&quot;bbox&quot;: [61.9624, 34.4568, 61.9624, 34.4568], &quot;geometry&quot;: {&quot;coordinates&quot;: [61.9624, 34.4568, 10.0], &quot;type&quot;: &quot;Point&quot;}, &quot;id&quot;: &quot;191&quot;, &quot;properties&quot;: {&quot;alert&quot;: null, &quot;cdi&quot;: null, &quot;code&quot;: &quot;6000lenq&quot;, &quot;detail&quot;: &quot;https://earthquake.usgs.gov/earthquakes/feed/v1.0/detail/us6000lenq.geojson&quot;, &quot;dmin&quot;: 5.848, &quot;felt&quot;: null, &quot;gap&quot;: 149.0, &quot;id&quot;: &quot;us6000lenq&quot;, &quot;ids&quot;: &quot;,us6000lenq,&quot;, &quot;mag&quot;: 4.1, &quot;magType&quot;: &quot;mb&quot;, &quot;mmi&quot;: null, &quot;net&quot;: &quot;us&quot;, &quot;nst&quot;: 29.0, &quot;place&quot;: &quot;23 km ENE of Zindah J\\u0101n, Afghanistan&quot;, &quot;rms&quot;: 0.47, &quot;sig&quot;: 259, &quot;sources&quot;: &quot;,us,&quot;, &quot;status&quot;: &quot;reviewed&quot;, &quot;time&quot;: 1696986790460, &quot;title&quot;: &quot;M 4.1 - 23 km ENE of Zindah J\\u0101n, Afghanistan&quot;, &quot;tsunami&quot;: 0, &quot;type&quot;: &quot;earthquake&quot;, &quot;types&quot;: &quot;,origin,phase-data,&quot;, &quot;tz&quot;: null, &quot;updated&quot;: 1697147735040, &quot;url&quot;: &quot;https://earthquake.usgs.gov/earthquakes/eventpage/us6000lenq&quot;}, &quot;type&quot;: &quot;Feature&quot;}, {&quot;bbox&quot;: [-173.4606, 52.1891, -173.4606, 52.1891], &quot;geometry&quot;: {&quot;coordinates&quot;: [-173.4606, 52.1891, 78.583], &quot;type&quot;: &quot;Point&quot;}, &quot;id&quot;: &quot;192&quot;, &quot;properties&quot;: {&quot;alert&quot;: null, &quot;cdi&quot;: null, &quot;code&quot;: &quot;6000ley9&quot;, &quot;detail&quot;: &quot;https://earthquake.usgs.gov/earthquakes/feed/v1.0/detail/us6000ley9.geojson&quot;, &quot;dmin&quot;: 0.395, &quot;felt&quot;: null, &quot;gap&quot;: 187.0, &quot;id&quot;: &quot;us6000ley9&quot;, &quot;ids&quot;: &quot;,ak023d1p8ntv,us6000ley9,&quot;, &quot;mag&quot;: 3.9, &quot;magType&quot;: &quot;mb&quot;, &quot;mmi&quot;: 2.886, &quot;net&quot;: &quot;us&quot;, &quot;nst&quot;: 42.0, &quot;place&quot;: &quot;Andreanof Islands, Aleutian Islands, Alaska&quot;, &quot;rms&quot;: 0.5, &quot;sig&quot;: 234, &quot;sources&quot;: &quot;,ak,us,&quot;, &quot;status&quot;: &quot;reviewed&quot;, &quot;time&quot;: 1696986190946, &quot;title&quot;: &quot;M 3.9 - Andreanof Islands, Aleutian Islands, Alaska&quot;, &quot;tsunami&quot;: 0, &quot;type&quot;: &quot;earthquake&quot;, &quot;types&quot;: &quot;,origin,phase-data,shakemap,&quot;, &quot;tz&quot;: null, &quot;updated&quot;: 1697146993040, &quot;url&quot;: &quot;https://earthquake.usgs.gov/earthquakes/eventpage/us6000ley9&quot;}, &quot;type&quot;: &quot;Feature&quot;}, {&quot;bbox&quot;: [178.6927, 51.1724, 178.6927, 51.1724], &quot;geometry&quot;: {&quot;coordinates&quot;: [178.6927, 51.1724, 28.497], &quot;type&quot;: &quot;Point&quot;}, &quot;id&quot;: &quot;193&quot;, &quot;properties&quot;: {&quot;alert&quot;: null, &quot;cdi&quot;: null, &quot;code&quot;: &quot;6000ley8&quot;, &quot;detail&quot;: &quot;https://earthquake.usgs.gov/earthquakes/feed/v1.0/detail/us6000ley8.geojson&quot;, &quot;dmin&quot;: 0.435, &quot;felt&quot;: null, &quot;gap&quot;: 276.0, &quot;id&quot;: &quot;us6000ley8&quot;, &quot;ids&quot;: &quot;,ak023d1oxyo5,us6000ley8,&quot;, &quot;mag&quot;: 3.1, &quot;magType&quot;: &quot;ml&quot;, &quot;mmi&quot;: null, &quot;net&quot;: &quot;us&quot;, &quot;nst&quot;: 16.0, &quot;place&quot;: &quot;Rat Islands, Aleutian Islands, Alaska&quot;, &quot;rms&quot;: 0.25, &quot;sig&quot;: 148, &quot;sources&quot;: &quot;,ak,us,&quot;, &quot;status&quot;: &quot;reviewed&quot;, &quot;time&quot;: 1696985604195, &quot;title&quot;: &quot;M 3.1 - Rat Islands, Aleutian Islands, Alaska&quot;, &quot;tsunami&quot;: 0, &quot;type&quot;: &quot;earthquake&quot;, &quot;types&quot;: &quot;,origin,phase-data,&quot;, &quot;tz&quot;: null, &quot;updated&quot;: 1697083888040, &quot;url&quot;: &quot;https://earthquake.usgs.gov/earthquakes/eventpage/us6000ley8&quot;}, &quot;type&quot;: &quot;Feature&quot;}, {&quot;bbox&quot;: [62.1253, 34.5998, 62.1253, 34.5998], &quot;geometry&quot;: {&quot;coordinates&quot;: [62.1253, 34.5998, 10.0], &quot;type&quot;: &quot;Point&quot;}, &quot;id&quot;: &quot;194&quot;, &quot;properties&quot;: {&quot;alert&quot;: null, &quot;cdi&quot;: 5.1, &quot;code&quot;: &quot;6000leng&quot;, &quot;detail&quot;: &quot;https://earthquake.usgs.gov/earthquakes/feed/v1.0/detail/us6000leng.geojson&quot;, &quot;dmin&quot;: 5.708, &quot;felt&quot;: 3.0, &quot;gap&quot;: 93.0, &quot;id&quot;: &quot;us6000leng&quot;, &quot;ids&quot;: &quot;,us6000leng,&quot;, &quot;mag&quot;: 5.0, &quot;magType&quot;: &quot;mb&quot;, &quot;mmi&quot;: null, &quot;net&quot;: &quot;us&quot;, &quot;nst&quot;: 67.0, &quot;place&quot;: &quot;28 km NNW of Her\\u0101t, Afghanistan&quot;, &quot;rms&quot;: 0.73, &quot;sig&quot;: 386, &quot;sources&quot;: &quot;,us,&quot;, &quot;status&quot;: &quot;reviewed&quot;, &quot;time&quot;: 1696985565356, &quot;title&quot;: &quot;M 5.0 - 28 km NNW of Her\\u0101t, Afghanistan&quot;, &quot;tsunami&quot;: 0, &quot;type&quot;: &quot;earthquake&quot;, &quot;types&quot;: &quot;,dyfi,origin,phase-data,&quot;, &quot;tz&quot;: null, &quot;updated&quot;: 1696993034531, &quot;url&quot;: &quot;https://earthquake.usgs.gov/earthquakes/eventpage/us6000leng&quot;}, &quot;type&quot;: &quot;Feature&quot;}, {&quot;bbox&quot;: [62.0449, 34.5565, 62.0449, 34.5565], &quot;geometry&quot;: {&quot;coordinates&quot;: [62.0449, 34.5565, 9.0], &quot;type&quot;: &quot;Point&quot;}, &quot;id&quot;: &quot;195&quot;, &quot;properties&quot;: {&quot;alert&quot;: &quot;red&quot;, &quot;cdi&quot;: 6.0, &quot;code&quot;: &quot;6000len8&quot;, &quot;detail&quot;: &quot;https://earthquake.usgs.gov/earthquakes/feed/v1.0/detail/us6000len8.geojson&quot;, &quot;dmin&quot;: 5.775, &quot;felt&quot;: 53.0, &quot;gap&quot;: 21.0, &quot;id&quot;: &quot;us6000len8&quot;, &quot;ids&quot;: &quot;,us6000len8,&quot;, &quot;mag&quot;: 6.3, &quot;magType&quot;: &quot;mww&quot;, &quot;mmi&quot;: 7.858, &quot;net&quot;: &quot;us&quot;, &quot;nst&quot;: 412.0, &quot;place&quot;: &quot;western Afghanistan&quot;, &quot;rms&quot;: 0.72, &quot;sig&quot;: 2032, &quot;sources&quot;: &quot;,us,&quot;, &quot;status&quot;: &quot;reviewed&quot;, &quot;time&quot;: 1696984916160, &quot;title&quot;: &quot;M 6.3 - western Afghanistan&quot;, &quot;tsunami&quot;: 0, &quot;type&quot;: &quot;earthquake&quot;, &quot;types&quot;: &quot;,dyfi,general-text,ground-failure,losspager,moment-tensor,origin,phase-data,shakemap,&quot;, &quot;tz&quot;: null, &quot;updated&quot;: 1697356775447, &quot;url&quot;: &quot;https://earthquake.usgs.gov/earthquakes/eventpage/us6000len8&quot;}, &quot;type&quot;: &quot;Feature&quot;}, {&quot;bbox&quot;: [6.8387, 73.2469, 6.8387, 73.2469], &quot;geometry&quot;: {&quot;coordinates&quot;: [6.8387, 73.2469, 10.0], &quot;type&quot;: &quot;Point&quot;}, &quot;id&quot;: &quot;196&quot;, &quot;properties&quot;: {&quot;alert&quot;: null, &quot;cdi&quot;: null, &quot;code&quot;: &quot;6000len5&quot;, &quot;detail&quot;: &quot;https://earthquake.usgs.gov/earthquakes/feed/v1.0/detail/us6000len5.geojson&quot;, &quot;dmin&quot;: 5.829, &quot;felt&quot;: null, &quot;gap&quot;: 33.0, &quot;id&quot;: &quot;us6000len5&quot;, &quot;ids&quot;: &quot;,us6000len5,&quot;, &quot;mag&quot;: 4.7, &quot;magType&quot;: &quot;mb&quot;, &quot;mmi&quot;: null, &quot;net&quot;: &quot;us&quot;, &quot;nst&quot;: 74.0, &quot;place&quot;: &quot;Greenland Sea&quot;, &quot;rms&quot;: 0.76, &quot;sig&quot;: 340, &quot;sources&quot;: &quot;,us,&quot;, &quot;status&quot;: &quot;reviewed&quot;, &quot;time&quot;: 1696983213148, &quot;title&quot;: &quot;M 4.7 - Greenland Sea&quot;, &quot;tsunami&quot;: 0, &quot;type&quot;: &quot;earthquake&quot;, &quot;types&quot;: &quot;,origin,phase-data,&quot;, &quot;tz&quot;: null, &quot;updated&quot;: 1696984226040, &quot;url&quot;: &quot;https://earthquake.usgs.gov/earthquakes/eventpage/us6000len5&quot;}, &quot;type&quot;: &quot;Feature&quot;}, {&quot;bbox&quot;: [125.7671, 2.8832, 125.7671, 2.8832], &quot;geometry&quot;: {&quot;coordinates&quot;: [125.7671, 2.8832, 173.908], &quot;type&quot;: &quot;Point&quot;}, &quot;id&quot;: &quot;197&quot;, &quot;properties&quot;: {&quot;alert&quot;: null, &quot;cdi&quot;: null, &quot;code&quot;: &quot;6000len4&quot;, &quot;detail&quot;: &quot;https://earthquake.usgs.gov/earthquakes/feed/v1.0/detail/us6000len4.geojson&quot;, &quot;dmin&quot;: 2.637, &quot;felt&quot;: null, &quot;gap&quot;: 107.0, &quot;id&quot;: &quot;us6000len4&quot;, &quot;ids&quot;: &quot;,us6000len4,&quot;, &quot;mag&quot;: 4.6, &quot;magType&quot;: &quot;mb&quot;, &quot;mmi&quot;: null, &quot;net&quot;: &quot;us&quot;, &quot;nst&quot;: 42.0, &quot;place&quot;: &quot;Kepulauan Sangihe, Indonesia&quot;, &quot;rms&quot;: 0.91, &quot;sig&quot;: 326, &quot;sources&quot;: &quot;,us,&quot;, &quot;status&quot;: &quot;reviewed&quot;, &quot;time&quot;: 1696982681629, &quot;title&quot;: &quot;M 4.6 - Kepulauan Sangihe, Indonesia&quot;, &quot;tsunami&quot;: 0, &quot;type&quot;: &quot;earthquake&quot;, &quot;types&quot;: &quot;,origin,phase-data,&quot;, &quot;tz&quot;: null, &quot;updated&quot;: 1696984534040, &quot;url&quot;: &quot;https://earthquake.usgs.gov/earthquakes/eventpage/us6000len4&quot;}, &quot;type&quot;: &quot;Feature&quot;}, {&quot;bbox&quot;: [-64.3425, 19.2676, -64.3425, 19.2676], &quot;geometry&quot;: {&quot;coordinates&quot;: [-64.3425, 19.2676, 14.0], &quot;type&quot;: &quot;Point&quot;}, &quot;id&quot;: &quot;198&quot;, &quot;properties&quot;: {&quot;alert&quot;: null, &quot;cdi&quot;: null, &quot;code&quot;: &quot;2023283001&quot;, &quot;detail&quot;: &quot;https://earthquake.usgs.gov/earthquakes/feed/v1.0/detail/pr2023283001.geojson&quot;, &quot;dmin&quot;: 1.102, &quot;felt&quot;: null, &quot;gap&quot;: 308.0, &quot;id&quot;: &quot;pr2023283001&quot;, &quot;ids&quot;: &quot;,us6000len3,pr2023283001,&quot;, &quot;mag&quot;: 3.62, &quot;magType&quot;: &quot;md&quot;, &quot;mmi&quot;: null, &quot;net&quot;: &quot;pr&quot;, &quot;nst&quot;: 15.0, &quot;place&quot;: &quot;114 km NNE of Cruz Bay, U.S. Virgin Islands&quot;, &quot;rms&quot;: 0.31, &quot;sig&quot;: 202, &quot;sources&quot;: &quot;,us,pr,&quot;, &quot;status&quot;: &quot;reviewed&quot;, &quot;time&quot;: 1696982345490, &quot;title&quot;: &quot;M 3.6 - 114 km NNE of Cruz Bay, U.S. Virgin Islands&quot;, &quot;tsunami&quot;: 0, &quot;type&quot;: &quot;earthquake&quot;, &quot;types&quot;: &quot;,origin,phase-data,&quot;, &quot;tz&quot;: null, &quot;updated&quot;: 1696983558400, &quot;url&quot;: &quot;https://earthquake.usgs.gov/earthquakes/eventpage/pr2023283001&quot;}, &quot;type&quot;: &quot;Feature&quot;}, {&quot;bbox&quot;: [129.7709, -6.6481, 129.7709, -6.6481], &quot;geometry&quot;: {&quot;coordinates&quot;: [129.7709, -6.6481, 166.592], &quot;type&quot;: &quot;Point&quot;}, &quot;id&quot;: &quot;199&quot;, &quot;properties&quot;: {&quot;alert&quot;: null, &quot;cdi&quot;: null, &quot;code&quot;: &quot;6000lelx&quot;, &quot;detail&quot;: &quot;https://earthquake.usgs.gov/earthquakes/feed/v1.0/detail/us6000lelx.geojson&quot;, &quot;dmin&quot;: 2.116, &quot;felt&quot;: null, &quot;gap&quot;: 83.0, &quot;id&quot;: &quot;us6000lelx&quot;, &quot;ids&quot;: &quot;,us6000lelx,&quot;, &quot;mag&quot;: 4.6, &quot;magType&quot;: &quot;mb&quot;, &quot;mmi&quot;: null, &quot;net&quot;: &quot;us&quot;, &quot;nst&quot;: 87.0, &quot;place&quot;: &quot;Banda Sea&quot;, &quot;rms&quot;: 0.64, &quot;sig&quot;: 326, &quot;sources&quot;: &quot;,us,&quot;, &quot;status&quot;: &quot;reviewed&quot;, &quot;time&quot;: 1696969224229, &quot;title&quot;: &quot;M 4.6 - Banda Sea&quot;, &quot;tsunami&quot;: 0, &quot;type&quot;: &quot;earthquake&quot;, &quot;types&quot;: &quot;,origin,phase-data,&quot;, &quot;tz&quot;: null, &quot;updated&quot;: 1697034444040, &quot;url&quot;: &quot;https://earthquake.usgs.gov/earthquakes/eventpage/us6000lelx&quot;}, &quot;type&quot;: &quot;Feature&quot;}, {&quot;bbox&quot;: [-98.1052, 28.9468, -98.1052, 28.9468], &quot;geometry&quot;: {&quot;coordinates&quot;: [-98.1052, 28.9468, 3.512], &quot;type&quot;: &quot;Point&quot;}, &quot;id&quot;: &quot;200&quot;, &quot;properties&quot;: {&quot;alert&quot;: null, &quot;cdi&quot;: null, &quot;code&quot;: &quot;6000lekm&quot;, &quot;detail&quot;: &quot;https://earthquake.usgs.gov/earthquakes/feed/v1.0/detail/us6000lekm.geojson&quot;, &quot;dmin&quot;: 0.276, &quot;felt&quot;: null, &quot;gap&quot;: 63.0, &quot;id&quot;: &quot;us6000lekm&quot;, &quot;ids&quot;: &quot;,us6000lekm,&quot;, &quot;mag&quot;: 2.8, &quot;magType&quot;: &quot;mb_lg&quot;, &quot;mmi&quot;: null, &quot;net&quot;: &quot;us&quot;, &quot;nst&quot;: 16.0, &quot;place&quot;: &quot;southern Texas&quot;, &quot;rms&quot;: 0.7, &quot;sig&quot;: 121, &quot;sources&quot;: &quot;,us,&quot;, &quot;status&quot;: &quot;reviewed&quot;, &quot;time&quot;: 1696958249372, &quot;title&quot;: &quot;M 2.8 - southern Texas&quot;, &quot;tsunami&quot;: 0, &quot;type&quot;: &quot;earthquake&quot;, &quot;types&quot;: &quot;,origin,phase-data,&quot;, &quot;tz&quot;: null, &quot;updated&quot;: 1696958936040, &quot;url&quot;: &quot;https://earthquake.usgs.gov/earthquakes/eventpage/us6000lekm&quot;}, &quot;type&quot;: &quot;Feature&quot;}, {&quot;bbox&quot;: [112.5475, -8.5598, 112.5475, -8.5598], &quot;geometry&quot;: {&quot;coordinates&quot;: [112.5475, -8.5598, 84.706], &quot;type&quot;: &quot;Point&quot;}, &quot;id&quot;: &quot;201&quot;, &quot;properties&quot;: {&quot;alert&quot;: null, &quot;cdi&quot;: 2.9, &quot;code&quot;: &quot;6000lei9&quot;, &quot;detail&quot;: &quot;https://earthquake.usgs.gov/earthquakes/feed/v1.0/detail/us6000lei9.geojson&quot;, &quot;dmin&quot;: 1.59, &quot;felt&quot;: 3.0, &quot;gap&quot;: 49.0, &quot;id&quot;: &quot;us6000lei9&quot;, &quot;ids&quot;: &quot;,us6000lei9,&quot;, &quot;mag&quot;: 4.7, &quot;magType&quot;: &quot;mb&quot;, &quot;mmi&quot;: null, &quot;net&quot;: &quot;us&quot;, &quot;nst&quot;: 81.0, &quot;place&quot;: &quot;43 km SSW of Gongdanglegi Kulon, Indonesia&quot;, &quot;rms&quot;: 1.0, &quot;sig&quot;: 341, &quot;sources&quot;: &quot;,us,&quot;, &quot;status&quot;: &quot;reviewed&quot;, &quot;time&quot;: 1696956148421, &quot;title&quot;: &quot;M 4.7 - 43 km SSW of Gongdanglegi Kulon, Indonesia&quot;, &quot;tsunami&quot;: 0, &quot;type&quot;: &quot;earthquake&quot;, &quot;types&quot;: &quot;,dyfi,origin,phase-data,&quot;, &quot;tz&quot;: null, &quot;updated&quot;: 1697345116465, &quot;url&quot;: &quot;https://earthquake.usgs.gov/earthquakes/eventpage/us6000lei9&quot;}, &quot;type&quot;: &quot;Feature&quot;}, {&quot;bbox&quot;: [119.7296, -8.1662, 119.7296, -8.1662], &quot;geometry&quot;: {&quot;coordinates&quot;: [119.7296, -8.1662, 186.555], &quot;type&quot;: &quot;Point&quot;}, &quot;id&quot;: &quot;202&quot;, &quot;properties&quot;: {&quot;alert&quot;: null, &quot;cdi&quot;: null, &quot;code&quot;: &quot;6000lehv&quot;, &quot;detail&quot;: &quot;https://earthquake.usgs.gov/earthquakes/feed/v1.0/detail/us6000lehv.geojson&quot;, &quot;dmin&quot;: 2.041, &quot;felt&quot;: null, &quot;gap&quot;: 71.0, &quot;id&quot;: &quot;us6000lehv&quot;, &quot;ids&quot;: &quot;,us6000lehv,&quot;, &quot;mag&quot;: 4.4, &quot;magType&quot;: &quot;mb&quot;, &quot;mmi&quot;: null, &quot;net&quot;: &quot;us&quot;, &quot;nst&quot;: 21.0, &quot;place&quot;: &quot;40 km NNW of Labuan Bajo, Indonesia&quot;, &quot;rms&quot;: 1.04, &quot;sig&quot;: 298, &quot;sources&quot;: &quot;,us,&quot;, &quot;status&quot;: &quot;reviewed&quot;, &quot;time&quot;: 1696948733839, &quot;title&quot;: &quot;M 4.4 - 40 km NNW of Labuan Bajo, Indonesia&quot;, &quot;tsunami&quot;: 0, &quot;type&quot;: &quot;earthquake&quot;, &quot;types&quot;: &quot;,origin,phase-data,&quot;, &quot;tz&quot;: null, &quot;updated&quot;: 1696950591040, &quot;url&quot;: &quot;https://earthquake.usgs.gov/earthquakes/eventpage/us6000lehv&quot;}, &quot;type&quot;: &quot;Feature&quot;}, {&quot;bbox&quot;: [-115.5751667, 33.7906667, -115.5751667, 33.7906667], &quot;geometry&quot;: {&quot;coordinates&quot;: [-115.5751667, 33.7906667, 5.35], &quot;type&quot;: &quot;Point&quot;}, &quot;id&quot;: &quot;203&quot;, &quot;properties&quot;: {&quot;alert&quot;: null, &quot;cdi&quot;: 2.2, &quot;code&quot;: &quot;40580496&quot;, &quot;detail&quot;: &quot;https://earthquake.usgs.gov/earthquakes/feed/v1.0/detail/ci40580496.geojson&quot;, &quot;dmin&quot;: 0.09862, &quot;felt&quot;: 4.0, &quot;gap&quot;: 51.0, &quot;id&quot;: &quot;ci40580496&quot;, &quot;ids&quot;: &quot;,ci40580496,us6000lehn,&quot;, &quot;mag&quot;: 2.63, &quot;magType&quot;: &quot;ml&quot;, &quot;mmi&quot;: null, &quot;net&quot;: &quot;ci&quot;, &quot;nst&quot;: 34.0, &quot;place&quot;: &quot;18 km WNW of Desert Center, CA&quot;, &quot;rms&quot;: 0.19, &quot;sig&quot;: 107, &quot;sources&quot;: &quot;,ci,us,&quot;, &quot;status&quot;: &quot;reviewed&quot;, &quot;time&quot;: 1696945801970, &quot;title&quot;: &quot;M 2.6 - 18 km WNW of Desert Center, CA&quot;, &quot;tsunami&quot;: 0, &quot;type&quot;: &quot;earthquake&quot;, &quot;types&quot;: &quot;,dyfi,nearby-cities,origin,phase-data,scitech-link,&quot;, &quot;tz&quot;: null, &quot;updated&quot;: 1697345184762, &quot;url&quot;: &quot;https://earthquake.usgs.gov/earthquakes/eventpage/ci40580496&quot;}, &quot;type&quot;: &quot;Feature&quot;}, {&quot;bbox&quot;: [146.9409, 15.9832, 146.9409, 15.9832], &quot;geometry&quot;: {&quot;coordinates&quot;: [146.9409, 15.9832, 36.505], &quot;type&quot;: &quot;Point&quot;}, &quot;id&quot;: &quot;204&quot;, &quot;properties&quot;: {&quot;alert&quot;: null, &quot;cdi&quot;: null, &quot;code&quot;: &quot;6000leh9&quot;, &quot;detail&quot;: &quot;https://earthquake.usgs.gov/earthquakes/feed/v1.0/detail/us6000leh9.geojson&quot;, &quot;dmin&quot;: 1.333, &quot;felt&quot;: null, &quot;gap&quot;: 76.0, &quot;id&quot;: &quot;us6000leh9&quot;, &quot;ids&quot;: &quot;,us6000leh9,&quot;, &quot;mag&quot;: 4.9, &quot;magType&quot;: &quot;mb&quot;, &quot;mmi&quot;: null, &quot;net&quot;: &quot;us&quot;, &quot;nst&quot;: 70.0, &quot;place&quot;: &quot;153 km ENE of Saipan, Northern Mariana Islands&quot;, &quot;rms&quot;: 0.89, &quot;sig&quot;: 369, &quot;sources&quot;: &quot;,us,&quot;, &quot;status&quot;: &quot;reviewed&quot;, &quot;time&quot;: 1696940861581, &quot;title&quot;: &quot;M 4.9 - 153 km ENE of Saipan, Northern Mariana Islands&quot;, &quot;tsunami&quot;: 0, &quot;type&quot;: &quot;earthquake&quot;, &quot;types&quot;: &quot;,origin,phase-data,&quot;, &quot;tz&quot;: null, &quot;updated&quot;: 1696942487040, &quot;url&quot;: &quot;https://earthquake.usgs.gov/earthquakes/eventpage/us6000leh9&quot;}, &quot;type&quot;: &quot;Feature&quot;}, {&quot;bbox&quot;: [-82.5847, 7.0223, -82.5847, 7.0223], &quot;geometry&quot;: {&quot;coordinates&quot;: [-82.5847, 7.0223, 10.0], &quot;type&quot;: &quot;Point&quot;}, &quot;id&quot;: &quot;205&quot;, &quot;properties&quot;: {&quot;alert&quot;: null, &quot;cdi&quot;: 1.0, &quot;code&quot;: &quot;6000leh8&quot;, &quot;detail&quot;: &quot;https://earthquake.usgs.gov/earthquakes/feed/v1.0/detail/us6000leh8.geojson&quot;, &quot;dmin&quot;: 1.763, &quot;felt&quot;: 1.0, &quot;gap&quot;: 149.0, &quot;id&quot;: &quot;us6000leh8&quot;, &quot;ids&quot;: &quot;,us6000leh8,&quot;, &quot;mag&quot;: 4.5, &quot;magType&quot;: &quot;mb&quot;, &quot;mmi&quot;: null, &quot;net&quot;: &quot;us&quot;, &quot;nst&quot;: 65.0, &quot;place&quot;: &quot;116 km SSE of Burica, Panama&quot;, &quot;rms&quot;: 0.6, &quot;sig&quot;: 312, &quot;sources&quot;: &quot;,us,&quot;, &quot;status&quot;: &quot;reviewed&quot;, &quot;time&quot;: 1696940670189, &quot;title&quot;: &quot;M 4.5 - 116 km SSE of Burica, Panama&quot;, &quot;tsunami&quot;: 0, &quot;type&quot;: &quot;earthquake&quot;, &quot;types&quot;: &quot;,dyfi,origin,phase-data,&quot;, &quot;tz&quot;: null, &quot;updated&quot;: 1697025950417, &quot;url&quot;: &quot;https://earthquake.usgs.gov/earthquakes/eventpage/us6000leh8&quot;}, &quot;type&quot;: &quot;Feature&quot;}, {&quot;bbox&quot;: [-104.4707, 32.3685, -104.4707, 32.3685], &quot;geometry&quot;: {&quot;coordinates&quot;: [-104.4707, 32.3685, 9.424], &quot;type&quot;: &quot;Point&quot;}, &quot;id&quot;: &quot;206&quot;, &quot;properties&quot;: {&quot;alert&quot;: null, &quot;cdi&quot;: null, &quot;code&quot;: &quot;6000leh6&quot;, &quot;detail&quot;: &quot;https://earthquake.usgs.gov/earthquakes/feed/v1.0/detail/us6000leh6.geojson&quot;, &quot;dmin&quot;: 0.512, &quot;felt&quot;: null, &quot;gap&quot;: 90.0, &quot;id&quot;: &quot;us6000leh6&quot;, &quot;ids&quot;: &quot;,us6000leh6,&quot;, &quot;mag&quot;: 2.7, &quot;magType&quot;: &quot;ml&quot;, &quot;mmi&quot;: null, &quot;net&quot;: &quot;us&quot;, &quot;nst&quot;: 32.0, &quot;place&quot;: &quot;23 km NNW of Whites City, New Mexico&quot;, &quot;rms&quot;: 0.35, &quot;sig&quot;: 112, &quot;sources&quot;: &quot;,us,&quot;, &quot;status&quot;: &quot;reviewed&quot;, &quot;time&quot;: 1696939751371, &quot;title&quot;: &quot;M 2.7 - 23 km NNW of Whites City, New Mexico&quot;, &quot;tsunami&quot;: 0, &quot;type&quot;: &quot;earthquake&quot;, &quot;types&quot;: &quot;,origin,phase-data,&quot;, &quot;tz&quot;: null, &quot;updated&quot;: 1696944700040, &quot;url&quot;: &quot;https://earthquake.usgs.gov/earthquakes/eventpage/us6000leh6&quot;}, &quot;type&quot;: &quot;Feature&quot;}, {&quot;bbox&quot;: [-122.5065, 38.6873333, -122.5065, 38.6873333], &quot;geometry&quot;: {&quot;coordinates&quot;: [-122.5065, 38.6873333, 6.27], &quot;type&quot;: &quot;Point&quot;}, &quot;id&quot;: &quot;207&quot;, &quot;properties&quot;: {&quot;alert&quot;: null, &quot;cdi&quot;: 3.3, &quot;code&quot;: &quot;73948511&quot;, &quot;detail&quot;: &quot;https://earthquake.usgs.gov/earthquakes/feed/v1.0/detail/nc73948511.geojson&quot;, &quot;dmin&quot;: 0.06621, &quot;felt&quot;: 24.0, &quot;gap&quot;: 28.0, &quot;id&quot;: &quot;nc73948511&quot;, &quot;ids&quot;: &quot;,nc73948511,us6000leh5,&quot;, &quot;mag&quot;: 2.79, &quot;magType&quot;: &quot;md&quot;, &quot;mmi&quot;: null, &quot;net&quot;: &quot;nc&quot;, &quot;nst&quot;: 118.0, &quot;place&quot;: &quot;12 km SE of Middletown, CA&quot;, &quot;rms&quot;: 0.16, &quot;sig&quot;: 128, &quot;sources&quot;: &quot;,nc,us,&quot;, &quot;status&quot;: &quot;reviewed&quot;, &quot;time&quot;: 1696938760930, &quot;title&quot;: &quot;M 2.8 - 12 km SE of Middletown, CA&quot;, &quot;tsunami&quot;: 0, &quot;type&quot;: &quot;earthquake&quot;, &quot;types&quot;: &quot;,dyfi,focal-mechanism,nearby-cities,origin,phase-data,scitech-link,&quot;, &quot;tz&quot;: null, &quot;updated&quot;: 1697082494024, &quot;url&quot;: &quot;https://earthquake.usgs.gov/earthquakes/eventpage/nc73948511&quot;}, &quot;type&quot;: &quot;Feature&quot;}, {&quot;bbox&quot;: [-110.0013333, 44.6703333, -110.0013333, 44.6703333], &quot;geometry&quot;: {&quot;coordinates&quot;: [-110.0013333, 44.6703333, 13.18], &quot;type&quot;: &quot;Point&quot;}, &quot;id&quot;: &quot;208&quot;, &quot;properties&quot;: {&quot;alert&quot;: null, &quot;cdi&quot;: 2.7, &quot;code&quot;: &quot;60033849&quot;, &quot;detail&quot;: &quot;https://earthquake.usgs.gov/earthquakes/feed/v1.0/detail/uu60033849.geojson&quot;, &quot;dmin&quot;: 0.08357, &quot;felt&quot;: 1.0, &quot;gap&quot;: 115.0, &quot;id&quot;: &quot;uu60033849&quot;, &quot;ids&quot;: &quot;,us6000leh1,uu60033849,&quot;, &quot;mag&quot;: 3.34, &quot;magType&quot;: &quot;ml&quot;, &quot;mmi&quot;: null, &quot;net&quot;: &quot;uu&quot;, &quot;nst&quot;: 25.0, &quot;place&quot;: &quot;Wyoming&quot;, &quot;rms&quot;: 0.25, &quot;sig&quot;: 172, &quot;sources&quot;: &quot;,us,uu,&quot;, &quot;status&quot;: &quot;reviewed&quot;, &quot;time&quot;: 1696936159110, &quot;title&quot;: &quot;M 3.3 - Wyoming&quot;, &quot;tsunami&quot;: 0, &quot;type&quot;: &quot;earthquake&quot;, &quot;types&quot;: &quot;,dyfi,origin,phase-data,&quot;, &quot;tz&quot;: null, &quot;updated&quot;: 1697062240714, &quot;url&quot;: &quot;https://earthquake.usgs.gov/earthquakes/eventpage/uu60033849&quot;}, &quot;type&quot;: &quot;Feature&quot;}, {&quot;bbox&quot;: [-70.9985, -20.0398, -70.9985, -20.0398], &quot;geometry&quot;: {&quot;coordinates&quot;: [-70.9985, -20.0398, 17.0], &quot;type&quot;: &quot;Point&quot;}, &quot;id&quot;: &quot;209&quot;, &quot;properties&quot;: {&quot;alert&quot;: null, &quot;cdi&quot;: null, &quot;code&quot;: &quot;6000legx&quot;, &quot;detail&quot;: &quot;https://earthquake.usgs.gov/earthquakes/feed/v1.0/detail/us6000legx.geojson&quot;, &quot;dmin&quot;: 0.847, &quot;felt&quot;: null, &quot;gap&quot;: 131.0, &quot;id&quot;: &quot;us6000legx&quot;, &quot;ids&quot;: &quot;,us6000legx,&quot;, &quot;mag&quot;: 4.2, &quot;magType&quot;: &quot;mwr&quot;, &quot;mmi&quot;: null, &quot;net&quot;: &quot;us&quot;, &quot;nst&quot;: 30.0, &quot;place&quot;: &quot;90 km WNW of Puerto, Chile&quot;, &quot;rms&quot;: 0.85, &quot;sig&quot;: 271, &quot;sources&quot;: &quot;,us,&quot;, &quot;status&quot;: &quot;reviewed&quot;, &quot;time&quot;: 1696935373977, &quot;title&quot;: &quot;M 4.2 - 90 km WNW of Puerto, Chile&quot;, &quot;tsunami&quot;: 0, &quot;type&quot;: &quot;earthquake&quot;, &quot;types&quot;: &quot;,moment-tensor,origin,phase-data,&quot;, &quot;tz&quot;: null, &quot;updated&quot;: 1696940219040, &quot;url&quot;: &quot;https://earthquake.usgs.gov/earthquakes/eventpage/us6000legx&quot;}, &quot;type&quot;: &quot;Feature&quot;}, {&quot;bbox&quot;: [155.7379, 49.8268, 155.7379, 49.8268], &quot;geometry&quot;: {&quot;coordinates&quot;: [155.7379, 49.8268, 74.498], &quot;type&quot;: &quot;Point&quot;}, &quot;id&quot;: &quot;210&quot;, &quot;properties&quot;: {&quot;alert&quot;: null, &quot;cdi&quot;: null, &quot;code&quot;: &quot;6000legz&quot;, &quot;detail&quot;: &quot;https://earthquake.usgs.gov/earthquakes/feed/v1.0/detail/us6000legz.geojson&quot;, &quot;dmin&quot;: 3.507, &quot;felt&quot;: null, &quot;gap&quot;: 128.0, &quot;id&quot;: &quot;us6000legz&quot;, &quot;ids&quot;: &quot;,us6000legz,&quot;, &quot;mag&quot;: 4.4, &quot;magType&quot;: &quot;mb&quot;, &quot;mmi&quot;: null, &quot;net&quot;: &quot;us&quot;, &quot;nst&quot;: 69.0, &quot;place&quot;: &quot;98 km SSW of Severo-Kuril\\u2019sk, Russia&quot;, &quot;rms&quot;: 0.3, &quot;sig&quot;: 298, &quot;sources&quot;: &quot;,us,&quot;, &quot;status&quot;: &quot;reviewed&quot;, &quot;time&quot;: 1696935238767, &quot;title&quot;: &quot;M 4.4 - 98 km SSW of Severo-Kuril\\u2019sk, Russia&quot;, &quot;tsunami&quot;: 0, &quot;type&quot;: &quot;earthquake&quot;, &quot;types&quot;: &quot;,origin,phase-data,&quot;, &quot;tz&quot;: null, &quot;updated&quot;: 1696938633040, &quot;url&quot;: &quot;https://earthquake.usgs.gov/earthquakes/eventpage/us6000legz&quot;}, &quot;type&quot;: &quot;Feature&quot;}, {&quot;bbox&quot;: [-98.055, 28.929, -98.055, 28.929], &quot;geometry&quot;: {&quot;coordinates&quot;: [-98.055, 28.929, 4.6464], &quot;type&quot;: &quot;Point&quot;}, &quot;id&quot;: &quot;211&quot;, &quot;properties&quot;: {&quot;alert&quot;: null, &quot;cdi&quot;: null, &quot;code&quot;: &quot;2023twaj&quot;, &quot;detail&quot;: &quot;https://earthquake.usgs.gov/earthquakes/feed/v1.0/detail/tx2023twaj.geojson&quot;, &quot;dmin&quot;: 0.1, &quot;felt&quot;: null, &quot;gap&quot;: 44.0, &quot;id&quot;: &quot;tx2023twaj&quot;, &quot;ids&quot;: &quot;,us6000legt,tx2023twaj,&quot;, &quot;mag&quot;: 2.8, &quot;magType&quot;: &quot;ml(texnet)&quot;, &quot;mmi&quot;: null, &quot;net&quot;: &quot;tx&quot;, &quot;nst&quot;: 20.0, &quot;place&quot;: &quot;6 km SSW of Falls City, Texas&quot;, &quot;rms&quot;: 0.2, &quot;sig&quot;: 121, &quot;sources&quot;: &quot;,us,tx,&quot;, &quot;status&quot;: &quot;reviewed&quot;, &quot;time&quot;: 1696933275555, &quot;title&quot;: &quot;M 2.8 - 6 km SSW of Falls City, Texas&quot;, &quot;tsunami&quot;: 0, &quot;type&quot;: &quot;earthquake&quot;, &quot;types&quot;: &quot;,origin,phase-data,&quot;, &quot;tz&quot;: null, &quot;updated&quot;: 1696946240531, &quot;url&quot;: &quot;https://earthquake.usgs.gov/earthquakes/eventpage/tx2023twaj&quot;}, &quot;type&quot;: &quot;Feature&quot;}, {&quot;bbox&quot;: [-66.2242, -22.8844, -66.2242, -22.8844], &quot;geometry&quot;: {&quot;coordinates&quot;: [-66.2242, -22.8844, 247.255], &quot;type&quot;: &quot;Point&quot;}, &quot;id&quot;: &quot;212&quot;, &quot;properties&quot;: {&quot;alert&quot;: &quot;green&quot;, &quot;cdi&quot;: 3.6, &quot;code&quot;: &quot;6000legn&quot;, &quot;detail&quot;: &quot;https://earthquake.usgs.gov/earthquakes/feed/v1.0/detail/us6000legn.geojson&quot;, &quot;dmin&quot;: 1.803, &quot;felt&quot;: 5.0, &quot;gap&quot;: 34.0, &quot;id&quot;: &quot;us6000legn&quot;, &quot;ids&quot;: &quot;,us6000legn,&quot;, &quot;mag&quot;: 6.0, &quot;magType&quot;: &quot;mww&quot;, &quot;mmi&quot;: 3.534, &quot;net&quot;: &quot;us&quot;, &quot;nst&quot;: 100.0, &quot;place&quot;: &quot;57 km WSW of Abra Pampa, Argentina&quot;, &quot;rms&quot;: 0.7, &quot;sig&quot;: 556, &quot;sources&quot;: &quot;,us,&quot;, &quot;status&quot;: &quot;reviewed&quot;, &quot;time&quot;: 1696932091086, &quot;title&quot;: &quot;M 6.0 - 57 km WSW of Abra Pampa, Argentina&quot;, &quot;tsunami&quot;: 0, &quot;type&quot;: &quot;earthquake&quot;, &quot;types&quot;: &quot;,dyfi,ground-failure,losspager,origin,phase-data,shakemap,&quot;, &quot;tz&quot;: null, &quot;updated&quot;: 1697018906038, &quot;url&quot;: &quot;https://earthquake.usgs.gov/earthquakes/eventpage/us6000legn&quot;}, &quot;type&quot;: &quot;Feature&quot;}, {&quot;bbox&quot;: [-64.2715, 19.3806, -64.2715, 19.3806], &quot;geometry&quot;: {&quot;coordinates&quot;: [-64.2715, 19.3806, 45.0], &quot;type&quot;: &quot;Point&quot;}, &quot;id&quot;: &quot;213&quot;, &quot;properties&quot;: {&quot;alert&quot;: null, &quot;cdi&quot;: null, &quot;code&quot;: &quot;2023283000&quot;, &quot;detail&quot;: &quot;https://earthquake.usgs.gov/earthquakes/feed/v1.0/detail/pr2023283000.geojson&quot;, &quot;dmin&quot;: 1.2355, &quot;felt&quot;: null, &quot;gap&quot;: 310.0, &quot;id&quot;: &quot;pr2023283000&quot;, &quot;ids&quot;: &quot;,us6000legj,pr2023283000,&quot;, &quot;mag&quot;: 3.91, &quot;magType&quot;: &quot;md&quot;, &quot;mmi&quot;: null, &quot;net&quot;: &quot;pr&quot;, &quot;nst&quot;: 13.0, &quot;place&quot;: &quot;128 km NNE of Cruz Bay, U.S. Virgin Islands&quot;, &quot;rms&quot;: 0.27, &quot;sig&quot;: 235, &quot;sources&quot;: &quot;,us,pr,&quot;, &quot;status&quot;: &quot;reviewed&quot;, &quot;time&quot;: 1696931304920, &quot;title&quot;: &quot;M 3.9 - 128 km NNE of Cruz Bay, U.S. Virgin Islands&quot;, &quot;tsunami&quot;: 0, &quot;type&quot;: &quot;earthquake&quot;, &quot;types&quot;: &quot;,origin,phase-data,&quot;, &quot;tz&quot;: null, &quot;updated&quot;: 1696934572040, &quot;url&quot;: &quot;https://earthquake.usgs.gov/earthquakes/eventpage/pr2023283000&quot;}, &quot;type&quot;: &quot;Feature&quot;}, {&quot;bbox&quot;: [-139.017, 57.8948, -139.017, 57.8948], &quot;geometry&quot;: {&quot;coordinates&quot;: [-139.017, 57.8948, 5.9], &quot;type&quot;: &quot;Point&quot;}, &quot;id&quot;: &quot;214&quot;, &quot;properties&quot;: {&quot;alert&quot;: null, &quot;cdi&quot;: 2.1, &quot;code&quot;: &quot;023d061muv&quot;, &quot;detail&quot;: &quot;https://earthquake.usgs.gov/earthquakes/feed/v1.0/detail/ak023d061muv.geojson&quot;, &quot;dmin&quot;: null, &quot;felt&quot;: 3.0, &quot;gap&quot;: null, &quot;id&quot;: &quot;ak023d061muv&quot;, &quot;ids&quot;: &quot;,ak023d061muv,us6000legc,&quot;, &quot;mag&quot;: 4.2, &quot;magType&quot;: &quot;ml&quot;, &quot;mmi&quot;: 1.785, &quot;net&quot;: &quot;ak&quot;, &quot;nst&quot;: null, &quot;place&quot;: &quot;161 km WSW of Elfin Cove, Alaska&quot;, &quot;rms&quot;: 0.88, &quot;sig&quot;: 272, &quot;sources&quot;: &quot;,ak,us,&quot;, &quot;status&quot;: &quot;reviewed&quot;, &quot;time&quot;: 1696926766879, &quot;title&quot;: &quot;M 4.2 - 161 km WSW of Elfin Cove, Alaska&quot;, &quot;tsunami&quot;: 0, &quot;type&quot;: &quot;earthquake&quot;, &quot;types&quot;: &quot;,dyfi,origin,phase-data,shakemap,&quot;, &quot;tz&quot;: null, &quot;updated&quot;: 1697007805498, &quot;url&quot;: &quot;https://earthquake.usgs.gov/earthquakes/eventpage/ak023d061muv&quot;}, &quot;type&quot;: &quot;Feature&quot;}, {&quot;bbox&quot;: [-174.2009, -15.545, -174.2009, -15.545], &quot;geometry&quot;: {&quot;coordinates&quot;: [-174.2009, -15.545, 25.023], &quot;type&quot;: &quot;Point&quot;}, &quot;id&quot;: &quot;215&quot;, &quot;properties&quot;: {&quot;alert&quot;: &quot;green&quot;, &quot;cdi&quot;: null, &quot;code&quot;: &quot;6000leg0&quot;, &quot;detail&quot;: &quot;https://earthquake.usgs.gov/earthquakes/feed/v1.0/detail/us6000leg0.geojson&quot;, &quot;dmin&quot;: 3.092, &quot;felt&quot;: null, &quot;gap&quot;: 57.0, &quot;id&quot;: &quot;us6000leg0&quot;, &quot;ids&quot;: &quot;,us6000leg0,&quot;, &quot;mag&quot;: 5.7, &quot;magType&quot;: &quot;mww&quot;, &quot;mmi&quot;: 3.911, &quot;net&quot;: &quot;us&quot;, &quot;nst&quot;: 57.0, &quot;place&quot;: &quot;62 km NW of Hihifo, Tonga&quot;, &quot;rms&quot;: 1.21, &quot;sig&quot;: 500, &quot;sources&quot;: &quot;,us,&quot;, &quot;status&quot;: &quot;reviewed&quot;, &quot;time&quot;: 1696922492234, &quot;title&quot;: &quot;M 5.7 - 62 km NW of Hihifo, Tonga&quot;, &quot;tsunami&quot;: 0, &quot;type&quot;: &quot;earthquake&quot;, &quot;types&quot;: &quot;,losspager,origin,phase-data,shakemap,&quot;, &quot;tz&quot;: null, &quot;updated&quot;: 1697009128834, &quot;url&quot;: &quot;https://earthquake.usgs.gov/earthquakes/eventpage/us6000leg0&quot;}, &quot;type&quot;: &quot;Feature&quot;}, {&quot;bbox&quot;: [-66.8135, -23.4159, -66.8135, -23.4159], &quot;geometry&quot;: {&quot;coordinates&quot;: [-66.8135, -23.4159, 210.083], &quot;type&quot;: &quot;Point&quot;}, &quot;id&quot;: &quot;216&quot;, &quot;properties&quot;: {&quot;alert&quot;: null, &quot;cdi&quot;: null, &quot;code&quot;: &quot;6000lefq&quot;, &quot;detail&quot;: &quot;https://earthquake.usgs.gov/earthquakes/feed/v1.0/detail/us6000lefq.geojson&quot;, &quot;dmin&quot;: 1.339, &quot;felt&quot;: null, &quot;gap&quot;: 71.0, &quot;id&quot;: &quot;us6000lefq&quot;, &quot;ids&quot;: &quot;,us6000lefq,&quot;, &quot;mag&quot;: 4.4, &quot;magType&quot;: &quot;mb&quot;, &quot;mmi&quot;: null, &quot;net&quot;: &quot;us&quot;, &quot;nst&quot;: 39.0, &quot;place&quot;: &quot;102 km NNW of San Antonio de los Cobres, Argentina&quot;, &quot;rms&quot;: 1.08, &quot;sig&quot;: 298, &quot;sources&quot;: &quot;,us,&quot;, &quot;status&quot;: &quot;reviewed&quot;, &quot;time&quot;: 1696919257739, &quot;title&quot;: &quot;M 4.4 - 102 km NNW of San Antonio de los Cobres, Argentina&quot;, &quot;tsunami&quot;: 0, &quot;type&quot;: &quot;earthquake&quot;, &quot;types&quot;: &quot;,origin,phase-data,&quot;, &quot;tz&quot;: null, &quot;updated&quot;: 1696920429040, &quot;url&quot;: &quot;https://earthquake.usgs.gov/earthquakes/eventpage/us6000lefq&quot;}, &quot;type&quot;: &quot;Feature&quot;}, {&quot;bbox&quot;: [-133.4128, 58.293, -133.4128, 58.293], &quot;geometry&quot;: {&quot;coordinates&quot;: [-133.4128, 58.293, 0.0], &quot;type&quot;: &quot;Point&quot;}, &quot;id&quot;: &quot;217&quot;, &quot;properties&quot;: {&quot;alert&quot;: null, &quot;cdi&quot;: null, &quot;code&quot;: &quot;023d04cafp&quot;, &quot;detail&quot;: &quot;https://earthquake.usgs.gov/earthquakes/feed/v1.0/detail/ak023d04cafp.geojson&quot;, &quot;dmin&quot;: null, &quot;felt&quot;: null, &quot;gap&quot;: null, &quot;id&quot;: &quot;ak023d04cafp&quot;, &quot;ids&quot;: &quot;,us6000lefk,ak023d04cafp,&quot;, &quot;mag&quot;: 2.6, &quot;magType&quot;: &quot;ml&quot;, &quot;mmi&quot;: null, &quot;net&quot;: &quot;ak&quot;, &quot;nst&quot;: null, &quot;place&quot;: &quot;59 km E of Juneau, Alaska&quot;, &quot;rms&quot;: 0.73, &quot;sig&quot;: 104, &quot;sources&quot;: &quot;,us,ak,&quot;, &quot;status&quot;: &quot;reviewed&quot;, &quot;time&quot;: 1696916779008, &quot;title&quot;: &quot;M 2.6 Ice Quake - 59 km E of Juneau, Alaska&quot;, &quot;tsunami&quot;: 0, &quot;type&quot;: &quot;ice quake&quot;, &quot;types&quot;: &quot;,origin,phase-data,&quot;, &quot;tz&quot;: null, &quot;updated&quot;: 1696917283337, &quot;url&quot;: &quot;https://earthquake.usgs.gov/earthquakes/eventpage/ak023d04cafp&quot;}, &quot;type&quot;: &quot;Feature&quot;}, {&quot;bbox&quot;: [-133.399, 58.3404, -133.399, 58.3404], &quot;geometry&quot;: {&quot;coordinates&quot;: [-133.399, 58.3404, 0.0], &quot;type&quot;: &quot;Point&quot;}, &quot;id&quot;: &quot;218&quot;, &quot;properties&quot;: {&quot;alert&quot;: null, &quot;cdi&quot;: null, &quot;code&quot;: &quot;023d046523&quot;, &quot;detail&quot;: &quot;https://earthquake.usgs.gov/earthquakes/feed/v1.0/detail/ak023d046523.geojson&quot;, &quot;dmin&quot;: null, &quot;felt&quot;: null, &quot;gap&quot;: null, &quot;id&quot;: &quot;ak023d046523&quot;, &quot;ids&quot;: &quot;,us6000lefh,ak023d046523,&quot;, &quot;mag&quot;: 2.8, &quot;magType&quot;: &quot;ml&quot;, &quot;mmi&quot;: null, &quot;net&quot;: &quot;ak&quot;, &quot;nst&quot;: null, &quot;place&quot;: &quot;59 km E of Juneau, Alaska&quot;, &quot;rms&quot;: 0.63, &quot;sig&quot;: 121, &quot;sources&quot;: &quot;,us,ak,&quot;, &quot;status&quot;: &quot;reviewed&quot;, &quot;time&quot;: 1696915073091, &quot;title&quot;: &quot;M 2.8 Ice Quake - 59 km E of Juneau, Alaska&quot;, &quot;tsunami&quot;: 0, &quot;type&quot;: &quot;ice quake&quot;, &quot;types&quot;: &quot;,origin,phase-data,&quot;, &quot;tz&quot;: null, &quot;updated&quot;: 1696916947570, &quot;url&quot;: &quot;https://earthquake.usgs.gov/earthquakes/eventpage/ak023d046523&quot;}, &quot;type&quot;: &quot;Feature&quot;}, {&quot;bbox&quot;: [-115.6428333, 31.4901667, -115.6428333, 31.4901667], &quot;geometry&quot;: {&quot;coordinates&quot;: [-115.6428333, 31.4901667, 8.27], &quot;type&quot;: &quot;Point&quot;}, &quot;id&quot;: &quot;219&quot;, &quot;properties&quot;: {&quot;alert&quot;: null, &quot;cdi&quot;: null, &quot;code&quot;: &quot;40580344&quot;, &quot;detail&quot;: &quot;https://earthquake.usgs.gov/earthquakes/feed/v1.0/detail/ci40580344.geojson&quot;, &quot;dmin&quot;: 0.1557, &quot;felt&quot;: null, &quot;gap&quot;: 70.0, &quot;id&quot;: &quot;ci40580344&quot;, &quot;ids&quot;: &quot;,ci40580344,&quot;, &quot;mag&quot;: 2.63, &quot;magType&quot;: &quot;ml&quot;, &quot;mmi&quot;: null, &quot;net&quot;: &quot;ci&quot;, &quot;nst&quot;: 13.0, &quot;place&quot;: &quot;91 km ESE of Maneadero, B.C., MX&quot;, &quot;rms&quot;: 0.22, &quot;sig&quot;: 106, &quot;sources&quot;: &quot;,ci,&quot;, &quot;status&quot;: &quot;reviewed&quot;, &quot;time&quot;: 1696908963170, &quot;title&quot;: &quot;M 2.6 - 91 km ESE of Maneadero, B.C., MX&quot;, &quot;tsunami&quot;: 0, &quot;type&quot;: &quot;earthquake&quot;, &quot;types&quot;: &quot;,nearby-cities,origin,phase-data,scitech-link,&quot;, &quot;tz&quot;: null, &quot;updated&quot;: 1696958051952, &quot;url&quot;: &quot;https://earthquake.usgs.gov/earthquakes/eventpage/ci40580344&quot;}, &quot;type&quot;: &quot;Feature&quot;}, {&quot;bbox&quot;: [-179.0714, 51.247, -179.0714, 51.247], &quot;geometry&quot;: {&quot;coordinates&quot;: [-179.0714, 51.247, 20.999], &quot;type&quot;: &quot;Point&quot;}, &quot;id&quot;: &quot;220&quot;, &quot;properties&quot;: {&quot;alert&quot;: null, &quot;cdi&quot;: null, &quot;code&quot;: &quot;6000lel7&quot;, &quot;detail&quot;: &quot;https://earthquake.usgs.gov/earthquakes/feed/v1.0/detail/us6000lel7.geojson&quot;, &quot;dmin&quot;: 0.347, &quot;felt&quot;: null, &quot;gap&quot;: 212.0, &quot;id&quot;: &quot;us6000lel7&quot;, &quot;ids&quot;: &quot;,av92078681,us6000lel7,&quot;, &quot;mag&quot;: 2.9, &quot;magType&quot;: &quot;ml&quot;, &quot;mmi&quot;: null, &quot;net&quot;: &quot;us&quot;, &quot;nst&quot;: 18.0, &quot;place&quot;: &quot;Andreanof Islands, Aleutian Islands, Alaska&quot;, &quot;rms&quot;: 0.4, &quot;sig&quot;: 129, &quot;sources&quot;: &quot;,av,us,&quot;, &quot;status&quot;: &quot;reviewed&quot;, &quot;time&quot;: 1696906372730, &quot;title&quot;: &quot;M 2.9 - Andreanof Islands, Aleutian Islands, Alaska&quot;, &quot;tsunami&quot;: 0, &quot;type&quot;: &quot;earthquake&quot;, &quot;types&quot;: &quot;,origin,phase-data,&quot;, &quot;tz&quot;: null, &quot;updated&quot;: 1696999946040, &quot;url&quot;: &quot;https://earthquake.usgs.gov/earthquakes/eventpage/us6000lel7&quot;}, &quot;type&quot;: &quot;Feature&quot;}, {&quot;bbox&quot;: [-103.996, 31.646, -103.996, 31.646], &quot;geometry&quot;: {&quot;coordinates&quot;: [-103.996, 31.646, 6.4658], &quot;type&quot;: &quot;Point&quot;}, &quot;id&quot;: &quot;221&quot;, &quot;properties&quot;: {&quot;alert&quot;: null, &quot;cdi&quot;: null, &quot;code&quot;: &quot;2023tvke&quot;, &quot;detail&quot;: &quot;https://earthquake.usgs.gov/earthquakes/feed/v1.0/detail/tx2023tvke.geojson&quot;, &quot;dmin&quot;: 0.0, &quot;felt&quot;: null, &quot;gap&quot;: 70.0, &quot;id&quot;: &quot;tx2023tvke&quot;, &quot;ids&quot;: &quot;,us6000leey,tx2023tvke,&quot;, &quot;mag&quot;: 3.0, &quot;magType&quot;: &quot;ml(texnet)&quot;, &quot;mmi&quot;: null, &quot;net&quot;: &quot;tx&quot;, &quot;nst&quot;: 15.0, &quot;place&quot;: &quot;38 km W of Mentone, Texas&quot;, &quot;rms&quot;: 0.1, &quot;sig&quot;: 138, &quot;sources&quot;: &quot;,us,tx,&quot;, &quot;status&quot;: &quot;reviewed&quot;, &quot;time&quot;: 1696903850977, &quot;title&quot;: &quot;M 3.0 - 38 km W of Mentone, Texas&quot;, &quot;tsunami&quot;: 0, &quot;type&quot;: &quot;earthquake&quot;, &quot;types&quot;: &quot;,origin,phase-data,&quot;, &quot;tz&quot;: null, &quot;updated&quot;: 1697225364167, &quot;url&quot;: &quot;https://earthquake.usgs.gov/earthquakes/eventpage/tx2023tvke&quot;}, &quot;type&quot;: &quot;Feature&quot;}, {&quot;bbox&quot;: [-104.4798, 32.3584, -104.4798, 32.3584], &quot;geometry&quot;: {&quot;coordinates&quot;: [-104.4798, 32.3584, 10.0], &quot;type&quot;: &quot;Point&quot;}, &quot;id&quot;: &quot;222&quot;, &quot;properties&quot;: {&quot;alert&quot;: null, &quot;cdi&quot;: null, &quot;code&quot;: &quot;6000leex&quot;, &quot;detail&quot;: &quot;https://earthquake.usgs.gov/earthquakes/feed/v1.0/detail/us6000leex.geojson&quot;, &quot;dmin&quot;: 0.517, &quot;felt&quot;: null, &quot;gap&quot;: 90.0, &quot;id&quot;: &quot;us6000leex&quot;, &quot;ids&quot;: &quot;,us6000leex,&quot;, &quot;mag&quot;: 2.6, &quot;magType&quot;: &quot;ml&quot;, &quot;mmi&quot;: null, &quot;net&quot;: &quot;us&quot;, &quot;nst&quot;: 27.0, &quot;place&quot;: &quot;22 km NNW of Whites City, New Mexico&quot;, &quot;rms&quot;: 0.48, &quot;sig&quot;: 104, &quot;sources&quot;: &quot;,us,&quot;, &quot;status&quot;: &quot;reviewed&quot;, &quot;time&quot;: 1696903252602, &quot;title&quot;: &quot;M 2.6 - 22 km NNW of Whites City, New Mexico&quot;, &quot;tsunami&quot;: 0, &quot;type&quot;: &quot;earthquake&quot;, &quot;types&quot;: &quot;,origin,phase-data,&quot;, &quot;tz&quot;: null, &quot;updated&quot;: 1696999464040, &quot;url&quot;: &quot;https://earthquake.usgs.gov/earthquakes/eventpage/us6000leex&quot;}, &quot;type&quot;: &quot;Feature&quot;}, {&quot;bbox&quot;: [-115.642, 31.4903333, -115.642, 31.4903333], &quot;geometry&quot;: {&quot;coordinates&quot;: [-115.642, 31.4903333, 8.43], &quot;type&quot;: &quot;Point&quot;}, &quot;id&quot;: &quot;223&quot;, &quot;properties&quot;: {&quot;alert&quot;: null, &quot;cdi&quot;: null, &quot;code&quot;: &quot;40580320&quot;, &quot;detail&quot;: &quot;https://earthquake.usgs.gov/earthquakes/feed/v1.0/detail/ci40580320.geojson&quot;, &quot;dmin&quot;: 0.1564, &quot;felt&quot;: null, &quot;gap&quot;: 70.0, &quot;id&quot;: &quot;ci40580320&quot;, &quot;ids&quot;: &quot;,ci40580320,&quot;, &quot;mag&quot;: 3.04, &quot;magType&quot;: &quot;ml&quot;, &quot;mmi&quot;: null, &quot;net&quot;: &quot;ci&quot;, &quot;nst&quot;: 12.0, &quot;place&quot;: &quot;91 km ESE of Maneadero, B.C., MX&quot;, &quot;rms&quot;: 0.19, &quot;sig&quot;: 142, &quot;sources&quot;: &quot;,ci,&quot;, &quot;status&quot;: &quot;reviewed&quot;, &quot;time&quot;: 1696902816220, &quot;title&quot;: &quot;M 3.0 - 91 km ESE of Maneadero, B.C., MX&quot;, &quot;tsunami&quot;: 0, &quot;type&quot;: &quot;earthquake&quot;, &quot;types&quot;: &quot;,nearby-cities,origin,phase-data,scitech-link,&quot;, &quot;tz&quot;: null, &quot;updated&quot;: 1696946847782, &quot;url&quot;: &quot;https://earthquake.usgs.gov/earthquakes/eventpage/ci40580320&quot;}, &quot;type&quot;: &quot;Feature&quot;}, {&quot;bbox&quot;: [-102.036, 32.407, -102.036, 32.407], &quot;geometry&quot;: {&quot;coordinates&quot;: [-102.036, 32.407, 8.8282], &quot;type&quot;: &quot;Point&quot;}, &quot;id&quot;: &quot;224&quot;, &quot;properties&quot;: {&quot;alert&quot;: null, &quot;cdi&quot;: null, &quot;code&quot;: &quot;2023tviq&quot;, &quot;detail&quot;: &quot;https://earthquake.usgs.gov/earthquakes/feed/v1.0/detail/tx2023tviq.geojson&quot;, &quot;dmin&quot;: 0.1, &quot;felt&quot;: null, &quot;gap&quot;: 58.0, &quot;id&quot;: &quot;tx2023tviq&quot;, &quot;ids&quot;: &quot;,us6000lees,tx2023tviq,&quot;, &quot;mag&quot;: 2.7, &quot;magType&quot;: &quot;ml(texnet)&quot;, &quot;mmi&quot;: null, &quot;net&quot;: &quot;tx&quot;, &quot;nst&quot;: 27.0, &quot;place&quot;: &quot;32 km WSW of Ackerly, Texas&quot;, &quot;rms&quot;: 0.1, &quot;sig&quot;: 112, &quot;sources&quot;: &quot;,us,tx,&quot;, &quot;status&quot;: &quot;reviewed&quot;, &quot;time&quot;: 1696901043879, &quot;title&quot;: &quot;M 2.7 - 32 km WSW of Ackerly, Texas&quot;, &quot;tsunami&quot;: 0, &quot;type&quot;: &quot;earthquake&quot;, &quot;types&quot;: &quot;,origin,phase-data,&quot;, &quot;tz&quot;: null, &quot;updated&quot;: 1696999237040, &quot;url&quot;: &quot;https://earthquake.usgs.gov/earthquakes/eventpage/tx2023tviq&quot;}, &quot;type&quot;: &quot;Feature&quot;}, {&quot;bbox&quot;: [178.149, 51.7916, 178.149, 51.7916], &quot;geometry&quot;: {&quot;coordinates&quot;: [178.149, 51.7916, 139.872], &quot;type&quot;: &quot;Point&quot;}, &quot;id&quot;: &quot;225&quot;, &quot;properties&quot;: {&quot;alert&quot;: null, &quot;cdi&quot;: null, &quot;code&quot;: &quot;6000lefi&quot;, &quot;detail&quot;: &quot;https://earthquake.usgs.gov/earthquakes/feed/v1.0/detail/us6000lefi.geojson&quot;, &quot;dmin&quot;: 0.274, &quot;felt&quot;: null, &quot;gap&quot;: 172.0, &quot;id&quot;: &quot;us6000lefi&quot;, &quot;ids&quot;: &quot;,ak023d01quw7,us6000lefi,&quot;, &quot;mag&quot;: 3.1, &quot;magType&quot;: &quot;ml&quot;, &quot;mmi&quot;: null, &quot;net&quot;: &quot;us&quot;, &quot;nst&quot;: 21.0, &quot;place&quot;: &quot;Rat Islands, Aleutian Islands, Alaska&quot;, &quot;rms&quot;: 0.38, &quot;sig&quot;: 148, &quot;sources&quot;: &quot;,ak,us,&quot;, &quot;status&quot;: &quot;reviewed&quot;, &quot;time&quot;: 1696900223842, &quot;title&quot;: &quot;M 3.1 - Rat Islands, Aleutian Islands, Alaska&quot;, &quot;tsunami&quot;: 0, &quot;type&quot;: &quot;earthquake&quot;, &quot;types&quot;: &quot;,origin,phase-data,&quot;, &quot;tz&quot;: null, &quot;updated&quot;: 1696998911040, &quot;url&quot;: &quot;https://earthquake.usgs.gov/earthquakes/eventpage/us6000lefi&quot;}, &quot;type&quot;: &quot;Feature&quot;}, {&quot;bbox&quot;: [-87.6259, 13.1487, -87.6259, 13.1487], &quot;geometry&quot;: {&quot;coordinates&quot;: [-87.6259, 13.1487, 191.755], &quot;type&quot;: &quot;Point&quot;}, &quot;id&quot;: &quot;226&quot;, &quot;properties&quot;: {&quot;alert&quot;: null, &quot;cdi&quot;: null, &quot;code&quot;: &quot;6000leeq&quot;, &quot;detail&quot;: &quot;https://earthquake.usgs.gov/earthquakes/feed/v1.0/detail/us6000leeq.geojson&quot;, &quot;dmin&quot;: 0.742, &quot;felt&quot;: null, &quot;gap&quot;: 126.0, &quot;id&quot;: &quot;us6000leeq&quot;, &quot;ids&quot;: &quot;,us6000leeq,&quot;, &quot;mag&quot;: 4.4, &quot;magType&quot;: &quot;mb&quot;, &quot;mmi&quot;: null, &quot;net&quot;: &quot;us&quot;, &quot;nst&quot;: 65.0, &quot;place&quot;: &quot;16 km S of Amapala, Honduras&quot;, &quot;rms&quot;: 0.78, &quot;sig&quot;: 298, &quot;sources&quot;: &quot;,us,&quot;, &quot;status&quot;: &quot;reviewed&quot;, &quot;time&quot;: 1696899943524, &quot;title&quot;: &quot;M 4.4 - 16 km S of Amapala, Honduras&quot;, &quot;tsunami&quot;: 0, &quot;type&quot;: &quot;earthquake&quot;, &quot;types&quot;: &quot;,origin,phase-data,&quot;, &quot;tz&quot;: null, &quot;updated&quot;: 1696997078040, &quot;url&quot;: &quot;https://earthquake.usgs.gov/earthquakes/eventpage/us6000leeq&quot;}, &quot;type&quot;: &quot;Feature&quot;}, {&quot;bbox&quot;: [-63.6564, -23.6067, -63.6564, -23.6067], &quot;geometry&quot;: {&quot;coordinates&quot;: [-63.6564, -23.6067, 538.053], &quot;type&quot;: &quot;Point&quot;}, &quot;id&quot;: &quot;227&quot;, &quot;properties&quot;: {&quot;alert&quot;: &quot;green&quot;, &quot;cdi&quot;: 4.5, &quot;code&quot;: &quot;6000leee&quot;, &quot;detail&quot;: &quot;https://earthquake.usgs.gov/earthquakes/feed/v1.0/detail/us6000leee.geojson&quot;, &quot;dmin&quot;: 4.209, &quot;felt&quot;: 1.0, &quot;gap&quot;: 25.0, &quot;id&quot;: &quot;us6000leee&quot;, &quot;ids&quot;: &quot;,us6000leee,&quot;, &quot;mag&quot;: 5.6, &quot;magType&quot;: &quot;mww&quot;, &quot;mmi&quot;: 1.254, &quot;net&quot;: &quot;us&quot;, &quot;nst&quot;: 95.0, &quot;place&quot;: &quot;63 km SE of Embarcaci\\u00f3n, Argentina&quot;, &quot;rms&quot;: 0.8, &quot;sig&quot;: 483, &quot;sources&quot;: &quot;,us,&quot;, &quot;status&quot;: &quot;reviewed&quot;, &quot;time&quot;: 1696896795347, &quot;title&quot;: &quot;M 5.6 - 63 km SE of Embarcaci\\u00f3n, Argentina&quot;, &quot;tsunami&quot;: 0, &quot;type&quot;: &quot;earthquake&quot;, &quot;types&quot;: &quot;,dyfi,losspager,moment-tensor,origin,phase-data,shakemap,&quot;, &quot;tz&quot;: null, &quot;updated&quot;: 1697033010040, &quot;url&quot;: &quot;https://earthquake.usgs.gov/earthquakes/eventpage/us6000leee&quot;}, &quot;type&quot;: &quot;Feature&quot;}, {&quot;bbox&quot;: [-115.6335, 31.4893333, -115.6335, 31.4893333], &quot;geometry&quot;: {&quot;coordinates&quot;: [-115.6335, 31.4893333, 10.58], &quot;type&quot;: &quot;Point&quot;}, &quot;id&quot;: &quot;228&quot;, &quot;properties&quot;: {&quot;alert&quot;: null, &quot;cdi&quot;: null, &quot;code&quot;: &quot;40580288&quot;, &quot;detail&quot;: &quot;https://earthquake.usgs.gov/earthquakes/feed/v1.0/detail/ci40580288.geojson&quot;, &quot;dmin&quot;: 0.1615, &quot;felt&quot;: null, &quot;gap&quot;: 102.0, &quot;id&quot;: &quot;ci40580288&quot;, &quot;ids&quot;: &quot;,ci40580288,&quot;, &quot;mag&quot;: 2.49, &quot;magType&quot;: &quot;ml&quot;, &quot;mmi&quot;: null, &quot;net&quot;: &quot;ci&quot;, &quot;nst&quot;: 10.0, &quot;place&quot;: &quot;92 km ESE of Maneadero, B.C., MX&quot;, &quot;rms&quot;: 0.16, &quot;sig&quot;: 95, &quot;sources&quot;: &quot;,ci,&quot;, &quot;status&quot;: &quot;reviewed&quot;, &quot;time&quot;: 1696894667910, &quot;title&quot;: &quot;M 2.5 - 92 km ESE of Maneadero, B.C., MX&quot;, &quot;tsunami&quot;: 0, &quot;type&quot;: &quot;earthquake&quot;, &quot;types&quot;: &quot;,nearby-cities,origin,phase-data,scitech-link,&quot;, &quot;tz&quot;: null, &quot;updated&quot;: 1696897789830, &quot;url&quot;: &quot;https://earthquake.usgs.gov/earthquakes/eventpage/ci40580288&quot;}, &quot;type&quot;: &quot;Feature&quot;}, {&quot;bbox&quot;: [159.3114, 52.7517, 159.3114, 52.7517], &quot;geometry&quot;: {&quot;coordinates&quot;: [159.3114, 52.7517, 71.476], &quot;type&quot;: &quot;Point&quot;}, &quot;id&quot;: &quot;229&quot;, &quot;properties&quot;: {&quot;alert&quot;: null, &quot;cdi&quot;: null, &quot;code&quot;: &quot;6000lee4&quot;, &quot;detail&quot;: &quot;https://earthquake.usgs.gov/earthquakes/feed/v1.0/detail/us6000lee4.geojson&quot;, &quot;dmin&quot;: 0.484, &quot;felt&quot;: null, &quot;gap&quot;: 112.0, &quot;id&quot;: &quot;us6000lee4&quot;, &quot;ids&quot;: &quot;,us6000lee4,&quot;, &quot;mag&quot;: 4.3, &quot;magType&quot;: &quot;mb&quot;, &quot;mmi&quot;: null, &quot;net&quot;: &quot;us&quot;, &quot;nst&quot;: 32.0, &quot;place&quot;: &quot;off the east coast of the Kamchatka Peninsula, Russia&quot;, &quot;rms&quot;: 0.75, &quot;sig&quot;: 284, &quot;sources&quot;: &quot;,us,&quot;, &quot;status&quot;: &quot;reviewed&quot;, &quot;time&quot;: 1696890730908, &quot;title&quot;: &quot;M 4.3 - off the east coast of the Kamchatka Peninsula, Russia&quot;, &quot;tsunami&quot;: 0, &quot;type&quot;: &quot;earthquake&quot;, &quot;types&quot;: &quot;,origin,phase-data,&quot;, &quot;tz&quot;: null, &quot;updated&quot;: 1696892539040, &quot;url&quot;: &quot;https://earthquake.usgs.gov/earthquakes/eventpage/us6000lee4&quot;}, &quot;type&quot;: &quot;Feature&quot;}, {&quot;bbox&quot;: [-88.2309, 12.6316, -88.2309, 12.6316], &quot;geometry&quot;: {&quot;coordinates&quot;: [-88.2309, 12.6316, 62.107], &quot;type&quot;: &quot;Point&quot;}, &quot;id&quot;: &quot;230&quot;, &quot;properties&quot;: {&quot;alert&quot;: null, &quot;cdi&quot;: null, &quot;code&quot;: &quot;6000lee1&quot;, &quot;detail&quot;: &quot;https://earthquake.usgs.gov/earthquakes/feed/v1.0/detail/us6000lee1.geojson&quot;, &quot;dmin&quot;: 0.837, &quot;felt&quot;: null, &quot;gap&quot;: 146.0, &quot;id&quot;: &quot;us6000lee1&quot;, &quot;ids&quot;: &quot;,us6000lee1,&quot;, &quot;mag&quot;: 4.4, &quot;magType&quot;: &quot;mb&quot;, &quot;mmi&quot;: null, &quot;net&quot;: &quot;us&quot;, &quot;nst&quot;: 41.0, &quot;place&quot;: &quot;offshore El Salvador&quot;, &quot;rms&quot;: 0.98, &quot;sig&quot;: 298, &quot;sources&quot;: &quot;,us,&quot;, &quot;status&quot;: &quot;reviewed&quot;, &quot;time&quot;: 1696890320740, &quot;title&quot;: &quot;M 4.4 - offshore El Salvador&quot;, &quot;tsunami&quot;: 0, &quot;type&quot;: &quot;earthquake&quot;, &quot;types&quot;: &quot;,origin,phase-data,&quot;, &quot;tz&quot;: null, &quot;updated&quot;: 1696891488040, &quot;url&quot;: &quot;https://earthquake.usgs.gov/earthquakes/eventpage/us6000lee1&quot;}, &quot;type&quot;: &quot;Feature&quot;}, {&quot;bbox&quot;: [-85.3469, 1.6193, -85.3469, 1.6193], &quot;geometry&quot;: {&quot;coordinates&quot;: [-85.3469, 1.6193, 10.0], &quot;type&quot;: &quot;Point&quot;}, &quot;id&quot;: &quot;231&quot;, &quot;properties&quot;: {&quot;alert&quot;: null, &quot;cdi&quot;: null, &quot;code&quot;: &quot;6000ledr&quot;, &quot;detail&quot;: &quot;https://earthquake.usgs.gov/earthquakes/feed/v1.0/detail/us6000ledr.geojson&quot;, &quot;dmin&quot;: 5.843, &quot;felt&quot;: null, &quot;gap&quot;: 149.0, &quot;id&quot;: &quot;us6000ledr&quot;, &quot;ids&quot;: &quot;,us6000ledr,&quot;, &quot;mag&quot;: 4.6, &quot;magType&quot;: &quot;mb&quot;, &quot;mmi&quot;: null, &quot;net&quot;: &quot;us&quot;, &quot;nst&quot;: 41.0, &quot;place&quot;: &quot;off the coast of Ecuador&quot;, &quot;rms&quot;: 0.64, &quot;sig&quot;: 326, &quot;sources&quot;: &quot;,us,&quot;, &quot;status&quot;: &quot;reviewed&quot;, &quot;time&quot;: 1696884065878, &quot;title&quot;: &quot;M 4.6 - off the coast of Ecuador&quot;, &quot;tsunami&quot;: 0, &quot;type&quot;: &quot;earthquake&quot;, &quot;types&quot;: &quot;,origin,phase-data,&quot;, &quot;tz&quot;: null, &quot;updated&quot;: 1696951347040, &quot;url&quot;: &quot;https://earthquake.usgs.gov/earthquakes/eventpage/us6000ledr&quot;}, &quot;type&quot;: &quot;Feature&quot;}, {&quot;bbox&quot;: [162.768, 56.3012, 162.768, 56.3012], &quot;geometry&quot;: {&quot;coordinates&quot;: [162.768, 56.3012, 10.0], &quot;type&quot;: &quot;Point&quot;}, &quot;id&quot;: &quot;232&quot;, &quot;properties&quot;: {&quot;alert&quot;: null, &quot;cdi&quot;: null, &quot;code&quot;: &quot;6000led5&quot;, &quot;detail&quot;: &quot;https://earthquake.usgs.gov/earthquakes/feed/v1.0/detail/us6000led5.geojson&quot;, &quot;dmin&quot;: 4.063, &quot;felt&quot;: null, &quot;gap&quot;: 104.0, &quot;id&quot;: &quot;us6000led5&quot;, &quot;ids&quot;: &quot;,us6000led5,&quot;, &quot;mag&quot;: 4.3, &quot;magType&quot;: &quot;mb&quot;, &quot;mmi&quot;: null, &quot;net&quot;: &quot;us&quot;, &quot;nst&quot;: 70.0, &quot;place&quot;: &quot;near the east coast of the Kamchatka Peninsula, Russia&quot;, &quot;rms&quot;: 0.67, &quot;sig&quot;: 284, &quot;sources&quot;: &quot;,us,&quot;, &quot;status&quot;: &quot;reviewed&quot;, &quot;time&quot;: 1696880886471, &quot;title&quot;: &quot;M 4.3 - near the east coast of the Kamchatka Peninsula, Russia&quot;, &quot;tsunami&quot;: 0, &quot;type&quot;: &quot;earthquake&quot;, &quot;types&quot;: &quot;,origin,phase-data,&quot;, &quot;tz&quot;: null, &quot;updated&quot;: 1696952121040, &quot;url&quot;: &quot;https://earthquake.usgs.gov/earthquakes/eventpage/us6000led5&quot;}, &quot;type&quot;: &quot;Feature&quot;}, {&quot;bbox&quot;: [153.0602, -4.3679, 153.0602, -4.3679], &quot;geometry&quot;: {&quot;coordinates&quot;: [153.0602, -4.3679, 12.024], &quot;type&quot;: &quot;Point&quot;}, &quot;id&quot;: &quot;233&quot;, &quot;properties&quot;: {&quot;alert&quot;: null, &quot;cdi&quot;: null, &quot;code&quot;: &quot;6000lf5a&quot;, &quot;detail&quot;: &quot;https://earthquake.usgs.gov/earthquakes/feed/v1.0/detail/us6000lf5a.geojson&quot;, &quot;dmin&quot;: 0.911, &quot;felt&quot;: null, &quot;gap&quot;: 154.0, &quot;id&quot;: &quot;us6000lf5a&quot;, &quot;ids&quot;: &quot;,us6000lf5a,&quot;, &quot;mag&quot;: 4.3, &quot;magType&quot;: &quot;mb&quot;, &quot;mmi&quot;: null, &quot;net&quot;: &quot;us&quot;, &quot;nst&quot;: 29.0, &quot;place&quot;: &quot;87 km E of Kokopo, Papua New Guinea&quot;, &quot;rms&quot;: 0.8, &quot;sig&quot;: 284, &quot;sources&quot;: &quot;,us,&quot;, &quot;status&quot;: &quot;reviewed&quot;, &quot;time&quot;: 1696876999048, &quot;title&quot;: &quot;M 4.3 - 87 km E of Kokopo, Papua New Guinea&quot;, &quot;tsunami&quot;: 0, &quot;type&quot;: &quot;earthquake&quot;, &quot;types&quot;: &quot;,origin,phase-data,&quot;, &quot;tz&quot;: null, &quot;updated&quot;: 1697211209040, &quot;url&quot;: &quot;https://earthquake.usgs.gov/earthquakes/eventpage/us6000lf5a&quot;}, &quot;type&quot;: &quot;Feature&quot;}, {&quot;bbox&quot;: [-100.94, 32.832, -100.94, 32.832], &quot;geometry&quot;: {&quot;coordinates&quot;: [-100.94, 32.832, 6.1381], &quot;type&quot;: &quot;Point&quot;}, &quot;id&quot;: &quot;234&quot;, &quot;properties&quot;: {&quot;alert&quot;: null, &quot;cdi&quot;: 2.6, &quot;code&quot;: &quot;2023tuve&quot;, &quot;detail&quot;: &quot;https://earthquake.usgs.gov/earthquakes/feed/v1.0/detail/tx2023tuve.geojson&quot;, &quot;dmin&quot;: 0.0, &quot;felt&quot;: 4.0, &quot;gap&quot;: 63.0, &quot;id&quot;: &quot;tx2023tuve&quot;, &quot;ids&quot;: &quot;,tx2023tuve,us6000lec8,&quot;, &quot;mag&quot;: 2.9, &quot;magType&quot;: &quot;ml(texnet)&quot;, &quot;mmi&quot;: null, &quot;net&quot;: &quot;tx&quot;, &quot;nst&quot;: 19.0, &quot;place&quot;: &quot;12 km N of Snyder, Texas&quot;, &quot;rms&quot;: 0.2, &quot;sig&quot;: 130, &quot;sources&quot;: &quot;,tx,us,&quot;, &quot;status&quot;: &quot;reviewed&quot;, &quot;time&quot;: 1696876511639, &quot;title&quot;: &quot;M 2.9 - 12 km N of Snyder, Texas&quot;, &quot;tsunami&quot;: 0, &quot;type&quot;: &quot;earthquake&quot;, &quot;types&quot;: &quot;,dyfi,origin,phase-data,&quot;, &quot;tz&quot;: null, &quot;updated&quot;: 1697139999590, &quot;url&quot;: &quot;https://earthquake.usgs.gov/earthquakes/eventpage/tx2023tuve&quot;}, &quot;type&quot;: &quot;Feature&quot;}, {&quot;bbox&quot;: [21.7825, 49.0862, 21.7825, 49.0862], &quot;geometry&quot;: {&quot;coordinates&quot;: [21.7825, 49.0862, 8.273], &quot;type&quot;: &quot;Point&quot;}, &quot;id&quot;: &quot;235&quot;, &quot;properties&quot;: {&quot;alert&quot;: null, &quot;cdi&quot;: 7.9, &quot;code&quot;: &quot;6000lec2&quot;, &quot;detail&quot;: &quot;https://earthquake.usgs.gov/earthquakes/feed/v1.0/detail/us6000lec2.geojson&quot;, &quot;dmin&quot;: 1.715, &quot;felt&quot;: 342.0, &quot;gap&quot;: 16.0, &quot;id&quot;: &quot;us6000lec2&quot;, &quot;ids&quot;: &quot;,us6000lec2,&quot;, &quot;mag&quot;: 5.0, &quot;magType&quot;: &quot;mww&quot;, &quot;mmi&quot;: null, &quot;net&quot;: &quot;us&quot;, &quot;nst&quot;: 162.0, &quot;place&quot;: &quot;16 km SE of Stropkov, Slovakia&quot;, &quot;rms&quot;: 0.69, &quot;sig&quot;: 655, &quot;sources&quot;: &quot;,us,&quot;, &quot;status&quot;: &quot;reviewed&quot;, &quot;time&quot;: 1696875789360, &quot;title&quot;: &quot;M 5.0 - 16 km SE of Stropkov, Slovakia&quot;, &quot;tsunami&quot;: 0, &quot;type&quot;: &quot;earthquake&quot;, &quot;types&quot;: &quot;,dyfi,moment-tensor,origin,phase-data,&quot;, &quot;tz&quot;: null, &quot;updated&quot;: 1697367754629, &quot;url&quot;: &quot;https://earthquake.usgs.gov/earthquakes/eventpage/us6000lec2&quot;}, &quot;type&quot;: &quot;Feature&quot;}, {&quot;bbox&quot;: [68.4348, -7.3719, 68.4348, -7.3719], &quot;geometry&quot;: {&quot;coordinates&quot;: [68.4348, -7.3719, 10.0], &quot;type&quot;: &quot;Point&quot;}, &quot;id&quot;: &quot;236&quot;, &quot;properties&quot;: {&quot;alert&quot;: null, &quot;cdi&quot;: null, &quot;code&quot;: &quot;6000lebv&quot;, &quot;detail&quot;: &quot;https://earthquake.usgs.gov/earthquakes/feed/v1.0/detail/us6000lebv.geojson&quot;, &quot;dmin&quot;: 3.985, &quot;felt&quot;: null, &quot;gap&quot;: 58.0, &quot;id&quot;: &quot;us6000lebv&quot;, &quot;ids&quot;: &quot;,us6000lebv,&quot;, &quot;mag&quot;: 4.6, &quot;magType&quot;: &quot;mb&quot;, &quot;mmi&quot;: null, &quot;net&quot;: &quot;us&quot;, &quot;nst&quot;: 58.0, &quot;place&quot;: &quot;Chagos Archipelago region&quot;, &quot;rms&quot;: 0.94, &quot;sig&quot;: 326, &quot;sources&quot;: &quot;,us,&quot;, &quot;status&quot;: &quot;reviewed&quot;, &quot;time&quot;: 1696872286561, &quot;title&quot;: &quot;M 4.6 - Chagos Archipelago region&quot;, &quot;tsunami&quot;: 0, &quot;type&quot;: &quot;earthquake&quot;, &quot;types&quot;: &quot;,origin,phase-data,&quot;, &quot;tz&quot;: null, &quot;updated&quot;: 1697213341040, &quot;url&quot;: &quot;https://earthquake.usgs.gov/earthquakes/eventpage/us6000lebv&quot;}, &quot;type&quot;: &quot;Feature&quot;}, {&quot;bbox&quot;: [127.06, 3.1702, 127.06, 3.1702], &quot;geometry&quot;: {&quot;coordinates&quot;: [127.06, 3.1702, 45.028], &quot;type&quot;: &quot;Point&quot;}, &quot;id&quot;: &quot;237&quot;, &quot;properties&quot;: {&quot;alert&quot;: null, &quot;cdi&quot;: null, &quot;code&quot;: &quot;6000lebh&quot;, &quot;detail&quot;: &quot;https://earthquake.usgs.gov/earthquakes/feed/v1.0/detail/us6000lebh.geojson&quot;, &quot;dmin&quot;: 2.402, &quot;felt&quot;: null, &quot;gap&quot;: 123.0, &quot;id&quot;: &quot;us6000lebh&quot;, &quot;ids&quot;: &quot;,us6000lebh,&quot;, &quot;mag&quot;: 4.4, &quot;magType&quot;: &quot;mb&quot;, &quot;mmi&quot;: null, &quot;net&quot;: &quot;us&quot;, &quot;nst&quot;: 30.0, &quot;place&quot;: &quot;191 km NNW of Tobelo, Indonesia&quot;, &quot;rms&quot;: 1.0, &quot;sig&quot;: 298, &quot;sources&quot;: &quot;,us,&quot;, &quot;status&quot;: &quot;reviewed&quot;, &quot;time&quot;: 1696870843190, &quot;title&quot;: &quot;M 4.4 - 191 km NNW of Tobelo, Indonesia&quot;, &quot;tsunami&quot;: 0, &quot;type&quot;: &quot;earthquake&quot;, &quot;types&quot;: &quot;,origin,phase-data,&quot;, &quot;tz&quot;: null, &quot;updated&quot;: 1697211920040, &quot;url&quot;: &quot;https://earthquake.usgs.gov/earthquakes/eventpage/us6000lebh&quot;}, &quot;type&quot;: &quot;Feature&quot;}, {&quot;bbox&quot;: [-118.2615, 34.0883333, -118.2615, 34.0883333], &quot;geometry&quot;: {&quot;coordinates&quot;: [-118.2615, 34.0883333, 11.47], &quot;type&quot;: &quot;Point&quot;}, &quot;id&quot;: &quot;238&quot;, &quot;properties&quot;: {&quot;alert&quot;: null, &quot;cdi&quot;: 3.8, &quot;code&quot;: &quot;40579712&quot;, &quot;detail&quot;: &quot;https://earthquake.usgs.gov/earthquakes/feed/v1.0/detail/ci40579712.geojson&quot;, &quot;dmin&quot;: 0.03872, &quot;felt&quot;: 246.0, &quot;gap&quot;: 31.0, &quot;id&quot;: &quot;ci40579712&quot;, &quot;ids&quot;: &quot;,ci40579712,us6000le9l,&quot;, &quot;mag&quot;: 2.59, &quot;magType&quot;: &quot;ml&quot;, &quot;mmi&quot;: null, &quot;net&quot;: &quot;ci&quot;, &quot;nst&quot;: 93.0, &quot;place&quot;: &quot;0 km SE of Silver Lake, CA&quot;, &quot;rms&quot;: 0.18, &quot;sig&quot;: 197, &quot;sources&quot;: &quot;,ci,us,&quot;, &quot;status&quot;: &quot;reviewed&quot;, &quot;time&quot;: 1696867035400, &quot;title&quot;: &quot;M 2.6 - 0 km SE of Silver Lake, CA&quot;, &quot;tsunami&quot;: 0, &quot;type&quot;: &quot;earthquake&quot;, &quot;types&quot;: &quot;,dyfi,focal-mechanism,nearby-cities,origin,phase-data,scitech-link,&quot;, &quot;tz&quot;: null, &quot;updated&quot;: 1697192536262, &quot;url&quot;: &quot;https://earthquake.usgs.gov/earthquakes/eventpage/ci40579712&quot;}, &quot;type&quot;: &quot;Feature&quot;}, {&quot;bbox&quot;: [-100.696, 32.682, -100.696, 32.682], &quot;geometry&quot;: {&quot;coordinates&quot;: [-100.696, 32.682, 6.774], &quot;type&quot;: &quot;Point&quot;}, &quot;id&quot;: &quot;239&quot;, &quot;properties&quot;: {&quot;alert&quot;: null, &quot;cdi&quot;: null, &quot;code&quot;: &quot;2023tuoo&quot;, &quot;detail&quot;: &quot;https://earthquake.usgs.gov/earthquakes/feed/v1.0/detail/tx2023tuoo.geojson&quot;, &quot;dmin&quot;: 0.0, &quot;felt&quot;: null, &quot;gap&quot;: 55.0, &quot;id&quot;: &quot;tx2023tuoo&quot;, &quot;ids&quot;: &quot;,us6000le9g,tx2023tuoo,&quot;, &quot;mag&quot;: 2.9, &quot;magType&quot;: &quot;ml(texnet)&quot;, &quot;mmi&quot;: null, &quot;net&quot;: &quot;tx&quot;, &quot;nst&quot;: 23.0, &quot;place&quot;: &quot;7 km NE of Hermleigh, Texas&quot;, &quot;rms&quot;: 0.2, &quot;sig&quot;: 129, &quot;sources&quot;: &quot;,us,tx,&quot;, &quot;status&quot;: &quot;reviewed&quot;, &quot;time&quot;: 1696864516374, &quot;title&quot;: &quot;M 2.9 - 7 km NE of Hermleigh, Texas&quot;, &quot;tsunami&quot;: 0, &quot;type&quot;: &quot;earthquake&quot;, &quot;types&quot;: &quot;,origin,phase-data,&quot;, &quot;tz&quot;: null, &quot;updated&quot;: 1697406568040, &quot;url&quot;: &quot;https://earthquake.usgs.gov/earthquakes/eventpage/tx2023tuoo&quot;}, &quot;type&quot;: &quot;Feature&quot;}, {&quot;bbox&quot;: [-79.1892, -0.9149, -79.1892, -0.9149], &quot;geometry&quot;: {&quot;coordinates&quot;: [-79.1892, -0.9149, 104.575], &quot;type&quot;: &quot;Point&quot;}, &quot;id&quot;: &quot;240&quot;, &quot;properties&quot;: {&quot;alert&quot;: null, &quot;cdi&quot;: null, &quot;code&quot;: &quot;6000le97&quot;, &quot;detail&quot;: &quot;https://earthquake.usgs.gov/earthquakes/feed/v1.0/detail/us6000le97.geojson&quot;, &quot;dmin&quot;: 0.658, &quot;felt&quot;: null, &quot;gap&quot;: 111.0, &quot;id&quot;: &quot;us6000le97&quot;, &quot;ids&quot;: &quot;,us6000le97,&quot;, &quot;mag&quot;: 4.1, &quot;magType&quot;: &quot;mb&quot;, &quot;mmi&quot;: null, &quot;net&quot;: &quot;us&quot;, &quot;nst&quot;: 25.0, &quot;place&quot;: &quot;4 km NE of La Man\\u00e1, Ecuador&quot;, &quot;rms&quot;: 0.73, &quot;sig&quot;: 259, &quot;sources&quot;: &quot;,us,&quot;, &quot;status&quot;: &quot;reviewed&quot;, &quot;time&quot;: 1696861745778, &quot;title&quot;: &quot;M 4.1 - 4 km NE of La Man\\u00e1, Ecuador&quot;, &quot;tsunami&quot;: 0, &quot;type&quot;: &quot;earthquake&quot;, &quot;types&quot;: &quot;,origin,phase-data,&quot;, &quot;tz&quot;: null, &quot;updated&quot;: 1697406482040, &quot;url&quot;: &quot;https://earthquake.usgs.gov/earthquakes/eventpage/us6000le97&quot;}, &quot;type&quot;: &quot;Feature&quot;}, {&quot;bbox&quot;: [146.7332, -5.3656, 146.7332, -5.3656], &quot;geometry&quot;: {&quot;coordinates&quot;: [146.7332, -5.3656, 236.279], &quot;type&quot;: &quot;Point&quot;}, &quot;id&quot;: &quot;241&quot;, &quot;properties&quot;: {&quot;alert&quot;: null, &quot;cdi&quot;: null, &quot;code&quot;: &quot;6000lf55&quot;, &quot;detail&quot;: &quot;https://earthquake.usgs.gov/earthquakes/feed/v1.0/detail/us6000lf55.geojson&quot;, &quot;dmin&quot;: 4.035, &quot;felt&quot;: null, &quot;gap&quot;: 66.0, &quot;id&quot;: &quot;us6000lf55&quot;, &quot;ids&quot;: &quot;,us6000lf55,&quot;, &quot;mag&quot;: 4.1, &quot;magType&quot;: &quot;mb&quot;, &quot;mmi&quot;: null, &quot;net&quot;: &quot;us&quot;, &quot;nst&quot;: 24.0, &quot;place&quot;: &quot;106 km E of Madang, Papua New Guinea&quot;, &quot;rms&quot;: 0.26, &quot;sig&quot;: 259, &quot;sources&quot;: &quot;,us,&quot;, &quot;status&quot;: &quot;reviewed&quot;, &quot;time&quot;: 1696861359534, &quot;title&quot;: &quot;M 4.1 - 106 km E of Madang, Papua New Guinea&quot;, &quot;tsunami&quot;: 0, &quot;type&quot;: &quot;earthquake&quot;, &quot;types&quot;: &quot;,origin,phase-data,&quot;, &quot;tz&quot;: null, &quot;updated&quot;: 1697406427040, &quot;url&quot;: &quot;https://earthquake.usgs.gov/earthquakes/eventpage/us6000lf55&quot;}, &quot;type&quot;: &quot;Feature&quot;}, {&quot;bbox&quot;: [-97.62, 28.966, -97.62, 28.966], &quot;geometry&quot;: {&quot;coordinates&quot;: [-97.62, 28.966, 3.9861], &quot;type&quot;: &quot;Point&quot;}, &quot;id&quot;: &quot;242&quot;, &quot;properties&quot;: {&quot;alert&quot;: &quot;green&quot;, &quot;cdi&quot;: 3.6, &quot;code&quot;: &quot;2023tumb&quot;, &quot;detail&quot;: &quot;https://earthquake.usgs.gov/earthquakes/feed/v1.0/detail/tx2023tumb.geojson&quot;, &quot;dmin&quot;: 0.1, &quot;felt&quot;: 24.0, &quot;gap&quot;: 92.0, &quot;id&quot;: &quot;tx2023tumb&quot;, &quot;ids&quot;: &quot;,us6000le8z,tx2023tumb,&quot;, &quot;mag&quot;: 4.0, &quot;magType&quot;: &quot;ml(texnet)&quot;, &quot;mmi&quot;: 4.58, &quot;net&quot;: &quot;tx&quot;, &quot;nst&quot;: 30.0, &quot;place&quot;: &quot;5 km NNW of Nordheim, Texas&quot;, &quot;rms&quot;: 0.3, &quot;sig&quot;: 255, &quot;sources&quot;: &quot;,us,tx,&quot;, &quot;status&quot;: &quot;reviewed&quot;, &quot;time&quot;: 1696859964800, &quot;title&quot;: &quot;M 4.0 - 5 km NNW of Nordheim, Texas&quot;, &quot;tsunami&quot;: 0, &quot;type&quot;: &quot;earthquake&quot;, &quot;types&quot;: &quot;,dyfi,losspager,moment-tensor,origin,phase-data,shakemap,&quot;, &quot;tz&quot;: null, &quot;updated&quot;: 1697406225770, &quot;url&quot;: &quot;https://earthquake.usgs.gov/earthquakes/eventpage/tx2023tumb&quot;}, &quot;type&quot;: &quot;Feature&quot;}, {&quot;bbox&quot;: [-122.7255, 38.7628333, -122.7255, 38.7628333], &quot;geometry&quot;: {&quot;coordinates&quot;: [-122.7255, 38.7628333, 2.15], &quot;type&quot;: &quot;Point&quot;}, &quot;id&quot;: &quot;243&quot;, &quot;properties&quot;: {&quot;alert&quot;: null, &quot;cdi&quot;: 3.4, &quot;code&quot;: &quot;73948151&quot;, &quot;detail&quot;: &quot;https://earthquake.usgs.gov/earthquakes/feed/v1.0/detail/nc73948151.geojson&quot;, &quot;dmin&quot;: 0.001335, &quot;felt&quot;: 3.0, &quot;gap&quot;: 26.0, &quot;id&quot;: &quot;nc73948151&quot;, &quot;ids&quot;: &quot;,nc73948151,us6000le8v,&quot;, &quot;mag&quot;: 2.8, &quot;magType&quot;: &quot;md&quot;, &quot;mmi&quot;: null, &quot;net&quot;: &quot;nc&quot;, &quot;nst&quot;: 97.0, &quot;place&quot;: &quot;3 km ESE of The Geysers, CA&quot;, &quot;rms&quot;: 0.07, &quot;sig&quot;: 122, &quot;sources&quot;: &quot;,nc,us,&quot;, &quot;status&quot;: &quot;reviewed&quot;, &quot;time&quot;: 1696859328340, &quot;title&quot;: &quot;M 2.8 - 3 km ESE of The Geysers, CA&quot;, &quot;tsunami&quot;: 0, &quot;type&quot;: &quot;earthquake&quot;, &quot;types&quot;: &quot;,dyfi,focal-mechanism,nearby-cities,origin,phase-data,scitech-link,&quot;, &quot;tz&quot;: null, &quot;updated&quot;: 1697127210040, &quot;url&quot;: &quot;https://earthquake.usgs.gov/earthquakes/eventpage/nc73948151&quot;}, &quot;type&quot;: &quot;Feature&quot;}, {&quot;bbox&quot;: [-178.467, -17.9627, -178.467, -17.9627], &quot;geometry&quot;: {&quot;coordinates&quot;: [-178.467, -17.9627, 573.593], &quot;type&quot;: &quot;Point&quot;}, &quot;id&quot;: &quot;244&quot;, &quot;properties&quot;: {&quot;alert&quot;: null, &quot;cdi&quot;: null, &quot;code&quot;: &quot;6000lf53&quot;, &quot;detail&quot;: &quot;https://earthquake.usgs.gov/earthquakes/feed/v1.0/detail/us6000lf53.geojson&quot;, &quot;dmin&quot;: 7.588, &quot;felt&quot;: null, &quot;gap&quot;: 124.0, &quot;id&quot;: &quot;us6000lf53&quot;, &quot;ids&quot;: &quot;,us6000lf53,&quot;, &quot;mag&quot;: 4.4, &quot;magType&quot;: &quot;mb&quot;, &quot;mmi&quot;: null, &quot;net&quot;: &quot;us&quot;, &quot;nst&quot;: 37.0, &quot;place&quot;: &quot;Fiji region&quot;, &quot;rms&quot;: 0.65, &quot;sig&quot;: 298, &quot;sources&quot;: &quot;,us,&quot;, &quot;status&quot;: &quot;reviewed&quot;, &quot;time&quot;: 1696858696296, &quot;title&quot;: &quot;M 4.4 - Fiji region&quot;, &quot;tsunami&quot;: 0, &quot;type&quot;: &quot;earthquake&quot;, &quot;types&quot;: &quot;,origin,phase-data,&quot;, &quot;tz&quot;: null, &quot;updated&quot;: 1697403778040, &quot;url&quot;: &quot;https://earthquake.usgs.gov/earthquakes/eventpage/us6000lf53&quot;}, &quot;type&quot;: &quot;Feature&quot;}, {&quot;bbox&quot;: [126.7125, 0.1224, 126.7125, 0.1224], &quot;geometry&quot;: {&quot;coordinates&quot;: [126.7125, 0.1224, 62.057], &quot;type&quot;: &quot;Point&quot;}, &quot;id&quot;: &quot;245&quot;, &quot;properties&quot;: {&quot;alert&quot;: null, &quot;cdi&quot;: null, &quot;code&quot;: &quot;6000lf54&quot;, &quot;detail&quot;: &quot;https://earthquake.usgs.gov/earthquakes/feed/v1.0/detail/us6000lf54.geojson&quot;, &quot;dmin&quot;: 0.919, &quot;felt&quot;: null, &quot;gap&quot;: 64.0, &quot;id&quot;: &quot;us6000lf54&quot;, &quot;ids&quot;: &quot;,us6000lf54,&quot;, &quot;mag&quot;: 4.0, &quot;magType&quot;: &quot;mb&quot;, &quot;mmi&quot;: null, &quot;net&quot;: &quot;us&quot;, &quot;nst&quot;: 17.0, &quot;place&quot;: &quot;105 km SW of Ternate, Indonesia&quot;, &quot;rms&quot;: 0.72, &quot;sig&quot;: 246, &quot;sources&quot;: &quot;,us,&quot;, &quot;status&quot;: &quot;reviewed&quot;, &quot;time&quot;: 1696858689986, &quot;title&quot;: &quot;M 4.0 - 105 km SW of Ternate, Indonesia&quot;, &quot;tsunami&quot;: 0, &quot;type&quot;: &quot;earthquake&quot;, &quot;types&quot;: &quot;,origin,phase-data,&quot;, &quot;tz&quot;: null, &quot;updated&quot;: 1697390713040, &quot;url&quot;: &quot;https://earthquake.usgs.gov/earthquakes/eventpage/us6000lf54&quot;}, &quot;type&quot;: &quot;Feature&quot;}, {&quot;bbox&quot;: [62.0173, 34.6372, 62.0173, 34.6372], &quot;geometry&quot;: {&quot;coordinates&quot;: [62.0173, 34.6372, 10.0], &quot;type&quot;: &quot;Point&quot;}, &quot;id&quot;: &quot;246&quot;, &quot;properties&quot;: {&quot;alert&quot;: null, &quot;cdi&quot;: 4.9, &quot;code&quot;: &quot;6000le8s&quot;, &quot;detail&quot;: &quot;https://earthquake.usgs.gov/earthquakes/feed/v1.0/detail/us6000le8s.geojson&quot;, &quot;dmin&quot;: 4.552, &quot;felt&quot;: 3.0, &quot;gap&quot;: 59.0, &quot;id&quot;: &quot;us6000le8s&quot;, &quot;ids&quot;: &quot;,us6000le8s,&quot;, &quot;mag&quot;: 5.1, &quot;magType&quot;: &quot;mww&quot;, &quot;mmi&quot;: null, &quot;net&quot;: &quot;us&quot;, &quot;nst&quot;: 128.0, &quot;place&quot;: &quot;36 km NNW of Her\\u0101t, Afghanistan&quot;, &quot;rms&quot;: 0.82, &quot;sig&quot;: 402, &quot;sources&quot;: &quot;,us,&quot;, &quot;status&quot;: &quot;reviewed&quot;, &quot;time&quot;: 1696858246372, &quot;title&quot;: &quot;M 5.1 - 36 km NNW of Her\\u0101t, Afghanistan&quot;, &quot;tsunami&quot;: 0, &quot;type&quot;: &quot;earthquake&quot;, &quot;types&quot;: &quot;,dyfi,moment-tensor,origin,phase-data,&quot;, &quot;tz&quot;: null, &quot;updated&quot;: 1697389358619, &quot;url&quot;: &quot;https://earthquake.usgs.gov/earthquakes/eventpage/us6000le8s&quot;}, &quot;type&quot;: &quot;Feature&quot;}, {&quot;bbox&quot;: [-98.062, 28.926, -98.062, 28.926], &quot;geometry&quot;: {&quot;coordinates&quot;: [-98.062, 28.926, 6.7251], &quot;type&quot;: &quot;Point&quot;}, &quot;id&quot;: &quot;247&quot;, &quot;properties&quot;: {&quot;alert&quot;: null, &quot;cdi&quot;: 3.6, &quot;code&quot;: &quot;2023tuky&quot;, &quot;detail&quot;: &quot;https://earthquake.usgs.gov/earthquakes/feed/v1.0/detail/tx2023tuky.geojson&quot;, &quot;dmin&quot;: 0.1, &quot;felt&quot;: 7.0, &quot;gap&quot;: 73.0, &quot;id&quot;: &quot;tx2023tuky&quot;, &quot;ids&quot;: &quot;,us6000le8q,tx2023tuky,&quot;, &quot;mag&quot;: 3.5, &quot;magType&quot;: &quot;ml(texnet)&quot;, &quot;mmi&quot;: null, &quot;net&quot;: &quot;tx&quot;, &quot;nst&quot;: 22.0, &quot;place&quot;: &quot;7 km SW of Falls City, Texas&quot;, &quot;rms&quot;: 0.5, &quot;sig&quot;: 191, &quot;sources&quot;: &quot;,us,tx,&quot;, &quot;status&quot;: &quot;reviewed&quot;, &quot;time&quot;: 1696857955545, &quot;title&quot;: &quot;M 3.5 - 7 km SW of Falls City, Texas&quot;, &quot;tsunami&quot;: 0, &quot;type&quot;: &quot;earthquake&quot;, &quot;types&quot;: &quot;,dyfi,origin,phase-data,&quot;, &quot;tz&quot;: null, &quot;updated&quot;: 1697388707040, &quot;url&quot;: &quot;https://earthquake.usgs.gov/earthquakes/eventpage/tx2023tuky&quot;}, &quot;type&quot;: &quot;Feature&quot;}, {&quot;bbox&quot;: [-66.8695, -23.6798, -66.8695, -23.6798], &quot;geometry&quot;: {&quot;coordinates&quot;: [-66.8695, -23.6798, 216.207], &quot;type&quot;: &quot;Point&quot;}, &quot;id&quot;: &quot;248&quot;, &quot;properties&quot;: {&quot;alert&quot;: null, &quot;cdi&quot;: null, &quot;code&quot;: &quot;6000le8j&quot;, &quot;detail&quot;: &quot;https://earthquake.usgs.gov/earthquakes/feed/v1.0/detail/us6000le8j.geojson&quot;, &quot;dmin&quot;: 1.405, &quot;felt&quot;: null, &quot;gap&quot;: 134.0, &quot;id&quot;: &quot;us6000le8j&quot;, &quot;ids&quot;: &quot;,us6000le8j,&quot;, &quot;mag&quot;: 4.2, &quot;magType&quot;: &quot;mb&quot;, &quot;mmi&quot;: null, &quot;net&quot;: &quot;us&quot;, &quot;nst&quot;: 21.0, &quot;place&quot;: &quot;81 km NW of San Antonio de los Cobres, Argentina&quot;, &quot;rms&quot;: 0.28, &quot;sig&quot;: 271, &quot;sources&quot;: &quot;,us,&quot;, &quot;status&quot;: &quot;reviewed&quot;, &quot;time&quot;: 1696856634309, &quot;title&quot;: &quot;M 4.2 - 81 km NW of San Antonio de los Cobres, Argentina&quot;, &quot;tsunami&quot;: 0, &quot;type&quot;: &quot;earthquake&quot;, &quot;types&quot;: &quot;,origin,phase-data,&quot;, &quot;tz&quot;: null, &quot;updated&quot;: 1697387938040, &quot;url&quot;: &quot;https://earthquake.usgs.gov/earthquakes/eventpage/us6000le8j&quot;}, &quot;type&quot;: &quot;Feature&quot;}, {&quot;bbox&quot;: [178.9807, 51.4936, 178.9807, 51.4936], &quot;geometry&quot;: {&quot;coordinates&quot;: [178.9807, 51.4936, 32.248], &quot;type&quot;: &quot;Point&quot;}, &quot;id&quot;: &quot;249&quot;, &quot;properties&quot;: {&quot;alert&quot;: null, &quot;cdi&quot;: null, &quot;code&quot;: &quot;6000le90&quot;, &quot;detail&quot;: &quot;https://earthquake.usgs.gov/earthquakes/feed/v1.0/detail/us6000le90.geojson&quot;, &quot;dmin&quot;: 0.232, &quot;felt&quot;: null, &quot;gap&quot;: 174.0, &quot;id&quot;: &quot;us6000le90&quot;, &quot;ids&quot;: &quot;,ak023cykycl6,us6000le90,&quot;, &quot;mag&quot;: 3.8, &quot;magType&quot;: &quot;mb&quot;, &quot;mmi&quot;: 2.433, &quot;net&quot;: &quot;us&quot;, &quot;nst&quot;: 36.0, &quot;place&quot;: &quot;Rat Islands, Aleutian Islands, Alaska&quot;, &quot;rms&quot;: 0.99, &quot;sig&quot;: 222, &quot;sources&quot;: &quot;,ak,us,&quot;, &quot;status&quot;: &quot;reviewed&quot;, &quot;time&quot;: 1696855411192, &quot;title&quot;: &quot;M 3.8 - Rat Islands, Aleutian Islands, Alaska&quot;, &quot;tsunami&quot;: 0, &quot;type&quot;: &quot;earthquake&quot;, &quot;types&quot;: &quot;,origin,phase-data,shakemap,&quot;, &quot;tz&quot;: null, &quot;updated&quot;: 1696912915040, &quot;url&quot;: &quot;https://earthquake.usgs.gov/earthquakes/eventpage/us6000le90&quot;}, &quot;type&quot;: &quot;Feature&quot;}, {&quot;bbox&quot;: [127.0766, 3.2631, 127.0766, 3.2631], &quot;geometry&quot;: {&quot;coordinates&quot;: [127.0766, 3.2631, 39.14], &quot;type&quot;: &quot;Point&quot;}, &quot;id&quot;: &quot;250&quot;, &quot;properties&quot;: {&quot;alert&quot;: null, &quot;cdi&quot;: null, &quot;code&quot;: &quot;6000le8e&quot;, &quot;detail&quot;: &quot;https://earthquake.usgs.gov/earthquakes/feed/v1.0/detail/us6000le8e.geojson&quot;, &quot;dmin&quot;: 2.492, &quot;felt&quot;: null, &quot;gap&quot;: 81.0, &quot;id&quot;: &quot;us6000le8e&quot;, &quot;ids&quot;: &quot;,us6000le8e,&quot;, &quot;mag&quot;: 4.4, &quot;magType&quot;: &quot;mb&quot;, &quot;mmi&quot;: null, &quot;net&quot;: &quot;us&quot;, &quot;nst&quot;: 24.0, &quot;place&quot;: &quot;198 km NNW of Tobelo, Indonesia&quot;, &quot;rms&quot;: 0.78, &quot;sig&quot;: 298, &quot;sources&quot;: &quot;,us,&quot;, &quot;status&quot;: &quot;reviewed&quot;, &quot;time&quot;: 1696854955347, &quot;title&quot;: &quot;M 4.4 - 198 km NNW of Tobelo, Indonesia&quot;, &quot;tsunami&quot;: 0, &quot;type&quot;: &quot;earthquake&quot;, &quot;types&quot;: &quot;,origin,phase-data,&quot;, &quot;tz&quot;: null, &quot;updated&quot;: 1696855887040, &quot;url&quot;: &quot;https://earthquake.usgs.gov/earthquakes/eventpage/us6000le8e&quot;}, &quot;type&quot;: &quot;Feature&quot;}, {&quot;bbox&quot;: [127.0584, 3.2965, 127.0584, 3.2965], &quot;geometry&quot;: {&quot;coordinates&quot;: [127.0584, 3.2965, 34.086], &quot;type&quot;: &quot;Point&quot;}, &quot;id&quot;: &quot;251&quot;, &quot;properties&quot;: {&quot;alert&quot;: null, &quot;cdi&quot;: null, &quot;code&quot;: &quot;6000le8d&quot;, &quot;detail&quot;: &quot;https://earthquake.usgs.gov/earthquakes/feed/v1.0/detail/us6000le8d.geojson&quot;, &quot;dmin&quot;: 2.527, &quot;felt&quot;: null, &quot;gap&quot;: 75.0, &quot;id&quot;: &quot;us6000le8d&quot;, &quot;ids&quot;: &quot;,us6000le8d,&quot;, &quot;mag&quot;: 4.8, &quot;magType&quot;: &quot;mb&quot;, &quot;mmi&quot;: null, &quot;net&quot;: &quot;us&quot;, &quot;nst&quot;: 55.0, &quot;place&quot;: &quot;203 km NNW of Tobelo, Indonesia&quot;, &quot;rms&quot;: 0.78, &quot;sig&quot;: 354, &quot;sources&quot;: &quot;,us,&quot;, &quot;status&quot;: &quot;reviewed&quot;, &quot;time&quot;: 1696854278222, &quot;title&quot;: &quot;M 4.8 - 203 km NNW of Tobelo, Indonesia&quot;, &quot;tsunami&quot;: 0, &quot;type&quot;: &quot;earthquake&quot;, &quot;types&quot;: &quot;,origin,phase-data,&quot;, &quot;tz&quot;: null, &quot;updated&quot;: 1696855164040, &quot;url&quot;: &quot;https://earthquake.usgs.gov/earthquakes/eventpage/us6000le8d&quot;}, &quot;type&quot;: &quot;Feature&quot;}, {&quot;bbox&quot;: [-146.9095, 61.243, -146.9095, 61.243], &quot;geometry&quot;: {&quot;coordinates&quot;: [-146.9095, 61.243, 3.7], &quot;type&quot;: &quot;Point&quot;}, &quot;id&quot;: &quot;252&quot;, &quot;properties&quot;: {&quot;alert&quot;: null, &quot;cdi&quot;: 2.2, &quot;code&quot;: &quot;023cykq7o9&quot;, &quot;detail&quot;: &quot;https://earthquake.usgs.gov/earthquakes/feed/v1.0/detail/ak023cykq7o9.geojson&quot;, &quot;dmin&quot;: null, &quot;felt&quot;: 1.0, &quot;gap&quot;: null, &quot;id&quot;: &quot;ak023cykq7o9&quot;, &quot;ids&quot;: &quot;,ak023cykq7o9,us6000le8a,&quot;, &quot;mag&quot;: 2.5, &quot;magType&quot;: &quot;ml&quot;, &quot;mmi&quot;: null, &quot;net&quot;: &quot;ak&quot;, &quot;nst&quot;: null, &quot;place&quot;: &quot;32 km WNW of Valdez, Alaska&quot;, &quot;rms&quot;: 0.7, &quot;sig&quot;: 96, &quot;sources&quot;: &quot;,ak,us,&quot;, &quot;status&quot;: &quot;automatic&quot;, &quot;time&quot;: 1696853133408, &quot;title&quot;: &quot;M 2.5 - 32 km WNW of Valdez, Alaska&quot;, &quot;tsunami&quot;: 0, &quot;type&quot;: &quot;earthquake&quot;, &quot;types&quot;: &quot;,dyfi,origin,phase-data,&quot;, &quot;tz&quot;: null, &quot;updated&quot;: 1696858427492, &quot;url&quot;: &quot;https://earthquake.usgs.gov/earthquakes/eventpage/ak023cykq7o9&quot;}, &quot;type&quot;: &quot;Feature&quot;}, {&quot;bbox&quot;: [-115.6038333, 33.1176667, -115.6038333, 33.1176667], &quot;geometry&quot;: {&quot;coordinates&quot;: [-115.6038333, 33.1176667, 10.69], &quot;type&quot;: &quot;Point&quot;}, &quot;id&quot;: &quot;253&quot;, &quot;properties&quot;: {&quot;alert&quot;: null, &quot;cdi&quot;: 3.3, &quot;code&quot;: &quot;40579440&quot;, &quot;detail&quot;: &quot;https://earthquake.usgs.gov/earthquakes/feed/v1.0/detail/ci40579440.geojson&quot;, &quot;dmin&quot;: 0.06046, &quot;felt&quot;: 4.0, &quot;gap&quot;: 82.0, &quot;id&quot;: &quot;ci40579440&quot;, &quot;ids&quot;: &quot;,ci40579440,us6000le89,&quot;, &quot;mag&quot;: 2.58, &quot;magType&quot;: &quot;ml&quot;, &quot;mmi&quot;: null, &quot;net&quot;: &quot;ci&quot;, &quot;nst&quot;: 54.0, &quot;place&quot;: &quot;8 km W of Calipatria, CA&quot;, &quot;rms&quot;: 0.24, &quot;sig&quot;: 104, &quot;sources&quot;: &quot;,ci,us,&quot;, &quot;status&quot;: &quot;reviewed&quot;, &quot;time&quot;: 1696853084760, &quot;title&quot;: &quot;M 2.6 - 8 km W of Calipatria, CA&quot;, &quot;tsunami&quot;: 0, &quot;type&quot;: &quot;earthquake&quot;, &quot;types&quot;: &quot;,dyfi,focal-mechanism,nearby-cities,origin,phase-data,scitech-link,&quot;, &quot;tz&quot;: null, &quot;updated&quot;: 1696932630687, &quot;url&quot;: &quot;https://earthquake.usgs.gov/earthquakes/eventpage/ci40579440&quot;}, &quot;type&quot;: &quot;Feature&quot;}, {&quot;bbox&quot;: [178.4873, 51.8318, 178.4873, 51.8318], &quot;geometry&quot;: {&quot;coordinates&quot;: [178.4873, 51.8318, 99.62], &quot;type&quot;: &quot;Point&quot;}, &quot;id&quot;: &quot;254&quot;, &quot;properties&quot;: {&quot;alert&quot;: null, &quot;cdi&quot;: null, &quot;code&quot;: &quot;6000le8y&quot;, &quot;detail&quot;: &quot;https://earthquake.usgs.gov/earthquakes/feed/v1.0/detail/us6000le8y.geojson&quot;, &quot;dmin&quot;: 0.112, &quot;felt&quot;: null, &quot;gap&quot;: 235.0, &quot;id&quot;: &quot;us6000le8y&quot;, &quot;ids&quot;: &quot;,ak023cyjuox3,us6000le8y,&quot;, &quot;mag&quot;: 2.7, &quot;magType&quot;: &quot;ml&quot;, &quot;mmi&quot;: null, &quot;net&quot;: &quot;us&quot;, &quot;nst&quot;: 16.0, &quot;place&quot;: &quot;Rat Islands, Aleutian Islands, Alaska&quot;, &quot;rms&quot;: 0.36, &quot;sig&quot;: 112, &quot;sources&quot;: &quot;,ak,us,&quot;, &quot;status&quot;: &quot;reviewed&quot;, &quot;time&quot;: 1696849097288, &quot;title&quot;: &quot;M 2.7 - Rat Islands, Aleutian Islands, Alaska&quot;, &quot;tsunami&quot;: 0, &quot;type&quot;: &quot;earthquake&quot;, &quot;types&quot;: &quot;,origin,phase-data,&quot;, &quot;tz&quot;: null, &quot;updated&quot;: 1697092866040, &quot;url&quot;: &quot;https://earthquake.usgs.gov/earthquakes/eventpage/us6000le8y&quot;}, &quot;type&quot;: &quot;Feature&quot;}, {&quot;bbox&quot;: [-66.923, 17.8893333333333, -66.923, 17.8893333333333], &quot;geometry&quot;: {&quot;coordinates&quot;: [-66.923, 17.8893333333333, 14.63], &quot;type&quot;: &quot;Point&quot;}, &quot;id&quot;: &quot;255&quot;, &quot;properties&quot;: {&quot;alert&quot;: null, &quot;cdi&quot;: null, &quot;code&quot;: &quot;71428053&quot;, &quot;detail&quot;: &quot;https://earthquake.usgs.gov/earthquakes/feed/v1.0/detail/pr71428053.geojson&quot;, &quot;dmin&quot;: 0.08355, &quot;felt&quot;: null, &quot;gap&quot;: 241.0, &quot;id&quot;: &quot;pr71428053&quot;, &quot;ids&quot;: &quot;,pr71428053,&quot;, &quot;mag&quot;: 2.89, &quot;magType&quot;: &quot;md&quot;, &quot;mmi&quot;: null, &quot;net&quot;: &quot;pr&quot;, &quot;nst&quot;: 17.0, &quot;place&quot;: &quot;9 km S of Gu\\u00e1nica, Puerto Rico&quot;, &quot;rms&quot;: 0.09, &quot;sig&quot;: 128, &quot;sources&quot;: &quot;,pr,&quot;, &quot;status&quot;: &quot;reviewed&quot;, &quot;time&quot;: 1696846121290, &quot;title&quot;: &quot;M 2.9 - 9 km S of Gu\\u00e1nica, Puerto Rico&quot;, &quot;tsunami&quot;: 0, &quot;type&quot;: &quot;earthquake&quot;, &quot;types&quot;: &quot;,origin,phase-data,&quot;, &quot;tz&quot;: null, &quot;updated&quot;: 1696847077570, &quot;url&quot;: &quot;https://earthquake.usgs.gov/earthquakes/eventpage/pr71428053&quot;}, &quot;type&quot;: &quot;Feature&quot;}, {&quot;bbox&quot;: [62.0168, 34.7494, 62.0168, 34.7494], &quot;geometry&quot;: {&quot;coordinates&quot;: [62.0168, 34.7494, 10.0], &quot;type&quot;: &quot;Point&quot;}, &quot;id&quot;: &quot;256&quot;, &quot;properties&quot;: {&quot;alert&quot;: null, &quot;cdi&quot;: 3.8, &quot;code&quot;: &quot;6000le7q&quot;, &quot;detail&quot;: &quot;https://earthquake.usgs.gov/earthquakes/feed/v1.0/detail/us6000le7q.geojson&quot;, &quot;dmin&quot;: 5.796, &quot;felt&quot;: 3.0, &quot;gap&quot;: 150.0, &quot;id&quot;: &quot;us6000le7q&quot;, &quot;ids&quot;: &quot;,us6000le7q,&quot;, &quot;mag&quot;: 4.7, &quot;magType&quot;: &quot;mb&quot;, &quot;mmi&quot;: null, &quot;net&quot;: &quot;us&quot;, &quot;nst&quot;: 74.0, &quot;place&quot;: &quot;30 km SE of Qarah B\\u0101gh, Afghanistan&quot;, &quot;rms&quot;: 0.63, &quot;sig&quot;: 341, &quot;sources&quot;: &quot;,us,&quot;, &quot;status&quot;: &quot;reviewed&quot;, &quot;time&quot;: 1696844760777, &quot;title&quot;: &quot;M 4.7 - 30 km SE of Qarah B\\u0101gh, Afghanistan&quot;, &quot;tsunami&quot;: 0, &quot;type&quot;: &quot;earthquake&quot;, &quot;types&quot;: &quot;,dyfi,origin,phase-data,&quot;, &quot;tz&quot;: null, &quot;updated&quot;: 1696850029558, &quot;url&quot;: &quot;https://earthquake.usgs.gov/earthquakes/eventpage/us6000le7q&quot;}, &quot;type&quot;: &quot;Feature&quot;}, {&quot;bbox&quot;: [166.1303, -45.7315, 166.1303, -45.7315], &quot;geometry&quot;: {&quot;coordinates&quot;: [166.1303, -45.7315, 10.0], &quot;type&quot;: &quot;Point&quot;}, &quot;id&quot;: &quot;257&quot;, &quot;properties&quot;: {&quot;alert&quot;: null, &quot;cdi&quot;: null, &quot;code&quot;: &quot;6000le75&quot;, &quot;detail&quot;: &quot;https://earthquake.usgs.gov/earthquakes/feed/v1.0/detail/us6000le75.geojson&quot;, &quot;dmin&quot;: 0.766, &quot;felt&quot;: null, &quot;gap&quot;: 82.0, &quot;id&quot;: &quot;us6000le75&quot;, &quot;ids&quot;: &quot;,us6000le75,&quot;, &quot;mag&quot;: 4.2, &quot;magType&quot;: &quot;mb&quot;, &quot;mmi&quot;: null, &quot;net&quot;: &quot;us&quot;, &quot;nst&quot;: 31.0, &quot;place&quot;: &quot;128 km WSW of Te Anau, New Zealand&quot;, &quot;rms&quot;: 0.4, &quot;sig&quot;: 271, &quot;sources&quot;: &quot;,us,&quot;, &quot;status&quot;: &quot;reviewed&quot;, &quot;time&quot;: 1696836119742, &quot;title&quot;: &quot;M 4.2 - 128 km WSW of Te Anau, New Zealand&quot;, &quot;tsunami&quot;: 0, &quot;type&quot;: &quot;earthquake&quot;, &quot;types&quot;: &quot;,origin,phase-data,&quot;, &quot;tz&quot;: null, &quot;updated&quot;: 1697007991040, &quot;url&quot;: &quot;https://earthquake.usgs.gov/earthquakes/eventpage/us6000le75&quot;}, &quot;type&quot;: &quot;Feature&quot;}, {&quot;bbox&quot;: [45.8027, 34.1165, 45.8027, 34.1165], &quot;geometry&quot;: {&quot;coordinates&quot;: [45.8027, 34.1165, 10.0], &quot;type&quot;: &quot;Point&quot;}, &quot;id&quot;: &quot;258&quot;, &quot;properties&quot;: {&quot;alert&quot;: null, &quot;cdi&quot;: null, &quot;code&quot;: &quot;6000le73&quot;, &quot;detail&quot;: &quot;https://earthquake.usgs.gov/earthquakes/feed/v1.0/detail/us6000le73.geojson&quot;, &quot;dmin&quot;: 1.508, &quot;felt&quot;: null, &quot;gap&quot;: 138.0, &quot;id&quot;: &quot;us6000le73&quot;, &quot;ids&quot;: &quot;,us6000le73,&quot;, &quot;mag&quot;: 4.6, &quot;magType&quot;: &quot;mb&quot;, &quot;mmi&quot;: null, &quot;net&quot;: &quot;us&quot;, &quot;nst&quot;: 54.0, &quot;place&quot;: &quot;38 km S of Sarpol-e Z\\u0304ah\\u0101b, Iran&quot;, &quot;rms&quot;: 0.55, &quot;sig&quot;: 326, &quot;sources&quot;: &quot;,us,&quot;, &quot;status&quot;: &quot;reviewed&quot;, &quot;time&quot;: 1696835228226, &quot;title&quot;: &quot;M 4.6 - 38 km S of Sarpol-e Z\\u0304ah\\u0101b, Iran&quot;, &quot;tsunami&quot;: 0, &quot;type&quot;: &quot;earthquake&quot;, &quot;types&quot;: &quot;,origin,phase-data,&quot;, &quot;tz&quot;: null, &quot;updated&quot;: 1696922757040, &quot;url&quot;: &quot;https://earthquake.usgs.gov/earthquakes/eventpage/us6000le73&quot;}, &quot;type&quot;: &quot;Feature&quot;}, {&quot;bbox&quot;: [62.029, 34.6185, 62.029, 34.6185], &quot;geometry&quot;: {&quot;coordinates&quot;: [62.029, 34.6185, 10.0], &quot;type&quot;: &quot;Point&quot;}, &quot;id&quot;: &quot;259&quot;, &quot;properties&quot;: {&quot;alert&quot;: null, &quot;cdi&quot;: 5.4, &quot;code&quot;: &quot;6000le6y&quot;, &quot;detail&quot;: &quot;https://earthquake.usgs.gov/earthquakes/feed/v1.0/detail/us6000le6y.geojson&quot;, &quot;dmin&quot;: 5.787, &quot;felt&quot;: 2.0, &quot;gap&quot;: 85.0, &quot;id&quot;: &quot;us6000le6y&quot;, &quot;ids&quot;: &quot;,us6000le6y,&quot;, &quot;mag&quot;: 4.9, &quot;magType&quot;: &quot;mb&quot;, &quot;mmi&quot;: null, &quot;net&quot;: &quot;us&quot;, &quot;nst&quot;: 67.0, &quot;place&quot;: &quot;western Afghanistan&quot;, &quot;rms&quot;: 0.54, &quot;sig&quot;: 370, &quot;sources&quot;: &quot;,us,&quot;, &quot;status&quot;: &quot;reviewed&quot;, &quot;time&quot;: 1696834446387, &quot;title&quot;: &quot;M 4.9 - western Afghanistan&quot;, &quot;tsunami&quot;: 0, &quot;type&quot;: &quot;earthquake&quot;, &quot;types&quot;: &quot;,dyfi,origin,phase-data,&quot;, &quot;tz&quot;: null, &quot;updated&quot;: 1696876836469, &quot;url&quot;: &quot;https://earthquake.usgs.gov/earthquakes/eventpage/us6000le6y&quot;}, &quot;type&quot;: &quot;Feature&quot;}, {&quot;bbox&quot;: [-103.99, 31.628, -103.99, 31.628], &quot;geometry&quot;: {&quot;coordinates&quot;: [-103.99, 31.628, 7.3013], &quot;type&quot;: &quot;Point&quot;}, &quot;id&quot;: &quot;260&quot;, &quot;properties&quot;: {&quot;alert&quot;: null, &quot;cdi&quot;: null, &quot;code&quot;: &quot;2023ttxf&quot;, &quot;detail&quot;: &quot;https://earthquake.usgs.gov/earthquakes/feed/v1.0/detail/tx2023ttxf.geojson&quot;, &quot;dmin&quot;: 0.0, &quot;felt&quot;: null, &quot;gap&quot;: 49.0, &quot;id&quot;: &quot;tx2023ttxf&quot;, &quot;ids&quot;: &quot;,us6000le6m,tx2023ttxf,&quot;, &quot;mag&quot;: 2.9, &quot;magType&quot;: &quot;ml(texnet)&quot;, &quot;mmi&quot;: null, &quot;net&quot;: &quot;tx&quot;, &quot;nst&quot;: 33.0, &quot;place&quot;: &quot;38 km WSW of Mentone, Texas&quot;, &quot;rms&quot;: 0.1, &quot;sig&quot;: 129, &quot;sources&quot;: &quot;,us,tx,&quot;, &quot;status&quot;: &quot;reviewed&quot;, &quot;time&quot;: 1696832971663, &quot;title&quot;: &quot;M 2.9 - 38 km WSW of Mentone, Texas&quot;, &quot;tsunami&quot;: 0, &quot;type&quot;: &quot;earthquake&quot;, &quot;types&quot;: &quot;,origin,phase-data,&quot;, &quot;tz&quot;: null, &quot;updated&quot;: 1696863691223, &quot;url&quot;: &quot;https://earthquake.usgs.gov/earthquakes/eventpage/tx2023ttxf&quot;}, &quot;type&quot;: &quot;Feature&quot;}, {&quot;bbox&quot;: [38.1522, 38.2755, 38.1522, 38.2755], &quot;geometry&quot;: {&quot;coordinates&quot;: [38.1522, 38.2755, 10.0], &quot;type&quot;: &quot;Point&quot;}, &quot;id&quot;: &quot;261&quot;, &quot;properties&quot;: {&quot;alert&quot;: null, &quot;cdi&quot;: null, &quot;code&quot;: &quot;6000le6p&quot;, &quot;detail&quot;: &quot;https://earthquake.usgs.gov/earthquakes/feed/v1.0/detail/us6000le6p.geojson&quot;, &quot;dmin&quot;: 0.829, &quot;felt&quot;: null, &quot;gap&quot;: 44.0, &quot;id&quot;: &quot;us6000le6p&quot;, &quot;ids&quot;: &quot;,us6000le6p,&quot;, &quot;mag&quot;: 4.2, &quot;magType&quot;: &quot;mb&quot;, &quot;mmi&quot;: null, &quot;net&quot;: &quot;us&quot;, &quot;nst&quot;: 32.0, &quot;place&quot;: &quot;eastern Turkey&quot;, &quot;rms&quot;: 0.37, &quot;sig&quot;: 271, &quot;sources&quot;: &quot;,us,&quot;, &quot;status&quot;: &quot;reviewed&quot;, &quot;time&quot;: 1696832934396, &quot;title&quot;: &quot;M 4.2 - eastern Turkey&quot;, &quot;tsunami&quot;: 0, &quot;type&quot;: &quot;earthquake&quot;, &quot;types&quot;: &quot;,origin,phase-data,&quot;, &quot;tz&quot;: null, &quot;updated&quot;: 1696847781040, &quot;url&quot;: &quot;https://earthquake.usgs.gov/earthquakes/eventpage/us6000le6p&quot;}, &quot;type&quot;: &quot;Feature&quot;}, {&quot;bbox&quot;: [-66.872, 17.826, -66.872, 17.826], &quot;geometry&quot;: {&quot;coordinates&quot;: [-66.872, 17.826, 7.81], &quot;type&quot;: &quot;Point&quot;}, &quot;id&quot;: &quot;262&quot;, &quot;properties&quot;: {&quot;alert&quot;: null, &quot;cdi&quot;: null, &quot;code&quot;: &quot;71428028&quot;, &quot;detail&quot;: &quot;https://earthquake.usgs.gov/earthquakes/feed/v1.0/detail/pr71428028.geojson&quot;, &quot;dmin&quot;: 0.1484, &quot;felt&quot;: null, &quot;gap&quot;: 261.0, &quot;id&quot;: &quot;pr71428028&quot;, &quot;ids&quot;: &quot;,pr71428028,&quot;, &quot;mag&quot;: 2.58, &quot;magType&quot;: &quot;md&quot;, &quot;mmi&quot;: null, &quot;net&quot;: &quot;pr&quot;, &quot;nst&quot;: 5.0, &quot;place&quot;: &quot;16 km SSE of Gu\\u00e1nica, Puerto Rico&quot;, &quot;rms&quot;: 0.22, &quot;sig&quot;: 102, &quot;sources&quot;: &quot;,pr,&quot;, &quot;status&quot;: &quot;reviewed&quot;, &quot;time&quot;: 1696832858350, &quot;title&quot;: &quot;M 2.6 - 16 km SSE of Gu\\u00e1nica, Puerto Rico&quot;, &quot;tsunami&quot;: 0, &quot;type&quot;: &quot;earthquake&quot;, &quot;types&quot;: &quot;,origin,phase-data,&quot;, &quot;tz&quot;: null, &quot;updated&quot;: 1696833527670, &quot;url&quot;: &quot;https://earthquake.usgs.gov/earthquakes/eventpage/pr71428028&quot;}, &quot;type&quot;: &quot;Feature&quot;}, {&quot;bbox&quot;: [-66.8994, -23.9344, -66.8994, -23.9344], &quot;geometry&quot;: {&quot;coordinates&quot;: [-66.8994, -23.9344, 211.965], &quot;type&quot;: &quot;Point&quot;}, &quot;id&quot;: &quot;263&quot;, &quot;properties&quot;: {&quot;alert&quot;: null, &quot;cdi&quot;: null, &quot;code&quot;: &quot;6000le6j&quot;, &quot;detail&quot;: &quot;https://earthquake.usgs.gov/earthquakes/feed/v1.0/detail/us6000le6j.geojson&quot;, &quot;dmin&quot;: 1.529, &quot;felt&quot;: null, &quot;gap&quot;: 69.0, &quot;id&quot;: &quot;us6000le6j&quot;, &quot;ids&quot;: &quot;,us6000le6j,&quot;, &quot;mag&quot;: 4.5, &quot;magType&quot;: &quot;mb&quot;, &quot;mmi&quot;: null, &quot;net&quot;: &quot;us&quot;, &quot;nst&quot;: 27.0, &quot;place&quot;: &quot;Jujuy, Argentina&quot;, &quot;rms&quot;: 0.99, &quot;sig&quot;: 312, &quot;sources&quot;: &quot;,us,&quot;, &quot;status&quot;: &quot;reviewed&quot;, &quot;time&quot;: 1696830849982, &quot;title&quot;: &quot;M 4.5 - Jujuy, Argentina&quot;, &quot;tsunami&quot;: 0, &quot;type&quot;: &quot;earthquake&quot;, &quot;types&quot;: &quot;,origin,phase-data,&quot;, &quot;tz&quot;: null, &quot;updated&quot;: 1696840397040, &quot;url&quot;: &quot;https://earthquake.usgs.gov/earthquakes/eventpage/us6000le6j&quot;}, &quot;type&quot;: &quot;Feature&quot;}, {&quot;bbox&quot;: [146.2867, 44.6817, 146.2867, 44.6817], &quot;geometry&quot;: {&quot;coordinates&quot;: [146.2867, 44.6817, 174.468], &quot;type&quot;: &quot;Point&quot;}, &quot;id&quot;: &quot;264&quot;, &quot;properties&quot;: {&quot;alert&quot;: null, &quot;cdi&quot;: null, &quot;code&quot;: &quot;6000le6f&quot;, &quot;detail&quot;: &quot;https://earthquake.usgs.gov/earthquakes/feed/v1.0/detail/us6000le6f.geojson&quot;, &quot;dmin&quot;: 2.707, &quot;felt&quot;: null, &quot;gap&quot;: 60.0, &quot;id&quot;: &quot;us6000le6f&quot;, &quot;ids&quot;: &quot;,us6000le6f,ak023cyglxxf,&quot;, &quot;mag&quot;: 5.3, &quot;magType&quot;: &quot;mww&quot;, &quot;mmi&quot;: 2.285, &quot;net&quot;: &quot;us&quot;, &quot;nst&quot;: 129.0, &quot;place&quot;: &quot;76 km NNE of Otrada, Russia&quot;, &quot;rms&quot;: 0.93, &quot;sig&quot;: 432, &quot;sources&quot;: &quot;,us,ak,&quot;, &quot;status&quot;: &quot;reviewed&quot;, &quot;time&quot;: 1696828180742, &quot;title&quot;: &quot;M 5.3 - 76 km NNE of Otrada, Russia&quot;, &quot;tsunami&quot;: 0, &quot;type&quot;: &quot;earthquake&quot;, &quot;types&quot;: &quot;,moment-tensor,origin,phase-data,shakemap,&quot;, &quot;tz&quot;: null, &quot;updated&quot;: 1696829485040, &quot;url&quot;: &quot;https://earthquake.usgs.gov/earthquakes/eventpage/us6000le6f&quot;}, &quot;type&quot;: &quot;Feature&quot;}, {&quot;bbox&quot;: [129.6095, -6.9752, 129.6095, -6.9752], &quot;geometry&quot;: {&quot;coordinates&quot;: [129.6095, -6.9752, 154.599], &quot;type&quot;: &quot;Point&quot;}, &quot;id&quot;: &quot;265&quot;, &quot;properties&quot;: {&quot;alert&quot;: null, &quot;cdi&quot;: null, &quot;code&quot;: &quot;6000le69&quot;, &quot;detail&quot;: &quot;https://earthquake.usgs.gov/earthquakes/feed/v1.0/detail/us6000le69.geojson&quot;, &quot;dmin&quot;: 2.454, &quot;felt&quot;: null, &quot;gap&quot;: 112.0, &quot;id&quot;: &quot;us6000le69&quot;, &quot;ids&quot;: &quot;,us6000le69,&quot;, &quot;mag&quot;: 4.4, &quot;magType&quot;: &quot;mb&quot;, &quot;mmi&quot;: null, &quot;net&quot;: &quot;us&quot;, &quot;nst&quot;: 28.0, &quot;place&quot;: &quot;Banda Sea&quot;, &quot;rms&quot;: 0.65, &quot;sig&quot;: 298, &quot;sources&quot;: &quot;,us,&quot;, &quot;status&quot;: &quot;reviewed&quot;, &quot;time&quot;: 1696825617041, &quot;title&quot;: &quot;M 4.4 - Banda Sea&quot;, &quot;tsunami&quot;: 0, &quot;type&quot;: &quot;earthquake&quot;, &quot;types&quot;: &quot;,origin,phase-data,&quot;, &quot;tz&quot;: null, &quot;updated&quot;: 1696996187040, &quot;url&quot;: &quot;https://earthquake.usgs.gov/earthquakes/eventpage/us6000le69&quot;}, &quot;type&quot;: &quot;Feature&quot;}, {&quot;bbox&quot;: [-160.7744, 54.2544, -160.7744, 54.2544], &quot;geometry&quot;: {&quot;coordinates&quot;: [-160.7744, 54.2544, 35.0], &quot;type&quot;: &quot;Point&quot;}, &quot;id&quot;: &quot;266&quot;, &quot;properties&quot;: {&quot;alert&quot;: null, &quot;cdi&quot;: null, &quot;code&quot;: &quot;6000le8u&quot;, &quot;detail&quot;: &quot;https://earthquake.usgs.gov/earthquakes/feed/v1.0/detail/us6000le8u.geojson&quot;, &quot;dmin&quot;: 1.098, &quot;felt&quot;: null, &quot;gap&quot;: 273.0, &quot;id&quot;: &quot;us6000le8u&quot;, &quot;ids&quot;: &quot;,ak023cyg2s8b,us6000le8u,&quot;, &quot;mag&quot;: 2.5, &quot;magType&quot;: &quot;ml&quot;, &quot;mmi&quot;: null, &quot;net&quot;: &quot;us&quot;, &quot;nst&quot;: 14.0, &quot;place&quot;: &quot;121 km S of Sand Point, Alaska&quot;, &quot;rms&quot;: 0.5, &quot;sig&quot;: 96, &quot;sources&quot;: &quot;,ak,us,&quot;, &quot;status&quot;: &quot;reviewed&quot;, &quot;time&quot;: 1696825447544, &quot;title&quot;: &quot;M 2.5 - 121 km S of Sand Point, Alaska&quot;, &quot;tsunami&quot;: 0, &quot;type&quot;: &quot;earthquake&quot;, &quot;types&quot;: &quot;,origin,phase-data,&quot;, &quot;tz&quot;: null, &quot;updated&quot;: 1696995859040, &quot;url&quot;: &quot;https://earthquake.usgs.gov/earthquakes/eventpage/us6000le8u&quot;}, &quot;type&quot;: &quot;Feature&quot;}, {&quot;bbox&quot;: [122.1974, 0.3901, 122.1974, 0.3901], &quot;geometry&quot;: {&quot;coordinates&quot;: [122.1974, 0.3901, 133.984], &quot;type&quot;: &quot;Point&quot;}, &quot;id&quot;: &quot;267&quot;, &quot;properties&quot;: {&quot;alert&quot;: null, &quot;cdi&quot;: null, &quot;code&quot;: &quot;6000le5w&quot;, &quot;detail&quot;: &quot;https://earthquake.usgs.gov/earthquakes/feed/v1.0/detail/us6000le5w.geojson&quot;, &quot;dmin&quot;: 1.534, &quot;felt&quot;: null, &quot;gap&quot;: 32.0, &quot;id&quot;: &quot;us6000le5w&quot;, &quot;ids&quot;: &quot;,us6000le5w,&quot;, &quot;mag&quot;: 5.1, &quot;magType&quot;: &quot;mb&quot;, &quot;mmi&quot;: null, &quot;net&quot;: &quot;us&quot;, &quot;nst&quot;: 118.0, &quot;place&quot;: &quot;97 km W of Gorontalo, Indonesia&quot;, &quot;rms&quot;: 0.82, &quot;sig&quot;: 400, &quot;sources&quot;: &quot;,us,&quot;, &quot;status&quot;: &quot;reviewed&quot;, &quot;time&quot;: 1696823448637, &quot;title&quot;: &quot;M 5.1 - 97 km W of Gorontalo, Indonesia&quot;, &quot;tsunami&quot;: 0, &quot;type&quot;: &quot;earthquake&quot;, &quot;types&quot;: &quot;,origin,phase-data,&quot;, &quot;tz&quot;: null, &quot;updated&quot;: 1696993680040, &quot;url&quot;: &quot;https://earthquake.usgs.gov/earthquakes/eventpage/us6000le5w&quot;}, &quot;type&quot;: &quot;Feature&quot;}, {&quot;bbox&quot;: [133.9047, -4.5082, 133.9047, -4.5082], &quot;geometry&quot;: {&quot;coordinates&quot;: [133.9047, -4.5082, 10.0], &quot;type&quot;: &quot;Point&quot;}, &quot;id&quot;: &quot;268&quot;, &quot;properties&quot;: {&quot;alert&quot;: null, &quot;cdi&quot;: null, &quot;code&quot;: &quot;6000le5t&quot;, &quot;detail&quot;: &quot;https://earthquake.usgs.gov/earthquakes/feed/v1.0/detail/us6000le5t.geojson&quot;, &quot;dmin&quot;: 2.285, &quot;felt&quot;: null, &quot;gap&quot;: 69.0, &quot;id&quot;: &quot;us6000le5t&quot;, &quot;ids&quot;: &quot;,us6000le5t,&quot;, &quot;mag&quot;: 4.4, &quot;magType&quot;: &quot;mb&quot;, &quot;mmi&quot;: null, &quot;net&quot;: &quot;us&quot;, &quot;nst&quot;: 20.0, &quot;place&quot;: &quot;178 km NE of Tual, Indonesia&quot;, &quot;rms&quot;: 0.98, &quot;sig&quot;: 298, &quot;sources&quot;: &quot;,us,&quot;, &quot;status&quot;: &quot;reviewed&quot;, &quot;time&quot;: 1696822267257, &quot;title&quot;: &quot;M 4.4 - 178 km NE of Tual, Indonesia&quot;, &quot;tsunami&quot;: 0, &quot;type&quot;: &quot;earthquake&quot;, &quot;types&quot;: &quot;,origin,phase-data,&quot;, &quot;tz&quot;: null, &quot;updated&quot;: 1696993081040, &quot;url&quot;: &quot;https://earthquake.usgs.gov/earthquakes/eventpage/us6000le5t&quot;}, &quot;type&quot;: &quot;Feature&quot;}, {&quot;bbox&quot;: [133.4197, -7.6162, 133.4197, -7.6162], &quot;geometry&quot;: {&quot;coordinates&quot;: [133.4197, -7.6162, 10.0], &quot;type&quot;: &quot;Point&quot;}, &quot;id&quot;: &quot;269&quot;, &quot;properties&quot;: {&quot;alert&quot;: null, &quot;cdi&quot;: null, &quot;code&quot;: &quot;6000le5r&quot;, &quot;detail&quot;: &quot;https://earthquake.usgs.gov/earthquakes/feed/v1.0/detail/us6000le5r.geojson&quot;, &quot;dmin&quot;: 4.654, &quot;felt&quot;: null, &quot;gap&quot;: 100.0, &quot;id&quot;: &quot;us6000le5r&quot;, &quot;ids&quot;: &quot;,us6000le5r,&quot;, &quot;mag&quot;: 4.5, &quot;magType&quot;: &quot;mb&quot;, &quot;mmi&quot;: null, &quot;net&quot;: &quot;us&quot;, &quot;nst&quot;: 24.0, &quot;place&quot;: &quot;231 km SSE of Tual, Indonesia&quot;, &quot;rms&quot;: 0.5, &quot;sig&quot;: 312, &quot;sources&quot;: &quot;,us,&quot;, &quot;status&quot;: &quot;reviewed&quot;, &quot;time&quot;: 1696821663696, &quot;title&quot;: &quot;M 4.5 - 231 km SSE of Tual, Indonesia&quot;, &quot;tsunami&quot;: 0, &quot;type&quot;: &quot;earthquake&quot;, &quot;types&quot;: &quot;,origin,phase-data,&quot;, &quot;tz&quot;: null, &quot;updated&quot;: 1696990219040, &quot;url&quot;: &quot;https://earthquake.usgs.gov/earthquakes/eventpage/us6000le5r&quot;}, &quot;type&quot;: &quot;Feature&quot;}, {&quot;bbox&quot;: [-100.698, 32.682, -100.698, 32.682], &quot;geometry&quot;: {&quot;coordinates&quot;: [-100.698, 32.682, 6.3827], &quot;type&quot;: &quot;Point&quot;}, &quot;id&quot;: &quot;270&quot;, &quot;properties&quot;: {&quot;alert&quot;: null, &quot;cdi&quot;: 2.2, &quot;code&quot;: &quot;2023ttqk&quot;, &quot;detail&quot;: &quot;https://earthquake.usgs.gov/earthquakes/feed/v1.0/detail/tx2023ttqk.geojson&quot;, &quot;dmin&quot;: 0.0, &quot;felt&quot;: 1.0, &quot;gap&quot;: 47.0, &quot;id&quot;: &quot;tx2023ttqk&quot;, &quot;ids&quot;: &quot;,tx2023ttqk,us6000le5e,&quot;, &quot;mag&quot;: 3.1, &quot;magType&quot;: &quot;ml(texnet)&quot;, &quot;mmi&quot;: null, &quot;net&quot;: &quot;tx&quot;, &quot;nst&quot;: 29.0, &quot;place&quot;: &quot;western Texas&quot;, &quot;rms&quot;: 0.3, &quot;sig&quot;: 148, &quot;sources&quot;: &quot;,tx,us,&quot;, &quot;status&quot;: &quot;reviewed&quot;, &quot;time&quot;: 1696820561120, &quot;title&quot;: &quot;M 3.1 - western Texas&quot;, &quot;tsunami&quot;: 0, &quot;type&quot;: &quot;earthquake&quot;, &quot;types&quot;: &quot;,dyfi,origin,phase-data,&quot;, &quot;tz&quot;: null, &quot;updated&quot;: 1696865056669, &quot;url&quot;: &quot;https://earthquake.usgs.gov/earthquakes/eventpage/tx2023ttqk&quot;}, &quot;type&quot;: &quot;Feature&quot;}, {&quot;bbox&quot;: [142.393, 40.2517, 142.393, 40.2517], &quot;geometry&quot;: {&quot;coordinates&quot;: [142.393, 40.2517, 50.461], &quot;type&quot;: &quot;Point&quot;}, &quot;id&quot;: &quot;271&quot;, &quot;properties&quot;: {&quot;alert&quot;: null, &quot;cdi&quot;: null, &quot;code&quot;: &quot;6000le5d&quot;, &quot;detail&quot;: &quot;https://earthquake.usgs.gov/earthquakes/feed/v1.0/detail/us6000le5d.geojson&quot;, &quot;dmin&quot;: 1.146, &quot;felt&quot;: null, &quot;gap&quot;: 179.0, &quot;id&quot;: &quot;us6000le5d&quot;, &quot;ids&quot;: &quot;,us6000le5d,&quot;, &quot;mag&quot;: 5.0, &quot;magType&quot;: &quot;mb&quot;, &quot;mmi&quot;: null, &quot;net&quot;: &quot;us&quot;, &quot;nst&quot;: 18.0, &quot;place&quot;: &quot;51 km ENE of Noda, Japan&quot;, &quot;rms&quot;: 0.27, &quot;sig&quot;: 385, &quot;sources&quot;: &quot;,us,&quot;, &quot;status&quot;: &quot;reviewed&quot;, &quot;time&quot;: 1696819894990, &quot;title&quot;: &quot;M 5.0 - 51 km ENE of Noda, Japan&quot;, &quot;tsunami&quot;: 0, &quot;type&quot;: &quot;earthquake&quot;, &quot;types&quot;: &quot;,origin,phase-data,&quot;, &quot;tz&quot;: null, &quot;updated&quot;: 1696988681040, &quot;url&quot;: &quot;https://earthquake.usgs.gov/earthquakes/eventpage/us6000le5d&quot;}, &quot;type&quot;: &quot;Feature&quot;}, {&quot;bbox&quot;: [-68.6167, -21.9237, -68.6167, -21.9237], &quot;geometry&quot;: {&quot;coordinates&quot;: [-68.6167, -21.9237, 100.12], &quot;type&quot;: &quot;Point&quot;}, &quot;id&quot;: &quot;272&quot;, &quot;properties&quot;: {&quot;alert&quot;: null, &quot;cdi&quot;: null, &quot;code&quot;: &quot;6000le5b&quot;, &quot;detail&quot;: &quot;https://earthquake.usgs.gov/earthquakes/feed/v1.0/detail/us6000le5b.geojson&quot;, &quot;dmin&quot;: 0.594, &quot;felt&quot;: null, &quot;gap&quot;: 62.0, &quot;id&quot;: &quot;us6000le5b&quot;, &quot;ids&quot;: &quot;,us6000le5b,&quot;, &quot;mag&quot;: 4.1, &quot;magType&quot;: &quot;mb&quot;, &quot;mmi&quot;: null, &quot;net&quot;: &quot;us&quot;, &quot;nst&quot;: 22.0, &quot;place&quot;: &quot;Chile-Bolivia border region&quot;, &quot;rms&quot;: 0.79, &quot;sig&quot;: 259, &quot;sources&quot;: &quot;,us,&quot;, &quot;status&quot;: &quot;reviewed&quot;, &quot;time&quot;: 1696819342177, &quot;title&quot;: &quot;M 4.1 - Chile-Bolivia border region&quot;, &quot;tsunami&quot;: 0, &quot;type&quot;: &quot;earthquake&quot;, &quot;types&quot;: &quot;,origin,phase-data,&quot;, &quot;tz&quot;: null, &quot;updated&quot;: 1696988333040, &quot;url&quot;: &quot;https://earthquake.usgs.gov/earthquakes/eventpage/us6000le5b&quot;}, &quot;type&quot;: &quot;Feature&quot;}, {&quot;bbox&quot;: [-122.7065, 48.032833333333336, -122.7065, 48.032833333333336], &quot;geometry&quot;: {&quot;coordinates&quot;: [-122.7065, 48.032833333333336, 56.95], &quot;type&quot;: &quot;Point&quot;}, &quot;id&quot;: &quot;273&quot;, &quot;properties&quot;: {&quot;alert&quot;: &quot;green&quot;, &quot;cdi&quot;: 4.7, &quot;code&quot;: &quot;61965081&quot;, &quot;detail&quot;: &quot;https://earthquake.usgs.gov/earthquakes/feed/v1.0/detail/uw61965081.geojson&quot;, &quot;dmin&quot;: 0.05452, &quot;felt&quot;: 10863.0, &quot;gap&quot;: 26.0, &quot;id&quot;: &quot;uw61965081&quot;, &quot;ids&quot;: &quot;,ew1696818070,at00s28p79,uw61965081,us6000le56,&quot;, &quot;mag&quot;: 4.34, &quot;magType&quot;: &quot;ml&quot;, &quot;mmi&quot;: 3.856, &quot;net&quot;: &quot;uw&quot;, &quot;nst&quot;: 143.0, &quot;place&quot;: &quot;Port Townsend, WA&quot;, &quot;rms&quot;: 0.25, &quot;sig&quot;: 760, &quot;sources&quot;: &quot;,ew,at,uw,us,&quot;, &quot;status&quot;: &quot;reviewed&quot;, &quot;time&quot;: 1696818068810, &quot;title&quot;: &quot;M 4.3 - Port Townsend, WA&quot;, &quot;tsunami&quot;: 1, &quot;type&quot;: &quot;earthquake&quot;, &quot;types&quot;: &quot;,dyfi,earthquake-name,impact-link,losspager,moment-tensor,origin,phase-data,shake-alert,shakemap,&quot;, &quot;tz&quot;: null, &quot;updated&quot;: 1697412304003, &quot;url&quot;: &quot;https://earthquake.usgs.gov/earthquakes/eventpage/uw61965081&quot;}, &quot;type&quot;: &quot;Feature&quot;}, {&quot;bbox&quot;: [-66.983, 18.1765, -66.983, 18.1765], &quot;geometry&quot;: {&quot;coordinates&quot;: [-66.983, 18.1765, 13.03], &quot;type&quot;: &quot;Point&quot;}, &quot;id&quot;: &quot;274&quot;, &quot;properties&quot;: {&quot;alert&quot;: null, &quot;cdi&quot;: 2.0, &quot;code&quot;: &quot;71428013&quot;, &quot;detail&quot;: &quot;https://earthquake.usgs.gov/earthquakes/feed/v1.0/detail/pr71428013.geojson&quot;, &quot;dmin&quot;: 0.008164, &quot;felt&quot;: 1.0, &quot;gap&quot;: 48.0, &quot;id&quot;: &quot;pr71428013&quot;, &quot;ids&quot;: &quot;,pr71428013,&quot;, &quot;mag&quot;: 3.01, &quot;magType&quot;: &quot;md&quot;, &quot;mmi&quot;: null, &quot;net&quot;: &quot;pr&quot;, &quot;nst&quot;: 19.0, &quot;place&quot;: &quot;Puerto Rico&quot;, &quot;rms&quot;: 0.2, &quot;sig&quot;: 140, &quot;sources&quot;: &quot;,pr,&quot;, &quot;status&quot;: &quot;reviewed&quot;, &quot;time&quot;: 1696815644520, &quot;title&quot;: &quot;M 3.0 - Puerto Rico&quot;, &quot;tsunami&quot;: 0, &quot;type&quot;: &quot;earthquake&quot;, &quot;types&quot;: &quot;,dyfi,origin,phase-data,&quot;, &quot;tz&quot;: null, &quot;updated&quot;: 1696823369817, &quot;url&quot;: &quot;https://earthquake.usgs.gov/earthquakes/eventpage/pr71428013&quot;}, &quot;type&quot;: &quot;Feature&quot;}, {&quot;bbox&quot;: [95.8156, 3.9465, 95.8156, 3.9465], &quot;geometry&quot;: {&quot;coordinates&quot;: [95.8156, 3.9465, 51.988], &quot;type&quot;: &quot;Point&quot;}, &quot;id&quot;: &quot;275&quot;, &quot;properties&quot;: {&quot;alert&quot;: null, &quot;cdi&quot;: null, &quot;code&quot;: &quot;6000le50&quot;, &quot;detail&quot;: &quot;https://earthquake.usgs.gov/earthquakes/feed/v1.0/detail/us6000le50.geojson&quot;, &quot;dmin&quot;: 1.701, &quot;felt&quot;: null, &quot;gap&quot;: 116.0, &quot;id&quot;: &quot;us6000le50&quot;, &quot;ids&quot;: &quot;,us6000le50,&quot;, &quot;mag&quot;: 4.4, &quot;magType&quot;: &quot;mb&quot;, &quot;mmi&quot;: null, &quot;net&quot;: &quot;us&quot;, &quot;nst&quot;: 27.0, &quot;place&quot;: &quot;40 km WSW of Meulaboh, Indonesia&quot;, &quot;rms&quot;: 0.73, &quot;sig&quot;: 298, &quot;sources&quot;: &quot;,us,&quot;, &quot;status&quot;: &quot;reviewed&quot;, &quot;time&quot;: 1696814850721, &quot;title&quot;: &quot;M 4.4 - 40 km WSW of Meulaboh, Indonesia&quot;, &quot;tsunami&quot;: 0, &quot;type&quot;: &quot;earthquake&quot;, &quot;types&quot;: &quot;,origin,phase-data,&quot;, &quot;tz&quot;: null, &quot;updated&quot;: 1696986953040, &quot;url&quot;: &quot;https://earthquake.usgs.gov/earthquakes/eventpage/us6000le50&quot;}, &quot;type&quot;: &quot;Feature&quot;}, {&quot;bbox&quot;: [161.3639, -10.299, 161.3639, -10.299], &quot;geometry&quot;: {&quot;coordinates&quot;: [161.3639, -10.299, 74.428], &quot;type&quot;: &quot;Point&quot;}, &quot;id&quot;: &quot;276&quot;, &quot;properties&quot;: {&quot;alert&quot;: null, &quot;cdi&quot;: null, &quot;code&quot;: &quot;6000le4w&quot;, &quot;detail&quot;: &quot;https://earthquake.usgs.gov/earthquakes/feed/v1.0/detail/us6000le4w.geojson&quot;, &quot;dmin&quot;: 1.637, &quot;felt&quot;: null, &quot;gap&quot;: 102.0, &quot;id&quot;: &quot;us6000le4w&quot;, &quot;ids&quot;: &quot;,us6000le4w,&quot;, &quot;mag&quot;: 4.7, &quot;magType&quot;: &quot;mb&quot;, &quot;mmi&quot;: null, &quot;net&quot;: &quot;us&quot;, &quot;nst&quot;: 52.0, &quot;place&quot;: &quot;Solomon Islands&quot;, &quot;rms&quot;: 0.48, &quot;sig&quot;: 340, &quot;sources&quot;: &quot;,us,&quot;, &quot;status&quot;: &quot;reviewed&quot;, &quot;time&quot;: 1696814415912, &quot;title&quot;: &quot;M 4.7 - Solomon Islands&quot;, &quot;tsunami&quot;: 0, &quot;type&quot;: &quot;earthquake&quot;, &quot;types&quot;: &quot;,origin,phase-data,&quot;, &quot;tz&quot;: null, &quot;updated&quot;: 1696980313040, &quot;url&quot;: &quot;https://earthquake.usgs.gov/earthquakes/eventpage/us6000le4w&quot;}, &quot;type&quot;: &quot;Feature&quot;}, {&quot;bbox&quot;: [-150.9325, 62.1685, -150.9325, 62.1685], &quot;geometry&quot;: {&quot;coordinates&quot;: [-150.9325, 62.1685, 14.1], &quot;type&quot;: &quot;Point&quot;}, &quot;id&quot;: &quot;277&quot;, &quot;properties&quot;: {&quot;alert&quot;: null, &quot;cdi&quot;: null, &quot;code&quot;: &quot;023cye9f4p&quot;, &quot;detail&quot;: &quot;https://earthquake.usgs.gov/earthquakes/feed/v1.0/detail/ak023cye9f4p.geojson&quot;, &quot;dmin&quot;: null, &quot;felt&quot;: null, &quot;gap&quot;: null, &quot;id&quot;: &quot;ak023cye9f4p&quot;, &quot;ids&quot;: &quot;,us6000le4v,ak023cye9f4p,&quot;, &quot;mag&quot;: 2.5, &quot;magType&quot;: &quot;ml&quot;, &quot;mmi&quot;: null, &quot;net&quot;: &quot;ak&quot;, &quot;nst&quot;: null, &quot;place&quot;: &quot;Central Alaska&quot;, &quot;rms&quot;: 0.71, &quot;sig&quot;: 96, &quot;sources&quot;: &quot;,us,ak,&quot;, &quot;status&quot;: &quot;automatic&quot;, &quot;time&quot;: 1696814361531, &quot;title&quot;: &quot;M 2.5 - Central Alaska&quot;, &quot;tsunami&quot;: 0, &quot;type&quot;: &quot;earthquake&quot;, &quot;types&quot;: &quot;,origin,phase-data,&quot;, &quot;tz&quot;: null, &quot;updated&quot;: 1696977501040, &quot;url&quot;: &quot;https://earthquake.usgs.gov/earthquakes/eventpage/ak023cye9f4p&quot;}, &quot;type&quot;: &quot;Feature&quot;}], &quot;type&quot;: &quot;FeatureCollection&quot;});\n",
       "\n",
       "        \n",
       "    \n",
       "    geo_json_e65f3c5290354e4995fad7eedbe148e0.bindTooltip(\n",
       "    function(layer){\n",
       "    let div = L.DomUtil.create(&#x27;div&#x27;);\n",
       "    \n",
       "    let handleObject = feature=&gt;typeof(feature)==&#x27;object&#x27; ? JSON.stringify(feature) : feature;\n",
       "    let fields = [&quot;id&quot;, &quot;mag&quot;, &quot;place&quot;, &quot;time&quot;, &quot;updated&quot;, &quot;tz&quot;, &quot;url&quot;, &quot;detail&quot;, &quot;felt&quot;, &quot;cdi&quot;, &quot;mmi&quot;, &quot;alert&quot;, &quot;status&quot;, &quot;tsunami&quot;, &quot;sig&quot;, &quot;net&quot;, &quot;code&quot;, &quot;ids&quot;, &quot;sources&quot;, &quot;types&quot;, &quot;nst&quot;, &quot;dmin&quot;, &quot;rms&quot;, &quot;gap&quot;, &quot;magType&quot;, &quot;type&quot;, &quot;title&quot;];\n",
       "    let aliases = [&quot;id&quot;, &quot;mag&quot;, &quot;place&quot;, &quot;time&quot;, &quot;updated&quot;, &quot;tz&quot;, &quot;url&quot;, &quot;detail&quot;, &quot;felt&quot;, &quot;cdi&quot;, &quot;mmi&quot;, &quot;alert&quot;, &quot;status&quot;, &quot;tsunami&quot;, &quot;sig&quot;, &quot;net&quot;, &quot;code&quot;, &quot;ids&quot;, &quot;sources&quot;, &quot;types&quot;, &quot;nst&quot;, &quot;dmin&quot;, &quot;rms&quot;, &quot;gap&quot;, &quot;magType&quot;, &quot;type&quot;, &quot;title&quot;];\n",
       "    let table = &#x27;&lt;table&gt;&#x27; +\n",
       "        String(\n",
       "        fields.map(\n",
       "        (v,i)=&gt;\n",
       "        `&lt;tr&gt;\n",
       "            &lt;th&gt;${aliases[i]}&lt;/th&gt;\n",
       "            \n",
       "            &lt;td&gt;${handleObject(layer.feature.properties[v])}&lt;/td&gt;\n",
       "        &lt;/tr&gt;`).join(&#x27;&#x27;))\n",
       "    +&#x27;&lt;/table&gt;&#x27;;\n",
       "    div.innerHTML=table;\n",
       "    \n",
       "    return div\n",
       "    }\n",
       "    ,{&quot;className&quot;: &quot;foliumtooltip&quot;, &quot;sticky&quot;: true});\n",
       "                     \n",
       "&lt;/script&gt;\n",
       "&lt;/html&gt;\" style=\"position:absolute;width:100%;height:100%;left:0;top:0;border:none !important;\" allowfullscreen webkitallowfullscreen mozallowfullscreen></iframe></div></div>"
      ],
      "text/plain": [
       "<folium.folium.Map at 0x16a8e73a0>"
      ]
     },
     "execution_count": 7,
     "metadata": {},
     "output_type": "execute_result"
    }
   ],
   "source": [
    "earthquakes.explore()"
   ]
  },
  {
   "cell_type": "markdown",
   "metadata": {},
   "source": [
    "Lots of other automated feeds available, updated every minute:\n",
    "\n",
    "\n",
    "![](imgs/usgs-1.png){width=312}\n",
    "![](imgs/usgs-2.png){width=300}\n"
   ]
  },
  {
   "cell_type": "markdown",
   "metadata": {
    "slideshow": {
     "slide_type": "slide"
    }
   },
   "source": [
    "### Example #2: The CARTO API\n",
    "\n",
    "- Philadelphia hosts the majority of its open data on OpenDataPhilly in the cloud using CARTO\n",
    "- They provide an API to download the data\n",
    "- You can access the API documentation on the dataset page on OpenDataPhilly"
   ]
  },
  {
   "cell_type": "markdown",
   "metadata": {
    "slideshow": {
     "slide_type": "subslide"
    }
   },
   "source": [
    "For example: shooting victims in Philadelphia\n",
    "\n",
    "[https://www.opendataphilly.org/dataset/shooting-victims](https://www.opendataphilly.org/dataset/shooting-victims)\n",
    "\n",
    "and the API documentation:\n",
    "\n",
    "[https://cityofphiladelphia.github.io/carto-api-explorer/#shootings](https://cityofphiladelphia.github.io/carto-api-explorer/#shootings)"
   ]
  },
  {
   "cell_type": "markdown",
   "metadata": {},
   "source": [
    "Let's take a look at the download URL for the data in the GeoJSON format:\n",
    "\n",
    "![](imgs/shooting-victims-api.png){width=500}\n"
   ]
  },
  {
   "cell_type": "markdown",
   "metadata": {},
   "source": [
    "#### The anatomy of an API request\n",
    "\n",
    "![](imgs/carto-api.png){width=\"900\"}\n",
    "\n",
    "\n",
    "\n",
    "- **Base URL**: shown in blue\n",
    "- **?**: shown in purple; it separates the base URL from the query parameters\n",
    "- **Query parameters**: underlined in red; these parameters allow the user to customize the data response\n",
    "- **&**: underlined in green; the separator between the query parameters"
   ]
  },
  {
   "cell_type": "markdown",
   "metadata": {},
   "source": [
    "So, let's break down the URL into its component parts:"
   ]
  },
  {
   "cell_type": "code",
   "execution_count": 8,
   "metadata": {
    "tags": []
   },
   "outputs": [],
   "source": [
    "# The API endpoint\n",
    "carto_api_endpoint = \"https://phl.carto.com/api/v2/sql\"\n",
    "\n",
    "# The query parameters\n",
    "params = {\n",
    "    \"q\": \"SELECT *, ST_Y(the_geom) AS lat, ST_X(the_geom) AS lng FROM shootings\",\n",
    "    \"format\": \"geojson\",\n",
    "    \"skipfields\": \"cartodb_id\",\n",
    "    # Note: we won't need the filename parameter, since we're not saving the data to a file\n",
    "    # \"filename\": \"shootings\"\n",
    "}"
   ]
  },
  {
   "cell_type": "markdown",
   "metadata": {
    "slideshow": {
     "slide_type": "slide"
    }
   },
   "source": [
    "::: {.callout-note}\n",
    "### Note: SQL Queries\n",
    "\n",
    "The `q` parameter is a *SQL query*. It allows you to select a specific subset of data from the larger database.\n",
    "\n",
    "CARTO API documentation: [https://carto.com/developers/sql-api/](https://carto.com/developers/sql-api/)\n",
    "\n",
    "SQL documentation: [https://www.postgresql.org/docs/9.1/sql.html](https://www.postgresql.org/docs/9.1/sql.html)\n",
    "\n",
    "**General Query Syntax**\n",
    "\n",
    "`SELECT [field names] FROM [table name] WHERE [query]`\n",
    ":::"
   ]
  },
  {
   "cell_type": "markdown",
   "metadata": {
    "slideshow": {
     "slide_type": "slide"
    }
   },
   "source": [
    "#### Let's try it out in Python\n",
    "\n",
    "We'll use Python's `requests` library to use a \"get\" request to query the API endpoint with our desired query. Similar to our web scraping requests!"
   ]
  },
  {
   "cell_type": "code",
   "execution_count": 9,
   "metadata": {
    "tags": []
   },
   "outputs": [],
   "source": [
    "import requests"
   ]
  },
  {
   "cell_type": "markdown",
   "metadata": {},
   "source": [
    "Let's make the get request and pass the query parameters via the `params` keyword:"
   ]
  },
  {
   "cell_type": "code",
   "execution_count": 10,
   "metadata": {
    "tags": []
   },
   "outputs": [
    {
     "data": {
      "text/plain": [
       "<Response [200]>"
      ]
     },
     "execution_count": 10,
     "metadata": {},
     "output_type": "execute_result"
    }
   ],
   "source": [
    "response = requests.get(carto_api_endpoint, params=params)\n",
    "\n",
    "response"
   ]
  },
  {
   "cell_type": "code",
   "execution_count": 11,
   "metadata": {
    "slideshow": {
     "slide_type": "subslide"
    }
   },
   "outputs": [],
   "source": [
    "# Get the returned data in JSON format\n",
    "# This is a dictionary\n",
    "features = response.json()"
   ]
  },
  {
   "cell_type": "code",
   "execution_count": 12,
   "metadata": {},
   "outputs": [
    {
     "data": {
      "text/plain": [
       "dict"
      ]
     },
     "execution_count": 12,
     "metadata": {},
     "output_type": "execute_result"
    }
   ],
   "source": [
    "type(features)"
   ]
  },
  {
   "cell_type": "code",
   "execution_count": 13,
   "metadata": {
    "slideshow": {
     "slide_type": "subslide"
    }
   },
   "outputs": [
    {
     "data": {
      "text/plain": [
       "['type', 'features']"
      ]
     },
     "execution_count": 13,
     "metadata": {},
     "output_type": "execute_result"
    }
   ],
   "source": [
    "# What are the keys?\n",
    "list(features.keys())"
   ]
  },
  {
   "cell_type": "code",
   "execution_count": 14,
   "metadata": {
    "slideshow": {
     "slide_type": "subslide"
    }
   },
   "outputs": [
    {
     "data": {
      "text/plain": [
       "'FeatureCollection'"
      ]
     },
     "execution_count": 14,
     "metadata": {},
     "output_type": "execute_result"
    }
   ],
   "source": [
    "features['type']"
   ]
  },
  {
   "cell_type": "code",
   "execution_count": 15,
   "metadata": {
    "slideshow": {
     "slide_type": "subslide"
    }
   },
   "outputs": [
    {
     "data": {
      "text/plain": [
       "{'type': 'Feature',\n",
       " 'geometry': {'type': 'Point', 'coordinates': [-75.13101, 40.02566]},\n",
       " 'properties': {'objectid': 10783622,\n",
       "  'year': 2020,\n",
       "  'dc_key': '202035076243.0',\n",
       "  'code': '411',\n",
       "  'date_': '2020-09-16T00:00:00Z',\n",
       "  'time': '21:51:00',\n",
       "  'race': 'B',\n",
       "  'sex': 'M',\n",
       "  'age': '30',\n",
       "  'wound': 'Multiple/Head',\n",
       "  'officer_involved': 'N',\n",
       "  'offender_injured': 'N',\n",
       "  'offender_deceased': 'N',\n",
       "  'location': '4900 BLOCK N 4TH ST',\n",
       "  'latino': 0,\n",
       "  'point_x': -75.13100961,\n",
       "  'point_y': 40.02565991,\n",
       "  'dist': '35',\n",
       "  'inside': 0,\n",
       "  'outside': 1,\n",
       "  'fatal': 0,\n",
       "  'lat': 40.02565991,\n",
       "  'lng': -75.13100961}}"
      ]
     },
     "execution_count": 15,
     "metadata": {},
     "output_type": "execute_result"
    }
   ],
   "source": [
    "# Let's look at the first feature\n",
    "features['features'][0]"
   ]
  },
  {
   "cell_type": "markdown",
   "metadata": {
    "slideshow": {
     "slide_type": "subslide"
    }
   },
   "source": [
    "Use the `GeoDataFrame.from_features()` function to create a GeoDataFrame."
   ]
  },
  {
   "cell_type": "code",
   "execution_count": 16,
   "metadata": {
    "slideshow": {
     "slide_type": "subslide"
    }
   },
   "outputs": [],
   "source": [
    "shootings = gpd.GeoDataFrame.from_features(features, crs=\"EPSG:4326\")"
   ]
  },
  {
   "cell_type": "markdown",
   "metadata": {},
   "source": [
    "\n",
    "::: {.callout-important}\n",
    "Don't forget to specify the CRS of the input data when using `GeoDataFrame.from_features()`.\n",
    ":::"
   ]
  },
  {
   "cell_type": "code",
   "execution_count": 17,
   "metadata": {
    "slideshow": {
     "slide_type": "subslide"
    }
   },
   "outputs": [
    {
     "data": {
      "text/html": [
       "<div>\n",
       "<style scoped>\n",
       "    .dataframe tbody tr th:only-of-type {\n",
       "        vertical-align: middle;\n",
       "    }\n",
       "\n",
       "    .dataframe tbody tr th {\n",
       "        vertical-align: top;\n",
       "    }\n",
       "\n",
       "    .dataframe thead th {\n",
       "        text-align: right;\n",
       "    }\n",
       "</style>\n",
       "<table border=\"1\" class=\"dataframe\">\n",
       "  <thead>\n",
       "    <tr style=\"text-align: right;\">\n",
       "      <th></th>\n",
       "      <th>geometry</th>\n",
       "      <th>objectid</th>\n",
       "      <th>year</th>\n",
       "      <th>dc_key</th>\n",
       "      <th>code</th>\n",
       "      <th>date_</th>\n",
       "      <th>time</th>\n",
       "      <th>race</th>\n",
       "      <th>sex</th>\n",
       "      <th>age</th>\n",
       "      <th>wound</th>\n",
       "      <th>officer_involved</th>\n",
       "      <th>offender_injured</th>\n",
       "      <th>offender_deceased</th>\n",
       "      <th>location</th>\n",
       "      <th>latino</th>\n",
       "      <th>point_x</th>\n",
       "      <th>point_y</th>\n",
       "      <th>dist</th>\n",
       "      <th>inside</th>\n",
       "      <th>outside</th>\n",
       "      <th>fatal</th>\n",
       "      <th>lat</th>\n",
       "      <th>lng</th>\n",
       "    </tr>\n",
       "  </thead>\n",
       "  <tbody>\n",
       "    <tr>\n",
       "      <th>0</th>\n",
       "      <td>POINT (-75.13101 40.02566)</td>\n",
       "      <td>10783622</td>\n",
       "      <td>2020</td>\n",
       "      <td>202035076243.0</td>\n",
       "      <td>411</td>\n",
       "      <td>2020-09-16T00:00:00Z</td>\n",
       "      <td>21:51:00</td>\n",
       "      <td>B</td>\n",
       "      <td>M</td>\n",
       "      <td>30</td>\n",
       "      <td>Multiple/Head</td>\n",
       "      <td>N</td>\n",
       "      <td>N</td>\n",
       "      <td>N</td>\n",
       "      <td>4900 BLOCK N 4TH ST</td>\n",
       "      <td>0.0</td>\n",
       "      <td>-75.131010</td>\n",
       "      <td>40.025660</td>\n",
       "      <td>35</td>\n",
       "      <td>0.0</td>\n",
       "      <td>1.0</td>\n",
       "      <td>0.0</td>\n",
       "      <td>40.025660</td>\n",
       "      <td>-75.131010</td>\n",
       "    </tr>\n",
       "    <tr>\n",
       "      <th>1</th>\n",
       "      <td>POINT (-75.15440 40.05357)</td>\n",
       "      <td>10783623</td>\n",
       "      <td>2020</td>\n",
       "      <td>202035077376.0</td>\n",
       "      <td>411</td>\n",
       "      <td>2020-09-20T00:00:00Z</td>\n",
       "      <td>19:36:00</td>\n",
       "      <td>B</td>\n",
       "      <td>M</td>\n",
       "      <td>25</td>\n",
       "      <td>Stomach</td>\n",
       "      <td>N</td>\n",
       "      <td>N</td>\n",
       "      <td>N</td>\n",
       "      <td>6500 BLOCK N LAMBERT ST</td>\n",
       "      <td>0.0</td>\n",
       "      <td>-75.154402</td>\n",
       "      <td>40.053567</td>\n",
       "      <td>35</td>\n",
       "      <td>0.0</td>\n",
       "      <td>1.0</td>\n",
       "      <td>0.0</td>\n",
       "      <td>40.053567</td>\n",
       "      <td>-75.154402</td>\n",
       "    </tr>\n",
       "    <tr>\n",
       "      <th>2</th>\n",
       "      <td>POINT (-75.14464 40.03694)</td>\n",
       "      <td>10783624</td>\n",
       "      <td>2020</td>\n",
       "      <td>202035079085.0</td>\n",
       "      <td>411</td>\n",
       "      <td>2020-09-26T00:00:00Z</td>\n",
       "      <td>17:50:00</td>\n",
       "      <td>B</td>\n",
       "      <td>M</td>\n",
       "      <td>24</td>\n",
       "      <td>Back</td>\n",
       "      <td>N</td>\n",
       "      <td>N</td>\n",
       "      <td>N</td>\n",
       "      <td>5500 BLOCK OLD YORK RD</td>\n",
       "      <td>0.0</td>\n",
       "      <td>-75.144636</td>\n",
       "      <td>40.036944</td>\n",
       "      <td>35</td>\n",
       "      <td>0.0</td>\n",
       "      <td>1.0</td>\n",
       "      <td>0.0</td>\n",
       "      <td>40.036944</td>\n",
       "      <td>-75.144636</td>\n",
       "    </tr>\n",
       "    <tr>\n",
       "      <th>3</th>\n",
       "      <td>POINT (-75.15364 40.05130)</td>\n",
       "      <td>10783625</td>\n",
       "      <td>2020</td>\n",
       "      <td>202035069987.0</td>\n",
       "      <td>411</td>\n",
       "      <td>2020-08-26T00:00:00Z</td>\n",
       "      <td>21:03:00</td>\n",
       "      <td>B</td>\n",
       "      <td>M</td>\n",
       "      <td>18</td>\n",
       "      <td>Head</td>\n",
       "      <td>N</td>\n",
       "      <td>N</td>\n",
       "      <td>N</td>\n",
       "      <td>6300 BLOCK N WOODSTOCK ST</td>\n",
       "      <td>0.0</td>\n",
       "      <td>-75.153639</td>\n",
       "      <td>40.051295</td>\n",
       "      <td>35</td>\n",
       "      <td>1.0</td>\n",
       "      <td>0.0</td>\n",
       "      <td>0.0</td>\n",
       "      <td>40.051295</td>\n",
       "      <td>-75.153639</td>\n",
       "    </tr>\n",
       "    <tr>\n",
       "      <th>4</th>\n",
       "      <td>POINT (-75.15714 40.04330)</td>\n",
       "      <td>10783626</td>\n",
       "      <td>2020</td>\n",
       "      <td>202035076826.0</td>\n",
       "      <td>411</td>\n",
       "      <td>2020-09-18T00:00:00Z</td>\n",
       "      <td>20:19:00</td>\n",
       "      <td>B</td>\n",
       "      <td>M</td>\n",
       "      <td>42</td>\n",
       "      <td>Hip</td>\n",
       "      <td>N</td>\n",
       "      <td>N</td>\n",
       "      <td>N</td>\n",
       "      <td>2100 BLOCK W GRANGE ST</td>\n",
       "      <td>0.0</td>\n",
       "      <td>-75.157136</td>\n",
       "      <td>40.043303</td>\n",
       "      <td>35</td>\n",
       "      <td>0.0</td>\n",
       "      <td>1.0</td>\n",
       "      <td>0.0</td>\n",
       "      <td>40.043303</td>\n",
       "      <td>-75.157136</td>\n",
       "    </tr>\n",
       "  </tbody>\n",
       "</table>\n",
       "</div>"
      ],
      "text/plain": [
       "                     geometry  objectid  year          dc_key code  \\\n",
       "0  POINT (-75.13101 40.02566)  10783622  2020  202035076243.0  411   \n",
       "1  POINT (-75.15440 40.05357)  10783623  2020  202035077376.0  411   \n",
       "2  POINT (-75.14464 40.03694)  10783624  2020  202035079085.0  411   \n",
       "3  POINT (-75.15364 40.05130)  10783625  2020  202035069987.0  411   \n",
       "4  POINT (-75.15714 40.04330)  10783626  2020  202035076826.0  411   \n",
       "\n",
       "                  date_      time race sex age          wound  \\\n",
       "0  2020-09-16T00:00:00Z  21:51:00    B   M  30  Multiple/Head   \n",
       "1  2020-09-20T00:00:00Z  19:36:00    B   M  25        Stomach   \n",
       "2  2020-09-26T00:00:00Z  17:50:00    B   M  24           Back   \n",
       "3  2020-08-26T00:00:00Z  21:03:00    B   M  18           Head   \n",
       "4  2020-09-18T00:00:00Z  20:19:00    B   M  42            Hip   \n",
       "\n",
       "  officer_involved offender_injured offender_deceased  \\\n",
       "0                N                N                 N   \n",
       "1                N                N                 N   \n",
       "2                N                N                 N   \n",
       "3                N                N                 N   \n",
       "4                N                N                 N   \n",
       "\n",
       "                    location  latino    point_x    point_y dist  inside  \\\n",
       "0        4900 BLOCK N 4TH ST     0.0 -75.131010  40.025660   35     0.0   \n",
       "1    6500 BLOCK N LAMBERT ST     0.0 -75.154402  40.053567   35     0.0   \n",
       "2     5500 BLOCK OLD YORK RD     0.0 -75.144636  40.036944   35     0.0   \n",
       "3  6300 BLOCK N WOODSTOCK ST     0.0 -75.153639  40.051295   35     1.0   \n",
       "4     2100 BLOCK W GRANGE ST     0.0 -75.157136  40.043303   35     0.0   \n",
       "\n",
       "   outside  fatal        lat        lng  \n",
       "0      1.0    0.0  40.025660 -75.131010  \n",
       "1      1.0    0.0  40.053567 -75.154402  \n",
       "2      1.0    0.0  40.036944 -75.144636  \n",
       "3      0.0    0.0  40.051295 -75.153639  \n",
       "4      1.0    0.0  40.043303 -75.157136  "
      ]
     },
     "execution_count": 17,
     "metadata": {},
     "output_type": "execute_result"
    }
   ],
   "source": [
    "shootings.head()"
   ]
  },
  {
   "cell_type": "markdown",
   "metadata": {
    "jp-MarkdownHeadingCollapsed": true,
    "slideshow": {
     "slide_type": "subslide"
    },
    "tags": []
   },
   "source": [
    "#### At-Home Exercise: Visualizing shootings data"
   ]
  },
  {
   "cell_type": "markdown",
   "metadata": {
    "slideshow": {
     "slide_type": "slide"
    },
    "tags": []
   },
   "source": [
    "**Step 1: Prep the data**\n",
    "\n",
    "- Drop rows where the geometry is NaN\n",
    "- Convert to a better CRS (e.g., 3857)\n",
    "- Trim to those only within city limits (some shootings have wrong coordinates, outside Philadelphia!)"
   ]
  },
  {
   "cell_type": "code",
   "execution_count": 18,
   "metadata": {
    "slideshow": {
     "slide_type": "slide"
    }
   },
   "outputs": [],
   "source": [
    "# Load the city limits from open data philly\n",
    "city_limits = gpd.read_file(\n",
    "    \"https://opendata.arcgis.com/datasets/405ec3da942d4e20869d4e1449a2be48_0.geojson\"\n",
    ").to_crs(epsg=3857)"
   ]
  },
  {
   "cell_type": "code",
   "execution_count": 19,
   "metadata": {
    "slideshow": {
     "slide_type": "subslide"
    }
   },
   "outputs": [],
   "source": [
    "# make sure we remove missing geometries\n",
    "shootings = shootings.dropna(subset=['geometry'])\n",
    "\n",
    "# convert to a better CRS\n",
    "shootings = shootings.to_crs(epsg=3857)"
   ]
  },
  {
   "cell_type": "code",
   "execution_count": 20,
   "metadata": {
    "slideshow": {
     "slide_type": "subslide"
    }
   },
   "outputs": [],
   "source": [
    "# Remove any shootings that are outside the city limits\n",
    "shootings = gpd.sjoin(shootings, city_limits, predicate='within', how='inner').drop(columns=['index_right'])"
   ]
  },
  {
   "cell_type": "markdown",
   "metadata": {
    "slideshow": {
     "slide_type": "slide"
    },
    "tags": []
   },
   "source": [
    "**Step 2: Plot the points**\n",
    "\n",
    "A quick plot with geopandas to show the shootings as points"
   ]
  },
  {
   "cell_type": "code",
   "execution_count": 21,
   "metadata": {
    "slideshow": {
     "slide_type": "subslide"
    }
   },
   "outputs": [
    {
     "ename": "NameError",
     "evalue": "name 'zip_codes' is not defined",
     "output_type": "error",
     "traceback": [
      "\u001b[0;31m---------------------------------------------------------------------------\u001b[0m",
      "\u001b[0;31mNameError\u001b[0m                                 Traceback (most recent call last)",
      "Cell \u001b[0;32mIn[21], line 4\u001b[0m\n\u001b[1;32m      1\u001b[0m fig, ax \u001b[38;5;241m=\u001b[39m plt\u001b[38;5;241m.\u001b[39msubplots(figsize\u001b[38;5;241m=\u001b[39m(\u001b[38;5;241m6\u001b[39m, \u001b[38;5;241m6\u001b[39m))\n\u001b[1;32m      3\u001b[0m \u001b[38;5;66;03m# ZIP codes\u001b[39;00m\n\u001b[0;32m----> 4\u001b[0m \u001b[43mzip_codes\u001b[49m\u001b[38;5;241m.\u001b[39mto_crs(epsg\u001b[38;5;241m=\u001b[39m\u001b[38;5;241m3857\u001b[39m)\u001b[38;5;241m.\u001b[39mplot(ax\u001b[38;5;241m=\u001b[39max, facecolor\u001b[38;5;241m=\u001b[39m\u001b[38;5;124m\"\u001b[39m\u001b[38;5;124mnone\u001b[39m\u001b[38;5;124m\"\u001b[39m, edgecolor\u001b[38;5;241m=\u001b[39m\u001b[38;5;124m\"\u001b[39m\u001b[38;5;124mblack\u001b[39m\u001b[38;5;124m\"\u001b[39m)\n\u001b[1;32m      6\u001b[0m \u001b[38;5;66;03m# Shootings\u001b[39;00m\n\u001b[1;32m      7\u001b[0m shootings\u001b[38;5;241m.\u001b[39mplot(ax\u001b[38;5;241m=\u001b[39max, color\u001b[38;5;241m=\u001b[39m\u001b[38;5;124m\"\u001b[39m\u001b[38;5;124mcrimson\u001b[39m\u001b[38;5;124m\"\u001b[39m, markersize\u001b[38;5;241m=\u001b[39m\u001b[38;5;241m10\u001b[39m, alpha\u001b[38;5;241m=\u001b[39m\u001b[38;5;241m0.4\u001b[39m)\n",
      "\u001b[0;31mNameError\u001b[0m: name 'zip_codes' is not defined"
     ]
    },
    {
     "data": {
      "image/png": "[encoded data removed]",
      "text/plain": [
       "<Figure size 1200x1200 with 1 Axes>"
      ]
     },
     "metadata": {},
     "output_type": "display_data"
    }
   ],
   "source": [
    "fig, ax = plt.subplots(figsize=(6, 6))\n",
    "\n",
    "# ZIP codes\n",
    "zip_codes.to_crs(epsg=3857).plot(ax=ax, facecolor=\"none\", edgecolor=\"black\")\n",
    "\n",
    "# Shootings\n",
    "shootings.plot(ax=ax, color=\"crimson\", markersize=10, alpha=0.4)\n",
    "ax.set_axis_off()"
   ]
  },
  {
   "cell_type": "markdown",
   "metadata": {
    "slideshow": {
     "slide_type": "slide"
    },
    "tags": []
   },
   "source": [
    "**Step 3: Make a (more useful) hex bin map**"
   ]
  },
  {
   "cell_type": "code",
   "execution_count": null,
   "metadata": {
    "slideshow": {
     "slide_type": "subslide"
    }
   },
   "outputs": [],
   "source": [
    "# initialize the axes\n",
    "fig, ax = plt.subplots(figsize=(10, 10), facecolor=plt.get_cmap('viridis')(0))\n",
    "\n",
    "# convert to Web Mercator and plot the hexbins \n",
    "x = shootings.geometry.x\n",
    "y = shootings.geometry.y\n",
    "ax.hexbin(x, y, gridsize=40, mincnt=1, cmap='viridis')\n",
    "\n",
    "# overlay the ZIP codes\n",
    "zip_codes.to_crs(epsg=3857).plot(ax=ax, \n",
    "                                 facecolor='none', \n",
    "                                 linewidth=0.5,\n",
    "                                 edgecolor='white')\n",
    "\n",
    "ax.set_axis_off()"
   ]
  },
  {
   "cell_type": "markdown",
   "metadata": {
    "slideshow": {
     "slide_type": "slide"
    }
   },
   "source": [
    "#### Example: Count the total number of rows in a table\n",
    "\n",
    "The SQL `COUNT` function can be applied to count all rows."
   ]
  },
  {
   "cell_type": "code",
   "execution_count": null,
   "metadata": {
    "slideshow": {
     "slide_type": "fragment"
    }
   },
   "outputs": [],
   "source": [
    "response = requests.get(\n",
    "    carto_api_endpoint, params={\"q\": \"SELECT COUNT(*) FROM shootings\"}\n",
    ")"
   ]
  },
  {
   "cell_type": "code",
   "execution_count": null,
   "metadata": {
    "slideshow": {
     "slide_type": "subslide"
    }
   },
   "outputs": [],
   "source": [
    "response.json()"
   ]
  },
  {
   "cell_type": "markdown",
   "metadata": {
    "slideshow": {
     "slide_type": "subslide"
    }
   },
   "source": [
    "::: {.callout-tip}\n",
    "It's always a good idea to check how many rows you might be downloading before requesting all of the data from an API!\n",
    ":::"
   ]
  },
  {
   "cell_type": "markdown",
   "metadata": {
    "slideshow": {
     "slide_type": "slide"
    }
   },
   "source": [
    "#### Example: Select all columns, limiting the total number returned\n",
    "\n",
    "The `LIMIT` function limits the number of returned rows. It is very useful for taking a quick look at the format of a database."
   ]
  },
  {
   "cell_type": "code",
   "execution_count": null,
   "metadata": {
    "slideshow": {
     "slide_type": "subslide"
    }
   },
   "outputs": [],
   "source": [
    "# Limit the returned data to only 1 row\n",
    "query = \"SELECT * FROM shootings LIMIT 1\"\n",
    "\n",
    "# Make the request\n",
    "params = {\"q\": query, \"format\": \"geojson\"}\n",
    "response = requests.get(carto_api_endpoint, params=params)"
   ]
  },
  {
   "cell_type": "markdown",
   "metadata": {
    "slideshow": {
     "slide_type": "fragment"
    }
   },
   "source": [
    "Create the GeoDataFrame:"
   ]
  },
  {
   "cell_type": "code",
   "execution_count": null,
   "metadata": {
    "slideshow": {
     "slide_type": "subslide"
    }
   },
   "outputs": [],
   "source": [
    "df = gpd.GeoDataFrame.from_features(response.json(), crs=\"EPSG:4326\")\n",
    "\n",
    "df"
   ]
  },
  {
   "cell_type": "markdown",
   "metadata": {
    "slideshow": {
     "slide_type": "slide"
    }
   },
   "source": [
    "#### Example: Select by specific column values\n",
    "\n",
    "Use the `WHERE` function to select a subset where the logical condition is true."
   ]
  },
  {
   "cell_type": "markdown",
   "metadata": {
    "slideshow": {
     "slide_type": "subslide"
    }
   },
   "source": [
    "Example #1: Select nonfatal shootings only"
   ]
  },
  {
   "cell_type": "code",
   "execution_count": null,
   "metadata": {
    "tags": []
   },
   "outputs": [],
   "source": [
    "# Select nonfatal shootings only\n",
    "query = \"SELECT * FROM shootings WHERE fatal = 0\""
   ]
  },
  {
   "cell_type": "code",
   "execution_count": null,
   "metadata": {
    "slideshow": {
     "slide_type": "subslide"
    }
   },
   "outputs": [],
   "source": [
    "# Make the request\n",
    "params = {\"q\": query, \"format\": \"geojson\"}\n",
    "response = requests.get(carto_api_endpoint, params=params)\n",
    "\n",
    "# Make the GeoDataFrame\n",
    "nonfatal = gpd.GeoDataFrame.from_features(response.json(), crs=\"EPSG:4326\")\n",
    "\n",
    "# Print\n",
    "print(\"number of nonfatal shootings = \", len(nonfatal))"
   ]
  },
  {
   "cell_type": "markdown",
   "metadata": {
    "slideshow": {
     "slide_type": "slide"
    }
   },
   "source": [
    "Example #2: Select shootings in 2023"
   ]
  },
  {
   "cell_type": "code",
   "execution_count": null,
   "metadata": {
    "tags": []
   },
   "outputs": [],
   "source": [
    "# Select based on \"date_\"\n",
    "query = \"SELECT * FROM shootings WHERE date_ >= '1/1/23'\""
   ]
  },
  {
   "cell_type": "code",
   "execution_count": null,
   "metadata": {
    "slideshow": {
     "slide_type": "subslide"
    }
   },
   "outputs": [],
   "source": [
    "# Make the request\n",
    "params = {\"q\": query, \"format\": \"geojson\"}\n",
    "response = requests.get(carto_api_endpoint, params=params)\n",
    "\n",
    "# Make the GeoDataFrame\n",
    "shootings_2023 = gpd.GeoDataFrame.from_features(response.json(), crs=\"EPSG:4326\")\n",
    "\n",
    "# Print\n",
    "print(\"number of shootings in 2023 = \", len(shootings_2023))"
   ]
  },
  {
   "cell_type": "markdown",
   "metadata": {
    "jp-MarkdownHeadingCollapsed": true,
    "slideshow": {
     "slide_type": "slide"
    },
    "tags": []
   },
   "source": [
    "#### At-Home Exercise: Explore trends by month and day of week"
   ]
  },
  {
   "cell_type": "markdown",
   "metadata": {
    "slideshow": {
     "slide_type": "subslide"
    },
    "tags": []
   },
   "source": [
    "##### Step 1: Convert the date column to `DateTime` objects\n",
    "\n",
    "Add Month and Day of Week columns"
   ]
  },
  {
   "cell_type": "code",
   "execution_count": null,
   "metadata": {
    "slideshow": {
     "slide_type": "fragment"
    }
   },
   "outputs": [],
   "source": [
    "# Convert the data column to a datetime object\n",
    "shootings['date'] = pd.to_datetime(shootings['date_'])"
   ]
  },
  {
   "cell_type": "code",
   "execution_count": null,
   "metadata": {
    "slideshow": {
     "slide_type": "fragment"
    }
   },
   "outputs": [],
   "source": [
    "# Add new columns: Month and Day of Week\n",
    "shootings[\"Month\"] = shootings[\"date\"].dt.month\n",
    "shootings[\"Day of Week\"] = shootings[\"date\"].dt.dayofweek  # Monday is 0, Sunday is 6"
   ]
  },
  {
   "cell_type": "markdown",
   "metadata": {
    "slideshow": {
     "slide_type": "subslide"
    }
   },
   "source": [
    "##### Step 2: Calculate number of shootings by month and day of week\n",
    "\n",
    "Use the familiar Groupby --> size()"
   ]
  },
  {
   "cell_type": "code",
   "execution_count": null,
   "metadata": {
    "slideshow": {
     "slide_type": "fragment"
    }
   },
   "outputs": [],
   "source": [
    "count = shootings.groupby([\"Month\", \"Day of Week\"]).size()\n",
    "count = count.reset_index(name=\"Count\")\n",
    "count.head()"
   ]
  },
  {
   "cell_type": "markdown",
   "metadata": {
    "slideshow": {
     "slide_type": "subslide"
    }
   },
   "source": [
    "##### Step 3: Make a heatmap using `hvplot`"
   ]
  },
  {
   "cell_type": "code",
   "execution_count": null,
   "metadata": {
    "slideshow": {
     "slide_type": "subslide"
    },
    "tags": []
   },
   "outputs": [],
   "source": [
    "# Remember 0 is Monday and 6 is Sunday\n",
    "count.hvplot.heatmap(\n",
    "    x=\"Day of Week\",\n",
    "    y=\"Month\",\n",
    "    C=\"Count\",\n",
    "    cmap=\"viridis\",\n",
    "    width=400,\n",
    "    height=500,\n",
    "    flip_yaxis=True,\n",
    ")"
   ]
  },
  {
   "cell_type": "markdown",
   "metadata": {
    "slideshow": {
     "slide_type": "subslide"
    }
   },
   "source": [
    "**Trends:** more shootings on the weekends and in the summer months"
   ]
  },
  {
   "cell_type": "markdown",
   "metadata": {
    "slideshow": {
     "slide_type": "slide"
    }
   },
   "source": [
    "### Example #3: GeoServices\n",
    "\n",
    "A GeoService is a standardized format for returning GeoJSON files over the web\n",
    "\n",
    "Originally developed by Esri, in 2010 the specification was transferred to the Open Web Foundation.\n",
    "\n",
    "Documentation: [http://geoservices.github.io/](http://geoservices.github.io/)"
   ]
  },
  {
   "cell_type": "markdown",
   "metadata": {
    "slideshow": {
     "slide_type": "slide"
    }
   },
   "source": [
    "#### Example: Philadelphia neighborhoods\n",
    "\n",
    "OpenDataPhilly provides GeoService API endpoints for the geometry hosted on its platform\n",
    "\n",
    "[https://opendataphilly.org/datasets/philadelphia-neighborhoods/](https://opendataphilly.org/datasets/philadelphia-neighborhoods/)"
   ]
  },
  {
   "cell_type": "code",
   "execution_count": null,
   "metadata": {
    "slideshow": {
     "slide_type": "subslide"
    }
   },
   "outputs": [],
   "source": [
    "# The base URL for the neighborhoods layer\n",
    "neighborhood_url = \"https://services1.arcgis.com/a6oRSxEw6eIY5Zfb/arcgis/rest/services/Philadelphia_Neighborhoods/FeatureServer/0\""
   ]
  },
  {
   "cell_type": "markdown",
   "metadata": {},
   "source": [
    "![](imgs/geoservices-1.png){width=\"800\"}\n",
    "\n",
    "Source: [https://geoservices.github.io/resources.html](https://geoservices.github.io/resources.html)"
   ]
  },
  {
   "cell_type": "markdown",
   "metadata": {},
   "source": [
    "#### The `query/` endpoint\n",
    "\n",
    "Layers have a single endpoint for requesting features: the `/query` endpoint.\n"
   ]
  },
  {
   "cell_type": "code",
   "execution_count": null,
   "metadata": {
    "tags": []
   },
   "outputs": [],
   "source": [
    "neighborhood_query_endpoint = neighborhood_url + \"/query\""
   ]
  },
  {
   "cell_type": "markdown",
   "metadata": {},
   "source": [
    "#### The allowed parameters\n",
    "\n",
    "The main request parameters are:\n",
    "\n",
    "- `where`: A SQL-like string to select a subset of features; to get all data, use `1=1` (always True)\n",
    "- `outFields`: The list of columns to return; to get all, use `*`\n",
    "- `f`: The returned format; for GeoJSON, use \"geojson\"\n",
    "- `outSR`: The desired output CRS"
   ]
  },
  {
   "cell_type": "code",
   "execution_count": null,
   "metadata": {
    "tags": []
   },
   "outputs": [],
   "source": [
    "params = {\n",
    "    \"where\": \"1=1\",  # Give me all parameters\n",
    "    \"outFields\": \"*\",  # All fields\n",
    "    \"f\": \"geojson\",  # GeoJSON format\n",
    "    \"outSR\": \"4326\", # The desired output CRS\n",
    "}"
   ]
  },
  {
   "cell_type": "markdown",
   "metadata": {},
   "source": [
    "Make the request:"
   ]
  },
  {
   "cell_type": "code",
   "execution_count": null,
   "metadata": {
    "tags": []
   },
   "outputs": [],
   "source": [
    "r = requests.get(neighborhood_query_endpoint, params=params)"
   ]
  },
  {
   "cell_type": "markdown",
   "metadata": {},
   "source": [
    "Get the features and create the GeoDataFrame:"
   ]
  },
  {
   "cell_type": "code",
   "execution_count": null,
   "metadata": {
    "tags": []
   },
   "outputs": [],
   "source": [
    "json = r.json()\n",
    "\n",
    "features = json['features']"
   ]
  },
  {
   "cell_type": "code",
   "execution_count": null,
   "metadata": {
    "tags": []
   },
   "outputs": [],
   "source": [
    "hoods = gpd.GeoDataFrame.from_features(features, crs=\"EPSG:4326\")"
   ]
  },
  {
   "cell_type": "code",
   "execution_count": null,
   "metadata": {
    "tags": []
   },
   "outputs": [],
   "source": [
    "hoods"
   ]
  },
  {
   "cell_type": "markdown",
   "metadata": {},
   "source": [
    "Now let's select data just for East Falls and subset the returned columns:"
   ]
  },
  {
   "cell_type": "code",
   "execution_count": null,
   "metadata": {
    "tags": []
   },
   "outputs": [],
   "source": [
    "params = {\n",
    "    \"where\": \"LISTNAME = 'East Falls'\",\n",
    "    \"outFields\": [\"LISTNAME\"],\n",
    "    \"f\": \"geojson\",\n",
    "    \"outSR\": \"4326\",\n",
    "}\n",
    "\n",
    "r = requests.get(neighborhood_query_endpoint, params=params)"
   ]
  },
  {
   "cell_type": "code",
   "execution_count": null,
   "metadata": {
    "tags": []
   },
   "outputs": [],
   "source": [
    "east_falls = gpd.GeoDataFrame.from_features(r.json()[\"features\"], crs=\"EPSG:4326\")\n",
    "\n",
    "east_falls"
   ]
  },
  {
   "cell_type": "markdown",
   "metadata": {
    "slideshow": {
     "slide_type": "slide"
    }
   },
   "source": [
    "## Part 2: The Census API"
   ]
  },
  {
   "cell_type": "markdown",
   "metadata": {
    "slideshow": {
     "slide_type": "slide"
    }
   },
   "source": [
    "### US Census data is foundational\n",
    "\n",
    "- Rich data sets with annual releases\n",
    "- Decennial results plus American Community Survey (ACS) results\n",
    "- Wide range of topics covered: sex, income, poverty, education, housing"
   ]
  },
  {
   "cell_type": "markdown",
   "metadata": {
    "slideshow": {
     "slide_type": "slide"
    }
   },
   "source": [
    "### Getting census data (the old way)<br>American Factfinder\n",
    "\n",
    "<center>\n",
    "<a href=https://factfinder.census.gov><img src=\"imgs/census-1.png\" width=700></img></a>\n",
    "</center>"
   ]
  },
  {
   "cell_type": "markdown",
   "metadata": {
    "slideshow": {
     "slide_type": "slide"
    }
   },
   "source": [
    "### Getting census data (the new way)<br>census.data.gov\n",
    "\n",
    "<center>\n",
    "    <a href=https://data.census.gov/><img src=\"imgs/census-2.png\" width=700></img></a>\n",
    "</center>"
   ]
  },
  {
   "cell_type": "markdown",
   "metadata": {
    "slideshow": {
     "slide_type": "slide"
    }
   },
   "source": [
    "### Example: poverty data\n",
    "<center>\n",
    "    <a href=\"https://data.census.gov/table/ACSST1Y2021.S1701?q=poverty+status&g=010XX00US$0400000&tid=ACSST1Y2021.S1701\"><img src=\"imgs/poverty-1.png\" width=900></img></a>\n",
    "</center>"
   ]
  },
  {
   "cell_type": "markdown",
   "metadata": {
    "slideshow": {
     "slide_type": "slide"
    }
   },
   "source": [
    "#### Via the API\n",
    "\n",
    "[https://api.census.gov/data/2021/acs/acs1?get=NAME,B17001_002E&for=state:*](https://api.census.gov/data/2021/acs/acs1?get=NAME,B17001_002E&for=state:*)\n",
    "\n",
    "- **Base endpoint:** https://api.census.gov/data/2021/acs/acs1\n",
    "- **Request parameters:** \"get\", \"for\""
   ]
  },
  {
   "cell_type": "markdown",
   "metadata": {},
   "source": [
    "![](imgs/poverty-2.png)"
   ]
  },
  {
   "cell_type": "markdown",
   "metadata": {
    "slideshow": {
     "slide_type": "slide"
    }
   },
   "source": [
    "### How to find the right variable names?\n",
    "\n",
    "The census provides web-based documentation:\n",
    "\n",
    "- Overview of all data tables: [https://api.census.gov/data.html](https://api.census.gov/data.html)\n",
    "- All data tables for 2021: [https://api.census.gov/data/2021.html](https://api.census.gov/data/2021.html)\n",
    "- All variables for 2021 ACS 5-year data set: [https://api.census.gov/data/2021/acs/acs5/variables.html](https://api.census.gov/data/2021/acs/acs5/variables.html)"
   ]
  },
  {
   "cell_type": "markdown",
   "metadata": {
    "slideshow": {
     "slide_type": "subslide"
    }
   },
   "source": [
    "### A detailed Census API guide\n",
    "\n",
    "[https://www.census.gov/data/developers/guidance/api-user-guide.html](https://www.census.gov/data/developers/guidance/api-user-guide.html)"
   ]
  },
  {
   "cell_type": "markdown",
   "metadata": {
    "slideshow": {
     "slide_type": "slide"
    }
   },
   "source": [
    "### Accessing the API is easier from Python\n",
    "\n",
    "Several packages provide easier Python interfaces to census data based on the census API.\n",
    "\n",
    "We'll focus on **`cenpy` - \"Explore and download data from Census APIs\"**\n",
    " - [Documentation](https://cenpy-devs.github.io/cenpy/)\n",
    " - [GitHub](https://github.com/cenpy-devs/cenpy)"
   ]
  },
  {
   "cell_type": "markdown",
   "metadata": {},
   "source": [
    "### Example: the racial \"dot\" map\n",
    "\n",
    "![](imgs/racial-dot-map.png)\n",
    "\n",
    "Source: [Washington Post](https://www.washingtonpost.com/graphics/2018/national/segregation-us-cities/)"
   ]
  },
  {
   "cell_type": "markdown",
   "metadata": {
    "slideshow": {
     "slide_type": "subslide"
    }
   },
   "source": [
    "Let's make this for Philadelphia in Python!"
   ]
  },
  {
   "cell_type": "code",
   "execution_count": null,
   "metadata": {
    "slideshow": {
     "slide_type": "slide"
    }
   },
   "outputs": [],
   "source": [
    "# First step: import cenpy\n",
    "import cenpy"
   ]
  },
  {
   "cell_type": "markdown",
   "metadata": {
    "slideshow": {
     "slide_type": "slide"
    }
   },
   "source": [
    "#### The \"explorer\" module\n",
    "\n",
    "Functions to help you explore the Census API from Python\n",
    "\n",
    "- [`cenpy.explorer.available`](https://cenpy-devs.github.io/cenpy/generated/cenpy.explorer.available.html#cenpy.explorer.available): Returns information about available datasets in Census API\n",
    "- [`cenpy.explorer.explain`](https://cenpy-devs.github.io/cenpy/generated/cenpy.explorer.explain.html#cenpy.explorer.explain): Explain a specific Census dataset\n",
    "- [`cenpy.explorer.fips_table`](https://cenpy-devs.github.io/cenpy/generated/cenpy.explorer.fips_table.html#cenpy.explorer.fips_table): Get a table of FIPS codes for a specific geography"
   ]
  },
  {
   "cell_type": "markdown",
   "metadata": {},
   "source": [
    "**Note: we can change pandas display options to see all rows/columns and large cells**"
   ]
  },
  {
   "cell_type": "code",
   "execution_count": null,
   "metadata": {},
   "outputs": [],
   "source": [
    "# UNCOMMENT TO SEE ALL ROWS/COLUMNS IN DATAFRAMES\n",
    "# pd.options.display.max_rows = 9999 \n",
    "# pd.options.display.max_colwidth = 200"
   ]
  },
  {
   "cell_type": "markdown",
   "metadata": {
    "slideshow": {
     "slide_type": "slide"
    }
   },
   "source": [
    "#### Step 1: Identify what dataset we want\n",
    "\n",
    "- Today, we'll use the 5-year American Community Survey (latest available year: 2021)\n",
    "- Other common datasets: \n",
    "    - 1-year ACS datasets as well (latest available year: 2022)\n",
    "    - 10-year decennial survey (latest available year: 2020)"
   ]
  },
  {
   "cell_type": "code",
   "execution_count": null,
   "metadata": {
    "slideshow": {
     "slide_type": "slide"
    }
   },
   "outputs": [],
   "source": [
    "available = cenpy.explorer.available()\n",
    "\n",
    "available.head()"
   ]
  },
  {
   "cell_type": "markdown",
   "metadata": {
    "slideshow": {
     "slide_type": "slide"
    }
   },
   "source": [
    "We can use the pandas [`filter()`](https://pandas.pydata.org/pandas-docs/stable/reference/api/pandas.DataFrame.filter.html) to search for specific identifiers in the dataframe. \n",
    "\n",
    "In this case, let's search for the American Community Survey datasets. We'll match index labels using *regular expressions*. \n",
    "\n",
    "In particular, we'll search for labels that start with \"ACS\". In the language of regular expressions, we'll use the \"^\" to mean \"match labels that start with\"\n",
    "\n",
    "For more info on regular expressions, the [documentation for the re module](https://docs.python.org/3/library/re.html) is a good place to start."
   ]
  },
  {
   "cell_type": "code",
   "execution_count": null,
   "metadata": {
    "scrolled": true,
    "slideshow": {
     "slide_type": "subslide"
    }
   },
   "outputs": [],
   "source": [
    "# Return a dataframe of all datasets that start with \"ACS\"\n",
    "# Axis=0 means to filter the index labels!\n",
    "acs = available.filter(regex=\"^ACS\", axis=0)\n",
    "\n",
    "acs"
   ]
  },
  {
   "cell_type": "markdown",
   "metadata": {
    "slideshow": {
     "slide_type": "slide"
    }
   },
   "source": [
    "Many flavors of ACS datasets are available — we want to use the *detailed tables* version, specifically the 5-year survey. \n",
    "\n",
    "The relevant identifiers start with: \"ACSDT5Y\"."
   ]
  },
  {
   "cell_type": "code",
   "execution_count": null,
   "metadata": {
    "slideshow": {
     "slide_type": "subslide"
    }
   },
   "outputs": [],
   "source": [
    "# Return a dataframe of all datasets that start with \"ACSDT5Y\"\n",
    "available.filter(regex=\"^ACSDT5Y\", axis=0)"
   ]
  },
  {
   "cell_type": "markdown",
   "metadata": {
    "slideshow": {
     "slide_type": "slide"
    }
   },
   "source": [
    "Let's use the latest available 5-year data (2021). We can use the `explain()` function to print out a description of the dataset:"
   ]
  },
  {
   "cell_type": "code",
   "execution_count": null,
   "metadata": {
    "slideshow": {
     "slide_type": "slide"
    }
   },
   "outputs": [],
   "source": [
    "cenpy.explorer.explain(\"ACSDT5Y2021\")"
   ]
  },
  {
   "cell_type": "markdown",
   "metadata": {
    "slideshow": {
     "slide_type": "slide"
    }
   },
   "source": [
    "#### Step 2: Initialize the API connection\n",
    "\n",
    "Use the `cenpy.remote.APIConnection` object, and pass it the name of the dataset."
   ]
  },
  {
   "cell_type": "code",
   "execution_count": null,
   "metadata": {
    "slideshow": {
     "slide_type": "fragment"
    }
   },
   "outputs": [],
   "source": [
    "acs = cenpy.remote.APIConnection(\"ACSDT5Y2021\")"
   ]
  },
  {
   "cell_type": "markdown",
   "metadata": {
    "slideshow": {
     "slide_type": "slide"
    }
   },
   "source": [
    "#### Step 3: Find the variables we want to load\n",
    "\n",
    "The `.variables` attribute stores the available variables (across all Census tables). \n",
    "\n",
    "We can use the `varslike()` function to search the `variables` dataframe (it's just a simple wrapper around the pandas `filter()` function)."
   ]
  },
  {
   "cell_type": "code",
   "execution_count": null,
   "metadata": {
    "slideshow": {
     "slide_type": "subslide"
    }
   },
   "outputs": [],
   "source": [
    "len(acs.variables)"
   ]
  },
  {
   "cell_type": "code",
   "execution_count": null,
   "metadata": {
    "slideshow": {
     "slide_type": "subslide"
    }
   },
   "outputs": [],
   "source": [
    "acs.variables.head(n=10)"
   ]
  },
  {
   "cell_type": "markdown",
   "metadata": {
    "slideshow": {
     "slide_type": "slide"
    }
   },
   "source": [
    "We're interested in variables about hispanic origin broken down by race — let's see if we can find the variables where the \"Concept\" column starts with \"RACE\""
   ]
  },
  {
   "cell_type": "code",
   "execution_count": null,
   "metadata": {
    "slideshow": {
     "slide_type": "fragment"
    }
   },
   "outputs": [],
   "source": [
    "acs.varslike?"
   ]
  },
  {
   "cell_type": "code",
   "execution_count": null,
   "metadata": {
    "slideshow": {
     "slide_type": "subslide"
    }
   },
   "outputs": [],
   "source": [
    "race_matches = acs.varslike(\n",
    "    pattern=\"HISPANIC OR LATINO ORIGIN BY RACE\",\n",
    "    by=\"concept\",  # searches along concept column\n",
    ").sort_index()"
   ]
  },
  {
   "cell_type": "code",
   "execution_count": null,
   "metadata": {},
   "outputs": [],
   "source": [
    "race_matches"
   ]
  },
  {
   "cell_type": "markdown",
   "metadata": {
    "slideshow": {
     "slide_type": "slide"
    }
   },
   "source": [
    "It looks like the table we want is \"B03002\" — we can also easily filter for all variables in this table"
   ]
  },
  {
   "cell_type": "code",
   "execution_count": null,
   "metadata": {
    "slideshow": {
     "slide_type": "slide"
    }
   },
   "outputs": [],
   "source": [
    "variables = [\n",
    "    \"NAME\",\n",
    "    \"B03002_001E\", # Total\n",
    "    \"B03002_003E\", # Not Hispanic, White\n",
    "    \"B03002_004E\", # Not Hispanic, Black\n",
    "    \"B03002_005E\", # Not Hispanic, American Indian\n",
    "    \"B03002_006E\", # Not Hispanic, Asian\n",
    "    \"B03002_007E\", # Not Hispanic, Native Hawaiian\n",
    "    \"B03002_008E\", # Not Hispanic, Other\n",
    "    \"B03002_009E\", # Not Hispanic, Two or More Races\n",
    "    \"B03002_012E\", # Hispanic\n",
    "]"
   ]
  },
  {
   "cell_type": "markdown",
   "metadata": {
    "slideshow": {
     "slide_type": "fragment"
    }
   },
   "source": [
    "::: {.callout-note}\n",
    "We've also include the \"NAME\" variable which returns the name of the Census geography we are querying for.\n",
    ":::"
   ]
  },
  {
   "cell_type": "markdown",
   "metadata": {
    "slideshow": {
     "slide_type": "slide"
    }
   },
   "source": [
    "#### Step 4: Identify the geographies to use\n",
    "\n",
    "The Census API use heirarchy of geographies when requesting data.\n",
    "\n",
    "For example, you cannot just request data for a specific county — you need to specify the state *and* the county."
   ]
  },
  {
   "cell_type": "markdown",
   "metadata": {
    "slideshow": {
     "slide_type": "slide"
    }
   },
   "source": [
    "<img src=\"imgs/census-hierarchy.png\" width=700></img>"
   ]
  },
  {
   "cell_type": "markdown",
   "metadata": {
    "slideshow": {
     "slide_type": "slide"
    }
   },
   "source": [
    "**Common hierarchies**\n",
    "\n",
    "- State --> county\n",
    "- State --> place (e.g., cities)\n",
    "- State --> county --> tract\n",
    "- State --> county --> tract --> block group"
   ]
  },
  {
   "cell_type": "markdown",
   "metadata": {
    "slideshow": {
     "slide_type": "slide"
    }
   },
   "source": [
    "**Tip:** Use the `.geographies` attribute\n",
    "\n",
    "This allows you to see:\n",
    "\n",
    "1. What geographies are available for a specific dataset\n",
    "1. The other required geographies in the heirarchy"
   ]
  },
  {
   "cell_type": "code",
   "execution_count": null,
   "metadata": {
    "scrolled": true,
    "slideshow": {
     "slide_type": "slide"
    }
   },
   "outputs": [],
   "source": [
    "acs.geographies['fips']"
   ]
  },
  {
   "cell_type": "markdown",
   "metadata": {
    "slideshow": {
     "slide_type": "subslide"
    }
   },
   "source": [
    "For the racial dot map, we'll use the most granular available geography: block group.\n",
    "\n",
    "The hierarchy is: state --> county --> tract --> block group but we can use the `*` operator for tracts so we'll need to know the **FIPS codes for PA and Philadelphia County**"
   ]
  },
  {
   "cell_type": "code",
   "execution_count": null,
   "metadata": {
    "slideshow": {
     "slide_type": "subslide"
    }
   },
   "outputs": [],
   "source": [
    "counties = cenpy.explorer.fips_table(\"COUNTY\")\n",
    "counties.head()"
   ]
  },
  {
   "cell_type": "code",
   "execution_count": null,
   "metadata": {
    "slideshow": {
     "slide_type": "subslide"
    }
   },
   "outputs": [],
   "source": [
    "# Trim to just Philadelphia\n",
    "# Search for rows where name contains \"Philadelphia\"\n",
    "counties.loc[ counties[3].str.contains(\"Philadelphia\") ]"
   ]
  },
  {
   "cell_type": "markdown",
   "metadata": {
    "slideshow": {
     "slide_type": "subslide"
    }
   },
   "source": [
    "For Philadelphia County, the FIPS codes are:\n",
    "\n",
    "- Philadelphia County: \"101\" \n",
    "- PA: \"42\""
   ]
  },
  {
   "cell_type": "code",
   "execution_count": null,
   "metadata": {
    "slideshow": {
     "slide_type": "fragment"
    }
   },
   "outputs": [],
   "source": [
    "philly_county_code = \"101\"\n",
    "pa_state_code = \"42\""
   ]
  },
  {
   "cell_type": "markdown",
   "metadata": {
    "slideshow": {
     "slide_type": "subslide"
    }
   },
   "source": [
    "You can also look up FIPS codes on Google! Wikipedia is usually a trustworthy source..."
   ]
  },
  {
   "cell_type": "markdown",
   "metadata": {
    "slideshow": {
     "slide_type": "subslide"
    }
   },
   "source": [
    "#### Step 5: Build the query (finally)\n",
    "\n",
    "We'll use the `.query()` function, which takes the following arguments:\n",
    "\n",
    "1. `cols` - the list of variables desired from the dataset\n",
    "1. `geo_unit` - string denoting the smallest geographic unit; syntax is \"name:FIPS\"\n",
    "1. `geo_filter` - dictionary containing groupings of geo_units, if required by the hierarchy\n"
   ]
  },
  {
   "cell_type": "code",
   "execution_count": null,
   "metadata": {
    "slideshow": {
     "slide_type": "subslide"
    }
   },
   "outputs": [],
   "source": [
    "philly_demo_data = acs.query(\n",
    "    cols=variables,\n",
    "    geo_unit=\"block group:*\",\n",
    "    geo_filter={\"state\": pa_state_code, \"county\": philly_county_code, \"tract\": \"*\"},\n",
    ")\n",
    "\n",
    "\n",
    "philly_demo_data.head()"
   ]
  },
  {
   "cell_type": "code",
   "execution_count": null,
   "metadata": {},
   "outputs": [],
   "source": [
    "len(philly_demo_data)"
   ]
  },
  {
   "cell_type": "markdown",
   "metadata": {
    "slideshow": {
     "slide_type": "slide"
    }
   },
   "source": [
    "**Important:** data is returned as strings rather than numeric values"
   ]
  },
  {
   "cell_type": "code",
   "execution_count": null,
   "metadata": {
    "slideshow": {
     "slide_type": "fragment"
    }
   },
   "outputs": [],
   "source": [
    "for variable in variables:\n",
    "    # Convert all variables EXCEPT for NAME\n",
    "    if variable != \"NAME\":\n",
    "        philly_demo_data[variable] = philly_demo_data[variable].astype(float)"
   ]
  },
  {
   "cell_type": "markdown",
   "metadata": {
    "slideshow": {
     "slide_type": "slide"
    }
   },
   "source": [
    "**What if we mess up the geographic hierarchy?**\n",
    "\n",
    "If you forget to include required parts of the geography heirarchy, you'll get an error!"
   ]
  },
  {
   "cell_type": "code",
   "execution_count": null,
   "metadata": {
    "scrolled": true,
    "slideshow": {
     "slide_type": "subslide"
    }
   },
   "outputs": [],
   "source": [
    "acs.query(\n",
    "    cols=variables,\n",
    "    geo_unit=\"block group:*\",\n",
    "    geo_filter={\"state\": pa_state_code},\n",
    ")"
   ]
  },
  {
   "cell_type": "markdown",
   "metadata": {
    "slideshow": {
     "slide_type": "slide"
    }
   },
   "source": [
    "#### Step 6: We need the block group geometries too!\n",
    "\n",
    "Use the [`pygris` package](https://walker-data.com/pygris/) to download geometries. It's a port of the R package `tigris` to Python!"
   ]
  },
  {
   "cell_type": "code",
   "execution_count": null,
   "metadata": {},
   "outputs": [],
   "source": [
    "import pygris"
   ]
  },
  {
   "cell_type": "markdown",
   "metadata": {},
   "source": [
    "There's a function to return each of the main Census geographies. We'll use the `block_groups()` function."
   ]
  },
  {
   "cell_type": "code",
   "execution_count": null,
   "metadata": {
    "tags": []
   },
   "outputs": [],
   "source": [
    "pygris.block_groups?"
   ]
  },
  {
   "cell_type": "code",
   "execution_count": null,
   "metadata": {
    "tags": []
   },
   "outputs": [],
   "source": [
    "philly_block_groups = pygris.block_groups(\n",
    "    state=pa_state_code, county=philly_county_code, year=2021\n",
    ")"
   ]
  },
  {
   "cell_type": "code",
   "execution_count": null,
   "metadata": {
    "tags": []
   },
   "outputs": [],
   "source": [
    "philly_block_groups.head()"
   ]
  },
  {
   "cell_type": "code",
   "execution_count": null,
   "metadata": {},
   "outputs": [],
   "source": [
    "len(philly_block_groups)"
   ]
  },
  {
   "cell_type": "markdown",
   "metadata": {
    "slideshow": {
     "slide_type": "slide"
    }
   },
   "source": [
    "#### Step 7: Merge the demographic data with geometries\n",
    "\n",
    "Merge based on multiple columns: state, county, tract, and block group IDs.\n",
    "\n",
    "The relevant columns are: \n",
    "\n",
    "- \"STATEFP\", \"COUNTYFP\", \"TRACTCE\", \"BLKGRCE\" in the spatial data\n",
    "- \"state\", \"county\", \"tract\", \"block group\" in the non-spatial data"
   ]
  },
  {
   "cell_type": "code",
   "execution_count": null,
   "metadata": {
    "slideshow": {
     "slide_type": "subslide"
    }
   },
   "outputs": [],
   "source": [
    "philly_demo_final = philly_block_groups.merge(\n",
    "    philly_demo_data,\n",
    "    left_on=[\"STATEFP\", \"COUNTYFP\", \"TRACTCE\", \"BLKGRPCE\"],\n",
    "    right_on=[\"state\", \"county\", \"tract\", \"block group\"],\n",
    ")"
   ]
  },
  {
   "cell_type": "code",
   "execution_count": null,
   "metadata": {
    "slideshow": {
     "slide_type": "subslide"
    }
   },
   "outputs": [],
   "source": [
    "philly_demo_final.head()"
   ]
  },
  {
   "cell_type": "markdown",
   "metadata": {
    "slideshow": {
     "slide_type": "slide"
    }
   },
   "source": [
    "**We're done! Plot it to make sure it makes sense**\n",
    "\n",
    "Plot the total population using `geopandas.explore()`..."
   ]
  },
  {
   "cell_type": "code",
   "execution_count": null,
   "metadata": {
    "slideshow": {
     "slide_type": "subslide"
    }
   },
   "outputs": [],
   "source": [
    "philly_demo_final.explore(column=\"B03002_001E\", tiles=\"CartoDB positron\")"
   ]
  },
  {
   "cell_type": "markdown",
   "metadata": {
    "slideshow": {
     "slide_type": "slide"
    }
   },
   "source": [
    "#### Now let's prep the data for the dot map\n",
    "\n",
    "1. Rename columns to more user-friendly versions\n",
    "1. Add a general \"Other\" category"
   ]
  },
  {
   "cell_type": "code",
   "execution_count": null,
   "metadata": {
    "slideshow": {
     "slide_type": "slide"
    }
   },
   "outputs": [],
   "source": [
    "# Rename columns\n",
    "philly_demo_final = philly_demo_final.rename(\n",
    "    columns={\n",
    "        \"B03002_001E\": \"Total\",  # Total\n",
    "        \"B03002_003E\": \"White\",  # Not Hispanic, White\n",
    "        \"B03002_004E\": \"Black\",  # Not Hispanic, Black\n",
    "        \"B03002_005E\": \"AI/AN\",  # Not Hispanic, American Indian\n",
    "        \"B03002_006E\": \"Asian\",  # Not Hispanic, Asian\n",
    "        \"B03002_007E\": \"NH/PI\",  # Not Hispanic, Native Hawaiian\n",
    "        \"B03002_008E\": \"Other_\",  # Not Hispanic, Other\n",
    "        \"B03002_009E\": \"Two Plus\",  # Not Hispanic, Two or More Races\n",
    "        \"B03002_012E\": \"Hispanic\",  # Hispanic\n",
    "    }\n",
    ")"
   ]
  },
  {
   "cell_type": "code",
   "execution_count": null,
   "metadata": {
    "slideshow": {
     "slide_type": "fragment"
    }
   },
   "outputs": [],
   "source": [
    "# Add an \"Other\" column \n",
    "cols = ['AI/AN', 'NH/PI','Other_', 'Two Plus']\n",
    "philly_demo_final['Other'] = philly_demo_final[cols].sum(axis=1)"
   ]
  },
  {
   "cell_type": "markdown",
   "metadata": {
    "slideshow": {
     "slide_type": "slide"
    }
   },
   "source": [
    "#### Define a function to create random points\n",
    "\n",
    "Given a polygon, create randomly distributed points that fall within the polygon."
   ]
  },
  {
   "cell_type": "code",
   "execution_count": null,
   "metadata": {
    "slideshow": {
     "slide_type": "subslide"
    }
   },
   "outputs": [],
   "source": [
    "def random_points_in_polygon(number, polygon):\n",
    "    \"\"\"\n",
    "    Generate a random number of points within the \n",
    "    specified polygon.\n",
    "    \"\"\"\n",
    "    points = []\n",
    "    min_x, min_y, max_x, max_y = polygon.bounds\n",
    "    i= 0\n",
    "    while i < number:\n",
    "        point = Point(np.random.uniform(min_x, max_x), np.random.uniform(min_y, max_y))\n",
    "        if polygon.contains(point):\n",
    "            points.append(point)\n",
    "            i += 1\n",
    "    return points"
   ]
  },
  {
   "cell_type": "markdown",
   "metadata": {
    "slideshow": {
     "slide_type": "slide"
    }
   },
   "source": [
    "**Random points example**"
   ]
  },
  {
   "cell_type": "code",
   "execution_count": null,
   "metadata": {
    "slideshow": {
     "slide_type": "subslide"
    }
   },
   "outputs": [],
   "source": [
    "# get the first block group polygon in the data set\n",
    "geo = philly_demo_final.iloc[0].geometry\n",
    "\n",
    "geo"
   ]
  },
  {
   "cell_type": "code",
   "execution_count": null,
   "metadata": {
    "slideshow": {
     "slide_type": "subslide"
    }
   },
   "outputs": [],
   "source": [
    "fig, ax = plt.subplots(figsize=(6, 6))\n",
    "\n",
    "# Generate some random points\n",
    "random_points = random_points_in_polygon(100, geo)\n",
    "\n",
    "# Plot random points\n",
    "gpd.GeoSeries(random_points).plot(ax=ax, markersize=20, color=\"red\")\n",
    "\n",
    "# Plot boundary of block group\n",
    "gpd.GeoSeries([geo]).plot(ax=ax, facecolor=\"none\", edgecolor=\"black\")\n",
    "\n",
    "ax.set_axis_off()"
   ]
  },
  {
   "cell_type": "code",
   "execution_count": null,
   "metadata": {
    "slideshow": {
     "slide_type": "subslide"
    }
   },
   "outputs": [],
   "source": [
    "def generate_dot_map(data, people_per_dot):\n",
    "    \"\"\"\n",
    "    Given a GeoDataFrame with demographic columns, generate a dot \n",
    "    map according to the population in each geometry.\n",
    "    \"\"\"\n",
    "    results = []\n",
    "    for field in [\"White\", \"Hispanic\", \"Black\", \"Asian\", \"Other\"]:\n",
    "\n",
    "        # generate random points\n",
    "        pts = data.apply(\n",
    "            lambda row: random_points_in_polygon(\n",
    "                row[field] / people_per_dot, row[\"geometry\"]\n",
    "            ),\n",
    "            axis=1,\n",
    "        )\n",
    "\n",
    "        # combine into single GeoSeries\n",
    "        pts = gpd.GeoSeries(pts.apply(pd.Series).stack(), dtype=object, crs=data[\"geometry\"].crs)\n",
    "        pts.name = \"geometry\"\n",
    "\n",
    "        # make into a GeoDataFrame\n",
    "        pts = gpd.GeoDataFrame(pts)\n",
    "        pts[\"field\"] = field\n",
    "\n",
    "        # save\n",
    "        results.append(pts)\n",
    "\n",
    "    return gpd.GeoDataFrame(pd.concat(results), crs=data[\"geometry\"].crs).reset_index(\n",
    "        drop=True\n",
    "    )"
   ]
  },
  {
   "cell_type": "markdown",
   "metadata": {
    "slideshow": {
     "slide_type": "slide"
    }
   },
   "source": [
    "#### Calculate the dot map"
   ]
  },
  {
   "cell_type": "code",
   "execution_count": null,
   "metadata": {
    "slideshow": {
     "slide_type": "fragment"
    }
   },
   "outputs": [],
   "source": [
    "dot_map = generate_dot_map(philly_demo_final, people_per_dot=50)"
   ]
  },
  {
   "cell_type": "code",
   "execution_count": null,
   "metadata": {
    "slideshow": {
     "slide_type": "subslide"
    }
   },
   "outputs": [],
   "source": [
    "print(\"number of points = \", len(dot_map))"
   ]
  },
  {
   "cell_type": "code",
   "execution_count": null,
   "metadata": {
    "slideshow": {
     "slide_type": "subslide"
    }
   },
   "outputs": [],
   "source": [
    "dot_map.tail()"
   ]
  },
  {
   "cell_type": "markdown",
   "metadata": {
    "slideshow": {
     "slide_type": "slide"
    }
   },
   "source": [
    "#### Now let's plot it"
   ]
  },
  {
   "cell_type": "code",
   "execution_count": null,
   "metadata": {
    "slideshow": {
     "slide_type": "slide"
    }
   },
   "outputs": [],
   "source": [
    "# setup a custom color map from ColorBrewer\n",
    "from matplotlib.colors import ListedColormap\n",
    "\n",
    "\n",
    "colors = {\n",
    "    \"Black\": \"steelblue\",\n",
    "    \"White\": \"tomato\",\n",
    "    \"Hispanic\": \"khaki\",\n",
    "    \"Asian\": \"palegreen\",\n",
    "    \"Other\": \"darkgray\",\n",
    "}\n",
    "\n",
    "cmap = ListedColormap([t[1] for t in sorted(colors.items())])"
   ]
  },
  {
   "cell_type": "code",
   "execution_count": null,
   "metadata": {
    "slideshow": {
     "slide_type": "slide"
    }
   },
   "outputs": [],
   "source": [
    "# Convert to 3857\n",
    "dot_map_3857 = dot_map.to_crs(epsg=3857)"
   ]
  },
  {
   "cell_type": "code",
   "execution_count": null,
   "metadata": {
    "slideshow": {
     "slide_type": "subslide"
    }
   },
   "outputs": [],
   "source": [
    "# Initialize the figure and axes\n",
    "fig, ax = plt.subplots(figsize=(10, 10), facecolor=\"#2a2a2a\")\n",
    "\n",
    "# Plot\n",
    "dot_map_3857.plot(\n",
    "    ax=ax,\n",
    "    column=\"field\",\n",
    "    categorical=True,\n",
    "    legend=True,\n",
    "    alpha=1,\n",
    "    markersize=0.5,\n",
    "    cmap=cmap,\n",
    "    legend_kwds=dict(labelcolor=\"white\"),\n",
    ")\n",
    "\n",
    "# format\n",
    "ax.set_title(\"Philadelphia, PA\", fontsize=16, color=\"white\")\n",
    "ax.text(\n",
    "    0.5,\n",
    "    0.95,\n",
    "    \"1 dot = 50 people\",\n",
    "    fontsize=12,\n",
    "    transform=ax.transAxes,\n",
    "    ha=\"center\",\n",
    "    color=\"white\",\n",
    ")\n",
    "ax.set_axis_off()"
   ]
  },
  {
   "cell_type": "markdown",
   "metadata": {},
   "source": [
    "## That's it\n",
    "\n",
    "To be continued on Wednesday!"
   ]
  },
  {
   "cell_type": "code",
   "execution_count": null,
   "metadata": {},
   "outputs": [],
   "source": []
  }
 ],
 "metadata": {
  "celltoolbar": "Slideshow",
  "kernelspec": {
   "display_name": "Python 3 (ipykernel)",
   "language": "python",
   "name": "python3"
  },
  "language_info": {
   "codemirror_mode": {
    "name": "ipython",
    "version": 3
   },
   "file_extension": ".py",
   "mimetype": "text/x-python",
   "name": "python",
   "nbconvert_exporter": "python",
   "pygments_lexer": "ipython3",
   "version": "3.10.12"
  },
  "toc-autonumbering": false,
  "toc-showcode": false,
  "toc-showtags": false
 },
 "nbformat": 4,
 "nbformat_minor": 4
}
