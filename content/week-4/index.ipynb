{
  "cells": [
    {
      "cell_type": "raw",
      "metadata": {},
      "source": [
        "---\n",
        "title: \"Week 4: Geospatial Analysis & Mapping\"\n",
        "execute: \n",
        "  echo: false\n",
        "---"
      ],
      "id": "78cb294d"
    },
    {
      "cell_type": "raw",
      "metadata": {},
      "source": [
        "---\n",
        "execute: \n",
        "  echo: false\n",
        "---"
      ],
      "id": "368ce257"
    },
    {
      "cell_type": "code",
      "metadata": {},
      "source": [
        "import sys\n",
        "from pyprojroot.here import here\n",
        "from IPython import get_ipython\n",
        "\n",
        "# Add python folder to path\n",
        "root_dir = here()\n",
        "sys.path.insert(1, str(root_dir / \"python\"))\n",
        "import content\n",
        "\n",
        "\n",
        "# Get week info for rendered page from folder\n",
        "ip = get_ipython()\n",
        "path = ip.starting_dir\n",
        "slug = path.split(\"/\")[-1]  # Should be week-X\n",
        "\n",
        "# Create the header HTML\n",
        "table = content.create_header(slug)\n",
        "table"
      ],
      "id": "b5803405",
      "execution_count": null,
      "outputs": []
    },
    {
      "cell_type": "markdown",
      "metadata": {},
      "source": [
        "## Topics\n",
        "\n",
        "- Visualizing geospatial data\n",
        "- Interactive web maps with Folium\n",
        "\n",
        "## Readings\n",
        "\n",
        "- [GeoPandas](http://geopandas.org/)\n",
        "  - [Choropleth Maps](https://geopandas.org/en/latest/docs/user_guide/mapping.html)\n",
        "  - [Classification Schemes](https://pysal.org/mapclassify/api.html)\n",
        "- [Folium ](https://python-visualization.github.io/folium/index.html)\n",
        "\n",
        "## References\n",
        "\n",
        "- [HoloViews user guide](http://holoviews.org/user_guide/index.html) and [gallery](http://holoviews.org/gallery/index.html)\n",
        "- [GeoViews user guide](http://geoviews.org/user_guide/index.html) and [gallery](http://geoviews.org/gallery/index.html)\n",
        "- [Folium user guide](https://python-visualization.github.io/folium/latest/user_guide.html)"
      ],
      "id": "952617db"
    }
  ],
  "metadata": {
    "kernelspec": {
      "name": "python3",
      "language": "python",
      "display_name": "Python 3"
    }
  },
  "nbformat": 4,
  "nbformat_minor": 5
}