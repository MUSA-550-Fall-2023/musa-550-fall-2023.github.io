{
 "cells": [
  {
   "cell_type": "markdown",
   "metadata": {
    "hide_input": true,
    "slideshow": {
     "slide_type": "slide"
    },
    "tags": []
   },
   "source": [
    "# Welcome to MUSA 550:<br>Geospatial Data Science in Python\n",
    "\n",
    "- Section 401\n",
    "- Aug. 30, 2023"
   ]
  },
  {
   "cell_type": "markdown",
   "metadata": {
    "slideshow": {
     "slide_type": "subslide"
    }
   },
   "source": [
    "## Today\n",
    "\n",
    "- Course logistics\n",
    "- Using Jupyter Notebooks and Jupyter Lab\n",
    "- Introduction to Python & Pandas"
   ]
  },
  {
   "cell_type": "markdown",
   "metadata": {},
   "source": [
    "## Who am I?"
   ]
  },
  {
   "cell_type": "markdown",
   "metadata": {
    "slideshow": {
     "slide_type": "slide"
    }
   },
   "source": [
    "\n",
    "\n",
    "### My day job\n",
    "\n",
    "* My name is Nick Hand\n",
    "* For the past 5+ years, I have led a small data science team in the City Controller's Office\n",
    "* What did we do?: \n",
    "    - Objective, data-driven analysis of financial policies impacting Philadelphia \n",
    "    - Increasing transparency through data releases and interactive reports\n",
    "* In two weeks, I start as a data scientist working at the Consumer Finance Protection Bureau in the federal government\n",
    "    "
   ]
  },
  {
   "cell_type": "markdown",
   "metadata": {
    "slideshow": {
     "slide_type": "subslide"
    }
   },
   "source": [
    "In my time at the Controller's Office, we covered a range of policy issues in the city:\n",
    "\n",
    "- [Analysis of the fairness and accuracy of property assessments](https://controller.phila.gov/philadelphia-audits/property-assessment-review/)\n",
    "- [Interactive reports for the City's cash levels](https://controller.phila.gov/philadelphia-audits/cash-report-fiscal-year-2022-q3/)\n",
    "- [Analysis of the 10-Year Tax Abatement program](https://controller.phila.gov/philadelphia-audits/an-analysis-of-tax-abatements-in-philadelphia/)\n",
    "- [Interactive dashboard of Soda Tax spending](https://controller.phila.gov/philadelphia-audits/data-release-beverage-tax/)\n",
    "- [Visualization of paving & potholes](https://controller.phila.gov/philadelphia-audits/data-release-paving-and-potholes/)\n",
    "- [Series on the impact of COVID-19 on Philadelphia's small businesses and neighborhoods](https://controller.phila.gov/philadelphia-audits/the-impact-of-covid-19-across-philadelphias-neighborhoods/)\n",
    "- [Visualization of the City's most recent budget](https://controller.phila.gov/philadelphia-audits/the-adopted-fy24-budget)\n",
    "- [Interactive report on redlining in Philadelphia](https://controller.phila.gov/philadelphia-audits/mapping-the-legacy-of-structural-racism-in-philadelphia/)\n",
    "- [Analysis of the impact of gun violence on housing prices](https://controller.phila.gov/philadelphia-audits/economic-impact-of-homicides/)\n",
    "- [Interactive dashboard of shooting victims in Philadelphia](https://controller.phila.gov/philadelphia-audits/mapping-gun-violence/#/)\n",
    "- [Interactive dashboard of neighborhood well-being](https://controller.phila.gov/philadelphia-audits/progressphl)\n"
   ]
  },
  {
   "cell_type": "markdown",
   "metadata": {},
   "source": [
    "![](imgs/phila-controller-homepage.png)\n",
    "\n",
    "::: {.callout-note}\n",
    "To see more of our work, check out: [https://controller.phila.gov/policy-analysis](https://controller.phila.gov/policy-analysis)\n",
    ":::"
   ]
  },
  {
   "cell_type": "markdown",
   "metadata": {},
   "source": [
    "### Previously:<br>Astrophysics Ph.D. at Berkeley\n",
    "\n",
    "\n",
    "![](imgs/uc-berkeley.jpg){width=600 fig-align=\"center\"}"
   ]
  },
  {
   "cell_type": "markdown",
   "metadata": {
    "slideshow": {
     "slide_type": "slide"
    }
   },
   "source": [
    "### How did I get here?\n",
    "\n",
    "* Astrophysics/physics to data science is becoming increasingly common\n",
    "* Landed a job through Twitter: [https://www.parkingjawn.com](https://www.parkingjawn.com)\n",
    "    * Dashboard visualization of monthly parking tickets in Philadelphia\n",
    "    * Data from [OpenDataPhilly](https://opendataphilly.org/datasets/parking-violations/)"
   ]
  },
  {
   "cell_type": "markdown",
   "metadata": {
    "slideshow": {
     "slide_type": "notes"
    }
   },
   "source": [
    "![](imgs/parking-jawn.png)\n",
    "\n",
    "A nice example of how exploratory analysis + a well-designed dashbord can lead to insights:\n",
    "- The power of cross-filtering: different views of the same data across multiple dimensions\n",
    "- See drop in parking tickets over Jan 24-26, 2016 due to snowstorm\n",
    "\n",
    "\n",
    "Parking Jawn is not Python based, but dovetails nicely with one of the **main goals of the course:**\n",
    "> How can we effectively explore and extract insight from complex datasets?"
   ]
  },
  {
   "cell_type": "markdown",
   "metadata": {
    "slideshow": {
     "slide_type": "slide"
    }
   },
   "source": [
    "## Course logistics"
   ]
  },
  {
   "cell_type": "markdown",
   "metadata": {
    "slideshow": {
     "slide_type": "slide"
    }
   },
   "source": [
    "### General Info\n",
    "\n",
    "* Two 90-minute lectures per week — mix of lecturing, interactive demos, and in-class lab time\n",
    "* My email: [nhand@design.upenn.edu](mailto:nhand@design.upenn.edu)\n",
    "  - Office Hours: \n",
    "    - 2-hours during the week\n",
    "    - Office hours will be by appointment and remote via Zoom. You will be able to sign up for 1 (or more) 15-minute time slot via the Canvas calendar. \n",
    "    - Time is to be determined\n",
    "* Teaching Assistant: Teresa Chang\n",
    "    - Email: [thchang@design.upenn.edu](mailto:thchang@design.upenn.edu)\n",
    "    - Office hours: TBD"
   ]
  },
  {
   "cell_type": "markdown",
   "metadata": {
    "slideshow": {
     "slide_type": "slide"
    }
   },
   "source": [
    "### Course Websites\n",
    "\n",
    "Course has four websites (sorry!). They are:\n",
    "\n",
    "- Main Course: [https://musa-550-fall-2023.github.io](https://musa-550-fall-2023.github.io)\n",
    "- Github: [https://github.com/MUSA-550-Fall-2023](https://github.com/MUSA-550-Fall-2023)\n",
    "- Canvas: [https://canvas.upenn.edu/courses/1740535](https://canvas.upenn.edu/courses/1740535)\n",
    "- Ed Discussion: [https://edstem.org/us/courses/42616/discussion/](https://edstem.org/us/courses/42616/discussion/)\n",
    "\n",
    "Each will have its own purpose:\n",
    "\n",
    "\n",
    "#### Main course website\n",
    "\n",
    "- Course schedule with links to weekly slides \n",
    "- Resources for learning Python, setting up software, and dealing with common issues\n",
    "- General course info and policies\n",
    "- Quick links to the other websites for the course\n",
    "\n",
    "#### Github\n",
    "\n",
    "- Github organization set up for the course\n",
    "- Each week and assignment will have its own Github repository\n",
    "- Assignments will also be submitted through Github\n",
    "\n",
    "#### Canvas\n",
    "\n",
    "- Will be used sign up for remote office hours and provide Zoom links for office hours\n",
    "- Grading will also be tracked here\n",
    "\n",
    "#### Ed Discussion\n",
    "\n",
    "- Will be used for question & answer forum for course materials and assignments\n",
    "- Announcements will also be made here so make sure you check frequently or turn on your notifications!\n",
    "- Main method of communication will be through announcements on this site\n",
    "- Participation grade (5% of total grade) will also be determined by user activity on the forum"
   ]
  },
  {
   "cell_type": "markdown",
   "metadata": {
    "slideshow": {
     "slide_type": "subslide"
    }
   },
   "source": [
    "## Main course website \n",
    "\n",
    "<center>\n",
    "    <a href=\"https://musa-550-fall-2023.github.io/\" target='blank_'>\n",
    "<img src=\"imgs/main-course-website.png\" width=800></img>\n",
    "    </a>\n",
    "</center>"
   ]
  },
  {
   "cell_type": "markdown",
   "metadata": {
    "jp-MarkdownHeadingCollapsed": true,
    "slideshow": {
     "slide_type": "slide"
    },
    "tags": []
   },
   "source": [
    "### Highlights\n",
    "\n",
    "- [Syllabus](https://musa-550-fall-2023.github.io/syllabus.html)\n",
    "- [Schedule](https://musa-550-fall-2023.github.io/schedule.html)\n",
    "- Resources & Guides:\n",
    "  - [Python resources](https://musa-550-fall-2023.github.io/resource/python.html)\n",
    "  - [Initial installation guide](https://musa-550-fall-2023.github.io/resource/python.html)\n",
    "- [Weekly content](https://musa-550-fall-2023.github.io/content/)\n",
    "- [Assignments](https://musa-550-fall-2023.github.io/assignment/)\n",
    "- Quick links to Canvas, Ed Discussion, GitHub homepage\n"
   ]
  },
  {
   "cell_type": "markdown",
   "metadata": {
    "slideshow": {
     "slide_type": "subslide"
    }
   },
   "source": [
    "## Course Github\n",
    "\n",
    "<center>\n",
    "    <a href=\"https://github.com/MUSA-550-Fall-2023\" target='blank_'>\n",
    "<img src=\"imgs/course-github.png\" width=800></img>\n",
    "    </a>\n",
    "</center>"
   ]
  },
  {
   "cell_type": "markdown",
   "metadata": {
    "slideshow": {
     "slide_type": "slide"
    }
   },
   "source": [
    "## The goals of this course\n",
    "\n",
    "- Provide students with the knowledge and tools to turn data into meaningful insights and stories\n",
    "- Focus on the modern data science tools within the Python ecosystem\n",
    "- The pipeline approach to data science:\n",
    "    - gathering, storing, analyzing, and visualizing data to tell stories\n",
    "- Real-world applications of analysis techniques in the urban planning and public policy realm "
   ]
  },
  {
   "cell_type": "markdown",
   "metadata": {
    "slideshow": {
     "slide_type": "slide"
    }
   },
   "source": [
    "## What we'll cover\n",
    "\n",
    "### Module 1\n",
    "\n",
    "**Exploratory Data Science:** Students will be introduced to the main tools needed to get started analyzing and visualizing data using Python\n",
    "\n",
    "### Module 2\n",
    "\n",
    "**Introduction to Geospatial Data Science:** Building on the previous set of tools, this module will teach students how to work with geospatial datasets using a range of modern Python toolkits.\n",
    "\n",
    "### Module 3\n",
    "\n",
    "**Data Ingestion & Big Data:** Students will learn how to collect new data through web scraping and APIs, as well as how to work effectively with the large datasets often encountered in real-world applications.\n",
    "\n",
    "\n",
    "### Module 4\n",
    "\n",
    "**From Exploration to Storytelling**: With a solid foundation, students \n",
    "   will learn the latest tools to present their analysis results using \n",
    "   web-based formats to transform their insights into interactive stories.\n",
    "\n",
    "### Module 5\n",
    "\n",
    "**Geospatial Data Science in the Wild:** Armed with the necessary data\n",
    "   science tools, the final module introduces a range of advanced analytic\n",
    "   and machine learning techniques using a number of innovative examples from\n",
    "   modern researchers."
   ]
  },
  {
   "cell_type": "markdown",
   "metadata": {
    "slideshow": {
     "slide_type": "slide"
    }
   },
   "source": [
    "## Assignments and grading\n",
    "\n",
    "- Grading: \n",
    "    - 50% homework\n",
    "    - 45% final project\n",
    "    - 5% participation (based on class and Ed Discussion participation)\n",
    "- While you are required to submit all six assignments, the\n",
    "assignment with the lowest grade will not count towards your final grade.\n",
    "- There’s no penalty for late assignments. I would **highly recommend** staying \n",
    "caught up on lectures and assignments as much as possible, but if \n",
    "you need to turn something in a few days late, there won't be a penalty.\n",
    "\n",
    "*Note:* Homeworks will be assigned (roughly) every two and a half weeks."
   ]
  },
  {
   "cell_type": "markdown",
   "metadata": {},
   "source": [
    "## The course schedule\n",
    "\n",
    "Check out the schedule page for the most up-to-date details on lectures, assignment due dates, etc.\n",
    "\n",
    "<center>\n",
    "    <a href=\"https://musa-550-fall-2023.github.io/schedule\" target='blank_'>\n",
    "<img src=\"imgs/course-schedule.png\" width=800></img>\n",
    "    </a>\n",
    "</center>"
   ]
  },
  {
   "cell_type": "markdown",
   "metadata": {
    "slideshow": {
     "slide_type": "subslide"
    }
   },
   "source": [
    "## Final project\n",
    "\n",
    "The final project is to replicate the pipeline approach on a dataset (or datasets) of your choosing.\n",
    "\n",
    "Students will be required to use several of the analysis techniques taught in the class and produce a web-based data visualization that effectively communicates the empirical results to a non-technical audience. \n",
    "\n",
    "More info will be posted here: [https://github.com/MUSA-550-Fall-2023/final-project](https://github.com/MUSA-550-Fall-2023/final-project)"
   ]
  },
  {
   "cell_type": "markdown",
   "metadata": {
    "slideshow": {
     "slide_type": "slide"
    }
   },
   "source": [
    "## Any questions so far?"
   ]
  },
  {
   "cell_type": "markdown",
   "metadata": {
    "slideshow": {
     "slide_type": "slide"
    }
   },
   "source": [
    "## Initial surveys\n",
    "\n",
    "**Roll call**: [https://bit.ly/musa550-roll-call](https://bit.ly/musa550-roll-call)\n",
    "\n",
    "\n",
    "**Some initial feedback**: [https://bit.ly/musa550-initial-feedback](https://bit.ly/musa550-initial-feedback)"
   ]
  },
  {
   "cell_type": "markdown",
   "metadata": {
    "slideshow": {
     "slide_type": "slide"
    }
   },
   "source": [
    "# Okay, let's get started..."
   ]
  },
  {
   "cell_type": "markdown",
   "metadata": {
    "slideshow": {
     "slide_type": "slide"
    }
   },
   "source": [
    "## The Incredible Growth of Python\n",
    "\n",
    "\n",
    "[Source: A 2017 analysis of StackOverflow posts](https://stackoverflow.blog/2017/09/06/incredible-growth-python/)"
   ]
  },
  {
   "cell_type": "markdown",
   "metadata": {},
   "source": [
    "<center>\n",
    "    <img src=\"imgs/stackoverflow-python-growth.png\" width=700></img>\n",
    "</center>"
   ]
  },
  {
   "cell_type": "markdown",
   "metadata": {
    "slideshow": {
     "slide_type": "subslide"
    }
   },
   "source": [
    "\n",
    "<center>\n",
    "<img src=\"imgs/stackoverflow-python-vs-small.png\" width=750></img>\n",
    "</center>"
   ]
  },
  {
   "cell_type": "markdown",
   "metadata": {
    "slideshow": {
     "slide_type": "slide"
    }
   },
   "source": [
    "## The rise of the Jupyter notebook"
   ]
  },
  {
   "cell_type": "markdown",
   "metadata": {
    "slideshow": {
     "slide_type": "slide"
    }
   },
   "source": [
    "### The engine of collaborative data science\n",
    "\n",
    "- First started by a physics grad student around 2001\n",
    "- Known as the IPython notebook originally\n",
    "- Starting getting popular in ~2011\n",
    "- First funding received in 2015 — the Jupyter notebook was born"
   ]
  },
  {
   "cell_type": "markdown",
   "metadata": {
    "slideshow": {
     "slide_type": "subslide"
    }
   },
   "source": [
    "### Google searches for Jupyter notebook\n",
    "\n",
    "![](imgs/google-trends-jupyter.png)"
   ]
  },
  {
   "cell_type": "markdown",
   "metadata": {
    "slideshow": {
     "slide_type": "subslide"
    }
   },
   "source": [
    "### Key features \n",
    "\n",
    "- Aimed at \"computational narratives\" — telling stories with data\n",
    "- Interactive, reproducible, shareable, user-friendly, visualization-focused\n",
    "- Fully open-source and [managed by the community](https://jupyter.org/governance/intro.html)\n",
    "\n",
    "**Very versatile: good for both exploratory data analysis and polished finished products**"
   ]
  },
  {
   "cell_type": "markdown",
   "metadata": {},
   "source": [
    "::: {.callout-important}\n",
    "The lecture slides in the course will all be *Jupyter notebooks*. The preferred interface for editing and executing them will be *JupyterLab*. That's what I'm using now!\n",
    ":::"
   ]
  },
  {
   "cell_type": "markdown",
   "metadata": {
    "slideshow": {
     "slide_type": "slide"
    }
   },
   "source": [
    "::: {.callout-tip}\n",
    "\n",
    "For more info on Jupyter notebooks and JupyterLab, check out [the guide](https://musa-550-fall-2023.github.io/resource/jupyter.html) on the course website.\n",
    "\n",
    "In particulary, I strongly encourage you to go through the official documentation for JupyterLab and Jupyter notebooks:\n",
    "\n",
    "- [Starting JupyterLab](https://jupyterlab.readthedocs.io/en/stable/getting_started/starting.html)\n",
    "- [The JupyterLab interface](https://jupyterlab.readthedocs.io/en/stable/user/interface.html)\n",
    "- [The structure of a notebook document](https://jupyter-notebook.readthedocs.io/en/stable/notebook.html#structure-of-a-notebook-document)\n",
    "- [The notebook workflow](https://jupyter-notebook.readthedocs.io/en/stable/notebook.html#basic-workflow)\n",
    "- [Working with notebooks in JupyterLab](https://jupyterlab.readthedocs.io/en/stable/user/notebook.html)\n",
    "- [Working with files](https://jupyterlab.readthedocs.io/en/stable/user/files.html)\n",
    ":::"
   ]
  },
  {
   "cell_type": "markdown",
   "metadata": {
    "slideshow": {
     "slide_type": "slide"
    }
   },
   "source": [
    "## Beyond the Jupyter notebook"
   ]
  },
  {
   "cell_type": "markdown",
   "metadata": {
    "slideshow": {
     "slide_type": "slide"
    }
   },
   "source": [
    "**Google Colab** is the most popular alternative to Jupyter notebooks. \n",
    "\n",
    "![](imgs/google-colab.png)"
   ]
  },
  {
   "cell_type": "markdown",
   "metadata": {},
   "source": [
    "- A fancier notebook experience built on top of Jupyter notebook\n",
    "- Running in the cloud on Google's servers\n",
    "- An internal Google product that was released publicly\n",
    "- Very popular for Python-based machine learning, since it provides low-barrier access to GPU resources which can be very helpful for training machine learning models\n",
    "- We'll focus on the open-source Jupyter notebook as the foundation for this course\n",
    "\n",
    "See, for example: [https://colab.research.google.com/notebooks/welcome.ipynb](https://colab.research.google.com/notebooks/welcome.ipynb)"
   ]
  },
  {
   "cell_type": "markdown",
   "metadata": {
    "slideshow": {
     "slide_type": "slide"
    }
   },
   "source": [
    "## The Binder service\n",
    "\n",
    "[https://mybinder.org](https://mybinder.org)\n",
    "\n",
    "![](imgs/binder-logo.png){width=700}"
   ]
  },
  {
   "cell_type": "markdown",
   "metadata": {},
   "source": [
    "- A free, open-source service, supported by donors\n",
    "- Allows you to launch a repository of Jupyter notebooks on GitHub in an executable environment in the cloud\n",
    "- Amazing if you want to make your code immediately reproducible by anyone, anywhere.\n",
    "- Note: as a free service, it can be a bit slow sometimes"
   ]
  },
  {
   "cell_type": "markdown",
   "metadata": {},
   "source": [
    "## Class lectures"
   ]
  },
  {
   "cell_type": "markdown",
   "metadata": {
    "jp-MarkdownHeadingCollapsed": true,
    "slideshow": {
     "slide_type": "slide"
    },
    "tags": []
   },
   "source": [
    "Weekly lectures are available on Binder! In the README for each week's repository on GitHub, you will \n",
    "see badges to launch the lecture slides on Binder.\n",
    "\n",
    "<center>\n",
    "    <img src=\"imgs/binder-buttons.png\" width=800></img>\n",
    "</center>   "
   ]
  },
  {
   "cell_type": "markdown",
   "metadata": {},
   "source": [
    "<br>\n",
    "\n",
    "You can also access these links from the content section of the course website. For example, here is:\n",
    "\n",
    "[https://musa-550-fall-2023.github.io/content/week-1/](https://musa-550-fall-2023.github.io/content/week-1/)\n",
    "\n",
    "<center>\n",
    "    <img src=\"imgs/week-1-header.png\" width=800></img>\n",
    "</center>  \n"
   ]
  },
  {
   "cell_type": "markdown",
   "metadata": {},
   "source": [
    "\n",
    "::: {.callout-tip title=\"Suggested weekly workflow\"}\n",
    "- Set up local Python environment as part of first homework assignment\n",
    "- Each week, you will have two options to follow along with lectures:\n",
    "    1. Using Binder in the cloud, launching via the button on the week's repository\n",
    "    2. Download the week's repository to your laptop and launch the notebook locally\n",
    "- Work on homeworks locally on your laptop — Binder is only a *temporary* environment (no save features)\n",
    ":::\n",
    "\n",
    "Check out the [content overview page](https://musa-550-fall-2023.github.io/content/) on the main course website for more info!"
   ]
  },
  {
   "cell_type": "markdown",
   "metadata": {
    "slideshow": {
     "slide_type": "slide"
    }
   },
   "source": [
    "## Now to the fun stuff..."
   ]
  },
  {
   "cell_type": "markdown",
   "metadata": {
    "slideshow": {
     "slide_type": "slide"
    }
   },
   "source": [
    "Jupyter notebooks are a mix of *code* cells and **text** cells in Markdown. You can change the type of cell in the top menu bar.\n",
    "\n",
    "This cell is a *Markdown cell*."
   ]
  },
  {
   "cell_type": "code",
   "execution_count": 2,
   "metadata": {
    "slideshow": {
     "slide_type": "fragment"
    },
    "tags": []
   },
   "outputs": [
    {
     "name": "stdout",
     "output_type": "stream",
     "text": [
      "10\n"
     ]
    }
   ],
   "source": [
    "# Comments begin with a \"#\" character in Python\n",
    "# A simple code cell\n",
    "# SHIFT-ENTER to execute\n",
    "\n",
    "\n",
    "x = 10\n",
    "print(x)"
   ]
  },
  {
   "cell_type": "markdown",
   "metadata": {
    "slideshow": {
     "slide_type": "slide"
    }
   },
   "source": [
    "### Python data types"
   ]
  },
  {
   "cell_type": "code",
   "execution_count": 3,
   "metadata": {
    "slideshow": {
     "slide_type": "subslide"
    },
    "tags": []
   },
   "outputs": [],
   "source": [
    "# integer\n",
    "a = 10\n",
    "\n",
    "# float\n",
    "b = 10.5\n",
    "\n",
    "# string\n",
    "c = \"this is a test string\"\n",
    "\n",
    "# lists\n",
    "d = list(range(0, 10))\n",
    "\n",
    "# booleans\n",
    "e = False\n",
    "\n",
    "# dictionaries\n",
    "f = {\"key1\": 1, \"key2\": 2}"
   ]
  },
  {
   "cell_type": "code",
   "execution_count": 4,
   "metadata": {
    "hide_input": false,
    "slideshow": {
     "slide_type": "subslide"
    },
    "tags": []
   },
   "outputs": [
    {
     "name": "stdout",
     "output_type": "stream",
     "text": [
      "10\n",
      "10.5\n",
      "this is a test string\n",
      "[0, 1, 2, 3, 4, 5, 6, 7, 8, 9]\n",
      "False\n",
      "{'key1': 1, 'key2': 2}\n"
     ]
    }
   ],
   "source": [
    "print(a)\n",
    "print(b)\n",
    "print(c)\n",
    "print(d)\n",
    "print(e)\n",
    "print(f)"
   ]
  },
  {
   "cell_type": "markdown",
   "metadata": {
    "slideshow": {
     "slide_type": "subslide"
    }
   },
   "source": [
    "::: {.callout-note}\n",
    "Unlike `R`, you'll need to use quotes more often in Python, particularly around strings and keys of dictionaries.\n",
    ":::"
   ]
  },
  {
   "cell_type": "markdown",
   "metadata": {
    "slideshow": {
     "slide_type": "slide"
    }
   },
   "source": [
    "### Alternative method for creating a dictionary\n",
    "\n",
    "We can use the `dict()` function, which is built in to the Python language. More on functions in a bit..."
   ]
  },
  {
   "cell_type": "code",
   "execution_count": 5,
   "metadata": {
    "slideshow": {
     "slide_type": "fragment"
    },
    "tags": []
   },
   "outputs": [
    {
     "data": {
      "text/plain": [
       "{'key1': 1, 'key2': 2, 'key3': 3}"
      ]
     },
     "execution_count": 5,
     "metadata": {},
     "output_type": "execute_result"
    }
   ],
   "source": [
    "f = dict(key1=1, key2=2, key3=3)\n",
    "\n",
    "f"
   ]
  },
  {
   "cell_type": "markdown",
   "metadata": {
    "slideshow": {
     "slide_type": "slide"
    }
   },
   "source": [
    "### Accessing dictionary values"
   ]
  },
  {
   "cell_type": "code",
   "execution_count": 6,
   "metadata": {
    "slideshow": {
     "slide_type": "fragment"
    },
    "tags": []
   },
   "outputs": [
    {
     "data": {
      "text/plain": [
       "1"
      ]
     },
     "execution_count": 6,
     "metadata": {},
     "output_type": "execute_result"
    }
   ],
   "source": [
    "# Access the value with key 'key1'\n",
    "f['key1']"
   ]
  },
  {
   "cell_type": "markdown",
   "metadata": {
    "slideshow": {
     "slide_type": "slide"
    }
   },
   "source": [
    "### Accessing list values"
   ]
  },
  {
   "cell_type": "code",
   "execution_count": 7,
   "metadata": {
    "slideshow": {
     "slide_type": "fragment"
    },
    "tags": []
   },
   "outputs": [
    {
     "data": {
      "text/plain": [
       "[0, 1, 2, 3, 4, 5, 6, 7, 8, 9]"
      ]
     },
     "execution_count": 7,
     "metadata": {},
     "output_type": "execute_result"
    }
   ],
   "source": [
    "d"
   ]
  },
  {
   "cell_type": "code",
   "execution_count": 8,
   "metadata": {
    "slideshow": {
     "slide_type": "fragment"
    },
    "tags": []
   },
   "outputs": [
    {
     "data": {
      "text/plain": [
       "0"
      ]
     },
     "execution_count": 8,
     "metadata": {},
     "output_type": "execute_result"
    }
   ],
   "source": [
    "# Access the second list entry (0 is the first index)\n",
    "d[0]  "
   ]
  },
  {
   "cell_type": "markdown",
   "metadata": {
    "slideshow": {
     "slide_type": "slide"
    }
   },
   "source": [
    "### Accessing characters of a string"
   ]
  },
  {
   "cell_type": "code",
   "execution_count": 9,
   "metadata": {
    "slideshow": {
     "slide_type": "fragment"
    },
    "tags": []
   },
   "outputs": [
    {
     "data": {
      "text/plain": [
       "'this is a test string'"
      ]
     },
     "execution_count": 9,
     "metadata": {},
     "output_type": "execute_result"
    }
   ],
   "source": [
    "c"
   ]
  },
  {
   "cell_type": "code",
   "execution_count": 10,
   "metadata": {
    "slideshow": {
     "slide_type": "fragment"
    },
    "tags": []
   },
   "outputs": [
    {
     "data": {
      "text/plain": [
       "'t'"
      ]
     },
     "execution_count": 10,
     "metadata": {},
     "output_type": "execute_result"
    }
   ],
   "source": [
    "# the first character\n",
    "c[0]"
   ]
  },
  {
   "cell_type": "markdown",
   "metadata": {
    "slideshow": {
     "slide_type": "slide"
    }
   },
   "source": [
    "### Iterators and for loops\n",
    "\n",
    "::: {.callout-important}\n",
    "Be sure to use the right indentation in for loops!\n",
    ":::"
   ]
  },
  {
   "cell_type": "code",
   "execution_count": 11,
   "metadata": {
    "slideshow": {
     "slide_type": "fragment"
    },
    "tags": []
   },
   "outputs": [
    {
     "name": "stdout",
     "output_type": "stream",
     "text": [
      "0\n",
      "1\n",
      "2\n",
      "3\n",
      "4\n",
      "5\n",
      "6\n",
      "7\n",
      "8\n",
      "9\n"
     ]
    }
   ],
   "source": [
    "# Variable that will track the sum\n",
    "result_sum = 0\n",
    "\n",
    "# Variable i takes on values [0, 1, 2, 3, 4, 5, 6, 7, 8, 9]\n",
    "for i in range(0, 10):\n",
    "        \n",
    "    # Indented, so it runs for each iteration of the loop\n",
    "    print(i)\n",
    "\n",
    "    result_sum = result_sum + i"
   ]
  },
  {
   "cell_type": "code",
   "execution_count": 12,
   "metadata": {
    "slideshow": {
     "slide_type": "fragment"
    },
    "tags": []
   },
   "outputs": [
    {
     "name": "stdout",
     "output_type": "stream",
     "text": [
      "45\n"
     ]
    }
   ],
   "source": [
    "print(result_sum)"
   ]
  },
  {
   "cell_type": "markdown",
   "metadata": {
    "slideshow": {
     "slide_type": "slide"
    }
   },
   "source": [
    "### Python's inline syntax"
   ]
  },
  {
   "cell_type": "code",
   "execution_count": 13,
   "metadata": {
    "slideshow": {
     "slide_type": "subslide"
    },
    "tags": []
   },
   "outputs": [],
   "source": [
    "a = range(0, 10) # this is an iterator"
   ]
  },
  {
   "cell_type": "code",
   "execution_count": 14,
   "metadata": {
    "slideshow": {
     "slide_type": "subslide"
    },
    "tags": []
   },
   "outputs": [
    {
     "name": "stdout",
     "output_type": "stream",
     "text": [
      "range(0, 10)\n"
     ]
    }
   ],
   "source": [
    "print(a)"
   ]
  },
  {
   "cell_type": "markdown",
   "metadata": {},
   "source": [
    "Use the `list()` function to iterate over it and make it into a list:"
   ]
  },
  {
   "cell_type": "code",
   "execution_count": 15,
   "metadata": {
    "slideshow": {
     "slide_type": "subslide"
    },
    "tags": []
   },
   "outputs": [
    {
     "data": {
      "text/plain": [
       "[0, 1, 2, 3, 4, 5, 6, 7, 8, 9]"
      ]
     },
     "execution_count": 15,
     "metadata": {},
     "output_type": "execute_result"
    }
   ],
   "source": [
    "# convert it to a list explicitly\n",
    "a = list(range(10))\n",
    "\n",
    "# Output it from the cell\n",
    "a"
   ]
  },
  {
   "cell_type": "code",
   "execution_count": 16,
   "metadata": {
    "slideshow": {
     "slide_type": "fragment"
    },
    "tags": []
   },
   "outputs": [
    {
     "data": {
      "text/plain": [
       "[0, 1, 2, 3, 4, 5, 6, 7, 8, 9]"
      ]
     },
     "execution_count": 16,
     "metadata": {},
     "output_type": "execute_result"
    }
   ],
   "source": [
    "# or use the INLINE syntax; this is the SAME\n",
    "a = [i for i in range(10)]\n",
    "\n",
    "a"
   ]
  },
  {
   "cell_type": "markdown",
   "metadata": {
    "slideshow": {
     "slide_type": "slide"
    }
   },
   "source": [
    "### Python functions\n",
    "\n",
    "```python\n",
    "def function_name(arg1, arg2, arg3):\n",
    "    \n",
    "    .\n",
    "    .\n",
    "    .\n",
    "    code lines (indented)\n",
    "    .\n",
    "    .\n",
    "    .\n",
    "    \n",
    "    return result\n",
    "```"
   ]
  },
  {
   "cell_type": "code",
   "execution_count": 17,
   "metadata": {
    "slideshow": {
     "slide_type": "slide"
    },
    "tags": []
   },
   "outputs": [],
   "source": [
    "def compute_square(x):\n",
    "    \n",
    "    sq = x * x\n",
    "    return sq"
   ]
  },
  {
   "cell_type": "code",
   "execution_count": 18,
   "metadata": {
    "slideshow": {
     "slide_type": "subslide"
    },
    "tags": []
   },
   "outputs": [
    {
     "name": "stdout",
     "output_type": "stream",
     "text": [
      "100\n"
     ]
    }
   ],
   "source": [
    "sq = compute_square(10)\n",
    "print(sq)"
   ]
  },
  {
   "cell_type": "markdown",
   "metadata": {
    "slideshow": {
     "slide_type": "slide"
    }
   },
   "source": [
    "### Keywords:  arguments with a default!"
   ]
  },
  {
   "cell_type": "code",
   "execution_count": 19,
   "metadata": {
    "slideshow": {
     "slide_type": "fragment"
    },
    "tags": []
   },
   "outputs": [],
   "source": [
    "def compute_product(x, y=5):\n",
    "    return x * y"
   ]
  },
  {
   "cell_type": "code",
   "execution_count": 20,
   "metadata": {
    "slideshow": {
     "slide_type": "slide"
    },
    "tags": []
   },
   "outputs": [
    {
     "name": "stdout",
     "output_type": "stream",
     "text": [
      "15\n"
     ]
    }
   ],
   "source": [
    "# use the default value for y\n",
    "print(compute_product(3))"
   ]
  },
  {
   "cell_type": "code",
   "execution_count": 21,
   "metadata": {
    "slideshow": {
     "slide_type": "fragment"
    },
    "tags": []
   },
   "outputs": [
    {
     "name": "stdout",
     "output_type": "stream",
     "text": [
      "50\n"
     ]
    }
   ],
   "source": [
    "# specify a y value other than the default\n",
    "print(compute_product(5, 10))"
   ]
  },
  {
   "cell_type": "code",
   "execution_count": 22,
   "metadata": {
    "slideshow": {
     "slide_type": "subslide"
    },
    "tags": []
   },
   "outputs": [
    {
     "name": "stdout",
     "output_type": "stream",
     "text": [
      "10\n",
      "10\n"
     ]
    }
   ],
   "source": [
    "# can also explicitly tell Python which arguments are which\n",
    "print(compute_product(5, y=2))\n",
    "print(compute_product(y=2, x=5))"
   ]
  },
  {
   "cell_type": "code",
   "execution_count": 23,
   "metadata": {
    "tags": []
   },
   "outputs": [
    {
     "name": "stdout",
     "output_type": "stream",
     "text": [
      "20\n"
     ]
    }
   ],
   "source": [
    "print(compute_product(x=5, y=4))"
   ]
  },
  {
   "cell_type": "code",
   "execution_count": 24,
   "metadata": {
    "slideshow": {
     "slide_type": "fragment"
    },
    "tags": []
   },
   "outputs": [
    {
     "ename": "TypeError",
     "evalue": "compute_product() got an unexpected keyword argument 'z'",
     "output_type": "error",
     "traceback": [
      "\u001b[0;31m---------------------------------------------------------------------------\u001b[0m",
      "\u001b[0;31mTypeError\u001b[0m                                 Traceback (most recent call last)",
      "Cell \u001b[0;32mIn[24], line 2\u001b[0m\n\u001b[1;32m      1\u001b[0m \u001b[38;5;66;03m# argument names must match the function signature though!\u001b[39;00m\n\u001b[0;32m----> 2\u001b[0m \u001b[38;5;28mprint\u001b[39m(\u001b[43mcompute_product\u001b[49m\u001b[43m(\u001b[49m\u001b[43mx\u001b[49m\u001b[38;5;241;43m=\u001b[39;49m\u001b[38;5;241;43m5\u001b[39;49m\u001b[43m,\u001b[49m\u001b[43m \u001b[49m\u001b[43mz\u001b[49m\u001b[38;5;241;43m=\u001b[39;49m\u001b[38;5;241;43m5\u001b[39;49m\u001b[43m)\u001b[49m)\n",
      "\u001b[0;31mTypeError\u001b[0m: compute_product() got an unexpected keyword argument 'z'"
     ]
    }
   ],
   "source": [
    "# argument names must match the function signature though!\n",
    "print(compute_product(x=5, z=5))"
   ]
  },
  {
   "cell_type": "markdown",
   "metadata": {
    "slideshow": {
     "slide_type": "slide"
    }
   },
   "source": [
    "### Getting help in the notebook\n",
    "\n",
    "Use tab auto-completion and the ? and ?? operators"
   ]
  },
  {
   "cell_type": "code",
   "execution_count": 25,
   "metadata": {
    "slideshow": {
     "slide_type": "subslide"
    }
   },
   "outputs": [],
   "source": [
    "this_variable_has_a_long_name = 5"
   ]
  },
  {
   "cell_type": "code",
   "execution_count": 26,
   "metadata": {
    "slideshow": {
     "slide_type": "fragment"
    }
   },
   "outputs": [
    {
     "data": {
      "text/plain": [
       "5"
      ]
     },
     "execution_count": 26,
     "metadata": {},
     "output_type": "execute_result"
    }
   ],
   "source": [
    "# try hitting tab after typing this_ \n",
    "this_variable_has_a_long_name"
   ]
  },
  {
   "cell_type": "code",
   "execution_count": 27,
   "metadata": {
    "slideshow": {
     "slide_type": "fragment"
    }
   },
   "outputs": [
    {
     "data": {
      "text/plain": [
       "\u001b[0;31mInit signature:\u001b[0m \u001b[0mrange\u001b[0m\u001b[0;34m(\u001b[0m\u001b[0mself\u001b[0m\u001b[0;34m,\u001b[0m \u001b[0;34m/\u001b[0m\u001b[0;34m,\u001b[0m \u001b[0;34m*\u001b[0m\u001b[0margs\u001b[0m\u001b[0;34m,\u001b[0m \u001b[0;34m**\u001b[0m\u001b[0mkwargs\u001b[0m\u001b[0;34m)\u001b[0m\u001b[0;34m\u001b[0m\u001b[0;34m\u001b[0m\u001b[0m\n",
       "\u001b[0;31mDocstring:\u001b[0m     \n",
       "range(stop) -> range object\n",
       "range(start, stop[, step]) -> range object\n",
       "\n",
       "Return an object that produces a sequence of integers from start (inclusive)\n",
       "to stop (exclusive) by step.  range(i, j) produces i, i+1, i+2, ..., j-1.\n",
       "start defaults to 0, and stop is omitted!  range(4) produces 0, 1, 2, 3.\n",
       "These are exactly the valid indices for a list of 4 elements.\n",
       "When step is given, it specifies the increment (or decrement).\n",
       "\u001b[0;31mType:\u001b[0m           type\n",
       "\u001b[0;31mSubclasses:\u001b[0m     "
      ]
     },
     "metadata": {},
     "output_type": "display_data"
    }
   ],
   "source": [
    "# Forget how to create a range? --> use the help message\n",
    "range?"
   ]
  },
  {
   "cell_type": "markdown",
   "metadata": {
    "slideshow": {
     "slide_type": "slide"
    }
   },
   "source": [
    "### Peeking at the source code for a function\n",
    "\n",
    "Use the ?? operator"
   ]
  },
  {
   "cell_type": "code",
   "execution_count": 28,
   "metadata": {
    "slideshow": {
     "slide_type": "subslide"
    }
   },
   "outputs": [],
   "source": [
    "# Lets re-define compute_product() and add a docstring between \"\"\" \"\"\"\n",
    "def compute_product(x, y=5):\n",
    "    \"\"\"\n",
    "    This computes the product of x and y\n",
    "    \n",
    "    \n",
    "    This is all part of the comment.\n",
    "    \"\"\"\n",
    "    return x * y"
   ]
  },
  {
   "cell_type": "code",
   "execution_count": 29,
   "metadata": {
    "slideshow": {
     "slide_type": "fragment"
    }
   },
   "outputs": [
    {
     "data": {
      "text/plain": [
       "\u001b[0;31mSignature:\u001b[0m \u001b[0mcompute_product\u001b[0m\u001b[0;34m(\u001b[0m\u001b[0mx\u001b[0m\u001b[0;34m,\u001b[0m \u001b[0my\u001b[0m\u001b[0;34m=\u001b[0m\u001b[0;36m5\u001b[0m\u001b[0;34m)\u001b[0m\u001b[0;34m\u001b[0m\u001b[0;34m\u001b[0m\u001b[0m\n",
       "\u001b[0;31mSource:\u001b[0m   \n",
       "\u001b[0;32mdef\u001b[0m \u001b[0mcompute_product\u001b[0m\u001b[0;34m(\u001b[0m\u001b[0mx\u001b[0m\u001b[0;34m,\u001b[0m \u001b[0my\u001b[0m\u001b[0;34m=\u001b[0m\u001b[0;36m5\u001b[0m\u001b[0;34m)\u001b[0m\u001b[0;34m:\u001b[0m\u001b[0;34m\u001b[0m\n",
       "\u001b[0;34m\u001b[0m    \u001b[0;34m\"\"\"\u001b[0m\n",
       "\u001b[0;34m    This computes the product of x and y\u001b[0m\n",
       "\u001b[0;34m    \u001b[0m\n",
       "\u001b[0;34m    \u001b[0m\n",
       "\u001b[0;34m    This is all part of the comment.\u001b[0m\n",
       "\u001b[0;34m    \"\"\"\u001b[0m\u001b[0;34m\u001b[0m\n",
       "\u001b[0;34m\u001b[0m    \u001b[0;32mreturn\u001b[0m \u001b[0mx\u001b[0m \u001b[0;34m*\u001b[0m \u001b[0my\u001b[0m\u001b[0;34m\u001b[0m\u001b[0;34m\u001b[0m\u001b[0m\n",
       "\u001b[0;31mFile:\u001b[0m      /var/folders/49/ntrr94q12xd4rq8hqdnx96gm0000gn/T/ipykernel_23203/3896936014.py\n",
       "\u001b[0;31mType:\u001b[0m      function"
      ]
     },
     "metadata": {},
     "output_type": "display_data"
    }
   ],
   "source": [
    "compute_product??"
   ]
  },
  {
   "cell_type": "markdown",
   "metadata": {
    "slideshow": {
     "slide_type": "subslide"
    }
   },
   "source": [
    "::: {.callout-note}\n",
    "The question mark operator gives you access to the help message for any variable or function. \n",
    "\n",
    "**I use this frequently and it is a great way to understand what a function actually does.**\n",
    "\n",
    ":::"
   ]
  },
  {
   "cell_type": "markdown",
   "metadata": {},
   "source": [
    "### The JupyterLab Debugger\n",
    "\n",
    "You can enable Debugging mode in JupyterLab by clicking on the \"bug\" icon in the top right:\n",
    "\n",
    "![](imgs/jupyterlab-debugger-1.png)\n",
    "\n",
    "This should open the Debugger panel on the right side of JupyterLab. One of the most useful parts of this panel is the \"Variables\" section, which gives you the current values of all defined variables in the notebook.\n",
    "\n",
    "![](imgs/jupyterlab-debugger-2.png)\n"
   ]
  },
  {
   "cell_type": "markdown",
   "metadata": {},
   "source": [
    "::: {.callout-tip}\n",
    "For more information on the debugger, see the [JupyterLab docs](https://jupyterlab.readthedocs.io/en/stable/user/debugger.html).\n",
    ":::"
   ]
  },
  {
   "cell_type": "markdown",
   "metadata": {
    "tags": []
   },
   "source": [
    "## Getting more Python help\n",
    "\n",
    "This was a *very* brief introduction to Python and Python syntax. We'll continue practicing and reinforcing the proper syntax throughout the next few weeks, but it can definitely be frustrating. Hang in there!\n",
    "\n",
    "::: {.callout-important title=\"Important: DataCamp Tutorials\"}\n",
    "DataCamp is providing 6 months of complimentary access to its courses for students in MUSA 550. Whether you have experience with Python or not, this is a great opportunity to learn the basics of Python and practice your skills.\n",
    "\n",
    "It is strongly recommended that you watch some or all of the introductory videos below to build a stronger Python foundation for the semester. The more advanced, intermediate courses are also great — the more the merrier!\n",
    "\n",
    "\n",
    "For more info, including how to sign up, check out [the resources section of the website](https://musa-550-fall-2023.github.io/resource/python.html#datacamp-courses).\n",
    "\n",
    ":::"
   ]
  },
  {
   "cell_type": "markdown",
   "metadata": {},
   "source": [
    "Additional Python resources are listed on our course website under \"Resources\"\n",
    "\n",
    "[https://musa-550-fall-2023.github.io/resource/python/](https://musa-550-fall-2023.github.io/resource/python/)\n",
    "\n",
    "In addition to the DataCamp videos, there are links to lots of online tutorials:\n",
    "\n",
    "- [Introductory level tutorials](https://musa-550-fall-2023.github.io/resource/python#introductory-python-tutorials)\n",
    "- [More advanced tutorials](https://musa-550-fall-2023.github.io/resource/python#more-advanced-tutorials)\n",
    "- The r/learnpython subreddit has a great [wiki of resources](https://www.reddit.com/r/learnpython/wiki/index/)\n",
    "- The Berkeley Institute for Data Science has also compiled a number of [Python resources](http://python.berkeley.edu/resources/http://python.berkeley.edu/resources/)"
   ]
  },
  {
   "cell_type": "markdown",
   "metadata": {
    "slideshow": {
     "slide_type": "slide"
    }
   },
   "source": [
    "## One more thing: working outside the notebook\n",
    "\n",
    "In this class, we will almost exclusively work inside Jupyter notebooks — you'll be writing Python code and doing data analysis directly in the notebook. \n",
    "\n",
    "The more traditional method of using Python is to put your code into a `.py` file and execute it via the command line (known as the Miniforge/Anaconda Prompt on Windows or Terminal app on MacOS).\n",
    "\n",
    "See [this section](https://dabeaz-course.github.io/practical-python/Notes/01_Introduction/02_Hello_world.html) of the Practical Python Programming tutorial for more info."
   ]
  },
  {
   "cell_type": "markdown",
   "metadata": {
    "slideshow": {
     "slide_type": "slide"
    }
   },
   "source": [
    "### The JupyterLab text editor\n",
    "\n",
    "There is a file called `hello_world.py` in the repository for week 1. If we execute it, it should print out \"Hello, World\" to the command line.\n",
    "\n",
    "First, let's open up the `.py` file in the JupyterLab text editor. Double click on the \"hello_world.py\" item in the file browser on the left:\n",
    "\n",
    "![](imgs/jupyterlab-hello-world.png){width=300}\n",
    "\n",
    "\n",
    "This will open the file and allow you to make edits. You should see the following:\n",
    "\n",
    "```python\n",
    "# Our first Python program\n",
    "print(\"Hello World!\")\n",
    "```"
   ]
  },
  {
   "cell_type": "markdown",
   "metadata": {},
   "source": [
    "::: {.callout-tip}\n",
    "See the [JupyterLab docs](https://jupyterlab.readthedocs.io/en/stable/user/file_editor.html) for more info on the text editor.\n",
    ":::"
   ]
  },
  {
   "cell_type": "markdown",
   "metadata": {},
   "source": [
    "### Using the JupyterLab Terminal\n",
    "\n",
    "To execute the file, we can use the built-in Terminal feature in JupyterLab using the following steps:\n",
    "\n",
    "1. Bring up the \"Launcher\" tab by clicking on the blue button with a plus sign in the upper left. \n",
    "1. Click on the \"Terminal\" button\"\n",
    "1. When the terminal opens, type the following:\n",
    "\n",
    "```\n",
    "python hello_world.py\n",
    "```\n",
    "\n",
    "And you should see the following output:\n",
    "\n",
    "```\n",
    "Hello World!\n",
    "```"
   ]
  },
  {
   "cell_type": "markdown",
   "metadata": {},
   "source": [
    "It should look something like this:"
   ]
  },
  {
   "cell_type": "markdown",
   "metadata": {},
   "source": [
    "![](imgs/jupyterlab-launch-terminal.gif)"
   ]
  },
  {
   "cell_type": "markdown",
   "metadata": {
    "slideshow": {
     "slide_type": "slide"
    }
   },
   "source": [
    "## Code editors\n",
    "\n",
    "The JupyterLab text editor will work in a pinch, but it's not usually the best option when writing software outside the notebook. Other code editors will provide a nice interface for writing Python code and some even have fancy features, like real-time syntax checking and syntax highlighting.\n",
    "\n",
    "My recommended option is [Visual Studio Code](https://code.visualstudio.com/download)."
   ]
  },
  {
   "cell_type": "markdown",
   "metadata": {
    "slideshow": {
     "slide_type": "slide"
    }
   },
   "source": [
    "## See you next week!\n",
    "\n",
    "- No lecture on Monday next week due to Labor Day\n",
    "- Next class a week from today on Wednesday 9/6\n",
    "- In the meantime:\n",
    "    - Follow [the guide] for setting up your local Python environment\n",
    "    - Check out [Python resources + DataCamp courses](https://musa-550-fall-2023.github.io/resource/python.html) in the meantime\n",
    "    - Homework #1 will be posted a week from today (Wednesday 9/6, due on 9/20)"
   ]
  },
  {
   "cell_type": "code",
   "execution_count": null,
   "metadata": {},
   "outputs": [],
   "source": []
  }
 ],
 "metadata": {
  "celltoolbar": "Slideshow",
  "kernelspec": {
   "display_name": "Python 3 (ipykernel)",
   "language": "python",
   "name": "python3"
  },
  "language_info": {
   "codemirror_mode": {
    "name": "ipython",
    "version": 3
   },
   "file_extension": ".py",
   "mimetype": "text/x-python",
   "name": "python",
   "nbconvert_exporter": "python",
   "pygments_lexer": "ipython3",
   "version": "3.10.12"
  },
  "name": "Exploratory Data Science in Python",
  "rise": {
   "slideNumber": true
  }
 },
 "nbformat": 4,
 "nbformat_minor": 4
}
