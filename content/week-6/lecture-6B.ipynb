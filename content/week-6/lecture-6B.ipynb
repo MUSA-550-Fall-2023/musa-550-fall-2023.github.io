{
 "cells": [
  {
   "cell_type": "markdown",
   "metadata": {},
   "source": [
    "---\n",
    "toc: false\n",
    "page-layout: full\n",
    "execute: \n",
    "  enabled: false\n",
    "---"
   ]
  },
  {
   "cell_type": "markdown",
   "metadata": {
    "slideshow": {
     "slide_type": "slide"
    }
   },
   "source": [
    "# Week 6B<br>Web Scraping\n",
    "\n",
    "- Section 401\n",
    "- Wednesday, October 11, 2023"
   ]
  },
  {
   "cell_type": "markdown",
   "metadata": {
    "slideshow": {
     "slide_type": "slide"
    }
   },
   "source": [
    "## Week 6 agenda: web scraping\n",
    "\n",
    "**Last time:**\n",
    "- Why web scraping? \n",
    "- Getting familiar with the Web\n",
    "- Web scraping: extracting data from static sites\n",
    "\n",
    "**Today:**\n",
    "- Practice with web scraping\n",
    "- How to deal with dynamic content"
   ]
  },
  {
   "cell_type": "code",
   "execution_count": 2,
   "metadata": {
    "slideshow": {
     "slide_type": "slide"
    }
   },
   "outputs": [],
   "source": [
    "# Start with the usual imports\n",
    "# We'll use these throughout\n",
    "import pandas as pd\n",
    "from bs4 import BeautifulSoup\n",
    "import requests"
   ]
  },
  {
   "cell_type": "markdown",
   "metadata": {
    "slideshow": {
     "slide_type": "slide"
    }
   },
   "source": [
    "## Part 1: Web scraping exercises\n",
    "\n",
    "For each of the exercises, use the Web Inspector to inspect the structure of the relevant web page, and identify the HTML content you will need to scrape with Python.\n"
   ]
  },
  {
   "cell_type": "markdown",
   "metadata": {
    "hide_input": false,
    "slideshow": {
     "slide_type": "slide"
    }
   },
   "source": [
    "### 1. The number of votes for Cherelle Parker in the May mayoral primary\n",
    "\n",
    "The relevant URL is: [https://philadelphiaresults.azurewebsites.us/ResultsSW.aspx?type=MAY&map=CTY](https://philadelphiaresults.azurewebsites.us/ResultsSW.aspx?type=MAY&map=CTY)\n",
    "\n",
    "**Hint:** We're interested in just a single HTML element so you can inspect the website, identify the right element, and copy the selector for the element."
   ]
  },
  {
   "cell_type": "code",
   "execution_count": 3,
   "metadata": {
    "tags": []
   },
   "outputs": [],
   "source": [
    "# Make the request\n",
    "url = \"https://philadelphiaresults.azurewebsites.us/ResultsSW.aspx?type=MAY&map=CTY\"\n",
    "response = requests.get(url)\n",
    "\n",
    "# Initialize the soup for this page\n",
    "soup1 = BeautifulSoup(response.content, \"html.parser\")"
   ]
  },
  {
   "cell_type": "code",
   "execution_count": 4,
   "metadata": {
    "tags": []
   },
   "outputs": [],
   "source": [
    "# Select the element holding the number of votes\n",
    "selector = \"#ctl01 > div.outside-wrapper > div:nth-child(16) > div:nth-child(1) > div.section.group.winner > div.col.display-results-box-f > h1\""
   ]
  },
  {
   "cell_type": "code",
   "execution_count": 5,
   "metadata": {
    "tags": []
   },
   "outputs": [],
   "source": [
    "# Select the element\n",
    "element = soup1.select_one(selector)"
   ]
  },
  {
   "cell_type": "code",
   "execution_count": 6,
   "metadata": {
    "tags": []
   },
   "outputs": [
    {
     "data": {
      "text/plain": [
       "'81,080'"
      ]
     },
     "execution_count": 6,
     "metadata": {},
     "output_type": "execute_result"
    }
   ],
   "source": [
    "# Get the text of the element\n",
    "votes_str = element.text\n",
    "\n",
    "votes_str"
   ]
  },
  {
   "cell_type": "code",
   "execution_count": 7,
   "metadata": {
    "hide_input": false,
    "slideshow": {
     "slide_type": "slide"
    },
    "tags": []
   },
   "outputs": [
    {
     "name": "stdout",
     "output_type": "stream",
     "text": [
      "Number of votes for Cherelle Parker = 81080\n"
     ]
    }
   ],
   "source": [
    "# Convert to integer!\n",
    "num_votes = int(votes_str.replace(\",\", \"\"))\n",
    "\n",
    "# Print\n",
    "print(f\"Number of votes for Cherelle Parker = {num_votes}\")"
   ]
  },
  {
   "cell_type": "markdown",
   "metadata": {
    "tags": []
   },
   "source": [
    "### 2. How many millions of people are currently experiencing drought?\n",
    "\n",
    "Relevant URL: [https://www.drought.gov/current-conditions](https://www.drought.gov/current-conditions)\n",
    "\n",
    "**Hint:** We're interested in just a single HTML element so you can inspect the website, identify the right element, and copy the selector for the element."
   ]
  },
  {
   "cell_type": "code",
   "execution_count": 8,
   "metadata": {
    "tags": []
   },
   "outputs": [],
   "source": [
    "# Make the request\n",
    "url = \"https://www.drought.gov/current-conditions\"\n",
    "response = requests.get(url)\n",
    "\n",
    "# Initialize the soup for this page\n",
    "soup2 = BeautifulSoup(response.content, \"html.parser\")"
   ]
  },
  {
   "cell_type": "code",
   "execution_count": 9,
   "metadata": {
    "tags": []
   },
   "outputs": [],
   "source": [
    "selector = \"#block-uswds-drought-content > div > div > div.grid-container.grid-container--standard.padding-top-6 > div:nth-child(5) > div > div:nth-child(3) > div > div > div.u--color--accent.text-center.font-sans-xl.field.field--name-field-number-stat.field--type-string.field--label-hidden\""
   ]
  },
  {
   "cell_type": "code",
   "execution_count": 10,
   "metadata": {
    "tags": []
   },
   "outputs": [
    {
     "data": {
      "text/plain": [
       "'95.8 Million'"
      ]
     },
     "execution_count": 10,
     "metadata": {},
     "output_type": "execute_result"
    }
   ],
   "source": [
    "soup2.select_one(selector).text"
   ]
  },
  {
   "cell_type": "markdown",
   "metadata": {},
   "source": [
    "### 3. Scrape the Weitzman School directory\n",
    "\n",
    "The Weitzman School lists their directory of people on this page: [https://www.design.upenn.edu/people/list](https://www.design.upenn.edu/people/list). From this site, let's extract out following information:\n",
    "\n",
    "- The person's name;\n",
    "- title, and;\n",
    "- associated department.\n",
    "\n",
    "::: {.callout-tip}\n",
    "This example is similar to the Inquirer Clean Plates demo from last lecture. \n",
    "\n",
    "The info we want for each person is wrapped up in a `<div>` element. You can select all of those elements, loop over each one in a \"for\" loop, extract the three pieces of content we want from each `<div>`, and then save the result to a list.\n",
    ":::\n"
   ]
  },
  {
   "cell_type": "code",
   "execution_count": 11,
   "metadata": {
    "tags": []
   },
   "outputs": [],
   "source": [
    "# Make the request\n",
    "url = \"https://www.design.upenn.edu/people/list\"\n",
    "response = requests.get(url)\n",
    "\n",
    "# Initialize the soup for this page\n",
    "soup3 = BeautifulSoup(response.content, \"html.parser\")"
   ]
  },
  {
   "cell_type": "code",
   "execution_count": 12,
   "metadata": {
    "tags": []
   },
   "outputs": [],
   "source": [
    "# Select all rows\n",
    "rows = soup3.select(\".views-row\")"
   ]
  },
  {
   "cell_type": "code",
   "execution_count": 13,
   "metadata": {
    "tags": []
   },
   "outputs": [
    {
     "data": {
      "text/plain": [
       "536"
      ]
     },
     "execution_count": 13,
     "metadata": {},
     "output_type": "execute_result"
    }
   ],
   "source": [
    "len(rows)"
   ]
  },
  {
   "cell_type": "code",
   "execution_count": 14,
   "metadata": {
    "tags": []
   },
   "outputs": [
    {
     "name": "stdout",
     "output_type": "stream",
     "text": [
      "<div class=\"views-row\">\n",
      " <a class=\"list-item profile-item\" href=\"/graduate-admissions/people/anushka-samant\">\n",
      "  <span class=\"text\">\n",
      "   <span class=\"title heading-5\">\n",
      "    Anushka Samant\n",
      "   </span>\n",
      "   <span class=\"meta body-small\">\n",
      "    MCP '24\n",
      "   </span>\n",
      "  </span>\n",
      "  <span class=\"dept body-subhead\">\n",
      "   Admissions\n",
      "  </span>\n",
      "  <span class=\"arrow\">\n",
      "   <span aria-hidden=\"true\" class=\"fa fa-arrow-right\">\n",
      "   </span>\n",
      "  </span>\n",
      " </a>\n",
      " <div class=\"views-field views-field-edit-node-1 edit\">\n",
      " </div>\n",
      "</div>\n",
      "\n"
     ]
    }
   ],
   "source": [
    "# Extract out specific content from each row\n",
    "print(rows[0].prettify())"
   ]
  },
  {
   "cell_type": "code",
   "execution_count": 15,
   "metadata": {
    "tags": []
   },
   "outputs": [
    {
     "data": {
      "text/html": [
       "<div>\n",
       "<style scoped>\n",
       "    .dataframe tbody tr th:only-of-type {\n",
       "        vertical-align: middle;\n",
       "    }\n",
       "\n",
       "    .dataframe tbody tr th {\n",
       "        vertical-align: top;\n",
       "    }\n",
       "\n",
       "    .dataframe thead th {\n",
       "        text-align: right;\n",
       "    }\n",
       "</style>\n",
       "<table border=\"1\" class=\"dataframe\">\n",
       "  <thead>\n",
       "    <tr style=\"text-align: right;\">\n",
       "      <th></th>\n",
       "      <th>person</th>\n",
       "      <th>title</th>\n",
       "      <th>dept</th>\n",
       "    </tr>\n",
       "  </thead>\n",
       "  <tbody>\n",
       "    <tr>\n",
       "      <th>0</th>\n",
       "      <td>Anushka Samant</td>\n",
       "      <td>MCP '24</td>\n",
       "      <td>Admissions</td>\n",
       "    </tr>\n",
       "    <tr>\n",
       "      <th>1</th>\n",
       "      <td>Tom Abel</td>\n",
       "      <td>External Faculty Collaborator</td>\n",
       "      <td>Center for Environmental Building &amp; Design</td>\n",
       "    </tr>\n",
       "    <tr>\n",
       "      <th>2</th>\n",
       "      <td>Mostafa Akbari</td>\n",
       "      <td>PhD Candidate in Architecture</td>\n",
       "      <td>Architecture</td>\n",
       "    </tr>\n",
       "    <tr>\n",
       "      <th>3</th>\n",
       "      <td>Masoud  Akbarzadeh</td>\n",
       "      <td>Assistant Professor of Architecture</td>\n",
       "      <td>Architecture</td>\n",
       "    </tr>\n",
       "    <tr>\n",
       "      <th>4</th>\n",
       "      <td>Scott Aker</td>\n",
       "      <td>Lecturer</td>\n",
       "      <td>Architecture</td>\n",
       "    </tr>\n",
       "    <tr>\n",
       "      <th>...</th>\n",
       "      <td>...</td>\n",
       "      <td>...</td>\n",
       "      <td>...</td>\n",
       "    </tr>\n",
       "    <tr>\n",
       "      <th>531</th>\n",
       "      <td>Dr. Hao Zheng</td>\n",
       "      <td>PhD Architecture Alum, 2023</td>\n",
       "      <td>PhD Architecture</td>\n",
       "    </tr>\n",
       "    <tr>\n",
       "      <th>532</th>\n",
       "      <td>Yefan Zhi</td>\n",
       "      <td>PhD Student in Architecture</td>\n",
       "      <td>Architecture</td>\n",
       "    </tr>\n",
       "    <tr>\n",
       "      <th>533</th>\n",
       "      <td>Cynthia Zhou</td>\n",
       "      <td>Animator Researcher//Design and Fine Arts</td>\n",
       "      <td>Penn Animation as Research Lab</td>\n",
       "    </tr>\n",
       "    <tr>\n",
       "      <th>534</th>\n",
       "      <td>Jessica Zofchak</td>\n",
       "      <td>Lecturer</td>\n",
       "      <td>Architecture</td>\n",
       "    </tr>\n",
       "    <tr>\n",
       "      <th>535</th>\n",
       "      <td>Syd Zolf</td>\n",
       "      <td>Artist in Residence CPCW &amp; GSWS, FNAR Lecturer</td>\n",
       "      <td>Fine Arts</td>\n",
       "    </tr>\n",
       "  </tbody>\n",
       "</table>\n",
       "<p>536 rows × 3 columns</p>\n",
       "</div>"
      ],
      "text/plain": [
       "                 person                                           title  \\\n",
       "0        Anushka Samant                                         MCP '24   \n",
       "1              Tom Abel                   External Faculty Collaborator   \n",
       "2        Mostafa Akbari                   PhD Candidate in Architecture   \n",
       "3    Masoud  Akbarzadeh             Assistant Professor of Architecture   \n",
       "4            Scott Aker                                        Lecturer   \n",
       "..                  ...                                             ...   \n",
       "531       Dr. Hao Zheng                     PhD Architecture Alum, 2023   \n",
       "532           Yefan Zhi                     PhD Student in Architecture   \n",
       "533        Cynthia Zhou       Animator Researcher//Design and Fine Arts   \n",
       "534     Jessica Zofchak                                        Lecturer   \n",
       "535            Syd Zolf  Artist in Residence CPCW & GSWS, FNAR Lecturer   \n",
       "\n",
       "                                           dept  \n",
       "0                                    Admissions  \n",
       "1    Center for Environmental Building & Design  \n",
       "2                                  Architecture  \n",
       "3                                  Architecture  \n",
       "4                                  Architecture  \n",
       "..                                          ...  \n",
       "531                            PhD Architecture  \n",
       "532                                Architecture  \n",
       "533              Penn Animation as Research Lab  \n",
       "534                                Architecture  \n",
       "535                                   Fine Arts  \n",
       "\n",
       "[536 rows x 3 columns]"
      ]
     },
     "execution_count": 15,
     "metadata": {},
     "output_type": "execute_result"
    }
   ],
   "source": [
    "# Save content here\n",
    "data = []\n",
    "\n",
    "# Loop over all rows\n",
    "for row in rows:\n",
    "    # Person name\n",
    "    person = row.select_one(\".title\").text\n",
    "\n",
    "    # Title\n",
    "    title = row.select_one(\".meta\").text\n",
    "\n",
    "    # Deptarment\n",
    "    dept = row.select_one(\".dept\").text.strip()\n",
    "\n",
    "    data.append({\"person\": person, \"title\": title, \"dept\": dept})\n",
    "\n",
    "\n",
    "data = pd.DataFrame(data)\n",
    "\n",
    "data"
   ]
  },
  {
   "cell_type": "markdown",
   "metadata": {
    "hide_input": false,
    "slideshow": {
     "slide_type": "slide"
    }
   },
   "source": [
    "## Part 2: What about dynamic content?\n",
    "\n",
    "How do you scrape data that is loaded via Javascript or only appears after user interaction?"
   ]
  },
  {
   "cell_type": "markdown",
   "metadata": {
    "slideshow": {
     "slide_type": "slide"
    }
   },
   "source": [
    "<center>\n",
    "    <img src=\"imgs/yoda.png\" width=700>\n",
    "</center>"
   ]
  },
  {
   "cell_type": "markdown",
   "metadata": {
    "slideshow": {
     "slide_type": "slide"
    }
   },
   "source": [
    "::: {.callout-note}\n",
    "### Note: web browser needed\n",
    "\n",
    "You'll need a web browser installed to use `selenium`, e.g., FireFox, Google Chrome, Edge, etc.\n",
    ":::"
   ]
  },
  {
   "cell_type": "markdown",
   "metadata": {
    "slideshow": {
     "slide_type": "slide"
    }
   },
   "source": [
    "### Selenium \n",
    "\n",
    "- Designed as a framework for testing webpages during development\n",
    "- Provides an interface to interact with webpages just as a user would \n",
    "- Becoming increasingly popular for web scraping dynamic content from pages"
   ]
  },
  {
   "cell_type": "markdown",
   "metadata": {},
   "source": [
    "### Two common use cases\n",
    "\n",
    "Two cases when `requests.get()` won't work:\n",
    "\n",
    "1. Many sites load content via javascript, so requests.get() won't return anything. It doesn't load any javascript on the page, just returns the static HTML content.\n",
    "1. If the site requires user interaction via buttons, dropdowns, etc., then get requests won't be able to show that information.\n",
    "\n",
    "\n",
    "**But how to solve them?**\n",
    "\n",
    "1. Look on the \"Network\" tab for the external requests that the javascript is using to pull the data. \n",
    "1. Selenium to the rescue! "
   ]
  },
  {
   "cell_type": "markdown",
   "metadata": {},
   "source": [
    "Let's try it out!"
   ]
  },
  {
   "cell_type": "markdown",
   "metadata": {},
   "source": [
    "### Example #1: Philly's Property App\n",
    "\n",
    "- URL: [https://property.phila.gov/](https://property.phila.gov/)\n",
    "- Let's see if we can extract the property assessment values for my old apartment in Fairmount\n",
    "\n",
    "**Problem:** We'll need to enter an address, click a button, and THEN scrape the information."
   ]
  },
  {
   "cell_type": "markdown",
   "metadata": {
    "slideshow": {
     "slide_type": "slide"
    }
   },
   "source": [
    "#### 1. Initialize the web driver\n",
    "\n",
    "The initialization steps will depend on which browser you want to use!"
   ]
  },
  {
   "cell_type": "code",
   "execution_count": 16,
   "metadata": {
    "slideshow": {
     "slide_type": "slide"
    }
   },
   "outputs": [],
   "source": [
    "# Import the webdriver from selenium\n",
    "from selenium import webdriver"
   ]
  },
  {
   "cell_type": "markdown",
   "metadata": {
    "slideshow": {
     "slide_type": "subslide"
    }
   },
   "source": [
    "::: {.callout-important}\n",
    "#### Important: Working on Binder\n",
    "\n",
    "If you are working on Binder, you'll need to use FireFox in \"headless\" mode, which prevents a browser window from opening.\n",
    "\n",
    "If you are working locally, it's better to run with the default options — you'll be able to see the browser window open and change as we perform the web scraping.\n",
    ":::"
   ]
  },
  {
   "cell_type": "markdown",
   "metadata": {
    "slideshow": {
     "slide_type": "slide"
    }
   },
   "source": [
    "##### Using Google Chrome"
   ]
  },
  {
   "cell_type": "code",
   "execution_count": 17,
   "metadata": {
    "slideshow": {
     "slide_type": "fragment"
    }
   },
   "outputs": [],
   "source": [
    "# UNCOMMENT BELOW TO USE CHROME\n",
    "\n",
    "driver = webdriver.Chrome()"
   ]
  },
  {
   "cell_type": "markdown",
   "metadata": {
    "slideshow": {
     "slide_type": "slide"
    }
   },
   "source": [
    "##### Using Firefox\n",
    "\n",
    "If you are working on Binder, use the below code!"
   ]
  },
  {
   "cell_type": "code",
   "execution_count": 18,
   "metadata": {
    "slideshow": {
     "slide_type": "fragment"
    }
   },
   "outputs": [],
   "source": [
    "# UNCOMMENT BELOW IF ON BINDER\n",
    "\n",
    "# options = webdriver.FirefoxOptions()\n",
    "\n",
    "# IF ON BINDER, RUN IN \"HEADLESS\" MODE (NO BROWSER WINDOW IS OPENED)\n",
    "# COMMENT THIS LINE IF WORKING LOCALLY\n",
    "# options.add_argument(\"--headless\")\n",
    "\n",
    "# Initialize\n",
    "# driver = webdriver.Firefox(options=options)"
   ]
  },
  {
   "cell_type": "markdown",
   "metadata": {
    "slideshow": {
     "slide_type": "slide"
    }
   },
   "source": [
    "##### Using Microsoft Edge"
   ]
  },
  {
   "cell_type": "code",
   "execution_count": 19,
   "metadata": {
    "slideshow": {
     "slide_type": "fragment"
    }
   },
   "outputs": [],
   "source": [
    "# UNCOMMENT BELOW TO USE MICROSOFT EDGE\n",
    "\n",
    "#driver = webdriver.Edge()"
   ]
  },
  {
   "cell_type": "markdown",
   "metadata": {},
   "source": [
    "#### 2. Navigate to the URL"
   ]
  },
  {
   "cell_type": "code",
   "execution_count": 20,
   "metadata": {
    "tags": []
   },
   "outputs": [],
   "source": [
    "url = \"https://property.phila.gov/\"\n",
    "driver.get(url)"
   ]
  },
  {
   "cell_type": "markdown",
   "metadata": {},
   "source": [
    "#### 3. Select the address input element\n",
    "\n",
    "After it loads, let's take a look in the web inspector. We'll need to identify the search bar so we can input our desired address.\n",
    "\n",
    "It looks like the search bar has a class of `\"pvm-search-control-input\"`."
   ]
  },
  {
   "cell_type": "code",
   "execution_count": 21,
   "metadata": {
    "tags": []
   },
   "outputs": [],
   "source": [
    "# Use the dot syntax for class selectors\n",
    "address_input_selector = \".pvm-search-control-input\""
   ]
  },
  {
   "cell_type": "markdown",
   "metadata": {},
   "source": [
    "We can select it directly in selenium using the `driver.find_element()` function and telling selenium we are using a css selector to do the selection."
   ]
  },
  {
   "cell_type": "code",
   "execution_count": 22,
   "metadata": {
    "tags": []
   },
   "outputs": [],
   "source": [
    "from selenium.webdriver.common.by import By"
   ]
  },
  {
   "cell_type": "code",
   "execution_count": 24,
   "metadata": {
    "tags": []
   },
   "outputs": [],
   "source": [
    "# Select the address input by the element's CSS selector\n",
    "address_input = driver.find_element(By.CSS_SELECTOR, address_input_selector)"
   ]
  },
  {
   "cell_type": "markdown",
   "metadata": {},
   "source": [
    "#### 4. Type the address\n",
    "\n",
    "Use the `send_keys()` function to enter the text into the input element:"
   ]
  },
  {
   "cell_type": "code",
   "execution_count": 25,
   "metadata": {
    "tags": []
   },
   "outputs": [],
   "source": [
    "# Input our example address\n",
    "address_input.send_keys(\"1739 Wallace St #102\")"
   ]
  },
  {
   "cell_type": "markdown",
   "metadata": {},
   "source": [
    "#### 5. Select the search button and click it\n",
    "\n",
    "Using the web inspector, it looks like both the clear and search buttons have the class of `\"pvm-search-control-button\"`. Let's select both, choose the second button, and click it."
   ]
  },
  {
   "cell_type": "code",
   "execution_count": 30,
   "metadata": {
    "tags": []
   },
   "outputs": [],
   "source": [
    "button_selector = \".pvm-search-control-button\"\n",
    "\n",
    "# Get the button element\n",
    "buttons = driver.find_elements(By.CSS_SELECTOR, button_selector)"
   ]
  },
  {
   "cell_type": "code",
   "execution_count": 32,
   "metadata": {
    "tags": []
   },
   "outputs": [],
   "source": [
    "delete_button, search_button = buttons"
   ]
  },
  {
   "cell_type": "code",
   "execution_count": 33,
   "metadata": {
    "tags": []
   },
   "outputs": [],
   "source": [
    "# Click it\n",
    "search_button.click()"
   ]
  },
  {
   "cell_type": "markdown",
   "metadata": {},
   "source": [
    "#### 6. Use BeautifulSoup to parse the results\n",
    "\n",
    "- Use the `page_source` attribute to get the current HTML displayed on the page\n",
    "- Initialize a \"soup\" object with the HTML"
   ]
  },
  {
   "cell_type": "code",
   "execution_count": 34,
   "metadata": {
    "tags": []
   },
   "outputs": [],
   "source": [
    "propertySoup = BeautifulSoup(driver.page_source, \"html.parser\")"
   ]
  },
  {
   "cell_type": "markdown",
   "metadata": {},
   "source": [
    "From the web inspector, it looks like the table we want has an ID of `\"ownerProperties\"`. Let's select all of the elements with that ID:"
   ]
  },
  {
   "cell_type": "code",
   "execution_count": 35,
   "metadata": {
    "tags": []
   },
   "outputs": [],
   "source": [
    "# Use the # for ID selector\n",
    "table_selector = \"#ownerProperties\"\n",
    "\n",
    "tables = propertySoup.select(table_selector)"
   ]
  },
  {
   "cell_type": "code",
   "execution_count": 36,
   "metadata": {
    "tags": []
   },
   "outputs": [
    {
     "data": {
      "text/plain": [
       "2"
      ]
     },
     "execution_count": 36,
     "metadata": {},
     "output_type": "execute_result"
    }
   ],
   "source": [
    "len(tables)"
   ]
  },
  {
   "cell_type": "markdown",
   "metadata": {},
   "source": [
    "::: {.callout-caution}\n",
    "\n",
    "### Watch out! \n",
    "\n",
    "We selected by element ID, which *should* be unique but sometimes isn't! Here we see that multiple tables all share the same ID on the page. \n",
    "\n",
    ":::"
   ]
  },
  {
   "cell_type": "markdown",
   "metadata": {},
   "source": [
    "The table we want is the second table on the page with the ID \"ownerProperties\" — let's select it."
   ]
  },
  {
   "cell_type": "code",
   "execution_count": 39,
   "metadata": {
    "tags": []
   },
   "outputs": [
    {
     "data": {
      "text/plain": [
       "<table class=\"stack\" data-v-49670532=\"\" id=\"ownerProperties\" role=\"grid\"><thead data-v-49670532=\"\"><tr data-v-49670532=\"\"><th class=\"\" data-v-49670532=\"\" title=\"\"> Year </th><th class=\"\" data-v-49670532=\"\" title=\"\"> Market Value </th><th class=\"\" data-v-49670532=\"\" title=\"\"> Taxable Land </th><th class=\"\" data-v-49670532=\"\" title=\"\"> Taxable Improvement </th><th class=\"\" data-v-49670532=\"\" title=\"\"> Exempt Land </th><th class=\"\" data-v-49670532=\"\" title=\"\"> Exempt Improvement </th></tr></thead><tbody data-v-49670532=\"\"><tr class=\"\" data-v-49670532=\"\" data-v-6ed23da8=\"\"><td class=\"\" data-v-6ed23da8=\"\" sorttable_customkey=\"2024\"><div data-v-2ca357c0=\"\" data-v-6ed23da8=\"\"><div data-v-2ca357c0=\"\"></div><!-- --></div><b data-v-6ed23da8=\"\" style=\"display: none;\"><!-- --><div data-v-6ed23da8=\"\">2024</div></b><div data-v-6ed23da8=\"\"><!-- --><div data-v-6ed23da8=\"\"><div data-v-6ed23da8=\"\">2024</div><!-- --></div></div></td><td class=\"\" data-v-6ed23da8=\"\" sorttable_customkey=\"291400\"><div data-v-2ca357c0=\"\" data-v-6ed23da8=\"\"><div data-v-2ca357c0=\"\"></div><!-- --></div><b data-v-6ed23da8=\"\" style=\"display: none;\"><!-- --><div data-v-6ed23da8=\"\">$291,400</div></b><div data-v-6ed23da8=\"\"><!-- --><div data-v-6ed23da8=\"\"><div data-v-6ed23da8=\"\">$291,400</div><!-- --></div></div></td><td class=\"\" data-v-6ed23da8=\"\" sorttable_customkey=\"43700\"><div data-v-2ca357c0=\"\" data-v-6ed23da8=\"\"><div data-v-2ca357c0=\"\"></div><!-- --></div><b data-v-6ed23da8=\"\" style=\"display: none;\"><!-- --><div data-v-6ed23da8=\"\">$43,700</div></b><div data-v-6ed23da8=\"\"><!-- --><div data-v-6ed23da8=\"\"><div data-v-6ed23da8=\"\">$43,700</div><!-- --></div></div></td><td class=\"\" data-v-6ed23da8=\"\" sorttable_customkey=\"247700\"><div data-v-2ca357c0=\"\" data-v-6ed23da8=\"\"><div data-v-2ca357c0=\"\"></div><!-- --></div><b data-v-6ed23da8=\"\" style=\"display: none;\"><!-- --><div data-v-6ed23da8=\"\">$247,700</div></b><div data-v-6ed23da8=\"\"><!-- --><div data-v-6ed23da8=\"\"><div data-v-6ed23da8=\"\">$247,700</div><!-- --></div></div></td><td class=\"\" data-v-6ed23da8=\"\" sorttable_customkey=\"\"><div data-v-2ca357c0=\"\" data-v-6ed23da8=\"\"><div data-v-2ca357c0=\"\"></div><!-- --></div><b data-v-6ed23da8=\"\" style=\"display: none;\"><!-- --><div data-v-6ed23da8=\"\">$0</div></b><div data-v-6ed23da8=\"\"><!-- --><div data-v-6ed23da8=\"\"><div data-v-6ed23da8=\"\">$0</div><!-- --></div></div></td><td class=\"\" data-v-6ed23da8=\"\" sorttable_customkey=\"\"><div data-v-2ca357c0=\"\" data-v-6ed23da8=\"\"><div data-v-2ca357c0=\"\"></div><!-- --></div><b data-v-6ed23da8=\"\" style=\"display: none;\"><!-- --><div data-v-6ed23da8=\"\">$0</div></b><div data-v-6ed23da8=\"\"><!-- --><div data-v-6ed23da8=\"\"><div data-v-6ed23da8=\"\">$0</div><!-- --></div></div></td></tr><tr class=\"\" data-v-49670532=\"\" data-v-6ed23da8=\"\"><td class=\"\" data-v-6ed23da8=\"\" sorttable_customkey=\"2023\"><div data-v-2ca357c0=\"\" data-v-6ed23da8=\"\"><div data-v-2ca357c0=\"\"></div><!-- --></div><b data-v-6ed23da8=\"\" style=\"display: none;\"><!-- --><div data-v-6ed23da8=\"\">2023</div></b><div data-v-6ed23da8=\"\"><!-- --><div data-v-6ed23da8=\"\"><div data-v-6ed23da8=\"\">2023</div><!-- --></div></div></td><td class=\"\" data-v-6ed23da8=\"\" sorttable_customkey=\"291400\"><div data-v-2ca357c0=\"\" data-v-6ed23da8=\"\"><div data-v-2ca357c0=\"\"></div><!-- --></div><b data-v-6ed23da8=\"\" style=\"display: none;\"><!-- --><div data-v-6ed23da8=\"\">$291,400</div></b><div data-v-6ed23da8=\"\"><!-- --><div data-v-6ed23da8=\"\"><div data-v-6ed23da8=\"\">$291,400</div><!-- --></div></div></td><td class=\"\" data-v-6ed23da8=\"\" sorttable_customkey=\"43700\"><div data-v-2ca357c0=\"\" data-v-6ed23da8=\"\"><div data-v-2ca357c0=\"\"></div><!-- --></div><b data-v-6ed23da8=\"\" style=\"display: none;\"><!-- --><div data-v-6ed23da8=\"\">$43,700</div></b><div data-v-6ed23da8=\"\"><!-- --><div data-v-6ed23da8=\"\"><div data-v-6ed23da8=\"\">$43,700</div><!-- --></div></div></td><td class=\"\" data-v-6ed23da8=\"\" sorttable_customkey=\"247700\"><div data-v-2ca357c0=\"\" data-v-6ed23da8=\"\"><div data-v-2ca357c0=\"\"></div><!-- --></div><b data-v-6ed23da8=\"\" style=\"display: none;\"><!-- --><div data-v-6ed23da8=\"\">$247,700</div></b><div data-v-6ed23da8=\"\"><!-- --><div data-v-6ed23da8=\"\"><div data-v-6ed23da8=\"\">$247,700</div><!-- --></div></div></td><td class=\"\" data-v-6ed23da8=\"\" sorttable_customkey=\"\"><div data-v-2ca357c0=\"\" data-v-6ed23da8=\"\"><div data-v-2ca357c0=\"\"></div><!-- --></div><b data-v-6ed23da8=\"\" style=\"display: none;\"><!-- --><div data-v-6ed23da8=\"\">$0</div></b><div data-v-6ed23da8=\"\"><!-- --><div data-v-6ed23da8=\"\"><div data-v-6ed23da8=\"\">$0</div><!-- --></div></div></td><td class=\"\" data-v-6ed23da8=\"\" sorttable_customkey=\"\"><div data-v-2ca357c0=\"\" data-v-6ed23da8=\"\"><div data-v-2ca357c0=\"\"></div><!-- --></div><b data-v-6ed23da8=\"\" style=\"display: none;\"><!-- --><div data-v-6ed23da8=\"\">$0</div></b><div data-v-6ed23da8=\"\"><!-- --><div data-v-6ed23da8=\"\"><div data-v-6ed23da8=\"\">$0</div><!-- --></div></div></td></tr><tr class=\"\" data-v-49670532=\"\" data-v-6ed23da8=\"\"><td class=\"\" data-v-6ed23da8=\"\" sorttable_customkey=\"2022\"><div data-v-2ca357c0=\"\" data-v-6ed23da8=\"\"><div data-v-2ca357c0=\"\"></div><!-- --></div><b data-v-6ed23da8=\"\" style=\"display: none;\"><!-- --><div data-v-6ed23da8=\"\">2022</div></b><div data-v-6ed23da8=\"\"><!-- --><div data-v-6ed23da8=\"\"><div data-v-6ed23da8=\"\">2022</div><!-- --></div></div></td><td class=\"\" data-v-6ed23da8=\"\" sorttable_customkey=\"264900\"><div data-v-2ca357c0=\"\" data-v-6ed23da8=\"\"><div data-v-2ca357c0=\"\"></div><!-- --></div><b data-v-6ed23da8=\"\" style=\"display: none;\"><!-- --><div data-v-6ed23da8=\"\">$264,900</div></b><div data-v-6ed23da8=\"\"><!-- --><div data-v-6ed23da8=\"\"><div data-v-6ed23da8=\"\">$264,900</div><!-- --></div></div></td><td class=\"\" data-v-6ed23da8=\"\" sorttable_customkey=\"39735\"><div data-v-2ca357c0=\"\" data-v-6ed23da8=\"\"><div data-v-2ca357c0=\"\"></div><!-- --></div><b data-v-6ed23da8=\"\" style=\"display: none;\"><!-- --><div data-v-6ed23da8=\"\">$39,735</div></b><div data-v-6ed23da8=\"\"><!-- --><div data-v-6ed23da8=\"\"><div data-v-6ed23da8=\"\">$39,735</div><!-- --></div></div></td><td class=\"\" data-v-6ed23da8=\"\" sorttable_customkey=\"225165\"><div data-v-2ca357c0=\"\" data-v-6ed23da8=\"\"><div data-v-2ca357c0=\"\"></div><!-- --></div><b data-v-6ed23da8=\"\" style=\"display: none;\"><!-- --><div data-v-6ed23da8=\"\">$225,165</div></b><div data-v-6ed23da8=\"\"><!-- --><div data-v-6ed23da8=\"\"><div data-v-6ed23da8=\"\">$225,165</div><!-- --></div></div></td><td class=\"\" data-v-6ed23da8=\"\" sorttable_customkey=\"\"><div data-v-2ca357c0=\"\" data-v-6ed23da8=\"\"><div data-v-2ca357c0=\"\"></div><!-- --></div><b data-v-6ed23da8=\"\" style=\"display: none;\"><!-- --><div data-v-6ed23da8=\"\">$0</div></b><div data-v-6ed23da8=\"\"><!-- --><div data-v-6ed23da8=\"\"><div data-v-6ed23da8=\"\">$0</div><!-- --></div></div></td><td class=\"\" data-v-6ed23da8=\"\" sorttable_customkey=\"\"><div data-v-2ca357c0=\"\" data-v-6ed23da8=\"\"><div data-v-2ca357c0=\"\"></div><!-- --></div><b data-v-6ed23da8=\"\" style=\"display: none;\"><!-- --><div data-v-6ed23da8=\"\">$0</div></b><div data-v-6ed23da8=\"\"><!-- --><div data-v-6ed23da8=\"\"><div data-v-6ed23da8=\"\">$0</div><!-- --></div></div></td></tr><tr class=\"\" data-v-49670532=\"\" data-v-6ed23da8=\"\"><td class=\"\" data-v-6ed23da8=\"\" sorttable_customkey=\"2021\"><div data-v-2ca357c0=\"\" data-v-6ed23da8=\"\"><div data-v-2ca357c0=\"\"></div><!-- --></div><b data-v-6ed23da8=\"\" style=\"display: none;\"><!-- --><div data-v-6ed23da8=\"\">2021</div></b><div data-v-6ed23da8=\"\"><!-- --><div data-v-6ed23da8=\"\"><div data-v-6ed23da8=\"\">2021</div><!-- --></div></div></td><td class=\"\" data-v-6ed23da8=\"\" sorttable_customkey=\"264900\"><div data-v-2ca357c0=\"\" data-v-6ed23da8=\"\"><div data-v-2ca357c0=\"\"></div><!-- --></div><b data-v-6ed23da8=\"\" style=\"display: none;\"><!-- --><div data-v-6ed23da8=\"\">$264,900</div></b><div data-v-6ed23da8=\"\"><!-- --><div data-v-6ed23da8=\"\"><div data-v-6ed23da8=\"\">$264,900</div><!-- --></div></div></td><td class=\"\" data-v-6ed23da8=\"\" sorttable_customkey=\"39735\"><div data-v-2ca357c0=\"\" data-v-6ed23da8=\"\"><div data-v-2ca357c0=\"\"></div><!-- --></div><b data-v-6ed23da8=\"\" style=\"display: none;\"><!-- --><div data-v-6ed23da8=\"\">$39,735</div></b><div data-v-6ed23da8=\"\"><!-- --><div data-v-6ed23da8=\"\"><div data-v-6ed23da8=\"\">$39,735</div><!-- --></div></div></td><td class=\"\" data-v-6ed23da8=\"\" sorttable_customkey=\"225165\"><div data-v-2ca357c0=\"\" data-v-6ed23da8=\"\"><div data-v-2ca357c0=\"\"></div><!-- --></div><b data-v-6ed23da8=\"\" style=\"display: none;\"><!-- --><div data-v-6ed23da8=\"\">$225,165</div></b><div data-v-6ed23da8=\"\"><!-- --><div data-v-6ed23da8=\"\"><div data-v-6ed23da8=\"\">$225,165</div><!-- --></div></div></td><td class=\"\" data-v-6ed23da8=\"\" sorttable_customkey=\"\"><div data-v-2ca357c0=\"\" data-v-6ed23da8=\"\"><div data-v-2ca357c0=\"\"></div><!-- --></div><b data-v-6ed23da8=\"\" style=\"display: none;\"><!-- --><div data-v-6ed23da8=\"\">$0</div></b><div data-v-6ed23da8=\"\"><!-- --><div data-v-6ed23da8=\"\"><div data-v-6ed23da8=\"\">$0</div><!-- --></div></div></td><td class=\"\" data-v-6ed23da8=\"\" sorttable_customkey=\"\"><div data-v-2ca357c0=\"\" data-v-6ed23da8=\"\"><div data-v-2ca357c0=\"\"></div><!-- --></div><b data-v-6ed23da8=\"\" style=\"display: none;\"><!-- --><div data-v-6ed23da8=\"\">$0</div></b><div data-v-6ed23da8=\"\"><!-- --><div data-v-6ed23da8=\"\"><div data-v-6ed23da8=\"\">$0</div><!-- --></div></div></td></tr><tr class=\"\" data-v-49670532=\"\" data-v-6ed23da8=\"\"><td class=\"\" data-v-6ed23da8=\"\" sorttable_customkey=\"2020\"><div data-v-2ca357c0=\"\" data-v-6ed23da8=\"\"><div data-v-2ca357c0=\"\"></div><!-- --></div><b data-v-6ed23da8=\"\" style=\"display: none;\"><!-- --><div data-v-6ed23da8=\"\">2020</div></b><div data-v-6ed23da8=\"\"><!-- --><div data-v-6ed23da8=\"\"><div data-v-6ed23da8=\"\">2020</div><!-- --></div></div></td><td class=\"\" data-v-6ed23da8=\"\" sorttable_customkey=\"264900\"><div data-v-2ca357c0=\"\" data-v-6ed23da8=\"\"><div data-v-2ca357c0=\"\"></div><!-- --></div><b data-v-6ed23da8=\"\" style=\"display: none;\"><!-- --><div data-v-6ed23da8=\"\">$264,900</div></b><div data-v-6ed23da8=\"\"><!-- --><div data-v-6ed23da8=\"\"><div data-v-6ed23da8=\"\">$264,900</div><!-- --></div></div></td><td class=\"\" data-v-6ed23da8=\"\" sorttable_customkey=\"39735\"><div data-v-2ca357c0=\"\" data-v-6ed23da8=\"\"><div data-v-2ca357c0=\"\"></div><!-- --></div><b data-v-6ed23da8=\"\" style=\"display: none;\"><!-- --><div data-v-6ed23da8=\"\">$39,735</div></b><div data-v-6ed23da8=\"\"><!-- --><div data-v-6ed23da8=\"\"><div data-v-6ed23da8=\"\">$39,735</div><!-- --></div></div></td><td class=\"\" data-v-6ed23da8=\"\" sorttable_customkey=\"225165\"><div data-v-2ca357c0=\"\" data-v-6ed23da8=\"\"><div data-v-2ca357c0=\"\"></div><!-- --></div><b data-v-6ed23da8=\"\" style=\"display: none;\"><!-- --><div data-v-6ed23da8=\"\">$225,165</div></b><div data-v-6ed23da8=\"\"><!-- --><div data-v-6ed23da8=\"\"><div data-v-6ed23da8=\"\">$225,165</div><!-- --></div></div></td><td class=\"\" data-v-6ed23da8=\"\" sorttable_customkey=\"\"><div data-v-2ca357c0=\"\" data-v-6ed23da8=\"\"><div data-v-2ca357c0=\"\"></div><!-- --></div><b data-v-6ed23da8=\"\" style=\"display: none;\"><!-- --><div data-v-6ed23da8=\"\">$0</div></b><div data-v-6ed23da8=\"\"><!-- --><div data-v-6ed23da8=\"\"><div data-v-6ed23da8=\"\">$0</div><!-- --></div></div></td><td class=\"\" data-v-6ed23da8=\"\" sorttable_customkey=\"\"><div data-v-2ca357c0=\"\" data-v-6ed23da8=\"\"><div data-v-2ca357c0=\"\"></div><!-- --></div><b data-v-6ed23da8=\"\" style=\"display: none;\"><!-- --><div data-v-6ed23da8=\"\">$0</div></b><div data-v-6ed23da8=\"\"><!-- --><div data-v-6ed23da8=\"\"><div data-v-6ed23da8=\"\">$0</div><!-- --></div></div></td></tr><tr class=\"\" data-v-49670532=\"\" data-v-6ed23da8=\"\"><td class=\"\" data-v-6ed23da8=\"\" sorttable_customkey=\"2019\"><div data-v-2ca357c0=\"\" data-v-6ed23da8=\"\"><div data-v-2ca357c0=\"\"></div><!-- --></div><b data-v-6ed23da8=\"\" style=\"display: none;\"><!-- --><div data-v-6ed23da8=\"\">2019</div></b><div data-v-6ed23da8=\"\"><!-- --><div data-v-6ed23da8=\"\"><div data-v-6ed23da8=\"\">2019</div><!-- --></div></div></td><td class=\"\" data-v-6ed23da8=\"\" sorttable_customkey=\"264900\"><div data-v-2ca357c0=\"\" data-v-6ed23da8=\"\"><div data-v-2ca357c0=\"\"></div><!-- --></div><b data-v-6ed23da8=\"\" style=\"display: none;\"><!-- --><div data-v-6ed23da8=\"\">$264,900</div></b><div data-v-6ed23da8=\"\"><!-- --><div data-v-6ed23da8=\"\"><div data-v-6ed23da8=\"\">$264,900</div><!-- --></div></div></td><td class=\"\" data-v-6ed23da8=\"\" sorttable_customkey=\"39735\"><div data-v-2ca357c0=\"\" data-v-6ed23da8=\"\"><div data-v-2ca357c0=\"\"></div><!-- --></div><b data-v-6ed23da8=\"\" style=\"display: none;\"><!-- --><div data-v-6ed23da8=\"\">$39,735</div></b><div data-v-6ed23da8=\"\"><!-- --><div data-v-6ed23da8=\"\"><div data-v-6ed23da8=\"\">$39,735</div><!-- --></div></div></td><td class=\"\" data-v-6ed23da8=\"\" sorttable_customkey=\"185165\"><div data-v-2ca357c0=\"\" data-v-6ed23da8=\"\"><div data-v-2ca357c0=\"\"></div><!-- --></div><b data-v-6ed23da8=\"\" style=\"display: none;\"><!-- --><div data-v-6ed23da8=\"\">$185,165</div></b><div data-v-6ed23da8=\"\"><!-- --><div data-v-6ed23da8=\"\"><div data-v-6ed23da8=\"\">$185,165</div><!-- --></div></div></td><td class=\"\" data-v-6ed23da8=\"\" sorttable_customkey=\"\"><div data-v-2ca357c0=\"\" data-v-6ed23da8=\"\"><div data-v-2ca357c0=\"\"></div><!-- --></div><b data-v-6ed23da8=\"\" style=\"display: none;\"><!-- --><div data-v-6ed23da8=\"\">$0</div></b><div data-v-6ed23da8=\"\"><!-- --><div data-v-6ed23da8=\"\"><div data-v-6ed23da8=\"\">$0</div><!-- --></div></div></td><td class=\"\" data-v-6ed23da8=\"\" sorttable_customkey=\"40000\"><div data-v-2ca357c0=\"\" data-v-6ed23da8=\"\"><div data-v-2ca357c0=\"\"></div><!-- --></div><b data-v-6ed23da8=\"\" style=\"display: none;\"><!-- --><div data-v-6ed23da8=\"\">$40,000</div></b><div data-v-6ed23da8=\"\"><!-- --><div data-v-6ed23da8=\"\"><div data-v-6ed23da8=\"\">$40,000</div><!-- --></div></div></td></tr><tr class=\"\" data-v-49670532=\"\" data-v-6ed23da8=\"\"><td class=\"\" data-v-6ed23da8=\"\" sorttable_customkey=\"2018\"><div data-v-2ca357c0=\"\" data-v-6ed23da8=\"\"><div data-v-2ca357c0=\"\"></div><!-- --></div><b data-v-6ed23da8=\"\" style=\"display: none;\"><!-- --><div data-v-6ed23da8=\"\">2018</div></b><div data-v-6ed23da8=\"\"><!-- --><div data-v-6ed23da8=\"\"><div data-v-6ed23da8=\"\">2018</div><!-- --></div></div></td><td class=\"\" data-v-6ed23da8=\"\" sorttable_customkey=\"240800\"><div data-v-2ca357c0=\"\" data-v-6ed23da8=\"\"><div data-v-2ca357c0=\"\"></div><!-- --></div><b data-v-6ed23da8=\"\" style=\"display: none;\"><!-- --><div data-v-6ed23da8=\"\">$240,800</div></b><div data-v-6ed23da8=\"\"><!-- --><div data-v-6ed23da8=\"\"><div data-v-6ed23da8=\"\">$240,800</div><!-- --></div></div></td><td class=\"\" data-v-6ed23da8=\"\" sorttable_customkey=\"38528\"><div data-v-2ca357c0=\"\" data-v-6ed23da8=\"\"><div data-v-2ca357c0=\"\"></div><!-- --></div><b data-v-6ed23da8=\"\" style=\"display: none;\"><!-- --><div data-v-6ed23da8=\"\">$38,528</div></b><div data-v-6ed23da8=\"\"><!-- --><div data-v-6ed23da8=\"\"><div data-v-6ed23da8=\"\">$38,528</div><!-- --></div></div></td><td class=\"\" data-v-6ed23da8=\"\" sorttable_customkey=\"172272\"><div data-v-2ca357c0=\"\" data-v-6ed23da8=\"\"><div data-v-2ca357c0=\"\"></div><!-- --></div><b data-v-6ed23da8=\"\" style=\"display: none;\"><!-- --><div data-v-6ed23da8=\"\">$172,272</div></b><div data-v-6ed23da8=\"\"><!-- --><div data-v-6ed23da8=\"\"><div data-v-6ed23da8=\"\">$172,272</div><!-- --></div></div></td><td class=\"\" data-v-6ed23da8=\"\" sorttable_customkey=\"\"><div data-v-2ca357c0=\"\" data-v-6ed23da8=\"\"><div data-v-2ca357c0=\"\"></div><!-- --></div><b data-v-6ed23da8=\"\" style=\"display: none;\"><!-- --><div data-v-6ed23da8=\"\">$0</div></b><div data-v-6ed23da8=\"\"><!-- --><div data-v-6ed23da8=\"\"><div data-v-6ed23da8=\"\">$0</div><!-- --></div></div></td><td class=\"\" data-v-6ed23da8=\"\" sorttable_customkey=\"30000\"><div data-v-2ca357c0=\"\" data-v-6ed23da8=\"\"><div data-v-2ca357c0=\"\"></div><!-- --></div><b data-v-6ed23da8=\"\" style=\"display: none;\"><!-- --><div data-v-6ed23da8=\"\">$30,000</div></b><div data-v-6ed23da8=\"\"><!-- --><div data-v-6ed23da8=\"\"><div data-v-6ed23da8=\"\">$30,000</div><!-- --></div></div></td></tr><tr class=\"\" data-v-49670532=\"\" data-v-6ed23da8=\"\"><td class=\"\" data-v-6ed23da8=\"\" sorttable_customkey=\"2017\"><div data-v-2ca357c0=\"\" data-v-6ed23da8=\"\"><div data-v-2ca357c0=\"\"></div><!-- --></div><b data-v-6ed23da8=\"\" style=\"display: none;\"><!-- --><div data-v-6ed23da8=\"\">2017</div></b><div data-v-6ed23da8=\"\"><!-- --><div data-v-6ed23da8=\"\"><div data-v-6ed23da8=\"\">2017</div><!-- --></div></div></td><td class=\"\" data-v-6ed23da8=\"\" sorttable_customkey=\"240800\"><div data-v-2ca357c0=\"\" data-v-6ed23da8=\"\"><div data-v-2ca357c0=\"\"></div><!-- --></div><b data-v-6ed23da8=\"\" style=\"display: none;\"><!-- --><div data-v-6ed23da8=\"\">$240,800</div></b><div data-v-6ed23da8=\"\"><!-- --><div data-v-6ed23da8=\"\"><div data-v-6ed23da8=\"\">$240,800</div><!-- --></div></div></td><td class=\"\" data-v-6ed23da8=\"\" sorttable_customkey=\"38528\"><div data-v-2ca357c0=\"\" data-v-6ed23da8=\"\"><div data-v-2ca357c0=\"\"></div><!-- --></div><b data-v-6ed23da8=\"\" style=\"display: none;\"><!-- --><div data-v-6ed23da8=\"\">$38,528</div></b><div data-v-6ed23da8=\"\"><!-- --><div data-v-6ed23da8=\"\"><div data-v-6ed23da8=\"\">$38,528</div><!-- --></div></div></td><td class=\"\" data-v-6ed23da8=\"\" sorttable_customkey=\"172272\"><div data-v-2ca357c0=\"\" data-v-6ed23da8=\"\"><div data-v-2ca357c0=\"\"></div><!-- --></div><b data-v-6ed23da8=\"\" style=\"display: none;\"><!-- --><div data-v-6ed23da8=\"\">$172,272</div></b><div data-v-6ed23da8=\"\"><!-- --><div data-v-6ed23da8=\"\"><div data-v-6ed23da8=\"\">$172,272</div><!-- --></div></div></td><td class=\"\" data-v-6ed23da8=\"\" sorttable_customkey=\"\"><div data-v-2ca357c0=\"\" data-v-6ed23da8=\"\"><div data-v-2ca357c0=\"\"></div><!-- --></div><b data-v-6ed23da8=\"\" style=\"display: none;\"><!-- --><div data-v-6ed23da8=\"\">$0</div></b><div data-v-6ed23da8=\"\"><!-- --><div data-v-6ed23da8=\"\"><div data-v-6ed23da8=\"\">$0</div><!-- --></div></div></td><td class=\"\" data-v-6ed23da8=\"\" sorttable_customkey=\"30000\"><div data-v-2ca357c0=\"\" data-v-6ed23da8=\"\"><div data-v-2ca357c0=\"\"></div><!-- --></div><b data-v-6ed23da8=\"\" style=\"display: none;\"><!-- --><div data-v-6ed23da8=\"\">$30,000</div></b><div data-v-6ed23da8=\"\"><!-- --><div data-v-6ed23da8=\"\"><div data-v-6ed23da8=\"\">$30,000</div><!-- --></div></div></td></tr><tr class=\"\" data-v-49670532=\"\" data-v-6ed23da8=\"\"><td class=\"\" data-v-6ed23da8=\"\" sorttable_customkey=\"2016\"><div data-v-2ca357c0=\"\" data-v-6ed23da8=\"\"><div data-v-2ca357c0=\"\"></div><!-- --></div><b data-v-6ed23da8=\"\" style=\"display: none;\"><!-- --><div data-v-6ed23da8=\"\">2016</div></b><div data-v-6ed23da8=\"\"><!-- --><div data-v-6ed23da8=\"\"><div data-v-6ed23da8=\"\">2016</div><!-- --></div></div></td><td class=\"\" data-v-6ed23da8=\"\" sorttable_customkey=\"209400\"><div data-v-2ca357c0=\"\" data-v-6ed23da8=\"\"><div data-v-2ca357c0=\"\"></div><!-- --></div><b data-v-6ed23da8=\"\" style=\"display: none;\"><!-- --><div data-v-6ed23da8=\"\">$209,400</div></b><div data-v-6ed23da8=\"\"><!-- --><div data-v-6ed23da8=\"\"><div data-v-6ed23da8=\"\">$209,400</div><!-- --></div></div></td><td class=\"\" data-v-6ed23da8=\"\" sorttable_customkey=\"20940\"><div data-v-2ca357c0=\"\" data-v-6ed23da8=\"\"><div data-v-2ca357c0=\"\"></div><!-- --></div><b data-v-6ed23da8=\"\" style=\"display: none;\"><!-- --><div data-v-6ed23da8=\"\">$20,940</div></b><div data-v-6ed23da8=\"\"><!-- --><div data-v-6ed23da8=\"\"><div data-v-6ed23da8=\"\">$20,940</div><!-- --></div></div></td><td class=\"\" data-v-6ed23da8=\"\" sorttable_customkey=\"158460\"><div data-v-2ca357c0=\"\" data-v-6ed23da8=\"\"><div data-v-2ca357c0=\"\"></div><!-- --></div><b data-v-6ed23da8=\"\" style=\"display: none;\"><!-- --><div data-v-6ed23da8=\"\">$158,460</div></b><div data-v-6ed23da8=\"\"><!-- --><div data-v-6ed23da8=\"\"><div data-v-6ed23da8=\"\">$158,460</div><!-- --></div></div></td><td class=\"\" data-v-6ed23da8=\"\" sorttable_customkey=\"\"><div data-v-2ca357c0=\"\" data-v-6ed23da8=\"\"><div data-v-2ca357c0=\"\"></div><!-- --></div><b data-v-6ed23da8=\"\" style=\"display: none;\"><!-- --><div data-v-6ed23da8=\"\">$0</div></b><div data-v-6ed23da8=\"\"><!-- --><div data-v-6ed23da8=\"\"><div data-v-6ed23da8=\"\">$0</div><!-- --></div></div></td><td class=\"\" data-v-6ed23da8=\"\" sorttable_customkey=\"30000\"><div data-v-2ca357c0=\"\" data-v-6ed23da8=\"\"><div data-v-2ca357c0=\"\"></div><!-- --></div><b data-v-6ed23da8=\"\" style=\"display: none;\"><!-- --><div data-v-6ed23da8=\"\">$30,000</div></b><div data-v-6ed23da8=\"\"><!-- --><div data-v-6ed23da8=\"\"><div data-v-6ed23da8=\"\">$30,000</div><!-- --></div></div></td></tr><tr class=\"\" data-v-49670532=\"\" data-v-6ed23da8=\"\"><td class=\"\" data-v-6ed23da8=\"\" sorttable_customkey=\"2015\"><div data-v-2ca357c0=\"\" data-v-6ed23da8=\"\"><div data-v-2ca357c0=\"\"></div><!-- --></div><b data-v-6ed23da8=\"\" style=\"display: none;\"><!-- --><div data-v-6ed23da8=\"\">2015</div></b><div data-v-6ed23da8=\"\"><!-- --><div data-v-6ed23da8=\"\"><div data-v-6ed23da8=\"\">2015</div><!-- --></div></div></td><td class=\"\" data-v-6ed23da8=\"\" sorttable_customkey=\"209400\"><div data-v-2ca357c0=\"\" data-v-6ed23da8=\"\"><div data-v-2ca357c0=\"\"></div><!-- --></div><b data-v-6ed23da8=\"\" style=\"display: none;\"><!-- --><div data-v-6ed23da8=\"\">$209,400</div></b><div data-v-6ed23da8=\"\"><!-- --><div data-v-6ed23da8=\"\"><div data-v-6ed23da8=\"\">$209,400</div><!-- --></div></div></td><td class=\"\" data-v-6ed23da8=\"\" sorttable_customkey=\"20940\"><div data-v-2ca357c0=\"\" data-v-6ed23da8=\"\"><div data-v-2ca357c0=\"\"></div><!-- --></div><b data-v-6ed23da8=\"\" style=\"display: none;\"><!-- --><div data-v-6ed23da8=\"\">$20,940</div></b><div data-v-6ed23da8=\"\"><!-- --><div data-v-6ed23da8=\"\"><div data-v-6ed23da8=\"\">$20,940</div><!-- --></div></div></td><td class=\"\" data-v-6ed23da8=\"\" sorttable_customkey=\"158460\"><div data-v-2ca357c0=\"\" data-v-6ed23da8=\"\"><div data-v-2ca357c0=\"\"></div><!-- --></div><b data-v-6ed23da8=\"\" style=\"display: none;\"><!-- --><div data-v-6ed23da8=\"\">$158,460</div></b><div data-v-6ed23da8=\"\"><!-- --><div data-v-6ed23da8=\"\"><div data-v-6ed23da8=\"\">$158,460</div><!-- --></div></div></td><td class=\"\" data-v-6ed23da8=\"\" sorttable_customkey=\"\"><div data-v-2ca357c0=\"\" data-v-6ed23da8=\"\"><div data-v-2ca357c0=\"\"></div><!-- --></div><b data-v-6ed23da8=\"\" style=\"display: none;\"><!-- --><div data-v-6ed23da8=\"\">$0</div></b><div data-v-6ed23da8=\"\"><!-- --><div data-v-6ed23da8=\"\"><div data-v-6ed23da8=\"\">$0</div><!-- --></div></div></td><td class=\"\" data-v-6ed23da8=\"\" sorttable_customkey=\"30000\"><div data-v-2ca357c0=\"\" data-v-6ed23da8=\"\"><div data-v-2ca357c0=\"\"></div><!-- --></div><b data-v-6ed23da8=\"\" style=\"display: none;\"><!-- --><div data-v-6ed23da8=\"\">$30,000</div></b><div data-v-6ed23da8=\"\"><!-- --><div data-v-6ed23da8=\"\"><div data-v-6ed23da8=\"\">$30,000</div><!-- --></div></div></td></tr><!-- --></tbody></table>"
      ]
     },
     "execution_count": 39,
     "metadata": {},
     "output_type": "execute_result"
    }
   ],
   "source": [
    "tables[1]"
   ]
  },
  {
   "cell_type": "code",
   "execution_count": 40,
   "metadata": {
    "tags": []
   },
   "outputs": [],
   "source": [
    "table = tables[1]"
   ]
  },
  {
   "cell_type": "markdown",
   "metadata": {},
   "source": [
    "Select all the rows in the table (the `<tr>` elements):"
   ]
  },
  {
   "cell_type": "code",
   "execution_count": 41,
   "metadata": {
    "tags": []
   },
   "outputs": [],
   "source": [
    "# Select all row (<tr>) elements in the table tbody\n",
    "rows = table.select(\"tbody tr\")"
   ]
  },
  {
   "cell_type": "markdown",
   "metadata": {},
   "source": [
    "Now, we can take a look at each `<tr>` element and extract each cell's data in the `<td>` cell"
   ]
  },
  {
   "cell_type": "code",
   "execution_count": 42,
   "metadata": {
    "tags": []
   },
   "outputs": [
    {
     "name": "stdout",
     "output_type": "stream",
     "text": [
      "<tr class=\"\" data-v-49670532=\"\" data-v-6ed23da8=\"\">\n",
      " <td class=\"\" data-v-6ed23da8=\"\" sorttable_customkey=\"2024\">\n",
      "  <div data-v-2ca357c0=\"\" data-v-6ed23da8=\"\">\n",
      "   <div data-v-2ca357c0=\"\">\n",
      "   </div>\n",
      "   <!-- -->\n",
      "  </div>\n",
      "  <b data-v-6ed23da8=\"\" style=\"display: none;\">\n",
      "   <!-- -->\n",
      "   <div data-v-6ed23da8=\"\">\n",
      "    2024\n",
      "   </div>\n",
      "  </b>\n",
      "  <div data-v-6ed23da8=\"\">\n",
      "   <!-- -->\n",
      "   <div data-v-6ed23da8=\"\">\n",
      "    <div data-v-6ed23da8=\"\">\n",
      "     2024\n",
      "    </div>\n",
      "    <!-- -->\n",
      "   </div>\n",
      "  </div>\n",
      " </td>\n",
      " <td class=\"\" data-v-6ed23da8=\"\" sorttable_customkey=\"291400\">\n",
      "  <div data-v-2ca357c0=\"\" data-v-6ed23da8=\"\">\n",
      "   <div data-v-2ca357c0=\"\">\n",
      "   </div>\n",
      "   <!-- -->\n",
      "  </div>\n",
      "  <b data-v-6ed23da8=\"\" style=\"display: none;\">\n",
      "   <!-- -->\n",
      "   <div data-v-6ed23da8=\"\">\n",
      "    $291,400\n",
      "   </div>\n",
      "  </b>\n",
      "  <div data-v-6ed23da8=\"\">\n",
      "   <!-- -->\n",
      "   <div data-v-6ed23da8=\"\">\n",
      "    <div data-v-6ed23da8=\"\">\n",
      "     $291,400\n",
      "    </div>\n",
      "    <!-- -->\n",
      "   </div>\n",
      "  </div>\n",
      " </td>\n",
      " <td class=\"\" data-v-6ed23da8=\"\" sorttable_customkey=\"43700\">\n",
      "  <div data-v-2ca357c0=\"\" data-v-6ed23da8=\"\">\n",
      "   <div data-v-2ca357c0=\"\">\n",
      "   </div>\n",
      "   <!-- -->\n",
      "  </div>\n",
      "  <b data-v-6ed23da8=\"\" style=\"display: none;\">\n",
      "   <!-- -->\n",
      "   <div data-v-6ed23da8=\"\">\n",
      "    $43,700\n",
      "   </div>\n",
      "  </b>\n",
      "  <div data-v-6ed23da8=\"\">\n",
      "   <!-- -->\n",
      "   <div data-v-6ed23da8=\"\">\n",
      "    <div data-v-6ed23da8=\"\">\n",
      "     $43,700\n",
      "    </div>\n",
      "    <!-- -->\n",
      "   </div>\n",
      "  </div>\n",
      " </td>\n",
      " <td class=\"\" data-v-6ed23da8=\"\" sorttable_customkey=\"247700\">\n",
      "  <div data-v-2ca357c0=\"\" data-v-6ed23da8=\"\">\n",
      "   <div data-v-2ca357c0=\"\">\n",
      "   </div>\n",
      "   <!-- -->\n",
      "  </div>\n",
      "  <b data-v-6ed23da8=\"\" style=\"display: none;\">\n",
      "   <!-- -->\n",
      "   <div data-v-6ed23da8=\"\">\n",
      "    $247,700\n",
      "   </div>\n",
      "  </b>\n",
      "  <div data-v-6ed23da8=\"\">\n",
      "   <!-- -->\n",
      "   <div data-v-6ed23da8=\"\">\n",
      "    <div data-v-6ed23da8=\"\">\n",
      "     $247,700\n",
      "    </div>\n",
      "    <!-- -->\n",
      "   </div>\n",
      "  </div>\n",
      " </td>\n",
      " <td class=\"\" data-v-6ed23da8=\"\" sorttable_customkey=\"\">\n",
      "  <div data-v-2ca357c0=\"\" data-v-6ed23da8=\"\">\n",
      "   <div data-v-2ca357c0=\"\">\n",
      "   </div>\n",
      "   <!-- -->\n",
      "  </div>\n",
      "  <b data-v-6ed23da8=\"\" style=\"display: none;\">\n",
      "   <!-- -->\n",
      "   <div data-v-6ed23da8=\"\">\n",
      "    $0\n",
      "   </div>\n",
      "  </b>\n",
      "  <div data-v-6ed23da8=\"\">\n",
      "   <!-- -->\n",
      "   <div data-v-6ed23da8=\"\">\n",
      "    <div data-v-6ed23da8=\"\">\n",
      "     $0\n",
      "    </div>\n",
      "    <!-- -->\n",
      "   </div>\n",
      "  </div>\n",
      " </td>\n",
      " <td class=\"\" data-v-6ed23da8=\"\" sorttable_customkey=\"\">\n",
      "  <div data-v-2ca357c0=\"\" data-v-6ed23da8=\"\">\n",
      "   <div data-v-2ca357c0=\"\">\n",
      "   </div>\n",
      "   <!-- -->\n",
      "  </div>\n",
      "  <b data-v-6ed23da8=\"\" style=\"display: none;\">\n",
      "   <!-- -->\n",
      "   <div data-v-6ed23da8=\"\">\n",
      "    $0\n",
      "   </div>\n",
      "  </b>\n",
      "  <div data-v-6ed23da8=\"\">\n",
      "   <!-- -->\n",
      "   <div data-v-6ed23da8=\"\">\n",
      "    <div data-v-6ed23da8=\"\">\n",
      "     $0\n",
      "    </div>\n",
      "    <!-- -->\n",
      "   </div>\n",
      "  </div>\n",
      " </td>\n",
      "</tr>\n",
      "\n"
     ]
    }
   ],
   "source": [
    "print(rows[0].prettify())"
   ]
  },
  {
   "cell_type": "markdown",
   "metadata": {},
   "source": [
    "It looks like the content for each cell is inside a `<b>` tag inside a `<td>` cell:"
   ]
  },
  {
   "cell_type": "code",
   "execution_count": 43,
   "metadata": {
    "tags": []
   },
   "outputs": [
    {
     "data": {
      "text/plain": [
       "[['2024', '$291,400', '$43,700', '$247,700', '$0', '$0'],\n",
       " ['2023', '$291,400', '$43,700', '$247,700', '$0', '$0'],\n",
       " ['2022', '$264,900', '$39,735', '$225,165', '$0', '$0'],\n",
       " ['2021', '$264,900', '$39,735', '$225,165', '$0', '$0'],\n",
       " ['2020', '$264,900', '$39,735', '$225,165', '$0', '$0'],\n",
       " ['2019', '$264,900', '$39,735', '$185,165', '$0', '$40,000'],\n",
       " ['2018', '$240,800', '$38,528', '$172,272', '$0', '$30,000'],\n",
       " ['2017', '$240,800', '$38,528', '$172,272', '$0', '$30,000'],\n",
       " ['2016', '$209,400', '$20,940', '$158,460', '$0', '$30,000'],\n",
       " ['2015', '$209,400', '$20,940', '$158,460', '$0', '$30,000']]"
      ]
     },
     "execution_count": 43,
     "metadata": {},
     "output_type": "execute_result"
    }
   ],
   "source": [
    "# Empty list to store scraped data\n",
    "scraped_data = []\n",
    "\n",
    "# Loop over all rows\n",
    "for row in rows:\n",
    "    #\n",
    "    # Create a list for each cell in this particular row\n",
    "    row_data = [cell.text for cell in row.select(\"td b\")]\n",
    "\n",
    "    # Save it\n",
    "    scraped_data.append(row_data)\n",
    "\n",
    "scraped_data"
   ]
  },
  {
   "cell_type": "markdown",
   "metadata": {},
   "source": [
    "Make it into a DataFrame:"
   ]
  },
  {
   "cell_type": "code",
   "execution_count": 44,
   "metadata": {
    "tags": []
   },
   "outputs": [
    {
     "data": {
      "text/html": [
       "<div>\n",
       "<style scoped>\n",
       "    .dataframe tbody tr th:only-of-type {\n",
       "        vertical-align: middle;\n",
       "    }\n",
       "\n",
       "    .dataframe tbody tr th {\n",
       "        vertical-align: top;\n",
       "    }\n",
       "\n",
       "    .dataframe thead th {\n",
       "        text-align: right;\n",
       "    }\n",
       "</style>\n",
       "<table border=\"1\" class=\"dataframe\">\n",
       "  <thead>\n",
       "    <tr style=\"text-align: right;\">\n",
       "      <th></th>\n",
       "      <th>Year</th>\n",
       "      <th>Market Value</th>\n",
       "      <th>Taxable Land</th>\n",
       "      <th>Taxable Improvement</th>\n",
       "      <th>Exempt Land</th>\n",
       "      <th>Exempt Improvement</th>\n",
       "    </tr>\n",
       "  </thead>\n",
       "  <tbody>\n",
       "    <tr>\n",
       "      <th>0</th>\n",
       "      <td>2024</td>\n",
       "      <td>$291,400</td>\n",
       "      <td>$43,700</td>\n",
       "      <td>$247,700</td>\n",
       "      <td>$0</td>\n",
       "      <td>$0</td>\n",
       "    </tr>\n",
       "    <tr>\n",
       "      <th>1</th>\n",
       "      <td>2023</td>\n",
       "      <td>$291,400</td>\n",
       "      <td>$43,700</td>\n",
       "      <td>$247,700</td>\n",
       "      <td>$0</td>\n",
       "      <td>$0</td>\n",
       "    </tr>\n",
       "    <tr>\n",
       "      <th>2</th>\n",
       "      <td>2022</td>\n",
       "      <td>$264,900</td>\n",
       "      <td>$39,735</td>\n",
       "      <td>$225,165</td>\n",
       "      <td>$0</td>\n",
       "      <td>$0</td>\n",
       "    </tr>\n",
       "    <tr>\n",
       "      <th>3</th>\n",
       "      <td>2021</td>\n",
       "      <td>$264,900</td>\n",
       "      <td>$39,735</td>\n",
       "      <td>$225,165</td>\n",
       "      <td>$0</td>\n",
       "      <td>$0</td>\n",
       "    </tr>\n",
       "    <tr>\n",
       "      <th>4</th>\n",
       "      <td>2020</td>\n",
       "      <td>$264,900</td>\n",
       "      <td>$39,735</td>\n",
       "      <td>$225,165</td>\n",
       "      <td>$0</td>\n",
       "      <td>$0</td>\n",
       "    </tr>\n",
       "    <tr>\n",
       "      <th>5</th>\n",
       "      <td>2019</td>\n",
       "      <td>$264,900</td>\n",
       "      <td>$39,735</td>\n",
       "      <td>$185,165</td>\n",
       "      <td>$0</td>\n",
       "      <td>$40,000</td>\n",
       "    </tr>\n",
       "    <tr>\n",
       "      <th>6</th>\n",
       "      <td>2018</td>\n",
       "      <td>$240,800</td>\n",
       "      <td>$38,528</td>\n",
       "      <td>$172,272</td>\n",
       "      <td>$0</td>\n",
       "      <td>$30,000</td>\n",
       "    </tr>\n",
       "    <tr>\n",
       "      <th>7</th>\n",
       "      <td>2017</td>\n",
       "      <td>$240,800</td>\n",
       "      <td>$38,528</td>\n",
       "      <td>$172,272</td>\n",
       "      <td>$0</td>\n",
       "      <td>$30,000</td>\n",
       "    </tr>\n",
       "    <tr>\n",
       "      <th>8</th>\n",
       "      <td>2016</td>\n",
       "      <td>$209,400</td>\n",
       "      <td>$20,940</td>\n",
       "      <td>$158,460</td>\n",
       "      <td>$0</td>\n",
       "      <td>$30,000</td>\n",
       "    </tr>\n",
       "    <tr>\n",
       "      <th>9</th>\n",
       "      <td>2015</td>\n",
       "      <td>$209,400</td>\n",
       "      <td>$20,940</td>\n",
       "      <td>$158,460</td>\n",
       "      <td>$0</td>\n",
       "      <td>$30,000</td>\n",
       "    </tr>\n",
       "  </tbody>\n",
       "</table>\n",
       "</div>"
      ],
      "text/plain": [
       "   Year Market Value Taxable Land Taxable Improvement Exempt Land  \\\n",
       "0  2024     $291,400      $43,700            $247,700          $0   \n",
       "1  2023     $291,400      $43,700            $247,700          $0   \n",
       "2  2022     $264,900      $39,735            $225,165          $0   \n",
       "3  2021     $264,900      $39,735            $225,165          $0   \n",
       "4  2020     $264,900      $39,735            $225,165          $0   \n",
       "5  2019     $264,900      $39,735            $185,165          $0   \n",
       "6  2018     $240,800      $38,528            $172,272          $0   \n",
       "7  2017     $240,800      $38,528            $172,272          $0   \n",
       "8  2016     $209,400      $20,940            $158,460          $0   \n",
       "9  2015     $209,400      $20,940            $158,460          $0   \n",
       "\n",
       "  Exempt Improvement  \n",
       "0                 $0  \n",
       "1                 $0  \n",
       "2                 $0  \n",
       "3                 $0  \n",
       "4                 $0  \n",
       "5            $40,000  \n",
       "6            $30,000  \n",
       "7            $30,000  \n",
       "8            $30,000  \n",
       "9            $30,000  "
      ]
     },
     "execution_count": 44,
     "metadata": {},
     "output_type": "execute_result"
    }
   ],
   "source": [
    "assessments = pd.DataFrame(\n",
    "    scraped_data,\n",
    "    columns=[\n",
    "        \"Year\",\n",
    "        \"Market Value\",\n",
    "        \"Taxable Land\",\n",
    "        \"Taxable Improvement\",\n",
    "        \"Exempt Land\",\n",
    "        \"Exempt Improvement\",\n",
    "    ],\n",
    ")\n",
    "\n",
    "assessments"
   ]
  },
  {
   "cell_type": "markdown",
   "metadata": {},
   "source": [
    "Success!"
   ]
  },
  {
   "cell_type": "markdown",
   "metadata": {
    "slideshow": {
     "slide_type": "slide"
    }
   },
   "source": [
    "### Example #2: Scraping the Philadelphia Municipal Courts portal\n",
    "\n",
    "- URL: [https://ujsportal.pacourts.us/CaseSearch](https://ujsportal.pacourts.us/CaseSearch)\n",
    "- Given a Police incident number, we'll see if there is an associated court case with the incident\n",
    "\n",
    "**Problem:** we'll need to click several buttons before we can see the info we want!"
   ]
  },
  {
   "cell_type": "markdown",
   "metadata": {
    "slideshow": {
     "slide_type": "slide"
    }
   },
   "source": [
    "### Run the scraping analysis\n",
    "\n",
    "Strategy:\n",
    "\n",
    "- Rely on the Web Inspector to identify specific elements of the webpage\n",
    "- Use Selenium to interact with the webpage\n",
    "    - Change dropdown elements\n",
    "    - Click buttons"
   ]
  },
  {
   "cell_type": "markdown",
   "metadata": {
    "slideshow": {
     "slide_type": "slide"
    }
   },
   "source": [
    "#### 1. Open the URL"
   ]
  },
  {
   "cell_type": "code",
   "execution_count": 45,
   "metadata": {
    "slideshow": {
     "slide_type": "slide"
    }
   },
   "outputs": [],
   "source": [
    "# Open the URL\n",
    "url = \"https://ujsportal.pacourts.us/CaseSearch\"\n",
    "driver.get(url)"
   ]
  },
  {
   "cell_type": "markdown",
   "metadata": {
    "slideshow": {
     "slide_type": "slide"
    }
   },
   "source": [
    "#### 2. Create a dropdown \"Select\" element\n",
    "\n",
    "We'll need to: \n",
    "- Select the dropdown element on the main page by its ID\n",
    "- Initialize a `selenium` `Select()` object"
   ]
  },
  {
   "cell_type": "code",
   "execution_count": 46,
   "metadata": {
    "slideshow": {
     "slide_type": "subslide"
    }
   },
   "outputs": [],
   "source": [
    "# Use the Web Inspector to get the css selector of the dropdown select element\n",
    "dropdown_selector = \"#SearchBy-Control > select\" "
   ]
  },
  {
   "cell_type": "code",
   "execution_count": 47,
   "metadata": {
    "slideshow": {
     "slide_type": "subslide"
    }
   },
   "outputs": [],
   "source": [
    "# Select the dropdown by the element's CSS selector\n",
    "dropdown = driver.find_element(By.CSS_SELECTOR, dropdown_selector)"
   ]
  },
  {
   "cell_type": "markdown",
   "metadata": {},
   "source": [
    "Create the Select object:"
   ]
  },
  {
   "cell_type": "code",
   "execution_count": 48,
   "metadata": {
    "slideshow": {
     "slide_type": "subslide"
    }
   },
   "outputs": [],
   "source": [
    "from selenium.webdriver.support.ui import Select\n",
    "\n",
    "# Initialize a Select object\n",
    "dropdown_select = Select(dropdown)"
   ]
  },
  {
   "cell_type": "markdown",
   "metadata": {
    "slideshow": {
     "slide_type": "slide"
    }
   },
   "source": [
    "#### 3. Change the selected text in the dropdown\n",
    "\n",
    "Change the selected element: \"Police Incident/Complaint Number\" "
   ]
  },
  {
   "cell_type": "code",
   "execution_count": 49,
   "metadata": {
    "slideshow": {
     "slide_type": "subslide"
    }
   },
   "outputs": [],
   "source": [
    "# Set the selected text in the dropdown element\n",
    "dropdown_select.select_by_visible_text(\"Incident Number\")"
   ]
  },
  {
   "cell_type": "markdown",
   "metadata": {
    "slideshow": {
     "slide_type": "slide"
    }
   },
   "source": [
    "#### 4. Set the incident number "
   ]
  },
  {
   "cell_type": "code",
   "execution_count": 50,
   "metadata": {
    "slideshow": {
     "slide_type": "subslide"
    }
   },
   "outputs": [],
   "source": [
    "# Get the input element for the DC number\n",
    "incident_input_selector = \"#IncidentNumber-Control > input[type=text]\" \n",
    "incident_input = driver.find_element(By.CSS_SELECTOR, incident_input_selector)"
   ]
  },
  {
   "cell_type": "code",
   "execution_count": 51,
   "metadata": {
    "slideshow": {
     "slide_type": "subslide"
    }
   },
   "outputs": [],
   "source": [
    "# Clear any existing entry\n",
    "incident_input.clear()\n",
    "\n",
    "# Input our example incident number\n",
    "incident_input.send_keys(\"1725088232\")"
   ]
  },
  {
   "cell_type": "markdown",
   "metadata": {
    "slideshow": {
     "slide_type": "slide"
    }
   },
   "source": [
    "#### 5. Click the search button!"
   ]
  },
  {
   "cell_type": "code",
   "execution_count": 52,
   "metadata": {
    "slideshow": {
     "slide_type": "subslide"
    }
   },
   "outputs": [],
   "source": [
    "# Submit the search\n",
    "search_button_selector = \"#btnSearch\"\n",
    "search_button = driver.find_element(By.CSS_SELECTOR, search_button_selector)\n",
    "search_button.click()"
   ]
  },
  {
   "cell_type": "markdown",
   "metadata": {
    "slideshow": {
     "slide_type": "slide"
    }
   },
   "source": [
    "#### 6. Use BeautifulSoup to parse the results\n",
    "\n",
    "- Use the `page_source` attribute to get the current HTML displayed on the page\n",
    "- Initialize a \"soup\" object with the HTML"
   ]
  },
  {
   "cell_type": "code",
   "execution_count": 53,
   "metadata": {
    "slideshow": {
     "slide_type": "subslide"
    }
   },
   "outputs": [],
   "source": [
    "courtsSoup = BeautifulSoup(driver.page_source, \"html.parser\")"
   ]
  },
  {
   "cell_type": "markdown",
   "metadata": {
    "slideshow": {
     "slide_type": "slide"
    }
   },
   "source": [
    "Now we can:\n",
    "- Identify the element holding all of the results\n",
    "- Within this container, find the `<table>` element and each `<tr>` element within the table"
   ]
  },
  {
   "cell_type": "code",
   "execution_count": 54,
   "metadata": {
    "slideshow": {
     "slide_type": "subslide"
    }
   },
   "outputs": [],
   "source": [
    "# Select the results container by its ID \n",
    "results_table = courtsSoup.select_one(\"#caseSearchResultGrid\")"
   ]
  },
  {
   "cell_type": "code",
   "execution_count": 55,
   "metadata": {
    "slideshow": {
     "slide_type": "subslide"
    }
   },
   "outputs": [],
   "source": [
    "# Get all of the <tr> rows inside the tbody element \n",
    "# NOTE: we using nested selections here!\n",
    "results_rows = results_table.select(\"tbody > tr\")"
   ]
  },
  {
   "cell_type": "markdown",
   "metadata": {
    "slideshow": {
     "slide_type": "slide"
    }
   },
   "source": [
    "**Example:** The number of court cases"
   ]
  },
  {
   "cell_type": "code",
   "execution_count": 56,
   "metadata": {
    "slideshow": {
     "slide_type": "subslide"
    }
   },
   "outputs": [
    {
     "name": "stdout",
     "output_type": "stream",
     "text": [
      "Number of courts cases: 2\n"
     ]
    }
   ],
   "source": [
    "# Number of court cases\n",
    "number_of_cases = len(results_rows)\n",
    "print(f\"Number of courts cases: {number_of_cases}\")"
   ]
  },
  {
   "cell_type": "markdown",
   "metadata": {
    "slideshow": {
     "slide_type": "slide"
    }
   },
   "source": [
    "**Example:** Extract the text elements from the first row of the results"
   ]
  },
  {
   "cell_type": "code",
   "execution_count": 57,
   "metadata": {
    "slideshow": {
     "slide_type": "subslide"
    }
   },
   "outputs": [],
   "source": [
    "first_row = results_rows[0]"
   ]
  },
  {
   "cell_type": "code",
   "execution_count": 58,
   "metadata": {
    "slideshow": {
     "slide_type": "slide"
    }
   },
   "outputs": [
    {
     "name": "stdout",
     "output_type": "stream",
     "text": [
      "<tr class=\"slide-active\">\n",
      " <td class=\"display-none\">\n",
      "  1\n",
      " </td>\n",
      " <td class=\"display-none\">\n",
      "  0\n",
      " </td>\n",
      " <td>\n",
      "  MC-51-CR-0030672-2017\n",
      " </td>\n",
      " <td>\n",
      "  Common Pleas\n",
      " </td>\n",
      " <td>\n",
      "  Comm. v. Velquez, Victor\n",
      " </td>\n",
      " <td>\n",
      "  Closed\n",
      " </td>\n",
      " <td>\n",
      "  10/13/2017\n",
      " </td>\n",
      " <td>\n",
      "  Velquez, Victor\n",
      " </td>\n",
      " <td>\n",
      "  09/05/1974\n",
      " </td>\n",
      " <td>\n",
      "  Philadelphia\n",
      " </td>\n",
      " <td>\n",
      "  MC-01-51-Crim\n",
      " </td>\n",
      " <td>\n",
      "  U0981035\n",
      " </td>\n",
      " <td>\n",
      "  1725088232-0030672\n",
      " </td>\n",
      " <td>\n",
      "  1725088232\n",
      " </td>\n",
      " <td class=\"display-none\">\n",
      " </td>\n",
      " <td class=\"display-none\">\n",
      " </td>\n",
      " <td class=\"display-none\">\n",
      " </td>\n",
      " <td class=\"display-none\">\n",
      " </td>\n",
      " <td>\n",
      "  <div class=\"grid inline-block\">\n",
      "   <div>\n",
      "    <div class=\"inline-block\">\n",
      "     <a class=\"icon-wrapper\" href=\"/Report/CpDocketSheet?docketNumber=MC-51-CR-0030672-2017&amp;dnh=%2FGgePQykMpAymRENgxLBzg%3D%3D\" target=\"_blank\">\n",
      "      <img alt=\"Docket Sheet\" class=\"icon-size\" src=\"https://ujsportal.pacourts.us/resource/Images/svg-defs.svg?v=qJ77ypOpzSMFk7r1gsI6H0xjdteha_ZIjvGslGgQV2M#icon-document-letter-D\" title=\"Docket Sheet\"/>\n",
      "      <label class=\"link-text\">\n",
      "       Docket Sheet\n",
      "      </label>\n",
      "     </a>\n",
      "    </div>\n",
      "   </div>\n",
      "  </div>\n",
      "  <div class=\"grid inline-block\">\n",
      "   <div>\n",
      "    <div class=\"inline-block\">\n",
      "     <a class=\"icon-wrapper\" href=\"/Report/CpCourtSummary?docketNumber=MC-51-CR-0030672-2017&amp;dnh=%2FGgePQykMpAymRENgxLBzg%3D%3D\" target=\"_blank\">\n",
      "      <img alt=\"Court Summary\" class=\"icon-size\" src=\"https://ujsportal.pacourts.us/resource/Images/svg-defs.svg?v=qJ77ypOpzSMFk7r1gsI6H0xjdteha_ZIjvGslGgQV2M#icon-court-summary\" title=\"Court Summary\"/>\n",
      "      <label class=\"link-text\">\n",
      "       Court Summary\n",
      "      </label>\n",
      "     </a>\n",
      "    </div>\n",
      "   </div>\n",
      "  </div>\n",
      " </td>\n",
      "</tr>\n",
      "\n"
     ]
    }
   ],
   "source": [
    "print(first_row.prettify())"
   ]
  },
  {
   "cell_type": "code",
   "execution_count": 59,
   "metadata": {
    "slideshow": {
     "slide_type": "subslide"
    }
   },
   "outputs": [
    {
     "name": "stdout",
     "output_type": "stream",
     "text": [
      "1\n",
      "0\n",
      "MC-51-CR-0030672-2017\n",
      "Common Pleas\n",
      "Comm. v. Velquez, Victor\n",
      "Closed\n",
      "10/13/2017\n",
      "Velquez, Victor\n",
      "09/05/1974\n",
      "Philadelphia\n",
      "MC-01-51-Crim\n",
      "U0981035\n",
      "1725088232-0030672\n",
      "1725088232\n",
      "Docket SheetCourt Summary\n"
     ]
    }
   ],
   "source": [
    "# Extract out all of the \"<td>\" cells from the first row\n",
    "td_cells = first_row.select(\"td\")\n",
    "\n",
    "# Loop over each <td> cell\n",
    "for cell in td_cells:\n",
    "    \n",
    "    # Extract out the text from the <td> element\n",
    "    text = cell.text\n",
    "    \n",
    "    # Print out text\n",
    "    if text != \"\":\n",
    "        print(text)"
   ]
  },
  {
   "cell_type": "markdown",
   "metadata": {
    "slideshow": {
     "slide_type": "slide"
    }
   },
   "source": [
    "#### 7. Close the driver!"
   ]
  },
  {
   "cell_type": "code",
   "execution_count": 60,
   "metadata": {
    "hide_input": false,
    "slideshow": {
     "slide_type": "subslide"
    }
   },
   "outputs": [],
   "source": [
    "driver.close()"
   ]
  },
  {
   "cell_type": "markdown",
   "metadata": {
    "slideshow": {
     "slide_type": "subslide"
    }
   },
   "source": [
    "## That's it!\n",
    "\n",
    "- Next week: Part 2 of \"getting data\" with APIs\n",
    "- See you on Monday!"
   ]
  },
  {
   "cell_type": "code",
   "execution_count": null,
   "metadata": {},
   "outputs": [],
   "source": []
  }
 ],
 "metadata": {
  "celltoolbar": "Slideshow",
  "kernelspec": {
   "display_name": "Python 3 (ipykernel)",
   "language": "python",
   "name": "python3"
  },
  "language_info": {
   "codemirror_mode": {
    "name": "ipython",
    "version": 3
   },
   "file_extension": ".py",
   "mimetype": "text/x-python",
   "name": "python",
   "nbconvert_exporter": "python",
   "pygments_lexer": "ipython3",
   "version": "3.10.12"
  }
 },
 "nbformat": 4,
 "nbformat_minor": 4
}
