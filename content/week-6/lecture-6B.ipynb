{
 "cells": [
  {
   "cell_type": "markdown",
   "metadata": {},
   "source": [
    "---\n",
    "toc: false\n",
    "page-layout: full\n",
    "---"
   ]
  },
  {
   "cell_type": "markdown",
   "metadata": {
    "slideshow": {
     "slide_type": "slide"
    }
   },
   "source": [
    "# Week 6B<br>Web Scraping\n",
    "\n",
    "- Section 401\n",
    "- Wednesday, October 11, 2023"
   ]
  },
  {
   "cell_type": "markdown",
   "metadata": {
    "slideshow": {
     "slide_type": "slide"
    }
   },
   "source": [
    "## Week 6 agenda: web scraping\n",
    "\n",
    "**Last time:**\n",
    "- Why web scraping? \n",
    "- Getting familiar with the Web\n",
    "- Web scraping: extracting data from static sites\n",
    "\n",
    "**Today:**\n",
    "- Practice with web scraping\n",
    "- How to deal with dynamic content"
   ]
  },
  {
   "cell_type": "code",
   "execution_count": 1,
   "metadata": {
    "slideshow": {
     "slide_type": "slide"
    }
   },
   "outputs": [],
   "source": [
    "# Start with the usual imports\n",
    "# We'll use these throughout\n",
    "import pandas as pd\n",
    "from bs4 import BeautifulSoup\n",
    "import requests"
   ]
  },
  {
   "cell_type": "markdown",
   "metadata": {
    "slideshow": {
     "slide_type": "slide"
    }
   },
   "source": [
    "## Part 1: Web scraping exercises\n",
    "\n",
    "For each of the exercises, use the Web Inspector to inspect the structure of the relevant web page, and identify the HTML content you will need to scrape with Python.\n"
   ]
  },
  {
   "cell_type": "markdown",
   "metadata": {
    "hide_input": false,
    "slideshow": {
     "slide_type": "slide"
    }
   },
   "source": [
    "### 1. The number of days until the General Election\n",
    "\n",
    "The relevant URL is: [https://vote.phila.gov/](https://vote.phila.gov/)\n",
    "\n",
    "**Hint:** Select the `<span>` element that holds the number of days using the class name for the tag."
   ]
  },
  {
   "cell_type": "code",
   "execution_count": null,
   "metadata": {},
   "outputs": [],
   "source": []
  },
  {
   "cell_type": "markdown",
   "metadata": {
    "tags": []
   },
   "source": [
    "### 2. How many millions of people are currently experiencing drought?\n",
    "\n",
    "Relevant URL: [https://www.drought.gov/current-conditions](https://www.drought.gov/current-conditions)\n",
    "\n",
    "**Hint:** We're interested in just a single HTML element so you can inspect the website, identify the right element, and copy the selector for the element."
   ]
  },
  {
   "cell_type": "code",
   "execution_count": null,
   "metadata": {},
   "outputs": [],
   "source": []
  },
  {
   "cell_type": "markdown",
   "metadata": {},
   "source": [
    "### 3. Scrape the Weitzman School directory\n",
    "\n",
    "The Weitzman School lists their directory of people on this page: [https://www.design.upenn.edu/people/list](https://www.design.upenn.edu/people/list). From this site, let's extract out the person's name, title, and associated department.\n",
    "\n",
    "This example is similar to the Inquirer Clean Plates demo from last lecture. The info we want for each person is wrapped up in a `<div>` element. You can select all of those elements, loop over each one in a \"for\" loop, extract the three pieces of content we want from each `<div>`, and then save the result to a list.\n",
    "\n"
   ]
  },
  {
   "cell_type": "code",
   "execution_count": null,
   "metadata": {},
   "outputs": [],
   "source": []
  },
  {
   "cell_type": "markdown",
   "metadata": {
    "hide_input": false,
    "slideshow": {
     "slide_type": "slide"
    }
   },
   "source": [
    "## Part 2: What about dynamic content?\n",
    "\n",
    "How do you scrape data that is loaded via Javascript or only appears after user interaction?"
   ]
  },
  {
   "cell_type": "markdown",
   "metadata": {
    "slideshow": {
     "slide_type": "slide"
    }
   },
   "source": [
    "<center>\n",
    "    <img src=\"imgs/yoda.png\" width=700>\n",
    "</center>"
   ]
  },
  {
   "cell_type": "markdown",
   "metadata": {
    "slideshow": {
     "slide_type": "slide"
    }
   },
   "source": [
    "### Note: web browser needed\n",
    "\n",
    "You'll need a web browser installed to use `selenium`, e.g., FireFox, Google Chrome, Edge, etc."
   ]
  },
  {
   "cell_type": "markdown",
   "metadata": {
    "slideshow": {
     "slide_type": "slide"
    }
   },
   "source": [
    "### Selenium \n",
    "\n",
    "- Designed as a framework for testing webpages during development\n",
    "- Provides an interface to interact with webpages just as a user would \n",
    "- Becoming increasingly popular for web scraping dynamic content from pages"
   ]
  },
  {
   "cell_type": "markdown",
   "metadata": {},
   "source": [
    "### Two common use cases\n",
    "\n",
    "Two cases when requests.get() won't work:\n",
    "\n",
    "1. Many sites load content via javascript, so requests.get() won't return anything. It doesn't load any javascript on the page, just returns the static HTML content.\n",
    "1. If the site requires user interaction via buttons, dropdowns, etc., then get requests won't be able to show that information.\n",
    "\n",
    "Selenium to the rescue!\n"
   ]
  },
  {
   "cell_type": "markdown",
   "metadata": {},
   "source": [
    "### Example #1: Scraping SEPTA\n",
    "\n",
    "- URL: [https://beta-realtime.septa.org/alerts](https://beta-realtime.septa.org/alerts)\n",
    "- Let's see if we can extract the current set of alerts across the SEPTA system\n",
    "\n",
    "**Problem:** content is loaded via Javascript!"
   ]
  },
  {
   "cell_type": "code",
   "execution_count": 149,
   "metadata": {
    "tags": []
   },
   "outputs": [],
   "source": [
    "url = \"https://beta-realtime.septa.org/alerts\""
   ]
  },
  {
   "cell_type": "code",
   "execution_count": 150,
   "metadata": {
    "tags": []
   },
   "outputs": [
    {
     "data": {
      "text/plain": [
       "b'<!DOCTYPE html><html lang=\"en\"><head>\\n    <!-- Google Tag Manager -->\\n    <script>\\n      (function (w, d, s, l, i) {\\n        w[l] = w[l] || [];\\n        w[l].push({ \\'gtm.start\\': new Date().getTime(), event: \\'gtm.js\\' });\\n        var f = d.getElementsByTagName(s)[0],\\n          j = d.createElement(s),\\n          dl = l != \\'dataLayer\\' ? \\'&l=\\' + l : \\'\\';\\n        j.async = true;\\n        j.src = \\'https://www.googletagmanager.com/gtm.js?id=\\' + i + dl;\\n        f.parentNode.insertBefore(j, f);\\n      })(window, document, \\'script\\', \\'dataLayer\\', \\'GTM-59M5TWG\\');\\n    </script>\\n    <!-- End Google Tag Manager -->\\n\\n    <meta charset=\"utf-8\">\\n    <title>\\n      Southeastern Pennsylvania Transportation Authority | Serving Bucks, Chester, Delaware, Montgomery, and\\n      Philadelphia counties\\n    </title>\\n    <base href=\"/\">\\n    <meta name=\"viewport\" content=\"width=device-width, initial-scale=1\">\\n    <meta name=\"description\" content=\"Serving Bucks, Chester, Delaware, Montgomery, and Philadelphia counties. Call (215) 580-7800 or TDD/TTY (215) 580-7853 for Customer Service.\">\\n    <link rel=\"icon\" type=\"image/x-icon\" href=\"favicon.ico\">\\n    <link rel=\"manifest\" href=\"site.webmanifest\">\\n    <meta name=\"msapplication-TileColor\" content=\"#f3f7f7\">\\n    <meta name=\"theme-color\" content=\"#ffffff\">\\n  <style>@import\"https://fonts.googleapis.com/css2?family=Roboto:wght@300;400;500;700;900&display=swap\";@charset \"UTF-8\";html,body{scroll-behavior:smooth}:root{--bs-blue:#0d6efd;--bs-indigo:#6610f2;--bs-purple:#6f42c1;--bs-pink:#d63384;--bs-red:#dc3545;--bs-orange:#fd7e14;--bs-yellow:#ffc107;--bs-green:#198754;--bs-teal:#20c997;--bs-cyan:#0dcaf0;--bs-black:#000;--bs-white:#fff;--bs-gray:#6c757d;--bs-gray-dark:#343a40;--bs-gray-100:#f8f9fa;--bs-gray-200:#e9ecef;--bs-gray-300:#dee2e6;--bs-gray-400:#ced4da;--bs-gray-500:#adb5bd;--bs-gray-600:#6c757d;--bs-gray-700:#495057;--bs-gray-800:#343a40;--bs-gray-900:#212529;--bs-primary:#0264f7;--bs-secondary:#6c757d;--bs-success:#198754;--bs-info:#0dcaf0;--bs-warning:#ffc107;--bs-danger:#dc3545;--bs-light:#f8f9fa;--bs-dark:#212529;--bs-example:#900;--bs-example2:rgb(5, 68, 0);--bs-example3:rgb(23, 100, 139);--bs-example4:rgb(175, 40, 132);--bs-trip-red:rgb(241, 71, 40);--bs-header-blue:#1f4fa3;--bs-input-blue:#103270;--bs-mfl-primary:#008ad8;--bs-mfl-secondary:#009ade;--bs-dark-secondary:#1a1818;--bs-black:#1a1818;--bs-bus:#1a1818;--bs-rail:#4c748c;--bs-lightergray:#eceaea;--bs-lightgray:#d5d5d5;--bs-gray:#757575;--bs-light-yellow:rgb(248, 245, 218);--bs-septa-darkblue:#202846;--bs-septa-lightblue:#1f3f7e;--bs-septa-lighterblue:#99c2ff;--bs-septa-ctablue:#2968d6;--bs-septa-accent:#10b0aa;--bs-septa-lightgray:#c4c4c4;--bs-L:#009ade;--bs-B:#fa6400;--bs-T:#61a60e;--bs-G:#ffd600;--bs-D:#e6427a;--bs-M:#60269e;--bs-neutral:#000000;--bs-null:#000000;--bs-primary-rgb:2, 100, 247;--bs-secondary-rgb:108, 117, 125;--bs-success-rgb:25, 135, 84;--bs-info-rgb:13, 202, 240;--bs-warning-rgb:255, 193, 7;--bs-danger-rgb:220, 53, 69;--bs-light-rgb:248, 249, 250;--bs-dark-rgb:33, 37, 41;--bs-example-rgb:153, 0, 0;--bs-example2-rgb:5, 68, 0;--bs-example3-rgb:23, 100, 139;--bs-example4-rgb:175, 40, 132;--bs-trip-red-rgb:241, 71, 40;--bs-header-blue-rgb:31, 79, 163;--bs-input-blue-rgb:16, 50, 112;--bs-mfl-primary-rgb:0, 138, 216;--bs-mfl-secondary-rgb:0, 154, 222;--bs-dark-secondary-rgb:26, 24, 24;--bs-black-rgb:26, 24, 24;--bs-bus-rgb:26, 24, 24;--bs-rail-rgb:76, 116, 140;--bs-lightergray-rgb:236, 234, 234;--bs-lightgray-rgb:213, 213, 213;--bs-gray-rgb:117, 117, 117;--bs-light-yellow-rgb:248, 245, 218;--bs-septa-darkblue-rgb:32, 40, 70;--bs-septa-lightblue-rgb:31, 63, 126;--bs-septa-lighterblue-rgb:153, 194, 255;--bs-septa-ctablue-rgb:41, 104, 214;--bs-septa-accent-rgb:16, 176, 170;--bs-septa-lightgray-rgb:196, 196, 196;--bs-L-rgb:0, 154, 222;--bs-B-rgb:250, 100, 0;--bs-T-rgb:97, 166, 14;--bs-G-rgb:255, 214, 0;--bs-D-rgb:230, 66, 122;--bs-M-rgb:96, 38, 158;--bs-neutral-rgb:0, 0, 0;--bs-null-rgb:0, 0, 0;--bs-white-rgb:255, 255, 255;--bs-black-rgb:0, 0, 0;--bs-body-color-rgb:33, 37, 41;--bs-body-bg-rgb:255, 255, 255;--bs-font-sans-serif:system-ui, -apple-system, \"Segoe UI\", Roboto, \"Helvetica Neue\", \"Noto Sans\", \"Liberation Sans\", Arial, sans-serif, \"Apple Color Emoji\", \"Segoe UI Emoji\", \"Segoe UI Symbol\", \"Noto Color Emoji\";--bs-font-monospace:SFMono-Regular, Menlo, Monaco, Consolas, \"Liberation Mono\", \"Courier New\", monospace;--bs-gradient:linear-gradient(180deg, rgba(255, 255, 255, .15), rgba(255, 255, 255, 0));--bs-body-font-family:Roboto, sans-serif;--bs-body-font-size:1rem;--bs-body-font-weight:400;--bs-body-line-height:1.5;--bs-body-color:#212529;--bs-body-bg:#fff;--bs-border-width:1px;--bs-border-style:solid;--bs-border-color:#dee2e6;--bs-border-color-translucent:rgba(0, 0, 0, .175);--bs-border-radius:.375rem;--bs-border-radius-sm:.25rem;--bs-border-radius-lg:.5rem;--bs-border-radius-xl:1rem;--bs-border-radius-2xl:2rem;--bs-border-radius-pill:50rem;--bs-link-color:#0d6efd;--bs-link-hover-color:#0a58ca;--bs-code-color:#d63384;--bs-highlight-bg:#fff3cd}*,*:before,*:after{box-sizing:border-box}@media (prefers-reduced-motion: no-preference){:root{scroll-behavior:smooth}}body{margin:0;font-family:var(--bs-body-font-family);font-size:var(--bs-body-font-size);font-weight:var(--bs-body-font-weight);line-height:var(--bs-body-line-height);color:var(--bs-body-color);text-align:var(--bs-body-text-align);background-color:var(--bs-body-bg);-webkit-text-size-adjust:100%;-webkit-tap-highlight-color:rgba(0,0,0,0)}:root{--primary-dark:#202846;--black:#1A1818}body{font-family:Roboto,sans-serif}</style><link rel=\"stylesheet\" href=\"styles.936c7ad72c5b9f54.css\" media=\"print\" onload=\"this.media=\\'all\\'\"><noscript><link rel=\"stylesheet\" href=\"styles.936c7ad72c5b9f54.css\"></noscript></head>\\n  <body>\\n    <!-- Google Tag Manager (noscript) -->\\n    <noscript><iframe\\n        src=\"https://www.googletagmanager.com/ns.html?id=GTM-59M5TWG\"\\n        height=\"0\"\\n        width=\"0\"\\n        style=\"display: none; visibility: hidden\"\\n      ></iframe\\n    ></noscript>\\n    <!-- End Google Tag Manager (noscript) -->\\n\\n    <app-root></app-root>\\n  <script src=\"runtime.73a50d36fa41b9bf.js\" type=\"module\"></script><script src=\"polyfills.174bc340856cccb6.js\" type=\"module\"></script><script src=\"scripts.faf651b9a5f14fb2.js\" defer></script><script src=\"main.9cc42a1ddb87056f.js\" type=\"module\"></script>\\n\\n</body></html>'"
      ]
     },
     "execution_count": 150,
     "metadata": {},
     "output_type": "execute_result"
    }
   ],
   "source": [
    "requests.get(url).content"
   ]
  },
  {
   "cell_type": "markdown",
   "metadata": {},
   "source": [
    "Ah, nothing useful was returned -- content must be loaded via javascript!\n",
    "\n",
    "When you see things like:\n",
    "\n",
    "```\n",
    "app-root></app-root>\n",
    "<script src=\"runtime.73a50d36fa41b9bf.js\" type=\"module\"></script>\n",
    "<script src=\"polyfills.174bc340856cccb6.js\" type=\"module\"></script>\n",
    "<script src=\"scripts.faf651b9a5f14fb2.js\" defer></script>\n",
    "<script src=\"main.9cc42a1ddb87056f.js\" type=\"module\"></script>\n",
    "```\n",
    "\n",
    "it means the website is loading content via javascript and replacing the content of `<app-root>` dynamically once the page is loaded."
   ]
  },
  {
   "cell_type": "markdown",
   "metadata": {},
   "source": [
    "### Can we parse it with selenium? Yes!"
   ]
  },
  {
   "cell_type": "markdown",
   "metadata": {
    "slideshow": {
     "slide_type": "subslide"
    }
   },
   "source": [
    "Let's use selenium to open a web browser, load the page, and then extract the HTML content AFTER the javascript has loaded the content"
   ]
  },
  {
   "cell_type": "markdown",
   "metadata": {
    "slideshow": {
     "slide_type": "slide"
    }
   },
   "source": [
    "### Initialize the driver\n",
    "\n",
    "The initialization steps will depend on which browser you want to use!"
   ]
  },
  {
   "cell_type": "code",
   "execution_count": 151,
   "metadata": {
    "slideshow": {
     "slide_type": "slide"
    }
   },
   "outputs": [],
   "source": [
    "# Import the webdriver from selenium\n",
    "from selenium import webdriver"
   ]
  },
  {
   "cell_type": "markdown",
   "metadata": {
    "slideshow": {
     "slide_type": "subslide"
    }
   },
   "source": [
    "::: {.callout-important}\n",
    "#### Important: Working on Binder\n",
    "\n",
    "If you are working on Binder, you'll need to use FireFox in \"headless\" mode, which prevents a browser window from opening.\n",
    "\n",
    "If you are working locally, it's better to run with the default options — you'll be able to see the browser window open and change as we perform the web scraping.\n",
    ":::"
   ]
  },
  {
   "cell_type": "markdown",
   "metadata": {
    "slideshow": {
     "slide_type": "slide"
    }
   },
   "source": [
    "#### Using Google Chrome"
   ]
  },
  {
   "cell_type": "code",
   "execution_count": 152,
   "metadata": {
    "slideshow": {
     "slide_type": "fragment"
    }
   },
   "outputs": [],
   "source": [
    "# UNCOMMENT BELOW TO USE CHROME\n",
    "\n",
    "driver = webdriver.Chrome()"
   ]
  },
  {
   "cell_type": "markdown",
   "metadata": {
    "slideshow": {
     "slide_type": "slide"
    }
   },
   "source": [
    "#### Using Firefox\n",
    "\n",
    "If you are working on Binder, use the below code!"
   ]
  },
  {
   "cell_type": "code",
   "execution_count": 153,
   "metadata": {
    "slideshow": {
     "slide_type": "fragment"
    }
   },
   "outputs": [],
   "source": [
    "# UNCOMMENT BELOW IF ON BINDER\n",
    "\n",
    "options = webdriver.FirefoxOptions()\n",
    "\n",
    "# IF ON BINDER, RUN IN \"HEADLESS\" MODE (NO BROWSER WINDOW IS OPENED)\n",
    "# COMMENT THIS LINE IF WORKING LOCALLY\n",
    "# options.add_argument(\"--headless\")\n",
    "\n",
    "# Initialize\n",
    "#driver = webdriver.Firefox(options=options)"
   ]
  },
  {
   "cell_type": "markdown",
   "metadata": {
    "slideshow": {
     "slide_type": "slide"
    }
   },
   "source": [
    "#### Using Microsoft Edge"
   ]
  },
  {
   "cell_type": "code",
   "execution_count": 154,
   "metadata": {
    "slideshow": {
     "slide_type": "fragment"
    }
   },
   "outputs": [],
   "source": [
    "# UNCOMMENT BELOW TO USE MICROSOFT EDGE\n",
    "\n",
    "#driver = webdriver.Edge()"
   ]
  },
  {
   "cell_type": "markdown",
   "metadata": {},
   "source": [
    "Navigate to the URL in our opened browser:"
   ]
  },
  {
   "cell_type": "code",
   "execution_count": 157,
   "metadata": {
    "tags": []
   },
   "outputs": [],
   "source": [
    "url = \"https://beta-realtime.septa.org/alerts\"\n",
    "driver.get(url)"
   ]
  },
  {
   "cell_type": "markdown",
   "metadata": {},
   "source": [
    "After it loads, extract the HTML page source and pass it to BeautifulSoup:"
   ]
  },
  {
   "cell_type": "code",
   "execution_count": 158,
   "metadata": {
    "tags": []
   },
   "outputs": [],
   "source": [
    "septaSoup = BeautifulSoup(driver.page_source, \"html.parser\")"
   ]
  },
  {
   "cell_type": "markdown",
   "metadata": {},
   "source": [
    "Now, head to the web inspector to understand the structure of the website.\n",
    "\n",
    "It looks like "
   ]
  },
  {
   "cell_type": "markdown",
   "metadata": {},
   "source": [
    "First, select all of the `<li>` elements that hold the route name + alert info."
   ]
  },
  {
   "cell_type": "code",
   "execution_count": 159,
   "metadata": {
    "tags": []
   },
   "outputs": [],
   "source": [
    "route_containers = septaSoup.select(\"ul.d-grid.gap-5 > li\")"
   ]
  },
  {
   "cell_type": "code",
   "execution_count": 160,
   "metadata": {
    "tags": []
   },
   "outputs": [
    {
     "name": "stdout",
     "output_type": "stream",
     "text": [
      "<li _ngcontent-gib-c36=\"\">\n",
      " <app-route-display _ngcontent-gib-c36=\"\" _nghost-gib-c32=\"\" size=\"medium\">\n",
      "  <a _ngcontent-gib-c32=\"\" class=\"align-items-center fw-bold m-0 metro medium bg-L\" href=\"/schedules/L1\" title=\"Market-Frankford Line\" translate=\"no\">\n",
      "   Market-Frankford Line\n",
      "  </a>\n",
      " </app-route-display>\n",
      " <ul _ngcontent-gib-c36=\"\" class=\"mt-3 rounded border border-lightgray route-alert-list\">\n",
      "  <li _ngcontent-gib-c36=\"\" class=\"border-bottom border-lightgray alert-card\">\n",
      "   <app-card-alerts _ngcontent-gib-c36=\"\" _nghost-gib-c13=\"\">\n",
      "    <div _ngcontent-gib-c13=\"\" class=\"px-3 py-4 bg-light-yellow border-warning\">\n",
      "     <div _ngcontent-gib-c13=\"\" class=\"d-flex gap-5 flex-row align-items-center\">\n",
      "      <div _ngcontent-gib-c13=\"\" class=\"d-flex gap-3 flex-fill\">\n",
      "       <svg-icon _ngcontent-gib-c13=\"\">\n",
      "        <svg _ngcontent-gib-c13=\"\" aria-hidden=\"true\" fill=\"currentColor\" height=\"33\" style=\"width: 25px; fill: rgb(51, 51, 51);\" viewbox=\"0 0 38 33\" width=\"38\" xmlns=\"http://www.w3.org/2000/svg\">\n",
      "         <path _ngcontent-gib-c13=\"\" clip-rule=\"evenodd\" d=\"M18.5641 0C17.521 0 16.5309 0.595113 15.9828 1.55497L0.406642 28.6422C0.141441 29.103 0 29.6213 0 30.1588C0 31.733 1.16688 33 2.61665 33H34.5115C35.9613 33 37.1282 31.733 37.1282 30.1588C37.1282 29.6213 36.9867 29.103 36.7215 28.6422L21.1454 1.55497C20.5973 0.595113 19.6072 0 18.5641 0ZM16.502 22V9.17627H20.627V22H16.502ZM16.502 25.7432V29.4099H20.627V25.7432H16.502Z\" fill-rule=\"evenodd\">\n",
      "         </path>\n",
      "        </svg>\n",
      "       </svg-icon>\n",
      "       <div _ngcontent-gib-c13=\"\">\n",
      "        <div _ngcontent-gib-c13=\"\" class=\"d-flex gap-2 border-primary\">\n",
      "         <h5 _ngcontent-gib-c13=\"\" class=\"m-0\">\n",
      "          Alert\n",
      "         </h5>\n",
      "         <div _ngcontent-gib-c13=\"\" class=\"badge d-flex align-items-center text-uppercase text-black bg-warning\">\n",
      "          Current\n",
      "         </div>\n",
      "         <!-- -->\n",
      "        </div>\n",
      "        <div _ngcontent-gib-c13=\"\">\n",
      "         <span class=\"NormalTextRun SCXW252560103 BCX8\">\n",
      "          Passengers must board trains on the we\n",
      "         </span>\n",
      "         <span class=\"NormalTextRun SCXW252560103 BCX8\">\n",
      "          st\n",
      "         </span>\n",
      "         <span class=\"NormalTextRun SCXW252560103 BCX8\">\n",
      "          bound platforms from Allegheny to Huntingdon Stations from 8 p.m. until the end of service due to scheduled construction.\n",
      "         </span>\n",
      "        </div>\n",
      "       </div>\n",
      "      </div>\n",
      "      <!-- -->\n",
      "     </div>\n",
      "     <!-- -->\n",
      "    </div>\n",
      "   </app-card-alerts>\n",
      "  </li>\n",
      "  <li _ngcontent-gib-c36=\"\" class=\"border-bottom border-lightgray alert-card\">\n",
      "   <app-card-alerts _ngcontent-gib-c36=\"\" _nghost-gib-c13=\"\">\n",
      "    <div _ngcontent-gib-c13=\"\" class=\"px-3 py-4 cursor-pointer\">\n",
      "     <div _ngcontent-gib-c13=\"\" class=\"d-flex gap-5 flex-row align-items-center\">\n",
      "      <div _ngcontent-gib-c13=\"\" class=\"d-flex gap-3 flex-fill\">\n",
      "       <svg-icon _ngcontent-gib-c13=\"\">\n",
      "        <svg _ngcontent-gib-c13=\"\" aria-hidden=\"true\" height=\"33\" id=\"b\" style=\"width: 25px; fill: rgb(51, 51, 51);\" viewbox=\"0 0 33 33\" width=\"33\" xmlns=\"http://www.w3.org/2000/svg\">\n",
      "         <g _ngcontent-gib-c13=\"\" id=\"c\">\n",
      "          <path _ngcontent-gib-c13=\"\" d=\"m4.71,0C2.11,0,0,2.11,0,4.71v23.57c0,2.6,2.11,4.71,4.71,4.71h23.57c2.6,0,4.71-2.11,4.71-4.71V4.71c0-2.6-2.11-4.71-4.71-4.71H4.71Zm11.79,7.07c.98,0,1.77.79,1.77,1.77v8.25c0,.98-.79,1.77-1.77,1.77s-1.77-.79-1.77-1.77v-8.25c0-.98.79-1.77,1.77-1.77Zm-2.36,16.5c0-1.3,1.06-2.36,2.36-2.36s2.36,1.06,2.36,2.36-1.06,2.36-2.36,2.36-2.36-1.06-2.36-2.36Z\">\n",
      "          </path>\n",
      "         </g>\n",
      "        </svg>\n",
      "       </svg-icon>\n",
      "       <div _ngcontent-gib-c13=\"\">\n",
      "        <div _ngcontent-gib-c13=\"\" class=\"d-flex gap-2 border-primary\">\n",
      "         <h5 _ngcontent-gib-c13=\"\" class=\"m-0\">\n",
      "          Advisory\n",
      "         </h5>\n",
      "         <div _ngcontent-gib-c13=\"\" class=\"badge d-flex align-items-center text-uppercase text-black bg-warning\">\n",
      "          Current\n",
      "         </div>\n",
      "         <!-- -->\n",
      "        </div>\n",
      "        <div _ngcontent-gib-c13=\"\">\n",
      "         Early Weekend Station Closures\n",
      "        </div>\n",
      "       </div>\n",
      "      </div>\n",
      "      <svg-icon _ngcontent-gib-c13=\"\" class=\"d-flex\">\n",
      "       <svg _ngcontent-gib-c13=\"\" aria-hidden=\"true\" fill=\"none\" style=\"width: 16px; height: 16px; fill: rgb(51, 51, 51);\" viewbox=\"3.6 8.6 16.8 9.6\" xmlns=\"http://www.w3.org/2000/svg\">\n",
      "        <g _ngcontent-gib-c13=\"\">\n",
      "         <path _ngcontent-gib-c13=\"\" d=\"M5.99998 7.2L12 13.2L18 7.2L20.4 8.4L12 16.8L3.59998 8.4L5.99998 7.2Z\" fill=\"currentColor\">\n",
      "         </path>\n",
      "        </g>\n",
      "       </svg>\n",
      "      </svg-icon>\n",
      "      <!-- -->\n",
      "     </div>\n",
      "     <!-- -->\n",
      "    </div>\n",
      "   </app-card-alerts>\n",
      "  </li>\n",
      "  <li _ngcontent-gib-c36=\"\" class=\"border-bottom border-lightgray alert-card\">\n",
      "   <app-card-alerts _ngcontent-gib-c36=\"\" _nghost-gib-c13=\"\">\n",
      "    <div _ngcontent-gib-c13=\"\" class=\"px-3 py-4 cursor-pointer\">\n",
      "     <div _ngcontent-gib-c13=\"\" class=\"d-flex gap-5 flex-row align-items-center\">\n",
      "      <div _ngcontent-gib-c13=\"\" class=\"d-flex gap-3 flex-fill\">\n",
      "       <svg-icon _ngcontent-gib-c13=\"\">\n",
      "        <svg _ngcontent-gib-c13=\"\" aria-hidden=\"true\" height=\"33\" id=\"b\" style=\"width: 25px; fill: rgb(51, 51, 51);\" viewbox=\"0 0 33 33\" width=\"33\" xmlns=\"http://www.w3.org/2000/svg\">\n",
      "         <g _ngcontent-gib-c13=\"\" id=\"c\">\n",
      "          <path _ngcontent-gib-c13=\"\" d=\"m4.71,0C2.11,0,0,2.11,0,4.71v23.57c0,2.6,2.11,4.71,4.71,4.71h23.57c2.6,0,4.71-2.11,4.71-4.71V4.71c0-2.6-2.11-4.71-4.71-4.71H4.71Zm11.79,7.07c.98,0,1.77.79,1.77,1.77v8.25c0,.98-.79,1.77-1.77,1.77s-1.77-.79-1.77-1.77v-8.25c0-.98.79-1.77,1.77-1.77Zm-2.36,16.5c0-1.3,1.06-2.36,2.36-2.36s2.36,1.06,2.36,2.36-1.06,2.36-2.36,2.36-2.36-1.06-2.36-2.36Z\">\n",
      "          </path>\n",
      "         </g>\n",
      "        </svg>\n",
      "       </svg-icon>\n",
      "       <div _ngcontent-gib-c13=\"\">\n",
      "        <div _ngcontent-gib-c13=\"\" class=\"d-flex gap-2 border-primary\">\n",
      "         <h5 _ngcontent-gib-c13=\"\" class=\"m-0\">\n",
      "          Advisory\n",
      "         </h5>\n",
      "         <div _ngcontent-gib-c13=\"\" class=\"badge d-flex align-items-center text-uppercase text-black bg-warning\">\n",
      "          Current\n",
      "         </div>\n",
      "         <!-- -->\n",
      "        </div>\n",
      "        <div _ngcontent-gib-c13=\"\">\n",
      "         Temporary Closure of 30th &amp; Market Street Entrance\n",
      "        </div>\n",
      "       </div>\n",
      "      </div>\n",
      "      <svg-icon _ngcontent-gib-c13=\"\" class=\"d-flex\">\n",
      "       <svg _ngcontent-gib-c13=\"\" aria-hidden=\"true\" fill=\"none\" style=\"width: 16px; height: 16px; fill: rgb(51, 51, 51);\" viewbox=\"3.6 8.6 16.8 9.6\" xmlns=\"http://www.w3.org/2000/svg\">\n",
      "        <g _ngcontent-gib-c13=\"\">\n",
      "         <path _ngcontent-gib-c13=\"\" d=\"M5.99998 7.2L12 13.2L18 7.2L20.4 8.4L12 16.8L3.59998 8.4L5.99998 7.2Z\" fill=\"currentColor\">\n",
      "         </path>\n",
      "        </g>\n",
      "       </svg>\n",
      "      </svg-icon>\n",
      "      <!-- -->\n",
      "     </div>\n",
      "     <!-- -->\n",
      "    </div>\n",
      "   </app-card-alerts>\n",
      "  </li>\n",
      "  <li _ngcontent-gib-c36=\"\" class=\"border-bottom border-lightgray alert-card\">\n",
      "   <app-card-alerts _ngcontent-gib-c36=\"\" _nghost-gib-c13=\"\">\n",
      "    <div _ngcontent-gib-c13=\"\" class=\"px-3 py-4 cursor-pointer\">\n",
      "     <div _ngcontent-gib-c13=\"\" class=\"d-flex gap-5 flex-row align-items-center\">\n",
      "      <div _ngcontent-gib-c13=\"\" class=\"d-flex gap-3 flex-fill\">\n",
      "       <svg-icon _ngcontent-gib-c13=\"\">\n",
      "        <svg _ngcontent-gib-c13=\"\" aria-hidden=\"true\" height=\"33\" id=\"b\" style=\"width: 25px; fill: rgb(51, 51, 51);\" viewbox=\"0 0 33 33\" width=\"33\" xmlns=\"http://www.w3.org/2000/svg\">\n",
      "         <g _ngcontent-gib-c13=\"\" id=\"c\">\n",
      "          <path _ngcontent-gib-c13=\"\" d=\"m4.71,0C2.11,0,0,2.11,0,4.71v23.57c0,2.6,2.11,4.71,4.71,4.71h23.57c2.6,0,4.71-2.11,4.71-4.71V4.71c0-2.6-2.11-4.71-4.71-4.71H4.71Zm11.79,7.07c.98,0,1.77.79,1.77,1.77v8.25c0,.98-.79,1.77-1.77,1.77s-1.77-.79-1.77-1.77v-8.25c0-.98.79-1.77,1.77-1.77Zm-2.36,16.5c0-1.3,1.06-2.36,2.36-2.36s2.36,1.06,2.36,2.36-1.06,2.36-2.36,2.36-2.36-1.06-2.36-2.36Z\">\n",
      "          </path>\n",
      "         </g>\n",
      "        </svg>\n",
      "       </svg-icon>\n",
      "       <div _ngcontent-gib-c13=\"\">\n",
      "        <div _ngcontent-gib-c13=\"\" class=\"d-flex gap-2 border-primary\">\n",
      "         <h5 _ngcontent-gib-c13=\"\" class=\"m-0\">\n",
      "          Advisory\n",
      "         </h5>\n",
      "         <div _ngcontent-gib-c13=\"\" class=\"badge d-flex align-items-center text-uppercase text-black bg-secondary text-white\">\n",
      "          Upcoming\n",
      "         </div>\n",
      "         <!-- -->\n",
      "        </div>\n",
      "        <div _ngcontent-gib-c13=\"\">\n",
      "         Late Night Deep Cleaning\n",
      "        </div>\n",
      "       </div>\n",
      "      </div>\n",
      "      <svg-icon _ngcontent-gib-c13=\"\" class=\"d-flex\">\n",
      "       <svg _ngcontent-gib-c13=\"\" aria-hidden=\"true\" fill=\"none\" style=\"width: 16px; height: 16px; fill: rgb(51, 51, 51);\" viewbox=\"3.6 8.6 16.8 9.6\" xmlns=\"http://www.w3.org/2000/svg\">\n",
      "        <g _ngcontent-gib-c13=\"\">\n",
      "         <path _ngcontent-gib-c13=\"\" d=\"M5.99998 7.2L12 13.2L18 7.2L20.4 8.4L12 16.8L3.59998 8.4L5.99998 7.2Z\" fill=\"currentColor\">\n",
      "         </path>\n",
      "        </g>\n",
      "       </svg>\n",
      "      </svg-icon>\n",
      "      <!-- -->\n",
      "     </div>\n",
      "     <!-- -->\n",
      "    </div>\n",
      "   </app-card-alerts>\n",
      "  </li>\n",
      "  <!-- -->\n",
      " </ul>\n",
      "</li>\n",
      "\n"
     ]
    }
   ],
   "source": [
    "print(route_containers[0].prettify())"
   ]
  },
  {
   "cell_type": "code",
   "execution_count": 161,
   "metadata": {
    "tags": []
   },
   "outputs": [],
   "source": [
    "data = []\n",
    "\n",
    "for route_container in route_containers:\n",
    "    # The route name\n",
    "    route_name = route_container.select_one(\"app-route-display\").text.strip()\n",
    "\n",
    "    # Loop over list of alerts\n",
    "    for alert_card in route_container.select(\".alert-card\"):\n",
    "        # Type of alert\n",
    "        alert_type = alert_card.select_one(\"h5\").text.strip()\n",
    "\n",
    "        # The status, e.g. current\n",
    "        when = alert_card.select_one(\".badge\").text.strip()\n",
    "\n",
    "        # Description\n",
    "        desc = alert_card.select_one(\n",
    "            \"app-card-alerts > div > div > div > div > div:nth-child(2)\"\n",
    "        ).text.strip()\n",
    "\n",
    "        # Save it\n",
    "        data.append([route_name, alert_type, when, desc])\n",
    "\n",
    "\n",
    "data = pd.DataFrame(data, columns=[\"route_name\", \"alert_type\", \"when\", \"description\"])"
   ]
  },
  {
   "cell_type": "code",
   "execution_count": 162,
   "metadata": {
    "tags": []
   },
   "outputs": [
    {
     "data": {
      "text/html": [
       "<div>\n",
       "<style scoped>\n",
       "    .dataframe tbody tr th:only-of-type {\n",
       "        vertical-align: middle;\n",
       "    }\n",
       "\n",
       "    .dataframe tbody tr th {\n",
       "        vertical-align: top;\n",
       "    }\n",
       "\n",
       "    .dataframe thead th {\n",
       "        text-align: right;\n",
       "    }\n",
       "</style>\n",
       "<table border=\"1\" class=\"dataframe\">\n",
       "  <thead>\n",
       "    <tr style=\"text-align: right;\">\n",
       "      <th></th>\n",
       "      <th>route_name</th>\n",
       "      <th>alert_type</th>\n",
       "      <th>when</th>\n",
       "      <th>description</th>\n",
       "    </tr>\n",
       "  </thead>\n",
       "  <tbody>\n",
       "    <tr>\n",
       "      <th>0</th>\n",
       "      <td>Market-Frankford Line</td>\n",
       "      <td>Alert</td>\n",
       "      <td>Current</td>\n",
       "      <td>Passengers must board trains on the westbound ...</td>\n",
       "    </tr>\n",
       "    <tr>\n",
       "      <th>1</th>\n",
       "      <td>Market-Frankford Line</td>\n",
       "      <td>Advisory</td>\n",
       "      <td>Current</td>\n",
       "      <td>Early Weekend Station Closures</td>\n",
       "    </tr>\n",
       "    <tr>\n",
       "      <th>2</th>\n",
       "      <td>Market-Frankford Line</td>\n",
       "      <td>Advisory</td>\n",
       "      <td>Current</td>\n",
       "      <td>Temporary Closure of 30th &amp; Market Street Entr...</td>\n",
       "    </tr>\n",
       "    <tr>\n",
       "      <th>3</th>\n",
       "      <td>Market-Frankford Line</td>\n",
       "      <td>Advisory</td>\n",
       "      <td>Upcoming</td>\n",
       "      <td>Late Night Deep Cleaning</td>\n",
       "    </tr>\n",
       "    <tr>\n",
       "      <th>4</th>\n",
       "      <td>Route 10</td>\n",
       "      <td>Advisory</td>\n",
       "      <td>Current</td>\n",
       "      <td>Temporary Closure of 30th &amp; Market Street Entr...</td>\n",
       "    </tr>\n",
       "    <tr>\n",
       "      <th>5</th>\n",
       "      <td>Route 10</td>\n",
       "      <td>Advisory</td>\n",
       "      <td>Current</td>\n",
       "      <td>Station Deep Cleaning</td>\n",
       "    </tr>\n",
       "    <tr>\n",
       "      <th>6</th>\n",
       "      <td>Route 10</td>\n",
       "      <td>Advisory</td>\n",
       "      <td>Upcoming</td>\n",
       "      <td>Late Night Deep Cleaning</td>\n",
       "    </tr>\n",
       "    <tr>\n",
       "      <th>7</th>\n",
       "      <td>Route 11</td>\n",
       "      <td>Advisory</td>\n",
       "      <td>Current</td>\n",
       "      <td>Temporary Closure of 30th &amp; Market Street Entr...</td>\n",
       "    </tr>\n",
       "    <tr>\n",
       "      <th>8</th>\n",
       "      <td>Route 11</td>\n",
       "      <td>Advisory</td>\n",
       "      <td>Current</td>\n",
       "      <td>Station Deep Cleaning</td>\n",
       "    </tr>\n",
       "    <tr>\n",
       "      <th>9</th>\n",
       "      <td>Route 11</td>\n",
       "      <td>Advisory</td>\n",
       "      <td>Upcoming</td>\n",
       "      <td>Late Night Deep Cleaning</td>\n",
       "    </tr>\n",
       "    <tr>\n",
       "      <th>10</th>\n",
       "      <td>Route 13</td>\n",
       "      <td>Advisory</td>\n",
       "      <td>Current</td>\n",
       "      <td>Temporary Closure of 30th &amp; Market Street Entr...</td>\n",
       "    </tr>\n",
       "    <tr>\n",
       "      <th>11</th>\n",
       "      <td>Route 13</td>\n",
       "      <td>Advisory</td>\n",
       "      <td>Current</td>\n",
       "      <td>Station Deep Cleaning</td>\n",
       "    </tr>\n",
       "    <tr>\n",
       "      <th>12</th>\n",
       "      <td>Route 13</td>\n",
       "      <td>Advisory</td>\n",
       "      <td>Upcoming</td>\n",
       "      <td>Late Night Deep Cleaning</td>\n",
       "    </tr>\n",
       "    <tr>\n",
       "      <th>13</th>\n",
       "      <td>Route 34</td>\n",
       "      <td>Advisory</td>\n",
       "      <td>Current</td>\n",
       "      <td>Temporary Closure of 30th &amp; Market Street Entr...</td>\n",
       "    </tr>\n",
       "    <tr>\n",
       "      <th>14</th>\n",
       "      <td>Route 34</td>\n",
       "      <td>Advisory</td>\n",
       "      <td>Current</td>\n",
       "      <td>Station Deep Cleaning</td>\n",
       "    </tr>\n",
       "    <tr>\n",
       "      <th>15</th>\n",
       "      <td>Route 34</td>\n",
       "      <td>Advisory</td>\n",
       "      <td>Upcoming</td>\n",
       "      <td>Late Night Deep Cleaning</td>\n",
       "    </tr>\n",
       "    <tr>\n",
       "      <th>16</th>\n",
       "      <td>Route 34</td>\n",
       "      <td>Detour</td>\n",
       "      <td>Current</td>\n",
       "      <td>24/7 Until Further Notice, EB via City Line av...</td>\n",
       "    </tr>\n",
       "    <tr>\n",
       "      <th>17</th>\n",
       "      <td>Route 36</td>\n",
       "      <td>Advisory</td>\n",
       "      <td>Current</td>\n",
       "      <td>Temporary Closure of 30th &amp; Market Street Entr...</td>\n",
       "    </tr>\n",
       "    <tr>\n",
       "      <th>18</th>\n",
       "      <td>Route 36</td>\n",
       "      <td>Advisory</td>\n",
       "      <td>Current</td>\n",
       "      <td>Station Deep Cleaning</td>\n",
       "    </tr>\n",
       "    <tr>\n",
       "      <th>19</th>\n",
       "      <td>Route 36</td>\n",
       "      <td>Advisory</td>\n",
       "      <td>Current</td>\n",
       "      <td>Shuttle Busing</td>\n",
       "    </tr>\n",
       "  </tbody>\n",
       "</table>\n",
       "</div>"
      ],
      "text/plain": [
       "               route_name alert_type      when  \\\n",
       "0   Market-Frankford Line      Alert   Current   \n",
       "1   Market-Frankford Line   Advisory   Current   \n",
       "2   Market-Frankford Line   Advisory   Current   \n",
       "3   Market-Frankford Line   Advisory  Upcoming   \n",
       "4                Route 10   Advisory   Current   \n",
       "5                Route 10   Advisory   Current   \n",
       "6                Route 10   Advisory  Upcoming   \n",
       "7                Route 11   Advisory   Current   \n",
       "8                Route 11   Advisory   Current   \n",
       "9                Route 11   Advisory  Upcoming   \n",
       "10               Route 13   Advisory   Current   \n",
       "11               Route 13   Advisory   Current   \n",
       "12               Route 13   Advisory  Upcoming   \n",
       "13               Route 34   Advisory   Current   \n",
       "14               Route 34   Advisory   Current   \n",
       "15               Route 34   Advisory  Upcoming   \n",
       "16               Route 34     Detour   Current   \n",
       "17               Route 36   Advisory   Current   \n",
       "18               Route 36   Advisory   Current   \n",
       "19               Route 36   Advisory   Current   \n",
       "\n",
       "                                          description  \n",
       "0   Passengers must board trains on the westbound ...  \n",
       "1                      Early Weekend Station Closures  \n",
       "2   Temporary Closure of 30th & Market Street Entr...  \n",
       "3                            Late Night Deep Cleaning  \n",
       "4   Temporary Closure of 30th & Market Street Entr...  \n",
       "5                               Station Deep Cleaning  \n",
       "6                            Late Night Deep Cleaning  \n",
       "7   Temporary Closure of 30th & Market Street Entr...  \n",
       "8                               Station Deep Cleaning  \n",
       "9                            Late Night Deep Cleaning  \n",
       "10  Temporary Closure of 30th & Market Street Entr...  \n",
       "11                              Station Deep Cleaning  \n",
       "12                           Late Night Deep Cleaning  \n",
       "13  Temporary Closure of 30th & Market Street Entr...  \n",
       "14                              Station Deep Cleaning  \n",
       "15                           Late Night Deep Cleaning  \n",
       "16  24/7 Until Further Notice, EB via City Line av...  \n",
       "17  Temporary Closure of 30th & Market Street Entr...  \n",
       "18                              Station Deep Cleaning  \n",
       "19                                     Shuttle Busing  "
      ]
     },
     "execution_count": 162,
     "metadata": {},
     "output_type": "execute_result"
    }
   ],
   "source": [
    "data.head(n=20)"
   ]
  },
  {
   "cell_type": "markdown",
   "metadata": {},
   "source": [
    "Success!"
   ]
  },
  {
   "cell_type": "markdown",
   "metadata": {
    "slideshow": {
     "slide_type": "slide"
    }
   },
   "source": [
    "### Example #2: Scraping the Philadelphia Municipal Courts portal\n",
    "\n",
    "- URL: https://ujsportal.pacourts.us/CaseSearch\n",
    "- Given a Police incident number, we'll see if there is an associated court case with the incident\n",
    "\n",
    "**Problem:** we'll need to click several buttons before we can see the info we want!"
   ]
  },
  {
   "cell_type": "markdown",
   "metadata": {
    "slideshow": {
     "slide_type": "slide"
    }
   },
   "source": [
    "### Run the scraping analysis\n",
    "\n",
    "Strategy:\n",
    "\n",
    "- Rely on the Web Inspector to identify specific elements of the webpage\n",
    "- Use Selenium to interact with the webpage\n",
    "    - Change dropdown elements\n",
    "    - Click buttons"
   ]
  },
  {
   "cell_type": "markdown",
   "metadata": {
    "slideshow": {
     "slide_type": "slide"
    }
   },
   "source": [
    "#### 1. Open the URL"
   ]
  },
  {
   "cell_type": "code",
   "execution_count": 163,
   "metadata": {
    "slideshow": {
     "slide_type": "slide"
    }
   },
   "outputs": [],
   "source": [
    "# Open the URL\n",
    "url = \"https://ujsportal.pacourts.us/CaseSearch\"\n",
    "driver.get(url)"
   ]
  },
  {
   "cell_type": "markdown",
   "metadata": {
    "slideshow": {
     "slide_type": "slide"
    }
   },
   "source": [
    "#### 2. Create a dropdown \"Select\" element\n",
    "\n",
    "We'll need to: \n",
    "- Select the dropdown element on the main page by its ID\n",
    "- Initialize a `selenium` `Select()` object"
   ]
  },
  {
   "cell_type": "code",
   "execution_count": 164,
   "metadata": {
    "slideshow": {
     "slide_type": "subslide"
    }
   },
   "outputs": [],
   "source": [
    "# Use the Web Inspector to get the css selector of the dropdown select element\n",
    "dropdown_selector = \"#SearchBy-Control > select\""
   ]
  },
  {
   "cell_type": "code",
   "execution_count": 165,
   "metadata": {
    "slideshow": {
     "slide_type": "subslide"
    }
   },
   "outputs": [],
   "source": [
    "from selenium.webdriver.common.by import By\n",
    "\n",
    "# Select the dropdown by the element's CSS selector\n",
    "dropdown = driver.find_element(By.CSS_SELECTOR, dropdown_selector)"
   ]
  },
  {
   "cell_type": "code",
   "execution_count": 166,
   "metadata": {
    "slideshow": {
     "slide_type": "subslide"
    }
   },
   "outputs": [],
   "source": [
    "from selenium.webdriver.support.ui import Select\n",
    "\n",
    "# Initialize a Select object\n",
    "dropdown_select = Select(dropdown)"
   ]
  },
  {
   "cell_type": "markdown",
   "metadata": {
    "slideshow": {
     "slide_type": "slide"
    }
   },
   "source": [
    "#### 3. Change the selected text in the dropdown\n",
    "\n",
    "Change the selected element: \"Police Incident/Complaint Number\" "
   ]
  },
  {
   "cell_type": "code",
   "execution_count": 167,
   "metadata": {
    "slideshow": {
     "slide_type": "subslide"
    }
   },
   "outputs": [],
   "source": [
    "# Set the selected text in the dropdown element\n",
    "dropdown_select.select_by_visible_text(\"Incident Number\")"
   ]
  },
  {
   "cell_type": "markdown",
   "metadata": {
    "slideshow": {
     "slide_type": "slide"
    }
   },
   "source": [
    "#### 4. Set the incident number "
   ]
  },
  {
   "cell_type": "code",
   "execution_count": 168,
   "metadata": {
    "slideshow": {
     "slide_type": "subslide"
    }
   },
   "outputs": [],
   "source": [
    "# Get the input element for the DC number\n",
    "incident_input_selector = \"#IncidentNumber-Control > input\"\n",
    "incident_input = driver.find_element(By.CSS_SELECTOR, incident_input_selector)"
   ]
  },
  {
   "cell_type": "code",
   "execution_count": 169,
   "metadata": {
    "slideshow": {
     "slide_type": "subslide"
    }
   },
   "outputs": [],
   "source": [
    "# Clear any existing entry\n",
    "incident_input.clear()\n",
    "\n",
    "# Input our example incident number\n",
    "incident_input.send_keys(\"1725088232\")"
   ]
  },
  {
   "cell_type": "markdown",
   "metadata": {
    "slideshow": {
     "slide_type": "slide"
    }
   },
   "source": [
    "#### 5. Click the search button!"
   ]
  },
  {
   "cell_type": "code",
   "execution_count": 170,
   "metadata": {
    "slideshow": {
     "slide_type": "subslide"
    }
   },
   "outputs": [],
   "source": [
    "# Submit the search\n",
    "search_button_id = \"btnSearch\"\n",
    "driver.find_element(By.ID, search_button_id).click()"
   ]
  },
  {
   "cell_type": "markdown",
   "metadata": {
    "slideshow": {
     "slide_type": "slide"
    }
   },
   "source": [
    "#### 6. Use BeautifulSoup to parse the results\n",
    "\n",
    "- Use the `page_source` attribute to get the current HTML displayed on the page\n",
    "- Initialize a \"soup\" object with the HTML"
   ]
  },
  {
   "cell_type": "code",
   "execution_count": 171,
   "metadata": {
    "slideshow": {
     "slide_type": "subslide"
    }
   },
   "outputs": [],
   "source": [
    "courtsSoup = BeautifulSoup(driver.page_source, \"html.parser\")"
   ]
  },
  {
   "cell_type": "markdown",
   "metadata": {
    "slideshow": {
     "slide_type": "slide"
    }
   },
   "source": [
    "- Identify the element holding all of the results\n",
    "- Within this container, find the `<table>` element and each `<tr>` element within the table"
   ]
  },
  {
   "cell_type": "code",
   "execution_count": 172,
   "metadata": {
    "slideshow": {
     "slide_type": "subslide"
    }
   },
   "outputs": [],
   "source": [
    "# Select the results container by its ID \n",
    "results_table = courtsSoup.select_one(\"#caseSearchResultGrid\")"
   ]
  },
  {
   "cell_type": "code",
   "execution_count": 173,
   "metadata": {
    "slideshow": {
     "slide_type": "subslide"
    }
   },
   "outputs": [],
   "source": [
    "# Get all of the <tr> rows inside the tbody element \n",
    "# NOTE: we using nested selections here!\n",
    "results_rows = results_table.select(\"tbody > tr\")"
   ]
  },
  {
   "cell_type": "markdown",
   "metadata": {
    "slideshow": {
     "slide_type": "slide"
    }
   },
   "source": [
    "**Example:** The number of court cases"
   ]
  },
  {
   "cell_type": "code",
   "execution_count": 174,
   "metadata": {
    "slideshow": {
     "slide_type": "subslide"
    }
   },
   "outputs": [
    {
     "name": "stdout",
     "output_type": "stream",
     "text": [
      "Number of courts cases: 2\n"
     ]
    }
   ],
   "source": [
    "# Number of court cases\n",
    "number_of_cases = len(results_rows)\n",
    "print(f\"Number of courts cases: {number_of_cases}\")"
   ]
  },
  {
   "cell_type": "markdown",
   "metadata": {
    "slideshow": {
     "slide_type": "slide"
    }
   },
   "source": [
    "**Example:** Extract the text elements from the first row of the results"
   ]
  },
  {
   "cell_type": "code",
   "execution_count": 175,
   "metadata": {
    "slideshow": {
     "slide_type": "subslide"
    }
   },
   "outputs": [],
   "source": [
    "first_row = results_rows[0]"
   ]
  },
  {
   "cell_type": "code",
   "execution_count": 176,
   "metadata": {
    "slideshow": {
     "slide_type": "slide"
    }
   },
   "outputs": [
    {
     "name": "stdout",
     "output_type": "stream",
     "text": [
      "<tr class=\"slide-active\">\n",
      " <td class=\"display-none\">\n",
      "  1\n",
      " </td>\n",
      " <td class=\"display-none\">\n",
      "  0\n",
      " </td>\n",
      " <td>\n",
      "  MC-51-CR-0030672-2017\n",
      " </td>\n",
      " <td>\n",
      "  Common Pleas\n",
      " </td>\n",
      " <td>\n",
      "  Comm. v. Velquez, Victor\n",
      " </td>\n",
      " <td>\n",
      "  Closed\n",
      " </td>\n",
      " <td>\n",
      "  10/13/2017\n",
      " </td>\n",
      " <td>\n",
      "  Velquez, Victor\n",
      " </td>\n",
      " <td>\n",
      "  09/05/1974\n",
      " </td>\n",
      " <td>\n",
      "  Philadelphia\n",
      " </td>\n",
      " <td>\n",
      "  MC-01-51-Crim\n",
      " </td>\n",
      " <td>\n",
      "  U0981035\n",
      " </td>\n",
      " <td>\n",
      "  1725088232-0030672\n",
      " </td>\n",
      " <td>\n",
      "  1725088232\n",
      " </td>\n",
      " <td class=\"display-none\">\n",
      " </td>\n",
      " <td class=\"display-none\">\n",
      " </td>\n",
      " <td class=\"display-none\">\n",
      " </td>\n",
      " <td class=\"display-none\">\n",
      " </td>\n",
      " <td>\n",
      "  <div class=\"grid inline-block\">\n",
      "   <div>\n",
      "    <div class=\"inline-block\">\n",
      "     <a class=\"icon-wrapper\" href=\"/Report/CpDocketSheet?docketNumber=MC-51-CR-0030672-2017&amp;dnh=%2FGgePQykMpAymRENgxLBzg%3D%3D\" target=\"_blank\">\n",
      "      <img alt=\"Docket Sheet\" class=\"icon-size\" src=\"https://ujsportal.pacourts.us/resource/Images/svg-defs.svg?v=qJ77ypOpzSMFk7r1gsI6H0xjdteha_ZIjvGslGgQV2M#icon-document-letter-D\" title=\"Docket Sheet\"/>\n",
      "      <label class=\"link-text\">\n",
      "       Docket Sheet\n",
      "      </label>\n",
      "     </a>\n",
      "    </div>\n",
      "   </div>\n",
      "  </div>\n",
      "  <div class=\"grid inline-block\">\n",
      "   <div>\n",
      "    <div class=\"inline-block\">\n",
      "     <a class=\"icon-wrapper\" href=\"/Report/CpCourtSummary?docketNumber=MC-51-CR-0030672-2017&amp;dnh=%2FGgePQykMpAymRENgxLBzg%3D%3D\" target=\"_blank\">\n",
      "      <img alt=\"Court Summary\" class=\"icon-size\" src=\"https://ujsportal.pacourts.us/resource/Images/svg-defs.svg?v=qJ77ypOpzSMFk7r1gsI6H0xjdteha_ZIjvGslGgQV2M#icon-court-summary\" title=\"Court Summary\"/>\n",
      "      <label class=\"link-text\">\n",
      "       Court Summary\n",
      "      </label>\n",
      "     </a>\n",
      "    </div>\n",
      "   </div>\n",
      "  </div>\n",
      " </td>\n",
      "</tr>\n",
      "\n"
     ]
    }
   ],
   "source": [
    "print(first_row.prettify())"
   ]
  },
  {
   "cell_type": "code",
   "execution_count": 177,
   "metadata": {
    "slideshow": {
     "slide_type": "subslide"
    }
   },
   "outputs": [
    {
     "name": "stdout",
     "output_type": "stream",
     "text": [
      "1\n",
      "0\n",
      "MC-51-CR-0030672-2017\n",
      "Common Pleas\n",
      "Comm. v. Velquez, Victor\n",
      "Closed\n",
      "10/13/2017\n",
      "Velquez, Victor\n",
      "09/05/1974\n",
      "Philadelphia\n",
      "MC-01-51-Crim\n",
      "U0981035\n",
      "1725088232-0030672\n",
      "1725088232\n",
      "Docket SheetCourt Summary\n"
     ]
    }
   ],
   "source": [
    "# Extract out all of the \"<td>\" cells from the first row\n",
    "td_cells = first_row.select(\"td\")\n",
    "\n",
    "# Loop over each <td> cell\n",
    "for cell in td_cells:\n",
    "    \n",
    "    # Extract out the text from the <td> element\n",
    "    text = cell.text\n",
    "    \n",
    "    # Print out text\n",
    "    if text != \"\":\n",
    "        print(text)"
   ]
  },
  {
   "cell_type": "markdown",
   "metadata": {
    "slideshow": {
     "slide_type": "slide"
    }
   },
   "source": [
    "#### 7. Close the driver!"
   ]
  },
  {
   "cell_type": "code",
   "execution_count": 178,
   "metadata": {
    "hide_input": false,
    "slideshow": {
     "slide_type": "subslide"
    }
   },
   "outputs": [],
   "source": [
    "driver.close()"
   ]
  },
  {
   "cell_type": "markdown",
   "metadata": {
    "slideshow": {
     "slide_type": "subslide"
    }
   },
   "source": [
    "## That's it!\n",
    "\n",
    "- Next week: part 2 of \"getting data\" with APIs\n",
    "- See you on Monday!"
   ]
  }
 ],
 "metadata": {
  "celltoolbar": "Slideshow",
  "kernelspec": {
   "display_name": "Python 3 (ipykernel)",
   "language": "python",
   "name": "python3"
  },
  "language_info": {
   "codemirror_mode": {
    "name": "ipython",
    "version": 3
   },
   "file_extension": ".py",
   "mimetype": "text/x-python",
   "name": "python",
   "nbconvert_exporter": "python",
   "pygments_lexer": "ipython3",
   "version": "3.10.12"
  }
 },
 "nbformat": 4,
 "nbformat_minor": 4
}
